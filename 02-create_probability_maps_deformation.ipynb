{
 "cells": [
  {
   "attachments": {},
   "cell_type": "markdown",
   "id": "80263a75",
   "metadata": {
    "papermill": {
     "duration": 0.036624,
     "end_time": "2025-07-09T02:32:24.204314",
     "exception": false,
     "start_time": "2025-07-09T02:32:24.167690",
     "status": "completed"
    },
    "tags": []
   },
   "source": [
    "# Probability grids\n",
    "\n",
    "This notebook creates the time-dependent probability maps and writes them to file (`.nc` format), using the models trained in the previous notebook (`01-create_classifiers.ipynb`). This notebook must have been run previously."
   ]
  },
  {
   "cell_type": "markdown",
   "id": "36e80d65",
   "metadata": {
    "papermill": {
     "duration": 0.004241,
     "end_time": "2025-07-09T02:32:24.212871",
     "exception": false,
     "start_time": "2025-07-09T02:32:24.208630",
     "status": "completed"
    },
    "tags": []
   },
   "source": [
    "## Notebook options\n",
    "\n",
    "These cells set some of the important variables and definitions used throughout the notebook."
   ]
  },
  {
   "cell_type": "code",
   "execution_count": 1,
   "id": "b4e52a19",
   "metadata": {
    "execution": {
     "iopub.execute_input": "2025-07-09T02:32:24.222254Z",
     "iopub.status.busy": "2025-07-09T02:32:24.221853Z",
     "iopub.status.idle": "2025-07-09T02:32:24.228412Z",
     "shell.execute_reply": "2025-07-09T02:32:24.227547Z"
    },
    "papermill": {
     "duration": 0.013353,
     "end_time": "2025-07-09T02:32:24.230227",
     "exception": false,
     "start_time": "2025-07-09T02:32:24.216874",
     "status": "completed"
    },
    "tags": []
   },
   "outputs": [],
   "source": [
    "config_file = \"notebook_parameters_deformation.yml\""
   ]
  },
  {
   "cell_type": "code",
   "execution_count": 2,
   "id": "8df5ad8b",
   "metadata": {
    "execution": {
     "iopub.execute_input": "2025-07-09T02:32:24.236851Z",
     "iopub.status.busy": "2025-07-09T02:32:24.236547Z",
     "iopub.status.idle": "2025-07-09T02:32:24.332914Z",
     "shell.execute_reply": "2025-07-09T02:32:24.331270Z"
    },
    "papermill": {
     "duration": 0.102794,
     "end_time": "2025-07-09T02:32:24.335841",
     "exception": false,
     "start_time": "2025-07-09T02:32:24.233047",
     "status": "completed"
    },
    "tags": []
   },
   "outputs": [],
   "source": [
    "from lib.load_params import get_params\n",
    "\n",
    "params = get_params(config_file, notebook=\"02\")\n",
    "\n",
    "# If True, use training data extracted in notebook 00c\n",
    "# Else, use pre-prepared training data downloaded from Zenodo\n",
    "use_extracted_data = params[\"use_extracted_data\"]\n",
    "\n",
    "# Number of processes to use\n",
    "n_jobs = params[\"n_jobs\"]\n",
    "\n",
    "# Overwrite any existing output files\n",
    "overwrite = params[\"overwrite_output\"]\n",
    "\n",
    "# Control verbosity level of logging output\n",
    "verbose = params[\"verbose\"]\n",
    "\n",
    "# Output directory\n",
    "output_dir = params[\"output_dir\"]"
   ]
  },
  {
   "cell_type": "markdown",
   "id": "544fcfcf",
   "metadata": {
    "papermill": {
     "duration": 0.005601,
     "end_time": "2025-07-09T02:32:24.345850",
     "exception": false,
     "start_time": "2025-07-09T02:32:24.340249",
     "status": "completed"
    },
    "tags": []
   },
   "source": [
    "## Notebook setup\n",
    "\n",
    "Imports, definitions, etc."
   ]
  },
  {
   "cell_type": "markdown",
   "id": "dca6800a",
   "metadata": {
    "papermill": {
     "duration": 0.004028,
     "end_time": "2025-07-09T02:32:24.355413",
     "exception": false,
     "start_time": "2025-07-09T02:32:24.351385",
     "status": "completed"
    },
    "tags": []
   },
   "source": [
    "### Imports"
   ]
  },
  {
   "cell_type": "code",
   "execution_count": 3,
   "id": "5303979d",
   "metadata": {
    "execution": {
     "iopub.execute_input": "2025-07-09T02:32:24.364362Z",
     "iopub.status.busy": "2025-07-09T02:32:24.363986Z",
     "iopub.status.idle": "2025-07-09T02:32:29.269898Z",
     "shell.execute_reply": "2025-07-09T02:32:29.269064Z"
    },
    "papermill": {
     "duration": 4.912306,
     "end_time": "2025-07-09T02:32:29.271402",
     "exception": false,
     "start_time": "2025-07-09T02:32:24.359096",
     "status": "completed"
    },
    "tags": []
   },
   "outputs": [],
   "source": [
    "import os\n",
    "import time\n",
    "from datetime import timedelta\n",
    "\n",
    "import pandas as pd\n",
    "from joblib import load\n",
    "\n",
    "from lib.check_files import check_prepared_data\n",
    "from lib.pu import create_probability_grids"
   ]
  },
  {
   "attachments": {},
   "cell_type": "markdown",
   "id": "632c1c44",
   "metadata": {
    "papermill": {
     "duration": 0.002906,
     "end_time": "2025-07-09T02:32:29.277350",
     "exception": false,
     "start_time": "2025-07-09T02:32:29.274444",
     "status": "completed"
    },
    "tags": []
   },
   "source": [
    "### Input and output files"
   ]
  },
  {
   "cell_type": "code",
   "execution_count": 4,
   "id": "f01bd62d",
   "metadata": {
    "execution": {
     "iopub.execute_input": "2025-07-09T02:32:29.284330Z",
     "iopub.status.busy": "2025-07-09T02:32:29.283567Z",
     "iopub.status.idle": "2025-07-09T02:32:42.042253Z",
     "shell.execute_reply": "2025-07-09T02:32:42.041585Z"
    },
    "papermill": {
     "duration": 12.763604,
     "end_time": "2025-07-09T02:32:42.043957",
     "exception": false,
     "start_time": "2025-07-09T02:32:29.280353",
     "status": "completed"
    },
    "tags": []
   },
   "outputs": [],
   "source": [
    "if use_extracted_data:\n",
    "    data_dir = params[\"extracted_data_dir\"]\n",
    "else:\n",
    "    data_dir = check_prepared_data(\"prepared_data\", verbose=True)\n",
    "\n",
    "columns = [\n",
    "    \"lon\",\n",
    "    \"lat\",\n",
    "    \"present_lon\",\n",
    "    \"present_lat\",\n",
    "    \"age (Ma)\",\n",
    "    \"erosion (m)\",\n",
    "    \"region\",\n",
    "]\n",
    "\n",
    "data_filename = os.path.join(data_dir, \"grid_data_deformation.csv\")\n",
    "training_filename = os.path.join(data_dir, \"training_data_global_deformation.csv\")\n",
    "\n",
    "point_data = pd.read_csv(data_filename)\n",
    "df_out = point_data[columns]\n",
    "regions = list(pd.read_csv(training_filename)[\"region\"].unique())\n",
    "\n",
    "output_dir = os.path.join(output_dir, \"global\")"
   ]
  },
  {
   "attachments": {},
   "cell_type": "markdown",
   "id": "dc314a0d",
   "metadata": {
    "papermill": {
     "duration": 0.002628,
     "end_time": "2025-07-09T02:32:42.049549",
     "exception": false,
     "start_time": "2025-07-09T02:32:42.046921",
     "status": "completed"
    },
    "tags": []
   },
   "source": [
    "## Calculate probabilities\n",
    "\n",
    "Deposit probability will be calculated for the gridded data and written to a CSV file."
   ]
  },
  {
   "cell_type": "code",
   "execution_count": 5,
   "id": "5ac247e1",
   "metadata": {
    "execution": {
     "iopub.execute_input": "2025-07-09T02:32:42.055649Z",
     "iopub.status.busy": "2025-07-09T02:32:42.055349Z",
     "iopub.status.idle": "2025-07-09T02:42:34.017769Z",
     "shell.execute_reply": "2025-07-09T02:42:34.015762Z"
    },
    "papermill": {
     "duration": 592.0122,
     "end_time": "2025-07-09T02:42:34.064155",
     "exception": false,
     "start_time": "2025-07-09T02:32:42.051955",
     "status": "completed"
    },
    "tags": []
   },
   "outputs": [],
   "source": [
    "for algorithm in (\"PU\", \"SVM\"):\n",
    "    t0 = time.time()\n",
    "\n",
    "    subdir = os.path.join(output_dir, algorithm)\n",
    "    model_filename = os.path.join(subdir, f\"classifier.joblib\")\n",
    "    probabilities_filename = os.path.join(\n",
    "        subdir,\n",
    "        \"grid_probabilities.csv\",\n",
    "    )\n",
    "    model = load(model_filename)\n",
    "\n",
    "    point_x = point_data[model.feature_names_in_]\n",
    "    p = model.predict_proba(point_x)[:, 1].ravel()\n",
    "    probabilities = df_out.copy()\n",
    "    probabilities[\"probability\"] = p\n",
    "    del p\n",
    "    probabilities.to_csv(probabilities_filename, index=False)\n",
    "    del probabilities, model\n",
    "    duration = timedelta(seconds=time.time() - t0)\n",
    "    if verbose:\n",
    "        print(\n",
    "            f\"Calculating probabilities for {algorithm} model complete\",\n",
    "            f\"(region: global; duration: {duration})\",\n",
    "        )\n",
    "\n",
    "    for region in regions:\n",
    "        region_code = \"_\".join(region.lower().split())\n",
    "        model_filename = os.path.join(\n",
    "            subdir,\n",
    "            f\"classifier_{region_code}.joblib\",\n",
    "        )\n",
    "        if not os.path.isfile(model_filename):\n",
    "            continue\n",
    "        t0 = time.time()\n",
    "\n",
    "        probabilities_filename = os.path.join(\n",
    "            subdir,\n",
    "            f\"grid_probabilities_{region_code}.csv\",\n",
    "        )\n",
    "        model = load(model_filename)\n",
    "\n",
    "        try:\n",
    "            model[-1].set_params(n_jobs=1)\n",
    "        except ValueError:\n",
    "            pass\n",
    "\n",
    "        point_x = point_data[model.feature_names_in_]\n",
    "        p = model.predict_proba(point_x)[:, 1].ravel()\n",
    "        \n",
    "        \n",
    "        \n",
    "        \n",
    "        \n",
    "        \n",
    "        \n",
    "        ()\n",
    "        probabilities = df_out.copy()\n",
    "        probabilities[\"probability\"] = p\n",
    "        del p\n",
    "        probabilities.to_csv(probabilities_filename, index=False)\n",
    "        del probabilities, model\n",
    "        duration = timedelta(seconds=time.time() - t0)\n",
    "        if verbose:\n",
    "            print(\n",
    "                f\"Calculating probabilities for {algorithm} model complete\",\n",
    "                f\"(region: {region}; duration: {duration})\",\n",
    "            )\n",
    "\n",
    "del point_data"
   ]
  },
  {
   "cell_type": "markdown",
   "id": "e94d2cc2",
   "metadata": {
    "papermill": {
     "duration": 0.004274,
     "end_time": "2025-07-09T02:42:34.084327",
     "exception": false,
     "start_time": "2025-07-09T02:42:34.080053",
     "status": "completed"
    },
    "tags": []
   },
   "source": [
    "## Create probability maps\n",
    "\n",
    "The probabilities calculated in the previous section will now be written to one netCDF file per time step:"
   ]
  },
  {
   "cell_type": "code",
   "execution_count": 6,
   "id": "23b349d7",
   "metadata": {
    "execution": {
     "iopub.execute_input": "2025-07-09T02:42:34.092727Z",
     "iopub.status.busy": "2025-07-09T02:42:34.092434Z",
     "iopub.status.idle": "2025-07-09T03:30:42.241865Z",
     "shell.execute_reply": "2025-07-09T03:30:42.237332Z"
    },
    "papermill": {
     "duration": 2888.17023,
     "end_time": "2025-07-09T03:30:42.258939",
     "exception": false,
     "start_time": "2025-07-09T02:42:34.088709",
     "status": "completed"
    },
    "tags": []
   },
   "outputs": [],
   "source": [
    "for algorithm in (\"PU\", \"SVM\"):\n",
    "    t0 = time.time()\n",
    "\n",
    "    subdir = os.path.join(output_dir, algorithm)\n",
    "    probabilities_filename = os.path.join(\n",
    "        subdir,\n",
    "        \"grid_probabilities.csv\",\n",
    "    )\n",
    "    grid_output_dir = os.path.join(\n",
    "        subdir,\n",
    "        \"probability_grids\",\n",
    "    )\n",
    "    os.makedirs(grid_output_dir, exist_ok=True)\n",
    "\n",
    "    create_probability_grids(\n",
    "        data=probabilities_filename,\n",
    "        output_dir=grid_output_dir,\n",
    "        threads=n_jobs,\n",
    "        extent=(-180, 180, -90, 90),\n",
    "    )\n",
    "    duration = timedelta(seconds=time.time() - t0)\n",
    "    if verbose:\n",
    "        print(\n",
    "            f\"Creating grids for {algorithm} model complete\",\n",
    "            f\"(region: global; duration: {duration})\",\n",
    "        )\n",
    "\n",
    "    for region in regions:\n",
    "        region_code = \"_\".join(region.lower().split())\n",
    "        subdir = os.path.join(output_dir, algorithm)\n",
    "        probabilities_filename = os.path.join(\n",
    "            subdir,\n",
    "            f\"grid_probabilities_{region_code}.csv\",\n",
    "        )\n",
    "        if not os.path.isfile(probabilities_filename):\n",
    "            continue\n",
    "        t0 = time.time()\n",
    "\n",
    "        grid_output_dir = os.path.join(\n",
    "            subdir,\n",
    "            f\"probability_grids_{region_code}\",\n",
    "        )\n",
    "        os.makedirs(grid_output_dir, exist_ok=True)\n",
    "\n",
    "        create_probability_grids(\n",
    "            data=probabilities_filename,\n",
    "            output_dir=grid_output_dir,\n",
    "            threads=n_jobs,\n",
    "            extent=(-180, 180, -90, 90),\n",
    "        )\n",
    "        duration = timedelta(seconds=time.time() - t0)\n",
    "        if verbose:\n",
    "            print(\n",
    "                f\"Creating grids for {algorithm} model complete\",\n",
    "                f\"(region: {region}; duration: {duration})\",\n",
    "            )"
   ]
  },
  {
   "cell_type": "code",
   "execution_count": null,
   "id": "d779a208",
   "metadata": {
    "papermill": {
     "duration": 0.004403,
     "end_time": "2025-07-09T03:30:42.276447",
     "exception": false,
     "start_time": "2025-07-09T03:30:42.272044",
     "status": "completed"
    },
    "tags": []
   },
   "outputs": [],
   "source": []
  }
 ],
 "metadata": {
  "kernelspec": {
   "display_name": "datamining",
   "language": "python",
   "name": "python3"
  },
  "language_info": {
   "codemirror_mode": {
    "name": "ipython",
    "version": 3
   },
   "file_extension": ".py",
   "mimetype": "text/x-python",
   "name": "python",
   "nbconvert_exporter": "python",
   "pygments_lexer": "ipython3",
   "version": "3.13.5"
  },
  "papermill": {
   "default_parameters": {},
   "duration": 3502.88977,
   "end_time": "2025-07-09T03:30:45.050251",
   "environment_variables": {},
   "exception": null,
   "input_path": "02-create_probability_maps_deformation.ipynb",
   "output_path": "02-create_probability_maps_deformation_output.ipynb",
   "parameters": {},
   "start_time": "2025-07-09T02:32:22.160481",
   "version": "2.4.0"
  }
 },
 "nbformat": 4,
 "nbformat_minor": 5
}