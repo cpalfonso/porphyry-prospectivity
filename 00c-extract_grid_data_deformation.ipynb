{
 "cells": [
  {
   "cell_type": "markdown",
   "id": "d7ca51ae",
   "metadata": {
    "papermill": {
     "duration": 0.005989,
     "end_time": "2025-07-08T01:44:45.357704",
     "exception": false,
     "start_time": "2025-07-08T01:44:45.351715",
     "status": "completed"
    },
    "tags": []
   },
   "source": [
    "# Extract grid data\n",
    "\n",
    "This notebook will extract plate kinematic data from a plate model and other data from the `source_data` directory, writing the resulting dataset to a CSV file which can then be used to create the time-dependent prospectivity maps in the following notebooks (`02*.ipynb`)."
   ]
  },
  {
   "cell_type": "markdown",
   "id": "14db541f",
   "metadata": {
    "papermill": {
     "duration": 0.004357,
     "end_time": "2025-07-08T01:44:45.366854",
     "exception": false,
     "start_time": "2025-07-08T01:44:45.362497",
     "status": "completed"
    },
    "tags": []
   },
   "source": [
    "## Notebook options\n",
    "\n",
    "These cells set some of the important variables and definitions used throughout the notebook."
   ]
  },
  {
   "cell_type": "code",
   "execution_count": 1,
   "id": "2e2ce789",
   "metadata": {
    "execution": {
     "iopub.execute_input": "2025-07-08T01:44:45.377989Z",
     "iopub.status.busy": "2025-07-08T01:44:45.377547Z",
     "iopub.status.idle": "2025-07-08T01:44:45.381663Z",
     "shell.execute_reply": "2025-07-08T01:44:45.381061Z"
    },
    "papermill": {
     "duration": 0.011478,
     "end_time": "2025-07-08T01:44:45.383119",
     "exception": false,
     "start_time": "2025-07-08T01:44:45.371641",
     "status": "completed"
    },
    "tags": []
   },
   "outputs": [],
   "source": [
    "config_file = \"notebook_parameters_deformation.yml\""
   ]
  },
  {
   "cell_type": "code",
   "execution_count": 2,
   "id": "e456dd15",
   "metadata": {
    "execution": {
     "iopub.execute_input": "2025-07-08T01:44:45.392904Z",
     "iopub.status.busy": "2025-07-08T01:44:45.392633Z",
     "iopub.status.idle": "2025-07-08T01:44:45.460494Z",
     "shell.execute_reply": "2025-07-08T01:44:45.459714Z"
    },
    "papermill": {
     "duration": 0.0751,
     "end_time": "2025-07-08T01:44:45.462570",
     "exception": false,
     "start_time": "2025-07-08T01:44:45.387470",
     "status": "completed"
    },
    "tags": []
   },
   "outputs": [],
   "source": [
    "from lib.load_params import get_params\n",
    "\n",
    "params = get_params(config_file, notebook=\"00c\")\n",
    "\n",
    "# Resolution of output grids\n",
    "grid_resolution = params[\"grid_resolution\"]\n",
    "\n",
    "# Directory for output\n",
    "data_dir = params[\"extracted_data_dir\"]\n",
    "output_dir = data_dir\n",
    "\n",
    "# Number of processes to use\n",
    "n_jobs = params[\"n_jobs\"]\n",
    "\n",
    "# Overwrite any existing output files\n",
    "overwrite = params[\"overwrite_output\"]\n",
    "\n",
    "# Control verbosity level of logging output\n",
    "verbose = params[\"verbose\"]\n",
    "\n",
    "# Timespan for analysis\n",
    "min_time = params[\"timespan\"][\"min\"]\n",
    "max_time = params[\"timespan\"][\"max\"]\n",
    "times = range(min_time, max_time + 1)\n",
    "\n",
    "# If desired, categorise deposits according to location\n",
    "# Should be a shapefile or GeoJSON containing polygons\n",
    "# with a 'region' attribute\n",
    "regions_filename = params[\"regions_filename\"]"
   ]
  },
  {
   "cell_type": "markdown",
   "id": "9abfc0d9",
   "metadata": {
    "papermill": {
     "duration": 0.005517,
     "end_time": "2025-07-08T01:44:45.473166",
     "exception": false,
     "start_time": "2025-07-08T01:44:45.467649",
     "status": "completed"
    },
    "tags": []
   },
   "source": [
    "### Select plate model\n",
    "\n",
    "To use the plate model from the published paper (Alfonso et al., 2024), set `use_provided_plate_model` to `True`. Otherwise, leave `use_provided_plate_model` as `False` and set `plate_model_name` to a valid model name for the [`plate-model-manager`](https://github.com/michaelchin/plate-model-manager/blob/4f66423b53950bf42f5dac1228e61fd1e19fdf6e/models.json) package, or set `plate_model_name` to `None` and place GPlates files in a directory named `plate_model`.\n",
    "\n",
    "| `use_provided_plate_model` | `plate_model_name` | result |\n",
    "| - | - | - |\n",
    "| `True` | Any | Use Alfonso et al., 2024 model |\n",
    "| `False` | Model name string (e.g. `\"muller2022\"`) | Use specified plate model |\n",
    "| `False` | `None` | Use files in `plate_model` directory |"
   ]
  },
  {
   "cell_type": "code",
   "execution_count": 3,
   "id": "9088fe1c",
   "metadata": {
    "execution": {
     "iopub.execute_input": "2025-07-08T01:44:45.483041Z",
     "iopub.status.busy": "2025-07-08T01:44:45.482790Z",
     "iopub.status.idle": "2025-07-08T01:44:45.486148Z",
     "shell.execute_reply": "2025-07-08T01:44:45.485405Z"
    },
    "papermill": {
     "duration": 0.009875,
     "end_time": "2025-07-08T01:44:45.487697",
     "exception": false,
     "start_time": "2025-07-08T01:44:45.477822",
     "status": "completed"
    },
    "tags": []
   },
   "outputs": [],
   "source": [
    "plate_model_name = params[\"plate_model\"][\"plate_model_name\"]\n",
    "use_provided_plate_model = params[\"plate_model\"][\"use_provided_plate_model\"]"
   ]
  },
  {
   "cell_type": "markdown",
   "id": "9639c87e",
   "metadata": {
    "papermill": {
     "duration": 0.005133,
     "end_time": "2025-07-08T01:44:45.544152",
     "exception": false,
     "start_time": "2025-07-08T01:44:45.539019",
     "status": "completed"
    },
    "tags": []
   },
   "source": [
    "## Notebook setup\n",
    "\n",
    "Imports, definitions, etc."
   ]
  },
  {
   "cell_type": "markdown",
   "id": "230f00fa",
   "metadata": {
    "papermill": {
     "duration": 0.004328,
     "end_time": "2025-07-08T01:44:45.553639",
     "exception": false,
     "start_time": "2025-07-08T01:44:45.549311",
     "status": "completed"
    },
    "tags": []
   },
   "source": [
    "### Imports"
   ]
  },
  {
   "cell_type": "code",
   "execution_count": 4,
   "id": "7064cd0e",
   "metadata": {
    "execution": {
     "iopub.execute_input": "2025-07-08T01:44:45.566160Z",
     "iopub.status.busy": "2025-07-08T01:44:45.565900Z",
     "iopub.status.idle": "2025-07-08T01:44:50.857385Z",
     "shell.execute_reply": "2025-07-08T01:44:50.856776Z"
    },
    "papermill": {
     "duration": 5.299096,
     "end_time": "2025-07-08T01:44:50.858581",
     "exception": false,
     "start_time": "2025-07-08T01:44:45.559485",
     "status": "completed"
    },
    "tags": []
   },
   "outputs": [
    {
     "name": "stdout",
     "output_type": "stream",
     "text": [
      "env: PYTHONWARNINGS=ignore::UserWarning\n"
     ]
    }
   ],
   "source": [
    "import os\n",
    "import warnings\n",
    "\n",
    "import geopandas as gpd\n",
    "import numpy as np\n",
    "import pandas as pd\n",
    "import pygplates\n",
    "with warnings.catch_warnings():\n",
    "    warnings.simplefilter(\"ignore\", UserWarning)\n",
    "    from gplately.tools import plate_isotherm_depth\n",
    "\n",
    "from lib.assign_regions import assign_regions\n",
    "from lib.calculate_convergence import run_calculate_convergence\n",
    "from lib.check_files import (\n",
    "    check_plate_model,\n",
    "    check_source_data,\n",
    ")\n",
    "from lib.coregister_combined_point_data import run_coregister_combined_point_data\n",
    "from lib.coregister_crustal_thickness import run_coregister_crustal_thickness\n",
    "from lib.coregister_ocean_rasters import (\n",
    "    extract_subducted_thickness,\n",
    "    run_coregister_ocean_rasters,\n",
    ")\n",
    "from lib.create_study_area_polygons import run_create_study_area_polygons\n",
    "from lib.deformation import extract_strain_and_rate, extract_strain_history\n",
    "from lib.erodep import calculate_erodep\n",
    "from lib.misc import calculate_slab_flux, calculate_carbon\n",
    "from lib.plate_models import get_plate_reconstruction\n",
    "from lib.pu import generate_grid_points\n",
    "from lib.slab_dip import calculate_slab_dip\n",
    "from lib.subduction_history import extract_subduction_history\n",
    "from lib.water import calculate_water_thickness\n",
    "\n",
    "# Suppress occasional joblib warnings\n",
    "%env PYTHONWARNINGS=ignore::UserWarning\n",
    "\n",
    "warnings.simplefilter(\"ignore\", FutureWarning)\n",
    "warnings.simplefilter(\"ignore\", UserWarning)\n",
    "warnings.simplefilter(\"ignore\", pd.errors.PerformanceWarning)"
   ]
  },
  {
   "cell_type": "markdown",
   "id": "38f11f60",
   "metadata": {
    "papermill": {
     "duration": 0.004013,
     "end_time": "2025-07-08T01:44:50.866656",
     "exception": false,
     "start_time": "2025-07-08T01:44:50.862643",
     "status": "completed"
    },
    "tags": []
   },
   "source": [
    "### Input and output files"
   ]
  },
  {
   "cell_type": "markdown",
   "id": "dac7c26b",
   "metadata": {
    "papermill": {
     "duration": 0.004281,
     "end_time": "2025-07-08T01:44:50.874821",
     "exception": false,
     "start_time": "2025-07-08T01:44:50.870540",
     "status": "completed"
    },
    "tags": []
   },
   "source": [
    "If necessary, the plate model will be downloaded:"
   ]
  },
  {
   "cell_type": "code",
   "execution_count": 7,
   "id": "833f7219",
   "metadata": {
    "execution": {
     "iopub.execute_input": "2025-07-08T01:44:50.884230Z",
     "iopub.status.busy": "2025-07-08T01:44:50.883941Z",
     "iopub.status.idle": "2025-07-08T01:45:06.487866Z",
     "shell.execute_reply": "2025-07-08T01:45:06.487266Z"
    },
    "papermill": {
     "duration": 15.611184,
     "end_time": "2025-07-08T01:45:06.489440",
     "exception": false,
     "start_time": "2025-07-08T01:44:50.878256",
     "status": "completed"
    },
    "tags": []
   },
   "outputs": [],
   "source": [
    "plate_model_dir = \"plate_model\"\n",
    "if use_provided_plate_model:\n",
    "    check_plate_model(plate_model_dir, verbose=True)\n",
    "    plate_model_name = None\n",
    "plate_model, _tf = get_plate_reconstruction(\n",
    "    model_name=plate_model_name,\n",
    "    model_dir=plate_model_dir,\n",
    "    filter_topologies=True,\n",
    ")"
   ]
  },
  {
   "cell_type": "markdown",
   "id": "ee51a6e4",
   "metadata": {
    "papermill": {
     "duration": 0.003436,
     "end_time": "2025-07-08T01:45:06.540187",
     "exception": false,
     "start_time": "2025-07-08T01:45:06.536751",
     "status": "completed"
    },
    "tags": []
   },
   "source": [
    "The following input directories are all relative to `data_dir`:"
   ]
  },
  {
   "cell_type": "code",
   "execution_count": null,
   "id": "eb666f45",
   "metadata": {
    "execution": {
     "iopub.execute_input": "2025-07-08T01:45:06.548289Z",
     "iopub.status.busy": "2025-07-08T01:45:06.548070Z",
     "iopub.status.idle": "2025-07-08T01:45:06.551547Z",
     "shell.execute_reply": "2025-07-08T01:45:06.551130Z"
    },
    "papermill": {
     "duration": 0.008923,
     "end_time": "2025-07-08T01:45:06.552785",
     "exception": false,
     "start_time": "2025-07-08T01:45:06.543862",
     "status": "completed"
    },
    "tags": []
   },
   "outputs": [],
   "source": [
    "# Seafloor age grid directory\n",
    "# Filename format 'seafloor_age_{time}Ma.nc'\n",
    "agegrid_dir = \"SeafloorAge\"\n",
    "\n",
    "# Seafloor spreading rate directory\n",
    "# Filename format 'spreading_rate_{time}Ma.nc'\n",
    "spreadrate_dir = \"SpreadingRate\"\n",
    "\n",
    "# Seafloor sediment thickness directory\n",
    "# Filename format 'sediment_thickness_{time}Ma.nc'\n",
    "sedthick_dir = \"SedimentThickness\"\n",
    "\n",
    "# Seafloor carbonate sediment thickness directory\n",
    "# Filename format 'carbonate_thickness_{time}Ma.nc'\n",
    "carbonate_dir = \"CarbonateThickness\"\n",
    "\n",
    "# Oceanic crustal CO2 density directory\n",
    "# Filename format 'crustal_co2_{time}Ma.nc'\n",
    "co2_dir = \"CrustalCO2\"\n",
    "\n",
    "# Overriding plate thickness directory\n",
    "# Filename format 'crustal_thickness_{time}Ma.nc'\n",
    "crustal_thickness_dir = \"CrustalThickness\"\n",
    "\n",
    "# Erosion/deposition rate directory\n",
    "# Filename format 'erosion_deposition_{time}Ma.nc'\n",
    "erodep_dir = \"ErosionDeposition\""
   ]
  },
  {
   "cell_type": "code",
   "execution_count": null,
   "id": "84d44ad9",
   "metadata": {
    "execution": {
     "iopub.execute_input": "2025-07-08T01:45:06.561295Z",
     "iopub.status.busy": "2025-07-08T01:45:06.561062Z",
     "iopub.status.idle": "2025-07-08T01:45:06.564949Z",
     "shell.execute_reply": "2025-07-08T01:45:06.564519Z"
    },
    "papermill": {
     "duration": 0.009856,
     "end_time": "2025-07-08T01:45:06.566532",
     "exception": false,
     "start_time": "2025-07-08T01:45:06.556676",
     "status": "completed"
    },
    "tags": []
   },
   "outputs": [],
   "source": [
    "# Handle relative file/directory paths\n",
    "\n",
    "agegrid_dir = os.path.join(data_dir, agegrid_dir)\n",
    "sedthick_dir = os.path.join(data_dir, sedthick_dir)\n",
    "carbonate_dir = os.path.join(data_dir, carbonate_dir)\n",
    "co2_dir = os.path.join(data_dir, co2_dir)\n",
    "crustal_thickness_dir = os.path.join(data_dir, crustal_thickness_dir)\n",
    "erodep_dir = os.path.join(data_dir, erodep_dir)\n",
    "\n",
    "subduction_data_filename = os.path.join(output_dir, \"subducting_plate_data.csv\")\n",
    "study_area_dir = os.path.join(output_dir, \"study_area_polygons\")\n",
    "output_filename = os.path.join(output_dir, \"grid_data_deformation.csv\")"
   ]
  },
  {
   "attachments": {},
   "cell_type": "markdown",
   "id": "eb746f63",
   "metadata": {
    "papermill": {
     "duration": 0.004516,
     "end_time": "2025-07-08T01:45:06.575345",
     "exception": false,
     "start_time": "2025-07-08T01:45:06.570829",
     "status": "completed"
    },
    "tags": []
   },
   "source": [
    "### Generate grid points\n",
    "\n",
    "The following function generates the grid of points at `grid_resolution`-degree resolution."
   ]
  },
  {
   "cell_type": "code",
   "execution_count": null,
   "id": "c7415048",
   "metadata": {
    "execution": {
     "iopub.execute_input": "2025-07-08T01:45:06.584712Z",
     "iopub.status.busy": "2025-07-08T01:45:06.584448Z",
     "iopub.status.idle": "2025-07-08T01:56:47.740065Z",
     "shell.execute_reply": "2025-07-08T01:56:47.735984Z"
    },
    "papermill": {
     "duration": 701.219792,
     "end_time": "2025-07-08T01:56:47.799324",
     "exception": false,
     "start_time": "2025-07-08T01:45:06.579532",
     "status": "completed"
    },
    "tags": []
   },
   "outputs": [],
   "source": [
    "if overwrite or not os.path.isdir(study_area_dir):\n",
    "    run_create_study_area_polygons(\n",
    "        nprocs=n_jobs,\n",
    "        times=times,\n",
    "        plate_reconstruction=plate_model,\n",
    "        output_dir=study_area_dir,\n",
    "        verbose=verbose,\n",
    "        return_output=False,\n",
    "    )\n",
    "grid_data = generate_grid_points(\n",
    "    times=times,\n",
    "    resolution=grid_resolution,\n",
    "    polygons_dir=study_area_dir,\n",
    "    plate_reconstruction=plate_model,\n",
    "    n_jobs=n_jobs,\n",
    "    verbose=verbose,\n",
    ")\n",
    "grid_data = grid_data.dropna(subset=[\"present_lon\", \"present_lat\"])"
   ]
  },
  {
   "attachments": {},
   "cell_type": "markdown",
   "id": "0e2ba866",
   "metadata": {
    "papermill": {
     "duration": 0.008787,
     "end_time": "2025-07-08T01:56:47.840361",
     "exception": false,
     "start_time": "2025-07-08T01:56:47.831574",
     "status": "completed"
    },
    "tags": []
   },
   "source": [
    "### Subducting plate data\n",
    "\n",
    "This cell will extract the subduction kinematics data from the plate model, along with datasets relating to the subducting oceanic plate: seafloor age, sediment and carbonate thickness, etc.\n",
    "However, if this data has already been extracted by another notebook and `overwrite` has not been set to `True`, then the data will be read from that file instead."
   ]
  },
  {
   "cell_type": "code",
   "execution_count": null,
   "id": "7c03c5a2",
   "metadata": {
    "execution": {
     "iopub.execute_input": "2025-07-08T01:56:47.863128Z",
     "iopub.status.busy": "2025-07-08T01:56:47.861985Z",
     "iopub.status.idle": "2025-07-08T01:57:08.162435Z",
     "shell.execute_reply": "2025-07-08T01:57:08.160452Z"
    },
    "papermill": {
     "duration": 20.319381,
     "end_time": "2025-07-08T01:57:08.166751",
     "exception": false,
     "start_time": "2025-07-08T01:56:47.847370",
     "status": "completed"
    },
    "tags": []
   },
   "outputs": [],
   "source": [
    "if (\n",
    "    subduction_data_filename is not None and os.path.isfile(subduction_data_filename)\n",
    ") and (not overwrite):\n",
    "    subduction_data = pd.read_csv(subduction_data_filename)\n",
    "else:\n",
    "    subduction_data = run_calculate_convergence(\n",
    "        nprocs=n_jobs,\n",
    "        min_time=min(times),\n",
    "        max_time=max(times),\n",
    "        plate_reconstruction=plate_model,\n",
    "        verbose=verbose,\n",
    "    )\n",
    "\n",
    "    subduction_data = run_coregister_ocean_rasters(\n",
    "        nprocs=n_jobs,\n",
    "        times=times,\n",
    "        input_data=subduction_data,\n",
    "        agegrid_dir=agegrid_dir,\n",
    "        spreadrate_dir=spreadrate_dir,\n",
    "        plate_reconstruction=plate_model,\n",
    "        sedthick_dir=sedthick_dir,\n",
    "        carbonate_dir=carbonate_dir,\n",
    "        co2_dir=co2_dir,\n",
    "        verbose=verbose,\n",
    "    )\n",
    "    subduction_data[\"plate_thickness (m)\"] = plate_isotherm_depth(\n",
    "        subduction_data[\"seafloor_age (Ma)\"],\n",
    "        maxiter=100,\n",
    "    )\n",
    "    subduction_data = calculate_water_thickness(data=subduction_data)\n",
    "    subduction_data = calculate_carbon(subduction_data)\n",
    "    subduction_data = calculate_slab_flux(subduction_data)\n",
    "    subduction_data = calculate_slab_dip(subduction_data)\n",
    "    subduction_data = extract_subducted_thickness(\n",
    "        subduction_data,\n",
    "        plate_reconstruction=plate_model,\n",
    "    )\n",
    "    subduction_data[\"sediment_flux (m^2/yr)\"] = (\n",
    "        subduction_data[\"sediment_thickness (m)\"]\n",
    "        * subduction_data[\"convergence_rate_orthogonal (cm/yr)\"] * 1.0e-2\n",
    "    ).clip(0.0, np.inf)\n",
    "    subduction_data[\"carbon_flux (t/m/yr)\"] = (\n",
    "        subduction_data[\"total_carbon_density (t/m^2)\"]\n",
    "        * subduction_data[\"convergence_rate_orthogonal (cm/yr)\"] * 1.0e-2\n",
    "    ).clip(0.0, np.inf)\n",
    "    subduction_data[\"water_flux (m^2/yr)\"] = (\n",
    "        subduction_data[\"total_water_thickness (m)\"]\n",
    "        * subduction_data[\"convergence_rate_orthogonal (cm/yr)\"] * 1.0e-2\n",
    "    ).clip(0.0, np.inf)\n",
    "\n",
    "    if subduction_data_filename is not None:\n",
    "        subduction_data.to_csv(subduction_data_filename, index=False)"
   ]
  },
  {
   "attachments": {},
   "cell_type": "markdown",
   "id": "cafffa14",
   "metadata": {
    "papermill": {
     "duration": 0.005404,
     "end_time": "2025-07-08T01:57:08.182229",
     "exception": false,
     "start_time": "2025-07-08T01:57:08.176825",
     "status": "completed"
    },
    "tags": []
   },
   "source": [
    "### Assign subduction data to grid\n",
    "\n",
    "Here we assign the appropriate values for the subduction-related parameters (kinematics, seafloor age, etc.) to the grid points."
   ]
  },
  {
   "cell_type": "code",
   "execution_count": null,
   "id": "fbadac30",
   "metadata": {
    "execution": {
     "iopub.execute_input": "2025-07-08T01:57:08.204693Z",
     "iopub.status.busy": "2025-07-08T01:57:08.204360Z",
     "iopub.status.idle": "2025-07-08T02:00:15.882184Z",
     "shell.execute_reply": "2025-07-08T02:00:15.881463Z"
    },
    "papermill": {
     "duration": 187.691433,
     "end_time": "2025-07-08T02:00:15.885175",
     "exception": false,
     "start_time": "2025-07-08T01:57:08.193742",
     "status": "completed"
    },
    "tags": []
   },
   "outputs": [],
   "source": [
    "coregistered_data = run_coregister_combined_point_data(\n",
    "    point_data=grid_data,\n",
    "    subduction_data=subduction_data,\n",
    "    n_jobs=n_jobs,\n",
    "    verbose=verbose,\n",
    ")\n",
    "del grid_data, subduction_data"
   ]
  },
  {
   "attachments": {},
   "cell_type": "markdown",
   "id": "6c7067fe",
   "metadata": {
    "papermill": {
     "duration": 0.007402,
     "end_time": "2025-07-08T02:00:15.902108",
     "exception": false,
     "start_time": "2025-07-08T02:00:15.894706",
     "status": "completed"
    },
    "tags": []
   },
   "source": [
    "### Assign crustal thickness data to grid\n",
    "\n",
    "This cell extracts the overriding plate thickness at each point."
   ]
  },
  {
   "cell_type": "code",
   "execution_count": 15,
   "id": "317048a8",
   "metadata": {
    "execution": {
     "iopub.execute_input": "2025-07-08T02:00:15.915973Z",
     "iopub.status.busy": "2025-07-08T02:00:15.915646Z",
     "iopub.status.idle": "2025-07-08T02:00:59.526803Z",
     "shell.execute_reply": "2025-07-08T02:00:59.526134Z"
    },
    "papermill": {
     "duration": 43.621385,
     "end_time": "2025-07-08T02:00:59.529730",
     "exception": false,
     "start_time": "2025-07-08T02:00:15.908345",
     "status": "completed"
    },
    "tags": []
   },
   "outputs": [],
   "source": [
    "coregistered_data = run_coregister_crustal_thickness(\n",
    "    point_data=coregistered_data,\n",
    "    input_dir=crustal_thickness_dir,\n",
    "    n_jobs=n_jobs,\n",
    "    verbose=verbose,\n",
    ")"
   ]
  },
  {
   "cell_type": "markdown",
   "id": "3067ae47",
   "metadata": {
    "papermill": {
     "duration": 0.006483,
     "end_time": "2025-07-08T02:00:59.544270",
     "exception": false,
     "start_time": "2025-07-08T02:00:59.537787",
     "status": "completed"
    },
    "tags": []
   },
   "source": [
    "### Calculate cumulative erosion\n",
    "\n",
    "Here we calculate the cumulative erosion experienced by each point in the grid since its assigned age time."
   ]
  },
  {
   "cell_type": "code",
   "execution_count": 16,
   "id": "a90d7da4",
   "metadata": {
    "execution": {
     "iopub.execute_input": "2025-07-08T02:00:59.561809Z",
     "iopub.status.busy": "2025-07-08T02:00:59.561557Z",
     "iopub.status.idle": "2025-07-08T02:04:28.646639Z",
     "shell.execute_reply": "2025-07-08T02:04:28.644412Z"
    },
    "papermill": {
     "duration": 209.100195,
     "end_time": "2025-07-08T02:04:28.653768",
     "exception": false,
     "start_time": "2025-07-08T02:00:59.553573",
     "status": "completed"
    },
    "tags": []
   },
   "outputs": [],
   "source": [
    "coregistered_data = calculate_erodep(\n",
    "    coregistered_data,\n",
    "    input_dir=erodep_dir,\n",
    "    n_jobs=n_jobs,\n",
    "    column_name=\"erosion (m)\",\n",
    "    verbose=verbose,\n",
    ")"
   ]
  },
  {
   "cell_type": "markdown",
   "id": "a228c9cc",
   "metadata": {
    "papermill": {
     "duration": 0.005902,
     "end_time": "2025-07-08T02:04:28.674609",
     "exception": false,
     "start_time": "2025-07-08T02:04:28.668707",
     "status": "completed"
    },
    "tags": []
   },
   "source": [
    "### Assign data to regions\n",
    "\n",
    "To divide the data into individual regions for the later analysis, we use the `regions_filename` defined earlier, if desired."
   ]
  },
  {
   "cell_type": "code",
   "execution_count": 17,
   "id": "d520a2b5",
   "metadata": {
    "execution": {
     "iopub.execute_input": "2025-07-08T02:04:28.691993Z",
     "iopub.status.busy": "2025-07-08T02:04:28.691501Z",
     "iopub.status.idle": "2025-07-08T02:04:30.066127Z",
     "shell.execute_reply": "2025-07-08T02:04:30.065486Z"
    },
    "papermill": {
     "duration": 1.387692,
     "end_time": "2025-07-08T02:04:30.068506",
     "exception": false,
     "start_time": "2025-07-08T02:04:28.680814",
     "status": "completed"
    },
    "tags": []
   },
   "outputs": [],
   "source": [
    "if regions_filename is not None and os.path.isfile(regions_filename):\n",
    "    points = gpd.GeoSeries.from_xy(\n",
    "        coregistered_data[\"present_lon\"],\n",
    "        coregistered_data[\"present_lat\"],\n",
    "        index=coregistered_data.index,\n",
    "    )\n",
    "    coregistered_data[\"region\"] = assign_regions(\n",
    "        points,\n",
    "        regions=regions_filename,\n",
    "    )\n",
    "    del points"
   ]
  },
  {
   "cell_type": "markdown",
   "id": "38da1be5",
   "metadata": {
    "papermill": {
     "duration": 0.008275,
     "end_time": "2025-07-08T02:04:30.082955",
     "exception": false,
     "start_time": "2025-07-08T02:04:30.074680",
     "status": "completed"
    },
    "tags": []
   },
   "source": [
    "### Add strain rate and cumulative strain"
   ]
  },
  {
   "cell_type": "code",
   "execution_count": 18,
   "id": "c8c0fc3c",
   "metadata": {
    "execution": {
     "iopub.execute_input": "2025-07-08T02:04:30.097945Z",
     "iopub.status.busy": "2025-07-08T02:04:30.097427Z",
     "iopub.status.idle": "2025-07-08T04:09:16.309873Z",
     "shell.execute_reply": "2025-07-08T04:09:16.306983Z"
    },
    "papermill": {
     "duration": 7486.236512,
     "end_time": "2025-07-08T04:09:16.325206",
     "exception": false,
     "start_time": "2025-07-08T02:04:30.088694",
     "status": "completed"
    },
    "tags": []
   },
   "outputs": [],
   "source": [
    "topological_model = pygplates.TopologicalModel(\n",
    "    topological_features=plate_model.topology_features,\n",
    "    rotation_model=plate_model.rotation_model,\n",
    ")\n",
    "coregistered_data = extract_strain_and_rate(\n",
    "    coregistered_data,\n",
    "    topological_model=topological_model,\n",
    "    max_time=170,\n",
    ")\n",
    "coregistered_data = extract_strain_history(\n",
    "    coregistered_data,\n",
    "    topological_model=topological_model,\n",
    "    time_window=10,\n",
    ")"
   ]
  },
  {
   "cell_type": "markdown",
   "id": "48e28940",
   "metadata": {
    "papermill": {
     "duration": 0.011641,
     "end_time": "2025-07-08T04:09:16.368004",
     "exception": false,
     "start_time": "2025-07-08T04:09:16.356363",
     "status": "completed"
    },
    "tags": []
   },
   "source": [
    "### Save to file\n",
    "\n",
    "Finally, we write the dataset to a CSV file."
   ]
  },
  {
   "cell_type": "code",
   "execution_count": 19,
   "id": "333c91a8",
   "metadata": {
    "execution": {
     "iopub.execute_input": "2025-07-08T04:09:16.382783Z",
     "iopub.status.busy": "2025-07-08T04:09:16.382395Z",
     "iopub.status.idle": "2025-07-08T04:10:47.292243Z",
     "shell.execute_reply": "2025-07-08T04:10:47.290993Z"
    },
    "papermill": {
     "duration": 90.924269,
     "end_time": "2025-07-08T04:10:47.298249",
     "exception": false,
     "start_time": "2025-07-08T04:09:16.373980",
     "status": "completed"
    },
    "tags": []
   },
   "outputs": [],
   "source": [
    "coregistered_data.to_csv(output_filename, index=False)"
   ]
  },
  {
   "cell_type": "code",
   "execution_count": null,
   "id": "b51b394a",
   "metadata": {
    "papermill": {
     "duration": 0.008305,
     "end_time": "2025-07-08T04:10:47.313153",
     "exception": false,
     "start_time": "2025-07-08T04:10:47.304848",
     "status": "completed"
    },
    "tags": []
   },
   "outputs": [],
   "source": []
  }
 ],
 "metadata": {
  "kernelspec": {
   "display_name": "prospectivity-test",
   "language": "python",
   "name": "python3"
  },
  "language_info": {
   "codemirror_mode": {
    "name": "ipython",
    "version": 3
   },
   "file_extension": ".py",
   "mimetype": "text/x-python",
   "name": "python",
   "nbconvert_exporter": "python",
   "pygments_lexer": "ipython3",
   "version": "3.13.5"
  },
  "papermill": {
   "default_parameters": {},
   "duration": 8766.563967,
   "end_time": "2025-07-08T04:10:50.125324",
   "environment_variables": {},
   "exception": null,
   "input_path": "00c-extract_grid_data_deformation.ipynb",
   "output_path": "00c-extract_grid_data_deformation_output.ipynb",
   "parameters": {},
   "start_time": "2025-07-08T01:44:43.561357",
   "version": "2.4.0"
  }
 },
 "nbformat": 4,
 "nbformat_minor": 5
}
