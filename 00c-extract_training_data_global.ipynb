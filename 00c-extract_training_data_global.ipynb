{
 "cells": [
  {
   "cell_type": "code",
   "execution_count": 1,
   "id": "a92a09be",
   "metadata": {
    "execution": {
     "iopub.execute_input": "2024-02-01T04:20:03.077124Z",
     "iopub.status.busy": "2024-02-01T04:20:03.076814Z",
     "iopub.status.idle": "2024-02-01T04:20:07.283816Z",
     "shell.execute_reply": "2024-02-01T04:20:07.283250Z"
    },
    "papermill": {
     "duration": 4.216123,
     "end_time": "2024-02-01T04:20:07.285432",
     "exception": false,
     "start_time": "2024-02-01T04:20:03.069309",
     "status": "completed"
    },
    "tags": []
   },
   "outputs": [
    {
     "name": "stdout",
     "output_type": "stream",
     "text": [
      "env: PYTHONWARNINGS=ignore::UserWarning\n"
     ]
    }
   ],
   "source": [
    "import glob\n",
    "import os\n",
    "import tempfile\n",
    "import warnings\n",
    "\n",
    "import geopandas as gpd\n",
    "import pandas as pd\n",
    "from gplately.tools import plate_isotherm_depth\n",
    "\n",
    "from lib.assign_regions import assign_regions\n",
    "from lib.calculate_convergence import run_calculate_convergence\n",
    "from lib.check_files import (\n",
    "    check_source_data,\n",
    "    check_plate_model,\n",
    ")\n",
    "from lib.combine_point_data import combine_point_data\n",
    "from lib.coregister_combined_point_data import run_coregister_combined_point_data\n",
    "from lib.coregister_crustal_thickness import run_coregister_crustal_thickness\n",
    "from lib.coregister_magnetic import coregister_magnetic\n",
    "from lib.coregister_ocean_rasters import run_coregister_ocean_rasters\n",
    "from lib.create_study_area_polygons import run_create_study_area_polygons\n",
    "from lib.erodep import calculate_erodep\n",
    "from lib.generate_unlabelled_points import generate_unlabelled_points\n",
    "from lib.misc import (\n",
    "    calculate_slab_flux,\n",
    "    # calculate_water_thickness,\n",
    ")\n",
    "from lib.slab_dip import calculate_slab_dip\n",
    "from lib.water import calculate_water_thickness\n",
    "\n",
    "# Suppress occasional joblib warnings\n",
    "%env PYTHONWARNINGS=ignore::UserWarning\n",
    "\n",
    "warnings.simplefilter(\"ignore\", UserWarning)\n"
   ]
  },
  {
   "cell_type": "code",
   "execution_count": 2,
   "id": "3e22635c",
   "metadata": {
    "execution": {
     "iopub.execute_input": "2024-02-01T04:20:07.293125Z",
     "iopub.status.busy": "2024-02-01T04:20:07.292873Z",
     "iopub.status.idle": "2024-02-01T04:20:07.296401Z",
     "shell.execute_reply": "2024-02-01T04:20:07.295898Z"
    },
    "papermill": {
     "duration": 0.008901,
     "end_time": "2024-02-01T04:20:07.297927",
     "exception": false,
     "start_time": "2024-02-01T04:20:07.289026",
     "status": "completed"
    },
    "tags": []
   },
   "outputs": [],
   "source": [
    "random_seed = 1234\n",
    "\n",
    "n_jobs = int(os.environ.get(\"N_JOBS\", 8))\n",
    "overwrite = bool(int(os.environ.get(\"OVERWRITE\", 0)))\n",
    "times = range(171)\n",
    "verbose = False\n",
    "\n",
    "num_unlabelled = 200  # per timestep\n"
   ]
  },
  {
   "attachments": {},
   "cell_type": "markdown",
   "id": "880580d1",
   "metadata": {
    "papermill": {
     "duration": 0.003216,
     "end_time": "2024-02-01T04:20:07.304439",
     "exception": false,
     "start_time": "2024-02-01T04:20:07.301223",
     "status": "completed"
    },
    "tags": []
   },
   "source": [
    "### Input and output files"
   ]
  },
  {
   "cell_type": "code",
   "execution_count": 3,
   "id": "32544941",
   "metadata": {
    "execution": {
     "iopub.execute_input": "2024-02-01T04:20:07.312123Z",
     "iopub.status.busy": "2024-02-01T04:20:07.311857Z",
     "iopub.status.idle": "2024-02-01T04:20:07.321235Z",
     "shell.execute_reply": "2024-02-01T04:20:07.320546Z"
    },
    "papermill": {
     "duration": 0.01526,
     "end_time": "2024-02-01T04:20:07.323015",
     "exception": false,
     "start_time": "2024-02-01T04:20:07.307755",
     "status": "completed"
    },
    "tags": []
   },
   "outputs": [],
   "source": [
    "model_dir = \"plate_model\"\n",
    "check_plate_model(model_dir, verbose=verbose)\n",
    "\n",
    "data_dir = \"source_data\"\n",
    "check_source_data(data_dir, verbose=verbose)\n",
    "deposits_filename = os.path.join(data_dir, \"deposit_data_global.csv\")\n",
    "regions_filename = os.path.join(data_dir, \"regions.shp\")\n",
    "agegrid_dir = os.path.join(data_dir, \"AgeGrids\")\n",
    "sedthick_dir = os.path.join(data_dir, \"SedimentThickness\")\n",
    "carbonate_dir = os.path.join(data_dir, \"CarbonateThickness\")\n",
    "co2_dir = os.path.join(data_dir, \"CrustalCO2\")\n",
    "crustal_thickness_dir = os.path.join(data_dir, \"CrustalThickness\")\n",
    "mag_anomaly_filename = os.path.join(\n",
    "    data_dir,\n",
    "    \"MagneticAnomaly\",\n",
    "    \"emag2_upcont_interpolated.nc\",\n",
    ")\n",
    "subducted_quantities_dir = os.path.join(\n",
    "    data_dir,\n",
    "    \"SubductedQuantities\",\n",
    ")\n",
    "erodep_dir = os.path.join(data_dir, \"ErosionDeposition\")\n",
    "\n",
    "output_dir = \"extracted_data\"\n",
    "os.makedirs(output_dir, exist_ok=True)\n",
    "subduction_data_filename = os.path.join(output_dir, \"subducting_plate_data.csv\")\n",
    "study_area_dir = os.path.join(output_dir, \"study_area_polygons\")\n",
    "output_filename = os.path.join(output_dir, \"training_data_global.csv\")\n",
    "\n",
    "feature_filenames = glob.glob(\n",
    "    os.path.join(\n",
    "        model_dir,\n",
    "        \"*.gpml\",\n",
    "    )\n",
    ")\n",
    "rotation_filenames = glob.glob(\n",
    "    os.path.join(\n",
    "        model_dir,\n",
    "        \"*.rot\",\n",
    "    )\n",
    ")\n",
    "static_polygons_filename = os.path.join(\n",
    "    model_dir,\n",
    "    \"StaticGeometries\",\n",
    "    \"StaticPolygons\",\n",
    "    \"Clennett_2020_StaticPolygons.gpml\",\n",
    ")\n"
   ]
  },
  {
   "attachments": {},
   "cell_type": "markdown",
   "id": "ad4521b6",
   "metadata": {
    "papermill": {
     "duration": 0.003061,
     "end_time": "2024-02-01T04:20:07.329363",
     "exception": false,
     "start_time": "2024-02-01T04:20:07.326302",
     "status": "completed"
    },
    "tags": []
   },
   "source": [
    "### Subducting plate data"
   ]
  },
  {
   "cell_type": "code",
   "execution_count": 4,
   "id": "61eb7d37",
   "metadata": {
    "execution": {
     "iopub.execute_input": "2024-02-01T04:20:07.336836Z",
     "iopub.status.busy": "2024-02-01T04:20:07.336512Z",
     "iopub.status.idle": "2024-02-01T04:20:13.995286Z",
     "shell.execute_reply": "2024-02-01T04:20:13.994693Z"
    },
    "papermill": {
     "duration": 6.664926,
     "end_time": "2024-02-01T04:20:13.997275",
     "exception": false,
     "start_time": "2024-02-01T04:20:07.332349",
     "status": "completed"
    },
    "tags": []
   },
   "outputs": [],
   "source": [
    "if (\n",
    "    subduction_data_filename is not None and os.path.isfile(subduction_data_filename)\n",
    ") and (not overwrite):\n",
    "    subduction_data = pd.read_csv(subduction_data_filename)\n",
    "else:\n",
    "    with tempfile.TemporaryDirectory() as subduction_kinematics_dir:\n",
    "        run_calculate_convergence(\n",
    "            nprocs=n_jobs,\n",
    "            min_time=min(times),\n",
    "            max_time=max(times),\n",
    "            topology_filenames=feature_filenames,\n",
    "            rotation_filenames=rotation_filenames,\n",
    "            output_dir=subduction_kinematics_dir,\n",
    "            verbose=verbose,\n",
    "        )\n",
    "\n",
    "        subduction_data = run_coregister_ocean_rasters(\n",
    "            nprocs=n_jobs,\n",
    "            times=times,\n",
    "            input_data=subduction_kinematics_dir,\n",
    "            agegrid_dir=agegrid_dir,\n",
    "            topology_features=feature_filenames,\n",
    "            rotation_model=rotation_filenames,\n",
    "            sedthick_dir=sedthick_dir,\n",
    "            carbonate_dir=carbonate_dir,\n",
    "            co2_dir=co2_dir,\n",
    "            subducted_thickness_dir=os.path.join(\n",
    "                subducted_quantities_dir,\n",
    "                \"plate_thickness\",\n",
    "            ),\n",
    "            subducted_sediments_dir=os.path.join(\n",
    "                subducted_quantities_dir,\n",
    "                \"sediment_thickness\",\n",
    "            ),\n",
    "            subducted_carbonates_dir=os.path.join(\n",
    "                subducted_quantities_dir,\n",
    "                \"carbonate_thickness\",\n",
    "            ),\n",
    "            subducted_water_dir=os.path.join(\n",
    "                subducted_quantities_dir,\n",
    "                \"water_thickness\",\n",
    "            ),\n",
    "            verbose=verbose,\n",
    "        )\n",
    "    subduction_data[\"plate_thickness (m)\"] = plate_isotherm_depth(\n",
    "        subduction_data[\"seafloor_age (Ma)\"],\n",
    "        maxiter=100,\n",
    "    )\n",
    "    subduction_data = calculate_water_thickness(data=subduction_data)\n",
    "    subduction_data = calculate_slab_flux(subduction_data)\n",
    "    subduction_data = calculate_slab_dip(subduction_data)\n",
    "    if subduction_data_filename is not None:\n",
    "        subduction_data.to_csv(subduction_data_filename, index=False)\n"
   ]
  },
  {
   "attachments": {},
   "cell_type": "markdown",
   "id": "c13f1fcf",
   "metadata": {
    "papermill": {
     "duration": 0.00351,
     "end_time": "2024-02-01T04:20:14.004733",
     "exception": false,
     "start_time": "2024-02-01T04:20:14.001223",
     "status": "completed"
    },
    "tags": []
   },
   "source": [
    "### Create study area polygons along subduction zones"
   ]
  },
  {
   "cell_type": "code",
   "execution_count": 5,
   "id": "c9007fbf",
   "metadata": {
    "execution": {
     "iopub.execute_input": "2024-02-01T04:20:14.012533Z",
     "iopub.status.busy": "2024-02-01T04:20:14.012285Z",
     "iopub.status.idle": "2024-02-01T04:21:17.761117Z",
     "shell.execute_reply": "2024-02-01T04:21:17.760379Z"
    },
    "papermill": {
     "duration": 63.754633,
     "end_time": "2024-02-01T04:21:17.762867",
     "exception": false,
     "start_time": "2024-02-01T04:20:14.008234",
     "status": "completed"
    },
    "tags": []
   },
   "outputs": [],
   "source": [
    "if overwrite or not os.path.isdir(study_area_dir):\n",
    "    run_create_study_area_polygons(\n",
    "        nprocs=n_jobs,\n",
    "        times=times,\n",
    "        topological_features=feature_filenames,\n",
    "        rotation_model=rotation_filenames,\n",
    "        output_dir=study_area_dir,\n",
    "        verbose=verbose,\n",
    "        return_output=False,\n",
    "    )\n"
   ]
  },
  {
   "attachments": {},
   "cell_type": "markdown",
   "id": "fd820aa6",
   "metadata": {
    "papermill": {
     "duration": 0.003665,
     "end_time": "2024-02-01T04:21:17.770448",
     "exception": false,
     "start_time": "2024-02-01T04:21:17.766783",
     "status": "completed"
    },
    "tags": []
   },
   "source": [
    "### Generate random unlabelled data points"
   ]
  },
  {
   "cell_type": "code",
   "execution_count": 6,
   "id": "469bcdb3",
   "metadata": {
    "execution": {
     "iopub.execute_input": "2024-02-01T04:21:17.779562Z",
     "iopub.status.busy": "2024-02-01T04:21:17.778978Z",
     "iopub.status.idle": "2024-02-01T04:36:34.277930Z",
     "shell.execute_reply": "2024-02-01T04:36:34.277264Z"
    },
    "papermill": {
     "duration": 916.505708,
     "end_time": "2024-02-01T04:36:34.279748",
     "exception": false,
     "start_time": "2024-02-01T04:21:17.774040",
     "status": "completed"
    },
    "tags": []
   },
   "outputs": [],
   "source": [
    "unlabelled = generate_unlabelled_points(\n",
    "    times=times,\n",
    "    input_dir=study_area_dir,\n",
    "    num=num_unlabelled,\n",
    "    threads=n_jobs,\n",
    "    seed=random_seed,\n",
    "    topological_features=feature_filenames,\n",
    "    rotation_model=rotation_filenames,\n",
    "    verbose=verbose,\n",
    ")\n"
   ]
  },
  {
   "attachments": {},
   "cell_type": "markdown",
   "id": "f8775853",
   "metadata": {
    "papermill": {
     "duration": 0.00385,
     "end_time": "2024-02-01T04:36:34.291518",
     "exception": false,
     "start_time": "2024-02-01T04:36:34.287668",
     "status": "completed"
    },
    "tags": []
   },
   "source": [
    "### Combine labelled deposit/non-deposit data with random unlabelled data"
   ]
  },
  {
   "cell_type": "code",
   "execution_count": 7,
   "id": "f002d601",
   "metadata": {
    "execution": {
     "iopub.execute_input": "2024-02-01T04:36:34.304011Z",
     "iopub.status.busy": "2024-02-01T04:36:34.303798Z",
     "iopub.status.idle": "2024-02-01T04:38:40.810774Z",
     "shell.execute_reply": "2024-02-01T04:38:40.810050Z"
    },
    "papermill": {
     "duration": 126.518327,
     "end_time": "2024-02-01T04:38:40.812572",
     "exception": false,
     "start_time": "2024-02-01T04:36:34.294245",
     "status": "completed"
    },
    "tags": []
   },
   "outputs": [],
   "source": [
    "combined_points = combine_point_data(\n",
    "    deposit_data=deposits_filename,\n",
    "    unlabelled_data=unlabelled,\n",
    "    static_polygons=static_polygons_filename,\n",
    "    topological_features=feature_filenames,\n",
    "    rotation_model=rotation_filenames,\n",
    "    study_area_dir=study_area_dir,\n",
    "    min_time=min(times),\n",
    "    max_time=max(times),\n",
    "    n_jobs=n_jobs,\n",
    "    verbose=verbose,\n",
    ")\n",
    "del unlabelled\n"
   ]
  },
  {
   "attachments": {},
   "cell_type": "markdown",
   "id": "5da1c1a7",
   "metadata": {
    "papermill": {
     "duration": 0.002934,
     "end_time": "2024-02-01T04:38:40.818846",
     "exception": false,
     "start_time": "2024-02-01T04:38:40.815912",
     "status": "completed"
    },
    "tags": []
   },
   "source": [
    "### Assign subduction data to point deposit/non-deposit/unlabelled data"
   ]
  },
  {
   "cell_type": "code",
   "execution_count": 8,
   "id": "6f932fe0",
   "metadata": {
    "execution": {
     "iopub.execute_input": "2024-02-01T04:38:40.827705Z",
     "iopub.status.busy": "2024-02-01T04:38:40.827441Z",
     "iopub.status.idle": "2024-02-01T04:38:49.874098Z",
     "shell.execute_reply": "2024-02-01T04:38:49.873550Z"
    },
    "papermill": {
     "duration": 9.052644,
     "end_time": "2024-02-01T04:38:49.875831",
     "exception": false,
     "start_time": "2024-02-01T04:38:40.823187",
     "status": "completed"
    },
    "tags": []
   },
   "outputs": [],
   "source": [
    "coregistered_data = run_coregister_combined_point_data(\n",
    "    point_data=combined_points,\n",
    "    subduction_data=subduction_data,\n",
    "    n_jobs=n_jobs,\n",
    "    verbose=verbose,\n",
    ")\n",
    "del combined_points, subduction_data\n"
   ]
  },
  {
   "attachments": {},
   "cell_type": "markdown",
   "id": "049e3a37",
   "metadata": {
    "papermill": {
     "duration": 0.003226,
     "end_time": "2024-02-01T04:38:49.882554",
     "exception": false,
     "start_time": "2024-02-01T04:38:49.879328",
     "status": "completed"
    },
    "tags": []
   },
   "source": [
    "### Assign magnetic anomaly and crustal thickness data to point data"
   ]
  },
  {
   "cell_type": "code",
   "execution_count": 9,
   "id": "63ca008c",
   "metadata": {
    "execution": {
     "iopub.execute_input": "2024-02-01T04:38:49.889717Z",
     "iopub.status.busy": "2024-02-01T04:38:49.889467Z",
     "iopub.status.idle": "2024-02-01T04:39:52.417872Z",
     "shell.execute_reply": "2024-02-01T04:39:52.417186Z"
    },
    "papermill": {
     "duration": 62.534356,
     "end_time": "2024-02-01T04:39:52.419860",
     "exception": false,
     "start_time": "2024-02-01T04:38:49.885504",
     "status": "completed"
    },
    "tags": []
   },
   "outputs": [],
   "source": [
    "coregistered_data = run_coregister_crustal_thickness(\n",
    "    point_data=coregistered_data,\n",
    "    input_dir=crustal_thickness_dir,\n",
    "    n_jobs=n_jobs,\n",
    "    verbose=verbose,\n",
    ")\n",
    "coregistered_data = coregister_magnetic(\n",
    "    data=coregistered_data,\n",
    "    filename=mag_anomaly_filename,\n",
    "    n_jobs=n_jobs,\n",
    ")\n"
   ]
  },
  {
   "cell_type": "markdown",
   "id": "930468be",
   "metadata": {
    "papermill": {
     "duration": 0.00347,
     "end_time": "2024-02-01T04:39:52.428717",
     "exception": false,
     "start_time": "2024-02-01T04:39:52.425247",
     "status": "completed"
    },
    "tags": []
   },
   "source": [
    "### Calculate cumulative erosion"
   ]
  },
  {
   "cell_type": "code",
   "execution_count": 10,
   "id": "15fe4a5c",
   "metadata": {
    "execution": {
     "iopub.execute_input": "2024-02-01T04:39:52.437782Z",
     "iopub.status.busy": "2024-02-01T04:39:52.437533Z",
     "iopub.status.idle": "2024-02-01T04:40:34.026901Z",
     "shell.execute_reply": "2024-02-01T04:40:34.026085Z"
    },
    "papermill": {
     "duration": 41.596609,
     "end_time": "2024-02-01T04:40:34.028888",
     "exception": false,
     "start_time": "2024-02-01T04:39:52.432279",
     "status": "completed"
    },
    "tags": []
   },
   "outputs": [],
   "source": [
    "coregistered_data = calculate_erodep(\n",
    "    coregistered_data,\n",
    "    input_dir=erodep_dir,\n",
    "    n_jobs=n_jobs,\n",
    "    column_name=\"erosion (m)\",\n",
    "    verbose=verbose,\n",
    ")\n"
   ]
  },
  {
   "cell_type": "markdown",
   "id": "a4d0d00f",
   "metadata": {
    "papermill": {
     "duration": 0.005218,
     "end_time": "2024-02-01T04:40:34.070690",
     "exception": false,
     "start_time": "2024-02-01T04:40:34.065472",
     "status": "completed"
    },
    "tags": []
   },
   "source": [
    "### Assign data to regions"
   ]
  },
  {
   "cell_type": "code",
   "execution_count": 11,
   "id": "98a93d0e",
   "metadata": {
    "execution": {
     "iopub.execute_input": "2024-02-01T04:40:34.080226Z",
     "iopub.status.busy": "2024-02-01T04:40:34.079924Z",
     "iopub.status.idle": "2024-02-01T04:40:34.262097Z",
     "shell.execute_reply": "2024-02-01T04:40:34.261458Z"
    },
    "papermill": {
     "duration": 0.189401,
     "end_time": "2024-02-01T04:40:34.263909",
     "exception": false,
     "start_time": "2024-02-01T04:40:34.074508",
     "status": "completed"
    },
    "tags": []
   },
   "outputs": [],
   "source": [
    "points = gpd.GeoSeries.from_xy(\n",
    "    coregistered_data[\"present_lon\"],\n",
    "    coregistered_data[\"present_lat\"],\n",
    "    index=coregistered_data.index,\n",
    ")\n",
    "coregistered_data[\"region\"] = assign_regions(\n",
    "    points,\n",
    "    regions=regions_filename,\n",
    ")\n",
    "del points\n"
   ]
  },
  {
   "cell_type": "code",
   "execution_count": 12,
   "id": "a3de5c45",
   "metadata": {
    "execution": {
     "iopub.execute_input": "2024-02-01T04:40:34.271230Z",
     "iopub.status.busy": "2024-02-01T04:40:34.270990Z",
     "iopub.status.idle": "2024-02-01T04:40:36.456667Z",
     "shell.execute_reply": "2024-02-01T04:40:36.456072Z"
    },
    "papermill": {
     "duration": 2.191004,
     "end_time": "2024-02-01T04:40:36.458240",
     "exception": false,
     "start_time": "2024-02-01T04:40:34.267236",
     "status": "completed"
    },
    "tags": []
   },
   "outputs": [
    {
     "data": {
      "text/plain": [
       "source                                                                                                                                                                                                                                                                                                                                                                                                                                                                                                                                                                                                                                                                                                                                                                                                                                                                                   region          label     \n",
       "COULTHARD D. A. JR., REAGAN M. K., GIORDANO D., BINDEMAN I. N., BROUNCE M. N., ALMEEV R. R., RYAN J. G., CHAPMAN T., SHERVAIS J. W., PEARCE J. A.:    MAGMA SOURCE EVOLUTION FOLLOWING SUBDUCTION INITIATION: EVIDENCE FROM THE ELEMENT CONCENTRATIONS, STABLE ISOTOPE RATIOS, AND WATER CONTENTS OF VOLCANIC GLASSES FROM THE BONIN FOREARC (IODP EXPEDITION 352)  GEOCHEMISTRY GEOPHYSICS GEOSYSTEMS 22 (E202GC009054)  [2021]    doi: 10.1029/2020GC009054                                                                                                                                                                                                                                                                                                                                                                                                                            Other           negative        60\n",
       "DUGGEN S., HOERNLE K. A., KL�GEL A., GELDMACHER J., THIRLWALL M. F., HAUFF F., LOWRY D., OATES N.:    GEOCHEMICAL ZONATION OF THE MIOCENE ALBORAN BASIN VOLCANISM (WESTERNMOST MEDITERRANEAN): GEODYNAMIC IMPLICATIONS  CONTRIB. MINERAL. PETROL. 156   [2008] 577-593    GeoReM-id: 4334   doi: 10.1007/s00410-008-0302-4                                                                                                                                                                                                                                                                                                                                                                                                                                                                                                                                                               Tethys          negative         2\n",
       "Diaz-Rodriguez et al. 2021                                                                                                                                                                                                                                                                                                                                                                                                                                                                                                                                                                                                                                                                                                                                                                                                                                                               North America   negative        45\n",
       "                                                                                                                                                                                                                                                                                                                                                                                                                                                                                                                                                                                                                                                                                                                                                                                                                                                                                                         positive       162\n",
       "                                                                                                                                                                                                                                                                                                                                                                                                                                                                                                                                                                                                                                                                                                                                                                                                                                                                                         South America   negative       979\n",
       "                                                                                                                                                                                                                                                                                                                                                                                                                                                                                                                                                                                                                                                                                                                                                                                                                                                                                                         positive       126\n",
       "GODOY B., W�RNER G., VINAS R., DE SILVA S. L., PARADA M. A., KOJIMA S., GONZALEZ-MAUREL O., MORATA D., POLANCO E., MARTINEZ P.:    SR- AND ND- ISOTOPE VARIATIONS ALONG THE PLEISTOCENE SAN PEDRO - LINZOR VOLCANIC CHAIN, N. CHILE: TRACKING THE INFLUENCE OF THE UPPER CRUSTAL ALTIPLANO-PUNA MAGMA BODY  J. VOLCANOL. GEOTHERM. RES. 341   [2017] 172-186    doi: 10.1016/j.jvolgeores.2017.05.030; MAMANI M., W�RNER G., SEMPERE T.:    GEOCHEMICAL VARIATIONS IN IGNEOUS ROCKS OF THE CENTRAL ANDEAN OROCLINE (13�S TO 18�S): TRACING CRUSTAL THICKENING AND MAGMA GENERATION THROUGH TIME AND SPACE  BULL. GEOL. SOC. AM. 122   [2010] 162-182    doi: 10.1130/B26538.1; MAMANI M., TASSARA A., W�RNER G.:    COMPOSITION AND STRUCTURAL CONTROL OF CRUSTAL DOMAINS IN THE CENTRAL ANDES  GEOCHEMISTRY GEOPHYSICS GEOSYSTEMS 9   [2008]    doi: 10.1029/2007GC001925               South America   negative         1\n",
       "HOERNLE K. A., VAN DEN BOGAARD P., DUGGEN S., MOCEK B., GARBE-SCH�NBERG D.:    EVIDENCE FOR MIOCENE SUBDUCTION BENEATH THE ALBORAN SEA: 40AR/39AR DATING AND GEOCHEMISTRY OF VOLCANIC ROCKS FROM HOLES 977A AND 978A  PROC. OCEAN DRILL. PROGRAM, SCIENT. RESULTS 161   [1999] 357-373    doi: 10.2973/odp.proc.sr.161.264.1999                                                                                                                                                                                                                                                                                                                                                                                                                                                                                                                                                          Tethys          negative         3\n",
       "Hoggard et al. (2020)                                                                                                                                                                                                                                                                                                                                                                                                                                                                                                                                                                                                                                                                                                                                                                                                                                                                    East Asia       positive         5\n",
       "                                                                                                                                                                                                                                                                                                                                                                                                                                                                                                                                                                                                                                                                                                                                                                                                                                                                                         North America   positive        93\n",
       "                                                                                                                                                                                                                                                                                                                                                                                                                                                                                                                                                                                                                                                                                                                                                                                                                                                                                         Other           positive         1\n",
       "                                                                                                                                                                                                                                                                                                                                                                                                                                                                                                                                                                                                                                                                                                                                                                                                                                                                                         South America   positive        85\n",
       "                                                                                                                                                                                                                                                                                                                                                                                                                                                                                                                                                                                                                                                                                                                                                                                                                                                                                         Southeast Asia  positive        55\n",
       "                                                                                                                                                                                                                                                                                                                                                                                                                                                                                                                                                                                                                                                                                                                                                                                                                                                                                         Tethys          positive        61\n",
       "ISHIZUKA O., KIMURA J.-I., LI YI-BING, STERN R. J., REAGAN M. K., TAYLOR R. N., OHARA Y., BLOOMER S. H., ISHII T., HARGROVE III U. S., HARAGUCHI S.:    EARLY STAGES IN THE EVOLUTION OF IZU-BONIN ARC VOLCANISM: NEW AGE, CHEMICAL, AND ISOTOPIC CONSTRAINTS  EARTH PLANET. SCI. LETT. 250   [2006] 385-401    GeoReM-id: 2502   doi: 10.1016/j.epsl.2006.08.007                                                                                                                                                                                                                                                                                                                                                                                                                                                                                                                        Other           negative        12\n",
       "ISHIZUKA O., TAYLOR R. N., UMINO S., KANAYAMA K.:    GEOCHEMICAL EVOLUTION OF ARC AND SLAB FOLLOWING SUBDUCTION INITIATION: A RECORD FROM THE BONIN ISLANDS, JAPAN  J. PETROL. 61 (EGAA050)  [2020]    doi: 10.1093/petrology/egaa050                                                                                                                                                                                                                                                                                                                                                                                                                                                                                                                                                                                                                                                    Other           negative       105\n",
       "JALOWITZKI T. L. R., GERVASONI F., CONCEIAO R. V., ORIHASHI Y., BERTOTTO G. W., SUMINO H., SCHILLING M. E., NAGAO K., MORATA D., SYLVESTER P. J.:    SLAB-DERIVED COMPONENTS IN THE SUBCONTINENTAL LITHOSPHERIC MANTLE BENEATH CHILEAN PATAGONIA: GEOCHEMISTRY AND SR-ND-PB ISOTOPES OF MANTLE XENOLITHS AND HOST BASALT  LITHOS 292-293   [2017] 179-197    GeoReM-id: 10699   doi: 10.1016/j.lithos.2017.09.008                                                                                                                                                                                                                                                                                                                                                                                                                                                                        South America   negative       117\n",
       "KIMURA J.-I., KENT A. J. R., ROWE M. C., KATAKUSE M., NAKANO F., LE GRANGE M., VAN KEKEN P. E., KAWABATA H., STERN R. J.:    ORIGIN OF CROSS-CHAIN GEOCHEMICAL VARIATION IN QUATERNARY LAVAS FROM THE NORTHERN IZU ARC: USING A QUANTITATIVE MASS BALANCE APPROACH TO IDENTIFY MANTLE SOURCES AND MANTLE WEDGE PROCESSES  GEOCHEMISTRY GEOPHYSICS GEOSYSTEMS 11   [2010]    GeoReM-id: 5465   doi: 10.1029/2010GC003050                                                                                                                                                                                                                                                                                                                                                                                                                                                                  East Asia       negative         1\n",
       "MAMANI M., W�RNER G., SEMPERE T.:    GEOCHEMICAL VARIATIONS IN IGNEOUS ROCKS OF THE CENTRAL ANDEAN OROCLINE (13�S TO 18�S): TRACING CRUSTAL THICKENING AND MAGMA GENERATION THROUGH TIME AND SPACE  BULL. GEOL. SOC. AM. 122   [2010] 162-182    doi: 10.1130/B26538.1                                                                                                                                                                                                                                                                                                                                                                                                                                                                                                                                                                                                                   South America   negative         2\n",
       "MAMANI M., W�RNER G., SEMPERE T.:    GEOCHEMICAL VARIATIONS IN IGNEOUS ROCKS OF THE CENTRAL ANDEAN OROCLINE (13�S TO 18�S): TRACING CRUSTAL THICKENING AND MAGMA GENERATION THROUGH TIME AND SPACE  BULL. GEOL. SOC. AM. 122   [2010] 162-182    doi: 10.1130/B26538.1; MAMANI M., TASSARA A., W�RNER G.:    COMPOSITION AND STRUCTURAL CONTROL OF CRUSTAL DOMAINS IN THE CENTRAL ANDES  GEOCHEMISTRY GEOPHYSICS GEOSYSTEMS 9   [2008]    doi: 10.1029/2007GC001925                                                                                                                                                                                                                                                                                                                                                                                                                      South America   negative         1\n",
       "MARTYNOV A. YU., MARTYNOV YU. A., RYBIN A. V., KIMURA J.-I.:    ROLE OF BACK-ARC TECTONICS IN THE ORIGIN OF SUBDUCTION MAGMAS: NEW SR, ND, AND PB ISOTOPE DATA FROM MIDDLE MIOCENE LAVAS OF KUNASHIR ISLAND (KURILE ISLAND ARC)  RUSS. GEOL. GEOPHYS. 56   [2015] 363-378    doi: 10.1016/j.rgg.2015.02.001                                                                                                                                                                                                                                                                                                                                                                                                                                                                                                                                                                              East Asia       negative         3\n",
       "MARTYNOV A. YU., MARTYNOV YU. A.:    PLEISTOCENE BASALTIC VOLCANISM OF KUNASHIR ISLAND (KURIL ISLAND ARC): MINERALOGY, GEOCHEMISTRY, AND RESULTS OF COMPUTER SIMULATION  PETROLOGY 25   [2017] 206-225    doi: 10.1134/S0869591117020035                                                                                                                                                                                                                                                                                                                                                                                                                                                                                                                                                                                                                                                 East Asia       negative         1\n",
       "PEARCE J. A., KEMPTON P. D., NOWELL G. M., NOBLE S. R.:    HF-ND ELEMENT AND ISOTOPE PERSPECTIVE ON THE NATURE AND PROVENANCE OF MANTLE AND SUBDUCTION COMPONENTS IN WESTERN PACIFIC ARC-BASIN SYSTEMS  J. PETROL. 40   [1999] 1579-1611    doi: 10.1093/petroj/40.11.1579                                                                                                                                                                                                                                                                                                                                                                                                                                                                                                                                                                                                               Other           negative         1\n",
       "PEARCE J. A., KEMPTON P. D., NOWELL G. M., NOBLE S. R.:    HF-ND ELEMENT AND ISOTOPE PERSPECTIVE ON THE NATURE AND PROVENANCE OF MANTLE AND SUBDUCTION COMPONENTS IN WESTERN PACIFIC ARC-BASIN SYSTEMS  J. PETROL. 40   [1999] 1579-1611    doi: 10.1093/petroj/40.11.1579; MURTON B. J., PEATE D. W., ARCULUS R. J., PEARCE J. A., VAN DER LAAN S. R.:    TRACE-ELEMENT GEOCHEMISTRY OF VOLCANIC ROCKS FROM SITE 786: THE IZU-BONIN FOREARC  PROC. OCEAN DRILL. PROGRAM, SCIENT. RESULTS 125   [1992] 211-235    doi: 10.2973/odp.proc.sr.125.133.1992                                                                                                                                                                                                                                                                                                                                  Other           negative         1\n",
       "PEARCE J. A., KEMPTON P. D., NOWELL G. M., NOBLE S. R.:    HF-ND ELEMENT AND ISOTOPE PERSPECTIVE ON THE NATURE AND PROVENANCE OF MANTLE AND SUBDUCTION COMPONENTS IN WESTERN PACIFIC ARC-BASIN SYSTEMS  J. PETROL. 40   [1999] 1579-1611    doi: 10.1093/petroj/40.11.1579; MURTON B. J., PEATE D. W., ARCULUS R. J., PEARCE J. A., VAN DER LAAN S. R.:    TRACE-ELEMENT GEOCHEMISTRY OF VOLCANIC ROCKS FROM SITE 786: THE IZU-BONIN FOREARC  PROC. OCEAN DRILL. PROGRAM, SCIENT. RESULTS 125   [1992] 211-235    doi: 10.2973/odp.proc.sr.125.133.1992; ARCULUS R. J., PEARCE J. A., MURTON B. J., VAN DER LAAN S. R.:    IGNEOUS STRATIGRAPHY AND MAJOR-ELEMENT GEOCHEMISTRY OF HOLES 786A AND 786B  PROC. OCEAN DRILL. PROGRAM, SCIENT. RESULTS 125   [1992] 143-169    doi: 10.2973/odp.proc.sr.125.137.1992                                                                         Other           negative         1\n",
       "PEARCE J. A., KEMPTON P. D., NOWELL G. M., NOBLE S. R.:    HF-ND ELEMENT AND ISOTOPE PERSPECTIVE ON THE NATURE AND PROVENANCE OF MANTLE AND SUBDUCTION COMPONENTS IN WESTERN PACIFIC ARC-BASIN SYSTEMS  J. PETROL. 40   [1999] 1579-1611    doi: 10.1093/petroj/40.11.1579; MURTON B. J., PEATE D. W., ARCULUS R. J., PEARCE J. A., VAN DER LAAN S. R.:    TRACE-ELEMENT GEOCHEMISTRY OF VOLCANIC ROCKS FROM SITE 786: THE IZU-BONIN FOREARC  PROC. OCEAN DRILL. PROGRAM, SCIENT. RESULTS 125   [1992] 211-235    doi: 10.2973/odp.proc.sr.125.133.1992; PEARCE J. A., THIRLWALL M. F., IMGRAM G., MURTON B. J., ARCULUS R. J., VAN DER LAAN S. R.:    ISOTOPIC EVIDENCE FOR THE ORIGIN OF BONINITES AND RELATED ROCKS DRILLED IN THE IZU-BONIN (OGASAWARA) FOREARC, LEG 125  PROC. OCEAN DRILL. PROGRAM, SCIENT. RESULTS 125   [1992] 237-261    doi: 10.2973/odp.proc.sr.125.134.1992  Other           negative         1\n",
       "PEARCE J. A., VAN DER LAAN S. R., ARCULUS R. J., MURTON B. J., ISHII T., PEATE D. W., PARKINSON I. J.:    BONINITE AND HARZBURGITE FROM LEG 125 (BONIN-MARIANA FOREARC): A CASE STUDY OF MAGMA GENESIS DURING THE INITIAL STAGES OF SUBDUCTION  PROC. OCEAN DRILL. PROGRAM, SCIENT. RESULTS 125   [1992] 623-659    doi: 10.2973/odp.proc.sr.125.172.1992                                                                                                                                                                                                                                                                                                                                                                                                                                                                                                                                Other           negative        16\n",
       "SCHINDLBECK-BELO J. C., KUTTEROLF S., STRAUB S. M., ANDREWS G. D. M., WANG KUO-LUNG, MLENECK-VAUTRAVERS M. J.:    ONE MILLION YEARS TEPHRA RECORD AT IODP SITES U1436 AND U1437: INSIGHTS INTO EXPLOSIVE VOLCANISM FROM THE JAPAN AND IZU ARCS  THE ISLAND ARC 27 (E12244)  [2018]    doi: 10.1111/iar.12244                                                                                                                                                                                                                                                                                                                                                                                                                                                                                                                                                                             East Asia       negative         2\n",
       "SOTIRIOU P., HAASE K. M., SCHNEIDER K. P., GROSCHE A., NOEBEL K. M., CHIVAS A. R.:    GROWTH OF THE UPPER CRUST IN INTRA-OCEANIC ISLAND ARCS BY INTRUSION OF BASALTIC MAGMAS: THE CASE OF THE KOLOULA IGNEOUS COMPLEX, GUADALCANAL, SOLOMON ISLANDS (SW PACIFIC)  CONTRIB. MINERAL. PETROL. 177 (107)  [2022]    doi: 10.1007/s00410-022-01972-z                                                                                                                                                                                                                                                                                                                                                                                                                                                                                                                                         Southeast Asia  negative         1\n",
       "TAYLOR R. N., NESBITT R. W., VIDAL P., HARMON R. S., AUVRAY B., CROUDACE I. W.:    MINERALOGY, CHEMISTRY, AND GENESIS OF THE BONINITE SERIES VOLCANICS, CHICHIJIMA, BONIN ISLANDS, JAPAN  J. PETROL. 35   [1994] 577-617    doi: 10.1093/petrology/35.3.577                                                                                                                                                                                                                                                                                                                                                                                                                                                                                                                                                                                                                              Other           negative         6\n",
       "TURNER SIMON P., PLATT R. G., GEORGE R. M. M., KELLEY S. P., PEARSON D. G., NOWELL G. M.:    MAGMATISM ASSOCIATED WITH OROGENIC COLLAPSE OF THE BETIC-ALBORAN DOMAIN, SE SPAIN  J. PETROL. 40   [1999] 1011-1036    doi: 10.1093/petroj/40.6.1011                                                                                                                                                                                                                                                                                                                                                                                                                                                                                                                                                                                                                                        Tethys          negative         5\n",
       "TURNER SIMON P., PLATT R. G., GEORGE R. M. M., KELLEY S. P., PEARSON D. G., NOWELL G. M.:    MAGMATISM ASSOCIATED WITH OROGENIC COLLAPSE OF THE BETIC-ALBORAN DOMAIN, SE SPAIN  J. PETROL. 40   [1999] 1011-1036    doi: 10.1093/petroj/40.6.1011; SCHAEFER B. F, TURNER SIMON P., ROGERS N. W., HAWKESWORTH C. J., WILLIAMS H. M., PEARSON D. G., NOWELL G. M.:    RE-OS ISOTOPE CHARACTERISTICS OF POSTOROGENIC LAVAS: IMPLICATIONS FOR THE NATURE OF YOUNG LITHOSPHERIC MANTLE AND ITS CONTRIBUTION TO BASALTIC MAGMAS  GEOLOGY 28   [2000] 563-566    doi: 10.1130/0091-7613(2000)28<563:RICOPL>2.0.CO;2                                                                                                                                                                                                                                                                             Tethys          negative        10\n",
       "WOODHEAD J. D., EGGINS S. M., JOHNSON R. W.:    MAGMA GENESIS IN THE NEW BRITAIN ISLAND ARC: FURTHER INSIGHTS INTO MELTING AND MASS TRANSFER PROCESSES  J. PETROL. 39   [1998] 1641-1668    doi: 10.1093/petroj/39.9.1641                                                                                                                                                                                                                                                                                                                                                                                                                                                                                                                                                                                                                                                                Southeast Asia  negative         1\n",
       "WOODHEAD J. D., EGGINS S. M., JOHNSON R. W.:    MAGMA GENESIS IN THE NEW BRITAIN ISLAND ARC: FURTHER INSIGHTS INTO MELTING AND MASS TRANSFER PROCESSES  J. PETROL. 39   [1998] 1641-1668    doi: 10.1093/petroj/39.9.1641; WOODHEAD J. D., BRAUNS M.:    CURRENT LIMITATIONS OF THE UNDERSTANDING OF RE-OS BEHAVIOUR IN SUBDUCTION SYSTEMS, WITH AN EXAMPLE FROM NEW BRITAIN  EARTH PLANET. SCI. LETT. 221   [2004] 309-323    doi: 10.1016/S0012-821X(04)00091-3; WOODHEAD J. D., HERGT J. M., DAVIDSON J. P., EGGINS S. M.:    HAFNIUM ISOTOPE EVIDENCE FOR ^CONSERVATIVE^ ELEMENT MOBILITY DURING SUBDUCTION ZONE PROCESSES  EARTH PLANET. SCI. LETT. 192   [2001] 331-346    doi: 10.1016/S0012-821X(01)00453-8                                                                                                                                                                      Southeast Asia  negative         1\n",
       "WOODHEAD J. D., JOHNSON R. W.:    ISOTOPIC AND TRACE-ELEMENT PROFILES ACROSS THE NEW BRITAIN ISLAND ARC, PAPUA NEW GUINEA  CONTRIB. MINERAL. PETROL. 113   [1993] 479-491    doi: 10.1007/BF00698317; WOODHEAD J. D., EGGINS S. M., JOHNSON R. W.:    MAGMA GENESIS IN THE NEW BRITAIN ISLAND ARC: FURTHER INSIGHTS INTO MELTING AND MASS TRANSFER PROCESSES  J. PETROL. 39   [1998] 1641-1668    doi: 10.1093/petroj/39.9.1641                                                                                                                                                                                                                                                                                                                                                                                                                                                          Southeast Asia  negative         1\n",
       "random                                                                                                                                                                                                                                                                                                                                                                                                                                                                                                                                                                                                                                                                                                                                                                                                                                                                                   East Asia       unlabelled    4574\n",
       "                                                                                                                                                                                                                                                                                                                                                                                                                                                                                                                                                                                                                                                                                                                                                                                                                                                                                         North America   unlabelled    7392\n",
       "                                                                                                                                                                                                                                                                                                                                                                                                                                                                                                                                                                                                                                                                                                                                                                                                                                                                                         Other           unlabelled    4166\n",
       "                                                                                                                                                                                                                                                                                                                                                                                                                                                                                                                                                                                                                                                                                                                                                                                                                                                                                         South America   unlabelled    6204\n",
       "                                                                                                                                                                                                                                                                                                                                                                                                                                                                                                                                                                                                                                                                                                                                                                                                                                                                                         Southeast Asia  unlabelled    7455\n",
       "                                                                                                                                                                                                                                                                                                                                                                                                                                                                                                                                                                                                                                                                                                                                                                                                                                                                                         Tethys          unlabelled    6020\n",
       "dtype: int64"
      ]
     },
     "execution_count": 12,
     "metadata": {},
     "output_type": "execute_result"
    }
   ],
   "source": [
    "coregistered_data.to_csv(output_filename, index=False)\n",
    "\n",
    "coregistered_data.groupby([\"source\", \"region\", \"label\"]).size()\n"
   ]
  },
  {
   "cell_type": "code",
   "execution_count": null,
   "id": "a78df4c5",
   "metadata": {
    "papermill": {
     "duration": 0.005064,
     "end_time": "2024-02-01T04:40:36.469419",
     "exception": false,
     "start_time": "2024-02-01T04:40:36.464355",
     "status": "completed"
    },
    "tags": []
   },
   "outputs": [],
   "source": []
  }
 ],
 "metadata": {
  "kernelspec": {
   "display_name": "datamining",
   "language": "python",
   "name": "python3"
  },
  "language_info": {
   "codemirror_mode": {
    "name": "ipython",
    "version": 3
   },
   "file_extension": ".py",
   "mimetype": "text/x-python",
   "name": "python",
   "nbconvert_exporter": "python",
   "pygments_lexer": "ipython3",
   "version": "3.11.7"
  },
  "papermill": {
   "default_parameters": {},
   "duration": 1237.794352,
   "end_time": "2024-02-01T04:40:39.294002",
   "environment_variables": {},
   "exception": null,
   "input_path": "00c-extract_training_data_global.ipynb",
   "output_path": "00c-extract_training_data_global.ipynb",
   "parameters": {},
   "start_time": "2024-02-01T04:20:01.499650",
   "version": "2.4.0"
  }
 },
 "nbformat": 4,
 "nbformat_minor": 5
}