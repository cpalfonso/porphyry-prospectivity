{
 "cells": [
  {
   "attachments": {},
   "cell_type": "markdown",
   "id": "80263a75",
   "metadata": {
    "papermill": {
     "duration": 0.00703,
     "end_time": "2024-07-05T04:58:14.277311",
     "exception": false,
     "start_time": "2024-07-05T04:58:14.270281",
     "status": "completed"
    },
    "tags": []
   },
   "source": [
    "# Probability grids\n",
    "\n",
    "This notebook creates the time-dependent probability maps and writes them to file (`.nc` format), using the models trained in the previous notebook (`01a-create_classifiers_featureagglomeration.ipynb`). This notebook must have been run previously."
   ]
  },
  {
   "cell_type": "markdown",
   "id": "36e80d65",
   "metadata": {
    "papermill": {
     "duration": 0.006409,
     "end_time": "2024-07-05T04:58:14.303578",
     "exception": false,
     "start_time": "2024-07-05T04:58:14.297169",
     "status": "completed"
    },
    "tags": []
   },
   "source": [
    "## Notebook options\n",
    "\n",
    "These cells set some of the important variables and definitions used throughout the notebook."
   ]
  },
  {
   "cell_type": "code",
   "execution_count": 1,
   "id": "9057911b",
   "metadata": {
    "execution": {
     "iopub.execute_input": "2024-07-05T04:58:14.315320Z",
     "iopub.status.busy": "2024-07-05T04:58:14.314817Z",
     "iopub.status.idle": "2024-07-05T04:58:14.325132Z",
     "shell.execute_reply": "2024-07-05T04:58:14.323909Z"
    },
    "papermill": {
     "duration": 0.018675,
     "end_time": "2024-07-05T04:58:14.327267",
     "exception": false,
     "start_time": "2024-07-05T04:58:14.308592",
     "status": "completed"
    },
    "tags": []
   },
   "outputs": [],
   "source": [
    "# If True, use training data extracted in notebook 00c\n",
    "# Else, use pre-prepared training data downloaded from Zenodo\n",
    "use_extracted_data = True\n",
    "\n",
    "# Number of processes to use\n",
    "n_jobs = 4\n",
    "\n",
    "# Overwrite any existing output files\n",
    "overwrite = True\n",
    "\n",
    "# Control verbosity level of logging output\n",
    "verbose = True"
   ]
  },
  {
   "cell_type": "markdown",
   "id": "6bcc106f",
   "metadata": {
    "papermill": {
     "duration": 0.003413,
     "end_time": "2024-07-05T04:58:14.334000",
     "exception": false,
     "start_time": "2024-07-05T04:58:14.330587",
     "status": "completed"
    },
    "tags": []
   },
   "source": [
    "These values will usually not need to be modified:"
   ]
  },
  {
   "cell_type": "code",
   "execution_count": 2,
   "id": "40a511d9",
   "metadata": {
    "execution": {
     "iopub.execute_input": "2024-07-05T04:58:14.341197Z",
     "iopub.status.busy": "2024-07-05T04:58:14.340763Z",
     "iopub.status.idle": "2024-07-05T04:58:14.417532Z",
     "shell.execute_reply": "2024-07-05T04:58:14.416933Z"
    },
    "papermill": {
     "duration": 0.083293,
     "end_time": "2024-07-05T04:58:14.419918",
     "exception": false,
     "start_time": "2024-07-05T04:58:14.336625",
     "status": "completed"
    },
    "tags": []
   },
   "outputs": [],
   "source": [
    "import os\n",
    "\n",
    "from lib.check_files import check_prepared_data\n",
    "\n",
    "if use_extracted_data:\n",
    "    data_dir = \"extracted_data\"\n",
    "else:\n",
    "    data_dir = check_prepared_data(\"prepared_data\", verbose=True)\n",
    "\n",
    "output_dir = \"outputs_feature_agglomeration\""
   ]
  },
  {
   "cell_type": "markdown",
   "id": "2efa9d67",
   "metadata": {
    "papermill": {
     "duration": 0.003018,
     "end_time": "2024-07-05T04:58:14.426259",
     "exception": false,
     "start_time": "2024-07-05T04:58:14.423241",
     "status": "completed"
    },
    "tags": []
   },
   "source": [
    "If any of the following exist as environment variables, they will replace the values defined above:"
   ]
  },
  {
   "cell_type": "code",
   "execution_count": 3,
   "id": "f2d69c31",
   "metadata": {
    "execution": {
     "iopub.execute_input": "2024-07-05T04:58:14.437192Z",
     "iopub.status.busy": "2024-07-05T04:58:14.436825Z",
     "iopub.status.idle": "2024-07-05T04:58:14.442302Z",
     "shell.execute_reply": "2024-07-05T04:58:14.441432Z"
    },
    "papermill": {
     "duration": 0.013355,
     "end_time": "2024-07-05T04:58:14.444493",
     "exception": false,
     "start_time": "2024-07-05T04:58:14.431138",
     "status": "completed"
    },
    "tags": []
   },
   "outputs": [],
   "source": [
    "n_jobs = int(os.environ.get(\"N_JOBS\", n_jobs))\n",
    "overwrite = bool(int(os.environ.get(\"OVERWRITE\", overwrite)))\n",
    "verbose = bool(int(os.environ.get(\"VERBOSE\", verbose)))\n",
    "output_dir = os.environ.get(\"OUTPUT_DIR\", output_dir)"
   ]
  },
  {
   "cell_type": "markdown",
   "id": "544fcfcf",
   "metadata": {
    "papermill": {
     "duration": 0.003995,
     "end_time": "2024-07-05T04:58:14.451661",
     "exception": false,
     "start_time": "2024-07-05T04:58:14.447666",
     "status": "completed"
    },
    "tags": []
   },
   "source": [
    "## Notebook setup\n",
    "\n",
    "Imports, definitions, etc."
   ]
  },
  {
   "cell_type": "markdown",
   "id": "dca6800a",
   "metadata": {
    "papermill": {
     "duration": 0.00309,
     "end_time": "2024-07-05T04:58:14.458744",
     "exception": false,
     "start_time": "2024-07-05T04:58:14.455654",
     "status": "completed"
    },
    "tags": []
   },
   "source": [
    "### Imports"
   ]
  },
  {
   "cell_type": "code",
   "execution_count": 4,
   "id": "5303979d",
   "metadata": {
    "execution": {
     "iopub.execute_input": "2024-07-05T04:58:14.467363Z",
     "iopub.status.busy": "2024-07-05T04:58:14.466964Z",
     "iopub.status.idle": "2024-07-05T04:58:18.929997Z",
     "shell.execute_reply": "2024-07-05T04:58:18.929408Z"
    },
    "papermill": {
     "duration": 4.468852,
     "end_time": "2024-07-05T04:58:18.931765",
     "exception": false,
     "start_time": "2024-07-05T04:58:14.462913",
     "status": "completed"
    },
    "tags": []
   },
   "outputs": [],
   "source": [
    "import time\n",
    "from datetime import timedelta\n",
    "\n",
    "import dask\n",
    "import dask.dataframe as dd\n",
    "from dask_ml.wrappers import ParallelPostFit\n",
    "from joblib import load\n",
    "\n",
    "from lib.pu import create_probability_grids"
   ]
  },
  {
   "cell_type": "markdown",
   "id": "ae9cc890",
   "metadata": {
    "papermill": {
     "duration": 0.002557,
     "end_time": "2024-07-05T04:58:18.937210",
     "exception": false,
     "start_time": "2024-07-05T04:58:18.934653",
     "status": "completed"
    },
    "tags": []
   },
   "source": [
    "We will use `dask-ml` to handle parallelism at this stage:"
   ]
  },
  {
   "cell_type": "code",
   "execution_count": 5,
   "id": "7342050e",
   "metadata": {
    "execution": {
     "iopub.execute_input": "2024-07-05T04:58:18.943696Z",
     "iopub.status.busy": "2024-07-05T04:58:18.943243Z",
     "iopub.status.idle": "2024-07-05T04:58:18.949628Z",
     "shell.execute_reply": "2024-07-05T04:58:18.949166Z"
    },
    "papermill": {
     "duration": 0.011514,
     "end_time": "2024-07-05T04:58:18.951249",
     "exception": false,
     "start_time": "2024-07-05T04:58:18.939735",
     "status": "completed"
    },
    "tags": []
   },
   "outputs": [
    {
     "data": {
      "text/plain": [
       "<dask.config.set at 0x178899b90>"
      ]
     },
     "execution_count": 5,
     "metadata": {},
     "output_type": "execute_result"
    }
   ],
   "source": [
    "dask.config.set(num_workers=n_jobs)"
   ]
  },
  {
   "attachments": {},
   "cell_type": "markdown",
   "id": "632c1c44",
   "metadata": {
    "papermill": {
     "duration": 0.002699,
     "end_time": "2024-07-05T04:58:18.956919",
     "exception": false,
     "start_time": "2024-07-05T04:58:18.954220",
     "status": "completed"
    },
    "tags": []
   },
   "source": [
    "### Input and output files"
   ]
  },
  {
   "cell_type": "code",
   "execution_count": 6,
   "id": "f01bd62d",
   "metadata": {
    "execution": {
     "iopub.execute_input": "2024-07-05T04:58:18.963331Z",
     "iopub.status.busy": "2024-07-05T04:58:18.963090Z",
     "iopub.status.idle": "2024-07-05T04:58:25.333781Z",
     "shell.execute_reply": "2024-07-05T04:58:25.333202Z"
    },
    "papermill": {
     "duration": 6.376123,
     "end_time": "2024-07-05T04:58:25.335685",
     "exception": false,
     "start_time": "2024-07-05T04:58:18.959562",
     "status": "completed"
    },
    "tags": []
   },
   "outputs": [],
   "source": [
    "data_filename = os.path.join(data_dir, \"grid_data.csv\")\n",
    "training_filename = os.path.join(data_dir, \"training_data_global.csv\")\n",
    "\n",
    "point_data = dd.read_csv(data_filename)\n",
    "df_out = point_data[[\"lon\", \"lat\", \"present_lon\", \"present_lat\", \"age (Ma)\", \"region\"]].compute()\n",
    "regions = list(dd.read_csv(training_filename)[\"region\"].unique())\n",
    "\n",
    "output_dir = os.path.join(output_dir, \"global\")"
   ]
  },
  {
   "attachments": {},
   "cell_type": "markdown",
   "id": "dc314a0d",
   "metadata": {
    "papermill": {
     "duration": 0.00354,
     "end_time": "2024-07-05T04:58:25.342827",
     "exception": false,
     "start_time": "2024-07-05T04:58:25.339287",
     "status": "completed"
    },
    "tags": []
   },
   "source": [
    "## Calculate probabilities\n",
    "\n",
    "Deposit probability will be calculated for the gridded data and written to a CSV file."
   ]
  },
  {
   "cell_type": "code",
   "execution_count": 7,
   "id": "5ac247e1",
   "metadata": {
    "execution": {
     "iopub.execute_input": "2024-07-05T04:58:25.350506Z",
     "iopub.status.busy": "2024-07-05T04:58:25.350171Z",
     "iopub.status.idle": "2024-07-05T05:18:37.296347Z",
     "shell.execute_reply": "2024-07-05T05:18:37.295760Z"
    },
    "papermill": {
     "duration": 1211.954249,
     "end_time": "2024-07-05T05:18:37.300327",
     "exception": false,
     "start_time": "2024-07-05T04:58:25.346078",
     "status": "completed"
    },
    "tags": []
   },
   "outputs": [
    {
     "name": "stdout",
     "output_type": "stream",
     "text": [
      "Calculating probabilities for PU model complete (region: global; duration: 0:03:08.669551)\n"
     ]
    },
    {
     "name": "stdout",
     "output_type": "stream",
     "text": [
      "Calculating probabilities for PU model complete (region: North America; duration: 0:02:52.470479)\n"
     ]
    },
    {
     "name": "stdout",
     "output_type": "stream",
     "text": [
      "Calculating probabilities for PU model complete (region: South America; duration: 0:02:48.784047)\n"
     ]
    },
    {
     "name": "stdout",
     "output_type": "stream",
     "text": [
      "Calculating probabilities for PU model complete (region: Southeast Asia; duration: 0:02:52.316250)\n"
     ]
    },
    {
     "name": "stdout",
     "output_type": "stream",
     "text": [
      "Calculating probabilities for PU model complete (region: Tethys; duration: 0:02:46.209209)\n"
     ]
    },
    {
     "name": "stdout",
     "output_type": "stream",
     "text": [
      "Calculating probabilities for SVM model complete (region: global; duration: 0:02:01.187847)\n"
     ]
    },
    {
     "name": "stdout",
     "output_type": "stream",
     "text": [
      "Calculating probabilities for SVM model complete (region: North America; duration: 0:01:42.207199)\n"
     ]
    },
    {
     "name": "stdout",
     "output_type": "stream",
     "text": [
      "Calculating probabilities for SVM model complete (region: South America; duration: 0:02:00.090150)\n"
     ]
    }
   ],
   "source": [
    "for algorithm in (\"PU\", \"SVM\"):\n",
    "    t0 = time.time()\n",
    "\n",
    "    subdir = os.path.join(output_dir, algorithm)\n",
    "    model_filename = os.path.join(subdir, f\"classifier.joblib\")\n",
    "    probabilities_filename = os.path.join(\n",
    "        subdir,\n",
    "        \"grid_probabilities.csv\",\n",
    "    )\n",
    "    model = load(model_filename)\n",
    "\n",
    "    # Set model n_jobs if possible\n",
    "    # (let dask handle parallelism at this stage)\n",
    "    try:\n",
    "        model[-1].set_params(n_jobs=1)\n",
    "    except ValueError:\n",
    "        pass\n",
    "    model_parallel = ParallelPostFit(model)\n",
    "\n",
    "    point_x = point_data[model.feature_names_in_]\n",
    "    p = model_parallel.predict_proba(point_x)[:, 1].ravel().compute()\n",
    "    probabilities = df_out.copy()\n",
    "    probabilities[\"probability\"] = p\n",
    "    del p\n",
    "    probabilities.to_csv(probabilities_filename, index=False)\n",
    "    del probabilities, model\n",
    "    duration = timedelta(seconds=time.time() - t0)\n",
    "    if verbose:\n",
    "        print(\n",
    "            f\"Calculating probabilities for {algorithm} model complete\",\n",
    "            f\"(region: global; duration: {duration})\",\n",
    "        )\n",
    "\n",
    "    for region in regions:\n",
    "        region_code = \"_\".join(region.lower().split())\n",
    "        model_filename = os.path.join(\n",
    "            subdir,\n",
    "            f\"classifier_{region_code}.joblib\",\n",
    "        )\n",
    "        if not os.path.isfile(model_filename):\n",
    "            continue\n",
    "        t0 = time.time()\n",
    "\n",
    "        probabilities_filename = os.path.join(\n",
    "            subdir,\n",
    "            f\"grid_probabilities_{region_code}.csv\",\n",
    "        )\n",
    "        model = load(model_filename)\n",
    "\n",
    "        try:\n",
    "            model[-1].set_params(n_jobs=1)\n",
    "        except ValueError:\n",
    "            pass\n",
    "        model_parallel = ParallelPostFit(model)\n",
    "\n",
    "        point_x = point_data[model.feature_names_in_]\n",
    "        p = model_parallel.predict_proba(point_x)[:, 1].ravel().compute()\n",
    "        probabilities = df_out.copy()\n",
    "        probabilities[\"probability\"] = p\n",
    "        del p\n",
    "        probabilities.to_csv(probabilities_filename, index=False)\n",
    "        del probabilities, model\n",
    "        duration = timedelta(seconds=time.time() - t0)\n",
    "        if verbose:\n",
    "            print(\n",
    "                f\"Calculating probabilities for {algorithm} model complete\",\n",
    "                f\"(region: {region}; duration: {duration})\",\n",
    "            )\n",
    "\n",
    "del point_data"
   ]
  },
  {
   "cell_type": "markdown",
   "id": "e94d2cc2",
   "metadata": {
    "papermill": {
     "duration": 0.002942,
     "end_time": "2024-07-05T05:18:37.306652",
     "exception": false,
     "start_time": "2024-07-05T05:18:37.303710",
     "status": "completed"
    },
    "tags": []
   },
   "source": [
    "## Create probability maps\n",
    "\n",
    "The probabilities calculated in the previous section will now be written to one netCDF file per time step:"
   ]
  },
  {
   "cell_type": "code",
   "execution_count": 8,
   "id": "23b349d7",
   "metadata": {
    "execution": {
     "iopub.execute_input": "2024-07-05T05:18:37.314254Z",
     "iopub.status.busy": "2024-07-05T05:18:37.313999Z",
     "iopub.status.idle": "2024-07-05T06:51:50.350099Z",
     "shell.execute_reply": "2024-07-05T06:51:50.349421Z"
    },
    "papermill": {
     "duration": 5593.045553,
     "end_time": "2024-07-05T06:51:50.355606",
     "exception": false,
     "start_time": "2024-07-05T05:18:37.310053",
     "status": "completed"
    },
    "tags": []
   },
   "outputs": [
    {
     "name": "stdout",
     "output_type": "stream",
     "text": [
      "Creating grids for PU model complete (region: global; duration: 0:11:46.670145)\n"
     ]
    },
    {
     "name": "stdout",
     "output_type": "stream",
     "text": [
      "Creating grids for PU model complete (region: North America; duration: 0:11:50.172224)\n"
     ]
    },
    {
     "name": "stdout",
     "output_type": "stream",
     "text": [
      "Creating grids for PU model complete (region: South America; duration: 0:09:59.452092)\n"
     ]
    },
    {
     "name": "stdout",
     "output_type": "stream",
     "text": [
      "Creating grids for PU model complete (region: Southeast Asia; duration: 0:11:35.283714)\n"
     ]
    },
    {
     "name": "stdout",
     "output_type": "stream",
     "text": [
      "Creating grids for PU model complete (region: Tethys; duration: 0:11:52.082890)\n"
     ]
    },
    {
     "name": "stdout",
     "output_type": "stream",
     "text": [
      "Creating grids for SVM model complete (region: global; duration: 0:13:07.234972)\n"
     ]
    },
    {
     "name": "stdout",
     "output_type": "stream",
     "text": [
      "Creating grids for SVM model complete (region: North America; duration: 0:12:26.075421)\n"
     ]
    },
    {
     "name": "stdout",
     "output_type": "stream",
     "text": [
      "Creating grids for SVM model complete (region: South America; duration: 0:10:36.053564)\n"
     ]
    }
   ],
   "source": [
    "for algorithm in (\"PU\", \"SVM\"):\n",
    "    t0 = time.time()\n",
    "\n",
    "    subdir = os.path.join(output_dir, algorithm)\n",
    "    probabilities_filename = os.path.join(\n",
    "        subdir,\n",
    "        \"grid_probabilities.csv\",\n",
    "    )\n",
    "    grid_output_dir = os.path.join(\n",
    "        subdir,\n",
    "        \"probability_grids\",\n",
    "    )\n",
    "    os.makedirs(grid_output_dir, exist_ok=True)\n",
    "\n",
    "    create_probability_grids(\n",
    "        data=probabilities_filename,\n",
    "        output_dir=grid_output_dir,\n",
    "        threads=n_jobs,\n",
    "        extent=(-180, 180, -90, 90),\n",
    "    )\n",
    "    duration = timedelta(seconds=time.time() - t0)\n",
    "    if verbose:\n",
    "        print(\n",
    "            f\"Creating grids for {algorithm} model complete\",\n",
    "            f\"(region: global; duration: {duration})\",\n",
    "        )\n",
    "\n",
    "    for region in regions:\n",
    "        region_code = \"_\".join(region.lower().split())\n",
    "        subdir = os.path.join(output_dir, algorithm)\n",
    "        probabilities_filename = os.path.join(\n",
    "            subdir,\n",
    "            f\"grid_probabilities_{region_code}.csv\",\n",
    "        )\n",
    "        if not os.path.isfile(probabilities_filename):\n",
    "            continue\n",
    "        t0 = time.time()\n",
    "\n",
    "        grid_output_dir = os.path.join(\n",
    "            subdir,\n",
    "            f\"probability_grids_{region_code}\",\n",
    "        )\n",
    "        os.makedirs(grid_output_dir, exist_ok=True)\n",
    "\n",
    "        create_probability_grids(\n",
    "            data=probabilities_filename,\n",
    "            output_dir=grid_output_dir,\n",
    "            threads=n_jobs,\n",
    "            extent=(-180, 180, -90, 90),\n",
    "        )\n",
    "        duration = timedelta(seconds=time.time() - t0)\n",
    "        if verbose:\n",
    "            print(\n",
    "                f\"Creating grids for {algorithm} model complete\",\n",
    "                f\"(region: {region}; duration: {duration})\",\n",
    "            )"
   ]
  },
  {
   "cell_type": "code",
   "execution_count": null,
   "id": "d779a208",
   "metadata": {
    "papermill": {
     "duration": 0.003263,
     "end_time": "2024-07-05T06:51:50.362363",
     "exception": false,
     "start_time": "2024-07-05T06:51:50.359100",
     "status": "completed"
    },
    "tags": []
   },
   "outputs": [],
   "source": []
  }
 ],
 "metadata": {
  "kernelspec": {
   "display_name": "datamining",
   "language": "python",
   "name": "python3"
  },
  "language_info": {
   "codemirror_mode": {
    "name": "ipython",
    "version": 3
   },
   "file_extension": ".py",
   "mimetype": "text/x-python",
   "name": "python",
   "nbconvert_exporter": "python",
   "pygments_lexer": "ipython3",
   "version": "3.11.7"
  },
  "papermill": {
   "default_parameters": {},
   "duration": 6820.070167,
   "end_time": "2024-07-05T06:51:53.287509",
   "environment_variables": {},
   "exception": null,
   "input_path": "02a-create_probability_maps_global.ipynb",
   "output_path": "02a-create_probability_maps_global_output.ipynb",
   "parameters": {},
   "start_time": "2024-07-05T04:58:13.217342",
   "version": "2.4.0"
  }
 },
 "nbformat": 4,
 "nbformat_minor": 5
}
