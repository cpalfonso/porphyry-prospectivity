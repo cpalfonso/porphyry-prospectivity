{
 "cells": [
  {
   "cell_type": "markdown",
   "id": "d7ca51ae",
   "metadata": {
    "papermill": {
     "duration": 0.007484,
     "end_time": "2024-11-14T05:52:27.443604",
     "exception": false,
     "start_time": "2024-11-14T05:52:27.436120",
     "status": "completed"
    },
    "tags": []
   },
   "source": [
    "# Extract grid data\n",
    "\n",
    "This notebook will extract plate kinematic data from a plate model and other data from the `source_data` directory, writing the resulting dataset to a CSV file which can then be used to create the time-dependent prospectivity maps in the following notebooks (`02*.ipynb`)."
   ]
  },
  {
   "cell_type": "markdown",
   "id": "14db541f",
   "metadata": {
    "papermill": {
     "duration": 0.005718,
     "end_time": "2024-11-14T05:52:27.455472",
     "exception": false,
     "start_time": "2024-11-14T05:52:27.449754",
     "status": "completed"
    },
    "tags": []
   },
   "source": [
    "## Notebook options\n",
    "\n",
    "These cells set some of the important variables and definitions used throughout the notebook."
   ]
  },
  {
   "cell_type": "code",
   "execution_count": 1,
   "id": "2e2ce789",
   "metadata": {
    "execution": {
     "iopub.execute_input": "2024-11-14T05:52:27.467629Z",
     "iopub.status.busy": "2024-11-14T05:52:27.467364Z",
     "iopub.status.idle": "2024-11-14T05:52:27.471369Z",
     "shell.execute_reply": "2024-11-14T05:52:27.470687Z"
    },
    "papermill": {
     "duration": 0.011784,
     "end_time": "2024-11-14T05:52:27.472651",
     "exception": false,
     "start_time": "2024-11-14T05:52:27.460867",
     "status": "completed"
    },
    "tags": []
   },
   "outputs": [],
   "source": [
    "config_file = \"notebook_parameters_test.yml\""
   ]
  },
  {
   "cell_type": "code",
   "execution_count": 2,
   "id": "e456dd15",
   "metadata": {
    "execution": {
     "iopub.execute_input": "2024-11-14T05:52:27.482371Z",
     "iopub.status.busy": "2024-11-14T05:52:27.482156Z",
     "iopub.status.idle": "2024-11-14T05:52:27.539552Z",
     "shell.execute_reply": "2024-11-14T05:52:27.538950Z"
    },
    "papermill": {
     "duration": 0.063481,
     "end_time": "2024-11-14T05:52:27.540702",
     "exception": false,
     "start_time": "2024-11-14T05:52:27.477221",
     "status": "completed"
    },
    "tags": []
   },
   "outputs": [],
   "source": [
    "from lib.load_params import get_params\n",
    "\n",
    "params = get_params(config_file, notebook=\"00c\")\n",
    "\n",
    "# Resolution of output grids\n",
    "grid_resolution = params[\"grid_resolution\"]\n",
    "\n",
    "# Directory for output\n",
    "data_dir = params[\"extracted_data_dir\"]\n",
    "output_dir = data_dir\n",
    "\n",
    "# Number of processes to use\n",
    "n_jobs = params[\"n_jobs\"]\n",
    "\n",
    "# Overwrite any existing output files\n",
    "overwrite = params[\"overwrite_output\"]\n",
    "\n",
    "# Control verbosity level of logging output\n",
    "verbose = params[\"verbose\"]\n",
    "\n",
    "# Timespan for analysis\n",
    "min_time = params[\"timespan\"][\"min\"]\n",
    "max_time = params[\"timespan\"][\"max\"]\n",
    "times = range(min_time, max_time + 1)\n",
    "\n",
    "# If desired, categorise deposits according to location\n",
    "# Should be a shapefile or GeoJSON containing polygons\n",
    "# with a 'region' attribute\n",
    "regions_filename = params[\"regions_filename\"]"
   ]
  },
  {
   "cell_type": "markdown",
   "id": "9abfc0d9",
   "metadata": {
    "papermill": {
     "duration": 0.005919,
     "end_time": "2024-11-14T05:52:27.552267",
     "exception": false,
     "start_time": "2024-11-14T05:52:27.546348",
     "status": "completed"
    },
    "tags": []
   },
   "source": [
    "### Select plate model\n",
    "\n",
    "To use the plate model from the published paper (Alfonso et al., 2024), set `use_provided_plate_model` to `True`. Otherwise, leave `use_provided_plate_model` as `False` and set `plate_model_name` to a valid model name for the [`plate-model-manager`](https://github.com/michaelchin/plate-model-manager/blob/4f66423b53950bf42f5dac1228e61fd1e19fdf6e/models.json) package, or set `plate_model_name` to `None` and place GPlates files in a directory named `plate_model`.\n",
    "\n",
    "| `use_provided_plate_model` | `plate_model_name` | result |\n",
    "| - | - | - |\n",
    "| `True` | Any | Use Alfonso et al., 2024 model |\n",
    "| `False` | Model name string (e.g. `\"muller2022\"`) | Use specified plate model |\n",
    "| `False` | `None` | Use files in `plate_model` directory |"
   ]
  },
  {
   "cell_type": "code",
   "execution_count": 3,
   "id": "9088fe1c",
   "metadata": {
    "execution": {
     "iopub.execute_input": "2024-11-14T05:52:27.564286Z",
     "iopub.status.busy": "2024-11-14T05:52:27.564021Z",
     "iopub.status.idle": "2024-11-14T05:52:27.567193Z",
     "shell.execute_reply": "2024-11-14T05:52:27.566561Z"
    },
    "papermill": {
     "duration": 0.011756,
     "end_time": "2024-11-14T05:52:27.568529",
     "exception": false,
     "start_time": "2024-11-14T05:52:27.556773",
     "status": "completed"
    },
    "tags": []
   },
   "outputs": [],
   "source": [
    "# use_provided_plate_model = True\n",
    "# plate_model_name = \"muller2022\"\n",
    "\n",
    "plate_model_name = params[\"plate_model\"][\"plate_model_name\"]\n",
    "use_provided_plate_model = params[\"plate_model\"][\"use_provided_plate_model\"]"
   ]
  },
  {
   "cell_type": "markdown",
   "id": "08942f57",
   "metadata": {
    "papermill": {
     "duration": 0.00883,
     "end_time": "2024-11-14T05:52:27.584244",
     "exception": false,
     "start_time": "2024-11-14T05:52:27.575414",
     "status": "completed"
    },
    "tags": []
   },
   "source": [
    "### Set other parameters\n",
    "\n",
    "Perhaps the most important options here are `n_jobs` and `max_time`."
   ]
  },
  {
   "cell_type": "code",
   "execution_count": 4,
   "id": "6a3c737f",
   "metadata": {
    "execution": {
     "iopub.execute_input": "2024-11-14T05:52:27.598147Z",
     "iopub.status.busy": "2024-11-14T05:52:27.597880Z",
     "iopub.status.idle": "2024-11-14T05:52:27.600721Z",
     "shell.execute_reply": "2024-11-14T05:52:27.600187Z"
    },
    "papermill": {
     "duration": 0.012575,
     "end_time": "2024-11-14T05:52:27.602079",
     "exception": false,
     "start_time": "2024-11-14T05:52:27.589504",
     "status": "completed"
    },
    "tags": []
   },
   "outputs": [],
   "source": [
    "# # Resolution of output grid (degrees)\n",
    "# grid_resolution = 0.5\n",
    "\n",
    "# # Number of processes to use\n",
    "# n_jobs = 4\n",
    "\n",
    "# # Overwrite any existing output files\n",
    "# overwrite = False\n",
    "\n",
    "# # Timespan for analysis\n",
    "# min_time = 0\n",
    "# max_time = 170\n",
    "\n",
    "# # Control verbosity level of logging output\n",
    "# verbose = False"
   ]
  },
  {
   "cell_type": "markdown",
   "id": "4baa8521",
   "metadata": {
    "papermill": {
     "duration": 0.005875,
     "end_time": "2024-11-14T05:52:27.614643",
     "exception": false,
     "start_time": "2024-11-14T05:52:27.608768",
     "status": "completed"
    },
    "tags": []
   },
   "source": [
    "If any of the following exist as environment variables, they will replace the values defined above."
   ]
  },
  {
   "cell_type": "code",
   "execution_count": 5,
   "id": "0062480e",
   "metadata": {
    "execution": {
     "iopub.execute_input": "2024-11-14T05:52:27.627203Z",
     "iopub.status.busy": "2024-11-14T05:52:27.626928Z",
     "iopub.status.idle": "2024-11-14T05:52:27.629921Z",
     "shell.execute_reply": "2024-11-14T05:52:27.629346Z"
    },
    "papermill": {
     "duration": 0.010687,
     "end_time": "2024-11-14T05:52:27.631372",
     "exception": false,
     "start_time": "2024-11-14T05:52:27.620685",
     "status": "completed"
    },
    "tags": []
   },
   "outputs": [],
   "source": [
    "# import os\n",
    "\n",
    "# # Override above values with environment variables, if they exist\n",
    "# grid_resolution = float(os.environ.get(\"GRID_RESOLUTION\", grid_resolution))\n",
    "# n_jobs = int(os.environ.get(\"N_JOBS\", n_jobs))\n",
    "# overwrite = bool(int(os.environ.get(\"OVERWRITE\", overwrite)))\n",
    "# min_time = int(os.environ.get(\"MIN_TIME\", min_time))\n",
    "# max_time = int(os.environ.get(\"MAX_TIME\", max_time))\n",
    "# verbose = bool(int(os.environ.get(\"VERBOSE\", verbose)))\n",
    "\n",
    "# times = range(min_time, max_time + 1)"
   ]
  },
  {
   "cell_type": "markdown",
   "id": "9639c87e",
   "metadata": {
    "papermill": {
     "duration": 0.008199,
     "end_time": "2024-11-14T05:52:27.646137",
     "exception": false,
     "start_time": "2024-11-14T05:52:27.637938",
     "status": "completed"
    },
    "tags": []
   },
   "source": [
    "## Notebook setup\n",
    "\n",
    "Imports, definitions, etc."
   ]
  },
  {
   "cell_type": "markdown",
   "id": "230f00fa",
   "metadata": {
    "papermill": {
     "duration": 0.006889,
     "end_time": "2024-11-14T05:52:27.658253",
     "exception": false,
     "start_time": "2024-11-14T05:52:27.651364",
     "status": "completed"
    },
    "tags": []
   },
   "source": [
    "### Imports"
   ]
  },
  {
   "cell_type": "code",
   "execution_count": 6,
   "id": "7064cd0e",
   "metadata": {
    "execution": {
     "iopub.execute_input": "2024-11-14T05:52:27.673849Z",
     "iopub.status.busy": "2024-11-14T05:52:27.673584Z",
     "iopub.status.idle": "2024-11-14T05:52:33.715486Z",
     "shell.execute_reply": "2024-11-14T05:52:33.714895Z"
    },
    "papermill": {
     "duration": 6.05116,
     "end_time": "2024-11-14T05:52:33.716913",
     "exception": false,
     "start_time": "2024-11-14T05:52:27.665753",
     "status": "completed"
    },
    "tags": []
   },
   "outputs": [
    {
     "name": "stdout",
     "output_type": "stream",
     "text": [
      "env: PYTHONWARNINGS=ignore::UserWarning\n"
     ]
    }
   ],
   "source": [
    "import os\n",
    "import warnings\n",
    "\n",
    "import geopandas as gpd\n",
    "import numpy as np\n",
    "import pandas as pd\n",
    "from gplately.tools import plate_isotherm_depth\n",
    "\n",
    "from lib.assign_regions import assign_regions\n",
    "from lib.calculate_convergence import run_calculate_convergence\n",
    "from lib.check_files import (\n",
    "    check_plate_model,\n",
    "    check_source_data,\n",
    ")\n",
    "from lib.coregister_combined_point_data import run_coregister_combined_point_data\n",
    "from lib.coregister_crustal_thickness import run_coregister_crustal_thickness\n",
    "from lib.coregister_ocean_rasters import (\n",
    "    extract_subducted_thickness,\n",
    "    run_coregister_ocean_rasters,\n",
    ")\n",
    "from lib.create_study_area_polygons import run_create_study_area_polygons\n",
    "from lib.erodep import calculate_erodep\n",
    "from lib.misc import calculate_slab_flux, calculate_carbon\n",
    "from lib.plate_models import get_plate_reconstruction\n",
    "from lib.pu import generate_grid_points\n",
    "from lib.slab_dip import calculate_slab_dip\n",
    "from lib.water import calculate_water_thickness\n",
    "\n",
    "# Suppress occasional joblib warnings\n",
    "%env PYTHONWARNINGS=ignore::UserWarning\n",
    "\n",
    "warnings.simplefilter(\"ignore\", UserWarning)"
   ]
  },
  {
   "cell_type": "markdown",
   "id": "38f11f60",
   "metadata": {
    "papermill": {
     "duration": 0.007388,
     "end_time": "2024-11-14T05:52:33.731082",
     "exception": false,
     "start_time": "2024-11-14T05:52:33.723694",
     "status": "completed"
    },
    "tags": []
   },
   "source": [
    "### Input and output files"
   ]
  },
  {
   "cell_type": "markdown",
   "id": "dac7c26b",
   "metadata": {
    "papermill": {
     "duration": 0.007002,
     "end_time": "2024-11-14T05:52:33.746210",
     "exception": false,
     "start_time": "2024-11-14T05:52:33.739208",
     "status": "completed"
    },
    "tags": []
   },
   "source": [
    "If necessary, the plate model will be downloaded:"
   ]
  },
  {
   "cell_type": "code",
   "execution_count": 7,
   "id": "833f7219",
   "metadata": {
    "execution": {
     "iopub.execute_input": "2024-11-14T05:52:33.765790Z",
     "iopub.status.busy": "2024-11-14T05:52:33.765457Z",
     "iopub.status.idle": "2024-11-14T05:52:39.861611Z",
     "shell.execute_reply": "2024-11-14T05:52:39.860764Z"
    },
    "papermill": {
     "duration": 6.109141,
     "end_time": "2024-11-14T05:52:39.863604",
     "exception": false,
     "start_time": "2024-11-14T05:52:33.754463",
     "status": "completed"
    },
    "tags": []
   },
   "outputs": [],
   "source": [
    "plate_model_dir = \"plate_model\"\n",
    "if use_provided_plate_model:\n",
    "    check_plate_model(plate_model_dir, verbose=True)\n",
    "    plate_model_name = None\n",
    "plate_model = get_plate_reconstruction(\n",
    "    model_name=plate_model_name,\n",
    "    model_dir=plate_model_dir,\n",
    ")"
   ]
  },
  {
   "cell_type": "markdown",
   "id": "cdb8d396",
   "metadata": {
    "papermill": {
     "duration": 0.006138,
     "end_time": "2024-11-14T05:52:39.876222",
     "exception": false,
     "start_time": "2024-11-14T05:52:39.870084",
     "status": "completed"
    },
    "tags": []
   },
   "source": [
    "The directory containing the datasets to be extracted:"
   ]
  },
  {
   "cell_type": "code",
   "execution_count": 8,
   "id": "ee894246",
   "metadata": {
    "execution": {
     "iopub.execute_input": "2024-11-14T05:52:39.890830Z",
     "iopub.status.busy": "2024-11-14T05:52:39.890529Z",
     "iopub.status.idle": "2024-11-14T05:52:39.893132Z",
     "shell.execute_reply": "2024-11-14T05:52:39.892615Z"
    },
    "papermill": {
     "duration": 0.011395,
     "end_time": "2024-11-14T05:52:39.894339",
     "exception": false,
     "start_time": "2024-11-14T05:52:39.882944",
     "status": "completed"
    },
    "tags": []
   },
   "outputs": [],
   "source": [
    "# data_dir = \"source_data\"\n",
    "# data_dir = check_source_data(data_dir, verbose=verbose)"
   ]
  },
  {
   "cell_type": "markdown",
   "id": "1a851a25",
   "metadata": {
    "papermill": {
     "duration": 0.006002,
     "end_time": "2024-11-14T05:52:39.905010",
     "exception": false,
     "start_time": "2024-11-14T05:52:39.899008",
     "status": "completed"
    },
    "tags": []
   },
   "source": [
    "Output files will be created in this directory:"
   ]
  },
  {
   "cell_type": "code",
   "execution_count": 9,
   "id": "ba69c876",
   "metadata": {
    "execution": {
     "iopub.execute_input": "2024-11-14T05:52:39.916556Z",
     "iopub.status.busy": "2024-11-14T05:52:39.916298Z",
     "iopub.status.idle": "2024-11-14T05:52:39.918785Z",
     "shell.execute_reply": "2024-11-14T05:52:39.918306Z"
    },
    "papermill": {
     "duration": 0.010304,
     "end_time": "2024-11-14T05:52:39.920023",
     "exception": false,
     "start_time": "2024-11-14T05:52:39.909719",
     "status": "completed"
    },
    "tags": []
   },
   "outputs": [],
   "source": [
    "# output_dir = \"extracted_data\"\n",
    "# os.makedirs(output_dir, exist_ok=True)"
   ]
  },
  {
   "cell_type": "markdown",
   "id": "ee51a6e4",
   "metadata": {
    "papermill": {
     "duration": 0.007095,
     "end_time": "2024-11-14T05:52:39.932859",
     "exception": false,
     "start_time": "2024-11-14T05:52:39.925764",
     "status": "completed"
    },
    "tags": []
   },
   "source": [
    "The following input directories are all relative to `data_dir`:"
   ]
  },
  {
   "cell_type": "code",
   "execution_count": 10,
   "id": "eb666f45",
   "metadata": {
    "execution": {
     "iopub.execute_input": "2024-11-14T05:52:39.946182Z",
     "iopub.status.busy": "2024-11-14T05:52:39.945921Z",
     "iopub.status.idle": "2024-11-14T05:52:39.949642Z",
     "shell.execute_reply": "2024-11-14T05:52:39.949097Z"
    },
    "papermill": {
     "duration": 0.011071,
     "end_time": "2024-11-14T05:52:39.950859",
     "exception": false,
     "start_time": "2024-11-14T05:52:39.939788",
     "status": "completed"
    },
    "tags": []
   },
   "outputs": [],
   "source": [
    "# If desired, categorise deposits according to location\n",
    "# Should be a shapefile or GeoJSON containing polygons\n",
    "# with a 'region' attribute\n",
    "# regions_filename = \"regions.geojson\"\n",
    "\n",
    "# Seafloor age grid directory\n",
    "# Filename format 'seafloor_age_{time}Ma.nc'\n",
    "agegrid_dir = \"SeafloorAge\"\n",
    "\n",
    "# Seafloor spreading rate directory\n",
    "# Filename format 'spreading_rate_{time}Ma.nc'\n",
    "spreadrate_dir = \"SpreadingRate\"\n",
    "\n",
    "# Seafloor sediment thickness directory\n",
    "# Filename format 'sediment_thickness_{time}Ma.nc'\n",
    "sedthick_dir = \"SedimentThickness\"\n",
    "\n",
    "# Seafloor carbonate sediment thickness directory\n",
    "# Filename format 'carbonate_thickness_{time}Ma.nc'\n",
    "carbonate_dir = \"CarbonateThickness\"\n",
    "\n",
    "# Oceanic crustal CO2 density directory\n",
    "# Filename format 'crustal_co2_{time}Ma.nc'\n",
    "co2_dir = \"CrustalCO2\"\n",
    "\n",
    "# Overriding plate thickness directory\n",
    "# Filename format 'crustal_thickness_{time}Ma.nc'\n",
    "crustal_thickness_dir = \"CrustalThickness\"\n",
    "\n",
    "# Cumulative subducted sediments/carbonates/etc. directory\n",
    "# Filename format 'sediment_thickness/cumulative_density_{time}Ma.nc',\n",
    "# 'carbonate_thickness/cumulative_density_{time}Ma.nc', etc.\n",
    "# subducted_quantities_dir = \"SubductedQuantities\"\n",
    "\n",
    "# Erosion/deposition rate directory\n",
    "# Filename format 'erosion_deposition_{time}Ma.nc'\n",
    "erodep_dir = \"ErosionDeposition\""
   ]
  },
  {
   "cell_type": "code",
   "execution_count": 11,
   "id": "84d44ad9",
   "metadata": {
    "execution": {
     "iopub.execute_input": "2024-11-14T05:52:39.962743Z",
     "iopub.status.busy": "2024-11-14T05:52:39.962473Z",
     "iopub.status.idle": "2024-11-14T05:52:39.966331Z",
     "shell.execute_reply": "2024-11-14T05:52:39.965846Z"
    },
    "papermill": {
     "duration": 0.012267,
     "end_time": "2024-11-14T05:52:39.967706",
     "exception": false,
     "start_time": "2024-11-14T05:52:39.955439",
     "status": "completed"
    },
    "tags": []
   },
   "outputs": [],
   "source": [
    "# Handle relative file/directory paths\n",
    "\n",
    "# regions_filename = os.path.join(data_dir, regions_filename)\n",
    "agegrid_dir = os.path.join(data_dir, agegrid_dir)\n",
    "sedthick_dir = os.path.join(data_dir, sedthick_dir)\n",
    "carbonate_dir = os.path.join(data_dir, carbonate_dir)\n",
    "co2_dir = os.path.join(data_dir, co2_dir)\n",
    "crustal_thickness_dir = os.path.join(data_dir, crustal_thickness_dir)\n",
    "# subducted_quantities_dir = os.path.join(data_dir, subducted_quantities_dir)\n",
    "erodep_dir = os.path.join(data_dir, erodep_dir)\n",
    "\n",
    "subduction_data_filename = os.path.join(output_dir, \"subducting_plate_data.csv\")\n",
    "study_area_dir = os.path.join(output_dir, \"study_area_polygons\")\n",
    "output_filename = os.path.join(output_dir, \"grid_data.csv\")"
   ]
  },
  {
   "attachments": {},
   "cell_type": "markdown",
   "id": "eb746f63",
   "metadata": {
    "papermill": {
     "duration": 0.006048,
     "end_time": "2024-11-14T05:52:39.980388",
     "exception": false,
     "start_time": "2024-11-14T05:52:39.974340",
     "status": "completed"
    },
    "tags": []
   },
   "source": [
    "### Generate grid points\n",
    "\n",
    "The following function generates the grid of points at `grid_resolution`-degree resolution."
   ]
  },
  {
   "cell_type": "code",
   "execution_count": 12,
   "id": "c7415048",
   "metadata": {
    "execution": {
     "iopub.execute_input": "2024-11-14T05:52:39.991848Z",
     "iopub.status.busy": "2024-11-14T05:52:39.991580Z",
     "iopub.status.idle": "2024-11-14T07:56:32.127096Z",
     "shell.execute_reply": "2024-11-14T07:56:32.126187Z"
    },
    "papermill": {
     "duration": 7432.143036,
     "end_time": "2024-11-14T07:56:32.128586",
     "exception": false,
     "start_time": "2024-11-14T05:52:39.985550",
     "status": "completed"
    },
    "tags": []
   },
   "outputs": [],
   "source": [
    "if overwrite or not os.path.isdir(study_area_dir):\n",
    "    run_create_study_area_polygons(\n",
    "        nprocs=n_jobs,\n",
    "        times=times,\n",
    "        plate_reconstruction=plate_model,\n",
    "        output_dir=study_area_dir,\n",
    "        verbose=verbose,\n",
    "        return_output=False,\n",
    "    )\n",
    "grid_data = generate_grid_points(\n",
    "    times=times,\n",
    "    resolution=grid_resolution,\n",
    "    polygons_dir=study_area_dir,\n",
    "    plate_reconstruction=plate_model,\n",
    "    n_jobs=n_jobs,\n",
    "    verbose=verbose,\n",
    ")\n",
    "grid_data = grid_data.dropna(subset=[\"present_lon\", \"present_lat\"])"
   ]
  },
  {
   "attachments": {},
   "cell_type": "markdown",
   "id": "0e2ba866",
   "metadata": {
    "papermill": {
     "duration": 0.004804,
     "end_time": "2024-11-14T07:56:32.142253",
     "exception": false,
     "start_time": "2024-11-14T07:56:32.137449",
     "status": "completed"
    },
    "tags": []
   },
   "source": [
    "### Subducting plate data\n",
    "\n",
    "This cell will extract the subduction kinematics data from the plate model, along with datasets relating to the subducting oceanic plate: seafloor age, sediment and carbonate thickness, etc.\n",
    "However, if this data has already been extracted by another notebook and `overwrite` has not been set to `True`, then the data will be read from that file instead."
   ]
  },
  {
   "cell_type": "code",
   "execution_count": 13,
   "id": "7c03c5a2",
   "metadata": {
    "execution": {
     "iopub.execute_input": "2024-11-14T07:56:32.153076Z",
     "iopub.status.busy": "2024-11-14T07:56:32.152718Z",
     "iopub.status.idle": "2024-11-14T07:56:46.117718Z",
     "shell.execute_reply": "2024-11-14T07:56:46.116899Z"
    },
    "papermill": {
     "duration": 13.972515,
     "end_time": "2024-11-14T07:56:46.119440",
     "exception": false,
     "start_time": "2024-11-14T07:56:32.146925",
     "status": "completed"
    },
    "tags": []
   },
   "outputs": [],
   "source": [
    "if (\n",
    "    subduction_data_filename is not None and os.path.isfile(subduction_data_filename)\n",
    ") and (not overwrite):\n",
    "    subduction_data = pd.read_csv(subduction_data_filename)\n",
    "else:\n",
    "    subduction_data = run_calculate_convergence(\n",
    "        nprocs=n_jobs,\n",
    "        min_time=min(times),\n",
    "        max_time=max(times),\n",
    "        plate_reconstruction=plate_model,\n",
    "        verbose=verbose,\n",
    "    )\n",
    "\n",
    "    subduction_data = run_coregister_ocean_rasters(\n",
    "        nprocs=n_jobs,\n",
    "        times=times,\n",
    "        input_data=subduction_data,\n",
    "        agegrid_dir=agegrid_dir,\n",
    "        spreadrate_dir=spreadrate_dir,\n",
    "        plate_reconstruction=plate_model,\n",
    "        sedthick_dir=sedthick_dir,\n",
    "        carbonate_dir=carbonate_dir,\n",
    "        co2_dir=co2_dir,\n",
    "        # subducted_thickness_dir=os.path.join(\n",
    "        #     subducted_quantities_dir,\n",
    "        #     \"plate_thickness\",\n",
    "        # ),\n",
    "        # subducted_sediments_dir=os.path.join(\n",
    "        #     subducted_quantities_dir,\n",
    "        #     \"sediment_thickness\",\n",
    "        # ),\n",
    "        # subducted_carbonates_dir=os.path.join(\n",
    "        #     subducted_quantities_dir,\n",
    "        #     \"carbonate_thickness\",\n",
    "        # ),\n",
    "        # subducted_water_dir=os.path.join(\n",
    "        #     subducted_quantities_dir,\n",
    "        #     \"water_thickness\",\n",
    "        # ),\n",
    "        verbose=verbose,\n",
    "    )\n",
    "    subduction_data[\"plate_thickness (m)\"] = plate_isotherm_depth(\n",
    "        subduction_data[\"seafloor_age (Ma)\"],\n",
    "        maxiter=100,\n",
    "    )\n",
    "    subduction_data = calculate_water_thickness(data=subduction_data)\n",
    "    subduction_data = calculate_carbon(subduction_data)\n",
    "    subduction_data = calculate_slab_flux(subduction_data)\n",
    "    subduction_data = calculate_slab_dip(subduction_data)\n",
    "    subduction_data = extract_subducted_thickness(\n",
    "        subduction_data,\n",
    "        plate_reconstruction=plate_model,\n",
    "    )\n",
    "    subduction_data[\"sediment_flux (m^2/yr)\"] = (\n",
    "        subduction_data[\"sediment_thickness (m)\"]\n",
    "        * subduction_data[\"convergence_rate_orthogonal (cm/yr)\"] * 1.0e-2\n",
    "    ).clip(0.0, np.inf)\n",
    "    subduction_data[\"carbon_flux (t/m/yr)\"] = (\n",
    "        subduction_data[\"total_carbon_density (t/m^2)\"]\n",
    "        * subduction_data[\"convergence_rate_orthogonal (cm/yr)\"] * 1.0e-2\n",
    "    ).clip(0.0, np.inf)\n",
    "    subduction_data[\"water_flux (m^2/yr)\"] = (\n",
    "        subduction_data[\"total_water_thickness (m)\"]\n",
    "        * subduction_data[\"convergence_rate_orthogonal (cm/yr)\"] * 1.0e-2\n",
    "    ).clip(0.0, np.inf)\n",
    "\n",
    "    if subduction_data_filename is not None:\n",
    "        subduction_data.to_csv(subduction_data_filename, index=False)"
   ]
  },
  {
   "attachments": {},
   "cell_type": "markdown",
   "id": "cafffa14",
   "metadata": {
    "papermill": {
     "duration": 0.005538,
     "end_time": "2024-11-14T07:56:46.131163",
     "exception": false,
     "start_time": "2024-11-14T07:56:46.125625",
     "status": "completed"
    },
    "tags": []
   },
   "source": [
    "### Assign subduction data to grid\n",
    "\n",
    "Here we assign the appropriate values for the subduction-related parameters (kinematics, seafloor age, etc.) to the grid points."
   ]
  },
  {
   "cell_type": "code",
   "execution_count": 14,
   "id": "fbadac30",
   "metadata": {
    "execution": {
     "iopub.execute_input": "2024-11-14T07:56:46.142093Z",
     "iopub.status.busy": "2024-11-14T07:56:46.141843Z",
     "iopub.status.idle": "2024-11-14T08:09:54.485680Z",
     "shell.execute_reply": "2024-11-14T08:09:54.484985Z"
    },
    "papermill": {
     "duration": 788.351011,
     "end_time": "2024-11-14T08:09:54.487368",
     "exception": false,
     "start_time": "2024-11-14T07:56:46.136357",
     "status": "completed"
    },
    "tags": []
   },
   "outputs": [],
   "source": [
    "coregistered_data = run_coregister_combined_point_data(\n",
    "    point_data=grid_data,\n",
    "    subduction_data=subduction_data,\n",
    "    n_jobs=n_jobs,\n",
    "    verbose=verbose,\n",
    ")"
   ]
  },
  {
   "attachments": {},
   "cell_type": "markdown",
   "id": "6c7067fe",
   "metadata": {
    "papermill": {
     "duration": 0.005981,
     "end_time": "2024-11-14T08:09:54.503321",
     "exception": false,
     "start_time": "2024-11-14T08:09:54.497340",
     "status": "completed"
    },
    "tags": []
   },
   "source": [
    "### Assign crustal thickness data to grid\n",
    "\n",
    "This cell extracts the overriding plate thickness at each point."
   ]
  },
  {
   "cell_type": "code",
   "execution_count": 15,
   "id": "317048a8",
   "metadata": {
    "execution": {
     "iopub.execute_input": "2024-11-14T08:09:54.515422Z",
     "iopub.status.busy": "2024-11-14T08:09:54.515151Z",
     "iopub.status.idle": "2024-11-14T08:13:31.732255Z",
     "shell.execute_reply": "2024-11-14T08:13:31.731374Z"
    },
    "papermill": {
     "duration": 217.225692,
     "end_time": "2024-11-14T08:13:31.733974",
     "exception": false,
     "start_time": "2024-11-14T08:09:54.508282",
     "status": "completed"
    },
    "tags": []
   },
   "outputs": [],
   "source": [
    "coregistered_data = run_coregister_crustal_thickness(\n",
    "    point_data=coregistered_data,\n",
    "    input_dir=crustal_thickness_dir,\n",
    "    n_jobs=n_jobs,\n",
    "    verbose=verbose,\n",
    ")"
   ]
  },
  {
   "cell_type": "markdown",
   "id": "3067ae47",
   "metadata": {
    "papermill": {
     "duration": 0.009743,
     "end_time": "2024-11-14T08:13:31.760923",
     "exception": false,
     "start_time": "2024-11-14T08:13:31.751180",
     "status": "completed"
    },
    "tags": []
   },
   "source": [
    "### Calculate cumulative erosion\n",
    "\n",
    "Here we calculate the cumulative erosion experienced by each point in the grid since its assigned age time."
   ]
  },
  {
   "cell_type": "code",
   "execution_count": 16,
   "id": "a90d7da4",
   "metadata": {
    "execution": {
     "iopub.execute_input": "2024-11-14T08:13:31.776447Z",
     "iopub.status.busy": "2024-11-14T08:13:31.776154Z",
     "iopub.status.idle": "2024-11-14T08:24:45.964224Z",
     "shell.execute_reply": "2024-11-14T08:24:45.962926Z"
    },
    "papermill": {
     "duration": 674.196536,
     "end_time": "2024-11-14T08:24:45.965991",
     "exception": false,
     "start_time": "2024-11-14T08:13:31.769455",
     "status": "completed"
    },
    "tags": []
   },
   "outputs": [],
   "source": [
    "coregistered_data = calculate_erodep(\n",
    "    coregistered_data,\n",
    "    input_dir=erodep_dir,\n",
    "    n_jobs=n_jobs,\n",
    "    column_name=\"erosion (m)\",\n",
    "    verbose=verbose,\n",
    ")"
   ]
  },
  {
   "cell_type": "markdown",
   "id": "a228c9cc",
   "metadata": {
    "papermill": {
     "duration": 0.005846,
     "end_time": "2024-11-14T08:24:45.983493",
     "exception": false,
     "start_time": "2024-11-14T08:24:45.977647",
     "status": "completed"
    },
    "tags": []
   },
   "source": [
    "### Assign data to regions\n",
    "\n",
    "To divide the data into individual regions for the later analysis, we use the `regions_filename` defined earlier, if desired."
   ]
  },
  {
   "cell_type": "code",
   "execution_count": 17,
   "id": "d520a2b5",
   "metadata": {
    "execution": {
     "iopub.execute_input": "2024-11-14T08:24:45.997212Z",
     "iopub.status.busy": "2024-11-14T08:24:45.996933Z",
     "iopub.status.idle": "2024-11-14T08:24:49.806316Z",
     "shell.execute_reply": "2024-11-14T08:24:49.805738Z"
    },
    "papermill": {
     "duration": 3.817981,
     "end_time": "2024-11-14T08:24:49.807616",
     "exception": false,
     "start_time": "2024-11-14T08:24:45.989635",
     "status": "completed"
    },
    "tags": []
   },
   "outputs": [],
   "source": [
    "if regions_filename is not None and os.path.isfile(regions_filename):\n",
    "    points = gpd.GeoSeries.from_xy(\n",
    "        coregistered_data[\"present_lon\"],\n",
    "        coregistered_data[\"present_lat\"],\n",
    "        index=coregistered_data.index,\n",
    "    )\n",
    "    coregistered_data[\"region\"] = assign_regions(\n",
    "        points,\n",
    "        regions=regions_filename,\n",
    "    )\n",
    "    del points"
   ]
  },
  {
   "cell_type": "markdown",
   "id": "48e28940",
   "metadata": {
    "papermill": {
     "duration": 0.004402,
     "end_time": "2024-11-14T08:24:49.816323",
     "exception": false,
     "start_time": "2024-11-14T08:24:49.811921",
     "status": "completed"
    },
    "tags": []
   },
   "source": [
    "### Save to file\n",
    "\n",
    "Finally, we write the dataset to a CSV file."
   ]
  },
  {
   "cell_type": "code",
   "execution_count": 18,
   "id": "333c91a8",
   "metadata": {
    "execution": {
     "iopub.execute_input": "2024-11-14T08:24:49.826535Z",
     "iopub.status.busy": "2024-11-14T08:24:49.826161Z",
     "iopub.status.idle": "2024-11-14T08:28:10.783734Z",
     "shell.execute_reply": "2024-11-14T08:28:10.783125Z"
    },
    "papermill": {
     "duration": 200.964013,
     "end_time": "2024-11-14T08:28:10.785222",
     "exception": false,
     "start_time": "2024-11-14T08:24:49.821209",
     "status": "completed"
    },
    "tags": []
   },
   "outputs": [],
   "source": [
    "coregistered_data.to_csv(output_filename, index=False)"
   ]
  },
  {
   "cell_type": "code",
   "execution_count": null,
   "id": "b51b394a",
   "metadata": {
    "papermill": {
     "duration": 0.005,
     "end_time": "2024-11-14T08:28:10.795904",
     "exception": false,
     "start_time": "2024-11-14T08:28:10.790904",
     "status": "completed"
    },
    "tags": []
   },
   "outputs": [],
   "source": []
  }
 ],
 "metadata": {
  "kernelspec": {
   "display_name": "datamining",
   "language": "python",
   "name": "python3"
  },
  "language_info": {
   "codemirror_mode": {
    "name": "ipython",
    "version": 3
   },
   "file_extension": ".py",
   "mimetype": "text/x-python",
   "name": "python",
   "nbconvert_exporter": "python",
   "pygments_lexer": "ipython3",
   "version": "3.12.3"
  },
  "papermill": {
   "default_parameters": {},
   "duration": 9347.829862,
   "end_time": "2024-11-14T08:28:13.822050",
   "environment_variables": {},
   "exception": null,
   "input_path": "00c-extract_grid_data.ipynb",
   "output_path": "00c-extract_grid_data.ipynb",
   "parameters": {},
   "start_time": "2024-11-14T05:52:25.992188",
   "version": "2.4.0"
  }
 },
 "nbformat": 4,
 "nbformat_minor": 5
}