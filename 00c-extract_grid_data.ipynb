{
 "cells": [
  {
   "cell_type": "markdown",
   "id": "d7ca51ae",
   "metadata": {
    "papermill": {
     "duration": 0.008055,
     "end_time": "2025-07-04T09:50:40.406868",
     "exception": false,
     "start_time": "2025-07-04T09:50:40.398813",
     "status": "completed"
    },
    "tags": []
   },
   "source": [
    "# Extract grid data\n",
    "\n",
    "This notebook will extract plate kinematic data from a plate model and other data from the `source_data` directory, writing the resulting dataset to a CSV file which can then be used to create the time-dependent prospectivity maps in the following notebooks (`02*.ipynb`)."
   ]
  },
  {
   "cell_type": "markdown",
   "id": "14db541f",
   "metadata": {
    "papermill": {
     "duration": 0.003355,
     "end_time": "2025-07-04T09:50:40.415333",
     "exception": false,
     "start_time": "2025-07-04T09:50:40.411978",
     "status": "completed"
    },
    "tags": []
   },
   "source": [
    "## Notebook options\n",
    "\n",
    "These cells set some of the important variables and definitions used throughout the notebook."
   ]
  },
  {
   "cell_type": "code",
   "execution_count": 1,
   "id": "2e2ce789",
   "metadata": {
    "execution": {
     "iopub.execute_input": "2025-07-04T09:50:40.426265Z",
     "iopub.status.busy": "2025-07-04T09:50:40.425908Z",
     "iopub.status.idle": "2025-07-04T09:50:40.432250Z",
     "shell.execute_reply": "2025-07-04T09:50:40.430809Z"
    },
    "papermill": {
     "duration": 0.014337,
     "end_time": "2025-07-04T09:50:40.434330",
     "exception": false,
     "start_time": "2025-07-04T09:50:40.419993",
     "status": "completed"
    },
    "tags": []
   },
   "outputs": [],
   "source": [
    "config_file = \"notebook_parameters_default.yml\""
   ]
  },
  {
   "cell_type": "code",
   "execution_count": 2,
   "id": "e456dd15",
   "metadata": {
    "execution": {
     "iopub.execute_input": "2025-07-04T09:50:40.451053Z",
     "iopub.status.busy": "2025-07-04T09:50:40.450554Z",
     "iopub.status.idle": "2025-07-04T09:50:40.539183Z",
     "shell.execute_reply": "2025-07-04T09:50:40.538152Z"
    },
    "papermill": {
     "duration": 0.099598,
     "end_time": "2025-07-04T09:50:40.541257",
     "exception": false,
     "start_time": "2025-07-04T09:50:40.441659",
     "status": "completed"
    },
    "tags": []
   },
   "outputs": [],
   "source": [
    "from lib.load_params import get_params\n",
    "\n",
    "params = get_params(config_file, notebook=\"00c\")\n",
    "\n",
    "# Resolution of output grids\n",
    "grid_resolution = params[\"grid_resolution\"]\n",
    "\n",
    "# Directory for output\n",
    "data_dir = params[\"extracted_data_dir\"]\n",
    "output_dir = data_dir\n",
    "\n",
    "# Number of processes to use\n",
    "n_jobs = params[\"n_jobs\"]\n",
    "\n",
    "# Overwrite any existing output files\n",
    "overwrite = params[\"overwrite_output\"]\n",
    "\n",
    "# Control verbosity level of logging output\n",
    "verbose = params[\"verbose\"]\n",
    "\n",
    "# Timespan for analysis\n",
    "min_time = params[\"timespan\"][\"min\"]\n",
    "max_time = params[\"timespan\"][\"max\"]\n",
    "times = range(min_time, max_time + 1)\n",
    "\n",
    "# If desired, categorise deposits according to location\n",
    "# Should be a shapefile or GeoJSON containing polygons\n",
    "# with a 'region' attribute\n",
    "regions_filename = params[\"regions_filename\"]"
   ]
  },
  {
   "cell_type": "markdown",
   "id": "9abfc0d9",
   "metadata": {
    "papermill": {
     "duration": 0.004092,
     "end_time": "2025-07-04T09:50:40.552482",
     "exception": false,
     "start_time": "2025-07-04T09:50:40.548390",
     "status": "completed"
    },
    "tags": []
   },
   "source": [
    "### Select plate model\n",
    "\n",
    "To use the plate model from the published paper (Alfonso et al., 2024), set `use_provided_plate_model` to `True`. Otherwise, leave `use_provided_plate_model` as `False` and set `plate_model_name` to a valid model name for the [`plate-model-manager`](https://github.com/michaelchin/plate-model-manager/blob/4f66423b53950bf42f5dac1228e61fd1e19fdf6e/models.json) package, or set `plate_model_name` to `None` and place GPlates files in a directory named `plate_model`.\n",
    "\n",
    "| `use_provided_plate_model` | `plate_model_name` | result |\n",
    "| - | - | - |\n",
    "| `True` | Any | Use Alfonso et al., 2024 model |\n",
    "| `False` | Model name string (e.g. `\"muller2022\"`) | Use specified plate model |\n",
    "| `False` | `None` | Use files in `plate_model` directory |"
   ]
  },
  {
   "cell_type": "code",
   "execution_count": 3,
   "id": "9088fe1c",
   "metadata": {
    "execution": {
     "iopub.execute_input": "2025-07-04T09:50:40.567838Z",
     "iopub.status.busy": "2025-07-04T09:50:40.567461Z",
     "iopub.status.idle": "2025-07-04T09:50:40.572114Z",
     "shell.execute_reply": "2025-07-04T09:50:40.571066Z"
    },
    "papermill": {
     "duration": 0.015538,
     "end_time": "2025-07-04T09:50:40.573923",
     "exception": false,
     "start_time": "2025-07-04T09:50:40.558385",
     "status": "completed"
    },
    "tags": []
   },
   "outputs": [],
   "source": [
    "# use_provided_plate_model = True\n",
    "# plate_model_name = \"muller2022\"\n",
    "\n",
    "plate_model_name = params[\"plate_model\"][\"plate_model_name\"]\n",
    "use_provided_plate_model = params[\"plate_model\"][\"use_provided_plate_model\"]"
   ]
  },
  {
   "cell_type": "markdown",
   "id": "08942f57",
   "metadata": {
    "papermill": {
     "duration": 0.010735,
     "end_time": "2025-07-04T09:50:40.590000",
     "exception": false,
     "start_time": "2025-07-04T09:50:40.579265",
     "status": "completed"
    },
    "tags": []
   },
   "source": [
    "### Set other parameters\n",
    "\n",
    "Perhaps the most important options here are `n_jobs` and `max_time`."
   ]
  },
  {
   "cell_type": "code",
   "execution_count": 4,
   "id": "6a3c737f",
   "metadata": {
    "execution": {
     "iopub.execute_input": "2025-07-04T09:50:40.602418Z",
     "iopub.status.busy": "2025-07-04T09:50:40.602171Z",
     "iopub.status.idle": "2025-07-04T09:50:40.606234Z",
     "shell.execute_reply": "2025-07-04T09:50:40.605428Z"
    },
    "papermill": {
     "duration": 0.010582,
     "end_time": "2025-07-04T09:50:40.607791",
     "exception": false,
     "start_time": "2025-07-04T09:50:40.597209",
     "status": "completed"
    },
    "tags": []
   },
   "outputs": [],
   "source": [
    "# # Resolution of output grid (degrees)\n",
    "# grid_resolution = 0.5\n",
    "\n",
    "# # Number of processes to use\n",
    "# n_jobs = 4\n",
    "\n",
    "# # Overwrite any existing output files\n",
    "# overwrite = False\n",
    "\n",
    "# # Timespan for analysis\n",
    "# min_time = 0\n",
    "# max_time = 170\n",
    "\n",
    "# # Control verbosity level of logging output\n",
    "# verbose = False"
   ]
  },
  {
   "cell_type": "markdown",
   "id": "4baa8521",
   "metadata": {
    "papermill": {
     "duration": 0.00699,
     "end_time": "2025-07-04T09:50:40.622647",
     "exception": false,
     "start_time": "2025-07-04T09:50:40.615657",
     "status": "completed"
    },
    "tags": []
   },
   "source": [
    "If any of the following exist as environment variables, they will replace the values defined above."
   ]
  },
  {
   "cell_type": "code",
   "execution_count": 5,
   "id": "0062480e",
   "metadata": {
    "execution": {
     "iopub.execute_input": "2025-07-04T09:50:40.637166Z",
     "iopub.status.busy": "2025-07-04T09:50:40.636316Z",
     "iopub.status.idle": "2025-07-04T09:50:40.642703Z",
     "shell.execute_reply": "2025-07-04T09:50:40.641915Z"
    },
    "papermill": {
     "duration": 0.017542,
     "end_time": "2025-07-04T09:50:40.644392",
     "exception": false,
     "start_time": "2025-07-04T09:50:40.626850",
     "status": "completed"
    },
    "tags": []
   },
   "outputs": [],
   "source": [
    "# import os\n",
    "\n",
    "# # Override above values with environment variables, if they exist\n",
    "# grid_resolution = float(os.environ.get(\"GRID_RESOLUTION\", grid_resolution))\n",
    "# n_jobs = int(os.environ.get(\"N_JOBS\", n_jobs))\n",
    "# overwrite = bool(int(os.environ.get(\"OVERWRITE\", overwrite)))\n",
    "# min_time = int(os.environ.get(\"MIN_TIME\", min_time))\n",
    "# max_time = int(os.environ.get(\"MAX_TIME\", max_time))\n",
    "# verbose = bool(int(os.environ.get(\"VERBOSE\", verbose)))\n",
    "\n",
    "# times = range(min_time, max_time + 1)"
   ]
  },
  {
   "cell_type": "markdown",
   "id": "9639c87e",
   "metadata": {
    "papermill": {
     "duration": 0.004929,
     "end_time": "2025-07-04T09:50:40.654849",
     "exception": false,
     "start_time": "2025-07-04T09:50:40.649920",
     "status": "completed"
    },
    "tags": []
   },
   "source": [
    "## Notebook setup\n",
    "\n",
    "Imports, definitions, etc."
   ]
  },
  {
   "cell_type": "markdown",
   "id": "230f00fa",
   "metadata": {
    "papermill": {
     "duration": 0.004345,
     "end_time": "2025-07-04T09:50:40.665143",
     "exception": false,
     "start_time": "2025-07-04T09:50:40.660798",
     "status": "completed"
    },
    "tags": []
   },
   "source": [
    "### Imports"
   ]
  },
  {
   "cell_type": "code",
   "execution_count": 6,
   "id": "7064cd0e",
   "metadata": {
    "execution": {
     "iopub.execute_input": "2025-07-04T09:50:40.678062Z",
     "iopub.status.busy": "2025-07-04T09:50:40.677811Z",
     "iopub.status.idle": "2025-07-04T09:50:51.090003Z",
     "shell.execute_reply": "2025-07-04T09:50:51.089059Z"
    },
    "papermill": {
     "duration": 10.42118,
     "end_time": "2025-07-04T09:50:51.091351",
     "exception": false,
     "start_time": "2025-07-04T09:50:40.670171",
     "status": "completed"
    },
    "tags": []
   },
   "outputs": [
    {
     "name": "stdout",
     "output_type": "stream",
     "text": [
      "env: PYTHONWARNINGS=ignore::UserWarning\n"
     ]
    }
   ],
   "source": [
    "import os\n",
    "import warnings\n",
    "\n",
    "import geopandas as gpd\n",
    "import numpy as np\n",
    "import pandas as pd\n",
    "with warnings.catch_warnings():\n",
    "    warnings.simplefilter(\"ignore\", UserWarning)\n",
    "    from gplately.tools import plate_isotherm_depth\n",
    "\n",
    "from lib.assign_regions import assign_regions\n",
    "from lib.calculate_convergence import run_calculate_convergence\n",
    "from lib.check_files import (\n",
    "    check_plate_model,\n",
    "    check_source_data,\n",
    ")\n",
    "from lib.coregister_combined_point_data import run_coregister_combined_point_data\n",
    "from lib.coregister_crustal_thickness import run_coregister_crustal_thickness\n",
    "from lib.coregister_ocean_rasters import (\n",
    "    extract_subducted_thickness,\n",
    "    run_coregister_ocean_rasters,\n",
    ")\n",
    "from lib.create_study_area_polygons import run_create_study_area_polygons\n",
    "from lib.erodep import calculate_erodep\n",
    "from lib.misc import calculate_slab_flux, calculate_carbon\n",
    "from lib.plate_models import get_plate_reconstruction\n",
    "from lib.pu import generate_grid_points\n",
    "from lib.slab_dip import calculate_slab_dip\n",
    "from lib.water import calculate_water_thickness\n",
    "\n",
    "# Suppress occasional joblib warnings\n",
    "%env PYTHONWARNINGS=ignore::UserWarning\n",
    "\n",
    "warnings.simplefilter(\"ignore\", UserWarning)"
   ]
  },
  {
   "cell_type": "markdown",
   "id": "38f11f60",
   "metadata": {
    "papermill": {
     "duration": 0.005514,
     "end_time": "2025-07-04T09:50:51.100301",
     "exception": false,
     "start_time": "2025-07-04T09:50:51.094787",
     "status": "completed"
    },
    "tags": []
   },
   "source": [
    "### Input and output files"
   ]
  },
  {
   "cell_type": "markdown",
   "id": "dac7c26b",
   "metadata": {
    "papermill": {
     "duration": 0.005712,
     "end_time": "2025-07-04T09:50:51.109416",
     "exception": false,
     "start_time": "2025-07-04T09:50:51.103704",
     "status": "completed"
    },
    "tags": []
   },
   "source": [
    "If necessary, the plate model will be downloaded:"
   ]
  },
  {
   "cell_type": "code",
   "execution_count": 7,
   "id": "833f7219",
   "metadata": {
    "execution": {
     "iopub.execute_input": "2025-07-04T09:50:51.118525Z",
     "iopub.status.busy": "2025-07-04T09:50:51.118275Z",
     "iopub.status.idle": "2025-07-04T09:50:59.099278Z",
     "shell.execute_reply": "2025-07-04T09:50:59.098466Z"
    },
    "papermill": {
     "duration": 7.987574,
     "end_time": "2025-07-04T09:50:59.101421",
     "exception": false,
     "start_time": "2025-07-04T09:50:51.113847",
     "status": "completed"
    },
    "tags": []
   },
   "outputs": [],
   "source": [
    "plate_model_dir = \"plate_model\"\n",
    "if use_provided_plate_model:\n",
    "    check_plate_model(plate_model_dir, verbose=True)\n",
    "    plate_model_name = None\n",
    "plate_model = get_plate_reconstruction(\n",
    "    model_name=plate_model_name,\n",
    "    model_dir=plate_model_dir,\n",
    ")"
   ]
  },
  {
   "cell_type": "markdown",
   "id": "cdb8d396",
   "metadata": {
    "papermill": {
     "duration": 0.00529,
     "end_time": "2025-07-04T09:50:59.112089",
     "exception": false,
     "start_time": "2025-07-04T09:50:59.106799",
     "status": "completed"
    },
    "tags": []
   },
   "source": [
    "The directory containing the datasets to be extracted:"
   ]
  },
  {
   "cell_type": "code",
   "execution_count": 8,
   "id": "ee894246",
   "metadata": {
    "execution": {
     "iopub.execute_input": "2025-07-04T09:50:59.124120Z",
     "iopub.status.busy": "2025-07-04T09:50:59.123528Z",
     "iopub.status.idle": "2025-07-04T09:50:59.127127Z",
     "shell.execute_reply": "2025-07-04T09:50:59.126387Z"
    },
    "papermill": {
     "duration": 0.011675,
     "end_time": "2025-07-04T09:50:59.128937",
     "exception": false,
     "start_time": "2025-07-04T09:50:59.117262",
     "status": "completed"
    },
    "tags": []
   },
   "outputs": [],
   "source": [
    "# data_dir = \"source_data\"\n",
    "# data_dir = check_source_data(data_dir, verbose=verbose)"
   ]
  },
  {
   "cell_type": "markdown",
   "id": "1a851a25",
   "metadata": {
    "papermill": {
     "duration": 0.005283,
     "end_time": "2025-07-04T09:50:59.139499",
     "exception": false,
     "start_time": "2025-07-04T09:50:59.134216",
     "status": "completed"
    },
    "tags": []
   },
   "source": [
    "Output files will be created in this directory:"
   ]
  },
  {
   "cell_type": "code",
   "execution_count": 9,
   "id": "ba69c876",
   "metadata": {
    "execution": {
     "iopub.execute_input": "2025-07-04T09:50:59.151628Z",
     "iopub.status.busy": "2025-07-04T09:50:59.151314Z",
     "iopub.status.idle": "2025-07-04T09:50:59.154517Z",
     "shell.execute_reply": "2025-07-04T09:50:59.153698Z"
    },
    "papermill": {
     "duration": 0.011974,
     "end_time": "2025-07-04T09:50:59.156569",
     "exception": false,
     "start_time": "2025-07-04T09:50:59.144595",
     "status": "completed"
    },
    "tags": []
   },
   "outputs": [],
   "source": [
    "# output_dir = \"extracted_data\"\n",
    "# os.makedirs(output_dir, exist_ok=True)"
   ]
  },
  {
   "cell_type": "markdown",
   "id": "ee51a6e4",
   "metadata": {
    "papermill": {
     "duration": 0.00487,
     "end_time": "2025-07-04T09:50:59.166889",
     "exception": false,
     "start_time": "2025-07-04T09:50:59.162019",
     "status": "completed"
    },
    "tags": []
   },
   "source": [
    "The following input directories are all relative to `data_dir`:"
   ]
  },
  {
   "cell_type": "code",
   "execution_count": 10,
   "id": "eb666f45",
   "metadata": {
    "execution": {
     "iopub.execute_input": "2025-07-04T09:50:59.178016Z",
     "iopub.status.busy": "2025-07-04T09:50:59.177700Z",
     "iopub.status.idle": "2025-07-04T09:50:59.182434Z",
     "shell.execute_reply": "2025-07-04T09:50:59.181557Z"
    },
    "papermill": {
     "duration": 0.012665,
     "end_time": "2025-07-04T09:50:59.184603",
     "exception": false,
     "start_time": "2025-07-04T09:50:59.171938",
     "status": "completed"
    },
    "tags": []
   },
   "outputs": [],
   "source": [
    "# If desired, categorise deposits according to location\n",
    "# Should be a shapefile or GeoJSON containing polygons\n",
    "# with a 'region' attribute\n",
    "# regions_filename = \"regions.geojson\"\n",
    "\n",
    "# Seafloor age grid directory\n",
    "# Filename format 'seafloor_age_{time}Ma.nc'\n",
    "agegrid_dir = \"SeafloorAge\"\n",
    "\n",
    "# Seafloor spreading rate directory\n",
    "# Filename format 'spreading_rate_{time}Ma.nc'\n",
    "spreadrate_dir = \"SpreadingRate\"\n",
    "\n",
    "# Seafloor sediment thickness directory\n",
    "# Filename format 'sediment_thickness_{time}Ma.nc'\n",
    "sedthick_dir = \"SedimentThickness\"\n",
    "\n",
    "# Seafloor carbonate sediment thickness directory\n",
    "# Filename format 'carbonate_thickness_{time}Ma.nc'\n",
    "carbonate_dir = \"CarbonateThickness\"\n",
    "\n",
    "# Oceanic crustal CO2 density directory\n",
    "# Filename format 'crustal_co2_{time}Ma.nc'\n",
    "co2_dir = \"CrustalCO2\"\n",
    "\n",
    "# Overriding plate thickness directory\n",
    "# Filename format 'crustal_thickness_{time}Ma.nc'\n",
    "crustal_thickness_dir = \"CrustalThickness\"\n",
    "\n",
    "# Cumulative subducted sediments/carbonates/etc. directory\n",
    "# Filename format 'sediment_thickness/cumulative_density_{time}Ma.nc',\n",
    "# 'carbonate_thickness/cumulative_density_{time}Ma.nc', etc.\n",
    "# subducted_quantities_dir = \"SubductedQuantities\"\n",
    "\n",
    "# Erosion/deposition rate directory\n",
    "# Filename format 'erosion_deposition_{time}Ma.nc'\n",
    "erodep_dir = \"ErosionDeposition\""
   ]
  },
  {
   "cell_type": "code",
   "execution_count": 11,
   "id": "84d44ad9",
   "metadata": {
    "execution": {
     "iopub.execute_input": "2025-07-04T09:50:59.196964Z",
     "iopub.status.busy": "2025-07-04T09:50:59.196227Z",
     "iopub.status.idle": "2025-07-04T09:50:59.201795Z",
     "shell.execute_reply": "2025-07-04T09:50:59.200917Z"
    },
    "papermill": {
     "duration": 0.01376,
     "end_time": "2025-07-04T09:50:59.203478",
     "exception": false,
     "start_time": "2025-07-04T09:50:59.189718",
     "status": "completed"
    },
    "tags": []
   },
   "outputs": [],
   "source": [
    "# Handle relative file/directory paths\n",
    "\n",
    "# regions_filename = os.path.join(data_dir, regions_filename)\n",
    "agegrid_dir = os.path.join(data_dir, agegrid_dir)\n",
    "sedthick_dir = os.path.join(data_dir, sedthick_dir)\n",
    "carbonate_dir = os.path.join(data_dir, carbonate_dir)\n",
    "co2_dir = os.path.join(data_dir, co2_dir)\n",
    "crustal_thickness_dir = os.path.join(data_dir, crustal_thickness_dir)\n",
    "# subducted_quantities_dir = os.path.join(data_dir, subducted_quantities_dir)\n",
    "erodep_dir = os.path.join(data_dir, erodep_dir)\n",
    "\n",
    "subduction_data_filename = os.path.join(output_dir, \"subducting_plate_data.csv\")\n",
    "study_area_dir = os.path.join(output_dir, \"study_area_polygons\")\n",
    "output_filename = os.path.join(output_dir, \"grid_data.csv\")"
   ]
  },
  {
   "attachments": {},
   "cell_type": "markdown",
   "id": "eb746f63",
   "metadata": {
    "papermill": {
     "duration": 0.005278,
     "end_time": "2025-07-04T09:50:59.214398",
     "exception": false,
     "start_time": "2025-07-04T09:50:59.209120",
     "status": "completed"
    },
    "tags": []
   },
   "source": [
    "### Generate grid points\n",
    "\n",
    "The following function generates the grid of points at `grid_resolution`-degree resolution."
   ]
  },
  {
   "cell_type": "code",
   "execution_count": 12,
   "id": "c7415048",
   "metadata": {
    "execution": {
     "iopub.execute_input": "2025-07-04T09:50:59.226971Z",
     "iopub.status.busy": "2025-07-04T09:50:59.226626Z",
     "iopub.status.idle": "2025-07-04T11:53:30.790558Z",
     "shell.execute_reply": "2025-07-04T11:53:30.781426Z"
    },
    "papermill": {
     "duration": 7351.612905,
     "end_time": "2025-07-04T11:53:30.832879",
     "exception": false,
     "start_time": "2025-07-04T09:50:59.219974",
     "status": "completed"
    },
    "tags": []
   },
   "outputs": [],
   "source": [
    "if overwrite or not os.path.isdir(study_area_dir):\n",
    "    run_create_study_area_polygons(\n",
    "        nprocs=n_jobs,\n",
    "        times=times,\n",
    "        plate_reconstruction=plate_model,\n",
    "        output_dir=study_area_dir,\n",
    "        verbose=verbose,\n",
    "        return_output=False,\n",
    "    )\n",
    "grid_data = generate_grid_points(\n",
    "    times=times,\n",
    "    resolution=grid_resolution,\n",
    "    polygons_dir=study_area_dir,\n",
    "    plate_reconstruction=plate_model,\n",
    "    n_jobs=n_jobs,\n",
    "    verbose=verbose,\n",
    ")\n",
    "grid_data = grid_data.dropna(subset=[\"present_lon\", \"present_lat\"])"
   ]
  },
  {
   "attachments": {},
   "cell_type": "markdown",
   "id": "0e2ba866",
   "metadata": {
    "papermill": {
     "duration": 0.005683,
     "end_time": "2025-07-04T11:53:30.859925",
     "exception": false,
     "start_time": "2025-07-04T11:53:30.854242",
     "status": "completed"
    },
    "tags": []
   },
   "source": [
    "### Subducting plate data\n",
    "\n",
    "This cell will extract the subduction kinematics data from the plate model, along with datasets relating to the subducting oceanic plate: seafloor age, sediment and carbonate thickness, etc.\n",
    "However, if this data has already been extracted by another notebook and `overwrite` has not been set to `True`, then the data will be read from that file instead."
   ]
  },
  {
   "cell_type": "code",
   "execution_count": 13,
   "id": "7c03c5a2",
   "metadata": {
    "execution": {
     "iopub.execute_input": "2025-07-04T11:53:30.875903Z",
     "iopub.status.busy": "2025-07-04T11:53:30.874263Z",
     "iopub.status.idle": "2025-07-04T11:53:48.243895Z",
     "shell.execute_reply": "2025-07-04T11:53:48.241678Z"
    },
    "papermill": {
     "duration": 17.382186,
     "end_time": "2025-07-04T11:53:48.246546",
     "exception": false,
     "start_time": "2025-07-04T11:53:30.864360",
     "status": "completed"
    },
    "tags": []
   },
   "outputs": [],
   "source": [
    "if (\n",
    "    subduction_data_filename is not None and os.path.isfile(subduction_data_filename)\n",
    ") and (not overwrite):\n",
    "    subduction_data = pd.read_csv(subduction_data_filename)\n",
    "else:\n",
    "    subduction_data = run_calculate_convergence(\n",
    "        nprocs=n_jobs,\n",
    "        min_time=min(times),\n",
    "        max_time=max(times),\n",
    "        plate_reconstruction=plate_model,\n",
    "        verbose=verbose,\n",
    "    )\n",
    "\n",
    "    subduction_data = run_coregister_ocean_rasters(\n",
    "        nprocs=n_jobs,\n",
    "        times=times,\n",
    "        input_data=subduction_data,\n",
    "        agegrid_dir=agegrid_dir,\n",
    "        spreadrate_dir=spreadrate_dir,\n",
    "        plate_reconstruction=plate_model,\n",
    "        sedthick_dir=sedthick_dir,\n",
    "        carbonate_dir=carbonate_dir,\n",
    "        co2_dir=co2_dir,\n",
    "        # subducted_thickness_dir=os.path.join(\n",
    "        #     subducted_quantities_dir,\n",
    "        #     \"plate_thickness\",\n",
    "        # ),\n",
    "        # subducted_sediments_dir=os.path.join(\n",
    "        #     subducted_quantities_dir,\n",
    "        #     \"sediment_thickness\",\n",
    "        # ),\n",
    "        # subducted_carbonates_dir=os.path.join(\n",
    "        #     subducted_quantities_dir,\n",
    "        #     \"carbonate_thickness\",\n",
    "        # ),\n",
    "        # subducted_water_dir=os.path.join(\n",
    "        #     subducted_quantities_dir,\n",
    "        #     \"water_thickness\",\n",
    "        # ),\n",
    "        verbose=verbose,\n",
    "    )\n",
    "    subduction_data[\"plate_thickness (m)\"] = plate_isotherm_depth(\n",
    "        subduction_data[\"seafloor_age (Ma)\"],\n",
    "        maxiter=100,\n",
    "    )\n",
    "    subduction_data = calculate_water_thickness(data=subduction_data)\n",
    "    subduction_data = calculate_carbon(subduction_data)\n",
    "    subduction_data = calculate_slab_flux(subduction_data)\n",
    "    subduction_data = calculate_slab_dip(subduction_data)\n",
    "    subduction_data = extract_subducted_thickness(\n",
    "        subduction_data,\n",
    "        plate_reconstruction=plate_model,\n",
    "    )\n",
    "    subduction_data[\"sediment_flux (m^2/yr)\"] = (\n",
    "        subduction_data[\"sediment_thickness (m)\"]\n",
    "        * subduction_data[\"convergence_rate_orthogonal (cm/yr)\"] * 1.0e-2\n",
    "    ).clip(0.0, np.inf)\n",
    "    subduction_data[\"carbon_flux (t/m/yr)\"] = (\n",
    "        subduction_data[\"total_carbon_density (t/m^2)\"]\n",
    "        * subduction_data[\"convergence_rate_orthogonal (cm/yr)\"] * 1.0e-2\n",
    "    ).clip(0.0, np.inf)\n",
    "    subduction_data[\"water_flux (m^2/yr)\"] = (\n",
    "        subduction_data[\"total_water_thickness (m)\"]\n",
    "        * subduction_data[\"convergence_rate_orthogonal (cm/yr)\"] * 1.0e-2\n",
    "    ).clip(0.0, np.inf)\n",
    "\n",
    "    if subduction_data_filename is not None:\n",
    "        subduction_data.to_csv(subduction_data_filename, index=False)"
   ]
  },
  {
   "attachments": {},
   "cell_type": "markdown",
   "id": "cafffa14",
   "metadata": {
    "papermill": {
     "duration": 0.006319,
     "end_time": "2025-07-04T11:53:48.259897",
     "exception": false,
     "start_time": "2025-07-04T11:53:48.253578",
     "status": "completed"
    },
    "tags": []
   },
   "source": [
    "### Assign subduction data to grid\n",
    "\n",
    "Here we assign the appropriate values for the subduction-related parameters (kinematics, seafloor age, etc.) to the grid points."
   ]
  },
  {
   "cell_type": "code",
   "execution_count": 14,
   "id": "fbadac30",
   "metadata": {
    "execution": {
     "iopub.execute_input": "2025-07-04T11:53:48.277033Z",
     "iopub.status.busy": "2025-07-04T11:53:48.274888Z",
     "iopub.status.idle": "2025-07-04T12:07:10.939124Z",
     "shell.execute_reply": "2025-07-04T12:07:10.937997Z"
    },
    "papermill": {
     "duration": 802.674629,
     "end_time": "2025-07-04T12:07:10.942076",
     "exception": false,
     "start_time": "2025-07-04T11:53:48.267447",
     "status": "completed"
    },
    "tags": []
   },
   "outputs": [],
   "source": [
    "coregistered_data = run_coregister_combined_point_data(\n",
    "    point_data=grid_data,\n",
    "    subduction_data=subduction_data,\n",
    "    n_jobs=n_jobs,\n",
    "    verbose=verbose,\n",
    ")"
   ]
  },
  {
   "attachments": {},
   "cell_type": "markdown",
   "id": "6c7067fe",
   "metadata": {
    "papermill": {
     "duration": 0.01206,
     "end_time": "2025-07-04T12:07:10.964071",
     "exception": false,
     "start_time": "2025-07-04T12:07:10.952011",
     "status": "completed"
    },
    "tags": []
   },
   "source": [
    "### Assign crustal thickness data to grid\n",
    "\n",
    "This cell extracts the overriding plate thickness at each point."
   ]
  },
  {
   "cell_type": "code",
   "execution_count": 15,
   "id": "317048a8",
   "metadata": {
    "execution": {
     "iopub.execute_input": "2025-07-04T12:07:10.984795Z",
     "iopub.status.busy": "2025-07-04T12:07:10.984445Z",
     "iopub.status.idle": "2025-07-04T12:10:38.946824Z",
     "shell.execute_reply": "2025-07-04T12:10:38.945203Z"
    },
    "papermill": {
     "duration": 207.977828,
     "end_time": "2025-07-04T12:10:38.953189",
     "exception": false,
     "start_time": "2025-07-04T12:07:10.975361",
     "status": "completed"
    },
    "tags": []
   },
   "outputs": [],
   "source": [
    "coregistered_data = run_coregister_crustal_thickness(\n",
    "    point_data=coregistered_data,\n",
    "    input_dir=crustal_thickness_dir,\n",
    "    n_jobs=n_jobs,\n",
    "    verbose=verbose,\n",
    ")"
   ]
  },
  {
   "cell_type": "markdown",
   "id": "3067ae47",
   "metadata": {
    "papermill": {
     "duration": 0.008226,
     "end_time": "2025-07-04T12:10:38.970276",
     "exception": false,
     "start_time": "2025-07-04T12:10:38.962050",
     "status": "completed"
    },
    "tags": []
   },
   "source": [
    "### Calculate cumulative erosion\n",
    "\n",
    "Here we calculate the cumulative erosion experienced by each point in the grid since its assigned age time."
   ]
  },
  {
   "cell_type": "code",
   "execution_count": 16,
   "id": "a90d7da4",
   "metadata": {
    "execution": {
     "iopub.execute_input": "2025-07-04T12:10:38.984351Z",
     "iopub.status.busy": "2025-07-04T12:10:38.983992Z",
     "iopub.status.idle": "2025-07-04T12:23:34.304145Z",
     "shell.execute_reply": "2025-07-04T12:23:34.303315Z"
    },
    "papermill": {
     "duration": 775.331314,
     "end_time": "2025-07-04T12:23:34.307337",
     "exception": false,
     "start_time": "2025-07-04T12:10:38.976023",
     "status": "completed"
    },
    "tags": []
   },
   "outputs": [],
   "source": [
    "coregistered_data = calculate_erodep(\n",
    "    coregistered_data,\n",
    "    input_dir=erodep_dir,\n",
    "    n_jobs=n_jobs,\n",
    "    column_name=\"erosion (m)\",\n",
    "    verbose=verbose,\n",
    ")"
   ]
  },
  {
   "cell_type": "markdown",
   "id": "a228c9cc",
   "metadata": {
    "papermill": {
     "duration": 0.004977,
     "end_time": "2025-07-04T12:23:34.319280",
     "exception": false,
     "start_time": "2025-07-04T12:23:34.314303",
     "status": "completed"
    },
    "tags": []
   },
   "source": [
    "### Assign data to regions\n",
    "\n",
    "To divide the data into individual regions for the later analysis, we use the `regions_filename` defined earlier, if desired."
   ]
  },
  {
   "cell_type": "code",
   "execution_count": 17,
   "id": "d520a2b5",
   "metadata": {
    "execution": {
     "iopub.execute_input": "2025-07-04T12:23:34.333769Z",
     "iopub.status.busy": "2025-07-04T12:23:34.333467Z",
     "iopub.status.idle": "2025-07-04T12:23:38.311935Z",
     "shell.execute_reply": "2025-07-04T12:23:38.311372Z"
    },
    "papermill": {
     "duration": 3.991928,
     "end_time": "2025-07-04T12:23:38.315957",
     "exception": false,
     "start_time": "2025-07-04T12:23:34.324029",
     "status": "completed"
    },
    "tags": []
   },
   "outputs": [],
   "source": [
    "if regions_filename is not None and os.path.isfile(regions_filename):\n",
    "    points = gpd.GeoSeries.from_xy(\n",
    "        coregistered_data[\"present_lon\"],\n",
    "        coregistered_data[\"present_lat\"],\n",
    "        index=coregistered_data.index,\n",
    "    )\n",
    "    coregistered_data[\"region\"] = assign_regions(\n",
    "        points,\n",
    "        regions=regions_filename,\n",
    "    )\n",
    "    del points"
   ]
  },
  {
   "cell_type": "markdown",
   "id": "48e28940",
   "metadata": {
    "papermill": {
     "duration": 0.005122,
     "end_time": "2025-07-04T12:23:38.329032",
     "exception": false,
     "start_time": "2025-07-04T12:23:38.323910",
     "status": "completed"
    },
    "tags": []
   },
   "source": [
    "### Save to file\n",
    "\n",
    "Finally, we write the dataset to a CSV file."
   ]
  },
  {
   "cell_type": "code",
   "execution_count": 18,
   "id": "333c91a8",
   "metadata": {
    "execution": {
     "iopub.execute_input": "2025-07-04T12:23:38.339790Z",
     "iopub.status.busy": "2025-07-04T12:23:38.339327Z",
     "iopub.status.idle": "2025-07-04T12:27:34.551598Z",
     "shell.execute_reply": "2025-07-04T12:27:34.550865Z"
    },
    "papermill": {
     "duration": 236.220767,
     "end_time": "2025-07-04T12:27:34.553907",
     "exception": false,
     "start_time": "2025-07-04T12:23:38.333140",
     "status": "completed"
    },
    "tags": []
   },
   "outputs": [],
   "source": [
    "coregistered_data.to_csv(output_filename, index=False)"
   ]
  },
  {
   "cell_type": "code",
   "execution_count": null,
   "id": "b51b394a",
   "metadata": {
    "papermill": {
     "duration": 0.005419,
     "end_time": "2025-07-04T12:27:34.564994",
     "exception": false,
     "start_time": "2025-07-04T12:27:34.559575",
     "status": "completed"
    },
    "tags": []
   },
   "outputs": [],
   "source": []
  }
 ],
 "metadata": {
  "kernelspec": {
   "display_name": "datamining",
   "language": "python",
   "name": "python3"
  },
  "language_info": {
   "codemirror_mode": {
    "name": "ipython",
    "version": 3
   },
   "file_extension": ".py",
   "mimetype": "text/x-python",
   "name": "python",
   "nbconvert_exporter": "python",
   "pygments_lexer": "ipython3",
   "version": "3.13.5"
  },
  "papermill": {
   "default_parameters": {},
   "duration": 9419.846345,
   "end_time": "2025-07-04T12:27:37.738693",
   "environment_variables": {},
   "exception": null,
   "input_path": "00c-extract_grid_data.ipynb",
   "output_path": "00c-extract_grid_data_output.ipynb",
   "parameters": {},
   "start_time": "2025-07-04T09:50:37.892348",
   "version": "2.4.0"
  }
 },
 "nbformat": 4,
 "nbformat_minor": 5
}