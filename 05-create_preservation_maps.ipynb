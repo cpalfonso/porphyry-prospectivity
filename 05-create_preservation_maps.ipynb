{
 "cells": [
  {
   "cell_type": "markdown",
   "id": "7f6878b3",
   "metadata": {
    "papermill": {
     "duration": 0.004778,
     "end_time": "2024-06-20T16:20:19.722284",
     "exception": false,
     "start_time": "2024-06-20T16:20:19.717506",
     "status": "completed"
    },
    "tags": []
   },
   "source": [
    "# Preservation potential grids\n",
    "\n",
    "This notebook converts the cumulative erosion values at the grid point locations to true netCDF format grids of preservation potential, using the parametric distribution fitted in notebook `04`.\n",
    "\n",
    "If training data has been extracted from the source datasets by running the `00c-extract_training_data_global.ipynb` and `00b-extract_grid_data.ipynb` notebooks, set the `use_extracted_data` variable below to `True` to use this dataset instead of the pre-prepared training data from the [Zenodo repository](https://zenodo.org/record/8157691)."
   ]
  },
  {
   "cell_type": "markdown",
   "id": "bb19728e",
   "metadata": {
    "papermill": {
     "duration": 0.003077,
     "end_time": "2024-06-20T16:20:19.729356",
     "exception": false,
     "start_time": "2024-06-20T16:20:19.726279",
     "status": "completed"
    },
    "tags": []
   },
   "source": [
    "## Notebook options\n",
    "\n",
    "These cells set some of the important variables and definitions used throughout the notebook."
   ]
  },
  {
   "cell_type": "code",
   "execution_count": 1,
   "id": "5575cb58",
   "metadata": {
    "execution": {
     "iopub.execute_input": "2024-06-20T16:20:19.736696Z",
     "iopub.status.busy": "2024-06-20T16:20:19.736390Z",
     "iopub.status.idle": "2024-06-20T16:20:19.744357Z",
     "shell.execute_reply": "2024-06-20T16:20:19.743530Z"
    },
    "papermill": {
     "duration": 0.013987,
     "end_time": "2024-06-20T16:20:19.746329",
     "exception": false,
     "start_time": "2024-06-20T16:20:19.732342",
     "status": "completed"
    },
    "tags": []
   },
   "outputs": [],
   "source": [
    "# If True, use training data extracted in notebook 00c\n",
    "# Else, use pre-prepared training data downloaded from Zenodo\n",
    "use_extracted_data = True\n",
    "\n",
    "# Number of processes to use\n",
    "n_jobs = 4\n",
    "\n",
    "# Control verbosity level of logging output\n",
    "verbose = False"
   ]
  },
  {
   "cell_type": "markdown",
   "id": "e027d1c4",
   "metadata": {
    "papermill": {
     "duration": 0.003047,
     "end_time": "2024-06-20T16:20:19.752557",
     "exception": false,
     "start_time": "2024-06-20T16:20:19.749510",
     "status": "completed"
    },
    "tags": []
   },
   "source": [
    "These values will usually not need to be modified:"
   ]
  },
  {
   "cell_type": "code",
   "execution_count": 2,
   "id": "790680ec",
   "metadata": {
    "execution": {
     "iopub.execute_input": "2024-06-20T16:20:19.759476Z",
     "iopub.status.busy": "2024-06-20T16:20:19.759234Z",
     "iopub.status.idle": "2024-06-20T16:20:19.812690Z",
     "shell.execute_reply": "2024-06-20T16:20:19.812117Z"
    },
    "papermill": {
     "duration": 0.058847,
     "end_time": "2024-06-20T16:20:19.814390",
     "exception": false,
     "start_time": "2024-06-20T16:20:19.755543",
     "status": "completed"
    },
    "tags": []
   },
   "outputs": [],
   "source": [
    "from lib.check_files import check_prepared_data\n",
    "\n",
    "if use_extracted_data:\n",
    "    data_dir = \"extracted_data\"\n",
    "else:\n",
    "    data_dir = check_prepared_data(\"prepared_data\")\n",
    "\n",
    "outputs_dir = \"outputs\""
   ]
  },
  {
   "cell_type": "markdown",
   "id": "adb0c6c1",
   "metadata": {
    "papermill": {
     "duration": 0.001937,
     "end_time": "2024-06-20T16:20:19.818562",
     "exception": false,
     "start_time": "2024-06-20T16:20:19.816625",
     "status": "completed"
    },
    "tags": []
   },
   "source": [
    "If any of the following exist as environment variables, they will replace the values defined above:"
   ]
  },
  {
   "cell_type": "code",
   "execution_count": 3,
   "id": "af58fc81",
   "metadata": {
    "execution": {
     "iopub.execute_input": "2024-06-20T16:20:19.823751Z",
     "iopub.status.busy": "2024-06-20T16:20:19.823489Z",
     "iopub.status.idle": "2024-06-20T16:20:19.826375Z",
     "shell.execute_reply": "2024-06-20T16:20:19.825962Z"
    },
    "papermill": {
     "duration": 0.007537,
     "end_time": "2024-06-20T16:20:19.828081",
     "exception": false,
     "start_time": "2024-06-20T16:20:19.820544",
     "status": "completed"
    },
    "tags": []
   },
   "outputs": [],
   "source": [
    "import os\n",
    "\n",
    "n_jobs = int(os.environ.get(\"N_JOBS\", n_jobs))\n",
    "verbose = bool(int(os.environ.get(\"VERBOSE\", verbose)))"
   ]
  },
  {
   "cell_type": "markdown",
   "id": "732a5a55",
   "metadata": {
    "papermill": {
     "duration": 0.002047,
     "end_time": "2024-06-20T16:20:19.832883",
     "exception": false,
     "start_time": "2024-06-20T16:20:19.830836",
     "status": "completed"
    },
    "tags": []
   },
   "source": [
    "## Notebook setup\n",
    "\n",
    "Imports, definitions, etc."
   ]
  },
  {
   "cell_type": "markdown",
   "id": "1d5bf441",
   "metadata": {
    "papermill": {
     "duration": 0.002106,
     "end_time": "2024-06-20T16:20:19.837317",
     "exception": false,
     "start_time": "2024-06-20T16:20:19.835211",
     "status": "completed"
    },
    "tags": []
   },
   "source": [
    "### Imports"
   ]
  },
  {
   "cell_type": "code",
   "execution_count": 4,
   "id": "831e9f22",
   "metadata": {
    "execution": {
     "iopub.execute_input": "2024-06-20T16:20:19.843397Z",
     "iopub.status.busy": "2024-06-20T16:20:19.843109Z",
     "iopub.status.idle": "2024-06-20T16:20:23.317274Z",
     "shell.execute_reply": "2024-06-20T16:20:23.316321Z"
    },
    "papermill": {
     "duration": 3.479314,
     "end_time": "2024-06-20T16:20:23.319344",
     "exception": false,
     "start_time": "2024-06-20T16:20:19.840030",
     "status": "completed"
    },
    "tags": []
   },
   "outputs": [],
   "source": [
    "import glob\n",
    "\n",
    "import joblib\n",
    "import numpy as np\n",
    "import pandas as pd\n",
    "from gplately import Raster\n",
    "\n",
    "from lib.pu import create_grids"
   ]
  },
  {
   "cell_type": "markdown",
   "id": "bbbd06d1",
   "metadata": {
    "papermill": {
     "duration": 0.003033,
     "end_time": "2024-06-20T16:20:23.325792",
     "exception": false,
     "start_time": "2024-06-20T16:20:23.322759",
     "status": "completed"
    },
    "tags": []
   },
   "source": [
    "### Input and output files"
   ]
  },
  {
   "cell_type": "code",
   "execution_count": 5,
   "id": "0ebbda50",
   "metadata": {
    "execution": {
     "iopub.execute_input": "2024-06-20T16:20:23.333740Z",
     "iopub.status.busy": "2024-06-20T16:20:23.333341Z",
     "iopub.status.idle": "2024-06-20T16:20:23.338148Z",
     "shell.execute_reply": "2024-06-20T16:20:23.337509Z"
    },
    "papermill": {
     "duration": 0.010328,
     "end_time": "2024-06-20T16:20:23.339804",
     "exception": false,
     "start_time": "2024-06-20T16:20:23.329476",
     "status": "completed"
    },
    "tags": []
   },
   "outputs": [],
   "source": [
    "data_filename = os.path.join(data_dir, \"grid_data.csv\")\n",
    "\n",
    "outputs_dir = \"outputs\"\n",
    "dist_parametric_filename = os.path.join(\n",
    "    outputs_dir,\n",
    "    \"global\",\n",
    "    \"erodep_dist.joblib\",\n",
    ")\n",
    "\n",
    "# Output\n",
    "output_filename_points = os.path.join(\n",
    "    outputs_dir,\n",
    "    \"global\",\n",
    "    \"grid_data_preservation_likelihood.csv\",\n",
    ")\n",
    "erodep_grid_dir = os.path.join(\n",
    "    outputs_dir,\n",
    "    \"erosion_grids\",\n",
    ")\n",
    "likelihood_dir = os.path.join(\n",
    "    outputs_dir,\n",
    "    \"global\",\n",
    "    \"preservation_likelihood_grids\",\n",
    ")\n",
    "for i in (\n",
    "    erodep_grid_dir,\n",
    "    likelihood_dir,\n",
    "):\n",
    "    os.makedirs(i, exist_ok=True)"
   ]
  },
  {
   "cell_type": "markdown",
   "id": "1782b6b5",
   "metadata": {
    "papermill": {
     "duration": 0.002548,
     "end_time": "2024-06-20T16:20:23.345015",
     "exception": false,
     "start_time": "2024-06-20T16:20:23.342467",
     "status": "completed"
    },
    "tags": []
   },
   "source": [
    "### Load data and calculate likelihood\n",
    "\n",
    "The likelihood point values will be saved to a `.csv` file in the output directory."
   ]
  },
  {
   "cell_type": "code",
   "execution_count": 6,
   "id": "210df0fc",
   "metadata": {
    "execution": {
     "iopub.execute_input": "2024-06-20T16:20:23.352647Z",
     "iopub.status.busy": "2024-06-20T16:20:23.352247Z",
     "iopub.status.idle": "2024-06-20T16:20:46.156434Z",
     "shell.execute_reply": "2024-06-20T16:20:46.155856Z"
    },
    "papermill": {
     "duration": 22.810047,
     "end_time": "2024-06-20T16:20:46.158184",
     "exception": false,
     "start_time": "2024-06-20T16:20:23.348137",
     "status": "completed"
    },
    "tags": []
   },
   "outputs": [],
   "source": [
    "cols = [\"lon\", \"lat\", \"age (Ma)\", \"erosion (m)\"]\n",
    "data = pd.read_csv(data_filename, usecols=cols)\n",
    "\n",
    "if verbose:\n",
    "    print(\n",
    "        \"Loading parametric distribution from file: \"\n",
    "        + dist_parametric_filename\n",
    "    )\n",
    "dist_parametric = joblib.load(dist_parametric_filename)\n",
    "data[\"likelihood\"] = dist_parametric.pdf(data[\"erosion (m)\"])\n",
    "\n",
    "data.to_csv(output_filename_points, index=False)"
   ]
  },
  {
   "cell_type": "markdown",
   "id": "a27d57a0",
   "metadata": {
    "papermill": {
     "duration": 0.002088,
     "end_time": "2024-06-20T16:20:46.162692",
     "exception": false,
     "start_time": "2024-06-20T16:20:46.160604",
     "status": "completed"
    },
    "tags": []
   },
   "source": [
    "## Create grids\n",
    "\n",
    "In this section, the different types of output grids are created."
   ]
  },
  {
   "cell_type": "markdown",
   "id": "4fafad82",
   "metadata": {
    "papermill": {
     "duration": 0.002157,
     "end_time": "2024-06-20T16:20:46.166966",
     "exception": false,
     "start_time": "2024-06-20T16:20:46.164809",
     "status": "completed"
    },
    "tags": []
   },
   "source": [
    "### Erosion"
   ]
  },
  {
   "cell_type": "code",
   "execution_count": 7,
   "id": "bf0773e0",
   "metadata": {
    "execution": {
     "iopub.execute_input": "2024-06-20T16:20:46.172518Z",
     "iopub.status.busy": "2024-06-20T16:20:46.172228Z",
     "iopub.status.idle": "2024-06-20T16:34:04.791316Z",
     "shell.execute_reply": "2024-06-20T16:34:04.790522Z"
    },
    "papermill": {
     "duration": 798.62432,
     "end_time": "2024-06-20T16:34:04.793308",
     "exception": false,
     "start_time": "2024-06-20T16:20:46.168988",
     "status": "completed"
    },
    "tags": []
   },
   "outputs": [],
   "source": [
    "create_grids(\n",
    "    data,\n",
    "    output_dir=erodep_grid_dir,\n",
    "    threads=n_jobs,\n",
    "    verbose=verbose,\n",
    "    column=\"erosion (m)\",\n",
    "    filename_format=\"erosion_grid_{}Ma.nc\",\n",
    "    extent=\"global\",\n",
    ")\n"
   ]
  },
  {
   "cell_type": "markdown",
   "id": "eead1583",
   "metadata": {
    "papermill": {
     "duration": 0.00318,
     "end_time": "2024-06-20T16:34:04.800164",
     "exception": false,
     "start_time": "2024-06-20T16:34:04.796984",
     "status": "completed"
    },
    "tags": []
   },
   "source": [
    "### Preservation likelihood"
   ]
  },
  {
   "cell_type": "code",
   "execution_count": 8,
   "id": "649c16f6",
   "metadata": {
    "execution": {
     "iopub.execute_input": "2024-06-20T16:34:04.807871Z",
     "iopub.status.busy": "2024-06-20T16:34:04.807541Z",
     "iopub.status.idle": "2024-06-20T16:34:08.103292Z",
     "shell.execute_reply": "2024-06-20T16:34:08.102631Z"
    },
    "papermill": {
     "duration": 3.301587,
     "end_time": "2024-06-20T16:34:08.104832",
     "exception": false,
     "start_time": "2024-06-20T16:34:04.803245",
     "status": "completed"
    },
    "tags": []
   },
   "outputs": [],
   "source": [
    "for erodep_filename in glob.glob(\n",
    "    os.path.join(\n",
    "        erodep_grid_dir,\n",
    "        r\"erosion_grid_*Ma.nc\",\n",
    "    )\n",
    "):\n",
    "    if verbose:\n",
    "        print(\n",
    "            f\"Reading file: {os.path.basename(erodep_filename)}\"\n",
    "        )\n",
    "    likelihood_basename = os.path.basename(\n",
    "        erodep_filename\n",
    "    ).replace(\"erosion_grid\", \"preservation_likelihood_grid\")\n",
    "    likelihood_filename = os.path.join(\n",
    "        likelihood_dir,\n",
    "        likelihood_basename,\n",
    "    )\n",
    "\n",
    "    erodep_raster = Raster(erodep_filename)\n",
    "\n",
    "    likelihood = Raster(dist_parametric.pdf(erodep_raster))\n",
    "    if verbose:\n",
    "        print(\n",
    "            f\" - Writing likelihood file: {likelihood_basename}\"\n",
    "        )\n",
    "    likelihood.save_to_netcdf4(likelihood_filename)"
   ]
  },
  {
   "cell_type": "code",
   "execution_count": null,
   "id": "c1bb8653",
   "metadata": {
    "papermill": {
     "duration": 0.002174,
     "end_time": "2024-06-20T16:34:08.109680",
     "exception": false,
     "start_time": "2024-06-20T16:34:08.107506",
     "status": "completed"
    },
    "tags": []
   },
   "outputs": [],
   "source": []
  }
 ],
 "metadata": {
  "kernelspec": {
   "display_name": "datamining",
   "language": "python",
   "name": "python3"
  },
  "language_info": {
   "codemirror_mode": {
    "name": "ipython",
    "version": 3
   },
   "file_extension": ".py",
   "mimetype": "text/x-python",
   "name": "python",
   "nbconvert_exporter": "python",
   "pygments_lexer": "ipython3",
   "version": "3.11.9"
  },
  "papermill": {
   "default_parameters": {},
   "duration": 831.882933,
   "end_time": "2024-06-20T16:34:10.734611",
   "environment_variables": {},
   "exception": null,
   "input_path": "05-create_preservation_maps.ipynb",
   "output_path": "05-create_preservation_maps.ipynb",
   "parameters": {},
   "start_time": "2024-06-20T16:20:18.851678",
   "version": "2.4.0"
  }
 },
 "nbformat": 4,
 "nbformat_minor": 5
}