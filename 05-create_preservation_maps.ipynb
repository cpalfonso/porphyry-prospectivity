{
 "cells": [
  {
   "cell_type": "markdown",
   "id": "7f6878b3",
   "metadata": {
    "papermill": {
     "duration": 0.005149,
     "end_time": "2024-11-15T03:15:51.715790",
     "exception": false,
     "start_time": "2024-11-15T03:15:51.710641",
     "status": "completed"
    },
    "tags": []
   },
   "source": [
    "# Preservation potential grids\n",
    "\n",
    "This notebook converts the cumulative erosion values at the grid point locations to true netCDF format grids of preservation potential, using the parametric distribution fitted in notebook `04`.\n",
    "\n",
    "If training data has been extracted from the source datasets by running the `00c-extract_training_data_global.ipynb` and `00b-extract_grid_data.ipynb` notebooks, set the `use_extracted_data` variable below to `True` to use this dataset instead of the pre-prepared training data from the [Zenodo repository](https://zenodo.org/record/8157691)."
   ]
  },
  {
   "cell_type": "markdown",
   "id": "bb19728e",
   "metadata": {
    "papermill": {
     "duration": 0.003054,
     "end_time": "2024-11-15T03:15:51.723155",
     "exception": false,
     "start_time": "2024-11-15T03:15:51.720101",
     "status": "completed"
    },
    "tags": []
   },
   "source": [
    "## Notebook options\n",
    "\n",
    "These cells set some of the important variables and definitions used throughout the notebook."
   ]
  },
  {
   "cell_type": "code",
   "execution_count": 1,
   "id": "8f44dfaf",
   "metadata": {
    "execution": {
     "iopub.execute_input": "2024-11-15T03:15:51.731867Z",
     "iopub.status.busy": "2024-11-15T03:15:51.731553Z",
     "iopub.status.idle": "2024-11-15T03:15:51.735854Z",
     "shell.execute_reply": "2024-11-15T03:15:51.735140Z"
    },
    "papermill": {
     "duration": 0.009787,
     "end_time": "2024-11-15T03:15:51.737686",
     "exception": false,
     "start_time": "2024-11-15T03:15:51.727899",
     "status": "completed"
    },
    "tags": []
   },
   "outputs": [],
   "source": [
    "config_file = \"notebook_parameters_test.yml\""
   ]
  },
  {
   "cell_type": "code",
   "execution_count": 2,
   "id": "b8959940",
   "metadata": {
    "execution": {
     "iopub.execute_input": "2024-11-15T03:15:51.744078Z",
     "iopub.status.busy": "2024-11-15T03:15:51.743817Z",
     "iopub.status.idle": "2024-11-15T03:15:51.783178Z",
     "shell.execute_reply": "2024-11-15T03:15:51.782533Z"
    },
    "papermill": {
     "duration": 0.044173,
     "end_time": "2024-11-15T03:15:51.784581",
     "exception": false,
     "start_time": "2024-11-15T03:15:51.740408",
     "status": "completed"
    },
    "tags": []
   },
   "outputs": [],
   "source": [
    "from lib.load_params import get_params\n",
    "\n",
    "params = get_params(config_file, notebook=\"05\")\n",
    "\n",
    "# If True, use training data extracted in notebook 00c\n",
    "# Else, use pre-prepared training data downloaded from Zenodo\n",
    "use_extracted_data = params[\"use_extracted_data\"]\n",
    "\n",
    "# Number of processes to use\n",
    "n_jobs = params[\"n_jobs\"]\n",
    "\n",
    "# Control verbosity level of logging output\n",
    "verbose = params[\"verbose\"]\n",
    "\n",
    "# Output directory\n",
    "outputs_dir = params[\"output_dir\"]"
   ]
  },
  {
   "cell_type": "markdown",
   "id": "732a5a55",
   "metadata": {
    "papermill": {
     "duration": 0.002627,
     "end_time": "2024-11-15T03:15:51.790390",
     "exception": false,
     "start_time": "2024-11-15T03:15:51.787763",
     "status": "completed"
    },
    "tags": []
   },
   "source": [
    "## Notebook setup\n",
    "\n",
    "Imports, definitions, etc."
   ]
  },
  {
   "cell_type": "markdown",
   "id": "1d5bf441",
   "metadata": {
    "papermill": {
     "duration": 0.002509,
     "end_time": "2024-11-15T03:15:51.795406",
     "exception": false,
     "start_time": "2024-11-15T03:15:51.792897",
     "status": "completed"
    },
    "tags": []
   },
   "source": [
    "### Imports"
   ]
  },
  {
   "cell_type": "code",
   "execution_count": 3,
   "id": "831e9f22",
   "metadata": {
    "execution": {
     "iopub.execute_input": "2024-11-15T03:15:51.801404Z",
     "iopub.status.busy": "2024-11-15T03:15:51.801145Z",
     "iopub.status.idle": "2024-11-15T03:15:55.952738Z",
     "shell.execute_reply": "2024-11-15T03:15:55.952070Z"
    },
    "papermill": {
     "duration": 4.156433,
     "end_time": "2024-11-15T03:15:55.954306",
     "exception": false,
     "start_time": "2024-11-15T03:15:51.797873",
     "status": "completed"
    },
    "tags": []
   },
   "outputs": [],
   "source": [
    "import glob\n",
    "import os\n",
    "\n",
    "import joblib\n",
    "import numpy as np\n",
    "import pandas as pd\n",
    "from gplately import Raster\n",
    "\n",
    "from lib.check_files import check_prepared_data\n",
    "from lib.pu import create_grids"
   ]
  },
  {
   "cell_type": "markdown",
   "id": "bbbd06d1",
   "metadata": {
    "papermill": {
     "duration": 0.002668,
     "end_time": "2024-11-15T03:15:55.959766",
     "exception": false,
     "start_time": "2024-11-15T03:15:55.957098",
     "status": "completed"
    },
    "tags": []
   },
   "source": [
    "### Input and output files"
   ]
  },
  {
   "cell_type": "code",
   "execution_count": 4,
   "id": "0ebbda50",
   "metadata": {
    "execution": {
     "iopub.execute_input": "2024-11-15T03:15:55.966433Z",
     "iopub.status.busy": "2024-11-15T03:15:55.965944Z",
     "iopub.status.idle": "2024-11-15T03:15:55.971187Z",
     "shell.execute_reply": "2024-11-15T03:15:55.970646Z"
    },
    "papermill": {
     "duration": 0.01022,
     "end_time": "2024-11-15T03:15:55.972723",
     "exception": false,
     "start_time": "2024-11-15T03:15:55.962503",
     "status": "completed"
    },
    "tags": []
   },
   "outputs": [],
   "source": [
    "if use_extracted_data:\n",
    "    data_dir = params[\"extracted_data_dir\"]\n",
    "else:\n",
    "    data_dir = check_prepared_data(\"prepared_data\")\n",
    "\n",
    "data_filename = os.path.join(data_dir, \"grid_data.csv\")\n",
    "\n",
    "dist_parametric_filename = os.path.join(\n",
    "    outputs_dir,\n",
    "    \"global\",\n",
    "    \"erodep_dist.joblib\",\n",
    ")\n",
    "\n",
    "# Output\n",
    "output_filename_points = os.path.join(\n",
    "    outputs_dir,\n",
    "    \"global\",\n",
    "    \"grid_data_preservation_likelihood.csv\",\n",
    ")\n",
    "erodep_grid_dir = os.path.join(\n",
    "    outputs_dir,\n",
    "    \"erosion_grids\",\n",
    ")\n",
    "likelihood_dir = os.path.join(\n",
    "    outputs_dir,\n",
    "    \"global\",\n",
    "    \"preservation_likelihood_grids\",\n",
    ")\n",
    "for i in (\n",
    "    erodep_grid_dir,\n",
    "    likelihood_dir,\n",
    "):\n",
    "    os.makedirs(i, exist_ok=True)"
   ]
  },
  {
   "cell_type": "markdown",
   "id": "1782b6b5",
   "metadata": {
    "papermill": {
     "duration": 0.002697,
     "end_time": "2024-11-15T03:15:55.978862",
     "exception": false,
     "start_time": "2024-11-15T03:15:55.976165",
     "status": "completed"
    },
    "tags": []
   },
   "source": [
    "### Load data and calculate likelihood\n",
    "\n",
    "The likelihood point values will be saved to a `.csv` file in the output directory."
   ]
  },
  {
   "cell_type": "code",
   "execution_count": 5,
   "id": "210df0fc",
   "metadata": {
    "execution": {
     "iopub.execute_input": "2024-11-15T03:15:55.985208Z",
     "iopub.status.busy": "2024-11-15T03:15:55.984929Z",
     "iopub.status.idle": "2024-11-15T03:16:26.038494Z",
     "shell.execute_reply": "2024-11-15T03:16:26.037903Z"
    },
    "papermill": {
     "duration": 30.058411,
     "end_time": "2024-11-15T03:16:26.040030",
     "exception": false,
     "start_time": "2024-11-15T03:15:55.981619",
     "status": "completed"
    },
    "tags": []
   },
   "outputs": [],
   "source": [
    "cols = [\"lon\", \"lat\", \"age (Ma)\", \"erosion (m)\"]\n",
    "data = pd.read_csv(data_filename, usecols=cols)\n",
    "\n",
    "if verbose:\n",
    "    print(\n",
    "        \"Loading parametric distribution from file: \"\n",
    "        + dist_parametric_filename\n",
    "    )\n",
    "dist_parametric = joblib.load(dist_parametric_filename)\n",
    "data[\"likelihood\"] = dist_parametric.pdf(data[\"erosion (m)\"])\n",
    "\n",
    "data.to_csv(output_filename_points, index=False)"
   ]
  },
  {
   "cell_type": "markdown",
   "id": "a27d57a0",
   "metadata": {
    "papermill": {
     "duration": 0.002622,
     "end_time": "2024-11-15T03:16:26.045428",
     "exception": false,
     "start_time": "2024-11-15T03:16:26.042806",
     "status": "completed"
    },
    "tags": []
   },
   "source": [
    "## Create grids\n",
    "\n",
    "In this section, the different types of output grids are created."
   ]
  },
  {
   "cell_type": "markdown",
   "id": "4fafad82",
   "metadata": {
    "papermill": {
     "duration": 0.002539,
     "end_time": "2024-11-15T03:16:26.050547",
     "exception": false,
     "start_time": "2024-11-15T03:16:26.048008",
     "status": "completed"
    },
    "tags": []
   },
   "source": [
    "### Erosion"
   ]
  },
  {
   "cell_type": "code",
   "execution_count": 6,
   "id": "bf0773e0",
   "metadata": {
    "execution": {
     "iopub.execute_input": "2024-11-15T03:16:26.057178Z",
     "iopub.status.busy": "2024-11-15T03:16:26.056906Z",
     "iopub.status.idle": "2024-11-15T03:25:17.517361Z",
     "shell.execute_reply": "2024-11-15T03:25:17.516669Z"
    },
    "papermill": {
     "duration": 531.465497,
     "end_time": "2024-11-15T03:25:17.518784",
     "exception": false,
     "start_time": "2024-11-15T03:16:26.053287",
     "status": "completed"
    },
    "tags": []
   },
   "outputs": [],
   "source": [
    "create_grids(\n",
    "    data,\n",
    "    output_dir=erodep_grid_dir,\n",
    "    threads=n_jobs,\n",
    "    verbose=verbose,\n",
    "    column=\"erosion (m)\",\n",
    "    filename_format=\"erosion_grid_{}Ma.nc\",\n",
    "    extent=\"global\",\n",
    ")\n"
   ]
  },
  {
   "cell_type": "markdown",
   "id": "eead1583",
   "metadata": {
    "papermill": {
     "duration": 0.002418,
     "end_time": "2024-11-15T03:25:17.524101",
     "exception": false,
     "start_time": "2024-11-15T03:25:17.521683",
     "status": "completed"
    },
    "tags": []
   },
   "source": [
    "### Preservation likelihood"
   ]
  },
  {
   "cell_type": "code",
   "execution_count": 7,
   "id": "649c16f6",
   "metadata": {
    "execution": {
     "iopub.execute_input": "2024-11-15T03:25:17.530673Z",
     "iopub.status.busy": "2024-11-15T03:25:17.530187Z",
     "iopub.status.idle": "2024-11-15T03:25:22.414410Z",
     "shell.execute_reply": "2024-11-15T03:25:22.413690Z"
    },
    "papermill": {
     "duration": 4.88925,
     "end_time": "2024-11-15T03:25:22.415882",
     "exception": false,
     "start_time": "2024-11-15T03:25:17.526632",
     "status": "completed"
    },
    "tags": []
   },
   "outputs": [],
   "source": [
    "for erodep_filename in glob.glob(\n",
    "    os.path.join(\n",
    "        erodep_grid_dir,\n",
    "        r\"erosion_grid_*Ma.nc\",\n",
    "    )\n",
    "):\n",
    "    if verbose:\n",
    "        print(\n",
    "            f\"Reading file: {os.path.basename(erodep_filename)}\"\n",
    "        )\n",
    "    likelihood_basename = os.path.basename(\n",
    "        erodep_filename\n",
    "    ).replace(\"erosion_grid\", \"preservation_likelihood_grid\")\n",
    "    likelihood_filename = os.path.join(\n",
    "        likelihood_dir,\n",
    "        likelihood_basename,\n",
    "    )\n",
    "\n",
    "    erodep_raster = Raster(erodep_filename)\n",
    "\n",
    "    likelihood = Raster(dist_parametric.pdf(erodep_raster))\n",
    "    if verbose:\n",
    "        print(\n",
    "            f\" - Writing likelihood file: {likelihood_basename}\"\n",
    "        )\n",
    "    likelihood.save_to_netcdf4(likelihood_filename)"
   ]
  },
  {
   "cell_type": "code",
   "execution_count": null,
   "id": "c1bb8653",
   "metadata": {
    "papermill": {
     "duration": 0.002533,
     "end_time": "2024-11-15T03:25:22.421265",
     "exception": false,
     "start_time": "2024-11-15T03:25:22.418732",
     "status": "completed"
    },
    "tags": []
   },
   "outputs": [],
   "source": []
  }
 ],
 "metadata": {
  "kernelspec": {
   "display_name": "datamining",
   "language": "python",
   "name": "python3"
  },
  "language_info": {
   "codemirror_mode": {
    "name": "ipython",
    "version": 3
   },
   "file_extension": ".py",
   "mimetype": "text/x-python",
   "name": "python",
   "nbconvert_exporter": "python",
   "pygments_lexer": "ipython3",
   "version": "3.12.3"
  },
  "papermill": {
   "default_parameters": {},
   "duration": 574.327001,
   "end_time": "2024-11-15T03:25:25.043354",
   "environment_variables": {},
   "exception": null,
   "input_path": "05-create_preservation_maps.ipynb",
   "output_path": "05-create_preservation_maps.ipynb",
   "parameters": {},
   "start_time": "2024-11-15T03:15:50.716353",
   "version": "2.4.0"
  }
 },
 "nbformat": 4,
 "nbformat_minor": 5
}