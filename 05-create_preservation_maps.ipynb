{
 "cells": [
  {
   "cell_type": "markdown",
   "id": "7f6878b3",
   "metadata": {
    "papermill": {
     "duration": 0.003509,
     "end_time": "2024-10-01T06:41:57.037664",
     "exception": false,
     "start_time": "2024-10-01T06:41:57.034155",
     "status": "completed"
    },
    "tags": []
   },
   "source": [
    "# Preservation potential grids\n",
    "\n",
    "This notebook converts the cumulative erosion values at the grid point locations to true netCDF format grids of preservation potential, using the parametric distribution fitted in notebook `04`.\n",
    "\n",
    "If training data has been extracted from the source datasets by running the `00c-extract_training_data_global.ipynb` and `00b-extract_grid_data.ipynb` notebooks, set the `use_extracted_data` variable below to `True` to use this dataset instead of the pre-prepared training data from the [Zenodo repository](https://zenodo.org/record/8157691)."
   ]
  },
  {
   "cell_type": "markdown",
   "id": "bb19728e",
   "metadata": {
    "papermill": {
     "duration": 0.002149,
     "end_time": "2024-10-01T06:41:57.042653",
     "exception": false,
     "start_time": "2024-10-01T06:41:57.040504",
     "status": "completed"
    },
    "tags": []
   },
   "source": [
    "## Notebook options\n",
    "\n",
    "These cells set some of the important variables and definitions used throughout the notebook."
   ]
  },
  {
   "cell_type": "code",
   "execution_count": 1,
   "id": "b8959940",
   "metadata": {
    "execution": {
     "iopub.execute_input": "2024-10-01T06:41:57.048531Z",
     "iopub.status.busy": "2024-10-01T06:41:57.048252Z",
     "iopub.status.idle": "2024-10-01T06:41:57.098844Z",
     "shell.execute_reply": "2024-10-01T06:41:57.098281Z"
    },
    "papermill": {
     "duration": 0.055694,
     "end_time": "2024-10-01T06:41:57.100759",
     "exception": false,
     "start_time": "2024-10-01T06:41:57.045065",
     "status": "completed"
    },
    "tags": []
   },
   "outputs": [],
   "source": [
    "from lib.load_params import get_params\n",
    "\n",
    "params = get_params(notebook=\"05\")\n",
    "\n",
    "# If True, use training data extracted in notebook 00c\n",
    "# Else, use pre-prepared training data downloaded from Zenodo\n",
    "use_extracted_data = params[\"use_extracted_data\"]\n",
    "\n",
    "# Number of processes to use\n",
    "n_jobs = params[\"n_jobs\"]\n",
    "\n",
    "# Control verbosity level of logging output\n",
    "verbose = params[\"verbose\"]\n",
    "\n",
    "# Output directory\n",
    "outputs_dir = params[\"output_dir\"]"
   ]
  },
  {
   "cell_type": "markdown",
   "id": "732a5a55",
   "metadata": {
    "papermill": {
     "duration": 0.002382,
     "end_time": "2024-10-01T06:41:57.105676",
     "exception": false,
     "start_time": "2024-10-01T06:41:57.103294",
     "status": "completed"
    },
    "tags": []
   },
   "source": [
    "## Notebook setup\n",
    "\n",
    "Imports, definitions, etc."
   ]
  },
  {
   "cell_type": "markdown",
   "id": "1d5bf441",
   "metadata": {
    "papermill": {
     "duration": 0.002614,
     "end_time": "2024-10-01T06:41:57.110487",
     "exception": false,
     "start_time": "2024-10-01T06:41:57.107873",
     "status": "completed"
    },
    "tags": []
   },
   "source": [
    "### Imports"
   ]
  },
  {
   "cell_type": "code",
   "execution_count": 2,
   "id": "831e9f22",
   "metadata": {
    "execution": {
     "iopub.execute_input": "2024-10-01T06:41:57.116419Z",
     "iopub.status.busy": "2024-10-01T06:41:57.116163Z",
     "iopub.status.idle": "2024-10-01T06:42:02.153424Z",
     "shell.execute_reply": "2024-10-01T06:42:02.152834Z"
    },
    "papermill": {
     "duration": 5.042394,
     "end_time": "2024-10-01T06:42:02.155428",
     "exception": false,
     "start_time": "2024-10-01T06:41:57.113034",
     "status": "completed"
    },
    "tags": []
   },
   "outputs": [],
   "source": [
    "import glob\n",
    "import os\n",
    "\n",
    "import joblib\n",
    "import numpy as np\n",
    "import pandas as pd\n",
    "from gplately import Raster\n",
    "\n",
    "from lib.check_files import check_prepared_data\n",
    "from lib.pu import create_grids"
   ]
  },
  {
   "cell_type": "markdown",
   "id": "bbbd06d1",
   "metadata": {
    "papermill": {
     "duration": 0.002647,
     "end_time": "2024-10-01T06:42:02.160697",
     "exception": false,
     "start_time": "2024-10-01T06:42:02.158050",
     "status": "completed"
    },
    "tags": []
   },
   "source": [
    "### Input and output files"
   ]
  },
  {
   "cell_type": "code",
   "execution_count": 3,
   "id": "0ebbda50",
   "metadata": {
    "execution": {
     "iopub.execute_input": "2024-10-01T06:42:02.167968Z",
     "iopub.status.busy": "2024-10-01T06:42:02.167127Z",
     "iopub.status.idle": "2024-10-01T06:42:02.172963Z",
     "shell.execute_reply": "2024-10-01T06:42:02.172340Z"
    },
    "papermill": {
     "duration": 0.011515,
     "end_time": "2024-10-01T06:42:02.174586",
     "exception": false,
     "start_time": "2024-10-01T06:42:02.163071",
     "status": "completed"
    },
    "tags": []
   },
   "outputs": [],
   "source": [
    "if use_extracted_data:\n",
    "    data_dir = \"extracted_data\"\n",
    "else:\n",
    "    data_dir = check_prepared_data(\"prepared_data\")\n",
    "\n",
    "data_filename = os.path.join(data_dir, \"grid_data.csv\")\n",
    "\n",
    "dist_parametric_filename = os.path.join(\n",
    "    outputs_dir,\n",
    "    \"global\",\n",
    "    \"erodep_dist.joblib\",\n",
    ")\n",
    "\n",
    "# Output\n",
    "output_filename_points = os.path.join(\n",
    "    outputs_dir,\n",
    "    \"global\",\n",
    "    \"grid_data_preservation_likelihood.csv\",\n",
    ")\n",
    "erodep_grid_dir = os.path.join(\n",
    "    outputs_dir,\n",
    "    \"erosion_grids\",\n",
    ")\n",
    "likelihood_dir = os.path.join(\n",
    "    outputs_dir,\n",
    "    \"global\",\n",
    "    \"preservation_likelihood_grids\",\n",
    ")\n",
    "for i in (\n",
    "    erodep_grid_dir,\n",
    "    likelihood_dir,\n",
    "):\n",
    "    os.makedirs(i, exist_ok=True)"
   ]
  },
  {
   "cell_type": "markdown",
   "id": "1782b6b5",
   "metadata": {
    "papermill": {
     "duration": 0.003039,
     "end_time": "2024-10-01T06:42:02.180031",
     "exception": false,
     "start_time": "2024-10-01T06:42:02.176992",
     "status": "completed"
    },
    "tags": []
   },
   "source": [
    "### Load data and calculate likelihood\n",
    "\n",
    "The likelihood point values will be saved to a `.csv` file in the output directory."
   ]
  },
  {
   "cell_type": "code",
   "execution_count": 4,
   "id": "210df0fc",
   "metadata": {
    "execution": {
     "iopub.execute_input": "2024-10-01T06:42:02.185646Z",
     "iopub.status.busy": "2024-10-01T06:42:02.185359Z",
     "iopub.status.idle": "2024-10-01T06:42:33.614625Z",
     "shell.execute_reply": "2024-10-01T06:42:33.613306Z"
    },
    "papermill": {
     "duration": 31.434556,
     "end_time": "2024-10-01T06:42:33.616836",
     "exception": false,
     "start_time": "2024-10-01T06:42:02.182280",
     "status": "completed"
    },
    "tags": []
   },
   "outputs": [],
   "source": [
    "cols = [\"lon\", \"lat\", \"age (Ma)\", \"erosion (m)\"]\n",
    "data = pd.read_csv(data_filename, usecols=cols)\n",
    "\n",
    "if verbose:\n",
    "    print(\n",
    "        \"Loading parametric distribution from file: \"\n",
    "        + dist_parametric_filename\n",
    "    )\n",
    "dist_parametric = joblib.load(dist_parametric_filename)\n",
    "data[\"likelihood\"] = dist_parametric.pdf(data[\"erosion (m)\"])\n",
    "\n",
    "data.to_csv(output_filename_points, index=False)"
   ]
  },
  {
   "cell_type": "markdown",
   "id": "a27d57a0",
   "metadata": {
    "papermill": {
     "duration": 0.002176,
     "end_time": "2024-10-01T06:42:33.621591",
     "exception": false,
     "start_time": "2024-10-01T06:42:33.619415",
     "status": "completed"
    },
    "tags": []
   },
   "source": [
    "## Create grids\n",
    "\n",
    "In this section, the different types of output grids are created."
   ]
  },
  {
   "cell_type": "markdown",
   "id": "4fafad82",
   "metadata": {
    "papermill": {
     "duration": 0.002057,
     "end_time": "2024-10-01T06:42:33.626040",
     "exception": false,
     "start_time": "2024-10-01T06:42:33.623983",
     "status": "completed"
    },
    "tags": []
   },
   "source": [
    "### Erosion"
   ]
  },
  {
   "cell_type": "code",
   "execution_count": 5,
   "id": "bf0773e0",
   "metadata": {
    "execution": {
     "iopub.execute_input": "2024-10-01T06:42:33.632730Z",
     "iopub.status.busy": "2024-10-01T06:42:33.632355Z",
     "iopub.status.idle": "2024-10-01T06:52:37.219702Z",
     "shell.execute_reply": "2024-10-01T06:52:37.218966Z"
    },
    "papermill": {
     "duration": 603.593451,
     "end_time": "2024-10-01T06:52:37.221806",
     "exception": false,
     "start_time": "2024-10-01T06:42:33.628355",
     "status": "completed"
    },
    "tags": []
   },
   "outputs": [],
   "source": [
    "create_grids(\n",
    "    data,\n",
    "    output_dir=erodep_grid_dir,\n",
    "    threads=n_jobs,\n",
    "    verbose=verbose,\n",
    "    column=\"erosion (m)\",\n",
    "    filename_format=\"erosion_grid_{}Ma.nc\",\n",
    "    extent=\"global\",\n",
    ")\n"
   ]
  },
  {
   "cell_type": "markdown",
   "id": "eead1583",
   "metadata": {
    "papermill": {
     "duration": 0.002344,
     "end_time": "2024-10-01T06:52:37.226716",
     "exception": false,
     "start_time": "2024-10-01T06:52:37.224372",
     "status": "completed"
    },
    "tags": []
   },
   "source": [
    "### Preservation likelihood"
   ]
  },
  {
   "cell_type": "code",
   "execution_count": 6,
   "id": "649c16f6",
   "metadata": {
    "execution": {
     "iopub.execute_input": "2024-10-01T06:52:37.232468Z",
     "iopub.status.busy": "2024-10-01T06:52:37.232179Z",
     "iopub.status.idle": "2024-10-01T06:52:43.132133Z",
     "shell.execute_reply": "2024-10-01T06:52:43.131440Z"
    },
    "papermill": {
     "duration": 5.905202,
     "end_time": "2024-10-01T06:52:43.134069",
     "exception": false,
     "start_time": "2024-10-01T06:52:37.228867",
     "status": "completed"
    },
    "tags": []
   },
   "outputs": [],
   "source": [
    "for erodep_filename in glob.glob(\n",
    "    os.path.join(\n",
    "        erodep_grid_dir,\n",
    "        r\"erosion_grid_*Ma.nc\",\n",
    "    )\n",
    "):\n",
    "    if verbose:\n",
    "        print(\n",
    "            f\"Reading file: {os.path.basename(erodep_filename)}\"\n",
    "        )\n",
    "    likelihood_basename = os.path.basename(\n",
    "        erodep_filename\n",
    "    ).replace(\"erosion_grid\", \"preservation_likelihood_grid\")\n",
    "    likelihood_filename = os.path.join(\n",
    "        likelihood_dir,\n",
    "        likelihood_basename,\n",
    "    )\n",
    "\n",
    "    erodep_raster = Raster(erodep_filename)\n",
    "\n",
    "    likelihood = Raster(dist_parametric.pdf(erodep_raster))\n",
    "    if verbose:\n",
    "        print(\n",
    "            f\" - Writing likelihood file: {likelihood_basename}\"\n",
    "        )\n",
    "    likelihood.save_to_netcdf4(likelihood_filename)"
   ]
  },
  {
   "cell_type": "code",
   "execution_count": null,
   "id": "c1bb8653",
   "metadata": {
    "papermill": {
     "duration": 0.002265,
     "end_time": "2024-10-01T06:52:43.138889",
     "exception": false,
     "start_time": "2024-10-01T06:52:43.136624",
     "status": "completed"
    },
    "tags": []
   },
   "outputs": [],
   "source": []
  }
 ],
 "metadata": {
  "kernelspec": {
   "display_name": "datamining",
   "language": "python",
   "name": "python3"
  },
  "language_info": {
   "codemirror_mode": {
    "name": "ipython",
    "version": 3
   },
   "file_extension": ".py",
   "mimetype": "text/x-python",
   "name": "python",
   "nbconvert_exporter": "python",
   "pygments_lexer": "ipython3",
   "version": "3.11.9"
  },
  "papermill": {
   "default_parameters": {},
   "duration": 650.103143,
   "end_time": "2024-10-01T06:52:45.866068",
   "environment_variables": {},
   "exception": null,
   "input_path": "05-create_preservation_maps_new.ipynb",
   "output_path": "05-create_preservation_maps_new.ipynb",
   "parameters": {},
   "start_time": "2024-10-01T06:41:55.762925",
   "version": "2.4.0"
  }
 },
 "nbformat": 4,
 "nbformat_minor": 5
}