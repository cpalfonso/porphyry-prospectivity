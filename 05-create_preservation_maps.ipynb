{
 "cells": [
  {
   "cell_type": "markdown",
   "id": "7f6878b3",
   "metadata": {},
   "source": [
    "# Preservation potential grids\n",
    "\n",
    "This notebook converts the cumulative erosion values at the grid point locations to true netCDF format grids of preservation potential, using the parametric distribution fitted in notebook `04`.\n",
    "\n",
    "If training data has been extracted from the source datasets by running the `00c-extract_training_data_global.ipynb` and `00b-extract_grid_data.ipynb` notebooks, set the `use_extracted_data` variable below to `True` to use this dataset instead of the pre-prepared training data from the [Zenodo repository](https://zenodo.org/record/8157691)."
   ]
  },
  {
   "cell_type": "markdown",
   "id": "bb19728e",
   "metadata": {},
   "source": [
    "## Notebook options\n",
    "\n",
    "These cells set some of the important variables and definitions used throughout the notebook."
   ]
  },
  {
   "cell_type": "code",
   "execution_count": 1,
   "id": "5575cb58",
   "metadata": {
    "execution": {
     "iopub.execute_input": "2024-05-10T05:22:12.314207Z",
     "iopub.status.busy": "2024-05-10T05:22:12.313935Z",
     "iopub.status.idle": "2024-05-10T05:22:12.320196Z",
     "shell.execute_reply": "2024-05-10T05:22:12.319564Z"
    },
    "papermill": {
     "duration": 0.012456,
     "end_time": "2024-05-10T05:22:12.322434",
     "exception": false,
     "start_time": "2024-05-10T05:22:12.309978",
     "status": "completed"
    },
    "tags": []
   },
   "outputs": [],
   "source": [
    "# If True, use training data extracted in notebook 00c\n",
    "# Else, use pre-prepared training data downloaded from Zenodo\n",
    "use_extracted_data = True\n",
    "\n",
    "# Number of processes to use\n",
    "n_jobs = 4\n",
    "\n",
    "# Control verbosity level of logging output\n",
    "verbose = False"
   ]
  },
  {
   "cell_type": "markdown",
   "id": "e027d1c4",
   "metadata": {},
   "source": [
    "These values will usually not need to be modified:"
   ]
  },
  {
   "cell_type": "code",
   "execution_count": null,
   "id": "790680ec",
   "metadata": {},
   "outputs": [],
   "source": [
    "from lib.check_files import check_prepared_data\n",
    "\n",
    "if use_extracted_data:\n",
    "    data_dir = \"extracted_data\"\n",
    "else:\n",
    "    data_dir = check_prepared_data(\"prepared_data\")\n",
    "\n",
    "outputs_dir = \"outputs\""
   ]
  },
  {
   "cell_type": "markdown",
   "id": "adb0c6c1",
   "metadata": {},
   "source": [
    "If any of the following exist as environment variables, they will replace the values defined above:"
   ]
  },
  {
   "cell_type": "code",
   "execution_count": null,
   "id": "af58fc81",
   "metadata": {},
   "outputs": [],
   "source": [
    "import os\n",
    "\n",
    "n_jobs = int(os.environ.get(\"N_JOBS\", n_jobs))\n",
    "verbose = bool(int(os.environ.get(\"VERBOSE\", verbose)))"
   ]
  },
  {
   "cell_type": "markdown",
   "id": "732a5a55",
   "metadata": {},
   "source": [
    "## Notebook setup\n",
    "\n",
    "Imports, definitions, etc."
   ]
  },
  {
   "cell_type": "markdown",
   "id": "1d5bf441",
   "metadata": {},
   "source": [
    "### Imports"
   ]
  },
  {
   "cell_type": "code",
   "execution_count": 2,
   "id": "831e9f22",
   "metadata": {
    "execution": {
     "iopub.execute_input": "2024-05-10T05:22:12.328628Z",
     "iopub.status.busy": "2024-05-10T05:22:12.328370Z",
     "iopub.status.idle": "2024-05-10T05:22:17.937027Z",
     "shell.execute_reply": "2024-05-10T05:22:17.936481Z"
    },
    "papermill": {
     "duration": 5.613552,
     "end_time": "2024-05-10T05:22:17.938780",
     "exception": false,
     "start_time": "2024-05-10T05:22:12.325228",
     "status": "completed"
    },
    "tags": []
   },
   "outputs": [],
   "source": [
    "import glob\n",
    "\n",
    "import joblib\n",
    "import numpy as np\n",
    "import pandas as pd\n",
    "from gplately import Raster\n",
    "\n",
    "from lib.pu import create_grids"
   ]
  },
  {
   "cell_type": "markdown",
   "id": "bbbd06d1",
   "metadata": {
    "papermill": {
     "duration": 0.001518,
     "end_time": "2024-05-10T05:22:17.951159",
     "exception": false,
     "start_time": "2024-05-10T05:22:17.949641",
     "status": "completed"
    },
    "tags": []
   },
   "source": [
    "### Input and output files"
   ]
  },
  {
   "cell_type": "code",
   "execution_count": 4,
   "id": "0ebbda50",
   "metadata": {
    "execution": {
     "iopub.execute_input": "2024-05-10T05:22:17.955041Z",
     "iopub.status.busy": "2024-05-10T05:22:17.954868Z",
     "iopub.status.idle": "2024-05-10T05:22:17.959754Z",
     "shell.execute_reply": "2024-05-10T05:22:17.959202Z"
    },
    "papermill": {
     "duration": 0.008304,
     "end_time": "2024-05-10T05:22:17.961151",
     "exception": false,
     "start_time": "2024-05-10T05:22:17.952847",
     "status": "completed"
    },
    "tags": []
   },
   "outputs": [],
   "source": [
    "data_filename = os.path.join(data_dir, \"grid_data.csv\")\n",
    "\n",
    "outputs_dir = \"outputs\"\n",
    "dist_parametric_filename = os.path.join(\n",
    "    outputs_dir,\n",
    "    \"global\",\n",
    "    \"erodep_dist.joblib\",\n",
    ")\n",
    "\n",
    "# Output\n",
    "output_filename_points = os.path.join(\n",
    "    outputs_dir,\n",
    "    \"global\",\n",
    "    \"grid_data_preservation_likelihood.csv\",\n",
    ")\n",
    "erodep_grid_dir = os.path.join(\n",
    "    outputs_dir,\n",
    "    \"erosion_grids\",\n",
    ")\n",
    "likelihood_dir = os.path.join(\n",
    "    outputs_dir,\n",
    "    \"global\",\n",
    "    \"preservation_likelihood_grids\",\n",
    ")\n",
    "for i in (\n",
    "    erodep_grid_dir,\n",
    "    likelihood_dir,\n",
    "):\n",
    "    os.makedirs(i, exist_ok=True)"
   ]
  },
  {
   "cell_type": "markdown",
   "id": "1782b6b5",
   "metadata": {},
   "source": [
    "### Load data and calculate likelihood\n",
    "\n",
    "The likelihood point values will be saved to a `.csv` file in the output directory."
   ]
  },
  {
   "cell_type": "code",
   "execution_count": 5,
   "id": "210df0fc",
   "metadata": {
    "execution": {
     "iopub.execute_input": "2024-05-10T05:22:17.966060Z",
     "iopub.status.busy": "2024-05-10T05:22:17.965782Z",
     "iopub.status.idle": "2024-05-10T05:24:41.865482Z",
     "shell.execute_reply": "2024-05-10T05:24:41.865054Z"
    },
    "papermill": {
     "duration": 143.903991,
     "end_time": "2024-05-10T05:24:41.867662",
     "exception": false,
     "start_time": "2024-05-10T05:22:17.963671",
     "status": "completed"
    },
    "tags": []
   },
   "outputs": [
    {
     "name": "stdout",
     "output_type": "stream",
     "text": [
      "Loading parametric distribution from file: outputs/global/erodep_dist_parametric.joblib\n"
     ]
    },
    {
     "name": "stdout",
     "output_type": "stream",
     "text": [
      "Loading KDE distribution from file: outputs/global/erodep_dist_kde.joblib\n"
     ]
    }
   ],
   "source": [
    "cols = [\"lon\", \"lat\", \"age (Ma)\", \"erosion (m)\"]\n",
    "data = pd.read_csv(data_filename, usecols=cols)\n",
    "\n",
    "if verbose:\n",
    "    print(\n",
    "        \"Loading parametric distribution from file: \"\n",
    "        + dist_parametric_filename\n",
    "    )\n",
    "dist_parametric = joblib.load(dist_parametric_filename)\n",
    "data[\"likelihood\"] = dist_parametric.pdf(data[\"erosion (m)\"])\n",
    "\n",
    "data.to_csv(output_filename_points, index=False)"
   ]
  },
  {
   "cell_type": "markdown",
   "id": "a27d57a0",
   "metadata": {
    "papermill": {
     "duration": 0.003255,
     "end_time": "2024-05-10T05:24:41.873007",
     "exception": false,
     "start_time": "2024-05-10T05:24:41.869752",
     "status": "completed"
    },
    "tags": []
   },
   "source": [
    "## Create grids\n",
    "\n",
    "In this section, the different types of output grids are created."
   ]
  },
  {
   "cell_type": "markdown",
   "id": "4fafad82",
   "metadata": {
    "papermill": {
     "duration": 0.001825,
     "end_time": "2024-05-10T05:24:41.876804",
     "exception": false,
     "start_time": "2024-05-10T05:24:41.874979",
     "status": "completed"
    },
    "tags": []
   },
   "source": [
    "### Erosion"
   ]
  },
  {
   "cell_type": "code",
   "execution_count": 6,
   "id": "bf0773e0",
   "metadata": {
    "execution": {
     "iopub.execute_input": "2024-05-10T05:24:41.882062Z",
     "iopub.status.busy": "2024-05-10T05:24:41.881812Z",
     "iopub.status.idle": "2024-05-10T05:38:32.869504Z",
     "shell.execute_reply": "2024-05-10T05:38:32.868532Z"
    },
    "papermill": {
     "duration": 830.994917,
     "end_time": "2024-05-10T05:38:32.874004",
     "exception": false,
     "start_time": "2024-05-10T05:24:41.879087",
     "status": "completed"
    },
    "tags": []
   },
   "outputs": [
    {
     "name": "stderr",
     "output_type": "stream",
     "text": [
      "[Parallel(n_jobs=8)]: Using backend LokyBackend with 8 concurrent workers.\n"
     ]
    },
    {
     "name": "stderr",
     "output_type": "stream",
     "text": [
      "[Parallel(n_jobs=8)]: Done   2 tasks      | elapsed:   28.7s\n"
     ]
    },
    {
     "name": "stderr",
     "output_type": "stream",
     "text": [
      "[Parallel(n_jobs=8)]: Done   9 tasks      | elapsed:   53.6s\n"
     ]
    },
    {
     "name": "stderr",
     "output_type": "stream",
     "text": [
      "[Parallel(n_jobs=8)]: Done  16 tasks      | elapsed:   57.1s\n"
     ]
    },
    {
     "name": "stderr",
     "output_type": "stream",
     "text": [
      "[Parallel(n_jobs=8)]: Done  25 tasks      | elapsed:  1.8min\n"
     ]
    },
    {
     "name": "stderr",
     "output_type": "stream",
     "text": [
      "[Parallel(n_jobs=8)]: Done  34 tasks      | elapsed:  2.3min\n"
     ]
    },
    {
     "name": "stderr",
     "output_type": "stream",
     "text": [
      "[Parallel(n_jobs=8)]: Done  45 tasks      | elapsed:  2.7min\n"
     ]
    },
    {
     "name": "stderr",
     "output_type": "stream",
     "text": [
      "[Parallel(n_jobs=8)]: Done  56 tasks      | elapsed:  3.4min\n"
     ]
    },
    {
     "name": "stderr",
     "output_type": "stream",
     "text": [
      "[Parallel(n_jobs=8)]: Done  69 tasks      | elapsed:  4.3min\n"
     ]
    },
    {
     "name": "stderr",
     "output_type": "stream",
     "text": [
      "[Parallel(n_jobs=8)]: Done  82 tasks      | elapsed:  5.3min\n"
     ]
    },
    {
     "name": "stderr",
     "output_type": "stream",
     "text": [
      "[Parallel(n_jobs=8)]: Done  97 tasks      | elapsed:  6.5min\n"
     ]
    },
    {
     "name": "stderr",
     "output_type": "stream",
     "text": [
      "[Parallel(n_jobs=8)]: Done 112 tasks      | elapsed:  7.6min\n"
     ]
    },
    {
     "name": "stderr",
     "output_type": "stream",
     "text": [
      "[Parallel(n_jobs=8)]: Done 129 tasks      | elapsed:  9.4min\n"
     ]
    },
    {
     "name": "stderr",
     "output_type": "stream",
     "text": [
      "[Parallel(n_jobs=8)]: Done 146 tasks      | elapsed: 11.4min\n"
     ]
    },
    {
     "name": "stderr",
     "output_type": "stream",
     "text": [
      "[Parallel(n_jobs=8)]: Done 171 out of 171 | elapsed: 13.8min finished\n"
     ]
    }
   ],
   "source": [
    "create_grids(\n",
    "    data,\n",
    "    output_dir=erodep_grid_dir,\n",
    "    threads=n_jobs,\n",
    "    verbose=verbose,\n",
    "    column=\"erosion (m)\",\n",
    "    filename_format=\"erosion_grid_{}Ma.nc\",\n",
    "    extent=\"global\",\n",
    ")\n"
   ]
  },
  {
   "cell_type": "markdown",
   "id": "eead1583",
   "metadata": {
    "papermill": {
     "duration": 0.002501,
     "end_time": "2024-05-10T05:38:32.879361",
     "exception": false,
     "start_time": "2024-05-10T05:38:32.876860",
     "status": "completed"
    },
    "tags": []
   },
   "source": [
    "### Preservation likelihood"
   ]
  },
  {
   "cell_type": "code",
   "execution_count": 7,
   "id": "649c16f6",
   "metadata": {
    "execution": {
     "iopub.execute_input": "2024-05-10T05:38:32.885485Z",
     "iopub.status.busy": "2024-05-10T05:38:32.885242Z",
     "iopub.status.idle": "2024-05-10T05:39:49.776436Z",
     "shell.execute_reply": "2024-05-10T05:39:49.775822Z"
    },
    "papermill": {
     "duration": 76.896043,
     "end_time": "2024-05-10T05:39:49.777890",
     "exception": false,
     "start_time": "2024-05-10T05:38:32.881847",
     "status": "completed"
    },
    "tags": []
   },
   "outputs": [
    {
     "name": "stdout",
     "output_type": "stream",
     "text": [
      "Reading file: erosion_grid_32Ma.nc\n",
      " - Writing parametric file: preservation_likelihood_grid_32Ma.nc\n"
     ]
    },
    {
     "name": "stdout",
     "output_type": "stream",
     "text": [
      " - Writing KDE file: preservation_likelihood_grid_32Ma.nc\n",
      "Reading file: erosion_grid_111Ma.nc\n",
      " - Writing parametric file: preservation_likelihood_grid_111Ma.nc\n"
     ]
    },
    {
     "name": "stdout",
     "output_type": "stream",
     "text": [
      " - Writing KDE file: preservation_likelihood_grid_111Ma.nc\n",
      "Reading file: erosion_grid_146Ma.nc\n",
      " - Writing parametric file: preservation_likelihood_grid_146Ma.nc\n"
     ]
    },
    {
     "name": "stdout",
     "output_type": "stream",
     "text": [
      " - Writing KDE file: preservation_likelihood_grid_146Ma.nc\n",
      "Reading file: erosion_grid_65Ma.nc\n",
      " - Writing parametric file: preservation_likelihood_grid_65Ma.nc\n"
     ]
    },
    {
     "name": "stdout",
     "output_type": "stream",
     "text": [
      " - Writing KDE file: preservation_likelihood_grid_65Ma.nc\n",
      "Reading file: erosion_grid_73Ma.nc\n",
      " - Writing parametric file: preservation_likelihood_grid_73Ma.nc\n"
     ]
    },
    {
     "name": "stdout",
     "output_type": "stream",
     "text": [
      " - Writing KDE file: preservation_likelihood_grid_73Ma.nc\n",
      "Reading file: erosion_grid_150Ma.nc\n",
      " - Writing parametric file: preservation_likelihood_grid_150Ma.nc\n"
     ]
    },
    {
     "name": "stdout",
     "output_type": "stream",
     "text": [
      " - Writing KDE file: preservation_likelihood_grid_150Ma.nc\n",
      "Reading file: erosion_grid_107Ma.nc\n",
      " - Writing parametric file: preservation_likelihood_grid_107Ma.nc\n"
     ]
    },
    {
     "name": "stdout",
     "output_type": "stream",
     "text": [
      " - Writing KDE file: preservation_likelihood_grid_107Ma.nc\n",
      "Reading file: erosion_grid_24Ma.nc\n",
      " - Writing parametric file: preservation_likelihood_grid_24Ma.nc\n"
     ]
    },
    {
     "name": "stdout",
     "output_type": "stream",
     "text": [
      " - Writing KDE file: preservation_likelihood_grid_24Ma.nc\n",
      "Reading file: erosion_grid_49Ma.nc\n",
      " - Writing parametric file: preservation_likelihood_grid_49Ma.nc\n"
     ]
    },
    {
     "name": "stdout",
     "output_type": "stream",
     "text": [
      " - Writing KDE file: preservation_likelihood_grid_49Ma.nc\n",
      "Reading file: erosion_grid_69Ma.nc\n",
      " - Writing parametric file: preservation_likelihood_grid_69Ma.nc\n"
     ]
    },
    {
     "name": "stdout",
     "output_type": "stream",
     "text": [
      " - Writing KDE file: preservation_likelihood_grid_69Ma.nc\n",
      "Reading file: erosion_grid_86Ma.nc\n",
      " - Writing parametric file: preservation_likelihood_grid_86Ma.nc\n"
     ]
    },
    {
     "name": "stdout",
     "output_type": "stream",
     "text": [
      " - Writing KDE file: preservation_likelihood_grid_86Ma.nc\n",
      "Reading file: erosion_grid_90Ma.nc\n",
      " - Writing parametric file: preservation_likelihood_grid_90Ma.nc\n"
     ]
    },
    {
     "name": "stdout",
     "output_type": "stream",
     "text": [
      " - Writing KDE file: preservation_likelihood_grid_90Ma.nc\n",
      "Reading file: erosion_grid_28Ma.nc\n",
      " - Writing parametric file: preservation_likelihood_grid_28Ma.nc\n"
     ]
    },
    {
     "name": "stdout",
     "output_type": "stream",
     "text": [
      " - Writing KDE file: preservation_likelihood_grid_28Ma.nc\n",
      "Reading file: erosion_grid_53Ma.nc\n",
      " - Writing parametric file: preservation_likelihood_grid_53Ma.nc\n"
     ]
    },
    {
     "name": "stdout",
     "output_type": "stream",
     "text": [
      " - Writing KDE file: preservation_likelihood_grid_53Ma.nc\n",
      "Reading file: erosion_grid_170Ma.nc\n",
      " - Writing parametric file: preservation_likelihood_grid_170Ma.nc\n"
     ]
    },
    {
     "name": "stdout",
     "output_type": "stream",
     "text": [
      " - Writing KDE file: preservation_likelihood_grid_170Ma.nc\n",
      "Reading file: erosion_grid_3Ma.nc\n",
      " - Writing parametric file: preservation_likelihood_grid_3Ma.nc\n"
     ]
    },
    {
     "name": "stdout",
     "output_type": "stream",
     "text": [
      " - Writing KDE file: preservation_likelihood_grid_3Ma.nc\n",
      "Reading file: erosion_grid_127Ma.nc\n",
      " - Writing parametric file: preservation_likelihood_grid_127Ma.nc\n"
     ]
    },
    {
     "name": "stdout",
     "output_type": "stream",
     "text": [
      " - Writing KDE file: preservation_likelihood_grid_127Ma.nc\n",
      "Reading file: erosion_grid_12Ma.nc\n",
      " - Writing parametric file: preservation_likelihood_grid_12Ma.nc\n"
     ]
    },
    {
     "name": "stdout",
     "output_type": "stream",
     "text": [
      " - Writing KDE file: preservation_likelihood_grid_12Ma.nc\n",
      "Reading file: erosion_grid_131Ma.nc\n",
      " - Writing parametric file: preservation_likelihood_grid_131Ma.nc\n"
     ]
    },
    {
     "name": "stdout",
     "output_type": "stream",
     "text": [
      " - Writing KDE file: preservation_likelihood_grid_131Ma.nc\n",
      "Reading file: erosion_grid_166Ma.nc\n",
      " - Writing parametric file: preservation_likelihood_grid_166Ma.nc\n"
     ]
    },
    {
     "name": "stdout",
     "output_type": "stream",
     "text": [
      " - Writing KDE file: preservation_likelihood_grid_166Ma.nc\n",
      "Reading file: erosion_grid_45Ma.nc\n",
      " - Writing parametric file: preservation_likelihood_grid_45Ma.nc\n"
     ]
    },
    {
     "name": "stdout",
     "output_type": "stream",
     "text": [
      " - Writing KDE file: preservation_likelihood_grid_45Ma.nc\n",
      "Reading file: erosion_grid_167Ma.nc\n",
      " - Writing parametric file: preservation_likelihood_grid_167Ma.nc\n"
     ]
    },
    {
     "name": "stdout",
     "output_type": "stream",
     "text": [
      " - Writing KDE file: preservation_likelihood_grid_167Ma.nc\n",
      "Reading file: erosion_grid_44Ma.nc\n",
      " - Writing parametric file: preservation_likelihood_grid_44Ma.nc\n"
     ]
    },
    {
     "name": "stdout",
     "output_type": "stream",
     "text": [
      " - Writing KDE file: preservation_likelihood_grid_44Ma.nc\n",
      "Reading file: erosion_grid_13Ma.nc\n",
      " - Writing parametric file: preservation_likelihood_grid_13Ma.nc\n"
     ]
    },
    {
     "name": "stdout",
     "output_type": "stream",
     "text": [
      " - Writing KDE file: preservation_likelihood_grid_13Ma.nc\n",
      "Reading file: erosion_grid_130Ma.nc\n",
      " - Writing parametric file: preservation_likelihood_grid_130Ma.nc\n"
     ]
    },
    {
     "name": "stdout",
     "output_type": "stream",
     "text": [
      " - Writing KDE file: preservation_likelihood_grid_130Ma.nc\n",
      "Reading file: erosion_grid_126Ma.nc\n",
      " - Writing parametric file: preservation_likelihood_grid_126Ma.nc\n"
     ]
    },
    {
     "name": "stdout",
     "output_type": "stream",
     "text": [
      " - Writing KDE file: preservation_likelihood_grid_126Ma.nc\n",
      "Reading file: erosion_grid_2Ma.nc\n",
      " - Writing parametric file: preservation_likelihood_grid_2Ma.nc\n"
     ]
    },
    {
     "name": "stdout",
     "output_type": "stream",
     "text": [
      " - Writing KDE file: preservation_likelihood_grid_2Ma.nc\n",
      "Reading file: erosion_grid_52Ma.nc\n",
      " - Writing parametric file: preservation_likelihood_grid_52Ma.nc\n"
     ]
    },
    {
     "name": "stdout",
     "output_type": "stream",
     "text": [
      " - Writing KDE file: preservation_likelihood_grid_52Ma.nc\n",
      "Reading file: erosion_grid_29Ma.nc\n",
      " - Writing parametric file: preservation_likelihood_grid_29Ma.nc\n"
     ]
    },
    {
     "name": "stdout",
     "output_type": "stream",
     "text": [
      " - Writing KDE file: preservation_likelihood_grid_29Ma.nc\n",
      "Reading file: erosion_grid_91Ma.nc\n",
      " - Writing parametric file: preservation_likelihood_grid_91Ma.nc\n"
     ]
    },
    {
     "name": "stdout",
     "output_type": "stream",
     "text": [
      " - Writing KDE file: preservation_likelihood_grid_91Ma.nc\n",
      "Reading file: erosion_grid_68Ma.nc\n",
      " - Writing parametric file: preservation_likelihood_grid_68Ma.nc\n"
     ]
    },
    {
     "name": "stdout",
     "output_type": "stream",
     "text": [
      " - Writing KDE file: preservation_likelihood_grid_68Ma.nc\n",
      "Reading file: erosion_grid_87Ma.nc\n",
      " - Writing parametric file: preservation_likelihood_grid_87Ma.nc\n"
     ]
    },
    {
     "name": "stdout",
     "output_type": "stream",
     "text": [
      " - Writing KDE file: preservation_likelihood_grid_87Ma.nc\n",
      "Reading file: erosion_grid_48Ma.nc\n",
      " - Writing parametric file: preservation_likelihood_grid_48Ma.nc\n"
     ]
    },
    {
     "name": "stdout",
     "output_type": "stream",
     "text": [
      " - Writing KDE file: preservation_likelihood_grid_48Ma.nc\n",
      "Reading file: erosion_grid_106Ma.nc\n",
      " - Writing parametric file: preservation_likelihood_grid_106Ma.nc\n"
     ]
    },
    {
     "name": "stdout",
     "output_type": "stream",
     "text": [
      " - Writing KDE file: preservation_likelihood_grid_106Ma.nc\n",
      "Reading file: erosion_grid_25Ma.nc\n",
      " - Writing parametric file: preservation_likelihood_grid_25Ma.nc\n"
     ]
    },
    {
     "name": "stdout",
     "output_type": "stream",
     "text": [
      " - Writing KDE file: preservation_likelihood_grid_25Ma.nc\n",
      "Reading file: erosion_grid_72Ma.nc\n",
      " - Writing parametric file: preservation_likelihood_grid_72Ma.nc\n"
     ]
    },
    {
     "name": "stdout",
     "output_type": "stream",
     "text": [
      " - Writing KDE file: preservation_likelihood_grid_72Ma.nc\n",
      "Reading file: erosion_grid_151Ma.nc\n",
      " - Writing parametric file: preservation_likelihood_grid_151Ma.nc\n"
     ]
    },
    {
     "name": "stdout",
     "output_type": "stream",
     "text": [
      " - Writing KDE file: preservation_likelihood_grid_151Ma.nc\n",
      "Reading file: erosion_grid_147Ma.nc\n",
      " - Writing parametric file: preservation_likelihood_grid_147Ma.nc\n"
     ]
    },
    {
     "name": "stdout",
     "output_type": "stream",
     "text": [
      " - Writing KDE file: preservation_likelihood_grid_147Ma.nc\n",
      "Reading file: erosion_grid_64Ma.nc\n",
      " - Writing parametric file: preservation_likelihood_grid_64Ma.nc\n"
     ]
    },
    {
     "name": "stdout",
     "output_type": "stream",
     "text": [
      " - Writing KDE file: preservation_likelihood_grid_64Ma.nc\n",
      "Reading file: erosion_grid_33Ma.nc\n",
      " - Writing parametric file: preservation_likelihood_grid_33Ma.nc\n"
     ]
    },
    {
     "name": "stdout",
     "output_type": "stream",
     "text": [
      " - Writing KDE file: preservation_likelihood_grid_33Ma.nc\n",
      "Reading file: erosion_grid_110Ma.nc\n",
      " - Writing parametric file: preservation_likelihood_grid_110Ma.nc\n"
     ]
    },
    {
     "name": "stdout",
     "output_type": "stream",
     "text": [
      " - Writing KDE file: preservation_likelihood_grid_110Ma.nc\n",
      "Reading file: erosion_grid_38Ma.nc\n",
      " - Writing parametric file: preservation_likelihood_grid_38Ma.nc\n"
     ]
    },
    {
     "name": "stdout",
     "output_type": "stream",
     "text": [
      " - Writing KDE file: preservation_likelihood_grid_38Ma.nc\n",
      "Reading file: erosion_grid_80Ma.nc\n",
      " - Writing parametric file: preservation_likelihood_grid_80Ma.nc\n"
     ]
    },
    {
     "name": "stdout",
     "output_type": "stream",
     "text": [
      " - Writing KDE file: preservation_likelihood_grid_80Ma.nc\n",
      "Reading file: erosion_grid_79Ma.nc\n",
      " - Writing parametric file: preservation_likelihood_grid_79Ma.nc\n"
     ]
    },
    {
     "name": "stdout",
     "output_type": "stream",
     "text": [
      " - Writing KDE file: preservation_likelihood_grid_79Ma.nc\n",
      "Reading file: erosion_grid_96Ma.nc\n",
      " - Writing parametric file: preservation_likelihood_grid_96Ma.nc\n"
     ]
    },
    {
     "name": "stdout",
     "output_type": "stream",
     "text": [
      " - Writing KDE file: preservation_likelihood_grid_96Ma.nc\n",
      "Reading file: erosion_grid_55Ma.nc\n",
      " - Writing parametric file: preservation_likelihood_grid_55Ma.nc\n"
     ]
    },
    {
     "name": "stdout",
     "output_type": "stream",
     "text": [
      " - Writing KDE file: preservation_likelihood_grid_55Ma.nc\n",
      "Reading file: erosion_grid_5Ma.nc\n",
      " - Writing parametric file: preservation_likelihood_grid_5Ma.nc\n"
     ]
    },
    {
     "name": "stdout",
     "output_type": "stream",
     "text": [
      " - Writing KDE file: preservation_likelihood_grid_5Ma.nc\n",
      "Reading file: erosion_grid_121Ma.nc\n",
      " - Writing parametric file: preservation_likelihood_grid_121Ma.nc\n"
     ]
    },
    {
     "name": "stdout",
     "output_type": "stream",
     "text": [
      " - Writing KDE file: preservation_likelihood_grid_121Ma.nc\n",
      "Reading file: erosion_grid_137Ma.nc\n",
      " - Writing parametric file: preservation_likelihood_grid_137Ma.nc\n"
     ]
    },
    {
     "name": "stdout",
     "output_type": "stream",
     "text": [
      " - Writing KDE file: preservation_likelihood_grid_137Ma.nc\n",
      "Reading file: erosion_grid_14Ma.nc\n",
      " - Writing parametric file: preservation_likelihood_grid_14Ma.nc\n"
     ]
    },
    {
     "name": "stdout",
     "output_type": "stream",
     "text": [
      " - Writing KDE file: preservation_likelihood_grid_14Ma.nc\n",
      "Reading file: erosion_grid_43Ma.nc\n",
      " - Writing parametric file: preservation_likelihood_grid_43Ma.nc\n"
     ]
    },
    {
     "name": "stdout",
     "output_type": "stream",
     "text": [
      " - Writing KDE file: preservation_likelihood_grid_43Ma.nc\n",
      "Reading file: erosion_grid_160Ma.nc\n",
      " - Writing parametric file: preservation_likelihood_grid_160Ma.nc\n"
     ]
    },
    {
     "name": "stdout",
     "output_type": "stream",
     "text": [
      " - Writing KDE file: preservation_likelihood_grid_160Ma.nc\n",
      "Reading file: erosion_grid_117Ma.nc\n",
      " - Writing parametric file: preservation_likelihood_grid_117Ma.nc\n"
     ]
    },
    {
     "name": "stdout",
     "output_type": "stream",
     "text": [
      " - Writing KDE file: preservation_likelihood_grid_117Ma.nc\n",
      "Reading file: erosion_grid_34Ma.nc\n",
      " - Writing parametric file: preservation_likelihood_grid_34Ma.nc\n"
     ]
    },
    {
     "name": "stdout",
     "output_type": "stream",
     "text": [
      " - Writing KDE file: preservation_likelihood_grid_34Ma.nc\n",
      "Reading file: erosion_grid_63Ma.nc\n",
      " - Writing parametric file: preservation_likelihood_grid_63Ma.nc\n"
     ]
    },
    {
     "name": "stdout",
     "output_type": "stream",
     "text": [
      " - Writing KDE file: preservation_likelihood_grid_63Ma.nc\n",
      "Reading file: erosion_grid_140Ma.nc\n",
      " - Writing parametric file: preservation_likelihood_grid_140Ma.nc\n"
     ]
    },
    {
     "name": "stdout",
     "output_type": "stream",
     "text": [
      " - Writing KDE file: preservation_likelihood_grid_140Ma.nc\n",
      "Reading file: erosion_grid_156Ma.nc\n",
      " - Writing parametric file: preservation_likelihood_grid_156Ma.nc\n"
     ]
    },
    {
     "name": "stdout",
     "output_type": "stream",
     "text": [
      " - Writing KDE file: preservation_likelihood_grid_156Ma.nc\n",
      "Reading file: erosion_grid_75Ma.nc\n",
      " - Writing parametric file: preservation_likelihood_grid_75Ma.nc\n"
     ]
    },
    {
     "name": "stdout",
     "output_type": "stream",
     "text": [
      " - Writing KDE file: preservation_likelihood_grid_75Ma.nc\n",
      "Reading file: erosion_grid_22Ma.nc\n",
      " - Writing parametric file: preservation_likelihood_grid_22Ma.nc\n"
     ]
    },
    {
     "name": "stdout",
     "output_type": "stream",
     "text": [
      " - Writing KDE file: preservation_likelihood_grid_22Ma.nc\n",
      "Reading file: erosion_grid_101Ma.nc\n",
      " - Writing parametric file: preservation_likelihood_grid_101Ma.nc\n"
     ]
    },
    {
     "name": "stdout",
     "output_type": "stream",
     "text": [
      " - Writing KDE file: preservation_likelihood_grid_101Ma.nc\n",
      "Reading file: erosion_grid_59Ma.nc\n",
      " - Writing parametric file: preservation_likelihood_grid_59Ma.nc\n"
     ]
    },
    {
     "name": "stdout",
     "output_type": "stream",
     "text": [
      " - Writing KDE file: preservation_likelihood_grid_59Ma.nc\n",
      "Reading file: erosion_grid_9Ma.nc\n",
      " - Writing parametric file: preservation_likelihood_grid_9Ma.nc\n"
     ]
    },
    {
     "name": "stdout",
     "output_type": "stream",
     "text": [
      " - Writing KDE file: preservation_likelihood_grid_9Ma.nc\n",
      "Reading file: erosion_grid_18Ma.nc\n",
      " - Writing parametric file: preservation_likelihood_grid_18Ma.nc\n"
     ]
    },
    {
     "name": "stdout",
     "output_type": "stream",
     "text": [
      " - Writing KDE file: preservation_likelihood_grid_18Ma.nc\n",
      "Reading file: erosion_grid_19Ma.nc\n",
      " - Writing parametric file: preservation_likelihood_grid_19Ma.nc\n"
     ]
    },
    {
     "name": "stdout",
     "output_type": "stream",
     "text": [
      " - Writing KDE file: preservation_likelihood_grid_19Ma.nc\n",
      "Reading file: erosion_grid_8Ma.nc\n",
      " - Writing parametric file: preservation_likelihood_grid_8Ma.nc\n"
     ]
    },
    {
     "name": "stdout",
     "output_type": "stream",
     "text": [
      " - Writing KDE file: preservation_likelihood_grid_8Ma.nc\n",
      "Reading file: erosion_grid_58Ma.nc\n",
      " - Writing parametric file: preservation_likelihood_grid_58Ma.nc\n"
     ]
    },
    {
     "name": "stdout",
     "output_type": "stream",
     "text": [
      " - Writing KDE file: preservation_likelihood_grid_58Ma.nc\n",
      "Reading file: erosion_grid_23Ma.nc\n",
      " - Writing parametric file: preservation_likelihood_grid_23Ma.nc\n"
     ]
    },
    {
     "name": "stdout",
     "output_type": "stream",
     "text": [
      " - Writing KDE file: preservation_likelihood_grid_23Ma.nc\n",
      "Reading file: erosion_grid_100Ma.nc\n",
      " - Writing parametric file: preservation_likelihood_grid_100Ma.nc\n"
     ]
    },
    {
     "name": "stdout",
     "output_type": "stream",
     "text": [
      " - Writing KDE file: preservation_likelihood_grid_100Ma.nc\n",
      "Reading file: erosion_grid_157Ma.nc\n",
      " - Writing parametric file: preservation_likelihood_grid_157Ma.nc\n"
     ]
    },
    {
     "name": "stdout",
     "output_type": "stream",
     "text": [
      " - Writing KDE file: preservation_likelihood_grid_157Ma.nc\n",
      "Reading file: erosion_grid_74Ma.nc\n",
      " - Writing parametric file: preservation_likelihood_grid_74Ma.nc\n"
     ]
    },
    {
     "name": "stdout",
     "output_type": "stream",
     "text": [
      " - Writing KDE file: preservation_likelihood_grid_74Ma.nc\n",
      "Reading file: erosion_grid_62Ma.nc\n",
      " - Writing parametric file: preservation_likelihood_grid_62Ma.nc\n"
     ]
    },
    {
     "name": "stdout",
     "output_type": "stream",
     "text": [
      " - Writing KDE file: preservation_likelihood_grid_62Ma.nc\n",
      "Reading file: erosion_grid_141Ma.nc\n",
      " - Writing parametric file: preservation_likelihood_grid_141Ma.nc\n"
     ]
    },
    {
     "name": "stdout",
     "output_type": "stream",
     "text": [
      " - Writing KDE file: preservation_likelihood_grid_141Ma.nc\n",
      "Reading file: erosion_grid_116Ma.nc\n",
      " - Writing parametric file: preservation_likelihood_grid_116Ma.nc\n"
     ]
    },
    {
     "name": "stdout",
     "output_type": "stream",
     "text": [
      " - Writing KDE file: preservation_likelihood_grid_116Ma.nc\n",
      "Reading file: erosion_grid_35Ma.nc\n",
      " - Writing parametric file: preservation_likelihood_grid_35Ma.nc\n"
     ]
    },
    {
     "name": "stdout",
     "output_type": "stream",
     "text": [
      " - Writing KDE file: preservation_likelihood_grid_35Ma.nc\n",
      "Reading file: erosion_grid_42Ma.nc\n",
      " - Writing parametric file: preservation_likelihood_grid_42Ma.nc\n"
     ]
    },
    {
     "name": "stdout",
     "output_type": "stream",
     "text": [
      " - Writing KDE file: preservation_likelihood_grid_42Ma.nc\n",
      "Reading file: erosion_grid_161Ma.nc\n",
      " - Writing parametric file: preservation_likelihood_grid_161Ma.nc\n"
     ]
    },
    {
     "name": "stdout",
     "output_type": "stream",
     "text": [
      " - Writing KDE file: preservation_likelihood_grid_161Ma.nc\n",
      "Reading file: erosion_grid_136Ma.nc\n",
      " - Writing parametric file: preservation_likelihood_grid_136Ma.nc\n"
     ]
    },
    {
     "name": "stdout",
     "output_type": "stream",
     "text": [
      " - Writing KDE file: preservation_likelihood_grid_136Ma.nc\n",
      "Reading file: erosion_grid_15Ma.nc\n",
      " - Writing parametric file: preservation_likelihood_grid_15Ma.nc\n"
     ]
    },
    {
     "name": "stdout",
     "output_type": "stream",
     "text": [
      " - Writing KDE file: preservation_likelihood_grid_15Ma.nc\n",
      "Reading file: erosion_grid_120Ma.nc\n",
      " - Writing parametric file: preservation_likelihood_grid_120Ma.nc\n"
     ]
    },
    {
     "name": "stdout",
     "output_type": "stream",
     "text": [
      " - Writing KDE file: preservation_likelihood_grid_120Ma.nc\n",
      "Reading file: erosion_grid_4Ma.nc\n",
      " - Writing parametric file: preservation_likelihood_grid_4Ma.nc\n"
     ]
    },
    {
     "name": "stdout",
     "output_type": "stream",
     "text": [
      " - Writing KDE file: preservation_likelihood_grid_4Ma.nc\n",
      "Reading file: erosion_grid_54Ma.nc\n",
      " - Writing parametric file: preservation_likelihood_grid_54Ma.nc\n"
     ]
    },
    {
     "name": "stdout",
     "output_type": "stream",
     "text": [
      " - Writing KDE file: preservation_likelihood_grid_54Ma.nc\n",
      "Reading file: erosion_grid_78Ma.nc\n",
      " - Writing parametric file: preservation_likelihood_grid_78Ma.nc\n"
     ]
    },
    {
     "name": "stdout",
     "output_type": "stream",
     "text": [
      " - Writing KDE file: preservation_likelihood_grid_78Ma.nc\n",
      "Reading file: erosion_grid_97Ma.nc\n",
      " - Writing parametric file: preservation_likelihood_grid_97Ma.nc\n"
     ]
    },
    {
     "name": "stdout",
     "output_type": "stream",
     "text": [
      " - Writing KDE file: preservation_likelihood_grid_97Ma.nc\n",
      "Reading file: erosion_grid_81Ma.nc\n",
      " - Writing parametric file: preservation_likelihood_grid_81Ma.nc\n"
     ]
    },
    {
     "name": "stdout",
     "output_type": "stream",
     "text": [
      " - Writing KDE file: preservation_likelihood_grid_81Ma.nc\n",
      "Reading file: erosion_grid_39Ma.nc\n",
      " - Writing parametric file: preservation_likelihood_grid_39Ma.nc\n"
     ]
    },
    {
     "name": "stdout",
     "output_type": "stream",
     "text": [
      " - Writing KDE file: preservation_likelihood_grid_39Ma.nc\n",
      "Reading file: erosion_grid_162Ma.nc\n",
      " - Writing parametric file: preservation_likelihood_grid_162Ma.nc\n"
     ]
    },
    {
     "name": "stdout",
     "output_type": "stream",
     "text": [
      " - Writing KDE file: preservation_likelihood_grid_162Ma.nc\n",
      "Reading file: erosion_grid_41Ma.nc\n",
      " - Writing parametric file: preservation_likelihood_grid_41Ma.nc\n"
     ]
    },
    {
     "name": "stdout",
     "output_type": "stream",
     "text": [
      " - Writing KDE file: preservation_likelihood_grid_41Ma.nc\n",
      "Reading file: erosion_grid_16Ma.nc\n",
      " - Writing parametric file: preservation_likelihood_grid_16Ma.nc\n"
     ]
    },
    {
     "name": "stdout",
     "output_type": "stream",
     "text": [
      " - Writing KDE file: preservation_likelihood_grid_16Ma.nc\n",
      "Reading file: erosion_grid_135Ma.nc\n",
      " - Writing parametric file: preservation_likelihood_grid_135Ma.nc\n"
     ]
    },
    {
     "name": "stdout",
     "output_type": "stream",
     "text": [
      " - Writing KDE file: preservation_likelihood_grid_135Ma.nc\n",
      "Reading file: erosion_grid_123Ma.nc\n",
      " - Writing parametric file: preservation_likelihood_grid_123Ma.nc\n"
     ]
    },
    {
     "name": "stdout",
     "output_type": "stream",
     "text": [
      " - Writing KDE file: preservation_likelihood_grid_123Ma.nc\n",
      "Reading file: erosion_grid_7Ma.nc\n",
      " - Writing parametric file: preservation_likelihood_grid_7Ma.nc\n"
     ]
    },
    {
     "name": "stdout",
     "output_type": "stream",
     "text": [
      " - Writing KDE file: preservation_likelihood_grid_7Ma.nc\n",
      "Reading file: erosion_grid_57Ma.nc\n",
      " - Writing parametric file: preservation_likelihood_grid_57Ma.nc\n"
     ]
    },
    {
     "name": "stdout",
     "output_type": "stream",
     "text": [
      " - Writing KDE file: preservation_likelihood_grid_57Ma.nc\n",
      "Reading file: erosion_grid_94Ma.nc\n",
      " - Writing parametric file: preservation_likelihood_grid_94Ma.nc\n"
     ]
    },
    {
     "name": "stdout",
     "output_type": "stream",
     "text": [
      " - Writing KDE file: preservation_likelihood_grid_94Ma.nc\n",
      "Reading file: erosion_grid_158Ma.nc\n",
      " - Writing parametric file: preservation_likelihood_grid_158Ma.nc\n"
     ]
    },
    {
     "name": "stdout",
     "output_type": "stream",
     "text": [
      " - Writing KDE file: preservation_likelihood_grid_158Ma.nc\n",
      "Reading file: erosion_grid_82Ma.nc\n",
      " - Writing parametric file: preservation_likelihood_grid_82Ma.nc\n"
     ]
    },
    {
     "name": "stdout",
     "output_type": "stream",
     "text": [
      " - Writing KDE file: preservation_likelihood_grid_82Ma.nc\n",
      "Reading file: erosion_grid_119Ma.nc\n",
      " - Writing parametric file: preservation_likelihood_grid_119Ma.nc\n"
     ]
    },
    {
     "name": "stdout",
     "output_type": "stream",
     "text": [
      " - Writing KDE file: preservation_likelihood_grid_119Ma.nc\n",
      "Reading file: erosion_grid_139Ma.nc\n",
      " - Writing parametric file: preservation_likelihood_grid_139Ma.nc\n"
     ]
    },
    {
     "name": "stdout",
     "output_type": "stream",
     "text": [
      " - Writing KDE file: preservation_likelihood_grid_139Ma.nc\n",
      "Reading file: erosion_grid_103Ma.nc\n",
      " - Writing parametric file: preservation_likelihood_grid_103Ma.nc\n"
     ]
    },
    {
     "name": "stdout",
     "output_type": "stream",
     "text": [
      " - Writing KDE file: preservation_likelihood_grid_103Ma.nc\n",
      "Reading file: erosion_grid_20Ma.nc\n",
      " - Writing parametric file: preservation_likelihood_grid_20Ma.nc\n"
     ]
    },
    {
     "name": "stdout",
     "output_type": "stream",
     "text": [
      " - Writing KDE file: preservation_likelihood_grid_20Ma.nc\n",
      "Reading file: erosion_grid_98Ma.nc\n",
      " - Writing parametric file: preservation_likelihood_grid_98Ma.nc\n"
     ]
    },
    {
     "name": "stdout",
     "output_type": "stream",
     "text": [
      " - Writing KDE file: preservation_likelihood_grid_98Ma.nc\n",
      "Reading file: erosion_grid_77Ma.nc\n",
      " - Writing parametric file: preservation_likelihood_grid_77Ma.nc\n"
     ]
    },
    {
     "name": "stdout",
     "output_type": "stream",
     "text": [
      " - Writing KDE file: preservation_likelihood_grid_77Ma.nc\n",
      "Reading file: erosion_grid_154Ma.nc\n",
      " - Writing parametric file: preservation_likelihood_grid_154Ma.nc\n"
     ]
    },
    {
     "name": "stdout",
     "output_type": "stream",
     "text": [
      " - Writing KDE file: preservation_likelihood_grid_154Ma.nc\n",
      "Reading file: erosion_grid_142Ma.nc\n",
      " - Writing parametric file: preservation_likelihood_grid_142Ma.nc\n"
     ]
    },
    {
     "name": "stdout",
     "output_type": "stream",
     "text": [
      " - Writing KDE file: preservation_likelihood_grid_142Ma.nc\n",
      "Reading file: erosion_grid_61Ma.nc\n",
      " - Writing parametric file: preservation_likelihood_grid_61Ma.nc\n"
     ]
    },
    {
     "name": "stdout",
     "output_type": "stream",
     "text": [
      " - Writing KDE file: preservation_likelihood_grid_61Ma.nc\n",
      "Reading file: erosion_grid_36Ma.nc\n",
      " - Writing parametric file: preservation_likelihood_grid_36Ma.nc\n"
     ]
    },
    {
     "name": "stdout",
     "output_type": "stream",
     "text": [
      " - Writing KDE file: preservation_likelihood_grid_36Ma.nc\n",
      "Reading file: erosion_grid_115Ma.nc\n",
      " - Writing parametric file: preservation_likelihood_grid_115Ma.nc\n"
     ]
    },
    {
     "name": "stdout",
     "output_type": "stream",
     "text": [
      " - Writing KDE file: preservation_likelihood_grid_115Ma.nc\n",
      "Reading file: erosion_grid_37Ma.nc\n",
      " - Writing parametric file: preservation_likelihood_grid_37Ma.nc\n"
     ]
    },
    {
     "name": "stdout",
     "output_type": "stream",
     "text": [
      " - Writing KDE file: preservation_likelihood_grid_37Ma.nc\n",
      "Reading file: erosion_grid_114Ma.nc\n",
      " - Writing parametric file: preservation_likelihood_grid_114Ma.nc\n"
     ]
    },
    {
     "name": "stdout",
     "output_type": "stream",
     "text": [
      " - Writing KDE file: preservation_likelihood_grid_114Ma.nc\n",
      "Reading file: erosion_grid_143Ma.nc\n",
      " - Writing parametric file: preservation_likelihood_grid_143Ma.nc\n"
     ]
    },
    {
     "name": "stdout",
     "output_type": "stream",
     "text": [
      " - Writing KDE file: preservation_likelihood_grid_143Ma.nc\n",
      "Reading file: erosion_grid_60Ma.nc\n",
      " - Writing parametric file: preservation_likelihood_grid_60Ma.nc\n"
     ]
    },
    {
     "name": "stdout",
     "output_type": "stream",
     "text": [
      " - Writing KDE file: preservation_likelihood_grid_60Ma.nc\n",
      "Reading file: erosion_grid_99Ma.nc\n",
      " - Writing parametric file: preservation_likelihood_grid_99Ma.nc\n"
     ]
    },
    {
     "name": "stdout",
     "output_type": "stream",
     "text": [
      " - Writing KDE file: preservation_likelihood_grid_99Ma.nc\n",
      "Reading file: erosion_grid_76Ma.nc\n",
      " - Writing parametric file: preservation_likelihood_grid_76Ma.nc\n"
     ]
    },
    {
     "name": "stdout",
     "output_type": "stream",
     "text": [
      " - Writing KDE file: preservation_likelihood_grid_76Ma.nc\n",
      "Reading file: erosion_grid_155Ma.nc\n",
      " - Writing parametric file: preservation_likelihood_grid_155Ma.nc\n"
     ]
    },
    {
     "name": "stdout",
     "output_type": "stream",
     "text": [
      " - Writing KDE file: preservation_likelihood_grid_155Ma.nc\n",
      "Reading file: erosion_grid_102Ma.nc\n",
      " - Writing parametric file: preservation_likelihood_grid_102Ma.nc\n"
     ]
    },
    {
     "name": "stdout",
     "output_type": "stream",
     "text": [
      " - Writing KDE file: preservation_likelihood_grid_102Ma.nc\n",
      "Reading file: erosion_grid_21Ma.nc\n",
      " - Writing parametric file: preservation_likelihood_grid_21Ma.nc\n"
     ]
    },
    {
     "name": "stdout",
     "output_type": "stream",
     "text": [
      " - Writing KDE file: preservation_likelihood_grid_21Ma.nc\n",
      "Reading file: erosion_grid_138Ma.nc\n",
      " - Writing parametric file: preservation_likelihood_grid_138Ma.nc\n"
     ]
    },
    {
     "name": "stdout",
     "output_type": "stream",
     "text": [
      " - Writing KDE file: preservation_likelihood_grid_138Ma.nc\n",
      "Reading file: erosion_grid_118Ma.nc\n",
      " - Writing parametric file: preservation_likelihood_grid_118Ma.nc\n"
     ]
    },
    {
     "name": "stdout",
     "output_type": "stream",
     "text": [
      " - Writing KDE file: preservation_likelihood_grid_118Ma.nc\n",
      "Reading file: erosion_grid_83Ma.nc\n",
      " - Writing parametric file: preservation_likelihood_grid_83Ma.nc\n"
     ]
    },
    {
     "name": "stdout",
     "output_type": "stream",
     "text": [
      " - Writing KDE file: preservation_likelihood_grid_83Ma.nc\n",
      "Reading file: erosion_grid_95Ma.nc\n",
      " - Writing parametric file: preservation_likelihood_grid_95Ma.nc\n"
     ]
    },
    {
     "name": "stdout",
     "output_type": "stream",
     "text": [
      " - Writing KDE file: preservation_likelihood_grid_95Ma.nc\n",
      "Reading file: erosion_grid_159Ma.nc\n",
      " - Writing parametric file: preservation_likelihood_grid_159Ma.nc\n"
     ]
    },
    {
     "name": "stdout",
     "output_type": "stream",
     "text": [
      " - Writing KDE file: preservation_likelihood_grid_159Ma.nc\n",
      "Reading file: erosion_grid_56Ma.nc\n",
      " - Writing parametric file: preservation_likelihood_grid_56Ma.nc\n"
     ]
    },
    {
     "name": "stdout",
     "output_type": "stream",
     "text": [
      " - Writing KDE file: preservation_likelihood_grid_56Ma.nc\n",
      "Reading file: erosion_grid_6Ma.nc\n",
      " - Writing parametric file: preservation_likelihood_grid_6Ma.nc\n"
     ]
    },
    {
     "name": "stdout",
     "output_type": "stream",
     "text": [
      " - Writing KDE file: preservation_likelihood_grid_6Ma.nc\n",
      "Reading file: erosion_grid_122Ma.nc\n",
      " - Writing parametric file: preservation_likelihood_grid_122Ma.nc\n"
     ]
    },
    {
     "name": "stdout",
     "output_type": "stream",
     "text": [
      " - Writing KDE file: preservation_likelihood_grid_122Ma.nc\n",
      "Reading file: erosion_grid_17Ma.nc\n",
      " - Writing parametric file: preservation_likelihood_grid_17Ma.nc\n"
     ]
    },
    {
     "name": "stdout",
     "output_type": "stream",
     "text": [
      " - Writing KDE file: preservation_likelihood_grid_17Ma.nc\n",
      "Reading file: erosion_grid_134Ma.nc\n",
      " - Writing parametric file: preservation_likelihood_grid_134Ma.nc\n"
     ]
    },
    {
     "name": "stdout",
     "output_type": "stream",
     "text": [
      " - Writing KDE file: preservation_likelihood_grid_134Ma.nc\n",
      "Reading file: erosion_grid_163Ma.nc\n",
      " - Writing parametric file: preservation_likelihood_grid_163Ma.nc\n"
     ]
    },
    {
     "name": "stdout",
     "output_type": "stream",
     "text": [
      " - Writing KDE file: preservation_likelihood_grid_163Ma.nc\n",
      "Reading file: erosion_grid_40Ma.nc\n",
      " - Writing parametric file: preservation_likelihood_grid_40Ma.nc\n"
     ]
    },
    {
     "name": "stdout",
     "output_type": "stream",
     "text": [
      " - Writing KDE file: preservation_likelihood_grid_40Ma.nc\n",
      "Reading file: erosion_grid_168Ma.nc\n",
      " - Writing parametric file: preservation_likelihood_grid_168Ma.nc\n"
     ]
    },
    {
     "name": "stdout",
     "output_type": "stream",
     "text": [
      " - Writing KDE file: preservation_likelihood_grid_168Ma.nc\n",
      "Reading file: erosion_grid_129Ma.nc\n",
      " - Writing parametric file: preservation_likelihood_grid_129Ma.nc\n"
     ]
    },
    {
     "name": "stdout",
     "output_type": "stream",
     "text": [
      " - Writing KDE file: preservation_likelihood_grid_129Ma.nc\n",
      "Reading file: erosion_grid_26Ma.nc\n",
      " - Writing parametric file: preservation_likelihood_grid_26Ma.nc\n"
     ]
    },
    {
     "name": "stdout",
     "output_type": "stream",
     "text": [
      " - Writing KDE file: preservation_likelihood_grid_26Ma.nc\n",
      "Reading file: erosion_grid_105Ma.nc\n",
      " - Writing parametric file: preservation_likelihood_grid_105Ma.nc\n"
     ]
    },
    {
     "name": "stdout",
     "output_type": "stream",
     "text": [
      " - Writing KDE file: preservation_likelihood_grid_105Ma.nc\n",
      "Reading file: erosion_grid_152Ma.nc\n",
      " - Writing parametric file: preservation_likelihood_grid_152Ma.nc\n"
     ]
    },
    {
     "name": "stdout",
     "output_type": "stream",
     "text": [
      " - Writing KDE file: preservation_likelihood_grid_152Ma.nc\n",
      "Reading file: erosion_grid_71Ma.nc\n",
      " - Writing parametric file: preservation_likelihood_grid_71Ma.nc\n"
     ]
    },
    {
     "name": "stdout",
     "output_type": "stream",
     "text": [
      " - Writing KDE file: preservation_likelihood_grid_71Ma.nc\n",
      "Reading file: erosion_grid_88Ma.nc\n",
      " - Writing parametric file: preservation_likelihood_grid_88Ma.nc\n"
     ]
    },
    {
     "name": "stdout",
     "output_type": "stream",
     "text": [
      " - Writing KDE file: preservation_likelihood_grid_88Ma.nc\n",
      "Reading file: erosion_grid_67Ma.nc\n",
      " - Writing parametric file: preservation_likelihood_grid_67Ma.nc\n"
     ]
    },
    {
     "name": "stdout",
     "output_type": "stream",
     "text": [
      " - Writing KDE file: preservation_likelihood_grid_67Ma.nc\n",
      "Reading file: erosion_grid_144Ma.nc\n",
      " - Writing parametric file: preservation_likelihood_grid_144Ma.nc\n"
     ]
    },
    {
     "name": "stdout",
     "output_type": "stream",
     "text": [
      " - Writing KDE file: preservation_likelihood_grid_144Ma.nc\n",
      "Reading file: erosion_grid_113Ma.nc\n",
      " - Writing parametric file: preservation_likelihood_grid_113Ma.nc\n"
     ]
    },
    {
     "name": "stdout",
     "output_type": "stream",
     "text": [
      " - Writing KDE file: preservation_likelihood_grid_113Ma.nc\n",
      "Reading file: erosion_grid_30Ma.nc\n",
      " - Writing parametric file: preservation_likelihood_grid_30Ma.nc\n"
     ]
    },
    {
     "name": "stdout",
     "output_type": "stream",
     "text": [
      " - Writing KDE file: preservation_likelihood_grid_30Ma.nc\n",
      "Reading file: erosion_grid_47Ma.nc\n",
      " - Writing parametric file: preservation_likelihood_grid_47Ma.nc\n"
     ]
    },
    {
     "name": "stdout",
     "output_type": "stream",
     "text": [
      " - Writing KDE file: preservation_likelihood_grid_47Ma.nc\n",
      "Reading file: erosion_grid_164Ma.nc\n",
      " - Writing parametric file: preservation_likelihood_grid_164Ma.nc\n"
     ]
    },
    {
     "name": "stdout",
     "output_type": "stream",
     "text": [
      " - Writing KDE file: preservation_likelihood_grid_164Ma.nc\n",
      "Reading file: erosion_grid_133Ma.nc\n",
      " - Writing parametric file: preservation_likelihood_grid_133Ma.nc\n"
     ]
    },
    {
     "name": "stdout",
     "output_type": "stream",
     "text": [
      " - Writing KDE file: preservation_likelihood_grid_133Ma.nc\n",
      "Reading file: erosion_grid_10Ma.nc\n",
      " - Writing parametric file: preservation_likelihood_grid_10Ma.nc\n"
     ]
    },
    {
     "name": "stdout",
     "output_type": "stream",
     "text": [
      " - Writing KDE file: preservation_likelihood_grid_10Ma.nc\n",
      "Reading file: erosion_grid_125Ma.nc\n",
      " - Writing parametric file: preservation_likelihood_grid_125Ma.nc\n"
     ]
    },
    {
     "name": "stdout",
     "output_type": "stream",
     "text": [
      " - Writing KDE file: preservation_likelihood_grid_125Ma.nc\n",
      "Reading file: erosion_grid_1Ma.nc\n",
      " - Writing parametric file: preservation_likelihood_grid_1Ma.nc\n"
     ]
    },
    {
     "name": "stdout",
     "output_type": "stream",
     "text": [
      " - Writing KDE file: preservation_likelihood_grid_1Ma.nc\n",
      "Reading file: erosion_grid_51Ma.nc\n",
      " - Writing parametric file: preservation_likelihood_grid_51Ma.nc\n"
     ]
    },
    {
     "name": "stdout",
     "output_type": "stream",
     "text": [
      " - Writing KDE file: preservation_likelihood_grid_51Ma.nc\n",
      "Reading file: erosion_grid_109Ma.nc\n",
      " - Writing parametric file: preservation_likelihood_grid_109Ma.nc\n"
     ]
    },
    {
     "name": "stdout",
     "output_type": "stream",
     "text": [
      " - Writing KDE file: preservation_likelihood_grid_109Ma.nc\n",
      "Reading file: erosion_grid_92Ma.nc\n",
      " - Writing parametric file: preservation_likelihood_grid_92Ma.nc\n"
     ]
    },
    {
     "name": "stdout",
     "output_type": "stream",
     "text": [
      " - Writing KDE file: preservation_likelihood_grid_92Ma.nc\n",
      "Reading file: erosion_grid_84Ma.nc\n",
      " - Writing parametric file: preservation_likelihood_grid_84Ma.nc\n"
     ]
    },
    {
     "name": "stdout",
     "output_type": "stream",
     "text": [
      " - Writing KDE file: preservation_likelihood_grid_84Ma.nc\n",
      "Reading file: erosion_grid_148Ma.nc\n",
      " - Writing parametric file: preservation_likelihood_grid_148Ma.nc\n"
     ]
    },
    {
     "name": "stdout",
     "output_type": "stream",
     "text": [
      " - Writing KDE file: preservation_likelihood_grid_148Ma.nc\n",
      "Reading file: erosion_grid_85Ma.nc\n",
      " - Writing parametric file: preservation_likelihood_grid_85Ma.nc\n"
     ]
    },
    {
     "name": "stdout",
     "output_type": "stream",
     "text": [
      " - Writing KDE file: preservation_likelihood_grid_85Ma.nc\n",
      "Reading file: erosion_grid_149Ma.nc\n",
      " - Writing parametric file: preservation_likelihood_grid_149Ma.nc\n"
     ]
    },
    {
     "name": "stdout",
     "output_type": "stream",
     "text": [
      " - Writing KDE file: preservation_likelihood_grid_149Ma.nc\n",
      "Reading file: erosion_grid_93Ma.nc\n",
      " - Writing parametric file: preservation_likelihood_grid_93Ma.nc\n"
     ]
    },
    {
     "name": "stdout",
     "output_type": "stream",
     "text": [
      " - Writing KDE file: preservation_likelihood_grid_93Ma.nc\n",
      "Reading file: erosion_grid_108Ma.nc\n",
      " - Writing parametric file: preservation_likelihood_grid_108Ma.nc\n"
     ]
    },
    {
     "name": "stdout",
     "output_type": "stream",
     "text": [
      " - Writing KDE file: preservation_likelihood_grid_108Ma.nc\n",
      "Reading file: erosion_grid_50Ma.nc\n",
      " - Writing parametric file: preservation_likelihood_grid_50Ma.nc\n"
     ]
    },
    {
     "name": "stdout",
     "output_type": "stream",
     "text": [
      " - Writing KDE file: preservation_likelihood_grid_50Ma.nc\n",
      "Reading file: erosion_grid_0Ma.nc\n",
      " - Writing parametric file: preservation_likelihood_grid_0Ma.nc\n"
     ]
    },
    {
     "name": "stdout",
     "output_type": "stream",
     "text": [
      " - Writing KDE file: preservation_likelihood_grid_0Ma.nc\n",
      "Reading file: erosion_grid_124Ma.nc\n",
      " - Writing parametric file: preservation_likelihood_grid_124Ma.nc\n"
     ]
    },
    {
     "name": "stdout",
     "output_type": "stream",
     "text": [
      " - Writing KDE file: preservation_likelihood_grid_124Ma.nc\n",
      "Reading file: erosion_grid_132Ma.nc\n",
      " - Writing parametric file: preservation_likelihood_grid_132Ma.nc\n"
     ]
    },
    {
     "name": "stdout",
     "output_type": "stream",
     "text": [
      " - Writing KDE file: preservation_likelihood_grid_132Ma.nc\n",
      "Reading file: erosion_grid_11Ma.nc\n",
      " - Writing parametric file: preservation_likelihood_grid_11Ma.nc\n"
     ]
    },
    {
     "name": "stdout",
     "output_type": "stream",
     "text": [
      " - Writing KDE file: preservation_likelihood_grid_11Ma.nc\n",
      "Reading file: erosion_grid_46Ma.nc\n",
      " - Writing parametric file: preservation_likelihood_grid_46Ma.nc\n"
     ]
    },
    {
     "name": "stdout",
     "output_type": "stream",
     "text": [
      " - Writing KDE file: preservation_likelihood_grid_46Ma.nc\n",
      "Reading file: erosion_grid_165Ma.nc\n",
      " - Writing parametric file: preservation_likelihood_grid_165Ma.nc\n"
     ]
    },
    {
     "name": "stdout",
     "output_type": "stream",
     "text": [
      " - Writing KDE file: preservation_likelihood_grid_165Ma.nc\n",
      "Reading file: erosion_grid_112Ma.nc\n",
      " - Writing parametric file: preservation_likelihood_grid_112Ma.nc\n"
     ]
    },
    {
     "name": "stdout",
     "output_type": "stream",
     "text": [
      " - Writing KDE file: preservation_likelihood_grid_112Ma.nc\n",
      "Reading file: erosion_grid_31Ma.nc\n",
      " - Writing parametric file: preservation_likelihood_grid_31Ma.nc\n"
     ]
    },
    {
     "name": "stdout",
     "output_type": "stream",
     "text": [
      " - Writing KDE file: preservation_likelihood_grid_31Ma.nc\n",
      "Reading file: erosion_grid_89Ma.nc\n",
      " - Writing parametric file: preservation_likelihood_grid_89Ma.nc\n"
     ]
    },
    {
     "name": "stdout",
     "output_type": "stream",
     "text": [
      " - Writing KDE file: preservation_likelihood_grid_89Ma.nc\n",
      "Reading file: erosion_grid_66Ma.nc\n",
      " - Writing parametric file: preservation_likelihood_grid_66Ma.nc\n"
     ]
    },
    {
     "name": "stdout",
     "output_type": "stream",
     "text": [
      " - Writing KDE file: preservation_likelihood_grid_66Ma.nc\n",
      "Reading file: erosion_grid_145Ma.nc\n",
      " - Writing parametric file: preservation_likelihood_grid_145Ma.nc\n"
     ]
    },
    {
     "name": "stdout",
     "output_type": "stream",
     "text": [
      " - Writing KDE file: preservation_likelihood_grid_145Ma.nc\n",
      "Reading file: erosion_grid_153Ma.nc\n",
      " - Writing parametric file: preservation_likelihood_grid_153Ma.nc\n"
     ]
    },
    {
     "name": "stdout",
     "output_type": "stream",
     "text": [
      " - Writing KDE file: preservation_likelihood_grid_153Ma.nc\n",
      "Reading file: erosion_grid_70Ma.nc\n",
      " - Writing parametric file: preservation_likelihood_grid_70Ma.nc\n"
     ]
    },
    {
     "name": "stdout",
     "output_type": "stream",
     "text": [
      " - Writing KDE file: preservation_likelihood_grid_70Ma.nc\n",
      "Reading file: erosion_grid_27Ma.nc\n",
      " - Writing parametric file: preservation_likelihood_grid_27Ma.nc\n"
     ]
    },
    {
     "name": "stdout",
     "output_type": "stream",
     "text": [
      " - Writing KDE file: preservation_likelihood_grid_27Ma.nc\n",
      "Reading file: erosion_grid_104Ma.nc\n",
      " - Writing parametric file: preservation_likelihood_grid_104Ma.nc\n"
     ]
    },
    {
     "name": "stdout",
     "output_type": "stream",
     "text": [
      " - Writing KDE file: preservation_likelihood_grid_104Ma.nc\n",
      "Reading file: erosion_grid_128Ma.nc\n",
      " - Writing parametric file: preservation_likelihood_grid_128Ma.nc\n"
     ]
    },
    {
     "name": "stdout",
     "output_type": "stream",
     "text": [
      " - Writing KDE file: preservation_likelihood_grid_128Ma.nc\n",
      "Reading file: erosion_grid_169Ma.nc\n",
      " - Writing parametric file: preservation_likelihood_grid_169Ma.nc\n"
     ]
    },
    {
     "name": "stdout",
     "output_type": "stream",
     "text": [
      " - Writing KDE file: preservation_likelihood_grid_169Ma.nc\n"
     ]
    }
   ],
   "source": [
    "for erodep_filename in glob.glob(\n",
    "    os.path.join(\n",
    "        erodep_grid_dir,\n",
    "        r\"erosion_grid_*Ma.nc\",\n",
    "    )\n",
    "):\n",
    "    if verbose:\n",
    "        print(\n",
    "            f\"Reading file: {os.path.basename(erodep_filename)}\"\n",
    "        )\n",
    "    likelihood_basename = os.path.basename(\n",
    "        erodep_filename\n",
    "    ).replace(\"erosion_grid\", \"preservation_likelihood_grid\")\n",
    "    likelihood_filename = os.path.join(\n",
    "        likelihood_dir,\n",
    "        likelihood_basename,\n",
    "    )\n",
    "\n",
    "    erodep_raster = Raster(erodep_filename)\n",
    "\n",
    "    likelihood = Raster(dist_parametric.pdf(erodep_raster))\n",
    "    if verbose:\n",
    "        print(\n",
    "            f\" - Writing likelihood file: {likelihood_basename}\"\n",
    "        )\n",
    "    likelihood.save_to_netcdf4(likelihood_filename)"
   ]
  },
  {
   "cell_type": "code",
   "execution_count": null,
   "id": "c1bb8653",
   "metadata": {
    "papermill": {
     "duration": 0.010526,
     "end_time": "2024-05-10T05:39:49.799617",
     "exception": false,
     "start_time": "2024-05-10T05:39:49.789091",
     "status": "completed"
    },
    "tags": []
   },
   "outputs": [],
   "source": []
  }
 ],
 "metadata": {
  "kernelspec": {
   "display_name": "datamining",
   "language": "python",
   "name": "python3"
  },
  "language_info": {
   "codemirror_mode": {
    "name": "ipython",
    "version": 3
   },
   "file_extension": ".py",
   "mimetype": "text/x-python",
   "name": "python",
   "nbconvert_exporter": "python",
   "pygments_lexer": "ipython3",
   "version": "3.11.7"
  },
  "papermill": {
   "default_parameters": {},
   "duration": 1061.187638,
   "end_time": "2024-05-10T05:39:52.429067",
   "environment_variables": {},
   "exception": null,
   "input_path": "05-create_preservation_maps.ipynb",
   "output_path": "05-create_preservation_maps_output.ipynb",
   "parameters": {},
   "start_time": "2024-05-10T05:22:11.241429",
   "version": "2.4.0"
  }
 },
 "nbformat": 4,
 "nbformat_minor": 5
}
