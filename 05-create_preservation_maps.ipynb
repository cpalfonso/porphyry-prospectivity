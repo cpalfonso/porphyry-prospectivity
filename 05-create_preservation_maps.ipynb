{
 "cells": [
  {
   "cell_type": "code",
   "execution_count": 1,
   "id": "5575cb58",
   "metadata": {
    "execution": {
     "iopub.execute_input": "2024-03-14T02:34:02.706676Z",
     "iopub.status.busy": "2024-03-14T02:34:02.706416Z",
     "iopub.status.idle": "2024-03-14T02:34:02.712506Z",
     "shell.execute_reply": "2024-03-14T02:34:02.711950Z"
    },
    "papermill": {
     "duration": 0.01165,
     "end_time": "2024-03-14T02:34:02.714154",
     "exception": false,
     "start_time": "2024-03-14T02:34:02.702504",
     "status": "completed"
    },
    "tags": []
   },
   "outputs": [],
   "source": [
    "use_extracted_data = False"
   ]
  },
  {
   "cell_type": "code",
   "execution_count": 2,
   "id": "831e9f22",
   "metadata": {
    "execution": {
     "iopub.execute_input": "2024-03-14T02:34:02.719705Z",
     "iopub.status.busy": "2024-03-14T02:34:02.719352Z",
     "iopub.status.idle": "2024-03-14T02:34:06.154488Z",
     "shell.execute_reply": "2024-03-14T02:34:06.153856Z"
    },
    "papermill": {
     "duration": 3.439664,
     "end_time": "2024-03-14T02:34:06.156285",
     "exception": false,
     "start_time": "2024-03-14T02:34:02.716621",
     "status": "completed"
    },
    "tags": []
   },
   "outputs": [],
   "source": [
    "import glob\n",
    "import os\n",
    "\n",
    "import joblib\n",
    "import numpy as np\n",
    "import pandas as pd\n",
    "from gplately import Raster\n",
    "\n",
    "from lib.check_files import check_prepared_data\n",
    "from lib.pu import create_grids\n"
   ]
  },
  {
   "cell_type": "code",
   "execution_count": 3,
   "id": "42d9b927",
   "metadata": {
    "execution": {
     "iopub.execute_input": "2024-03-14T02:34:06.161543Z",
     "iopub.status.busy": "2024-03-14T02:34:06.161162Z",
     "iopub.status.idle": "2024-03-14T02:34:06.164557Z",
     "shell.execute_reply": "2024-03-14T02:34:06.164023Z"
    },
    "papermill": {
     "duration": 0.008281,
     "end_time": "2024-03-14T02:34:06.166748",
     "exception": false,
     "start_time": "2024-03-14T02:34:06.158467",
     "status": "completed"
    },
    "tags": []
   },
   "outputs": [],
   "source": [
    "verbose = bool(int(os.environ.get(\"VERBOSE\", 1)))\n",
    "n_jobs = int(os.environ.get(\"N_JOBS\", 8))"
   ]
  },
  {
   "cell_type": "markdown",
   "id": "bbbd06d1",
   "metadata": {
    "papermill": {
     "duration": 0.002102,
     "end_time": "2024-03-14T02:34:06.171912",
     "exception": false,
     "start_time": "2024-03-14T02:34:06.169810",
     "status": "completed"
    },
    "tags": []
   },
   "source": [
    "## Input and output files"
   ]
  },
  {
   "cell_type": "code",
   "execution_count": 4,
   "id": "0ebbda50",
   "metadata": {
    "execution": {
     "iopub.execute_input": "2024-03-14T02:34:06.177916Z",
     "iopub.status.busy": "2024-03-14T02:34:06.177666Z",
     "iopub.status.idle": "2024-03-14T02:34:06.182941Z",
     "shell.execute_reply": "2024-03-14T02:34:06.182346Z"
    },
    "papermill": {
     "duration": 0.010315,
     "end_time": "2024-03-14T02:34:06.184404",
     "exception": false,
     "start_time": "2024-03-14T02:34:06.174089",
     "status": "completed"
    },
    "tags": []
   },
   "outputs": [],
   "source": [
    "# Input\n",
    "if use_extracted_data:\n",
    "    data_dir = \"extracted_data\"\n",
    "else:\n",
    "    data_dir = check_prepared_data(\"prepared_data\")\n",
    "data_filename = os.path.join(data_dir, \"grid_data.csv\")\n",
    "\n",
    "outputs_dir = \"outputs\"\n",
    "dist_parametric_filename = os.path.join(\n",
    "    outputs_dir,\n",
    "    \"global\",\n",
    "    \"erodep_dist_parametric.joblib\",\n",
    ")\n",
    "dist_kde_filename = os.path.join(\n",
    "    outputs_dir,\n",
    "    \"global\",\n",
    "    \"erodep_dist_kde.joblib\",\n",
    ")\n",
    "\n",
    "# Output\n",
    "output_filename_points = os.path.join(\n",
    "    outputs_dir,\n",
    "    \"global\",\n",
    "    \"grid_data_preservation_likelihood.csv\",\n",
    ")\n",
    "erodep_grid_dir = os.path.join(\n",
    "    outputs_dir,\n",
    "    \"erosion_grids\",\n",
    ")\n",
    "likelihood_parametric_dir = os.path.join(\n",
    "    outputs_dir,\n",
    "    \"global\",\n",
    "    \"preservation_likelihood_grids_parametric\",\n",
    ")\n",
    "likelihood_kde_dir = os.path.join(\n",
    "    outputs_dir,\n",
    "    \"global\",\n",
    "    \"preservation_likelihood_grids_kde\",\n",
    ")\n",
    "for i in (\n",
    "    erodep_grid_dir,\n",
    "    likelihood_parametric_dir,\n",
    "    likelihood_kde_dir,\n",
    "):\n",
    "    os.makedirs(i, exist_ok=True)"
   ]
  },
  {
   "cell_type": "code",
   "execution_count": 5,
   "id": "210df0fc",
   "metadata": {
    "execution": {
     "iopub.execute_input": "2024-03-14T02:34:06.189330Z",
     "iopub.status.busy": "2024-03-14T02:34:06.189117Z",
     "iopub.status.idle": "2024-03-14T02:36:23.439737Z",
     "shell.execute_reply": "2024-03-14T02:36:23.439128Z"
    },
    "papermill": {
     "duration": 137.2553,
     "end_time": "2024-03-14T02:36:23.441565",
     "exception": false,
     "start_time": "2024-03-14T02:34:06.186265",
     "status": "completed"
    },
    "tags": []
   },
   "outputs": [],
   "source": [
    "cols = [\"lon\", \"lat\", \"age (Ma)\", \"erosion (m)\"]\n",
    "data = pd.read_csv(data_filename, usecols=cols)\n",
    "\n",
    "if verbose:\n",
    "    print(\n",
    "        \"Loading parametric distribution from file: \"\n",
    "        + dist_parametric_filename\n",
    "    )\n",
    "dist_parametric = joblib.load(dist_parametric_filename)\n",
    "data[\"likelihood_parametric\"] = dist_parametric.pdf(data[\"erosion (m)\"])\n",
    "\n",
    "if verbose:\n",
    "    print(\n",
    "        \"Loading KDE distribution from file: \"\n",
    "        + dist_kde_filename\n",
    "    )\n",
    "dist_kde = joblib.load(dist_kde_filename)\n",
    "valid_inds_kde = data.index[~np.isnan(data[\"erosion (m)\"])]\n",
    "x_kde = np.reshape(data.loc[valid_inds_kde, \"erosion (m)\"], (-1, 1))\n",
    "lh_kde = np.exp(dist_kde.score_samples(x_kde))\n",
    "data[\"likelihood_kde\"] = np.nan\n",
    "for i, lh in zip(valid_inds_kde, lh_kde):\n",
    "    data.at[i, \"likelihood_kde\"] = lh\n",
    "del x_kde, lh_kde, valid_inds_kde\n",
    "\n",
    "data.to_csv(output_filename_points, index=False)"
   ]
  },
  {
   "cell_type": "markdown",
   "id": "a27d57a0",
   "metadata": {
    "papermill": {
     "duration": 0.001915,
     "end_time": "2024-03-14T02:36:23.445731",
     "exception": false,
     "start_time": "2024-03-14T02:36:23.443816",
     "status": "completed"
    },
    "tags": []
   },
   "source": [
    "## Create grids"
   ]
  },
  {
   "cell_type": "markdown",
   "id": "4fafad82",
   "metadata": {
    "papermill": {
     "duration": 0.001886,
     "end_time": "2024-03-14T02:36:23.449544",
     "exception": false,
     "start_time": "2024-03-14T02:36:23.447658",
     "status": "completed"
    },
    "tags": []
   },
   "source": [
    "### Erosion"
   ]
  },
  {
   "cell_type": "code",
   "execution_count": 6,
   "id": "bf0773e0",
   "metadata": {
    "execution": {
     "iopub.execute_input": "2024-03-14T02:36:23.454737Z",
     "iopub.status.busy": "2024-03-14T02:36:23.454480Z",
     "iopub.status.idle": "2024-03-14T02:51:49.456816Z",
     "shell.execute_reply": "2024-03-14T02:51:49.455299Z"
    },
    "papermill": {
     "duration": 926.00763,
     "end_time": "2024-03-14T02:51:49.459106",
     "exception": false,
     "start_time": "2024-03-14T02:36:23.451476",
     "status": "completed"
    },
    "tags": []
   },
   "outputs": [],
   "source": [
    "create_grids(\n",
    "    data,\n",
    "    output_dir=erodep_grid_dir,\n",
    "    threads=n_jobs,\n",
    "    verbose=verbose,\n",
    "    column=\"erosion (m)\",\n",
    "    filename_format=\"erosion_grid_{}Ma.nc\",\n",
    "    extent=\"global\",\n",
    ")\n"
   ]
  },
  {
   "cell_type": "markdown",
   "id": "eead1583",
   "metadata": {
    "papermill": {
     "duration": 0.002241,
     "end_time": "2024-03-14T02:51:49.464282",
     "exception": false,
     "start_time": "2024-03-14T02:51:49.462041",
     "status": "completed"
    },
    "tags": []
   },
   "source": [
    "### Preservation likelihood"
   ]
  },
  {
   "cell_type": "code",
   "execution_count": 7,
   "id": "649c16f6",
   "metadata": {
    "execution": {
     "iopub.execute_input": "2024-03-14T02:51:49.469445Z",
     "iopub.status.busy": "2024-03-14T02:51:49.469193Z",
     "iopub.status.idle": "2024-03-14T02:53:00.461728Z",
     "shell.execute_reply": "2024-03-14T02:53:00.460997Z"
    },
    "papermill": {
     "duration": 70.997074,
     "end_time": "2024-03-14T02:53:00.463314",
     "exception": false,
     "start_time": "2024-03-14T02:51:49.466240",
     "status": "completed"
    },
    "tags": []
   },
   "outputs": [],
   "source": [
    "for erodep_filename in glob.glob(\n",
    "    os.path.join(\n",
    "        erodep_grid_dir,\n",
    "        r\"erosion_grid_*Ma.nc\",\n",
    "    )\n",
    "):\n",
    "    if verbose:\n",
    "        print(\n",
    "            f\"Reading file: {os.path.basename(erodep_filename)}\"\n",
    "        )\n",
    "    likelihood_basename = os.path.basename(\n",
    "        erodep_filename\n",
    "    ).replace(\"erosion_grid\", \"preservation_likelihood_grid\")\n",
    "    likelihood_parametric_filename = os.path.join(\n",
    "        likelihood_parametric_dir,\n",
    "        likelihood_basename,\n",
    "    )\n",
    "    likelihood_kde_filename = os.path.join(\n",
    "        likelihood_kde_dir,\n",
    "        likelihood_basename,\n",
    "    )\n",
    "\n",
    "    erodep_raster = Raster(erodep_filename)\n",
    "\n",
    "    likelihood_parametric = Raster(dist_parametric.pdf(erodep_raster))\n",
    "    if verbose:\n",
    "        print(\n",
    "            f\" - Writing parametric file: {likelihood_basename}\"\n",
    "        )\n",
    "    likelihood_parametric.save_to_netcdf4(likelihood_parametric_filename)\n",
    "    del likelihood_parametric\n",
    "\n",
    "    likelihood_kde = np.full_like(erodep_raster.data, np.nan)\n",
    "    mask_kde = np.isnan(np.array(erodep_raster.data))\n",
    "    if mask_kde.mean() < 1.0:\n",
    "        kde_input = np.reshape(\n",
    "            np.array(erodep_raster.data[~mask_kde]),\n",
    "            (-1, 1),\n",
    "        )\n",
    "        likelihood_kde[~mask_kde] = np.ravel(\n",
    "            np.exp(\n",
    "                dist_kde.score_samples(kde_input)\n",
    "            )\n",
    "        )\n",
    "    likelihood_kde = Raster(likelihood_kde)\n",
    "    if verbose:\n",
    "        print(\n",
    "            f\" - Writing KDE file: {likelihood_basename}\"\n",
    "        )\n",
    "    likelihood_kde.save_to_netcdf4(likelihood_kde_filename)\n",
    "    del likelihood_kde"
   ]
  },
  {
   "cell_type": "code",
   "execution_count": null,
   "id": "c1bb8653",
   "metadata": {
    "papermill": {
     "duration": 0.00203,
     "end_time": "2024-03-14T02:53:00.467588",
     "exception": false,
     "start_time": "2024-03-14T02:53:00.465558",
     "status": "completed"
    },
    "tags": []
   },
   "outputs": [],
   "source": []
  }
 ],
 "metadata": {
  "kernelspec": {
   "display_name": "datamining",
   "language": "python",
   "name": "python3"
  },
  "language_info": {
   "codemirror_mode": {
    "name": "ipython",
    "version": 3
   },
   "file_extension": ".py",
   "mimetype": "text/x-python",
   "name": "python",
   "nbconvert_exporter": "python",
   "pygments_lexer": "ipython3",
   "version": "3.11.7"
  },
  "papermill": {
   "default_parameters": {},
   "duration": 1141.545105,
   "end_time": "2024-03-14T02:53:03.090292",
   "environment_variables": {},
   "exception": null,
   "input_path": "05-create_preservation_maps.ipynb",
   "output_path": "05-create_preservation_maps.ipynb",
   "parameters": {},
   "start_time": "2024-03-14T02:34:01.545187",
   "version": "2.4.0"
  }
 },
 "nbformat": 4,
 "nbformat_minor": 5
}