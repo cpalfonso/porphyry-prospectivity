{
 "cells": [
  {
   "cell_type": "markdown",
   "id": "7f6878b3",
   "metadata": {
    "papermill": {
     "duration": 0.00817,
     "end_time": "2025-07-04T16:00:35.299494",
     "exception": false,
     "start_time": "2025-07-04T16:00:35.291324",
     "status": "completed"
    },
    "tags": []
   },
   "source": [
    "# Preservation potential grids\n",
    "\n",
    "This notebook converts the cumulative erosion values at the grid point locations to true netCDF format grids of preservation potential, using the parametric distribution fitted in notebook `04`.\n",
    "\n",
    "If training data has been extracted from the source datasets by running the `00c-extract_training_data_global.ipynb` and `00b-extract_grid_data.ipynb` notebooks, set the `use_extracted_data` variable below to `True` to use this dataset instead of the pre-prepared training data from the [Zenodo repository](https://zenodo.org/record/8157691)."
   ]
  },
  {
   "cell_type": "markdown",
   "id": "bb19728e",
   "metadata": {
    "papermill": {
     "duration": 0.002555,
     "end_time": "2025-07-04T16:00:35.305255",
     "exception": false,
     "start_time": "2025-07-04T16:00:35.302700",
     "status": "completed"
    },
    "tags": []
   },
   "source": [
    "## Notebook options\n",
    "\n",
    "These cells set some of the important variables and definitions used throughout the notebook."
   ]
  },
  {
   "cell_type": "code",
   "execution_count": 1,
   "id": "8f44dfaf",
   "metadata": {
    "execution": {
     "iopub.execute_input": "2025-07-04T16:00:35.311979Z",
     "iopub.status.busy": "2025-07-04T16:00:35.311707Z",
     "iopub.status.idle": "2025-07-04T16:00:35.316188Z",
     "shell.execute_reply": "2025-07-04T16:00:35.315640Z"
    },
    "papermill": {
     "duration": 0.009824,
     "end_time": "2025-07-04T16:00:35.317509",
     "exception": false,
     "start_time": "2025-07-04T16:00:35.307685",
     "status": "completed"
    },
    "tags": []
   },
   "outputs": [],
   "source": [
    "config_file = \"notebook_parameters_default.yml\""
   ]
  },
  {
   "cell_type": "code",
   "execution_count": 2,
   "id": "b8959940",
   "metadata": {
    "execution": {
     "iopub.execute_input": "2025-07-04T16:00:35.322660Z",
     "iopub.status.busy": "2025-07-04T16:00:35.322440Z",
     "iopub.status.idle": "2025-07-04T16:00:35.364409Z",
     "shell.execute_reply": "2025-07-04T16:00:35.363887Z"
    },
    "papermill": {
     "duration": 0.046072,
     "end_time": "2025-07-04T16:00:35.365744",
     "exception": false,
     "start_time": "2025-07-04T16:00:35.319672",
     "status": "completed"
    },
    "tags": []
   },
   "outputs": [],
   "source": [
    "from lib.load_params import get_params\n",
    "\n",
    "params = get_params(config_file, notebook=\"05\")\n",
    "\n",
    "# If True, use training data extracted in notebook 00c\n",
    "# Else, use pre-prepared training data downloaded from Zenodo\n",
    "use_extracted_data = params[\"use_extracted_data\"]\n",
    "\n",
    "# Number of processes to use\n",
    "n_jobs = params[\"n_jobs\"]\n",
    "\n",
    "# Control verbosity level of logging output\n",
    "verbose = params[\"verbose\"]\n",
    "\n",
    "# Output directory\n",
    "outputs_dir = params[\"output_dir\"]"
   ]
  },
  {
   "cell_type": "markdown",
   "id": "732a5a55",
   "metadata": {
    "papermill": {
     "duration": 0.006777,
     "end_time": "2025-07-04T16:00:35.374773",
     "exception": false,
     "start_time": "2025-07-04T16:00:35.367996",
     "status": "completed"
    },
    "tags": []
   },
   "source": [
    "## Notebook setup\n",
    "\n",
    "Imports, definitions, etc."
   ]
  },
  {
   "cell_type": "markdown",
   "id": "1d5bf441",
   "metadata": {
    "papermill": {
     "duration": 0.003103,
     "end_time": "2025-07-04T16:00:35.382038",
     "exception": false,
     "start_time": "2025-07-04T16:00:35.378935",
     "status": "completed"
    },
    "tags": []
   },
   "source": [
    "### Imports"
   ]
  },
  {
   "cell_type": "code",
   "execution_count": 3,
   "id": "831e9f22",
   "metadata": {
    "execution": {
     "iopub.execute_input": "2025-07-04T16:00:35.387844Z",
     "iopub.status.busy": "2025-07-04T16:00:35.387589Z",
     "iopub.status.idle": "2025-07-04T16:00:39.649336Z",
     "shell.execute_reply": "2025-07-04T16:00:39.648565Z"
    },
    "papermill": {
     "duration": 4.266395,
     "end_time": "2025-07-04T16:00:39.650829",
     "exception": false,
     "start_time": "2025-07-04T16:00:35.384434",
     "status": "completed"
    },
    "tags": []
   },
   "outputs": [],
   "source": [
    "import glob\n",
    "import os\n",
    "import warnings\n",
    "\n",
    "import joblib\n",
    "import numpy as np\n",
    "import pandas as pd\n",
    "with warnings.catch_warnings():\n",
    "    warnings.simplefilter(\"ignore\", UserWarning)\n",
    "    from gplately import Raster\n",
    "\n",
    "from lib.check_files import check_prepared_data\n",
    "from lib.pu import create_grids"
   ]
  },
  {
   "cell_type": "markdown",
   "id": "bbbd06d1",
   "metadata": {
    "papermill": {
     "duration": 0.002166,
     "end_time": "2025-07-04T16:00:39.655535",
     "exception": false,
     "start_time": "2025-07-04T16:00:39.653369",
     "status": "completed"
    },
    "tags": []
   },
   "source": [
    "### Input and output files"
   ]
  },
  {
   "cell_type": "code",
   "execution_count": 4,
   "id": "0ebbda50",
   "metadata": {
    "execution": {
     "iopub.execute_input": "2025-07-04T16:00:39.661104Z",
     "iopub.status.busy": "2025-07-04T16:00:39.660662Z",
     "iopub.status.idle": "2025-07-04T16:00:39.665493Z",
     "shell.execute_reply": "2025-07-04T16:00:39.664930Z"
    },
    "papermill": {
     "duration": 0.009308,
     "end_time": "2025-07-04T16:00:39.666919",
     "exception": false,
     "start_time": "2025-07-04T16:00:39.657611",
     "status": "completed"
    },
    "tags": []
   },
   "outputs": [],
   "source": [
    "if use_extracted_data:\n",
    "    data_dir = params[\"extracted_data_dir\"]\n",
    "else:\n",
    "    data_dir = check_prepared_data(\"prepared_data\")\n",
    "\n",
    "data_filename = os.path.join(data_dir, \"grid_data.csv\")\n",
    "\n",
    "dist_parametric_filename = os.path.join(\n",
    "    outputs_dir,\n",
    "    \"global\",\n",
    "    \"erodep_dist.joblib\",\n",
    ")\n",
    "\n",
    "# Output\n",
    "output_filename_points = os.path.join(\n",
    "    outputs_dir,\n",
    "    \"global\",\n",
    "    \"grid_data_preservation_likelihood.csv\",\n",
    ")\n",
    "erodep_grid_dir = os.path.join(\n",
    "    outputs_dir,\n",
    "    \"erosion_grids\",\n",
    ")\n",
    "likelihood_dir = os.path.join(\n",
    "    outputs_dir,\n",
    "    \"global\",\n",
    "    \"preservation_likelihood_grids\",\n",
    ")\n",
    "for i in (\n",
    "    erodep_grid_dir,\n",
    "    likelihood_dir,\n",
    "):\n",
    "    os.makedirs(i, exist_ok=True)"
   ]
  },
  {
   "cell_type": "markdown",
   "id": "1782b6b5",
   "metadata": {
    "papermill": {
     "duration": 0.002482,
     "end_time": "2025-07-04T16:00:39.671854",
     "exception": false,
     "start_time": "2025-07-04T16:00:39.669372",
     "status": "completed"
    },
    "tags": []
   },
   "source": [
    "### Load data and calculate likelihood\n",
    "\n",
    "The likelihood point values will be saved to a `.csv` file in the output directory."
   ]
  },
  {
   "cell_type": "code",
   "execution_count": 5,
   "id": "210df0fc",
   "metadata": {
    "execution": {
     "iopub.execute_input": "2025-07-04T16:00:39.677482Z",
     "iopub.status.busy": "2025-07-04T16:00:39.677206Z",
     "iopub.status.idle": "2025-07-04T16:01:10.956689Z",
     "shell.execute_reply": "2025-07-04T16:01:10.956151Z"
    },
    "papermill": {
     "duration": 31.284482,
     "end_time": "2025-07-04T16:01:10.958652",
     "exception": false,
     "start_time": "2025-07-04T16:00:39.674170",
     "status": "completed"
    },
    "tags": []
   },
   "outputs": [],
   "source": [
    "cols = [\"lon\", \"lat\", \"age (Ma)\", \"erosion (m)\"]\n",
    "data = pd.read_csv(data_filename, usecols=cols)\n",
    "\n",
    "if verbose:\n",
    "    print(\n",
    "        \"Loading parametric distribution from file: \"\n",
    "        + dist_parametric_filename\n",
    "    )\n",
    "dist_parametric = joblib.load(dist_parametric_filename)\n",
    "data[\"likelihood\"] = dist_parametric.pdf(data[\"erosion (m)\"])\n",
    "\n",
    "data.to_csv(output_filename_points, index=False)"
   ]
  },
  {
   "cell_type": "markdown",
   "id": "a27d57a0",
   "metadata": {
    "papermill": {
     "duration": 0.002165,
     "end_time": "2025-07-04T16:01:10.963129",
     "exception": false,
     "start_time": "2025-07-04T16:01:10.960964",
     "status": "completed"
    },
    "tags": []
   },
   "source": [
    "## Create grids\n",
    "\n",
    "In this section, the different types of output grids are created."
   ]
  },
  {
   "cell_type": "markdown",
   "id": "4fafad82",
   "metadata": {
    "papermill": {
     "duration": 0.002525,
     "end_time": "2025-07-04T16:01:10.968630",
     "exception": false,
     "start_time": "2025-07-04T16:01:10.966105",
     "status": "completed"
    },
    "tags": []
   },
   "source": [
    "### Erosion"
   ]
  },
  {
   "cell_type": "code",
   "execution_count": 6,
   "id": "bf0773e0",
   "metadata": {
    "execution": {
     "iopub.execute_input": "2025-07-04T16:01:10.974218Z",
     "iopub.status.busy": "2025-07-04T16:01:10.973955Z",
     "iopub.status.idle": "2025-07-04T16:12:08.018296Z",
     "shell.execute_reply": "2025-07-04T16:12:08.017636Z"
    },
    "papermill": {
     "duration": 657.049795,
     "end_time": "2025-07-04T16:12:08.020461",
     "exception": false,
     "start_time": "2025-07-04T16:01:10.970666",
     "status": "completed"
    },
    "tags": []
   },
   "outputs": [],
   "source": [
    "create_grids(\n",
    "    data,\n",
    "    output_dir=erodep_grid_dir,\n",
    "    threads=n_jobs,\n",
    "    verbose=verbose,\n",
    "    column=\"erosion (m)\",\n",
    "    filename_format=\"erosion_grid_{}Ma.nc\",\n",
    "    extent=\"global\",\n",
    ")\n"
   ]
  },
  {
   "cell_type": "markdown",
   "id": "eead1583",
   "metadata": {
    "papermill": {
     "duration": 0.001737,
     "end_time": "2025-07-04T16:12:08.027157",
     "exception": false,
     "start_time": "2025-07-04T16:12:08.025420",
     "status": "completed"
    },
    "tags": []
   },
   "source": [
    "### Preservation likelihood"
   ]
  },
  {
   "cell_type": "code",
   "execution_count": 7,
   "id": "649c16f6",
   "metadata": {
    "execution": {
     "iopub.execute_input": "2025-07-04T16:12:08.032212Z",
     "iopub.status.busy": "2025-07-04T16:12:08.032001Z",
     "iopub.status.idle": "2025-07-04T16:12:12.537773Z",
     "shell.execute_reply": "2025-07-04T16:12:12.537336Z"
    },
    "papermill": {
     "duration": 4.509798,
     "end_time": "2025-07-04T16:12:12.539344",
     "exception": false,
     "start_time": "2025-07-04T16:12:08.029546",
     "status": "completed"
    },
    "tags": []
   },
   "outputs": [],
   "source": [
    "for erodep_filename in glob.glob(\n",
    "    os.path.join(\n",
    "        erodep_grid_dir,\n",
    "        r\"erosion_grid_*Ma.nc\",\n",
    "    )\n",
    "):\n",
    "    if verbose:\n",
    "        print(\n",
    "            f\"Reading file: {os.path.basename(erodep_filename)}\"\n",
    "        )\n",
    "    likelihood_basename = os.path.basename(\n",
    "        erodep_filename\n",
    "    ).replace(\"erosion_grid\", \"preservation_likelihood_grid\")\n",
    "    likelihood_filename = os.path.join(\n",
    "        likelihood_dir,\n",
    "        likelihood_basename,\n",
    "    )\n",
    "\n",
    "    erodep_raster = Raster(erodep_filename)\n",
    "\n",
    "    likelihood = Raster(dist_parametric.pdf(erodep_raster))\n",
    "    if verbose:\n",
    "        print(\n",
    "            f\" - Writing likelihood file: {likelihood_basename}\"\n",
    "        )\n",
    "    likelihood.save_to_netcdf4(likelihood_filename)"
   ]
  },
  {
   "cell_type": "code",
   "execution_count": null,
   "id": "c1bb8653",
   "metadata": {
    "papermill": {
     "duration": 0.002368,
     "end_time": "2025-07-04T16:12:12.544634",
     "exception": false,
     "start_time": "2025-07-04T16:12:12.542266",
     "status": "completed"
    },
    "tags": []
   },
   "outputs": [],
   "source": []
  }
 ],
 "metadata": {
  "kernelspec": {
   "display_name": "datamining",
   "language": "python",
   "name": "python3"
  },
  "language_info": {
   "codemirror_mode": {
    "name": "ipython",
    "version": 3
   },
   "file_extension": ".py",
   "mimetype": "text/x-python",
   "name": "python",
   "nbconvert_exporter": "python",
   "pygments_lexer": "ipython3",
   "version": "3.13.5"
  },
  "papermill": {
   "default_parameters": {},
   "duration": 700.764318,
   "end_time": "2025-07-04T16:12:15.168372",
   "environment_variables": {},
   "exception": null,
   "input_path": "05-create_preservation_maps.ipynb",
   "output_path": "05-create_preservation_maps_output.ipynb",
   "parameters": {},
   "start_time": "2025-07-04T16:00:34.404054",
   "version": "2.4.0"
  }
 },
 "nbformat": 4,
 "nbformat_minor": 5
}