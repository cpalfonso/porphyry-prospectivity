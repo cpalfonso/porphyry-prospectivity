{
 "cells": [
  {
   "cell_type": "markdown",
   "id": "7f6878b3",
   "metadata": {
    "papermill": {
     "duration": 0.005005,
     "end_time": "2024-08-29T01:32:05.433827",
     "exception": false,
     "start_time": "2024-08-29T01:32:05.428822",
     "status": "completed"
    },
    "tags": []
   },
   "source": [
    "# Preservation potential grids\n",
    "\n",
    "This notebook converts the cumulative erosion values at the grid point locations to true netCDF format grids of preservation potential, using the parametric distribution fitted in notebook `04`.\n",
    "\n",
    "If training data has been extracted from the source datasets by running the `00c-extract_training_data_global.ipynb` and `00b-extract_grid_data.ipynb` notebooks, set the `use_extracted_data` variable below to `True` to use this dataset instead of the pre-prepared training data from the [Zenodo repository](https://zenodo.org/record/8157691)."
   ]
  },
  {
   "cell_type": "markdown",
   "id": "bb19728e",
   "metadata": {
    "papermill": {
     "duration": 0.003232,
     "end_time": "2024-08-29T01:32:05.440146",
     "exception": false,
     "start_time": "2024-08-29T01:32:05.436914",
     "status": "completed"
    },
    "tags": []
   },
   "source": [
    "## Notebook options\n",
    "\n",
    "These cells set some of the important variables and definitions used throughout the notebook."
   ]
  },
  {
   "cell_type": "code",
   "execution_count": 1,
   "id": "5575cb58",
   "metadata": {
    "execution": {
     "iopub.execute_input": "2024-08-29T01:32:05.446597Z",
     "iopub.status.busy": "2024-08-29T01:32:05.446258Z",
     "iopub.status.idle": "2024-08-29T01:32:05.455461Z",
     "shell.execute_reply": "2024-08-29T01:32:05.454328Z"
    },
    "papermill": {
     "duration": 0.014565,
     "end_time": "2024-08-29T01:32:05.457494",
     "exception": false,
     "start_time": "2024-08-29T01:32:05.442929",
     "status": "completed"
    },
    "tags": []
   },
   "outputs": [],
   "source": [
    "# If True, use training data extracted in notebook 00c\n",
    "# Else, use pre-prepared training data downloaded from Zenodo\n",
    "use_extracted_data = True\n",
    "\n",
    "# Number of processes to use\n",
    "n_jobs = 4\n",
    "\n",
    "# Control verbosity level of logging output\n",
    "verbose = False"
   ]
  },
  {
   "cell_type": "markdown",
   "id": "e027d1c4",
   "metadata": {
    "papermill": {
     "duration": 0.004949,
     "end_time": "2024-08-29T01:32:05.464935",
     "exception": false,
     "start_time": "2024-08-29T01:32:05.459986",
     "status": "completed"
    },
    "tags": []
   },
   "source": [
    "These values will usually not need to be modified:"
   ]
  },
  {
   "cell_type": "code",
   "execution_count": 2,
   "id": "790680ec",
   "metadata": {
    "execution": {
     "iopub.execute_input": "2024-08-29T01:32:05.471127Z",
     "iopub.status.busy": "2024-08-29T01:32:05.470911Z",
     "iopub.status.idle": "2024-08-29T01:32:05.537690Z",
     "shell.execute_reply": "2024-08-29T01:32:05.537160Z"
    },
    "papermill": {
     "duration": 0.071963,
     "end_time": "2024-08-29T01:32:05.539576",
     "exception": false,
     "start_time": "2024-08-29T01:32:05.467613",
     "status": "completed"
    },
    "tags": []
   },
   "outputs": [],
   "source": [
    "from lib.check_files import check_prepared_data\n",
    "\n",
    "if use_extracted_data:\n",
    "    data_dir = \"extracted_data\"\n",
    "else:\n",
    "    data_dir = check_prepared_data(\"prepared_data\")\n",
    "\n",
    "outputs_dir = \"outputs\""
   ]
  },
  {
   "cell_type": "markdown",
   "id": "adb0c6c1",
   "metadata": {
    "papermill": {
     "duration": 0.002515,
     "end_time": "2024-08-29T01:32:05.545371",
     "exception": false,
     "start_time": "2024-08-29T01:32:05.542856",
     "status": "completed"
    },
    "tags": []
   },
   "source": [
    "If any of the following exist as environment variables, they will replace the values defined above:"
   ]
  },
  {
   "cell_type": "code",
   "execution_count": 3,
   "id": "af58fc81",
   "metadata": {
    "execution": {
     "iopub.execute_input": "2024-08-29T01:32:05.551491Z",
     "iopub.status.busy": "2024-08-29T01:32:05.551231Z",
     "iopub.status.idle": "2024-08-29T01:32:05.554347Z",
     "shell.execute_reply": "2024-08-29T01:32:05.553796Z"
    },
    "papermill": {
     "duration": 0.008131,
     "end_time": "2024-08-29T01:32:05.555968",
     "exception": false,
     "start_time": "2024-08-29T01:32:05.547837",
     "status": "completed"
    },
    "tags": []
   },
   "outputs": [],
   "source": [
    "import os\n",
    "\n",
    "n_jobs = int(os.environ.get(\"N_JOBS\", n_jobs))\n",
    "verbose = bool(int(os.environ.get(\"VERBOSE\", verbose)))"
   ]
  },
  {
   "cell_type": "markdown",
   "id": "732a5a55",
   "metadata": {
    "papermill": {
     "duration": 0.002482,
     "end_time": "2024-08-29T01:32:05.561032",
     "exception": false,
     "start_time": "2024-08-29T01:32:05.558550",
     "status": "completed"
    },
    "tags": []
   },
   "source": [
    "## Notebook setup\n",
    "\n",
    "Imports, definitions, etc."
   ]
  },
  {
   "cell_type": "markdown",
   "id": "1d5bf441",
   "metadata": {
    "papermill": {
     "duration": 0.002174,
     "end_time": "2024-08-29T01:32:05.566322",
     "exception": false,
     "start_time": "2024-08-29T01:32:05.564148",
     "status": "completed"
    },
    "tags": []
   },
   "source": [
    "### Imports"
   ]
  },
  {
   "cell_type": "code",
   "execution_count": 4,
   "id": "831e9f22",
   "metadata": {
    "execution": {
     "iopub.execute_input": "2024-08-29T01:32:05.571890Z",
     "iopub.status.busy": "2024-08-29T01:32:05.571688Z",
     "iopub.status.idle": "2024-08-29T01:32:09.274613Z",
     "shell.execute_reply": "2024-08-29T01:32:09.274056Z"
    },
    "papermill": {
     "duration": 3.707735,
     "end_time": "2024-08-29T01:32:09.276374",
     "exception": false,
     "start_time": "2024-08-29T01:32:05.568639",
     "status": "completed"
    },
    "tags": []
   },
   "outputs": [],
   "source": [
    "import glob\n",
    "\n",
    "import joblib\n",
    "import numpy as np\n",
    "import pandas as pd\n",
    "from gplately import Raster\n",
    "\n",
    "from lib.pu import create_grids"
   ]
  },
  {
   "cell_type": "markdown",
   "id": "bbbd06d1",
   "metadata": {
    "papermill": {
     "duration": 0.002673,
     "end_time": "2024-08-29T01:32:09.282043",
     "exception": false,
     "start_time": "2024-08-29T01:32:09.279370",
     "status": "completed"
    },
    "tags": []
   },
   "source": [
    "### Input and output files"
   ]
  },
  {
   "cell_type": "code",
   "execution_count": 5,
   "id": "0ebbda50",
   "metadata": {
    "execution": {
     "iopub.execute_input": "2024-08-29T01:32:09.288455Z",
     "iopub.status.busy": "2024-08-29T01:32:09.288044Z",
     "iopub.status.idle": "2024-08-29T01:32:09.292603Z",
     "shell.execute_reply": "2024-08-29T01:32:09.291901Z"
    },
    "papermill": {
     "duration": 0.009552,
     "end_time": "2024-08-29T01:32:09.294167",
     "exception": false,
     "start_time": "2024-08-29T01:32:09.284615",
     "status": "completed"
    },
    "tags": []
   },
   "outputs": [],
   "source": [
    "data_filename = os.path.join(data_dir, \"grid_data.csv\")\n",
    "\n",
    "dist_parametric_filename = os.path.join(\n",
    "    outputs_dir,\n",
    "    \"global\",\n",
    "    \"erodep_dist.joblib\",\n",
    ")\n",
    "\n",
    "# Output\n",
    "output_filename_points = os.path.join(\n",
    "    outputs_dir,\n",
    "    \"global\",\n",
    "    \"grid_data_preservation_likelihood.csv\",\n",
    ")\n",
    "erodep_grid_dir = os.path.join(\n",
    "    outputs_dir,\n",
    "    \"erosion_grids\",\n",
    ")\n",
    "likelihood_dir = os.path.join(\n",
    "    outputs_dir,\n",
    "    \"global\",\n",
    "    \"preservation_likelihood_grids\",\n",
    ")\n",
    "for i in (\n",
    "    erodep_grid_dir,\n",
    "    likelihood_dir,\n",
    "):\n",
    "    os.makedirs(i, exist_ok=True)"
   ]
  },
  {
   "cell_type": "markdown",
   "id": "1782b6b5",
   "metadata": {
    "papermill": {
     "duration": 0.002564,
     "end_time": "2024-08-29T01:32:09.299393",
     "exception": false,
     "start_time": "2024-08-29T01:32:09.296829",
     "status": "completed"
    },
    "tags": []
   },
   "source": [
    "### Load data and calculate likelihood\n",
    "\n",
    "The likelihood point values will be saved to a `.csv` file in the output directory."
   ]
  },
  {
   "cell_type": "code",
   "execution_count": 6,
   "id": "210df0fc",
   "metadata": {
    "execution": {
     "iopub.execute_input": "2024-08-29T01:32:09.305882Z",
     "iopub.status.busy": "2024-08-29T01:32:09.305643Z",
     "iopub.status.idle": "2024-08-29T01:32:37.927529Z",
     "shell.execute_reply": "2024-08-29T01:32:37.926962Z"
    },
    "papermill": {
     "duration": 28.627963,
     "end_time": "2024-08-29T01:32:37.929930",
     "exception": false,
     "start_time": "2024-08-29T01:32:09.301967",
     "status": "completed"
    },
    "tags": []
   },
   "outputs": [],
   "source": [
    "cols = [\"lon\", \"lat\", \"age (Ma)\", \"erosion (m)\"]\n",
    "data = pd.read_csv(data_filename, usecols=cols)\n",
    "\n",
    "if verbose:\n",
    "    print(\n",
    "        \"Loading parametric distribution from file: \"\n",
    "        + dist_parametric_filename\n",
    "    )\n",
    "dist_parametric = joblib.load(dist_parametric_filename)\n",
    "data[\"likelihood\"] = dist_parametric.pdf(data[\"erosion (m)\"])\n",
    "\n",
    "data.to_csv(output_filename_points, index=False)"
   ]
  },
  {
   "cell_type": "markdown",
   "id": "a27d57a0",
   "metadata": {
    "papermill": {
     "duration": 0.004326,
     "end_time": "2024-08-29T01:32:37.937892",
     "exception": false,
     "start_time": "2024-08-29T01:32:37.933566",
     "status": "completed"
    },
    "tags": []
   },
   "source": [
    "## Create grids\n",
    "\n",
    "In this section, the different types of output grids are created."
   ]
  },
  {
   "cell_type": "markdown",
   "id": "4fafad82",
   "metadata": {
    "papermill": {
     "duration": 0.003193,
     "end_time": "2024-08-29T01:32:37.944057",
     "exception": false,
     "start_time": "2024-08-29T01:32:37.940864",
     "status": "completed"
    },
    "tags": []
   },
   "source": [
    "### Erosion"
   ]
  },
  {
   "cell_type": "code",
   "execution_count": 7,
   "id": "bf0773e0",
   "metadata": {
    "execution": {
     "iopub.execute_input": "2024-08-29T01:32:37.951222Z",
     "iopub.status.busy": "2024-08-29T01:32:37.950945Z",
     "iopub.status.idle": "2024-08-29T01:47:05.166506Z",
     "shell.execute_reply": "2024-08-29T01:47:05.165784Z"
    },
    "papermill": {
     "duration": 867.221412,
     "end_time": "2024-08-29T01:47:05.168379",
     "exception": false,
     "start_time": "2024-08-29T01:32:37.946967",
     "status": "completed"
    },
    "tags": []
   },
   "outputs": [],
   "source": [
    "create_grids(\n",
    "    data,\n",
    "    output_dir=erodep_grid_dir,\n",
    "    threads=n_jobs,\n",
    "    verbose=verbose,\n",
    "    column=\"erosion (m)\",\n",
    "    filename_format=\"erosion_grid_{}Ma.nc\",\n",
    "    extent=\"global\",\n",
    ")\n"
   ]
  },
  {
   "cell_type": "markdown",
   "id": "eead1583",
   "metadata": {
    "papermill": {
     "duration": 0.002612,
     "end_time": "2024-08-29T01:47:05.175214",
     "exception": false,
     "start_time": "2024-08-29T01:47:05.172602",
     "status": "completed"
    },
    "tags": []
   },
   "source": [
    "### Preservation likelihood"
   ]
  },
  {
   "cell_type": "code",
   "execution_count": 8,
   "id": "649c16f6",
   "metadata": {
    "execution": {
     "iopub.execute_input": "2024-08-29T01:47:05.181924Z",
     "iopub.status.busy": "2024-08-29T01:47:05.181625Z",
     "iopub.status.idle": "2024-08-29T01:47:09.611526Z",
     "shell.execute_reply": "2024-08-29T01:47:09.610912Z"
    },
    "papermill": {
     "duration": 4.435689,
     "end_time": "2024-08-29T01:47:09.613451",
     "exception": false,
     "start_time": "2024-08-29T01:47:05.177762",
     "status": "completed"
    },
    "tags": []
   },
   "outputs": [],
   "source": [
    "for erodep_filename in glob.glob(\n",
    "    os.path.join(\n",
    "        erodep_grid_dir,\n",
    "        r\"erosion_grid_*Ma.nc\",\n",
    "    )\n",
    "):\n",
    "    if verbose:\n",
    "        print(\n",
    "            f\"Reading file: {os.path.basename(erodep_filename)}\"\n",
    "        )\n",
    "    likelihood_basename = os.path.basename(\n",
    "        erodep_filename\n",
    "    ).replace(\"erosion_grid\", \"preservation_likelihood_grid\")\n",
    "    likelihood_filename = os.path.join(\n",
    "        likelihood_dir,\n",
    "        likelihood_basename,\n",
    "    )\n",
    "\n",
    "    erodep_raster = Raster(erodep_filename)\n",
    "\n",
    "    likelihood = Raster(dist_parametric.pdf(erodep_raster))\n",
    "    if verbose:\n",
    "        print(\n",
    "            f\" - Writing likelihood file: {likelihood_basename}\"\n",
    "        )\n",
    "    likelihood.save_to_netcdf4(likelihood_filename)"
   ]
  },
  {
   "cell_type": "code",
   "execution_count": null,
   "id": "c1bb8653",
   "metadata": {
    "papermill": {
     "duration": 0.002786,
     "end_time": "2024-08-29T01:47:09.619616",
     "exception": false,
     "start_time": "2024-08-29T01:47:09.616830",
     "status": "completed"
    },
    "tags": []
   },
   "outputs": [],
   "source": []
  }
 ],
 "metadata": {
  "kernelspec": {
   "display_name": "datamining",
   "language": "python",
   "name": "python3"
  },
  "language_info": {
   "codemirror_mode": {
    "name": "ipython",
    "version": 3
   },
   "file_extension": ".py",
   "mimetype": "text/x-python",
   "name": "python",
   "nbconvert_exporter": "python",
   "pygments_lexer": "ipython3",
   "version": "3.11.9"
  },
  "papermill": {
   "default_parameters": {},
   "duration": 907.607441,
   "end_time": "2024-08-29T01:47:12.242354",
   "environment_variables": {},
   "exception": null,
   "input_path": "05-create_preservation_maps.ipynb",
   "output_path": "05-create_preservation_maps.ipynb",
   "parameters": {},
   "start_time": "2024-08-29T01:32:04.634913",
   "version": "2.4.0"
  }
 },
 "nbformat": 4,
 "nbformat_minor": 5
}