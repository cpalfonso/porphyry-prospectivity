{
 "cells": [
  {
   "cell_type": "markdown",
   "id": "7f6878b3",
   "metadata": {
    "papermill": {
     "duration": 0.005423,
     "end_time": "2024-07-08T02:55:43.928778",
     "exception": false,
     "start_time": "2024-07-08T02:55:43.923355",
     "status": "completed"
    },
    "tags": []
   },
   "source": [
    "# Preservation potential grids\n",
    "\n",
    "This notebook converts the cumulative erosion values at the grid point locations to true netCDF format grids of preservation potential, using the parametric distribution fitted in notebook `04`.\n",
    "\n",
    "If training data has been extracted from the source datasets by running the `00c-extract_training_data_global.ipynb` and `00b-extract_grid_data.ipynb` notebooks, set the `use_extracted_data` variable below to `True` to use this dataset instead of the pre-prepared training data from the [Zenodo repository](https://zenodo.org/record/8157691)."
   ]
  },
  {
   "cell_type": "markdown",
   "id": "bb19728e",
   "metadata": {
    "papermill": {
     "duration": 0.002928,
     "end_time": "2024-07-08T02:55:43.935110",
     "exception": false,
     "start_time": "2024-07-08T02:55:43.932182",
     "status": "completed"
    },
    "tags": []
   },
   "source": [
    "## Notebook options\n",
    "\n",
    "These cells set some of the important variables and definitions used throughout the notebook."
   ]
  },
  {
   "cell_type": "code",
   "execution_count": 1,
   "id": "5575cb58",
   "metadata": {
    "execution": {
     "iopub.execute_input": "2024-07-08T02:55:43.941298Z",
     "iopub.status.busy": "2024-07-08T02:55:43.941030Z",
     "iopub.status.idle": "2024-07-08T02:55:43.948070Z",
     "shell.execute_reply": "2024-07-08T02:55:43.947476Z"
    },
    "papermill": {
     "duration": 0.011994,
     "end_time": "2024-07-08T02:55:43.949618",
     "exception": false,
     "start_time": "2024-07-08T02:55:43.937624",
     "status": "completed"
    },
    "tags": []
   },
   "outputs": [],
   "source": [
    "# If True, use training data extracted in notebook 00c\n",
    "# Else, use pre-prepared training data downloaded from Zenodo\n",
    "use_extracted_data = True\n",
    "\n",
    "# Number of processes to use\n",
    "n_jobs = 4\n",
    "\n",
    "# Control verbosity level of logging output\n",
    "verbose = False"
   ]
  },
  {
   "cell_type": "markdown",
   "id": "e027d1c4",
   "metadata": {
    "papermill": {
     "duration": 0.002527,
     "end_time": "2024-07-08T02:55:43.954751",
     "exception": false,
     "start_time": "2024-07-08T02:55:43.952224",
     "status": "completed"
    },
    "tags": []
   },
   "source": [
    "These values will usually not need to be modified:"
   ]
  },
  {
   "cell_type": "code",
   "execution_count": 2,
   "id": "790680ec",
   "metadata": {
    "execution": {
     "iopub.execute_input": "2024-07-08T02:55:43.960923Z",
     "iopub.status.busy": "2024-07-08T02:55:43.960687Z",
     "iopub.status.idle": "2024-07-08T02:55:44.022021Z",
     "shell.execute_reply": "2024-07-08T02:55:44.021471Z"
    },
    "papermill": {
     "duration": 0.066667,
     "end_time": "2024-07-08T02:55:44.023858",
     "exception": false,
     "start_time": "2024-07-08T02:55:43.957191",
     "status": "completed"
    },
    "tags": []
   },
   "outputs": [],
   "source": [
    "from lib.check_files import check_prepared_data\n",
    "\n",
    "if use_extracted_data:\n",
    "    data_dir = \"extracted_data\"\n",
    "else:\n",
    "    data_dir = check_prepared_data(\"prepared_data\")\n",
    "\n",
    "outputs_dir = \"outputs_feature_agglomeration\""
   ]
  },
  {
   "cell_type": "markdown",
   "id": "adb0c6c1",
   "metadata": {
    "papermill": {
     "duration": 0.002615,
     "end_time": "2024-07-08T02:55:44.029137",
     "exception": false,
     "start_time": "2024-07-08T02:55:44.026522",
     "status": "completed"
    },
    "tags": []
   },
   "source": [
    "If any of the following exist as environment variables, they will replace the values defined above:"
   ]
  },
  {
   "cell_type": "code",
   "execution_count": 3,
   "id": "af58fc81",
   "metadata": {
    "execution": {
     "iopub.execute_input": "2024-07-08T02:55:44.035040Z",
     "iopub.status.busy": "2024-07-08T02:55:44.034802Z",
     "iopub.status.idle": "2024-07-08T02:55:44.037862Z",
     "shell.execute_reply": "2024-07-08T02:55:44.037378Z"
    },
    "papermill": {
     "duration": 0.00779,
     "end_time": "2024-07-08T02:55:44.039390",
     "exception": false,
     "start_time": "2024-07-08T02:55:44.031600",
     "status": "completed"
    },
    "tags": []
   },
   "outputs": [],
   "source": [
    "import os\n",
    "\n",
    "n_jobs = int(os.environ.get(\"N_JOBS\", n_jobs))\n",
    "verbose = bool(int(os.environ.get(\"VERBOSE\", verbose)))"
   ]
  },
  {
   "cell_type": "markdown",
   "id": "732a5a55",
   "metadata": {
    "papermill": {
     "duration": 0.00263,
     "end_time": "2024-07-08T02:55:44.044890",
     "exception": false,
     "start_time": "2024-07-08T02:55:44.042260",
     "status": "completed"
    },
    "tags": []
   },
   "source": [
    "## Notebook setup\n",
    "\n",
    "Imports, definitions, etc."
   ]
  },
  {
   "cell_type": "markdown",
   "id": "1d5bf441",
   "metadata": {
    "papermill": {
     "duration": 0.002598,
     "end_time": "2024-07-08T02:55:44.050082",
     "exception": false,
     "start_time": "2024-07-08T02:55:44.047484",
     "status": "completed"
    },
    "tags": []
   },
   "source": [
    "### Imports"
   ]
  },
  {
   "cell_type": "code",
   "execution_count": 4,
   "id": "831e9f22",
   "metadata": {
    "execution": {
     "iopub.execute_input": "2024-07-08T02:55:44.055962Z",
     "iopub.status.busy": "2024-07-08T02:55:44.055746Z",
     "iopub.status.idle": "2024-07-08T02:55:47.590795Z",
     "shell.execute_reply": "2024-07-08T02:55:47.589997Z"
    },
    "papermill": {
     "duration": 3.540057,
     "end_time": "2024-07-08T02:55:47.592575",
     "exception": false,
     "start_time": "2024-07-08T02:55:44.052518",
     "status": "completed"
    },
    "tags": []
   },
   "outputs": [],
   "source": [
    "import glob\n",
    "\n",
    "import joblib\n",
    "import numpy as np\n",
    "import pandas as pd\n",
    "from gplately import Raster\n",
    "\n",
    "from lib.pu import create_grids"
   ]
  },
  {
   "cell_type": "markdown",
   "id": "bbbd06d1",
   "metadata": {
    "papermill": {
     "duration": 0.002728,
     "end_time": "2024-07-08T02:55:47.599073",
     "exception": false,
     "start_time": "2024-07-08T02:55:47.596345",
     "status": "completed"
    },
    "tags": []
   },
   "source": [
    "### Input and output files"
   ]
  },
  {
   "cell_type": "code",
   "execution_count": 5,
   "id": "0ebbda50",
   "metadata": {
    "execution": {
     "iopub.execute_input": "2024-07-08T02:55:47.605649Z",
     "iopub.status.busy": "2024-07-08T02:55:47.605248Z",
     "iopub.status.idle": "2024-07-08T02:55:47.610364Z",
     "shell.execute_reply": "2024-07-08T02:55:47.609751Z"
    },
    "papermill": {
     "duration": 0.010194,
     "end_time": "2024-07-08T02:55:47.611915",
     "exception": false,
     "start_time": "2024-07-08T02:55:47.601721",
     "status": "completed"
    },
    "tags": []
   },
   "outputs": [],
   "source": [
    "data_filename = os.path.join(data_dir, \"grid_data.csv\")\n",
    "\n",
    "outputs_dir = \"outputs_feature_agglomeration\"\n",
    "dist_parametric_filename = os.path.join(\n",
    "    outputs_dir,\n",
    "    \"global\",\n",
    "    \"erodep_dist.joblib\",\n",
    ")\n",
    "\n",
    "# Output\n",
    "output_filename_points = os.path.join(\n",
    "    outputs_dir,\n",
    "    \"global\",\n",
    "    \"grid_data_preservation_likelihood.csv\",\n",
    ")\n",
    "erodep_grid_dir = os.path.join(\n",
    "    outputs_dir,\n",
    "    \"erosion_grids\",\n",
    ")\n",
    "likelihood_dir = os.path.join(\n",
    "    outputs_dir,\n",
    "    \"global\",\n",
    "    \"preservation_likelihood_grids\",\n",
    ")\n",
    "for i in (\n",
    "    erodep_grid_dir,\n",
    "    likelihood_dir,\n",
    "):\n",
    "    os.makedirs(i, exist_ok=True)"
   ]
  },
  {
   "cell_type": "markdown",
   "id": "1782b6b5",
   "metadata": {
    "papermill": {
     "duration": 0.002664,
     "end_time": "2024-07-08T02:55:47.617276",
     "exception": false,
     "start_time": "2024-07-08T02:55:47.614612",
     "status": "completed"
    },
    "tags": []
   },
   "source": [
    "### Load data and calculate likelihood\n",
    "\n",
    "The likelihood point values will be saved to a `.csv` file in the output directory."
   ]
  },
  {
   "cell_type": "code",
   "execution_count": 6,
   "id": "210df0fc",
   "metadata": {
    "execution": {
     "iopub.execute_input": "2024-07-08T02:55:47.623646Z",
     "iopub.status.busy": "2024-07-08T02:55:47.623251Z",
     "iopub.status.idle": "2024-07-08T02:56:16.261835Z",
     "shell.execute_reply": "2024-07-08T02:56:16.261267Z"
    },
    "papermill": {
     "duration": 28.64378,
     "end_time": "2024-07-08T02:56:16.263558",
     "exception": false,
     "start_time": "2024-07-08T02:55:47.619778",
     "status": "completed"
    },
    "tags": []
   },
   "outputs": [],
   "source": [
    "cols = [\"lon\", \"lat\", \"age (Ma)\", \"erosion (m)\"]\n",
    "data = pd.read_csv(data_filename, usecols=cols)\n",
    "\n",
    "if verbose:\n",
    "    print(\n",
    "        \"Loading parametric distribution from file: \"\n",
    "        + dist_parametric_filename\n",
    "    )\n",
    "dist_parametric = joblib.load(dist_parametric_filename)\n",
    "data[\"likelihood\"] = dist_parametric.pdf(data[\"erosion (m)\"])\n",
    "\n",
    "data.to_csv(output_filename_points, index=False)"
   ]
  },
  {
   "cell_type": "markdown",
   "id": "a27d57a0",
   "metadata": {
    "papermill": {
     "duration": 0.002584,
     "end_time": "2024-07-08T02:56:16.269160",
     "exception": false,
     "start_time": "2024-07-08T02:56:16.266576",
     "status": "completed"
    },
    "tags": []
   },
   "source": [
    "## Create grids\n",
    "\n",
    "In this section, the different types of output grids are created."
   ]
  },
  {
   "cell_type": "markdown",
   "id": "4fafad82",
   "metadata": {
    "papermill": {
     "duration": 0.002622,
     "end_time": "2024-07-08T02:56:16.274349",
     "exception": false,
     "start_time": "2024-07-08T02:56:16.271727",
     "status": "completed"
    },
    "tags": []
   },
   "source": [
    "### Erosion"
   ]
  },
  {
   "cell_type": "code",
   "execution_count": 7,
   "id": "bf0773e0",
   "metadata": {
    "execution": {
     "iopub.execute_input": "2024-07-08T02:56:16.280735Z",
     "iopub.status.busy": "2024-07-08T02:56:16.280479Z",
     "iopub.status.idle": "2024-07-08T03:07:54.725719Z",
     "shell.execute_reply": "2024-07-08T03:07:54.724994Z"
    },
    "papermill": {
     "duration": 698.450678,
     "end_time": "2024-07-08T03:07:54.727510",
     "exception": false,
     "start_time": "2024-07-08T02:56:16.276832",
     "status": "completed"
    },
    "tags": []
   },
   "outputs": [],
   "source": [
    "create_grids(\n",
    "    data,\n",
    "    output_dir=erodep_grid_dir,\n",
    "    threads=n_jobs,\n",
    "    verbose=verbose,\n",
    "    column=\"erosion (m)\",\n",
    "    filename_format=\"erosion_grid_{}Ma.nc\",\n",
    "    extent=\"global\",\n",
    ")\n"
   ]
  },
  {
   "cell_type": "markdown",
   "id": "eead1583",
   "metadata": {
    "papermill": {
     "duration": 0.003001,
     "end_time": "2024-07-08T03:07:54.733363",
     "exception": false,
     "start_time": "2024-07-08T03:07:54.730362",
     "status": "completed"
    },
    "tags": []
   },
   "source": [
    "### Preservation likelihood"
   ]
  },
  {
   "cell_type": "code",
   "execution_count": 8,
   "id": "649c16f6",
   "metadata": {
    "execution": {
     "iopub.execute_input": "2024-07-08T03:07:54.740286Z",
     "iopub.status.busy": "2024-07-08T03:07:54.739964Z",
     "iopub.status.idle": "2024-07-08T03:07:59.176480Z",
     "shell.execute_reply": "2024-07-08T03:07:59.175845Z"
    },
    "papermill": {
     "duration": 4.442013,
     "end_time": "2024-07-08T03:07:59.178131",
     "exception": false,
     "start_time": "2024-07-08T03:07:54.736118",
     "status": "completed"
    },
    "tags": []
   },
   "outputs": [],
   "source": [
    "for erodep_filename in glob.glob(\n",
    "    os.path.join(\n",
    "        erodep_grid_dir,\n",
    "        r\"erosion_grid_*Ma.nc\",\n",
    "    )\n",
    "):\n",
    "    if verbose:\n",
    "        print(\n",
    "            f\"Reading file: {os.path.basename(erodep_filename)}\"\n",
    "        )\n",
    "    likelihood_basename = os.path.basename(\n",
    "        erodep_filename\n",
    "    ).replace(\"erosion_grid\", \"preservation_likelihood_grid\")\n",
    "    likelihood_filename = os.path.join(\n",
    "        likelihood_dir,\n",
    "        likelihood_basename,\n",
    "    )\n",
    "\n",
    "    erodep_raster = Raster(erodep_filename)\n",
    "\n",
    "    likelihood = Raster(dist_parametric.pdf(erodep_raster))\n",
    "    if verbose:\n",
    "        print(\n",
    "            f\" - Writing likelihood file: {likelihood_basename}\"\n",
    "        )\n",
    "    likelihood.save_to_netcdf4(likelihood_filename)"
   ]
  },
  {
   "cell_type": "code",
   "execution_count": null,
   "id": "c1bb8653",
   "metadata": {
    "papermill": {
     "duration": 0.002974,
     "end_time": "2024-07-08T03:07:59.184356",
     "exception": false,
     "start_time": "2024-07-08T03:07:59.181382",
     "status": "completed"
    },
    "tags": []
   },
   "outputs": [],
   "source": []
  }
 ],
 "metadata": {
  "kernelspec": {
   "display_name": "datamining",
   "language": "python",
   "name": "python3"
  },
  "language_info": {
   "codemirror_mode": {
    "name": "ipython",
    "version": 3
   },
   "file_extension": ".py",
   "mimetype": "text/x-python",
   "name": "python",
   "nbconvert_exporter": "python",
   "pygments_lexer": "ipython3",
   "version": "3.11.9"
  },
  "papermill": {
   "default_parameters": {},
   "duration": 738.739548,
   "end_time": "2024-07-08T03:08:01.905806",
   "environment_variables": {},
   "exception": null,
   "input_path": "05-create_preservation_maps.ipynb",
   "output_path": "05-create_preservation_maps.ipynb",
   "parameters": {},
   "start_time": "2024-07-08T02:55:43.166258",
   "version": "2.4.0"
  }
 },
 "nbformat": 4,
 "nbformat_minor": 5
}
