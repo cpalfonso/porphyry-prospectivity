{
 "cells": [
  {
   "cell_type": "markdown",
   "id": "58f4f93f",
   "metadata": {
    "papermill": {
     "duration": 0.005879,
     "end_time": "2023-12-19T22:30:59.183089",
     "exception": false,
     "start_time": "2023-12-19T22:30:59.177210",
     "status": "completed"
    },
    "tags": []
   },
   "source": [
    "## Train classifiers"
   ]
  },
  {
   "cell_type": "markdown",
   "id": "bce162da",
   "metadata": {
    "papermill": {
     "duration": 0.005246,
     "end_time": "2023-12-19T22:30:59.193715",
     "exception": false,
     "start_time": "2023-12-19T22:30:59.188469",
     "status": "completed"
    },
    "tags": []
   },
   "source": [
    "If training data has been extracted from the source datasets by running the `00a-extract_training_data.ipynb` and `00b-extract_grid_data.ipynb` notebooks, set the `use_extracted_data` variable below to `True` to use this dataset instead of the pre-prepared training data from the [Zenodo repository](https://zenodo.org/record/8157691)."
   ]
  },
  {
   "cell_type": "code",
   "execution_count": 1,
   "id": "c8549c11",
   "metadata": {
    "execution": {
     "iopub.execute_input": "2023-12-19T22:30:59.205587Z",
     "iopub.status.busy": "2023-12-19T22:30:59.205421Z",
     "iopub.status.idle": "2023-12-19T22:30:59.211223Z",
     "shell.execute_reply": "2023-12-19T22:30:59.210585Z"
    },
    "papermill": {
     "duration": 0.014316,
     "end_time": "2023-12-19T22:30:59.213114",
     "exception": false,
     "start_time": "2023-12-19T22:30:59.198798",
     "status": "completed"
    },
    "tags": []
   },
   "outputs": [],
   "source": [
    "use_extracted_data = False\n"
   ]
  },
  {
   "cell_type": "code",
   "execution_count": 2,
   "id": "c82342ea",
   "metadata": {
    "execution": {
     "iopub.execute_input": "2023-12-19T22:30:59.224742Z",
     "iopub.status.busy": "2023-12-19T22:30:59.224590Z",
     "iopub.status.idle": "2023-12-19T22:31:00.932876Z",
     "shell.execute_reply": "2023-12-19T22:31:00.932271Z"
    },
    "papermill": {
     "duration": 1.715953,
     "end_time": "2023-12-19T22:31:00.934453",
     "exception": false,
     "start_time": "2023-12-19T22:30:59.218500",
     "status": "completed"
    },
    "tags": []
   },
   "outputs": [
    {
     "name": "stdout",
     "output_type": "stream",
     "text": [
      "env: PYTHONWARNINGS=ignore::FutureWarning\n"
     ]
    }
   ],
   "source": [
    "import os\n",
    "import time\n",
    "import warnings\n",
    "from datetime import timedelta\n",
    "\n",
    "import pandas as pd\n",
    "from joblib import dump\n",
    "from pulearn.bagging import BaggingPuClassifier\n",
    "from sklearn.base import clone\n",
    "from sklearn.experimental import enable_iterative_imputer\n",
    "from sklearn.impute import IterativeImputer\n",
    "from sklearn.pipeline import make_pipeline\n",
    "from sklearn.preprocessing import RobustScaler\n",
    "from sklearn.svm import SVC\n",
    "\n",
    "from lib.check_files import check_prepared_data\n",
    "from lib.pu import (\n",
    "    BASE_MODELS,\n",
    "    PU_PARAMS,\n",
    "    UNUSED_COLUMNS,\n",
    "    downsample_unlabelled,\n",
    ")\n",
    "\n",
    "# Suppress FutureWarning for some versions of Scikit-learn\n",
    "%env PYTHONWARNINGS=ignore::FutureWarning\n",
    "\n",
    "warnings.simplefilter(\"ignore\", FutureWarning)\n"
   ]
  },
  {
   "cell_type": "code",
   "execution_count": 3,
   "id": "30758c64",
   "metadata": {
    "execution": {
     "iopub.execute_input": "2023-12-19T22:31:00.945389Z",
     "iopub.status.busy": "2023-12-19T22:31:00.945047Z",
     "iopub.status.idle": "2023-12-19T22:31:00.948953Z",
     "shell.execute_reply": "2023-12-19T22:31:00.948468Z"
    },
    "papermill": {
     "duration": 0.01064,
     "end_time": "2023-12-19T22:31:00.950387",
     "exception": false,
     "start_time": "2023-12-19T22:31:00.939747",
     "status": "completed"
    },
    "tags": []
   },
   "outputs": [],
   "source": [
    "# Random seed for reproducibility\n",
    "random_seed = 1234\n",
    "\n",
    "# Number of jobs used to train model\n",
    "n_jobs = int(os.environ.get(\"N_JOBS\", 8))\n",
    "\n",
    "# Parameters for models\n",
    "imputer_params = {\n",
    "    \"random_state\": random_seed,\n",
    "    \"add_indicator\": False,\n",
    "}\n",
    "rf_params = {\"random_state\": random_seed}\n",
    "pu_params = {\n",
    "    \"n_jobs\": n_jobs,\n",
    "    \"random_state\": random_seed,\n",
    "    **PU_PARAMS\n",
    "}\n",
    "svm_params = {\n",
    "    \"kernel\": \"rbf\",\n",
    "    \"probability\": True,\n",
    "    \"random_state\": random_seed,\n",
    "}\n"
   ]
  },
  {
   "cell_type": "code",
   "execution_count": 4,
   "id": "7ebb39be",
   "metadata": {
    "execution": {
     "iopub.execute_input": "2023-12-19T22:31:00.961400Z",
     "iopub.status.busy": "2023-12-19T22:31:00.960901Z",
     "iopub.status.idle": "2023-12-19T22:31:00.965013Z",
     "shell.execute_reply": "2023-12-19T22:31:00.964534Z"
    },
    "papermill": {
     "duration": 0.011174,
     "end_time": "2023-12-19T22:31:00.966412",
     "exception": false,
     "start_time": "2023-12-19T22:31:00.955238",
     "status": "completed"
    },
    "tags": []
   },
   "outputs": [],
   "source": [
    "# Input/output files\n",
    "if use_extracted_data:\n",
    "    data_dir = \"extracted_data\"\n",
    "else:\n",
    "    data_dir = \"prepared_data\"\n",
    "    check_prepared_data(data_dir, verbose=True)\n",
    "data_filename = os.path.join(data_dir, \"training_data.csv\")\n",
    "\n",
    "output_dir = os.path.join(\"outputs\", \"Americas\")\n",
    "os.makedirs(output_dir, exist_ok=True)\n",
    "\n",
    "pu_dir = os.path.join(output_dir, \"PU\")\n",
    "os.makedirs(pu_dir, exist_ok=True)\n",
    "pu_filename = os.path.join(pu_dir, \"classifier.joblib\")\n",
    "\n",
    "svm_dir = os.path.join(output_dir, \"SVM\")\n",
    "os.makedirs(svm_dir, exist_ok=True)\n",
    "svm_filename = os.path.join(svm_dir, \"classifier.joblib\")\n"
   ]
  },
  {
   "cell_type": "code",
   "execution_count": 5,
   "id": "c0ae54cd",
   "metadata": {
    "execution": {
     "iopub.execute_input": "2023-12-19T22:31:00.977220Z",
     "iopub.status.busy": "2023-12-19T22:31:00.977067Z",
     "iopub.status.idle": "2023-12-19T22:31:01.322745Z",
     "shell.execute_reply": "2023-12-19T22:31:01.322154Z"
    },
    "papermill": {
     "duration": 0.352925,
     "end_time": "2023-12-19T22:31:01.324194",
     "exception": false,
     "start_time": "2023-12-19T22:31:00.971269",
     "status": "completed"
    },
    "tags": []
   },
   "outputs": [
    {
     "name": "stdout",
     "output_type": "stream",
     "text": [
      "region         label     \n",
      "North America  negative       45\n",
      "               positive      168\n",
      "               unlabelled    167\n",
      "South America  negative      979\n",
      "               positive      126\n",
      "               unlabelled    127\n",
      "dtype: int64\n"
     ]
    }
   ],
   "source": [
    "data = pd.read_csv(data_filename)\n",
    "\n",
    "# Restrict training data to the Americas\n",
    "data = data[data[\"region\"].isin({\"North America\", \"South America\"})]\n",
    "\n",
    "# Equal number of positive and unlabelled samples\n",
    "negatives = data[data[\"label\"] == \"negative\"]\n",
    "tmp = data[data[\"label\"] != \"negative\"]\n",
    "tmp_downsampled = downsample_unlabelled(\n",
    "    tmp,\n",
    "    random_state=random_seed,\n",
    ")\n",
    "combined = pd.concat((tmp_downsampled, negatives))\n",
    "cleaned = combined.drop(columns=list(UNUSED_COLUMNS), errors=\"ignore\")\n",
    "cleaned = cleaned.drop(\n",
    "    columns=[\n",
    "        \"sedimentary_bound_water_thickness (m)\",\n",
    "        \"crustal_pore_water_thickness (m)\",\n",
    "        \"crustal_bound_water_thickness (m)\",\n",
    "        \"mantle_lithosphere_water_thickness (m)\",\n",
    "        \"base_lithosphere_water_thickness (m)\",\n",
    "        \"total_water_thickness (m)\",\n",
    "    ],\n",
    "    errors=\"ignore\",\n",
    ")\n",
    "del tmp, tmp_downsampled\n",
    "\n",
    "print(combined.groupby([\"region\", \"label\"]).size())\n"
   ]
  },
  {
   "cell_type": "markdown",
   "id": "f28e8f39",
   "metadata": {
    "papermill": {
     "duration": 0.004845,
     "end_time": "2023-12-19T22:31:01.334420",
     "exception": false,
     "start_time": "2023-12-19T22:31:01.329575",
     "status": "completed"
    },
    "tags": []
   },
   "source": [
    "### Train the PU classifier"
   ]
  },
  {
   "cell_type": "markdown",
   "id": "bd63ddf5",
   "metadata": {
    "papermill": {
     "duration": 0.004959,
     "end_time": "2023-12-19T22:31:01.344443",
     "exception": false,
     "start_time": "2023-12-19T22:31:01.339484",
     "status": "completed"
    },
    "tags": []
   },
   "source": [
    "#### All data"
   ]
  },
  {
   "cell_type": "code",
   "execution_count": 6,
   "id": "55d73ca5",
   "metadata": {
    "execution": {
     "iopub.execute_input": "2023-12-19T22:31:01.355929Z",
     "iopub.status.busy": "2023-12-19T22:31:01.355765Z",
     "iopub.status.idle": "2023-12-19T22:31:06.066679Z",
     "shell.execute_reply": "2023-12-19T22:31:06.066070Z"
    },
    "papermill": {
     "duration": 4.718441,
     "end_time": "2023-12-19T22:31:06.068122",
     "exception": false,
     "start_time": "2023-12-19T22:31:01.349681",
     "status": "completed"
    },
    "tags": []
   },
   "outputs": [
    {
     "name": "stdout",
     "output_type": "stream",
     "text": [
      "Model training time: 0:00:04.703699\n"
     ]
    }
   ],
   "source": [
    "# Wrangle training data\n",
    "train_pu = cleaned[cleaned[\"label\"].isin({\"positive\", \"unlabelled\"})]\n",
    "x_pu = train_pu.drop(columns=\"label\")\n",
    "y_pu = train_pu[\"label\"].replace({\"positive\": 1, \"unlabelled\": 0})\n",
    "\n",
    "# Use a random forest as the base classifier\n",
    "base_model = clone(BASE_MODELS[\"randomforest\"])\n",
    "base_model.set_params(**rf_params)\n",
    "\n",
    "# Impute missing values and scale before training\n",
    "pu_model = make_pipeline(\n",
    "    IterativeImputer(**imputer_params),\n",
    "    RobustScaler(),\n",
    "    BaggingPuClassifier(base_estimator=base_model, **pu_params),\n",
    ")\n",
    "pu_model.set_output(transform=\"pandas\")\n",
    "\n",
    "# Train model\n",
    "t0 = time.time()\n",
    "pu_model.fit(x_pu, y_pu)\n",
    "\n",
    "# Save to file\n",
    "dump(pu_model, pu_filename, compress=True)\n",
    "duration = timedelta(seconds=time.time() - t0)\n",
    "print(f\"Model training time: {duration}\")\n"
   ]
  },
  {
   "cell_type": "markdown",
   "id": "2b3ccf5f",
   "metadata": {
    "papermill": {
     "duration": 0.006083,
     "end_time": "2023-12-19T22:31:06.079026",
     "exception": false,
     "start_time": "2023-12-19T22:31:06.072943",
     "status": "completed"
    },
    "tags": []
   },
   "source": [
    "#### Separate regions"
   ]
  },
  {
   "cell_type": "code",
   "execution_count": 7,
   "id": "680f093d",
   "metadata": {
    "execution": {
     "iopub.execute_input": "2023-12-19T22:31:06.088694Z",
     "iopub.status.busy": "2023-12-19T22:31:06.088530Z",
     "iopub.status.idle": "2023-12-19T22:31:12.665389Z",
     "shell.execute_reply": "2023-12-19T22:31:12.664922Z"
    },
    "papermill": {
     "duration": 6.583659,
     "end_time": "2023-12-19T22:31:12.666952",
     "exception": false,
     "start_time": "2023-12-19T22:31:06.083293",
     "status": "completed"
    },
    "tags": []
   },
   "outputs": [
    {
     "name": "stdout",
     "output_type": "stream",
     "text": [
      "Region: North America\n",
      "label\n",
      "positive      168\n",
      "unlabelled    167\n",
      "dtype: int64\n"
     ]
    },
    {
     "name": "stdout",
     "output_type": "stream",
     "text": [
      "Model training time: 0:00:03.278963\n",
      "\n",
      "Region: South America\n",
      "label\n",
      "positive      126\n",
      "unlabelled    127\n",
      "dtype: int64\n"
     ]
    },
    {
     "name": "stdout",
     "output_type": "stream",
     "text": [
      "Model training time: 0:00:03.275420\n",
      "\n"
     ]
    }
   ],
   "source": [
    "for region, subset in combined.groupby(\"region\"):\n",
    "    region = str(region)\n",
    "    if (subset[\"label\"] == \"positive\").sum() < 50:\n",
    "        print(f\"Skipping region: {region}\")\n",
    "        continue\n",
    "    print(f\"Region: {region}\")\n",
    "    r = \"_\".join(region.lower().split())\n",
    "    output_subset = os.path.join(\n",
    "        pu_dir,\n",
    "        f\"classifier_{r}.joblib\",\n",
    "    )\n",
    "\n",
    "    subset = subset[subset[\"label\"].isin({\"positive\", \"unlabelled\"})]\n",
    "    subset = subset.drop(columns=list(UNUSED_COLUMNS), errors=\"ignore\")\n",
    "    print(subset.groupby(\"label\").size())\n",
    "    x_pu_subset = subset.drop(columns=\"label\")\n",
    "    y_pu_subset = subset[\"label\"].replace({\"positive\": 1, \"unlabelled\": 0})\n",
    "\n",
    "    pu_model_subset = clone(pu_model)\n",
    "    t0 = time.time()\n",
    "    pu_model_subset.fit(x_pu_subset, y_pu_subset)\n",
    "    dump(pu_model, output_subset, compress=True)\n",
    "    duration = timedelta(seconds=time.time() - t0)\n",
    "    print(f\"Model training time: {duration}\")\n",
    "\n",
    "    print(\"\")\n"
   ]
  },
  {
   "cell_type": "markdown",
   "id": "15b4ab2e",
   "metadata": {
    "papermill": {
     "duration": 0.00455,
     "end_time": "2023-12-19T22:31:12.676664",
     "exception": false,
     "start_time": "2023-12-19T22:31:12.672114",
     "status": "completed"
    },
    "tags": []
   },
   "source": [
    "### Train the SVM classifier"
   ]
  },
  {
   "cell_type": "markdown",
   "id": "186b56a9",
   "metadata": {
    "papermill": {
     "duration": 0.004427,
     "end_time": "2023-12-19T22:31:12.685594",
     "exception": false,
     "start_time": "2023-12-19T22:31:12.681167",
     "status": "completed"
    },
    "tags": []
   },
   "source": [
    "#### All data"
   ]
  },
  {
   "cell_type": "code",
   "execution_count": 8,
   "id": "2b4a61e7",
   "metadata": {
    "execution": {
     "iopub.execute_input": "2023-12-19T22:31:12.696003Z",
     "iopub.status.busy": "2023-12-19T22:31:12.695599Z",
     "iopub.status.idle": "2023-12-19T22:31:12.981965Z",
     "shell.execute_reply": "2023-12-19T22:31:12.981514Z"
    },
    "papermill": {
     "duration": 0.292888,
     "end_time": "2023-12-19T22:31:12.982990",
     "exception": false,
     "start_time": "2023-12-19T22:31:12.690102",
     "status": "completed"
    },
    "tags": []
   },
   "outputs": [
    {
     "name": "stdout",
     "output_type": "stream",
     "text": [
      "Model training time: 0:00:00.278715\n"
     ]
    }
   ],
   "source": [
    "# Wrangle training data\n",
    "train_svm = cleaned[cleaned[\"label\"].isin({\"positive\", \"negative\"})]\n",
    "x_svm = train_svm.drop(columns=\"label\")\n",
    "y_svm = train_svm[\"label\"].replace({\"positive\": 1, \"negative\": 0})\n",
    "\n",
    "# Impute missing values and scale before training\n",
    "svm_model = make_pipeline(\n",
    "    IterativeImputer(**imputer_params),\n",
    "    RobustScaler(),\n",
    "    SVC(**svm_params),\n",
    ")\n",
    "svm_model.set_output(transform=\"pandas\")\n",
    "\n",
    "# Train model\n",
    "t0 = time.time()\n",
    "svm_model.fit(x_svm, y_svm)\n",
    "\n",
    "# Save to file\n",
    "dump(svm_model, svm_filename, compress=True)\n",
    "duration = timedelta(seconds=time.time() - t0)\n",
    "print(f\"Model training time: {duration}\")\n"
   ]
  },
  {
   "cell_type": "markdown",
   "id": "e1c42b19",
   "metadata": {
    "papermill": {
     "duration": 0.002719,
     "end_time": "2023-12-19T22:31:12.988966",
     "exception": false,
     "start_time": "2023-12-19T22:31:12.986247",
     "status": "completed"
    },
    "tags": []
   },
   "source": [
    "#### Separate regions"
   ]
  },
  {
   "cell_type": "code",
   "execution_count": 9,
   "id": "4de50175",
   "metadata": {
    "execution": {
     "iopub.execute_input": "2023-12-19T22:31:12.995457Z",
     "iopub.status.busy": "2023-12-19T22:31:12.995207Z",
     "iopub.status.idle": "2023-12-19T22:31:13.200039Z",
     "shell.execute_reply": "2023-12-19T22:31:13.199544Z"
    },
    "papermill": {
     "duration": 0.209367,
     "end_time": "2023-12-19T22:31:13.201044",
     "exception": false,
     "start_time": "2023-12-19T22:31:12.991677",
     "status": "completed"
    },
    "tags": []
   },
   "outputs": [
    {
     "name": "stdout",
     "output_type": "stream",
     "text": [
      "Region: North America\n",
      "label\n",
      "negative     45\n",
      "positive    168\n",
      "dtype: int64\n",
      "Model training time: 0:00:00.053312\n",
      "\n",
      "Region: South America\n",
      "label\n",
      "negative    979\n",
      "positive    126\n",
      "dtype: int64\n"
     ]
    },
    {
     "name": "stdout",
     "output_type": "stream",
     "text": [
      "Model training time: 0:00:00.139014\n",
      "\n"
     ]
    }
   ],
   "source": [
    "for region, subset in combined.groupby(\"region\"):\n",
    "    region = str(region)\n",
    "    if (subset[\"label\"] == \"positive\").sum() < 50:\n",
    "        print(f\"Skipping region: {region}\")\n",
    "        continue\n",
    "    print(f\"Region: {region}\")\n",
    "    r = \"_\".join(region.lower().split())\n",
    "    output_subset = os.path.join(\n",
    "        svm_dir,\n",
    "        f\"classifier_{r}.joblib\",\n",
    "    )\n",
    "\n",
    "    subset = subset[subset[\"label\"].isin({\"positive\", \"negative\"})]\n",
    "    subset = subset.drop(columns=list(UNUSED_COLUMNS), errors=\"ignore\")\n",
    "    print(subset.groupby(\"label\").size())\n",
    "    x_svm_subset = subset.drop(columns=\"label\")\n",
    "    y_svm_subset = subset[\"label\"].replace({\"positive\": 1, \"negative\": 0})\n",
    "\n",
    "    svm_model_subset = clone(svm_model)\n",
    "    t0 = time.time()\n",
    "    svm_model_subset.fit(x_svm_subset, y_svm_subset)\n",
    "    dump(svm_model_subset, output_subset, compress=True)\n",
    "    duration = timedelta(seconds=time.time() - t0)\n",
    "    print(f\"Model training time: {duration}\")\n",
    "\n",
    "    print(\"\")\n"
   ]
  },
  {
   "cell_type": "code",
   "execution_count": null,
   "id": "f744bcac",
   "metadata": {
    "papermill": {
     "duration": 0.009006,
     "end_time": "2023-12-19T22:31:13.214174",
     "exception": false,
     "start_time": "2023-12-19T22:31:13.205168",
     "status": "completed"
    },
    "tags": []
   },
   "outputs": [],
   "source": []
  }
 ],
 "metadata": {
  "kernelspec": {
   "display_name": "datamining",
   "language": "python",
   "name": "python3"
  },
  "language_info": {
   "codemirror_mode": {
    "name": "ipython",
    "version": 3
   },
   "file_extension": ".py",
   "mimetype": "text/x-python",
   "name": "python",
   "nbconvert_exporter": "python",
   "pygments_lexer": "ipython3",
   "version": "3.11.6"
  },
  "papermill": {
   "default_parameters": {},
   "duration": 17.520389,
   "end_time": "2023-12-19T22:31:15.835875",
   "environment_variables": {},
   "exception": null,
   "input_path": "01-create_classifiers.ipynb",
   "output_path": "01-create_classifiers_output.ipynb",
   "parameters": {},
   "start_time": "2023-12-19T22:30:58.315486",
   "version": "2.4.0"
  }
 },
 "nbformat": 4,
 "nbformat_minor": 5
}
