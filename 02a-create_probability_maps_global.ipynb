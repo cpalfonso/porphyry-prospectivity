{
 "cells": [
  {
   "attachments": {},
   "cell_type": "markdown",
   "id": "80263a75",
   "metadata": {
    "papermill": {
     "duration": 0.002635,
     "end_time": "2024-03-13T05:49:58.577302",
     "exception": false,
     "start_time": "2024-03-13T05:49:58.574667",
     "status": "completed"
    },
    "tags": []
   },
   "source": [
    "## Probability grids\n",
    "\n",
    "This notebook creates the time-dependent probability maps and writes them to file (`.nc` format). The notebook `01a-create_classifiers_global.ipynb` must have been run previously."
   ]
  },
  {
   "cell_type": "code",
   "execution_count": 1,
   "id": "9057911b",
   "metadata": {
    "execution": {
     "iopub.execute_input": "2024-03-13T05:49:58.582138Z",
     "iopub.status.busy": "2024-03-13T05:49:58.581886Z",
     "iopub.status.idle": "2024-03-13T05:49:58.588190Z",
     "shell.execute_reply": "2024-03-13T05:49:58.587634Z"
    },
    "papermill": {
     "duration": 0.010618,
     "end_time": "2024-03-13T05:49:58.589919",
     "exception": false,
     "start_time": "2024-03-13T05:49:58.579301",
     "status": "completed"
    },
    "tags": []
   },
   "outputs": [],
   "source": [
    "use_extracted_data = False"
   ]
  },
  {
   "cell_type": "code",
   "execution_count": 2,
   "id": "5303979d",
   "metadata": {
    "execution": {
     "iopub.execute_input": "2024-03-13T05:49:58.594308Z",
     "iopub.status.busy": "2024-03-13T05:49:58.594078Z",
     "iopub.status.idle": "2024-03-13T05:50:02.982506Z",
     "shell.execute_reply": "2024-03-13T05:50:02.981849Z"
    },
    "papermill": {
     "duration": 4.392185,
     "end_time": "2024-03-13T05:50:02.983957",
     "exception": false,
     "start_time": "2024-03-13T05:49:58.591772",
     "status": "completed"
    },
    "tags": []
   },
   "outputs": [],
   "source": [
    "import os\n",
    "import time\n",
    "from datetime import timedelta\n",
    "\n",
    "import dask\n",
    "import dask.dataframe as dd\n",
    "from dask_ml.wrappers import ParallelPostFit\n",
    "from joblib import load\n",
    "\n",
    "from lib.check_files import check_prepared_data\n",
    "from lib.pu import create_probability_grids"
   ]
  },
  {
   "cell_type": "code",
   "execution_count": 3,
   "id": "7c013b25",
   "metadata": {
    "execution": {
     "iopub.execute_input": "2024-03-13T05:50:02.988356Z",
     "iopub.status.busy": "2024-03-13T05:50:02.988009Z",
     "iopub.status.idle": "2024-03-13T05:50:02.993818Z",
     "shell.execute_reply": "2024-03-13T05:50:02.993008Z"
    },
    "papermill": {
     "duration": 0.009492,
     "end_time": "2024-03-13T05:50:02.995247",
     "exception": false,
     "start_time": "2024-03-13T05:50:02.985755",
     "status": "completed"
    },
    "tags": []
   },
   "outputs": [
    {
     "data": {
      "text/plain": [
       "<dask.config.set at 0x1c2143d50>"
      ]
     },
     "execution_count": 3,
     "metadata": {},
     "output_type": "execute_result"
    }
   ],
   "source": [
    "n_jobs = int(os.environ.get(\"N_JOBS\", 8))\n",
    "dask.config.set(num_workers=n_jobs)"
   ]
  },
  {
   "attachments": {},
   "cell_type": "markdown",
   "id": "632c1c44",
   "metadata": {
    "papermill": {
     "duration": 0.001526,
     "end_time": "2024-03-13T05:50:02.998639",
     "exception": false,
     "start_time": "2024-03-13T05:50:02.997113",
     "status": "completed"
    },
    "tags": []
   },
   "source": [
    "### Load input data from file"
   ]
  },
  {
   "cell_type": "code",
   "execution_count": 4,
   "id": "f01bd62d",
   "metadata": {
    "execution": {
     "iopub.execute_input": "2024-03-13T05:50:03.002772Z",
     "iopub.status.busy": "2024-03-13T05:50:03.002560Z",
     "iopub.status.idle": "2024-03-13T05:50:09.119469Z",
     "shell.execute_reply": "2024-03-13T05:50:09.118775Z"
    },
    "papermill": {
     "duration": 6.121063,
     "end_time": "2024-03-13T05:50:09.121208",
     "exception": false,
     "start_time": "2024-03-13T05:50:03.000145",
     "status": "completed"
    },
    "tags": []
   },
   "outputs": [],
   "source": [
    "if use_extracted_data:\n",
    "    data_dir = \"extracted_data\"\n",
    "else:\n",
    "    data_dir = \"prepared_data\"\n",
    "    check_prepared_data(data_dir, verbose=True)\n",
    "data_filename = os.path.join(data_dir, \"grid_data.csv\")\n",
    "training_filename = os.path.join(data_dir, \"training_data_global.csv\")\n",
    "\n",
    "point_data = dd.read_csv(data_filename)\n",
    "df_out = point_data[[\"lon\", \"lat\", \"age (Ma)\"]].compute()\n",
    "regions = list(dd.read_csv(training_filename)[\"region\"].unique())"
   ]
  },
  {
   "attachments": {},
   "cell_type": "markdown",
   "id": "dc314a0d",
   "metadata": {
    "papermill": {
     "duration": 0.001997,
     "end_time": "2024-03-13T05:50:09.125993",
     "exception": false,
     "start_time": "2024-03-13T05:50:09.123996",
     "status": "completed"
    },
    "tags": []
   },
   "source": [
    "### Calculate probabilities"
   ]
  },
  {
   "cell_type": "code",
   "execution_count": 5,
   "id": "5ac247e1",
   "metadata": {
    "execution": {
     "iopub.execute_input": "2024-03-13T05:50:09.131035Z",
     "iopub.status.busy": "2024-03-13T05:50:09.130737Z",
     "iopub.status.idle": "2024-03-13T06:11:10.590499Z",
     "shell.execute_reply": "2024-03-13T06:11:10.589851Z"
    },
    "papermill": {
     "duration": 1261.46606,
     "end_time": "2024-03-13T06:11:10.593924",
     "exception": false,
     "start_time": "2024-03-13T05:50:09.127864",
     "status": "completed"
    },
    "tags": []
   },
   "outputs": [
    {
     "name": "stdout",
     "output_type": "stream",
     "text": [
      "Calculating probabilities for PU model complete (region: global; duration: 0:03:15.843744)\n"
     ]
    },
    {
     "name": "stdout",
     "output_type": "stream",
     "text": [
      "Calculating probabilities for PU model complete (region: North America; duration: 0:02:54.157393)\n"
     ]
    },
    {
     "name": "stdout",
     "output_type": "stream",
     "text": [
      "Calculating probabilities for PU model complete (region: South America; duration: 0:03:06.943133)\n"
     ]
    },
    {
     "name": "stdout",
     "output_type": "stream",
     "text": [
      "Calculating probabilities for PU model complete (region: Southeast Asia; duration: 0:03:10.606686)\n"
     ]
    },
    {
     "name": "stdout",
     "output_type": "stream",
     "text": [
      "Calculating probabilities for PU model complete (region: Tethys; duration: 0:03:10.765249)\n"
     ]
    },
    {
     "name": "stdout",
     "output_type": "stream",
     "text": [
      "Calculating probabilities for SVM model complete (region: global; duration: 0:01:58.452027)\n"
     ]
    },
    {
     "name": "stdout",
     "output_type": "stream",
     "text": [
      "Calculating probabilities for SVM model complete (region: North America; duration: 0:01:33.380360)\n"
     ]
    },
    {
     "name": "stdout",
     "output_type": "stream",
     "text": [
      "Calculating probabilities for SVM model complete (region: South America; duration: 0:01:51.301283)\n"
     ]
    }
   ],
   "source": [
    "output_dir = os.path.join(\"outputs\", \"global\")\n",
    "\n",
    "for algorithm in (\"PU\", \"SVM\"):\n",
    "    t0 = time.time()\n",
    "\n",
    "    subdir = os.path.join(output_dir, algorithm)\n",
    "    model_filename = os.path.join(subdir, f\"classifier.joblib\")\n",
    "    probabilities_filename = os.path.join(\n",
    "        subdir,\n",
    "        \"grid_probabilities.csv\",\n",
    "    )\n",
    "    model = load(model_filename)\n",
    "\n",
    "    # Set model n_jobs if possible\n",
    "    # (let dask handle parallelism at this stage)\n",
    "    try:\n",
    "        model[-1].set_params(n_jobs=1)\n",
    "    except ValueError:\n",
    "        pass\n",
    "    model_parallel = ParallelPostFit(model)\n",
    "\n",
    "    point_x = point_data[model.feature_names_in_]\n",
    "    p = model_parallel.predict_proba(point_x)[:, 1].ravel().compute()\n",
    "    probabilities = df_out.copy()\n",
    "    probabilities[\"probability\"] = p\n",
    "    del p\n",
    "    probabilities.to_csv(probabilities_filename, index=False)\n",
    "    del probabilities, model\n",
    "    duration = timedelta(seconds=time.time() - t0)\n",
    "    print(\n",
    "        f\"Calculating probabilities for {algorithm} model complete\",\n",
    "        f\"(region: global; duration: {duration})\",\n",
    "    )\n",
    "\n",
    "    for region in regions:\n",
    "        region_code = \"_\".join(region.lower().split())\n",
    "        model_filename = os.path.join(\n",
    "            subdir,\n",
    "            f\"classifier_{region_code}.joblib\",\n",
    "        )\n",
    "        if not os.path.isfile(model_filename):\n",
    "            continue\n",
    "        t0 = time.time()\n",
    "\n",
    "        probabilities_filename = os.path.join(\n",
    "            subdir,\n",
    "            f\"grid_probabilities_{region_code}.csv\",\n",
    "        )\n",
    "        model = load(model_filename)\n",
    "\n",
    "        try:\n",
    "            model[-1].set_params(n_jobs=1)\n",
    "        except ValueError:\n",
    "            pass\n",
    "        model_parallel = ParallelPostFit(model)\n",
    "\n",
    "        point_x = point_data[model.feature_names_in_]\n",
    "        p = model_parallel.predict_proba(point_x)[:, 1].ravel().compute()\n",
    "        probabilities = df_out.copy()\n",
    "        probabilities[\"probability\"] = p\n",
    "        del p\n",
    "        probabilities.to_csv(probabilities_filename, index=False)\n",
    "        del probabilities, model\n",
    "        duration = timedelta(seconds=time.time() - t0)\n",
    "        print(\n",
    "            f\"Calculating probabilities for {algorithm} model complete\",\n",
    "            f\"(region: {region}; duration: {duration})\",\n",
    "        )\n",
    "\n",
    "del point_data\n"
   ]
  },
  {
   "cell_type": "markdown",
   "id": "e94d2cc2",
   "metadata": {
    "papermill": {
     "duration": 0.002345,
     "end_time": "2024-03-13T06:11:10.598691",
     "exception": false,
     "start_time": "2024-03-13T06:11:10.596346",
     "status": "completed"
    },
    "tags": []
   },
   "source": [
    "### Create probability maps"
   ]
  },
  {
   "cell_type": "code",
   "execution_count": 6,
   "id": "23b349d7",
   "metadata": {
    "execution": {
     "iopub.execute_input": "2024-03-13T06:11:10.604296Z",
     "iopub.status.busy": "2024-03-13T06:11:10.604055Z",
     "iopub.status.idle": "2024-03-13T07:57:21.512286Z",
     "shell.execute_reply": "2024-03-13T07:57:21.511544Z"
    },
    "papermill": {
     "duration": 6370.916216,
     "end_time": "2024-03-13T07:57:21.517145",
     "exception": false,
     "start_time": "2024-03-13T06:11:10.600929",
     "status": "completed"
    },
    "tags": []
   },
   "outputs": [
    {
     "name": "stdout",
     "output_type": "stream",
     "text": [
      "Creating grids for PU model complete (region: global; duration: 0:13:11.713105)\n"
     ]
    },
    {
     "name": "stdout",
     "output_type": "stream",
     "text": [
      "Creating grids for PU model complete (region: North America; duration: 0:13:21.995436)\n"
     ]
    },
    {
     "name": "stdout",
     "output_type": "stream",
     "text": [
      "Creating grids for PU model complete (region: South America; duration: 0:13:25.114693)\n"
     ]
    },
    {
     "name": "stdout",
     "output_type": "stream",
     "text": [
      "Creating grids for PU model complete (region: Southeast Asia; duration: 0:13:07.798919)\n"
     ]
    },
    {
     "name": "stdout",
     "output_type": "stream",
     "text": [
      "Creating grids for PU model complete (region: Tethys; duration: 0:13:06.822083)\n"
     ]
    },
    {
     "name": "stdout",
     "output_type": "stream",
     "text": [
      "Creating grids for SVM model complete (region: global; duration: 0:13:29.665323)\n"
     ]
    },
    {
     "name": "stdout",
     "output_type": "stream",
     "text": [
      "Creating grids for SVM model complete (region: North America; duration: 0:13:23.600845)\n"
     ]
    },
    {
     "name": "stdout",
     "output_type": "stream",
     "text": [
      "Creating grids for SVM model complete (region: South America; duration: 0:13:04.187936)\n"
     ]
    }
   ],
   "source": [
    "for algorithm in (\"PU\", \"SVM\"):\n",
    "    t0 = time.time()\n",
    "\n",
    "    subdir = os.path.join(output_dir, algorithm)\n",
    "    probabilities_filename = os.path.join(\n",
    "        subdir,\n",
    "        \"grid_probabilities.csv\",\n",
    "    )\n",
    "    grid_output_dir = os.path.join(\n",
    "        subdir,\n",
    "        \"probability_grids\",\n",
    "    )\n",
    "    os.makedirs(grid_output_dir, exist_ok=True)\n",
    "\n",
    "    create_probability_grids(\n",
    "        data=probabilities_filename,\n",
    "        output_dir=grid_output_dir,\n",
    "        threads=n_jobs,\n",
    "        extent=(-180, 180, -90, 90),\n",
    "    )\n",
    "    duration = timedelta(seconds=time.time() - t0)\n",
    "    print(\n",
    "        f\"Creating grids for {algorithm} model complete\",\n",
    "        f\"(region: global; duration: {duration})\",\n",
    "    )\n",
    "\n",
    "    for region in regions:\n",
    "        region_code = \"_\".join(region.lower().split())\n",
    "        subdir = os.path.join(output_dir, algorithm)\n",
    "        probabilities_filename = os.path.join(\n",
    "            subdir,\n",
    "            f\"grid_probabilities_{region_code}.csv\",\n",
    "        )\n",
    "        if not os.path.isfile(probabilities_filename):\n",
    "            continue\n",
    "        t0 = time.time()\n",
    "\n",
    "        grid_output_dir = os.path.join(\n",
    "            subdir,\n",
    "            f\"probability_grids_{region_code}\",\n",
    "        )\n",
    "        os.makedirs(grid_output_dir, exist_ok=True)\n",
    "\n",
    "        create_probability_grids(\n",
    "            data=probabilities_filename,\n",
    "            output_dir=grid_output_dir,\n",
    "            threads=n_jobs,\n",
    "            extent=(-180, 180, -90, 90),\n",
    "        )\n",
    "        duration = timedelta(seconds=time.time() - t0)\n",
    "        print(\n",
    "            f\"Creating grids for {algorithm} model complete\",\n",
    "            f\"(region: {region}; duration: {duration})\",\n",
    "        )"
   ]
  },
  {
   "cell_type": "code",
   "execution_count": null,
   "id": "d779a208",
   "metadata": {
    "papermill": {
     "duration": 0.002769,
     "end_time": "2024-03-13T07:57:21.523014",
     "exception": false,
     "start_time": "2024-03-13T07:57:21.520245",
     "status": "completed"
    },
    "tags": []
   },
   "outputs": [],
   "source": []
  }
 ],
 "metadata": {
  "kernelspec": {
   "display_name": "datamining",
   "language": "python",
   "name": "python3"
  },
  "language_info": {
   "codemirror_mode": {
    "name": "ipython",
    "version": 3
   },
   "file_extension": ".py",
   "mimetype": "text/x-python",
   "name": "python",
   "nbconvert_exporter": "python",
   "pygments_lexer": "ipython3",
   "version": "3.11.7"
  },
  "papermill": {
   "default_parameters": {},
   "duration": 7647.065137,
   "end_time": "2024-03-13T07:57:24.563805",
   "environment_variables": {},
   "exception": null,
   "input_path": "02a-create_probability_maps_global.ipynb",
   "output_path": "02a-create_probability_maps_global.ipynb",
   "parameters": {},
   "start_time": "2024-03-13T05:49:57.498668",
   "version": "2.4.0"
  }
 },
 "nbformat": 4,
 "nbformat_minor": 5
}