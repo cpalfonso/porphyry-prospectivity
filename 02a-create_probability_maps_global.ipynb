{
 "cells": [
  {
   "attachments": {},
   "cell_type": "markdown",
   "id": "80263a75",
   "metadata": {
    "papermill": {
     "duration": 0.005388,
     "end_time": "2024-06-20T13:11:42.410136",
     "exception": false,
     "start_time": "2024-06-20T13:11:42.404748",
     "status": "completed"
    },
    "tags": []
   },
   "source": [
    "# Probability grids\n",
    "\n",
    "This notebook creates the time-dependent probability maps and writes them to file (`.nc` format), using the models trained in the previous notebook (`01a-create_classifiers_global.ipynb`). This notebook must have been run previously."
   ]
  },
  {
   "cell_type": "markdown",
   "id": "36e80d65",
   "metadata": {
    "papermill": {
     "duration": 0.003109,
     "end_time": "2024-06-20T13:11:42.416704",
     "exception": false,
     "start_time": "2024-06-20T13:11:42.413595",
     "status": "completed"
    },
    "tags": []
   },
   "source": [
    "## Notebook options\n",
    "\n",
    "These cells set some of the important variables and definitions used throughout the notebook."
   ]
  },
  {
   "cell_type": "code",
   "execution_count": 1,
   "id": "9057911b",
   "metadata": {
    "execution": {
     "iopub.execute_input": "2024-06-20T13:11:42.425879Z",
     "iopub.status.busy": "2024-06-20T13:11:42.425569Z",
     "iopub.status.idle": "2024-06-20T13:11:42.432684Z",
     "shell.execute_reply": "2024-06-20T13:11:42.432001Z"
    },
    "papermill": {
     "duration": 0.01386,
     "end_time": "2024-06-20T13:11:42.434437",
     "exception": false,
     "start_time": "2024-06-20T13:11:42.420577",
     "status": "completed"
    },
    "tags": []
   },
   "outputs": [],
   "source": [
    "# If True, use training data extracted in notebook 00c\n",
    "# Else, use pre-prepared training data downloaded from Zenodo\n",
    "use_extracted_data = True\n",
    "\n",
    "# Number of processes to use\n",
    "n_jobs = 4\n",
    "\n",
    "# Overwrite any existing output files\n",
    "overwrite = True\n",
    "\n",
    "# Control verbosity level of logging output\n",
    "verbose = True"
   ]
  },
  {
   "cell_type": "markdown",
   "id": "6bcc106f",
   "metadata": {
    "papermill": {
     "duration": 0.002556,
     "end_time": "2024-06-20T13:11:42.440189",
     "exception": false,
     "start_time": "2024-06-20T13:11:42.437633",
     "status": "completed"
    },
    "tags": []
   },
   "source": [
    "These values will usually not need to be modified:"
   ]
  },
  {
   "cell_type": "code",
   "execution_count": 2,
   "id": "40a511d9",
   "metadata": {
    "execution": {
     "iopub.execute_input": "2024-06-20T13:11:42.446262Z",
     "iopub.status.busy": "2024-06-20T13:11:42.446016Z",
     "iopub.status.idle": "2024-06-20T13:11:42.499967Z",
     "shell.execute_reply": "2024-06-20T13:11:42.499393Z"
    },
    "papermill": {
     "duration": 0.0588,
     "end_time": "2024-06-20T13:11:42.501513",
     "exception": false,
     "start_time": "2024-06-20T13:11:42.442713",
     "status": "completed"
    },
    "tags": []
   },
   "outputs": [],
   "source": [
    "import os\n",
    "\n",
    "from lib.check_files import check_prepared_data\n",
    "\n",
    "if use_extracted_data:\n",
    "    data_dir = \"extracted_data\"\n",
    "else:\n",
    "    data_dir = check_prepared_data(\"prepared_data\", verbose=True)\n",
    "\n",
    "output_dir = \"outputs\""
   ]
  },
  {
   "cell_type": "markdown",
   "id": "2efa9d67",
   "metadata": {
    "papermill": {
     "duration": 0.002663,
     "end_time": "2024-06-20T13:11:42.507362",
     "exception": false,
     "start_time": "2024-06-20T13:11:42.504699",
     "status": "completed"
    },
    "tags": []
   },
   "source": [
    "If any of the following exist as environment variables, they will replace the values defined above:"
   ]
  },
  {
   "cell_type": "code",
   "execution_count": 3,
   "id": "f2d69c31",
   "metadata": {
    "execution": {
     "iopub.execute_input": "2024-06-20T13:11:42.512658Z",
     "iopub.status.busy": "2024-06-20T13:11:42.512384Z",
     "iopub.status.idle": "2024-06-20T13:11:42.516237Z",
     "shell.execute_reply": "2024-06-20T13:11:42.515803Z"
    },
    "papermill": {
     "duration": 0.008043,
     "end_time": "2024-06-20T13:11:42.517722",
     "exception": false,
     "start_time": "2024-06-20T13:11:42.509679",
     "status": "completed"
    },
    "tags": []
   },
   "outputs": [],
   "source": [
    "n_jobs = int(os.environ.get(\"N_JOBS\", n_jobs))\n",
    "overwrite = bool(int(os.environ.get(\"OVERWRITE\", overwrite)))\n",
    "verbose = bool(int(os.environ.get(\"VERBOSE\", verbose)))\n",
    "output_dir = os.environ.get(\"OUTPUT_DIR\", output_dir)"
   ]
  },
  {
   "cell_type": "markdown",
   "id": "544fcfcf",
   "metadata": {
    "papermill": {
     "duration": 0.00199,
     "end_time": "2024-06-20T13:11:42.521956",
     "exception": false,
     "start_time": "2024-06-20T13:11:42.519966",
     "status": "completed"
    },
    "tags": []
   },
   "source": [
    "## Notebook setup\n",
    "\n",
    "Imports, definitions, etc."
   ]
  },
  {
   "cell_type": "markdown",
   "id": "dca6800a",
   "metadata": {
    "papermill": {
     "duration": 0.003125,
     "end_time": "2024-06-20T13:11:42.527035",
     "exception": false,
     "start_time": "2024-06-20T13:11:42.523910",
     "status": "completed"
    },
    "tags": []
   },
   "source": [
    "### Imports"
   ]
  },
  {
   "cell_type": "code",
   "execution_count": 4,
   "id": "5303979d",
   "metadata": {
    "execution": {
     "iopub.execute_input": "2024-06-20T13:11:42.532676Z",
     "iopub.status.busy": "2024-06-20T13:11:42.532375Z",
     "iopub.status.idle": "2024-06-20T13:11:46.516065Z",
     "shell.execute_reply": "2024-06-20T13:11:46.515469Z"
    },
    "papermill": {
     "duration": 3.988367,
     "end_time": "2024-06-20T13:11:46.517604",
     "exception": false,
     "start_time": "2024-06-20T13:11:42.529237",
     "status": "completed"
    },
    "tags": []
   },
   "outputs": [],
   "source": [
    "import time\n",
    "from datetime import timedelta\n",
    "\n",
    "import dask\n",
    "import dask.dataframe as dd\n",
    "from dask_ml.wrappers import ParallelPostFit\n",
    "from joblib import load\n",
    "\n",
    "from lib.pu import create_probability_grids"
   ]
  },
  {
   "cell_type": "markdown",
   "id": "ae9cc890",
   "metadata": {
    "papermill": {
     "duration": 0.00326,
     "end_time": "2024-06-20T13:11:46.523156",
     "exception": false,
     "start_time": "2024-06-20T13:11:46.519896",
     "status": "completed"
    },
    "tags": []
   },
   "source": [
    "We will use `dask-ml` to handle parallelism at this stage:"
   ]
  },
  {
   "cell_type": "code",
   "execution_count": 5,
   "id": "7342050e",
   "metadata": {
    "execution": {
     "iopub.execute_input": "2024-06-20T13:11:46.532021Z",
     "iopub.status.busy": "2024-06-20T13:11:46.531524Z",
     "iopub.status.idle": "2024-06-20T13:11:46.538064Z",
     "shell.execute_reply": "2024-06-20T13:11:46.537563Z"
    },
    "papermill": {
     "duration": 0.012046,
     "end_time": "2024-06-20T13:11:46.539644",
     "exception": false,
     "start_time": "2024-06-20T13:11:46.527598",
     "status": "completed"
    },
    "tags": []
   },
   "outputs": [
    {
     "data": {
      "text/plain": [
       "<dask.config.set at 0x17ec54050>"
      ]
     },
     "execution_count": 5,
     "metadata": {},
     "output_type": "execute_result"
    }
   ],
   "source": [
    "dask.config.set(num_workers=n_jobs)"
   ]
  },
  {
   "attachments": {},
   "cell_type": "markdown",
   "id": "632c1c44",
   "metadata": {
    "papermill": {
     "duration": 0.002632,
     "end_time": "2024-06-20T13:11:46.545326",
     "exception": false,
     "start_time": "2024-06-20T13:11:46.542694",
     "status": "completed"
    },
    "tags": []
   },
   "source": [
    "### Input and output files"
   ]
  },
  {
   "cell_type": "code",
   "execution_count": 6,
   "id": "f01bd62d",
   "metadata": {
    "execution": {
     "iopub.execute_input": "2024-06-20T13:11:46.552971Z",
     "iopub.status.busy": "2024-06-20T13:11:46.552723Z",
     "iopub.status.idle": "2024-06-20T13:11:51.656725Z",
     "shell.execute_reply": "2024-06-20T13:11:51.656029Z"
    },
    "papermill": {
     "duration": 5.109225,
     "end_time": "2024-06-20T13:11:51.658350",
     "exception": false,
     "start_time": "2024-06-20T13:11:46.549125",
     "status": "completed"
    },
    "tags": []
   },
   "outputs": [],
   "source": [
    "data_filename = os.path.join(data_dir, \"grid_data.csv\")\n",
    "training_filename = os.path.join(data_dir, \"training_data_global.csv\")\n",
    "\n",
    "point_data = dd.read_csv(data_filename)\n",
    "df_out = point_data[[\"lon\", \"lat\", \"present_lon\", \"present_lat\", \"age (Ma)\"]].compute()\n",
    "regions = list(dd.read_csv(training_filename)[\"region\"].unique())\n",
    "\n",
    "output_dir = os.path.join(output_dir, \"global\")"
   ]
  },
  {
   "attachments": {},
   "cell_type": "markdown",
   "id": "dc314a0d",
   "metadata": {
    "papermill": {
     "duration": 0.002594,
     "end_time": "2024-06-20T13:11:51.663886",
     "exception": false,
     "start_time": "2024-06-20T13:11:51.661292",
     "status": "completed"
    },
    "tags": []
   },
   "source": [
    "## Calculate probabilities\n",
    "\n",
    "Deposit probability will be calculated for the gridded data and written to a CSV file."
   ]
  },
  {
   "cell_type": "code",
   "execution_count": 7,
   "id": "5ac247e1",
   "metadata": {
    "execution": {
     "iopub.execute_input": "2024-06-20T13:11:51.672501Z",
     "iopub.status.busy": "2024-06-20T13:11:51.672225Z",
     "iopub.status.idle": "2024-06-20T13:28:57.190265Z",
     "shell.execute_reply": "2024-06-20T13:28:57.189684Z"
    },
    "papermill": {
     "duration": 1025.527601,
     "end_time": "2024-06-20T13:28:57.193992",
     "exception": false,
     "start_time": "2024-06-20T13:11:51.666391",
     "status": "completed"
    },
    "tags": []
   },
   "outputs": [
    {
     "name": "stdout",
     "output_type": "stream",
     "text": [
      "Calculating probabilities for PU model complete (region: global; duration: 0:02:32.916897)\n"
     ]
    },
    {
     "name": "stdout",
     "output_type": "stream",
     "text": [
      "Calculating probabilities for PU model complete (region: North America; duration: 0:02:20.352261)\n"
     ]
    },
    {
     "name": "stdout",
     "output_type": "stream",
     "text": [
      "Calculating probabilities for PU model complete (region: South America; duration: 0:02:26.709014)\n"
     ]
    },
    {
     "name": "stdout",
     "output_type": "stream",
     "text": [
      "Calculating probabilities for PU model complete (region: Southeast Asia; duration: 0:02:26.215107)\n"
     ]
    },
    {
     "name": "stdout",
     "output_type": "stream",
     "text": [
      "Calculating probabilities for PU model complete (region: Tethys; duration: 0:02:23.249408)\n"
     ]
    },
    {
     "name": "stdout",
     "output_type": "stream",
     "text": [
      "Calculating probabilities for SVM model complete (region: global; duration: 0:01:40.374387)\n"
     ]
    },
    {
     "name": "stdout",
     "output_type": "stream",
     "text": [
      "Calculating probabilities for SVM model complete (region: North America; duration: 0:01:34.602675)\n"
     ]
    },
    {
     "name": "stdout",
     "output_type": "stream",
     "text": [
      "Calculating probabilities for SVM model complete (region: South America; duration: 0:01:41.087536)\n"
     ]
    }
   ],
   "source": [
    "for algorithm in (\"PU\", \"SVM\"):\n",
    "    t0 = time.time()\n",
    "\n",
    "    subdir = os.path.join(output_dir, algorithm)\n",
    "    model_filename = os.path.join(subdir, f\"classifier.joblib\")\n",
    "    probabilities_filename = os.path.join(\n",
    "        subdir,\n",
    "        \"grid_probabilities.csv\",\n",
    "    )\n",
    "    model = load(model_filename)\n",
    "\n",
    "    # Set model n_jobs if possible\n",
    "    # (let dask handle parallelism at this stage)\n",
    "    try:\n",
    "        model[-1].set_params(n_jobs=1)\n",
    "    except ValueError:\n",
    "        pass\n",
    "    model_parallel = ParallelPostFit(model)\n",
    "\n",
    "    point_x = point_data[model.feature_names_in_]\n",
    "    p = model_parallel.predict_proba(point_x)[:, 1].ravel().compute()\n",
    "    probabilities = df_out.copy()\n",
    "    probabilities[\"probability\"] = p\n",
    "    del p\n",
    "    probabilities.to_csv(probabilities_filename, index=False)\n",
    "    del probabilities, model\n",
    "    duration = timedelta(seconds=time.time() - t0)\n",
    "    if verbose:\n",
    "        print(\n",
    "            f\"Calculating probabilities for {algorithm} model complete\",\n",
    "            f\"(region: global; duration: {duration})\",\n",
    "        )\n",
    "\n",
    "    for region in regions:\n",
    "        region_code = \"_\".join(region.lower().split())\n",
    "        model_filename = os.path.join(\n",
    "            subdir,\n",
    "            f\"classifier_{region_code}.joblib\",\n",
    "        )\n",
    "        if not os.path.isfile(model_filename):\n",
    "            continue\n",
    "        t0 = time.time()\n",
    "\n",
    "        probabilities_filename = os.path.join(\n",
    "            subdir,\n",
    "            f\"grid_probabilities_{region_code}.csv\",\n",
    "        )\n",
    "        model = load(model_filename)\n",
    "\n",
    "        try:\n",
    "            model[-1].set_params(n_jobs=1)\n",
    "        except ValueError:\n",
    "            pass\n",
    "        model_parallel = ParallelPostFit(model)\n",
    "\n",
    "        point_x = point_data[model.feature_names_in_]\n",
    "        p = model_parallel.predict_proba(point_x)[:, 1].ravel().compute()\n",
    "        probabilities = df_out.copy()\n",
    "        probabilities[\"probability\"] = p\n",
    "        del p\n",
    "        probabilities.to_csv(probabilities_filename, index=False)\n",
    "        del probabilities, model\n",
    "        duration = timedelta(seconds=time.time() - t0)\n",
    "        if verbose:\n",
    "            print(\n",
    "                f\"Calculating probabilities for {algorithm} model complete\",\n",
    "                f\"(region: {region}; duration: {duration})\",\n",
    "            )\n",
    "\n",
    "del point_data"
   ]
  },
  {
   "cell_type": "markdown",
   "id": "e94d2cc2",
   "metadata": {
    "papermill": {
     "duration": 0.002924,
     "end_time": "2024-06-20T13:28:57.199964",
     "exception": false,
     "start_time": "2024-06-20T13:28:57.197040",
     "status": "completed"
    },
    "tags": []
   },
   "source": [
    "## Create probability maps\n",
    "\n",
    "The probabilities calculated in the previous section will now be written to one netCDF file per time step:"
   ]
  },
  {
   "cell_type": "code",
   "execution_count": 8,
   "id": "23b349d7",
   "metadata": {
    "execution": {
     "iopub.execute_input": "2024-06-20T13:28:57.206635Z",
     "iopub.status.busy": "2024-06-20T13:28:57.206397Z",
     "iopub.status.idle": "2024-06-20T15:18:02.328326Z",
     "shell.execute_reply": "2024-06-20T15:18:02.327831Z"
    },
    "papermill": {
     "duration": 6545.129384,
     "end_time": "2024-06-20T15:18:02.332225",
     "exception": false,
     "start_time": "2024-06-20T13:28:57.202841",
     "status": "completed"
    },
    "tags": []
   },
   "outputs": [
    {
     "name": "stdout",
     "output_type": "stream",
     "text": [
      "Creating grids for PU model complete (region: global; duration: 0:13:51.905821)\n"
     ]
    },
    {
     "name": "stdout",
     "output_type": "stream",
     "text": [
      "Creating grids for PU model complete (region: North America; duration: 0:13:37.224705)\n"
     ]
    },
    {
     "name": "stdout",
     "output_type": "stream",
     "text": [
      "Creating grids for PU model complete (region: South America; duration: 0:13:32.963336)\n"
     ]
    },
    {
     "name": "stdout",
     "output_type": "stream",
     "text": [
      "Creating grids for PU model complete (region: Southeast Asia; duration: 0:13:36.328199)\n"
     ]
    },
    {
     "name": "stdout",
     "output_type": "stream",
     "text": [
      "Creating grids for PU model complete (region: Tethys; duration: 0:13:40.561762)\n"
     ]
    },
    {
     "name": "stdout",
     "output_type": "stream",
     "text": [
      "Creating grids for SVM model complete (region: global; duration: 0:13:30.629772)\n"
     ]
    },
    {
     "name": "stdout",
     "output_type": "stream",
     "text": [
      "Creating grids for SVM model complete (region: North America; duration: 0:13:28.987141)\n"
     ]
    },
    {
     "name": "stdout",
     "output_type": "stream",
     "text": [
      "Creating grids for SVM model complete (region: South America; duration: 0:13:46.512445)\n"
     ]
    }
   ],
   "source": [
    "for algorithm in (\"PU\", \"SVM\"):\n",
    "    t0 = time.time()\n",
    "\n",
    "    subdir = os.path.join(output_dir, algorithm)\n",
    "    probabilities_filename = os.path.join(\n",
    "        subdir,\n",
    "        \"grid_probabilities.csv\",\n",
    "    )\n",
    "    grid_output_dir = os.path.join(\n",
    "        subdir,\n",
    "        \"probability_grids\",\n",
    "    )\n",
    "    os.makedirs(grid_output_dir, exist_ok=True)\n",
    "\n",
    "    create_probability_grids(\n",
    "        data=probabilities_filename,\n",
    "        output_dir=grid_output_dir,\n",
    "        threads=n_jobs,\n",
    "        extent=(-180, 180, -90, 90),\n",
    "    )\n",
    "    duration = timedelta(seconds=time.time() - t0)\n",
    "    if verbose:\n",
    "        print(\n",
    "            f\"Creating grids for {algorithm} model complete\",\n",
    "            f\"(region: global; duration: {duration})\",\n",
    "        )\n",
    "\n",
    "    for region in regions:\n",
    "        region_code = \"_\".join(region.lower().split())\n",
    "        subdir = os.path.join(output_dir, algorithm)\n",
    "        probabilities_filename = os.path.join(\n",
    "            subdir,\n",
    "            f\"grid_probabilities_{region_code}.csv\",\n",
    "        )\n",
    "        if not os.path.isfile(probabilities_filename):\n",
    "            continue\n",
    "        t0 = time.time()\n",
    "\n",
    "        grid_output_dir = os.path.join(\n",
    "            subdir,\n",
    "            f\"probability_grids_{region_code}\",\n",
    "        )\n",
    "        os.makedirs(grid_output_dir, exist_ok=True)\n",
    "\n",
    "        create_probability_grids(\n",
    "            data=probabilities_filename,\n",
    "            output_dir=grid_output_dir,\n",
    "            threads=n_jobs,\n",
    "            extent=(-180, 180, -90, 90),\n",
    "        )\n",
    "        duration = timedelta(seconds=time.time() - t0)\n",
    "        if verbose:\n",
    "            print(\n",
    "                f\"Creating grids for {algorithm} model complete\",\n",
    "                f\"(region: {region}; duration: {duration})\",\n",
    "            )"
   ]
  },
  {
   "cell_type": "code",
   "execution_count": null,
   "id": "d779a208",
   "metadata": {
    "papermill": {
     "duration": 0.003097,
     "end_time": "2024-06-20T15:18:02.338624",
     "exception": false,
     "start_time": "2024-06-20T15:18:02.335527",
     "status": "completed"
    },
    "tags": []
   },
   "outputs": [],
   "source": []
  }
 ],
 "metadata": {
  "kernelspec": {
   "display_name": "datamining",
   "language": "python",
   "name": "python3"
  },
  "language_info": {
   "codemirror_mode": {
    "name": "ipython",
    "version": 3
   },
   "file_extension": ".py",
   "mimetype": "text/x-python",
   "name": "python",
   "nbconvert_exporter": "python",
   "pygments_lexer": "ipython3",
   "version": "3.11.9"
  },
  "papermill": {
   "default_parameters": {},
   "duration": 7583.427016,
   "end_time": "2024-06-20T15:18:05.166996",
   "environment_variables": {},
   "exception": null,
   "input_path": "02a-create_probability_maps_global.ipynb",
   "output_path": "02a-create_probability_maps_global.ipynb",
   "parameters": {},
   "start_time": "2024-06-20T13:11:41.739980",
   "version": "2.4.0"
  }
 },
 "nbformat": 4,
 "nbformat_minor": 5
}