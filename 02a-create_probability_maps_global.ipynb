{
 "cells": [
  {
   "attachments": {},
   "cell_type": "markdown",
   "id": "80263a75",
   "metadata": {
    "papermill": {
     "duration": 0.005124,
     "end_time": "2024-06-14T14:31:20.052530",
     "exception": false,
     "start_time": "2024-06-14T14:31:20.047406",
     "status": "completed"
    },
    "tags": []
   },
   "source": [
    "# Probability grids\n",
    "\n",
    "This notebook creates the time-dependent probability maps and writes them to file (`.nc` format), using the models trained in the previous notebook (`01a-create_classifiers_global.ipynb`). This notebook must have been run previously."
   ]
  },
  {
   "cell_type": "markdown",
   "id": "36e80d65",
   "metadata": {
    "papermill": {
     "duration": 0.002797,
     "end_time": "2024-06-14T14:31:20.058557",
     "exception": false,
     "start_time": "2024-06-14T14:31:20.055760",
     "status": "completed"
    },
    "tags": []
   },
   "source": [
    "## Notebook options\n",
    "\n",
    "These cells set some of the important variables and definitions used throughout the notebook."
   ]
  },
  {
   "cell_type": "code",
   "execution_count": 1,
   "id": "9057911b",
   "metadata": {
    "execution": {
     "iopub.execute_input": "2024-06-14T14:31:20.064789Z",
     "iopub.status.busy": "2024-06-14T14:31:20.064523Z",
     "iopub.status.idle": "2024-06-14T14:31:20.070938Z",
     "shell.execute_reply": "2024-06-14T14:31:20.070414Z"
    },
    "papermill": {
     "duration": 0.011595,
     "end_time": "2024-06-14T14:31:20.072626",
     "exception": false,
     "start_time": "2024-06-14T14:31:20.061031",
     "status": "completed"
    },
    "tags": []
   },
   "outputs": [],
   "source": [
    "# If True, use training data extracted in notebook 00c\n",
    "# Else, use pre-prepared training data downloaded from Zenodo\n",
    "use_extracted_data = True\n",
    "\n",
    "# Number of processes to use\n",
    "n_jobs = 4\n",
    "\n",
    "# Overwrite any existing output files\n",
    "overwrite = True\n",
    "\n",
    "# Control verbosity level of logging output\n",
    "verbose = True"
   ]
  },
  {
   "cell_type": "markdown",
   "id": "6bcc106f",
   "metadata": {
    "papermill": {
     "duration": 0.002503,
     "end_time": "2024-06-14T14:31:20.077949",
     "exception": false,
     "start_time": "2024-06-14T14:31:20.075446",
     "status": "completed"
    },
    "tags": []
   },
   "source": [
    "These values will usually not need to be modified:"
   ]
  },
  {
   "cell_type": "code",
   "execution_count": 2,
   "id": "40a511d9",
   "metadata": {
    "execution": {
     "iopub.execute_input": "2024-06-14T14:31:20.083996Z",
     "iopub.status.busy": "2024-06-14T14:31:20.083752Z",
     "iopub.status.idle": "2024-06-14T14:31:20.231991Z",
     "shell.execute_reply": "2024-06-14T14:31:20.231237Z"
    },
    "papermill": {
     "duration": 0.153973,
     "end_time": "2024-06-14T14:31:20.234451",
     "exception": false,
     "start_time": "2024-06-14T14:31:20.080478",
     "status": "completed"
    },
    "tags": []
   },
   "outputs": [],
   "source": [
    "import os\n",
    "\n",
    "from lib.check_files import check_prepared_data\n",
    "\n",
    "if use_extracted_data:\n",
    "    data_dir = \"extracted_data\"\n",
    "else:\n",
    "    data_dir = check_prepared_data(\"prepared_data\", verbose=True)\n",
    "\n",
    "output_dir = \"outputs\""
   ]
  },
  {
   "cell_type": "markdown",
   "id": "2efa9d67",
   "metadata": {
    "papermill": {
     "duration": 0.003046,
     "end_time": "2024-06-14T14:31:20.240816",
     "exception": false,
     "start_time": "2024-06-14T14:31:20.237770",
     "status": "completed"
    },
    "tags": []
   },
   "source": [
    "If any of the following exist as environment variables, they will replace the values defined above:"
   ]
  },
  {
   "cell_type": "code",
   "execution_count": 3,
   "id": "f2d69c31",
   "metadata": {
    "execution": {
     "iopub.execute_input": "2024-06-14T14:31:20.248082Z",
     "iopub.status.busy": "2024-06-14T14:31:20.247817Z",
     "iopub.status.idle": "2024-06-14T14:31:20.251858Z",
     "shell.execute_reply": "2024-06-14T14:31:20.251203Z"
    },
    "papermill": {
     "duration": 0.009606,
     "end_time": "2024-06-14T14:31:20.253414",
     "exception": false,
     "start_time": "2024-06-14T14:31:20.243808",
     "status": "completed"
    },
    "tags": []
   },
   "outputs": [],
   "source": [
    "n_jobs = int(os.environ.get(\"N_JOBS\", n_jobs))\n",
    "overwrite = bool(int(os.environ.get(\"OVERWRITE\", overwrite)))\n",
    "verbose = bool(int(os.environ.get(\"VERBOSE\", verbose)))\n",
    "output_dir = os.environ.get(\"OUTPUT_DIR\", output_dir)"
   ]
  },
  {
   "cell_type": "markdown",
   "id": "544fcfcf",
   "metadata": {
    "papermill": {
     "duration": 0.002488,
     "end_time": "2024-06-14T14:31:20.258556",
     "exception": false,
     "start_time": "2024-06-14T14:31:20.256068",
     "status": "completed"
    },
    "tags": []
   },
   "source": [
    "## Notebook setup\n",
    "\n",
    "Imports, definitions, etc."
   ]
  },
  {
   "cell_type": "markdown",
   "id": "dca6800a",
   "metadata": {
    "papermill": {
     "duration": 0.002425,
     "end_time": "2024-06-14T14:31:20.263445",
     "exception": false,
     "start_time": "2024-06-14T14:31:20.261020",
     "status": "completed"
    },
    "tags": []
   },
   "source": [
    "### Imports"
   ]
  },
  {
   "cell_type": "code",
   "execution_count": 4,
   "id": "5303979d",
   "metadata": {
    "execution": {
     "iopub.execute_input": "2024-06-14T14:31:20.269948Z",
     "iopub.status.busy": "2024-06-14T14:31:20.269610Z",
     "iopub.status.idle": "2024-06-14T14:31:25.343316Z",
     "shell.execute_reply": "2024-06-14T14:31:25.342477Z"
    },
    "papermill": {
     "duration": 5.07942,
     "end_time": "2024-06-14T14:31:25.345370",
     "exception": false,
     "start_time": "2024-06-14T14:31:20.265950",
     "status": "completed"
    },
    "tags": []
   },
   "outputs": [],
   "source": [
    "import time\n",
    "from datetime import timedelta\n",
    "\n",
    "import dask\n",
    "import dask.dataframe as dd\n",
    "from dask_ml.wrappers import ParallelPostFit\n",
    "from joblib import load\n",
    "\n",
    "from lib.pu import create_probability_grids"
   ]
  },
  {
   "cell_type": "markdown",
   "id": "ae9cc890",
   "metadata": {
    "papermill": {
     "duration": 0.003069,
     "end_time": "2024-06-14T14:31:25.351908",
     "exception": false,
     "start_time": "2024-06-14T14:31:25.348839",
     "status": "completed"
    },
    "tags": []
   },
   "source": [
    "We will use `dask-ml` to handle parallelism at this stage:"
   ]
  },
  {
   "cell_type": "code",
   "execution_count": 5,
   "id": "7342050e",
   "metadata": {
    "execution": {
     "iopub.execute_input": "2024-06-14T14:31:25.359208Z",
     "iopub.status.busy": "2024-06-14T14:31:25.358719Z",
     "iopub.status.idle": "2024-06-14T14:31:25.365170Z",
     "shell.execute_reply": "2024-06-14T14:31:25.364687Z"
    },
    "papermill": {
     "duration": 0.011935,
     "end_time": "2024-06-14T14:31:25.366810",
     "exception": false,
     "start_time": "2024-06-14T14:31:25.354875",
     "status": "completed"
    },
    "tags": []
   },
   "outputs": [
    {
     "data": {
      "text/plain": [
       "<dask.config.set at 0x17836e6d0>"
      ]
     },
     "execution_count": 5,
     "metadata": {},
     "output_type": "execute_result"
    }
   ],
   "source": [
    "dask.config.set(num_workers=n_jobs)"
   ]
  },
  {
   "attachments": {},
   "cell_type": "markdown",
   "id": "632c1c44",
   "metadata": {
    "papermill": {
     "duration": 0.002593,
     "end_time": "2024-06-14T14:31:25.372165",
     "exception": false,
     "start_time": "2024-06-14T14:31:25.369572",
     "status": "completed"
    },
    "tags": []
   },
   "source": [
    "### Input and output files"
   ]
  },
  {
   "cell_type": "code",
   "execution_count": 6,
   "id": "f01bd62d",
   "metadata": {
    "execution": {
     "iopub.execute_input": "2024-06-14T14:31:25.378259Z",
     "iopub.status.busy": "2024-06-14T14:31:25.378028Z",
     "iopub.status.idle": "2024-06-14T14:31:31.099252Z",
     "shell.execute_reply": "2024-06-14T14:31:31.098542Z"
    },
    "papermill": {
     "duration": 5.72617,
     "end_time": "2024-06-14T14:31:31.100908",
     "exception": false,
     "start_time": "2024-06-14T14:31:25.374738",
     "status": "completed"
    },
    "tags": []
   },
   "outputs": [],
   "source": [
    "data_filename = os.path.join(data_dir, \"grid_data.csv\")\n",
    "training_filename = os.path.join(data_dir, \"training_data_global.csv\")\n",
    "\n",
    "point_data = dd.read_csv(data_filename)\n",
    "df_out = point_data[[\"lon\", \"lat\", \"present_lon\", \"present_lat\", \"age (Ma)\"]].compute()\n",
    "regions = list(dd.read_csv(training_filename)[\"region\"].unique())\n",
    "\n",
    "output_dir = os.path.join(output_dir, \"global\")"
   ]
  },
  {
   "attachments": {},
   "cell_type": "markdown",
   "id": "dc314a0d",
   "metadata": {
    "papermill": {
     "duration": 0.002601,
     "end_time": "2024-06-14T14:31:31.106369",
     "exception": false,
     "start_time": "2024-06-14T14:31:31.103768",
     "status": "completed"
    },
    "tags": []
   },
   "source": [
    "## Calculate probabilities\n",
    "\n",
    "Deposit probability will be calculated for the gridded data and written to a CSV file."
   ]
  },
  {
   "cell_type": "code",
   "execution_count": 7,
   "id": "5ac247e1",
   "metadata": {
    "execution": {
     "iopub.execute_input": "2024-06-14T14:31:31.112608Z",
     "iopub.status.busy": "2024-06-14T14:31:31.112360Z",
     "iopub.status.idle": "2024-06-14T14:48:26.109147Z",
     "shell.execute_reply": "2024-06-14T14:48:26.108582Z"
    },
    "papermill": {
     "duration": 1015.004589,
     "end_time": "2024-06-14T14:48:26.113558",
     "exception": false,
     "start_time": "2024-06-14T14:31:31.108969",
     "status": "completed"
    },
    "tags": []
   },
   "outputs": [
    {
     "name": "stdout",
     "output_type": "stream",
     "text": [
      "Calculating probabilities for PU model complete (region: global; duration: 0:02:30.159907)\n"
     ]
    },
    {
     "name": "stdout",
     "output_type": "stream",
     "text": [
      "Calculating probabilities for PU model complete (region: North America; duration: 0:02:11.696206)\n"
     ]
    },
    {
     "name": "stdout",
     "output_type": "stream",
     "text": [
      "Calculating probabilities for PU model complete (region: South America; duration: 0:02:42.454484)\n"
     ]
    },
    {
     "name": "stdout",
     "output_type": "stream",
     "text": [
      "Calculating probabilities for PU model complete (region: Southeast Asia; duration: 0:02:14.123335)\n"
     ]
    },
    {
     "name": "stdout",
     "output_type": "stream",
     "text": [
      "Calculating probabilities for PU model complete (region: Tethys; duration: 0:02:28.160357)\n"
     ]
    },
    {
     "name": "stdout",
     "output_type": "stream",
     "text": [
      "Calculating probabilities for SVM model complete (region: global; duration: 0:01:39.530009)\n"
     ]
    },
    {
     "name": "stdout",
     "output_type": "stream",
     "text": [
      "Calculating probabilities for SVM model complete (region: North America; duration: 0:01:32.506113)\n"
     ]
    },
    {
     "name": "stdout",
     "output_type": "stream",
     "text": [
      "Calculating probabilities for SVM model complete (region: South America; duration: 0:01:36.355653)\n"
     ]
    }
   ],
   "source": [
    "for algorithm in (\"PU\", \"SVM\"):\n",
    "    t0 = time.time()\n",
    "\n",
    "    subdir = os.path.join(output_dir, algorithm)\n",
    "    model_filename = os.path.join(subdir, f\"classifier.joblib\")\n",
    "    probabilities_filename = os.path.join(\n",
    "        subdir,\n",
    "        \"grid_probabilities.csv\",\n",
    "    )\n",
    "    model = load(model_filename)\n",
    "\n",
    "    # Set model n_jobs if possible\n",
    "    # (let dask handle parallelism at this stage)\n",
    "    try:\n",
    "        model[-1].set_params(n_jobs=1)\n",
    "    except ValueError:\n",
    "        pass\n",
    "    model_parallel = ParallelPostFit(model)\n",
    "\n",
    "    point_x = point_data[model.feature_names_in_]\n",
    "    p = model_parallel.predict_proba(point_x)[:, 1].ravel().compute()\n",
    "    probabilities = df_out.copy()\n",
    "    probabilities[\"probability\"] = p\n",
    "    del p\n",
    "    probabilities.to_csv(probabilities_filename, index=False)\n",
    "    del probabilities, model\n",
    "    duration = timedelta(seconds=time.time() - t0)\n",
    "    if verbose:\n",
    "        print(\n",
    "            f\"Calculating probabilities for {algorithm} model complete\",\n",
    "            f\"(region: global; duration: {duration})\",\n",
    "        )\n",
    "\n",
    "    for region in regions:\n",
    "        region_code = \"_\".join(region.lower().split())\n",
    "        model_filename = os.path.join(\n",
    "            subdir,\n",
    "            f\"classifier_{region_code}.joblib\",\n",
    "        )\n",
    "        if not os.path.isfile(model_filename):\n",
    "            continue\n",
    "        t0 = time.time()\n",
    "\n",
    "        probabilities_filename = os.path.join(\n",
    "            subdir,\n",
    "            f\"grid_probabilities_{region_code}.csv\",\n",
    "        )\n",
    "        model = load(model_filename)\n",
    "\n",
    "        try:\n",
    "            model[-1].set_params(n_jobs=1)\n",
    "        except ValueError:\n",
    "            pass\n",
    "        model_parallel = ParallelPostFit(model)\n",
    "\n",
    "        point_x = point_data[model.feature_names_in_]\n",
    "        p = model_parallel.predict_proba(point_x)[:, 1].ravel().compute()\n",
    "        probabilities = df_out.copy()\n",
    "        probabilities[\"probability\"] = p\n",
    "        del p\n",
    "        probabilities.to_csv(probabilities_filename, index=False)\n",
    "        del probabilities, model\n",
    "        duration = timedelta(seconds=time.time() - t0)\n",
    "        if verbose:\n",
    "            print(\n",
    "                f\"Calculating probabilities for {algorithm} model complete\",\n",
    "                f\"(region: {region}; duration: {duration})\",\n",
    "            )\n",
    "\n",
    "del point_data"
   ]
  },
  {
   "cell_type": "markdown",
   "id": "e94d2cc2",
   "metadata": {
    "papermill": {
     "duration": 0.002875,
     "end_time": "2024-06-14T14:48:26.119461",
     "exception": false,
     "start_time": "2024-06-14T14:48:26.116586",
     "status": "completed"
    },
    "tags": []
   },
   "source": [
    "## Create probability maps\n",
    "\n",
    "The probabilities calculated in the previous section will now be written to one netCDF file per time step:"
   ]
  },
  {
   "cell_type": "code",
   "execution_count": 8,
   "id": "23b349d7",
   "metadata": {
    "execution": {
     "iopub.execute_input": "2024-06-14T14:48:26.126454Z",
     "iopub.status.busy": "2024-06-14T14:48:26.126213Z",
     "iopub.status.idle": "2024-06-14T15:44:58.938221Z",
     "shell.execute_reply": "2024-06-14T15:44:58.937511Z"
    },
    "papermill": {
     "duration": 3392.826074,
     "end_time": "2024-06-14T15:44:58.948385",
     "exception": false,
     "start_time": "2024-06-14T14:48:26.122311",
     "status": "completed"
    },
    "tags": []
   },
   "outputs": [
    {
     "name": "stdout",
     "output_type": "stream",
     "text": [
      "Creating grids for PU model complete (region: global; duration: 0:06:53.203636)\n"
     ]
    },
    {
     "name": "stdout",
     "output_type": "stream",
     "text": [
      "Creating grids for PU model complete (region: North America; duration: 0:07:02.793216)\n"
     ]
    },
    {
     "name": "stdout",
     "output_type": "stream",
     "text": [
      "Creating grids for PU model complete (region: South America; duration: 0:07:05.743790)\n"
     ]
    },
    {
     "name": "stdout",
     "output_type": "stream",
     "text": [
      "Creating grids for PU model complete (region: Southeast Asia; duration: 0:07:28.222054)\n"
     ]
    },
    {
     "name": "stdout",
     "output_type": "stream",
     "text": [
      "Creating grids for PU model complete (region: Tethys; duration: 0:06:58.714136)\n"
     ]
    },
    {
     "name": "stdout",
     "output_type": "stream",
     "text": [
      "Creating grids for SVM model complete (region: global; duration: 0:07:09.159209)\n"
     ]
    },
    {
     "name": "stdout",
     "output_type": "stream",
     "text": [
      "Creating grids for SVM model complete (region: North America; duration: 0:06:56.277588)\n"
     ]
    },
    {
     "name": "stdout",
     "output_type": "stream",
     "text": [
      "Creating grids for SVM model complete (region: South America; duration: 0:06:58.687816)\n"
     ]
    }
   ],
   "source": [
    "for algorithm in (\"PU\", \"SVM\"):\n",
    "    t0 = time.time()\n",
    "\n",
    "    subdir = os.path.join(output_dir, algorithm)\n",
    "    probabilities_filename = os.path.join(\n",
    "        subdir,\n",
    "        \"grid_probabilities.csv\",\n",
    "    )\n",
    "    grid_output_dir = os.path.join(\n",
    "        subdir,\n",
    "        \"probability_grids\",\n",
    "    )\n",
    "    os.makedirs(grid_output_dir, exist_ok=True)\n",
    "\n",
    "    create_probability_grids(\n",
    "        data=probabilities_filename,\n",
    "        output_dir=grid_output_dir,\n",
    "        threads=n_jobs,\n",
    "        extent=(-180, 180, -90, 90),\n",
    "    )\n",
    "    duration = timedelta(seconds=time.time() - t0)\n",
    "    if verbose:\n",
    "        print(\n",
    "            f\"Creating grids for {algorithm} model complete\",\n",
    "            f\"(region: global; duration: {duration})\",\n",
    "        )\n",
    "\n",
    "    for region in regions:\n",
    "        region_code = \"_\".join(region.lower().split())\n",
    "        subdir = os.path.join(output_dir, algorithm)\n",
    "        probabilities_filename = os.path.join(\n",
    "            subdir,\n",
    "            f\"grid_probabilities_{region_code}.csv\",\n",
    "        )\n",
    "        if not os.path.isfile(probabilities_filename):\n",
    "            continue\n",
    "        t0 = time.time()\n",
    "\n",
    "        grid_output_dir = os.path.join(\n",
    "            subdir,\n",
    "            f\"probability_grids_{region_code}\",\n",
    "        )\n",
    "        os.makedirs(grid_output_dir, exist_ok=True)\n",
    "\n",
    "        create_probability_grids(\n",
    "            data=probabilities_filename,\n",
    "            output_dir=grid_output_dir,\n",
    "            threads=n_jobs,\n",
    "            extent=(-180, 180, -90, 90),\n",
    "        )\n",
    "        duration = timedelta(seconds=time.time() - t0)\n",
    "        if verbose:\n",
    "            print(\n",
    "                f\"Creating grids for {algorithm} model complete\",\n",
    "                f\"(region: {region}; duration: {duration})\",\n",
    "            )"
   ]
  },
  {
   "cell_type": "code",
   "execution_count": null,
   "id": "d779a208",
   "metadata": {
    "papermill": {
     "duration": 0.005587,
     "end_time": "2024-06-14T15:44:58.960028",
     "exception": false,
     "start_time": "2024-06-14T15:44:58.954441",
     "status": "completed"
    },
    "tags": []
   },
   "outputs": [],
   "source": []
  }
 ],
 "metadata": {
  "kernelspec": {
   "display_name": "datamining",
   "language": "python",
   "name": "python3"
  },
  "language_info": {
   "codemirror_mode": {
    "name": "ipython",
    "version": 3
   },
   "file_extension": ".py",
   "mimetype": "text/x-python",
   "name": "python",
   "nbconvert_exporter": "python",
   "pygments_lexer": "ipython3",
   "version": "3.11.7"
  },
  "papermill": {
   "default_parameters": {},
   "duration": 4422.967456,
   "end_time": "2024-06-14T15:45:01.792305",
   "environment_variables": {},
   "exception": null,
   "input_path": "02a-create_probability_maps_global copy.ipynb",
   "output_path": "02a-create_probability_maps_global copy.ipynb",
   "parameters": {},
   "start_time": "2024-06-14T14:31:18.824849",
   "version": "2.4.0"
  }
 },
 "nbformat": 4,
 "nbformat_minor": 5
}
