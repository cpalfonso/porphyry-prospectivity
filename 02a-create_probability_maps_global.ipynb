{
 "cells": [
  {
   "attachments": {},
   "cell_type": "markdown",
   "id": "80263a75",
   "metadata": {
    "papermill": {
     "duration": 0.004189,
     "end_time": "2024-05-09T00:43:59.925981",
     "exception": false,
     "start_time": "2024-05-09T00:43:59.921792",
     "status": "completed"
    },
    "tags": []
   },
   "source": [
    "## Probability grids\n",
    "\n",
    "This notebook creates the time-dependent probability maps and writes them to file (`.nc` format). The notebook `01a-create_classifiers_global.ipynb` must have been run previously."
   ]
  },
  {
   "cell_type": "code",
   "execution_count": 1,
   "id": "9057911b",
   "metadata": {
    "execution": {
     "iopub.execute_input": "2024-05-09T00:43:59.932461Z",
     "iopub.status.busy": "2024-05-09T00:43:59.932155Z",
     "iopub.status.idle": "2024-05-09T00:43:59.939148Z",
     "shell.execute_reply": "2024-05-09T00:43:59.938342Z"
    },
    "papermill": {
     "duration": 0.012293,
     "end_time": "2024-05-09T00:43:59.941101",
     "exception": false,
     "start_time": "2024-05-09T00:43:59.928808",
     "status": "completed"
    },
    "tags": []
   },
   "outputs": [],
   "source": [
    "use_extracted_data = False"
   ]
  },
  {
   "cell_type": "code",
   "execution_count": 2,
   "id": "5303979d",
   "metadata": {
    "execution": {
     "iopub.execute_input": "2024-05-09T00:43:59.946863Z",
     "iopub.status.busy": "2024-05-09T00:43:59.946594Z",
     "iopub.status.idle": "2024-05-09T00:44:03.390562Z",
     "shell.execute_reply": "2024-05-09T00:44:03.389928Z"
    },
    "papermill": {
     "duration": 3.448646,
     "end_time": "2024-05-09T00:44:03.392123",
     "exception": false,
     "start_time": "2024-05-09T00:43:59.943477",
     "status": "completed"
    },
    "tags": []
   },
   "outputs": [],
   "source": [
    "import os\n",
    "import time\n",
    "from datetime import timedelta\n",
    "\n",
    "import dask\n",
    "import dask.dataframe as dd\n",
    "from dask_ml.wrappers import ParallelPostFit\n",
    "from joblib import load\n",
    "\n",
    "from lib.check_files import check_prepared_data\n",
    "from lib.pu import create_probability_grids"
   ]
  },
  {
   "cell_type": "code",
   "execution_count": 3,
   "id": "7c013b25",
   "metadata": {
    "execution": {
     "iopub.execute_input": "2024-05-09T00:44:03.396919Z",
     "iopub.status.busy": "2024-05-09T00:44:03.396406Z",
     "iopub.status.idle": "2024-05-09T00:44:03.402879Z",
     "shell.execute_reply": "2024-05-09T00:44:03.402346Z"
    },
    "papermill": {
     "duration": 0.011637,
     "end_time": "2024-05-09T00:44:03.405553",
     "exception": false,
     "start_time": "2024-05-09T00:44:03.393916",
     "status": "completed"
    },
    "tags": []
   },
   "outputs": [
    {
     "data": {
      "text/plain": [
       "<dask.config.set at 0x1bda15f90>"
      ]
     },
     "execution_count": 3,
     "metadata": {},
     "output_type": "execute_result"
    }
   ],
   "source": [
    "n_jobs = int(os.environ.get(\"N_JOBS\", 8))\n",
    "dask.config.set(num_workers=n_jobs)"
   ]
  },
  {
   "attachments": {},
   "cell_type": "markdown",
   "id": "632c1c44",
   "metadata": {
    "papermill": {
     "duration": 0.001658,
     "end_time": "2024-05-09T00:44:03.408966",
     "exception": false,
     "start_time": "2024-05-09T00:44:03.407308",
     "status": "completed"
    },
    "tags": []
   },
   "source": [
    "### Load input data from file"
   ]
  },
  {
   "cell_type": "code",
   "execution_count": 4,
   "id": "f01bd62d",
   "metadata": {
    "execution": {
     "iopub.execute_input": "2024-05-09T00:44:03.413636Z",
     "iopub.status.busy": "2024-05-09T00:44:03.413098Z",
     "iopub.status.idle": "2024-05-09T00:44:09.287914Z",
     "shell.execute_reply": "2024-05-09T00:44:09.286924Z"
    },
    "papermill": {
     "duration": 5.879183,
     "end_time": "2024-05-09T00:44:09.289701",
     "exception": false,
     "start_time": "2024-05-09T00:44:03.410518",
     "status": "completed"
    },
    "tags": []
   },
   "outputs": [],
   "source": [
    "if use_extracted_data:\n",
    "    data_dir = \"extracted_data\"\n",
    "else:\n",
    "    data_dir = \"prepared_data\"\n",
    "    check_prepared_data(data_dir, verbose=True)\n",
    "data_filename = os.path.join(data_dir, \"grid_data.csv\")\n",
    "training_filename = os.path.join(data_dir, \"training_data_global.csv\")\n",
    "\n",
    "point_data = dd.read_csv(data_filename)\n",
    "df_out = point_data[[\"lon\", \"lat\", \"age (Ma)\"]].compute()\n",
    "regions = list(dd.read_csv(training_filename)[\"region\"].unique())"
   ]
  },
  {
   "attachments": {},
   "cell_type": "markdown",
   "id": "dc314a0d",
   "metadata": {
    "papermill": {
     "duration": 0.001828,
     "end_time": "2024-05-09T00:44:09.293795",
     "exception": false,
     "start_time": "2024-05-09T00:44:09.291967",
     "status": "completed"
    },
    "tags": []
   },
   "source": [
    "### Calculate probabilities"
   ]
  },
  {
   "cell_type": "code",
   "execution_count": 5,
   "id": "5ac247e1",
   "metadata": {
    "execution": {
     "iopub.execute_input": "2024-05-09T00:44:09.298502Z",
     "iopub.status.busy": "2024-05-09T00:44:09.298269Z",
     "iopub.status.idle": "2024-05-09T01:04:18.982446Z",
     "shell.execute_reply": "2024-05-09T01:04:18.981849Z"
    },
    "papermill": {
     "duration": 1209.689969,
     "end_time": "2024-05-09T01:04:18.985587",
     "exception": false,
     "start_time": "2024-05-09T00:44:09.295618",
     "status": "completed"
    },
    "tags": []
   },
   "outputs": [
    {
     "name": "stdout",
     "output_type": "stream",
     "text": [
      "Calculating probabilities for PU model complete (region: global; duration: 0:03:04.044133)\n"
     ]
    },
    {
     "name": "stdout",
     "output_type": "stream",
     "text": [
      "Calculating probabilities for PU model complete (region: North America; duration: 0:02:48.461120)\n"
     ]
    },
    {
     "name": "stdout",
     "output_type": "stream",
     "text": [
      "Calculating probabilities for PU model complete (region: South America; duration: 0:03:15.491652)\n"
     ]
    },
    {
     "name": "stdout",
     "output_type": "stream",
     "text": [
      "Calculating probabilities for PU model complete (region: Southeast Asia; duration: 0:02:58.017589)\n"
     ]
    },
    {
     "name": "stdout",
     "output_type": "stream",
     "text": [
      "Calculating probabilities for PU model complete (region: Tethys; duration: 0:03:03.875284)\n"
     ]
    },
    {
     "name": "stdout",
     "output_type": "stream",
     "text": [
      "Calculating probabilities for SVM model complete (region: global; duration: 0:01:48.390836)\n"
     ]
    },
    {
     "name": "stdout",
     "output_type": "stream",
     "text": [
      "Calculating probabilities for SVM model complete (region: North America; duration: 0:01:29.188530)\n"
     ]
    },
    {
     "name": "stdout",
     "output_type": "stream",
     "text": [
      "Calculating probabilities for SVM model complete (region: South America; duration: 0:01:42.204480)\n"
     ]
    }
   ],
   "source": [
    "output_dir = os.path.join(\"outputs\", \"global\")\n",
    "\n",
    "for algorithm in (\"PU\", \"SVM\"):\n",
    "    t0 = time.time()\n",
    "\n",
    "    subdir = os.path.join(output_dir, algorithm)\n",
    "    model_filename = os.path.join(subdir, f\"classifier.joblib\")\n",
    "    probabilities_filename = os.path.join(\n",
    "        subdir,\n",
    "        \"grid_probabilities.csv\",\n",
    "    )\n",
    "    model = load(model_filename)\n",
    "\n",
    "    # Set model n_jobs if possible\n",
    "    # (let dask handle parallelism at this stage)\n",
    "    try:\n",
    "        model[-1].set_params(n_jobs=1)\n",
    "    except ValueError:\n",
    "        pass\n",
    "    model_parallel = ParallelPostFit(model)\n",
    "\n",
    "    point_x = point_data[model.feature_names_in_]\n",
    "    p = model_parallel.predict_proba(point_x)[:, 1].ravel().compute()\n",
    "    probabilities = df_out.copy()\n",
    "    probabilities[\"probability\"] = p\n",
    "    del p\n",
    "    probabilities.to_csv(probabilities_filename, index=False)\n",
    "    del probabilities, model\n",
    "    duration = timedelta(seconds=time.time() - t0)\n",
    "    print(\n",
    "        f\"Calculating probabilities for {algorithm} model complete\",\n",
    "        f\"(region: global; duration: {duration})\",\n",
    "    )\n",
    "\n",
    "    for region in regions:\n",
    "        region_code = \"_\".join(region.lower().split())\n",
    "        model_filename = os.path.join(\n",
    "            subdir,\n",
    "            f\"classifier_{region_code}.joblib\",\n",
    "        )\n",
    "        if not os.path.isfile(model_filename):\n",
    "            continue\n",
    "        t0 = time.time()\n",
    "\n",
    "        probabilities_filename = os.path.join(\n",
    "            subdir,\n",
    "            f\"grid_probabilities_{region_code}.csv\",\n",
    "        )\n",
    "        model = load(model_filename)\n",
    "\n",
    "        try:\n",
    "            model[-1].set_params(n_jobs=1)\n",
    "        except ValueError:\n",
    "            pass\n",
    "        model_parallel = ParallelPostFit(model)\n",
    "\n",
    "        point_x = point_data[model.feature_names_in_]\n",
    "        p = model_parallel.predict_proba(point_x)[:, 1].ravel().compute()\n",
    "        probabilities = df_out.copy()\n",
    "        probabilities[\"probability\"] = p\n",
    "        del p\n",
    "        probabilities.to_csv(probabilities_filename, index=False)\n",
    "        del probabilities, model\n",
    "        duration = timedelta(seconds=time.time() - t0)\n",
    "        print(\n",
    "            f\"Calculating probabilities for {algorithm} model complete\",\n",
    "            f\"(region: {region}; duration: {duration})\",\n",
    "        )\n",
    "\n",
    "del point_data\n"
   ]
  },
  {
   "cell_type": "markdown",
   "id": "e94d2cc2",
   "metadata": {
    "papermill": {
     "duration": 0.002269,
     "end_time": "2024-05-09T01:04:18.990246",
     "exception": false,
     "start_time": "2024-05-09T01:04:18.987977",
     "status": "completed"
    },
    "tags": []
   },
   "source": [
    "### Create probability maps"
   ]
  },
  {
   "cell_type": "code",
   "execution_count": 6,
   "id": "23b349d7",
   "metadata": {
    "execution": {
     "iopub.execute_input": "2024-05-09T01:04:18.996047Z",
     "iopub.status.busy": "2024-05-09T01:04:18.995794Z",
     "iopub.status.idle": "2024-05-09T02:49:58.046152Z",
     "shell.execute_reply": "2024-05-09T02:49:58.045431Z"
    },
    "papermill": {
     "duration": 6339.058195,
     "end_time": "2024-05-09T02:49:58.050757",
     "exception": false,
     "start_time": "2024-05-09T01:04:18.992562",
     "status": "completed"
    },
    "tags": []
   },
   "outputs": [
    {
     "name": "stdout",
     "output_type": "stream",
     "text": [
      "Creating grids for PU model complete (region: global; duration: 0:13:24.150873)\n"
     ]
    },
    {
     "name": "stdout",
     "output_type": "stream",
     "text": [
      "Creating grids for PU model complete (region: North America; duration: 0:13:13.560267)\n"
     ]
    },
    {
     "name": "stdout",
     "output_type": "stream",
     "text": [
      "Creating grids for PU model complete (region: South America; duration: 0:13:04.518712)\n"
     ]
    },
    {
     "name": "stdout",
     "output_type": "stream",
     "text": [
      "Creating grids for PU model complete (region: Southeast Asia; duration: 0:13:01.150697)\n"
     ]
    },
    {
     "name": "stdout",
     "output_type": "stream",
     "text": [
      "Creating grids for PU model complete (region: Tethys; duration: 0:13:25.770007)\n"
     ]
    },
    {
     "name": "stdout",
     "output_type": "stream",
     "text": [
      "Creating grids for SVM model complete (region: global; duration: 0:13:47.470614)\n"
     ]
    },
    {
     "name": "stdout",
     "output_type": "stream",
     "text": [
      "Creating grids for SVM model complete (region: North America; duration: 0:12:52.056378)\n"
     ]
    },
    {
     "name": "stdout",
     "output_type": "stream",
     "text": [
      "Creating grids for SVM model complete (region: South America; duration: 0:12:50.362486)\n"
     ]
    }
   ],
   "source": [
    "for algorithm in (\"PU\", \"SVM\"):\n",
    "    t0 = time.time()\n",
    "\n",
    "    subdir = os.path.join(output_dir, algorithm)\n",
    "    probabilities_filename = os.path.join(\n",
    "        subdir,\n",
    "        \"grid_probabilities.csv\",\n",
    "    )\n",
    "    grid_output_dir = os.path.join(\n",
    "        subdir,\n",
    "        \"probability_grids\",\n",
    "    )\n",
    "    os.makedirs(grid_output_dir, exist_ok=True)\n",
    "\n",
    "    create_probability_grids(\n",
    "        data=probabilities_filename,\n",
    "        output_dir=grid_output_dir,\n",
    "        threads=n_jobs,\n",
    "        extent=(-180, 180, -90, 90),\n",
    "    )\n",
    "    duration = timedelta(seconds=time.time() - t0)\n",
    "    print(\n",
    "        f\"Creating grids for {algorithm} model complete\",\n",
    "        f\"(region: global; duration: {duration})\",\n",
    "    )\n",
    "\n",
    "    for region in regions:\n",
    "        region_code = \"_\".join(region.lower().split())\n",
    "        subdir = os.path.join(output_dir, algorithm)\n",
    "        probabilities_filename = os.path.join(\n",
    "            subdir,\n",
    "            f\"grid_probabilities_{region_code}.csv\",\n",
    "        )\n",
    "        if not os.path.isfile(probabilities_filename):\n",
    "            continue\n",
    "        t0 = time.time()\n",
    "\n",
    "        grid_output_dir = os.path.join(\n",
    "            subdir,\n",
    "            f\"probability_grids_{region_code}\",\n",
    "        )\n",
    "        os.makedirs(grid_output_dir, exist_ok=True)\n",
    "\n",
    "        create_probability_grids(\n",
    "            data=probabilities_filename,\n",
    "            output_dir=grid_output_dir,\n",
    "            threads=n_jobs,\n",
    "            extent=(-180, 180, -90, 90),\n",
    "        )\n",
    "        duration = timedelta(seconds=time.time() - t0)\n",
    "        print(\n",
    "            f\"Creating grids for {algorithm} model complete\",\n",
    "            f\"(region: {region}; duration: {duration})\",\n",
    "        )"
   ]
  },
  {
   "cell_type": "code",
   "execution_count": null,
   "id": "d779a208",
   "metadata": {
    "papermill": {
     "duration": 0.002593,
     "end_time": "2024-05-09T02:49:58.056091",
     "exception": false,
     "start_time": "2024-05-09T02:49:58.053498",
     "status": "completed"
    },
    "tags": []
   },
   "outputs": [],
   "source": []
  }
 ],
 "metadata": {
  "kernelspec": {
   "display_name": "datamining",
   "language": "python",
   "name": "python3"
  },
  "language_info": {
   "codemirror_mode": {
    "name": "ipython",
    "version": 3
   },
   "file_extension": ".py",
   "mimetype": "text/x-python",
   "name": "python",
   "nbconvert_exporter": "python",
   "pygments_lexer": "ipython3",
   "version": "3.11.7"
  },
  "papermill": {
   "default_parameters": {},
   "duration": 7561.851974,
   "end_time": "2024-05-09T02:50:00.887140",
   "environment_variables": {},
   "exception": null,
   "input_path": "02a-create_probability_maps_global.ipynb",
   "output_path": "02a-create_probability_maps_global_output.ipynb",
   "parameters": {},
   "start_time": "2024-05-09T00:43:59.035166",
   "version": "2.4.0"
  }
 },
 "nbformat": 4,
 "nbformat_minor": 5
}