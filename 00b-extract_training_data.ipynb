{
 "cells": [
  {
   "cell_type": "markdown",
   "id": "9e474db9",
   "metadata": {
    "papermill": {
     "duration": 0.005826,
     "end_time": "2025-07-04T08:09:50.707578",
     "exception": false,
     "start_time": "2025-07-04T08:09:50.701752",
     "status": "completed"
    },
    "tags": []
   },
   "source": [
    "# Extract training data\n",
    "\n",
    "This notebook will extract plate kinematic data from a plate model and other data from the `source_data` directory, writing the resulting dataset to a CSV file which can then be used to train the models in the following notebooks (`01*.ipynb`)."
   ]
  },
  {
   "cell_type": "markdown",
   "id": "30cbeab9",
   "metadata": {
    "papermill": {
     "duration": 0.004628,
     "end_time": "2025-07-04T08:09:50.717821",
     "exception": false,
     "start_time": "2025-07-04T08:09:50.713193",
     "status": "completed"
    },
    "tags": []
   },
   "source": [
    "## Notebook options\n",
    "\n",
    "These cells set some of the important variables and definitions used throughout the notebook."
   ]
  },
  {
   "cell_type": "code",
   "execution_count": 1,
   "id": "c2d98f0b",
   "metadata": {
    "execution": {
     "iopub.execute_input": "2025-07-04T08:09:50.727503Z",
     "iopub.status.busy": "2025-07-04T08:09:50.727206Z",
     "iopub.status.idle": "2025-07-04T08:09:50.731841Z",
     "shell.execute_reply": "2025-07-04T08:09:50.731226Z"
    },
    "papermill": {
     "duration": 0.011204,
     "end_time": "2025-07-04T08:09:50.733277",
     "exception": false,
     "start_time": "2025-07-04T08:09:50.722073",
     "status": "completed"
    },
    "tags": []
   },
   "outputs": [],
   "source": [
    "config_file = \"notebook_parameters_default.yml\""
   ]
  },
  {
   "cell_type": "code",
   "execution_count": 2,
   "id": "52a81cf2",
   "metadata": {
    "execution": {
     "iopub.execute_input": "2025-07-04T08:09:50.744268Z",
     "iopub.status.busy": "2025-07-04T08:09:50.744005Z",
     "iopub.status.idle": "2025-07-04T08:09:50.789880Z",
     "shell.execute_reply": "2025-07-04T08:09:50.789309Z"
    },
    "papermill": {
     "duration": 0.052651,
     "end_time": "2025-07-04T08:09:50.791333",
     "exception": false,
     "start_time": "2025-07-04T08:09:50.738682",
     "status": "completed"
    },
    "tags": []
   },
   "outputs": [],
   "source": [
    "from lib.load_params import get_params\n",
    "\n",
    "params = get_params(config_file, notebook=\"00b\")\n",
    "\n",
    "# Directory for output\n",
    "data_dir = params[\"extracted_data_dir\"]\n",
    "output_dir = data_dir\n",
    "\n",
    "# Number of processes to use\n",
    "n_jobs = params[\"n_jobs\"]\n",
    "\n",
    "# Overwrite any existing output files\n",
    "overwrite = params[\"overwrite_output\"]\n",
    "\n",
    "# Control verbosity level of logging output\n",
    "verbose = params[\"verbose\"]\n",
    "\n",
    "# Timespan for analysis\n",
    "min_time = params[\"timespan\"][\"min\"]\n",
    "max_time = params[\"timespan\"][\"max\"]\n",
    "times = range(min_time, max_time + 1)\n",
    "\n",
    "# Number of unlabelled points to generate\n",
    "num_unlabelled = params[\"num_unlabelled\"]  # per timestep\n",
    "\n",
    "# Random seed for reproducibility\n",
    "random_seed = params[\"random_seed\"]\n",
    "\n",
    "# CSV file with known deposits; columns:\n",
    "# lon, lat, age (Ma)\n",
    "deposits_filename = params[\"deposits_filename\"]\n",
    "\n",
    "# If desired, categorise deposits according to location\n",
    "# Should be a shapefile or GeoJSON containing polygons\n",
    "# with a 'region' attribute\n",
    "regions_filename = params[\"regions_filename\"]"
   ]
  },
  {
   "cell_type": "markdown",
   "id": "ab57c3d5",
   "metadata": {
    "papermill": {
     "duration": 0.003957,
     "end_time": "2025-07-04T08:09:50.799481",
     "exception": false,
     "start_time": "2025-07-04T08:09:50.795524",
     "status": "completed"
    },
    "tags": []
   },
   "source": [
    "### Select plate model\n",
    "\n",
    "To use the plate model from the published paper (Alfonso et al., 2024), set `use_provided_plate_model` to `True`. Otherwise, leave `use_provided_plate_model` as `False` and set `plate_model_name` to a valid model name for the [`plate-model-manager`](https://github.com/michaelchin/plate-model-manager/blob/4f66423b53950bf42f5dac1228e61fd1e19fdf6e/models.json) package, or set `plate_model_name` to `None` and place GPlates files in a directory named `plate_model`.\n",
    "\n",
    "| `use_provided_plate_model` | `plate_model_name` | result |\n",
    "| - | - | - |\n",
    "| `True` | Any | Use Alfonso et al., 2024 model |\n",
    "| `False` | Model name string (e.g. `\"muller2022\"`) | Use specified plate model |\n",
    "| `False` | `None` | Use files in `plate_model` directory |"
   ]
  },
  {
   "cell_type": "code",
   "execution_count": 3,
   "id": "7b7b1534",
   "metadata": {
    "execution": {
     "iopub.execute_input": "2025-07-04T08:09:50.808096Z",
     "iopub.status.busy": "2025-07-04T08:09:50.807849Z",
     "iopub.status.idle": "2025-07-04T08:09:50.810713Z",
     "shell.execute_reply": "2025-07-04T08:09:50.810237Z"
    },
    "papermill": {
     "duration": 0.008639,
     "end_time": "2025-07-04T08:09:50.811972",
     "exception": false,
     "start_time": "2025-07-04T08:09:50.803333",
     "status": "completed"
    },
    "tags": []
   },
   "outputs": [],
   "source": [
    "plate_model_name = params[\"plate_model\"][\"plate_model_name\"]\n",
    "use_provided_plate_model = params[\"plate_model\"][\"use_provided_plate_model\"]"
   ]
  },
  {
   "cell_type": "markdown",
   "id": "0aa8fc32",
   "metadata": {
    "papermill": {
     "duration": 0.00387,
     "end_time": "2025-07-04T08:09:50.819852",
     "exception": false,
     "start_time": "2025-07-04T08:09:50.815982",
     "status": "completed"
    },
    "tags": []
   },
   "source": [
    "## Notebook setup\n",
    "\n",
    "Imports, definitions, etc."
   ]
  },
  {
   "cell_type": "markdown",
   "id": "fce1302b",
   "metadata": {
    "papermill": {
     "duration": 0.00384,
     "end_time": "2025-07-04T08:09:50.827600",
     "exception": false,
     "start_time": "2025-07-04T08:09:50.823760",
     "status": "completed"
    },
    "tags": []
   },
   "source": [
    "### Imports"
   ]
  },
  {
   "cell_type": "code",
   "execution_count": 4,
   "id": "a92a09be",
   "metadata": {
    "execution": {
     "iopub.execute_input": "2025-07-04T08:09:50.835918Z",
     "iopub.status.busy": "2025-07-04T08:09:50.835657Z",
     "iopub.status.idle": "2025-07-04T08:09:55.058351Z",
     "shell.execute_reply": "2025-07-04T08:09:55.057607Z"
    },
    "papermill": {
     "duration": 4.228712,
     "end_time": "2025-07-04T08:09:55.059930",
     "exception": false,
     "start_time": "2025-07-04T08:09:50.831218",
     "status": "completed"
    },
    "tags": []
   },
   "outputs": [
    {
     "name": "stdout",
     "output_type": "stream",
     "text": [
      "env: PYTHONWARNINGS=ignore::UserWarning\n"
     ]
    }
   ],
   "source": [
    "import os\n",
    "import warnings\n",
    "from pathlib import Path\n",
    "\n",
    "import geopandas as gpd\n",
    "import numpy as np\n",
    "import pandas as pd\n",
    "with warnings.catch_warnings():\n",
    "    warnings.simplefilter(\"ignore\", UserWarning)\n",
    "    from gplately.tools import plate_isotherm_depth\n",
    "\n",
    "from lib.assign_regions import assign_regions\n",
    "from lib.calculate_convergence import run_calculate_convergence\n",
    "from lib.check_files import (\n",
    "    check_source_data,\n",
    "    check_plate_model,\n",
    ")\n",
    "from lib.combine_point_data import combine_point_data\n",
    "from lib.coregister_combined_point_data import run_coregister_combined_point_data\n",
    "from lib.coregister_crustal_thickness import run_coregister_crustal_thickness\n",
    "from lib.coregister_ocean_rasters import (\n",
    "    extract_subducted_thickness,\n",
    "    run_coregister_ocean_rasters,\n",
    ")\n",
    "from lib.create_study_area_polygons import run_create_study_area_polygons\n",
    "from lib.erodep import calculate_erodep\n",
    "from lib.generate_unlabelled_points import generate_unlabelled_points\n",
    "from lib.misc import calculate_slab_flux, calculate_carbon\n",
    "from lib.plate_models import get_plate_reconstruction\n",
    "from lib.slab_dip import calculate_slab_dip\n",
    "from lib.water import calculate_water_thickness\n",
    "\n",
    "# Suppress occasional joblib warnings\n",
    "%env PYTHONWARNINGS=ignore::UserWarning\n",
    "warnings.simplefilter(\"ignore\", UserWarning)"
   ]
  },
  {
   "attachments": {},
   "cell_type": "markdown",
   "id": "880580d1",
   "metadata": {
    "papermill": {
     "duration": 0.004639,
     "end_time": "2025-07-04T08:09:55.069448",
     "exception": false,
     "start_time": "2025-07-04T08:09:55.064809",
     "status": "completed"
    },
    "tags": []
   },
   "source": [
    "### Input and output files"
   ]
  },
  {
   "cell_type": "markdown",
   "id": "08e17a79",
   "metadata": {
    "papermill": {
     "duration": 0.004023,
     "end_time": "2025-07-04T08:09:55.078738",
     "exception": false,
     "start_time": "2025-07-04T08:09:55.074715",
     "status": "completed"
    },
    "tags": []
   },
   "source": [
    "If necessary, the plate model will be downloaded:"
   ]
  },
  {
   "cell_type": "code",
   "execution_count": 5,
   "id": "60656f7c",
   "metadata": {
    "execution": {
     "iopub.execute_input": "2025-07-04T08:09:55.087915Z",
     "iopub.status.busy": "2025-07-04T08:09:55.087609Z",
     "iopub.status.idle": "2025-07-04T08:10:01.950167Z",
     "shell.execute_reply": "2025-07-04T08:10:01.949590Z"
    },
    "papermill": {
     "duration": 6.868778,
     "end_time": "2025-07-04T08:10:01.951535",
     "exception": false,
     "start_time": "2025-07-04T08:09:55.082757",
     "status": "completed"
    },
    "tags": []
   },
   "outputs": [],
   "source": [
    "plate_model_dir = \"plate_model\"\n",
    "if use_provided_plate_model:\n",
    "    check_plate_model(plate_model_dir, verbose=True)\n",
    "    plate_model_name = None\n",
    "plate_model = get_plate_reconstruction(\n",
    "    model_name=plate_model_name,\n",
    "    model_dir=plate_model_dir,\n",
    ")\n",
    "\n",
    "Path(data_dir).mkdir(parents=True, exist_ok=True)"
   ]
  },
  {
   "cell_type": "markdown",
   "id": "489edaa8",
   "metadata": {
    "papermill": {
     "duration": 0.004148,
     "end_time": "2025-07-04T08:10:01.998819",
     "exception": false,
     "start_time": "2025-07-04T08:10:01.994671",
     "status": "completed"
    },
    "tags": []
   },
   "source": [
    "The following input directories are all relative to `data_dir`:"
   ]
  },
  {
   "cell_type": "code",
   "execution_count": null,
   "id": "c7d7de4c",
   "metadata": {
    "execution": {
     "iopub.execute_input": "2025-07-04T08:10:02.007878Z",
     "iopub.status.busy": "2025-07-04T08:10:02.007575Z",
     "iopub.status.idle": "2025-07-04T08:10:02.011296Z",
     "shell.execute_reply": "2025-07-04T08:10:02.010840Z"
    },
    "papermill": {
     "duration": 0.009623,
     "end_time": "2025-07-04T08:10:02.012490",
     "exception": false,
     "start_time": "2025-07-04T08:10:02.002867",
     "status": "completed"
    },
    "tags": []
   },
   "outputs": [],
   "source": [
    "# Seafloor age grid directory\n",
    "# Filename format 'seafloor_age_{time}Ma.nc'\n",
    "agegrid_dir = \"SeafloorAge\"\n",
    "\n",
    "# Seafloor spreading rate directory\n",
    "# Filename format 'spreading_rate_{time}Ma.nc'\n",
    "spreadrate_dir = \"SpreadingRate\"\n",
    "\n",
    "# Seafloor sediment thickness directory\n",
    "# Filename format 'sediment_thickness_{time}Ma.nc'\n",
    "sedthick_dir = \"SedimentThickness\"\n",
    "\n",
    "# Seafloor carbonate sediment thickness directory\n",
    "# Filename format 'carbonate_thickness_{time}Ma.nc'\n",
    "carbonate_dir = \"CarbonateThickness\"\n",
    "\n",
    "# Oceanic crustal CO2 density directory\n",
    "# Filename format 'crustal_co2_{time}Ma.nc'\n",
    "co2_dir = \"CrustalCO2\"\n",
    "\n",
    "# Overriding plate thickness directory\n",
    "# Filename format 'crustal_thickness_{time}Ma.nc'\n",
    "crustal_thickness_dir = \"CrustalThickness\"\n",
    "\n",
    "# Erosion/deposition rate directory\n",
    "# Filename format 'erosion_deposition_{time}Ma.nc'\n",
    "erodep_dir = \"ErosionDeposition\""
   ]
  },
  {
   "cell_type": "code",
   "execution_count": null,
   "id": "32544941",
   "metadata": {
    "execution": {
     "iopub.execute_input": "2025-07-04T08:10:02.021092Z",
     "iopub.status.busy": "2025-07-04T08:10:02.020867Z",
     "iopub.status.idle": "2025-07-04T08:10:02.024679Z",
     "shell.execute_reply": "2025-07-04T08:10:02.024228Z"
    },
    "papermill": {
     "duration": 0.009466,
     "end_time": "2025-07-04T08:10:02.025899",
     "exception": false,
     "start_time": "2025-07-04T08:10:02.016433",
     "status": "completed"
    },
    "tags": []
   },
   "outputs": [],
   "source": [
    "# Handle relative file/directory paths\n",
    "if not os.path.isfile(deposits_filename):\n",
    "    deposits_filename = os.path.join(data_dir, deposits_filename)\n",
    "agegrid_dir = os.path.join(data_dir, agegrid_dir)\n",
    "spreadrate_dir = os.path.join(data_dir, spreadrate_dir)\n",
    "sedthick_dir = os.path.join(data_dir, sedthick_dir)\n",
    "carbonate_dir = os.path.join(data_dir, carbonate_dir)\n",
    "co2_dir = os.path.join(data_dir, co2_dir)\n",
    "crustal_thickness_dir = os.path.join(data_dir, crustal_thickness_dir)\n",
    "erodep_dir = os.path.join(data_dir, erodep_dir)\n",
    "\n",
    "subduction_data_filename = os.path.join(output_dir, \"subducting_plate_data.csv\")\n",
    "study_area_dir = os.path.join(output_dir, \"study_area_polygons\")\n",
    "output_filename = os.path.join(output_dir, \"training_data_global.csv\")"
   ]
  },
  {
   "attachments": {},
   "cell_type": "markdown",
   "id": "ad4521b6",
   "metadata": {
    "papermill": {
     "duration": 0.00328,
     "end_time": "2025-07-04T08:10:02.032666",
     "exception": false,
     "start_time": "2025-07-04T08:10:02.029386",
     "status": "completed"
    },
    "tags": []
   },
   "source": [
    "### Subducting plate data\n",
    "\n",
    "This cell will extract the subduction kinematics data from the plate model, along with datasets relating to the subducting oceanic plate: seafloor age, sediment and carbonate thickness, etc.\n",
    "However, if this data has already been extracted by another notebook and `overwrite` has not been set to `True`, then the data will be read from that file instead."
   ]
  },
  {
   "cell_type": "code",
   "execution_count": null,
   "id": "61eb7d37",
   "metadata": {
    "execution": {
     "iopub.execute_input": "2025-07-04T08:10:02.040265Z",
     "iopub.status.busy": "2025-07-04T08:10:02.040034Z",
     "iopub.status.idle": "2025-07-04T08:10:20.230746Z",
     "shell.execute_reply": "2025-07-04T08:10:20.229266Z"
    },
    "papermill": {
     "duration": 18.19914,
     "end_time": "2025-07-04T08:10:20.234965",
     "exception": false,
     "start_time": "2025-07-04T08:10:02.035825",
     "status": "completed"
    },
    "tags": []
   },
   "outputs": [],
   "source": [
    "if (\n",
    "    subduction_data_filename is not None and os.path.isfile(subduction_data_filename)\n",
    ") and (not overwrite):\n",
    "    subduction_data = pd.read_csv(subduction_data_filename)\n",
    "else:\n",
    "    subduction_data = run_calculate_convergence(\n",
    "        nprocs=n_jobs,\n",
    "        min_time=min(times),\n",
    "        max_time=max(times),\n",
    "        plate_reconstruction=plate_model,\n",
    "        verbose=verbose,\n",
    "    )\n",
    "\n",
    "    subduction_data = run_coregister_ocean_rasters(\n",
    "        nprocs=n_jobs,\n",
    "        times=times,\n",
    "        input_data=subduction_data,\n",
    "        agegrid_dir=agegrid_dir,\n",
    "        spreadrate_dir=spreadrate_dir,\n",
    "        plate_reconstruction=plate_model,\n",
    "        sedthick_dir=sedthick_dir,\n",
    "        carbonate_dir=carbonate_dir,\n",
    "        co2_dir=co2_dir,\n",
    "        verbose=verbose,\n",
    "    )\n",
    "    subduction_data[\"plate_thickness (m)\"] = plate_isotherm_depth(\n",
    "        subduction_data[\"seafloor_age (Ma)\"],\n",
    "        maxiter=100,\n",
    "    )\n",
    "    subduction_data = calculate_water_thickness(data=subduction_data)\n",
    "    subduction_data = calculate_carbon(subduction_data)\n",
    "    subduction_data = calculate_slab_flux(subduction_data)\n",
    "    subduction_data = calculate_slab_dip(subduction_data)\n",
    "    subduction_data = extract_subducted_thickness(\n",
    "        subduction_data,\n",
    "        plate_reconstruction=plate_model,\n",
    "    )\n",
    "    subduction_data[\"sediment_flux (m^2/yr)\"] = (\n",
    "        subduction_data[\"sediment_thickness (m)\"]\n",
    "        * subduction_data[\"convergence_rate_orthogonal (cm/yr)\"] * 1.0e-2\n",
    "    ).clip(0.0, np.inf)\n",
    "    subduction_data[\"carbon_flux (t/m/yr)\"] = (\n",
    "        subduction_data[\"total_carbon_density (t/m^2)\"]\n",
    "        * subduction_data[\"convergence_rate_orthogonal (cm/yr)\"] * 1.0e-2\n",
    "    ).clip(0.0, np.inf)\n",
    "    subduction_data[\"water_flux (m^2/yr)\"] = (\n",
    "        subduction_data[\"total_water_thickness (m)\"]\n",
    "        * subduction_data[\"convergence_rate_orthogonal (cm/yr)\"] * 1.0e-2\n",
    "    ).clip(0.0, np.inf)\n",
    "\n",
    "    if subduction_data_filename is not None:\n",
    "        subduction_data.to_csv(subduction_data_filename, index=False)"
   ]
  },
  {
   "attachments": {},
   "cell_type": "markdown",
   "id": "c13f1fcf",
   "metadata": {
    "papermill": {
     "duration": 0.004891,
     "end_time": "2025-07-04T08:10:20.247326",
     "exception": false,
     "start_time": "2025-07-04T08:10:20.242435",
     "status": "completed"
    },
    "tags": []
   },
   "source": [
    "### Create study area polygons along subduction zones\n",
    "\n",
    "Here we define our study area as all points on the overriding plate within a certain distance of the subduction zone (by default, $6 \\degree, \\approx 660\\mathrm{km}$)"
   ]
  },
  {
   "cell_type": "code",
   "execution_count": 11,
   "id": "c9007fbf",
   "metadata": {
    "execution": {
     "iopub.execute_input": "2025-07-04T08:10:20.259571Z",
     "iopub.status.busy": "2025-07-04T08:10:20.259250Z",
     "iopub.status.idle": "2025-07-04T08:10:20.265227Z",
     "shell.execute_reply": "2025-07-04T08:10:20.264695Z"
    },
    "papermill": {
     "duration": 0.01392,
     "end_time": "2025-07-04T08:10:20.266654",
     "exception": false,
     "start_time": "2025-07-04T08:10:20.252734",
     "status": "completed"
    },
    "tags": []
   },
   "outputs": [],
   "source": [
    "from lib.create_study_area_polygons import DEFAULT_SZ_BUFFER_DISTANCE\n",
    "\n",
    "buffer_distance = DEFAULT_SZ_BUFFER_DISTANCE  # 6.0\n",
    "\n",
    "if overwrite or not os.path.isdir(study_area_dir):\n",
    "    run_create_study_area_polygons(\n",
    "        nprocs=n_jobs,\n",
    "        times=times,\n",
    "        plate_reconstruction=plate_model,\n",
    "        output_dir=study_area_dir,\n",
    "        buffer_distance=buffer_distance,\n",
    "        verbose=verbose,\n",
    "        return_output=False,\n",
    "    )"
   ]
  },
  {
   "attachments": {},
   "cell_type": "markdown",
   "id": "fd820aa6",
   "metadata": {
    "papermill": {
     "duration": 0.004254,
     "end_time": "2025-07-04T08:10:20.275565",
     "exception": false,
     "start_time": "2025-07-04T08:10:20.271311",
     "status": "completed"
    },
    "tags": []
   },
   "source": [
    "### Generate random unlabelled data points\n",
    "\n",
    "The unlabelled set is created by generating uniformly-distributed random points within the polygons created in the previous cell. To change the number of points generated at each timestep, modify the `num_unlabelled` parameter defined earlier."
   ]
  },
  {
   "cell_type": "code",
   "execution_count": 12,
   "id": "469bcdb3",
   "metadata": {
    "execution": {
     "iopub.execute_input": "2025-07-04T08:10:20.285186Z",
     "iopub.status.busy": "2025-07-04T08:10:20.284917Z",
     "iopub.status.idle": "2025-07-04T09:06:43.117279Z",
     "shell.execute_reply": "2025-07-04T09:06:43.114416Z"
    },
    "papermill": {
     "duration": 3382.862274,
     "end_time": "2025-07-04T09:06:43.142130",
     "exception": false,
     "start_time": "2025-07-04T08:10:20.279856",
     "status": "completed"
    },
    "tags": []
   },
   "outputs": [],
   "source": [
    "unlabelled = generate_unlabelled_points(\n",
    "    times=times,\n",
    "    input_dir=study_area_dir,\n",
    "    num=num_unlabelled,\n",
    "    threads=n_jobs,\n",
    "    seed=random_seed,\n",
    "    plate_reconstruction=plate_model,\n",
    "    verbose=verbose,\n",
    ")"
   ]
  },
  {
   "attachments": {},
   "cell_type": "markdown",
   "id": "f8775853",
   "metadata": {
    "papermill": {
     "duration": 0.004651,
     "end_time": "2025-07-04T09:06:43.166687",
     "exception": false,
     "start_time": "2025-07-04T09:06:43.162036",
     "status": "completed"
    },
    "tags": []
   },
   "source": [
    "### Combine labelled deposit/non-deposit data with random unlabelled data\n",
    "\n",
    "The function below wrangles the points generated in the previous cell into the same format as the deposit location data."
   ]
  },
  {
   "cell_type": "code",
   "execution_count": 13,
   "id": "f002d601",
   "metadata": {
    "execution": {
     "iopub.execute_input": "2025-07-04T09:06:43.185125Z",
     "iopub.status.busy": "2025-07-04T09:06:43.184722Z",
     "iopub.status.idle": "2025-07-04T09:10:59.448435Z",
     "shell.execute_reply": "2025-07-04T09:10:59.447336Z"
    },
    "papermill": {
     "duration": 256.274681,
     "end_time": "2025-07-04T09:10:59.450262",
     "exception": false,
     "start_time": "2025-07-04T09:06:43.175581",
     "status": "completed"
    },
    "tags": []
   },
   "outputs": [],
   "source": [
    "combined_points = combine_point_data(\n",
    "    deposit_data=deposits_filename,\n",
    "    unlabelled_data=unlabelled,\n",
    "    plate_reconstruction=plate_model,\n",
    "    study_area_dir=study_area_dir,\n",
    "    min_time=min(times),\n",
    "    max_time=max(times),\n",
    "    n_jobs=n_jobs,\n",
    "    verbose=verbose,\n",
    ")\n",
    "del unlabelled\n",
    "combined_points = combined_points.dropna(subset=[\"present_lon\", \"present_lat\"])"
   ]
  },
  {
   "attachments": {},
   "cell_type": "markdown",
   "id": "5da1c1a7",
   "metadata": {
    "papermill": {
     "duration": 0.004697,
     "end_time": "2025-07-04T09:10:59.460812",
     "exception": false,
     "start_time": "2025-07-04T09:10:59.456115",
     "status": "completed"
    },
    "tags": []
   },
   "source": [
    "### Assign subduction data to point deposit/non-deposit/unlabelled data\n",
    "\n",
    "Here we assign the appropriate values for the subduction-related parameters (kinematics, seafloor age, etc.) to the deposit sites and random locations."
   ]
  },
  {
   "cell_type": "code",
   "execution_count": 14,
   "id": "6f932fe0",
   "metadata": {
    "execution": {
     "iopub.execute_input": "2025-07-04T09:10:59.472734Z",
     "iopub.status.busy": "2025-07-04T09:10:59.472339Z",
     "iopub.status.idle": "2025-07-04T09:11:15.315310Z",
     "shell.execute_reply": "2025-07-04T09:11:15.314590Z"
    },
    "papermill": {
     "duration": 15.852811,
     "end_time": "2025-07-04T09:11:15.318485",
     "exception": false,
     "start_time": "2025-07-04T09:10:59.465674",
     "status": "completed"
    },
    "tags": []
   },
   "outputs": [],
   "source": [
    "coregistered_data = run_coregister_combined_point_data(\n",
    "    point_data=combined_points,\n",
    "    subduction_data=subduction_data,\n",
    "    n_jobs=n_jobs,\n",
    "    verbose=verbose,\n",
    ")\n",
    "del combined_points, subduction_data"
   ]
  },
  {
   "attachments": {},
   "cell_type": "markdown",
   "id": "049e3a37",
   "metadata": {
    "papermill": {
     "duration": 0.004926,
     "end_time": "2025-07-04T09:11:15.330168",
     "exception": false,
     "start_time": "2025-07-04T09:11:15.325242",
     "status": "completed"
    },
    "tags": []
   },
   "source": [
    "### Assign crustal thickness data to point data\n",
    "\n",
    "This cell extracts the overriding plate thickness at each point."
   ]
  },
  {
   "cell_type": "code",
   "execution_count": 15,
   "id": "63ca008c",
   "metadata": {
    "execution": {
     "iopub.execute_input": "2025-07-04T09:11:15.345955Z",
     "iopub.status.busy": "2025-07-04T09:11:15.345644Z",
     "iopub.status.idle": "2025-07-04T09:11:25.046965Z",
     "shell.execute_reply": "2025-07-04T09:11:25.046136Z"
    },
    "papermill": {
     "duration": 9.710977,
     "end_time": "2025-07-04T09:11:25.048879",
     "exception": false,
     "start_time": "2025-07-04T09:11:15.337902",
     "status": "completed"
    },
    "tags": []
   },
   "outputs": [],
   "source": [
    "coregistered_data = run_coregister_crustal_thickness(\n",
    "    point_data=coregistered_data,\n",
    "    input_dir=crustal_thickness_dir,\n",
    "    n_jobs=n_jobs,\n",
    "    verbose=verbose,\n",
    ")"
   ]
  },
  {
   "cell_type": "markdown",
   "id": "930468be",
   "metadata": {
    "papermill": {
     "duration": 0.007104,
     "end_time": "2025-07-04T09:11:25.063062",
     "exception": false,
     "start_time": "2025-07-04T09:11:25.055958",
     "status": "completed"
    },
    "tags": []
   },
   "source": [
    "### Calculate cumulative erosion\n",
    "\n",
    "Here we calculate the cumulative erosion experienced by each deposit/random point since its time of formation."
   ]
  },
  {
   "cell_type": "code",
   "execution_count": 16,
   "id": "15fe4a5c",
   "metadata": {
    "execution": {
     "iopub.execute_input": "2025-07-04T09:11:25.075735Z",
     "iopub.status.busy": "2025-07-04T09:11:25.075425Z",
     "iopub.status.idle": "2025-07-04T09:13:23.265063Z",
     "shell.execute_reply": "2025-07-04T09:13:23.264287Z"
    },
    "papermill": {
     "duration": 118.199883,
     "end_time": "2025-07-04T09:13:23.268484",
     "exception": false,
     "start_time": "2025-07-04T09:11:25.068601",
     "status": "completed"
    },
    "tags": []
   },
   "outputs": [],
   "source": [
    "coregistered_data = calculate_erodep(\n",
    "    coregistered_data,\n",
    "    input_dir=erodep_dir,\n",
    "    n_jobs=n_jobs,\n",
    "    column_name=\"erosion (m)\",\n",
    "    verbose=verbose,\n",
    ")"
   ]
  },
  {
   "cell_type": "markdown",
   "id": "a4d0d00f",
   "metadata": {
    "papermill": {
     "duration": 0.004539,
     "end_time": "2025-07-04T09:13:23.278285",
     "exception": false,
     "start_time": "2025-07-04T09:13:23.273746",
     "status": "completed"
    },
    "tags": []
   },
   "source": [
    "### Assign data to regions\n",
    "\n",
    "To divide the data into individual regions for the later analysis, we use the `regions_filename` defined earlier, if desired."
   ]
  },
  {
   "cell_type": "code",
   "execution_count": 17,
   "id": "98a93d0e",
   "metadata": {
    "execution": {
     "iopub.execute_input": "2025-07-04T09:13:23.290938Z",
     "iopub.status.busy": "2025-07-04T09:13:23.290471Z",
     "iopub.status.idle": "2025-07-04T09:13:23.428304Z",
     "shell.execute_reply": "2025-07-04T09:13:23.427651Z"
    },
    "papermill": {
     "duration": 0.147059,
     "end_time": "2025-07-04T09:13:23.430592",
     "exception": false,
     "start_time": "2025-07-04T09:13:23.283533",
     "status": "completed"
    },
    "tags": []
   },
   "outputs": [],
   "source": [
    "if regions_filename is not None and os.path.isfile(regions_filename):\n",
    "    points = gpd.GeoSeries.from_xy(\n",
    "        coregistered_data[\"present_lon\"],\n",
    "        coregistered_data[\"present_lat\"],\n",
    "        index=coregistered_data.index,\n",
    "    )\n",
    "    coregistered_data[\"region\"] = assign_regions(\n",
    "        points,\n",
    "        regions=regions_filename,\n",
    "    )\n",
    "    del points"
   ]
  },
  {
   "cell_type": "markdown",
   "id": "15be29d4",
   "metadata": {
    "papermill": {
     "duration": 0.004703,
     "end_time": "2025-07-04T09:13:23.440427",
     "exception": false,
     "start_time": "2025-07-04T09:13:23.435724",
     "status": "completed"
    },
    "tags": []
   },
   "source": [
    "### Save to file\n",
    "\n",
    "Finally, we write the dataset to a CSV file."
   ]
  },
  {
   "cell_type": "code",
   "execution_count": 18,
   "id": "a3de5c45",
   "metadata": {
    "execution": {
     "iopub.execute_input": "2025-07-04T09:13:23.457519Z",
     "iopub.status.busy": "2025-07-04T09:13:23.457074Z",
     "iopub.status.idle": "2025-07-04T09:13:26.177117Z",
     "shell.execute_reply": "2025-07-04T09:13:26.176607Z"
    },
    "papermill": {
     "duration": 2.763233,
     "end_time": "2025-07-04T09:13:26.210048",
     "exception": false,
     "start_time": "2025-07-04T09:13:23.446815",
     "status": "completed"
    },
    "tags": []
   },
   "outputs": [
    {
     "data": {
      "text/plain": [
       "region          label     \n",
       "East Asia       negative         9\n",
       "                positive         5\n",
       "                unlabelled    6892\n",
       "North America   negative        45\n",
       "                positive       257\n",
       "                unlabelled    7555\n",
       "Other           negative       203\n",
       "                positive         1\n",
       "                unlabelled    3659\n",
       "South America   negative      1096\n",
       "                positive       211\n",
       "                unlabelled    5469\n",
       "Southeast Asia  negative         4\n",
       "                positive        55\n",
       "                unlabelled    7461\n",
       "Tethys          negative        20\n",
       "                positive        68\n",
       "                unlabelled    6026\n",
       "dtype: int64"
      ]
     },
     "execution_count": 18,
     "metadata": {},
     "output_type": "execute_result"
    }
   ],
   "source": [
    "coregistered_data.to_csv(output_filename, index=False)\n",
    "\n",
    "coregistered_data.groupby([\"region\", \"label\"]).size()"
   ]
  },
  {
   "cell_type": "code",
   "execution_count": null,
   "id": "a78df4c5",
   "metadata": {
    "papermill": {
     "duration": 0.004528,
     "end_time": "2025-07-04T09:13:26.221940",
     "exception": false,
     "start_time": "2025-07-04T09:13:26.217412",
     "status": "completed"
    },
    "tags": []
   },
   "outputs": [],
   "source": []
  }
 ],
 "metadata": {
  "kernelspec": {
   "display_name": "prospectivity",
   "language": "python",
   "name": "python3"
  },
  "language_info": {
   "codemirror_mode": {
    "name": "ipython",
    "version": 3
   },
   "file_extension": ".py",
   "mimetype": "text/x-python",
   "name": "python",
   "nbconvert_exporter": "python",
   "pygments_lexer": "ipython3",
   "version": "3.13.5"
  },
  "papermill": {
   "default_parameters": {},
   "duration": 3819.578837,
   "end_time": "2025-07-04T09:13:28.976142",
   "environment_variables": {},
   "exception": null,
   "input_path": "00b-extract_training_data.ipynb",
   "output_path": "00b-extract_training_data_output.ipynb",
   "parameters": {},
   "start_time": "2025-07-04T08:09:49.397305",
   "version": "2.4.0"
  }
 },
 "nbformat": 4,
 "nbformat_minor": 5
}
