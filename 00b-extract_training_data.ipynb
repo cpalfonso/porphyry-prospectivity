{
 "cells": [
  {
   "cell_type": "markdown",
   "id": "9e474db9",
   "metadata": {
    "papermill": {
     "duration": 0.010681,
     "end_time": "2024-11-14T04:16:25.560519",
     "exception": false,
     "start_time": "2024-11-14T04:16:25.549838",
     "status": "completed"
    },
    "tags": []
   },
   "source": [
    "# Extract training data\n",
    "\n",
    "This notebook will extract plate kinematic data from a plate model and other data from the `source_data` directory, writing the resulting dataset to a CSV file which can then be used to train the models in the following notebooks (`01*.ipynb`)."
   ]
  },
  {
   "cell_type": "markdown",
   "id": "30cbeab9",
   "metadata": {
    "papermill": {
     "duration": 0.005439,
     "end_time": "2024-11-14T04:16:25.572081",
     "exception": false,
     "start_time": "2024-11-14T04:16:25.566642",
     "status": "completed"
    },
    "tags": []
   },
   "source": [
    "## Notebook options\n",
    "\n",
    "These cells set some of the important variables and definitions used throughout the notebook."
   ]
  },
  {
   "cell_type": "code",
   "execution_count": 1,
   "id": "c2d98f0b",
   "metadata": {
    "execution": {
     "iopub.execute_input": "2024-11-14T04:16:25.583182Z",
     "iopub.status.busy": "2024-11-14T04:16:25.582902Z",
     "iopub.status.idle": "2024-11-14T04:16:25.586886Z",
     "shell.execute_reply": "2024-11-14T04:16:25.586321Z"
    },
    "papermill": {
     "duration": 0.011126,
     "end_time": "2024-11-14T04:16:25.588189",
     "exception": false,
     "start_time": "2024-11-14T04:16:25.577063",
     "status": "completed"
    },
    "tags": []
   },
   "outputs": [],
   "source": [
    "config_file = \"notebook_parameters_test.yml\""
   ]
  },
  {
   "cell_type": "code",
   "execution_count": null,
   "id": "52a81cf2",
   "metadata": {
    "execution": {
     "iopub.execute_input": "2024-11-14T04:16:25.598529Z",
     "iopub.status.busy": "2024-11-14T04:16:25.598286Z",
     "iopub.status.idle": "2024-11-14T04:16:25.637815Z",
     "shell.execute_reply": "2024-11-14T04:16:25.636752Z"
    },
    "papermill": {
     "duration": 0.046291,
     "end_time": "2024-11-14T04:16:25.639173",
     "exception": false,
     "start_time": "2024-11-14T04:16:25.592882",
     "status": "completed"
    },
    "tags": []
   },
   "outputs": [],
   "source": [
    "from lib.load_params import get_params\n",
    "\n",
    "params = get_params(config_file, notebook=\"00b\")\n",
    "\n",
    "# Directory for output\n",
    "data_dir = params[\"extracted_data_dir\"]\n",
    "output_dir = data_dir\n",
    "\n",
    "# Number of processes to use\n",
    "n_jobs = params[\"n_jobs\"]\n",
    "\n",
    "# Overwrite any existing output files\n",
    "overwrite = params[\"overwrite_output\"]\n",
    "\n",
    "# Control verbosity level of logging output\n",
    "verbose = params[\"verbose\"]\n",
    "\n",
    "# Timespan for analysis\n",
    "min_time = params[\"timespan\"][\"min\"]\n",
    "max_time = params[\"timespan\"][\"max\"]\n",
    "times = range(min_time, max_time + 1)\n",
    "\n",
    "# Number of unlabelled points to generate\n",
    "num_unlabelled = params[\"num_unlabelled\"]  # per timestep\n",
    "\n",
    "# Random seed for reproducibility\n",
    "random_seed = params[\"random_seed\"]\n",
    "\n",
    "# CSV file with known deposits; columns:\n",
    "# lon, lat, age (Ma)\n",
    "deposits_filename = params[\"deposits_filename\"]\n",
    "\n",
    "# If desired, categorise deposits according to location\n",
    "# Should be a shapefile or GeoJSON containing polygons\n",
    "# with a 'region' attribute\n",
    "regions_filename = params[\"regions_filename\"]"
   ]
  },
  {
   "cell_type": "markdown",
   "id": "ab57c3d5",
   "metadata": {
    "papermill": {
     "duration": 0.004714,
     "end_time": "2024-11-14T04:16:25.648145",
     "exception": false,
     "start_time": "2024-11-14T04:16:25.643431",
     "status": "completed"
    },
    "tags": []
   },
   "source": [
    "### Select plate model\n",
    "\n",
    "To use the plate model from the published paper (Alfonso et al., 2024), set `use_provided_plate_model` to `True`. Otherwise, leave `use_provided_plate_model` as `False` and set `plate_model_name` to a valid model name for the [`plate-model-manager`](https://github.com/michaelchin/plate-model-manager/blob/4f66423b53950bf42f5dac1228e61fd1e19fdf6e/models.json) package, or set `plate_model_name` to `None` and place GPlates files in a directory named `plate_model`.\n",
    "\n",
    "| `use_provided_plate_model` | `plate_model_name` | result |\n",
    "| - | - | - |\n",
    "| `True` | Any | Use Alfonso et al., 2024 model |\n",
    "| `False` | Model name string (e.g. `\"muller2022\"`) | Use specified plate model |\n",
    "| `False` | `None` | Use files in `plate_model` directory |"
   ]
  },
  {
   "cell_type": "code",
   "execution_count": 3,
   "id": "7b7b1534",
   "metadata": {
    "execution": {
     "iopub.execute_input": "2024-11-14T04:16:25.658295Z",
     "iopub.status.busy": "2024-11-14T04:16:25.658073Z",
     "iopub.status.idle": "2024-11-14T04:16:25.661122Z",
     "shell.execute_reply": "2024-11-14T04:16:25.660495Z"
    },
    "papermill": {
     "duration": 0.009929,
     "end_time": "2024-11-14T04:16:25.662587",
     "exception": false,
     "start_time": "2024-11-14T04:16:25.652658",
     "status": "completed"
    },
    "tags": []
   },
   "outputs": [],
   "source": [
    "plate_model_name = params[\"plate_model\"][\"plate_model_name\"]\n",
    "use_provided_plate_model = params[\"plate_model\"][\"use_provided_plate_model\"]"
   ]
  },
  {
   "cell_type": "markdown",
   "id": "0aa8fc32",
   "metadata": {
    "papermill": {
     "duration": 0.005122,
     "end_time": "2024-11-14T04:16:25.672534",
     "exception": false,
     "start_time": "2024-11-14T04:16:25.667412",
     "status": "completed"
    },
    "tags": []
   },
   "source": [
    "## Notebook setup\n",
    "\n",
    "Imports, definitions, etc."
   ]
  },
  {
   "cell_type": "markdown",
   "id": "fce1302b",
   "metadata": {
    "papermill": {
     "duration": 0.003758,
     "end_time": "2024-11-14T04:16:25.680212",
     "exception": false,
     "start_time": "2024-11-14T04:16:25.676454",
     "status": "completed"
    },
    "tags": []
   },
   "source": [
    "### Imports"
   ]
  },
  {
   "cell_type": "code",
   "execution_count": 4,
   "id": "a92a09be",
   "metadata": {
    "execution": {
     "iopub.execute_input": "2024-11-14T04:16:25.690138Z",
     "iopub.status.busy": "2024-11-14T04:16:25.689849Z",
     "iopub.status.idle": "2024-11-14T04:16:28.831253Z",
     "shell.execute_reply": "2024-11-14T04:16:28.830484Z"
    },
    "papermill": {
     "duration": 3.148675,
     "end_time": "2024-11-14T04:16:28.832766",
     "exception": false,
     "start_time": "2024-11-14T04:16:25.684091",
     "status": "completed"
    },
    "tags": []
   },
   "outputs": [
    {
     "name": "stdout",
     "output_type": "stream",
     "text": [
      "env: PYTHONWARNINGS=ignore::UserWarning\n"
     ]
    }
   ],
   "source": [
    "import os\n",
    "import warnings\n",
    "from pathlib import Path\n",
    "\n",
    "import geopandas as gpd\n",
    "import numpy as np\n",
    "import pandas as pd\n",
    "from gplately.tools import plate_isotherm_depth\n",
    "\n",
    "from lib.assign_regions import assign_regions\n",
    "from lib.calculate_convergence import run_calculate_convergence\n",
    "from lib.check_files import (\n",
    "    check_source_data,\n",
    "    check_plate_model,\n",
    ")\n",
    "from lib.combine_point_data import combine_point_data\n",
    "from lib.coregister_combined_point_data import run_coregister_combined_point_data\n",
    "from lib.coregister_crustal_thickness import run_coregister_crustal_thickness\n",
    "from lib.coregister_ocean_rasters import (\n",
    "    extract_subducted_thickness,\n",
    "    run_coregister_ocean_rasters,\n",
    ")\n",
    "from lib.create_study_area_polygons import run_create_study_area_polygons\n",
    "from lib.erodep import calculate_erodep\n",
    "from lib.generate_unlabelled_points import generate_unlabelled_points\n",
    "from lib.misc import calculate_slab_flux, calculate_carbon\n",
    "from lib.plate_models import get_plate_reconstruction\n",
    "from lib.slab_dip import calculate_slab_dip\n",
    "from lib.water import calculate_water_thickness\n",
    "\n",
    "# Suppress occasional joblib warnings\n",
    "%env PYTHONWARNINGS=ignore::UserWarning\n",
    "warnings.simplefilter(\"ignore\", UserWarning)"
   ]
  },
  {
   "attachments": {},
   "cell_type": "markdown",
   "id": "880580d1",
   "metadata": {
    "papermill": {
     "duration": 0.00496,
     "end_time": "2024-11-14T04:16:28.843049",
     "exception": false,
     "start_time": "2024-11-14T04:16:28.838089",
     "status": "completed"
    },
    "tags": []
   },
   "source": [
    "### Input and output files"
   ]
  },
  {
   "cell_type": "markdown",
   "id": "08e17a79",
   "metadata": {
    "papermill": {
     "duration": 0.004801,
     "end_time": "2024-11-14T04:16:28.852551",
     "exception": false,
     "start_time": "2024-11-14T04:16:28.847750",
     "status": "completed"
    },
    "tags": []
   },
   "source": [
    "If necessary, the plate model will be downloaded:"
   ]
  },
  {
   "cell_type": "code",
   "execution_count": 5,
   "id": "60656f7c",
   "metadata": {
    "execution": {
     "iopub.execute_input": "2024-11-14T04:16:28.863594Z",
     "iopub.status.busy": "2024-11-14T04:16:28.863298Z",
     "iopub.status.idle": "2024-11-14T04:16:35.601956Z",
     "shell.execute_reply": "2024-11-14T04:16:35.601356Z"
    },
    "papermill": {
     "duration": 6.74653,
     "end_time": "2024-11-14T04:16:35.603942",
     "exception": false,
     "start_time": "2024-11-14T04:16:28.857412",
     "status": "completed"
    },
    "tags": []
   },
   "outputs": [],
   "source": [
    "plate_model_dir = \"plate_model\"\n",
    "if use_provided_plate_model:\n",
    "    check_plate_model(plate_model_dir, verbose=True)\n",
    "    plate_model_name = None\n",
    "plate_model = get_plate_reconstruction(\n",
    "    model_name=plate_model_name,\n",
    "    model_dir=plate_model_dir,\n",
    ")\n",
    "\n",
    "Path(data_dir).mkdir(parents=True, exist_ok=True)"
   ]
  },
  {
   "cell_type": "markdown",
   "id": "a1e6b313",
   "metadata": {
    "papermill": {
     "duration": 0.004409,
     "end_time": "2024-11-14T04:16:35.613289",
     "exception": false,
     "start_time": "2024-11-14T04:16:35.608880",
     "status": "completed"
    },
    "tags": []
   },
   "source": [
    "The directory containing the datasets to be extracted:"
   ]
  },
  {
   "cell_type": "code",
   "execution_count": 6,
   "id": "9bb00231",
   "metadata": {
    "execution": {
     "iopub.execute_input": "2024-11-14T04:16:35.624419Z",
     "iopub.status.busy": "2024-11-14T04:16:35.624193Z",
     "iopub.status.idle": "2024-11-14T04:16:35.626502Z",
     "shell.execute_reply": "2024-11-14T04:16:35.626072Z"
    },
    "papermill": {
     "duration": 0.009285,
     "end_time": "2024-11-14T04:16:35.627727",
     "exception": false,
     "start_time": "2024-11-14T04:16:35.618442",
     "status": "completed"
    },
    "tags": []
   },
   "outputs": [],
   "source": [
    "# data_dir = \"source_data\"\n",
    "# data_dir = check_source_data(data_dir, verbose=verbose)"
   ]
  },
  {
   "cell_type": "markdown",
   "id": "bdbcd39d",
   "metadata": {
    "papermill": {
     "duration": 0.004778,
     "end_time": "2024-11-14T04:16:35.636653",
     "exception": false,
     "start_time": "2024-11-14T04:16:35.631875",
     "status": "completed"
    },
    "tags": []
   },
   "source": [
    "Output files will be created in this directory:"
   ]
  },
  {
   "cell_type": "code",
   "execution_count": 7,
   "id": "3cdb93cc",
   "metadata": {
    "execution": {
     "iopub.execute_input": "2024-11-14T04:16:35.650684Z",
     "iopub.status.busy": "2024-11-14T04:16:35.650261Z",
     "iopub.status.idle": "2024-11-14T04:16:35.653108Z",
     "shell.execute_reply": "2024-11-14T04:16:35.652533Z"
    },
    "papermill": {
     "duration": 0.01232,
     "end_time": "2024-11-14T04:16:35.654452",
     "exception": false,
     "start_time": "2024-11-14T04:16:35.642132",
     "status": "completed"
    },
    "tags": []
   },
   "outputs": [],
   "source": [
    "# output_dir = \"extracted_data\"\n",
    "# os.makedirs(output_dir, exist_ok=True)"
   ]
  },
  {
   "cell_type": "markdown",
   "id": "489edaa8",
   "metadata": {
    "papermill": {
     "duration": 0.005043,
     "end_time": "2024-11-14T04:16:35.664726",
     "exception": false,
     "start_time": "2024-11-14T04:16:35.659683",
     "status": "completed"
    },
    "tags": []
   },
   "source": [
    "The following input directories are all relative to `data_dir`:"
   ]
  },
  {
   "cell_type": "code",
   "execution_count": 8,
   "id": "c7d7de4c",
   "metadata": {
    "execution": {
     "iopub.execute_input": "2024-11-14T04:16:35.677088Z",
     "iopub.status.busy": "2024-11-14T04:16:35.676823Z",
     "iopub.status.idle": "2024-11-14T04:16:35.680677Z",
     "shell.execute_reply": "2024-11-14T04:16:35.680058Z"
    },
    "papermill": {
     "duration": 0.01113,
     "end_time": "2024-11-14T04:16:35.682080",
     "exception": false,
     "start_time": "2024-11-14T04:16:35.670950",
     "status": "completed"
    },
    "tags": []
   },
   "outputs": [],
   "source": [
    "# CSV file with known deposits; columns:\n",
    "# lon, lat, age (Ma)\n",
    "# deposits_filename = \"deposit_data_global.csv\"\n",
    "\n",
    "# If desired, categorise deposits according to location\n",
    "# Should be a shapefile or GeoJSON containing polygons\n",
    "# with a 'region' attribute\n",
    "# regions_filename = \"regions.geojson\"\n",
    "\n",
    "# Seafloor age grid directory\n",
    "# Filename format 'seafloor_age_{time}Ma.nc'\n",
    "agegrid_dir = \"SeafloorAge\"\n",
    "\n",
    "# Seafloor spreading rate directory\n",
    "# Filename format 'spreading_rate_{time}Ma.nc'\n",
    "spreadrate_dir = \"SpreadingRate\"\n",
    "\n",
    "# Seafloor sediment thickness directory\n",
    "# Filename format 'sediment_thickness_{time}Ma.nc'\n",
    "sedthick_dir = \"SedimentThickness\"\n",
    "\n",
    "# Seafloor carbonate sediment thickness directory\n",
    "# Filename format 'carbonate_thickness_{time}Ma.nc'\n",
    "carbonate_dir = \"CarbonateThickness\"\n",
    "\n",
    "# Oceanic crustal CO2 density directory\n",
    "# Filename format 'crustal_co2_{time}Ma.nc'\n",
    "co2_dir = \"CrustalCO2\"\n",
    "\n",
    "# Overriding plate thickness directory\n",
    "# Filename format 'crustal_thickness_{time}Ma.nc'\n",
    "crustal_thickness_dir = \"CrustalThickness\"\n",
    "\n",
    "# Cumulative subducted sediments/carbonates/etc. directory\n",
    "# Filename format 'sediment_thickness/cumulative_density_{time}Ma.nc',\n",
    "# 'carbonate_thickness/cumulative_density_{time}Ma.nc', etc.\n",
    "# subducted_quantities_dir = \"SubductedQuantities\"\n",
    "\n",
    "# Erosion/deposition rate directory\n",
    "# Filename format 'erosion_deposition_{time}Ma.nc'\n",
    "erodep_dir = \"ErosionDeposition\""
   ]
  },
  {
   "cell_type": "code",
   "execution_count": 9,
   "id": "32544941",
   "metadata": {
    "execution": {
     "iopub.execute_input": "2024-11-14T04:16:35.695847Z",
     "iopub.status.busy": "2024-11-14T04:16:35.695577Z",
     "iopub.status.idle": "2024-11-14T04:16:35.699788Z",
     "shell.execute_reply": "2024-11-14T04:16:35.699282Z"
    },
    "papermill": {
     "duration": 0.012455,
     "end_time": "2024-11-14T04:16:35.700969",
     "exception": false,
     "start_time": "2024-11-14T04:16:35.688514",
     "status": "completed"
    },
    "tags": []
   },
   "outputs": [],
   "source": [
    "# Handle relative file/directory paths\n",
    "\n",
    "deposits_filename = os.path.join(data_dir, deposits_filename)\n",
    "# regions_filename = os.path.join(data_dir, regions_filename)\n",
    "agegrid_dir = os.path.join(data_dir, agegrid_dir)\n",
    "spreadrate_dir = os.path.join(data_dir, spreadrate_dir)\n",
    "sedthick_dir = os.path.join(data_dir, sedthick_dir)\n",
    "carbonate_dir = os.path.join(data_dir, carbonate_dir)\n",
    "co2_dir = os.path.join(data_dir, co2_dir)\n",
    "crustal_thickness_dir = os.path.join(data_dir, crustal_thickness_dir)\n",
    "# subducted_quantities_dir = os.path.join(data_dir, subducted_quantities_dir)\n",
    "erodep_dir = os.path.join(data_dir, erodep_dir)\n",
    "\n",
    "subduction_data_filename = os.path.join(output_dir, \"subducting_plate_data.csv\")\n",
    "study_area_dir = os.path.join(output_dir, \"study_area_polygons\")\n",
    "output_filename = os.path.join(output_dir, \"training_data_global.csv\")"
   ]
  },
  {
   "attachments": {},
   "cell_type": "markdown",
   "id": "ad4521b6",
   "metadata": {
    "papermill": {
     "duration": 0.005166,
     "end_time": "2024-11-14T04:16:35.712117",
     "exception": false,
     "start_time": "2024-11-14T04:16:35.706951",
     "status": "completed"
    },
    "tags": []
   },
   "source": [
    "### Subducting plate data\n",
    "\n",
    "This cell will extract the subduction kinematics data from the plate model, along with datasets relating to the subducting oceanic plate: seafloor age, sediment and carbonate thickness, etc.\n",
    "However, if this data has already been extracted by another notebook and `overwrite` has not been set to `True`, then the data will be read from that file instead."
   ]
  },
  {
   "cell_type": "code",
   "execution_count": 10,
   "id": "61eb7d37",
   "metadata": {
    "execution": {
     "iopub.execute_input": "2024-11-14T04:16:35.726329Z",
     "iopub.status.busy": "2024-11-14T04:16:35.726049Z",
     "iopub.status.idle": "2024-11-14T04:50:25.523651Z",
     "shell.execute_reply": "2024-11-14T04:50:25.522913Z"
    },
    "papermill": {
     "duration": 2029.806281,
     "end_time": "2024-11-14T04:50:25.525174",
     "exception": false,
     "start_time": "2024-11-14T04:16:35.718893",
     "status": "completed"
    },
    "tags": []
   },
   "outputs": [],
   "source": [
    "if (\n",
    "    subduction_data_filename is not None and os.path.isfile(subduction_data_filename)\n",
    ") and (not overwrite):\n",
    "    subduction_data = pd.read_csv(subduction_data_filename)\n",
    "else:\n",
    "    subduction_data = run_calculate_convergence(\n",
    "        nprocs=n_jobs,\n",
    "        min_time=min(times),\n",
    "        max_time=max(times),\n",
    "        plate_reconstruction=plate_model,\n",
    "        verbose=verbose,\n",
    "    )\n",
    "\n",
    "    subduction_data = run_coregister_ocean_rasters(\n",
    "        nprocs=n_jobs,\n",
    "        times=times,\n",
    "        input_data=subduction_data,\n",
    "        agegrid_dir=agegrid_dir,\n",
    "        spreadrate_dir=spreadrate_dir,\n",
    "        plate_reconstruction=plate_model,\n",
    "        sedthick_dir=sedthick_dir,\n",
    "        carbonate_dir=carbonate_dir,\n",
    "        co2_dir=co2_dir,\n",
    "        # subducted_thickness_dir=os.path.join(\n",
    "        #     subducted_quantities_dir,\n",
    "        #     \"plate_thickness\",\n",
    "        # ),\n",
    "        # subducted_sediments_dir=os.path.join(\n",
    "        #     subducted_quantities_dir,\n",
    "        #     \"sediment_thickness\",\n",
    "        # ),\n",
    "        # subducted_carbonates_dir=os.path.join(\n",
    "        #     subducted_quantities_dir,\n",
    "        #     \"carbonate_thickness\",\n",
    "        # ),\n",
    "        # subducted_water_dir=os.path.join(\n",
    "        #     subducted_quantities_dir,\n",
    "        #     \"water_thickness\",\n",
    "        # ),\n",
    "        verbose=verbose,\n",
    "    )\n",
    "    subduction_data[\"plate_thickness (m)\"] = plate_isotherm_depth(\n",
    "        subduction_data[\"seafloor_age (Ma)\"],\n",
    "        maxiter=100,\n",
    "    )\n",
    "    subduction_data = calculate_water_thickness(data=subduction_data)\n",
    "    subduction_data = calculate_carbon(subduction_data)\n",
    "    subduction_data = calculate_slab_flux(subduction_data)\n",
    "    subduction_data = calculate_slab_dip(subduction_data)\n",
    "    subduction_data = extract_subducted_thickness(\n",
    "        subduction_data,\n",
    "        plate_reconstruction=plate_model,\n",
    "    )\n",
    "    subduction_data[\"sediment_flux (m^2/yr)\"] = (\n",
    "        subduction_data[\"sediment_thickness (m)\"]\n",
    "        * subduction_data[\"convergence_rate_orthogonal (cm/yr)\"] * 1.0e-2\n",
    "    ).clip(0.0, np.inf)\n",
    "    subduction_data[\"carbon_flux (t/m/yr)\"] = (\n",
    "        subduction_data[\"total_carbon_density (t/m^2)\"]\n",
    "        * subduction_data[\"convergence_rate_orthogonal (cm/yr)\"] * 1.0e-2\n",
    "    ).clip(0.0, np.inf)\n",
    "    subduction_data[\"water_flux (m^2/yr)\"] = (\n",
    "        subduction_data[\"total_water_thickness (m)\"]\n",
    "        * subduction_data[\"convergence_rate_orthogonal (cm/yr)\"] * 1.0e-2\n",
    "    ).clip(0.0, np.inf)\n",
    "\n",
    "    if subduction_data_filename is not None:\n",
    "        subduction_data.to_csv(subduction_data_filename, index=False)"
   ]
  },
  {
   "attachments": {},
   "cell_type": "markdown",
   "id": "c13f1fcf",
   "metadata": {
    "papermill": {
     "duration": 0.007175,
     "end_time": "2024-11-14T04:50:25.541584",
     "exception": false,
     "start_time": "2024-11-14T04:50:25.534409",
     "status": "completed"
    },
    "tags": []
   },
   "source": [
    "### Create study area polygons along subduction zones\n",
    "\n",
    "Here we define our study area as all points on the overriding plate within a certain distance of the subduction zone (by default, $6 \\degree, \\approx 660\\mathrm{km}$)"
   ]
  },
  {
   "cell_type": "code",
   "execution_count": 11,
   "id": "c9007fbf",
   "metadata": {
    "execution": {
     "iopub.execute_input": "2024-11-14T04:50:25.555126Z",
     "iopub.status.busy": "2024-11-14T04:50:25.554887Z",
     "iopub.status.idle": "2024-11-14T04:52:44.595861Z",
     "shell.execute_reply": "2024-11-14T04:52:44.594949Z"
    },
    "papermill": {
     "duration": 139.049836,
     "end_time": "2024-11-14T04:52:44.597635",
     "exception": false,
     "start_time": "2024-11-14T04:50:25.547799",
     "status": "completed"
    },
    "tags": []
   },
   "outputs": [],
   "source": [
    "from lib.create_study_area_polygons import DEFAULT_SZ_BUFFER_DISTANCE\n",
    "\n",
    "buffer_distance = DEFAULT_SZ_BUFFER_DISTANCE  # 6.0\n",
    "\n",
    "if overwrite or not os.path.isdir(study_area_dir):\n",
    "    run_create_study_area_polygons(\n",
    "        nprocs=n_jobs,\n",
    "        times=times,\n",
    "        plate_reconstruction=plate_model,\n",
    "        output_dir=study_area_dir,\n",
    "        buffer_distance=buffer_distance,\n",
    "        verbose=verbose,\n",
    "        return_output=False,\n",
    "    )"
   ]
  },
  {
   "attachments": {},
   "cell_type": "markdown",
   "id": "fd820aa6",
   "metadata": {
    "papermill": {
     "duration": 0.00576,
     "end_time": "2024-11-14T04:52:44.612899",
     "exception": false,
     "start_time": "2024-11-14T04:52:44.607139",
     "status": "completed"
    },
    "tags": []
   },
   "source": [
    "### Generate random unlabelled data points\n",
    "\n",
    "The unlabelled set is created by generating uniformly-distributed random points within the polygons created in the previous cell. To change the number of points generated at each timestep, modify the `num_unlabelled` parameter defined earlier."
   ]
  },
  {
   "cell_type": "code",
   "execution_count": 12,
   "id": "469bcdb3",
   "metadata": {
    "execution": {
     "iopub.execute_input": "2024-11-14T04:52:44.626616Z",
     "iopub.status.busy": "2024-11-14T04:52:44.626313Z",
     "iopub.status.idle": "2024-11-14T05:46:31.091587Z",
     "shell.execute_reply": "2024-11-14T05:46:31.091037Z"
    },
    "papermill": {
     "duration": 3226.473804,
     "end_time": "2024-11-14T05:46:31.092944",
     "exception": false,
     "start_time": "2024-11-14T04:52:44.619140",
     "status": "completed"
    },
    "tags": []
   },
   "outputs": [],
   "source": [
    "unlabelled = generate_unlabelled_points(\n",
    "    times=times,\n",
    "    input_dir=study_area_dir,\n",
    "    num=num_unlabelled,\n",
    "    threads=n_jobs,\n",
    "    seed=random_seed,\n",
    "    plate_reconstruction=plate_model,\n",
    "    verbose=verbose,\n",
    ")"
   ]
  },
  {
   "attachments": {},
   "cell_type": "markdown",
   "id": "f8775853",
   "metadata": {
    "papermill": {
     "duration": 0.004804,
     "end_time": "2024-11-14T05:46:31.105513",
     "exception": false,
     "start_time": "2024-11-14T05:46:31.100709",
     "status": "completed"
    },
    "tags": []
   },
   "source": [
    "### Combine labelled deposit/non-deposit data with random unlabelled data\n",
    "\n",
    "The function below wrangles the points generated in the previous cell into the same format as the deposit location data."
   ]
  },
  {
   "cell_type": "code",
   "execution_count": 13,
   "id": "f002d601",
   "metadata": {
    "execution": {
     "iopub.execute_input": "2024-11-14T05:46:31.116550Z",
     "iopub.status.busy": "2024-11-14T05:46:31.116287Z",
     "iopub.status.idle": "2024-11-14T05:50:12.532163Z",
     "shell.execute_reply": "2024-11-14T05:50:12.531518Z"
    },
    "papermill": {
     "duration": 221.423358,
     "end_time": "2024-11-14T05:50:12.533719",
     "exception": false,
     "start_time": "2024-11-14T05:46:31.110361",
     "status": "completed"
    },
    "tags": []
   },
   "outputs": [],
   "source": [
    "combined_points = combine_point_data(\n",
    "    deposit_data=deposits_filename,\n",
    "    unlabelled_data=unlabelled,\n",
    "    plate_reconstruction=plate_model,\n",
    "    study_area_dir=study_area_dir,\n",
    "    min_time=min(times),\n",
    "    max_time=max(times),\n",
    "    n_jobs=n_jobs,\n",
    "    verbose=verbose,\n",
    ")\n",
    "del unlabelled\n",
    "combined_points = combined_points.dropna(subset=[\"present_lon\", \"present_lat\"])"
   ]
  },
  {
   "attachments": {},
   "cell_type": "markdown",
   "id": "5da1c1a7",
   "metadata": {
    "papermill": {
     "duration": 0.005334,
     "end_time": "2024-11-14T05:50:12.546801",
     "exception": false,
     "start_time": "2024-11-14T05:50:12.541467",
     "status": "completed"
    },
    "tags": []
   },
   "source": [
    "### Assign subduction data to point deposit/non-deposit/unlabelled data\n",
    "\n",
    "Here we assign the appropriate values for the subduction-related parameters (kinematics, seafloor age, etc.) to the deposit sites and random locations."
   ]
  },
  {
   "cell_type": "code",
   "execution_count": 14,
   "id": "6f932fe0",
   "metadata": {
    "execution": {
     "iopub.execute_input": "2024-11-14T05:50:12.562351Z",
     "iopub.status.busy": "2024-11-14T05:50:12.562001Z",
     "iopub.status.idle": "2024-11-14T05:50:28.333292Z",
     "shell.execute_reply": "2024-11-14T05:50:28.332700Z"
    },
    "papermill": {
     "duration": 15.782342,
     "end_time": "2024-11-14T05:50:28.335082",
     "exception": false,
     "start_time": "2024-11-14T05:50:12.552740",
     "status": "completed"
    },
    "tags": []
   },
   "outputs": [],
   "source": [
    "coregistered_data = run_coregister_combined_point_data(\n",
    "    point_data=combined_points,\n",
    "    subduction_data=subduction_data,\n",
    "    n_jobs=n_jobs,\n",
    "    verbose=verbose,\n",
    ")\n",
    "del combined_points, subduction_data"
   ]
  },
  {
   "attachments": {},
   "cell_type": "markdown",
   "id": "049e3a37",
   "metadata": {
    "papermill": {
     "duration": 0.004747,
     "end_time": "2024-11-14T05:50:28.345801",
     "exception": false,
     "start_time": "2024-11-14T05:50:28.341054",
     "status": "completed"
    },
    "tags": []
   },
   "source": [
    "### Assign crustal thickness data to point data\n",
    "\n",
    "This cell extracts the overriding plate thickness at each point."
   ]
  },
  {
   "cell_type": "code",
   "execution_count": 15,
   "id": "63ca008c",
   "metadata": {
    "execution": {
     "iopub.execute_input": "2024-11-14T05:50:28.357028Z",
     "iopub.status.busy": "2024-11-14T05:50:28.356745Z",
     "iopub.status.idle": "2024-11-14T05:50:37.664601Z",
     "shell.execute_reply": "2024-11-14T05:50:37.664038Z"
    },
    "papermill": {
     "duration": 9.315406,
     "end_time": "2024-11-14T05:50:37.666017",
     "exception": false,
     "start_time": "2024-11-14T05:50:28.350611",
     "status": "completed"
    },
    "tags": []
   },
   "outputs": [],
   "source": [
    "coregistered_data = run_coregister_crustal_thickness(\n",
    "    point_data=coregistered_data,\n",
    "    input_dir=crustal_thickness_dir,\n",
    "    n_jobs=n_jobs,\n",
    "    verbose=verbose,\n",
    ")"
   ]
  },
  {
   "cell_type": "markdown",
   "id": "930468be",
   "metadata": {
    "papermill": {
     "duration": 0.006201,
     "end_time": "2024-11-14T05:50:37.677365",
     "exception": false,
     "start_time": "2024-11-14T05:50:37.671164",
     "status": "completed"
    },
    "tags": []
   },
   "source": [
    "### Calculate cumulative erosion\n",
    "\n",
    "Here we calculate the cumulative erosion experienced by each deposit/random point since its time of formation."
   ]
  },
  {
   "cell_type": "code",
   "execution_count": 16,
   "id": "15fe4a5c",
   "metadata": {
    "execution": {
     "iopub.execute_input": "2024-11-14T05:50:37.691520Z",
     "iopub.status.busy": "2024-11-14T05:50:37.691259Z",
     "iopub.status.idle": "2024-11-14T05:52:20.571126Z",
     "shell.execute_reply": "2024-11-14T05:52:20.570299Z"
    },
    "papermill": {
     "duration": 102.889098,
     "end_time": "2024-11-14T05:52:20.573400",
     "exception": false,
     "start_time": "2024-11-14T05:50:37.684302",
     "status": "completed"
    },
    "tags": []
   },
   "outputs": [],
   "source": [
    "coregistered_data = calculate_erodep(\n",
    "    coregistered_data,\n",
    "    input_dir=erodep_dir,\n",
    "    n_jobs=n_jobs,\n",
    "    column_name=\"erosion (m)\",\n",
    "    verbose=verbose,\n",
    ")"
   ]
  },
  {
   "cell_type": "markdown",
   "id": "a4d0d00f",
   "metadata": {
    "papermill": {
     "duration": 0.005434,
     "end_time": "2024-11-14T05:52:20.586383",
     "exception": false,
     "start_time": "2024-11-14T05:52:20.580949",
     "status": "completed"
    },
    "tags": []
   },
   "source": [
    "### Assign data to regions\n",
    "\n",
    "To divide the data into individual regions for the later analysis, we use the `regions_filename` defined earlier, if desired."
   ]
  },
  {
   "cell_type": "code",
   "execution_count": 17,
   "id": "98a93d0e",
   "metadata": {
    "execution": {
     "iopub.execute_input": "2024-11-14T05:52:20.597042Z",
     "iopub.status.busy": "2024-11-14T05:52:20.596631Z",
     "iopub.status.idle": "2024-11-14T05:52:20.706851Z",
     "shell.execute_reply": "2024-11-14T05:52:20.706159Z"
    },
    "papermill": {
     "duration": 0.117316,
     "end_time": "2024-11-14T05:52:20.708432",
     "exception": false,
     "start_time": "2024-11-14T05:52:20.591116",
     "status": "completed"
    },
    "tags": []
   },
   "outputs": [],
   "source": [
    "if regions_filename is not None and os.path.isfile(regions_filename):\n",
    "    points = gpd.GeoSeries.from_xy(\n",
    "        coregistered_data[\"present_lon\"],\n",
    "        coregistered_data[\"present_lat\"],\n",
    "        index=coregistered_data.index,\n",
    "    )\n",
    "    coregistered_data[\"region\"] = assign_regions(\n",
    "        points,\n",
    "        regions=regions_filename,\n",
    "    )\n",
    "    del points"
   ]
  },
  {
   "cell_type": "markdown",
   "id": "15be29d4",
   "metadata": {
    "papermill": {
     "duration": 0.006974,
     "end_time": "2024-11-14T05:52:20.726264",
     "exception": false,
     "start_time": "2024-11-14T05:52:20.719290",
     "status": "completed"
    },
    "tags": []
   },
   "source": [
    "### Save to file\n",
    "\n",
    "Finally, we write the dataset to a CSV file."
   ]
  },
  {
   "cell_type": "code",
   "execution_count": 18,
   "id": "a3de5c45",
   "metadata": {
    "execution": {
     "iopub.execute_input": "2024-11-14T05:52:20.740861Z",
     "iopub.status.busy": "2024-11-14T05:52:20.740433Z",
     "iopub.status.idle": "2024-11-14T05:52:23.033494Z",
     "shell.execute_reply": "2024-11-14T05:52:23.033018Z"
    },
    "papermill": {
     "duration": 2.302331,
     "end_time": "2024-11-14T05:52:23.035626",
     "exception": false,
     "start_time": "2024-11-14T05:52:20.733295",
     "status": "completed"
    },
    "tags": []
   },
   "outputs": [
    {
     "data": {
      "text/plain": [
       "region          label     \n",
       "East Asia       negative         7\n",
       "                positive         5\n",
       "                unlabelled    4729\n",
       "North America   negative        45\n",
       "                positive       257\n",
       "                unlabelled    7893\n",
       "Other           negative       203\n",
       "                positive         1\n",
       "                unlabelled    3813\n",
       "South America   negative      1096\n",
       "                positive       211\n",
       "                unlabelled    5653\n",
       "Southeast Asia  negative         4\n",
       "                positive        55\n",
       "                unlabelled    7824\n",
       "Tethys          negative        20\n",
       "                positive        61\n",
       "                unlabelled    5945\n",
       "dtype: int64"
      ]
     },
     "execution_count": 18,
     "metadata": {},
     "output_type": "execute_result"
    }
   ],
   "source": [
    "coregistered_data.to_csv(output_filename, index=False)\n",
    "\n",
    "coregistered_data.groupby([\"region\", \"label\"]).size()"
   ]
  },
  {
   "cell_type": "code",
   "execution_count": null,
   "id": "a78df4c5",
   "metadata": {
    "papermill": {
     "duration": 0.003942,
     "end_time": "2024-11-14T05:52:23.044148",
     "exception": false,
     "start_time": "2024-11-14T05:52:23.040206",
     "status": "completed"
    },
    "tags": []
   },
   "outputs": [],
   "source": []
  }
 ],
 "metadata": {
  "kernelspec": {
   "display_name": "prospectivity",
   "language": "python",
   "name": "python3"
  },
  "language_info": {
   "codemirror_mode": {
    "name": "ipython",
    "version": 3
   },
   "file_extension": ".py",
   "mimetype": "text/x-python",
   "name": "python",
   "nbconvert_exporter": "python",
   "pygments_lexer": "ipython3",
   "version": "3.12.3"
  },
  "papermill": {
   "default_parameters": {},
   "duration": 5761.463498,
   "end_time": "2024-11-14T05:52:25.976318",
   "environment_variables": {},
   "exception": null,
   "input_path": "00b-extract_training_data.ipynb",
   "output_path": "00b-extract_training_data.ipynb",
   "parameters": {},
   "start_time": "2024-11-14T04:16:24.512820",
   "version": "2.4.0"
  }
 },
 "nbformat": 4,
 "nbformat_minor": 5
}
