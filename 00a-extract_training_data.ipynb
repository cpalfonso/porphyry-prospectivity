{
 "cells": [
  {
   "cell_type": "code",
   "execution_count": 1,
   "id": "416d11e4",
   "metadata": {
    "execution": {
     "iopub.execute_input": "2023-12-19T05:19:53.100448Z",
     "iopub.status.busy": "2023-12-19T05:19:53.100234Z",
     "iopub.status.idle": "2023-12-19T05:19:54.626106Z",
     "shell.execute_reply": "2023-12-19T05:19:54.625390Z"
    },
    "papermill": {
     "duration": 1.534804,
     "end_time": "2023-12-19T05:19:54.627793",
     "exception": false,
     "start_time": "2023-12-19T05:19:53.092989",
     "status": "completed"
    },
    "tags": []
   },
   "outputs": [
    {
     "name": "stdout",
     "output_type": "stream",
     "text": [
      "env: PYTHONWARNINGS=ignore::UserWarning\n"
     ]
    }
   ],
   "source": [
    "import glob\n",
    "import os\n",
    "import tempfile\n",
    "import warnings\n",
    "\n",
    "import geopandas as gpd\n",
    "from gplately.tools import plate_isotherm_depth\n",
    "\n",
    "from lib.assign_regions import assign_regions\n",
    "from lib.calculate_convergence import run_calculate_convergence\n",
    "from lib.check_files import (\n",
    "    check_source_data,\n",
    "    check_plate_model,\n",
    ")\n",
    "from lib.combine_point_data import combine_point_data\n",
    "from lib.coregister_combined_point_data import run_coregister_combined_point_data\n",
    "from lib.coregister_crustal_thickness import run_coregister_crustal_thickness\n",
    "from lib.coregister_magnetic import coregister_magnetic\n",
    "from lib.coregister_ocean_rasters import run_coregister_ocean_rasters\n",
    "from lib.create_study_area_polygons import run_create_study_area_polygons\n",
    "from lib.erodep import calculate_erodep\n",
    "from lib.generate_unlabelled_points import generate_unlabelled_points\n",
    "from lib.misc import (\n",
    "    calculate_slab_flux,\n",
    "    # calculate_water_thickness,\n",
    ")\n",
    "from lib.slab_dip import calculate_slab_dip\n",
    "from lib.water import calculate_water_thickness\n",
    "\n",
    "# Suppress occasional joblib warnings\n",
    "%env PYTHONWARNINGS=ignore::UserWarning\n",
    "\n",
    "warnings.simplefilter(\"ignore\", UserWarning)\n"
   ]
  },
  {
   "cell_type": "code",
   "execution_count": 2,
   "id": "24504d52",
   "metadata": {
    "execution": {
     "iopub.execute_input": "2023-12-19T05:19:54.639672Z",
     "iopub.status.busy": "2023-12-19T05:19:54.639164Z",
     "iopub.status.idle": "2023-12-19T05:19:54.642474Z",
     "shell.execute_reply": "2023-12-19T05:19:54.641908Z"
    },
    "papermill": {
     "duration": 0.010772,
     "end_time": "2023-12-19T05:19:54.644228",
     "exception": false,
     "start_time": "2023-12-19T05:19:54.633456",
     "status": "completed"
    },
    "tags": []
   },
   "outputs": [],
   "source": [
    "random_seed = 1234\n",
    "\n",
    "n_jobs = int(os.environ.get(\"N_JOBS\", 8))\n",
    "times = range(171)\n",
    "verbose = False\n",
    "\n",
    "num_unlabelled = 200  # per timestep\n"
   ]
  },
  {
   "attachments": {},
   "cell_type": "markdown",
   "id": "8070f64c",
   "metadata": {
    "papermill": {
     "duration": 0.00511,
     "end_time": "2023-12-19T05:19:54.654481",
     "exception": false,
     "start_time": "2023-12-19T05:19:54.649371",
     "status": "completed"
    },
    "tags": []
   },
   "source": [
    "### Input and output files"
   ]
  },
  {
   "cell_type": "code",
   "execution_count": 3,
   "id": "8cc369d6",
   "metadata": {
    "execution": {
     "iopub.execute_input": "2023-12-19T05:19:54.665158Z",
     "iopub.status.busy": "2023-12-19T05:19:54.665004Z",
     "iopub.status.idle": "2023-12-19T05:19:54.671523Z",
     "shell.execute_reply": "2023-12-19T05:19:54.670889Z"
    },
    "papermill": {
     "duration": 0.01354,
     "end_time": "2023-12-19T05:19:54.672918",
     "exception": false,
     "start_time": "2023-12-19T05:19:54.659378",
     "status": "completed"
    },
    "tags": []
   },
   "outputs": [],
   "source": [
    "model_dir = \"plate_model\"\n",
    "check_plate_model(model_dir, verbose=verbose)\n",
    "\n",
    "data_dir = \"source_data\"\n",
    "check_source_data(data_dir, verbose=verbose)\n",
    "deposits_filename = os.path.join(data_dir, \"deposit_data.csv\")\n",
    "regions_filename = os.path.join(data_dir, \"regions.shp\")\n",
    "agegrid_dir = os.path.join(data_dir, \"AgeGrids\")\n",
    "sedthick_dir = os.path.join(data_dir, \"SedimentThickness\")\n",
    "carbonate_dir = os.path.join(data_dir, \"CarbonateThickness\")\n",
    "co2_dir = os.path.join(data_dir, \"CrustalCO2\")\n",
    "crustal_thickness_dir = os.path.join(data_dir, \"CrustalThickness\")\n",
    "mag_anomaly_filename = os.path.join(\n",
    "    data_dir,\n",
    "    \"MagneticAnomaly\",\n",
    "    \"emag2_upcont_interpolated.nc\",\n",
    ")\n",
    "subducted_quantities_dir = os.path.join(\n",
    "    data_dir,\n",
    "    \"SubductedQuantities\",\n",
    ")\n",
    "erodep_dir = os.path.join(data_dir, \"ErosionDeposition\")\n",
    "\n",
    "output_dir = \"extracted_data\"\n",
    "os.makedirs(output_dir, exist_ok=True)\n",
    "subduction_data_filename = os.path.join(output_dir, \"subducting_plate_data.csv\")\n",
    "study_area_dir = os.path.join(output_dir, \"study_area_polygons\")\n",
    "output_filename = os.path.join(output_dir, \"training_data.csv\")\n",
    "\n",
    "feature_filenames = glob.glob(\n",
    "    os.path.join(\n",
    "        model_dir,\n",
    "        \"*.gpml\",\n",
    "    )\n",
    ")\n",
    "rotation_filenames = glob.glob(\n",
    "    os.path.join(\n",
    "        model_dir,\n",
    "        \"*.rot\",\n",
    "    )\n",
    ")\n",
    "static_polygons_filename = os.path.join(\n",
    "    model_dir,\n",
    "    \"StaticGeometries\",\n",
    "    \"StaticPolygons\",\n",
    "    \"Clennett_2020_StaticPolygons.gpml\",\n",
    ")\n"
   ]
  },
  {
   "attachments": {},
   "cell_type": "markdown",
   "id": "a45746ed",
   "metadata": {
    "papermill": {
     "duration": 0.004843,
     "end_time": "2023-12-19T05:19:54.682713",
     "exception": false,
     "start_time": "2023-12-19T05:19:54.677870",
     "status": "completed"
    },
    "tags": []
   },
   "source": [
    "### Subducting plate data"
   ]
  },
  {
   "cell_type": "code",
   "execution_count": 4,
   "id": "3e1a295a",
   "metadata": {
    "execution": {
     "iopub.execute_input": "2023-12-19T05:19:54.693290Z",
     "iopub.status.busy": "2023-12-19T05:19:54.693135Z",
     "iopub.status.idle": "2023-12-19T05:34:02.776479Z",
     "shell.execute_reply": "2023-12-19T05:34:02.775505Z"
    },
    "papermill": {
     "duration": 848.09092,
     "end_time": "2023-12-19T05:34:02.778577",
     "exception": false,
     "start_time": "2023-12-19T05:19:54.687657",
     "status": "completed"
    },
    "tags": []
   },
   "outputs": [],
   "source": [
    "with tempfile.TemporaryDirectory() as subduction_kinematics_dir:\n",
    "    run_calculate_convergence(\n",
    "        nprocs=n_jobs,\n",
    "        min_time=min(times),\n",
    "        max_time=max(times),\n",
    "        topology_filenames=feature_filenames,\n",
    "        rotation_filenames=rotation_filenames,\n",
    "        output_dir=subduction_kinematics_dir,\n",
    "        verbose=verbose,\n",
    "    )\n",
    "\n",
    "    subduction_data = run_coregister_ocean_rasters(\n",
    "        nprocs=n_jobs,\n",
    "        times=times,\n",
    "        input_data=subduction_kinematics_dir,\n",
    "        agegrid_dir=agegrid_dir,\n",
    "        topology_features=feature_filenames,\n",
    "        rotation_model=rotation_filenames,\n",
    "        sedthick_dir=sedthick_dir,\n",
    "        carbonate_dir=carbonate_dir,\n",
    "        co2_dir=co2_dir,\n",
    "        subducted_thickness_dir=os.path.join(\n",
    "            subducted_quantities_dir,\n",
    "            \"plate_thickness\",\n",
    "        ),\n",
    "        subducted_sediments_dir=os.path.join(\n",
    "            subducted_quantities_dir,\n",
    "            \"sediment_thickness\",\n",
    "        ),\n",
    "        subducted_carbonates_dir=os.path.join(\n",
    "            subducted_quantities_dir,\n",
    "            \"carbonate_thickness\",\n",
    "        ),\n",
    "        subducted_water_dir=os.path.join(\n",
    "            subducted_quantities_dir,\n",
    "            \"water_thickness\",\n",
    "        ),\n",
    "        verbose=verbose,\n",
    "    )\n",
    "subduction_data[\"plate_thickness (m)\"] = plate_isotherm_depth(\n",
    "    subduction_data[\"seafloor_age (Ma)\"],\n",
    "    maxiter=100,\n",
    ")\n",
    "subduction_data = calculate_water_thickness(subduction_data)\n",
    "subduction_data = calculate_slab_flux(subduction_data)\n",
    "subduction_data = calculate_slab_dip(subduction_data)\n",
    "if subduction_data_filename is not None:\n",
    "    subduction_data.to_csv(subduction_data_filename, index=False)\n"
   ]
  },
  {
   "attachments": {},
   "cell_type": "markdown",
   "id": "1d88d599",
   "metadata": {
    "papermill": {
     "duration": 0.004938,
     "end_time": "2023-12-19T05:34:02.789026",
     "exception": false,
     "start_time": "2023-12-19T05:34:02.784088",
     "status": "completed"
    },
    "tags": []
   },
   "source": [
    "### Create study area polygons along subduction zones"
   ]
  },
  {
   "cell_type": "code",
   "execution_count": 5,
   "id": "6e7f3421",
   "metadata": {
    "execution": {
     "iopub.execute_input": "2023-12-19T05:34:02.800185Z",
     "iopub.status.busy": "2023-12-19T05:34:02.799919Z",
     "iopub.status.idle": "2023-12-19T05:34:31.992418Z",
     "shell.execute_reply": "2023-12-19T05:34:31.991281Z"
    },
    "papermill": {
     "duration": 29.200777,
     "end_time": "2023-12-19T05:34:31.994648",
     "exception": false,
     "start_time": "2023-12-19T05:34:02.793871",
     "status": "completed"
    },
    "tags": []
   },
   "outputs": [],
   "source": [
    "run_create_study_area_polygons(\n",
    "    nprocs=n_jobs,\n",
    "    times=times,\n",
    "    topological_features=feature_filenames,\n",
    "    rotation_model=rotation_filenames,\n",
    "    output_dir=study_area_dir,\n",
    "    verbose=verbose,\n",
    "    return_output=False,\n",
    ")\n"
   ]
  },
  {
   "attachments": {},
   "cell_type": "markdown",
   "id": "5dd1c434",
   "metadata": {
    "papermill": {
     "duration": 0.005174,
     "end_time": "2023-12-19T05:34:32.005788",
     "exception": false,
     "start_time": "2023-12-19T05:34:32.000614",
     "status": "completed"
    },
    "tags": []
   },
   "source": [
    "### Generate random unlabelled data points"
   ]
  },
  {
   "cell_type": "code",
   "execution_count": 6,
   "id": "f0eb6f15",
   "metadata": {
    "execution": {
     "iopub.execute_input": "2023-12-19T05:34:32.017841Z",
     "iopub.status.busy": "2023-12-19T05:34:32.017562Z",
     "iopub.status.idle": "2023-12-19T05:47:08.376553Z",
     "shell.execute_reply": "2023-12-19T05:47:08.375946Z"
    },
    "papermill": {
     "duration": 756.36732,
     "end_time": "2023-12-19T05:47:08.378345",
     "exception": false,
     "start_time": "2023-12-19T05:34:32.011025",
     "status": "completed"
    },
    "tags": []
   },
   "outputs": [],
   "source": [
    "unlabelled = generate_unlabelled_points(\n",
    "    times=times,\n",
    "    input_dir=study_area_dir,\n",
    "    num=num_unlabelled,\n",
    "    threads=n_jobs,\n",
    "    seed=random_seed,\n",
    "    topological_features=feature_filenames,\n",
    "    rotation_model=rotation_filenames,\n",
    "    verbose=verbose,\n",
    ")\n"
   ]
  },
  {
   "attachments": {},
   "cell_type": "markdown",
   "id": "168d3871",
   "metadata": {
    "papermill": {
     "duration": 0.004864,
     "end_time": "2023-12-19T05:47:08.389250",
     "exception": false,
     "start_time": "2023-12-19T05:47:08.384386",
     "status": "completed"
    },
    "tags": []
   },
   "source": [
    "### Combine labelled deposit/non-deposit data with random unlabelled data"
   ]
  },
  {
   "cell_type": "code",
   "execution_count": 7,
   "id": "a8fb758c",
   "metadata": {
    "execution": {
     "iopub.execute_input": "2023-12-19T05:47:08.443867Z",
     "iopub.status.busy": "2023-12-19T05:47:08.443712Z",
     "iopub.status.idle": "2023-12-19T05:47:39.848312Z",
     "shell.execute_reply": "2023-12-19T05:47:39.847571Z"
    },
    "papermill": {
     "duration": 31.456328,
     "end_time": "2023-12-19T05:47:39.850451",
     "exception": false,
     "start_time": "2023-12-19T05:47:08.394123",
     "status": "completed"
    },
    "tags": []
   },
   "outputs": [],
   "source": [
    "combined_points = combine_point_data(\n",
    "    deposit_data=deposits_filename,\n",
    "    unlabelled_data=unlabelled,\n",
    "    static_polygons=static_polygons_filename,\n",
    "    topological_features=feature_filenames,\n",
    "    rotation_model=rotation_filenames,\n",
    "    study_area_dir=study_area_dir,\n",
    "    min_time=min(times),\n",
    "    max_time=max(times),\n",
    "    n_jobs=n_jobs,\n",
    "    verbose=verbose,\n",
    ")\n",
    "del unlabelled\n"
   ]
  },
  {
   "attachments": {},
   "cell_type": "markdown",
   "id": "ad8e6307",
   "metadata": {
    "papermill": {
     "duration": 0.005345,
     "end_time": "2023-12-19T05:47:39.861772",
     "exception": false,
     "start_time": "2023-12-19T05:47:39.856427",
     "status": "completed"
    },
    "tags": []
   },
   "source": [
    "### Assign subduction data to point deposit/non-deposit/unlabelled data"
   ]
  },
  {
   "cell_type": "code",
   "execution_count": 8,
   "id": "3bf8e4fd",
   "metadata": {
    "execution": {
     "iopub.execute_input": "2023-12-19T05:47:39.873974Z",
     "iopub.status.busy": "2023-12-19T05:47:39.873531Z",
     "iopub.status.idle": "2023-12-19T05:47:43.610623Z",
     "shell.execute_reply": "2023-12-19T05:47:43.609937Z"
    },
    "papermill": {
     "duration": 3.745326,
     "end_time": "2023-12-19T05:47:43.612493",
     "exception": false,
     "start_time": "2023-12-19T05:47:39.867167",
     "status": "completed"
    },
    "tags": []
   },
   "outputs": [],
   "source": [
    "coregistered_data = run_coregister_combined_point_data(\n",
    "    point_data=combined_points,\n",
    "    subduction_data=subduction_data,\n",
    "    n_jobs=n_jobs,\n",
    "    verbose=verbose,\n",
    ")\n",
    "del combined_points, subduction_data\n"
   ]
  },
  {
   "attachments": {},
   "cell_type": "markdown",
   "id": "f23026ea",
   "metadata": {
    "papermill": {
     "duration": 0.004338,
     "end_time": "2023-12-19T05:47:43.621806",
     "exception": false,
     "start_time": "2023-12-19T05:47:43.617468",
     "status": "completed"
    },
    "tags": []
   },
   "source": [
    "### Assign magnetic anomaly and crustal thickness data to point data"
   ]
  },
  {
   "cell_type": "code",
   "execution_count": 9,
   "id": "a82404e1",
   "metadata": {
    "execution": {
     "iopub.execute_input": "2023-12-19T05:47:43.632229Z",
     "iopub.status.busy": "2023-12-19T05:47:43.631636Z",
     "iopub.status.idle": "2023-12-19T05:48:58.856348Z",
     "shell.execute_reply": "2023-12-19T05:48:58.855499Z"
    },
    "papermill": {
     "duration": 75.232216,
     "end_time": "2023-12-19T05:48:58.858341",
     "exception": false,
     "start_time": "2023-12-19T05:47:43.626125",
     "status": "completed"
    },
    "tags": []
   },
   "outputs": [],
   "source": [
    "coregistered_data = run_coregister_crustal_thickness(\n",
    "    point_data=coregistered_data,\n",
    "    input_dir=crustal_thickness_dir,\n",
    "    n_jobs=n_jobs,\n",
    "    verbose=verbose,\n",
    ")\n",
    "coregistered_data = coregister_magnetic(\n",
    "    data=coregistered_data,\n",
    "    filename=mag_anomaly_filename,\n",
    "    n_jobs=n_jobs,\n",
    ")\n"
   ]
  },
  {
   "cell_type": "markdown",
   "id": "40319403",
   "metadata": {
    "papermill": {
     "duration": 0.00487,
     "end_time": "2023-12-19T05:48:58.868901",
     "exception": false,
     "start_time": "2023-12-19T05:48:58.864031",
     "status": "completed"
    },
    "tags": []
   },
   "source": [
    "### Calculate cumulative erosion"
   ]
  },
  {
   "cell_type": "code",
   "execution_count": 10,
   "id": "47f23804",
   "metadata": {
    "execution": {
     "iopub.execute_input": "2023-12-19T05:48:58.879893Z",
     "iopub.status.busy": "2023-12-19T05:48:58.879737Z",
     "iopub.status.idle": "2023-12-19T05:49:38.442223Z",
     "shell.execute_reply": "2023-12-19T05:49:38.441350Z"
    },
    "papermill": {
     "duration": 39.570517,
     "end_time": "2023-12-19T05:49:38.444357",
     "exception": false,
     "start_time": "2023-12-19T05:48:58.873840",
     "status": "completed"
    },
    "tags": []
   },
   "outputs": [],
   "source": [
    "coregistered_data = calculate_erodep(\n",
    "    coregistered_data,\n",
    "    input_dir=erodep_dir,\n",
    "    n_jobs=n_jobs,\n",
    "    column_name=\"erosion (m)\",\n",
    "    verbose=verbose,\n",
    ")\n"
   ]
  },
  {
   "cell_type": "markdown",
   "id": "8b973e4e",
   "metadata": {
    "papermill": {
     "duration": 0.004969,
     "end_time": "2023-12-19T05:49:38.454784",
     "exception": false,
     "start_time": "2023-12-19T05:49:38.449815",
     "status": "completed"
    },
    "tags": []
   },
   "source": [
    "### Assign data to regions"
   ]
  },
  {
   "cell_type": "code",
   "execution_count": 11,
   "id": "90f34d8b",
   "metadata": {
    "execution": {
     "iopub.execute_input": "2023-12-19T05:49:38.466162Z",
     "iopub.status.busy": "2023-12-19T05:49:38.465508Z",
     "iopub.status.idle": "2023-12-19T05:49:38.689801Z",
     "shell.execute_reply": "2023-12-19T05:49:38.689055Z"
    },
    "papermill": {
     "duration": 0.231849,
     "end_time": "2023-12-19T05:49:38.691525",
     "exception": false,
     "start_time": "2023-12-19T05:49:38.459676",
     "status": "completed"
    },
    "tags": []
   },
   "outputs": [],
   "source": [
    "points = gpd.GeoSeries.from_xy(\n",
    "    coregistered_data[\"present_lon\"],\n",
    "    coregistered_data[\"present_lat\"],\n",
    "    index=coregistered_data.index,\n",
    ")\n",
    "coregistered_data[\"region\"] = assign_regions(\n",
    "    points,\n",
    "    regions=regions_filename,\n",
    ")\n",
    "del points\n"
   ]
  },
  {
   "cell_type": "code",
   "execution_count": 12,
   "id": "42c75518",
   "metadata": {
    "execution": {
     "iopub.execute_input": "2023-12-19T05:49:38.703028Z",
     "iopub.status.busy": "2023-12-19T05:49:38.702862Z",
     "iopub.status.idle": "2023-12-19T05:49:40.381012Z",
     "shell.execute_reply": "2023-12-19T05:49:40.380353Z"
    },
    "papermill": {
     "duration": 1.685776,
     "end_time": "2023-12-19T05:49:40.382597",
     "exception": false,
     "start_time": "2023-12-19T05:49:38.696821",
     "status": "completed"
    },
    "tags": []
   },
   "outputs": [
    {
     "data": {
      "text/plain": [
       "source                      region          label     \n",
       "Diaz-Rodriguez et al. 2021  North America   negative        45\n",
       "                                            positive       168\n",
       "                            South America   negative       979\n",
       "                                            positive       126\n",
       "random                      East Asia       unlabelled    4544\n",
       "                            North America   unlabelled    7240\n",
       "                            Other           unlabelled    4186\n",
       "                            South America   unlabelled    6243\n",
       "                            Southeast Asia  unlabelled    7589\n",
       "                            Tethys          unlabelled    6060\n",
       "dtype: int64"
      ]
     },
     "execution_count": 12,
     "metadata": {},
     "output_type": "execute_result"
    }
   ],
   "source": [
    "coregistered_data.to_csv(output_filename, index=False)\n",
    "\n",
    "coregistered_data.groupby([\"source\", \"region\", \"label\"]).size()\n"
   ]
  },
  {
   "cell_type": "code",
   "execution_count": null,
   "id": "da5291f4",
   "metadata": {
    "papermill": {
     "duration": 0.005192,
     "end_time": "2023-12-19T05:49:40.393266",
     "exception": false,
     "start_time": "2023-12-19T05:49:40.388074",
     "status": "completed"
    },
    "tags": []
   },
   "outputs": [],
   "source": []
  }
 ],
 "metadata": {
  "kernelspec": {
   "display_name": "datamining",
   "language": "python",
   "name": "python3"
  },
  "language_info": {
   "codemirror_mode": {
    "name": "ipython",
    "version": 3
   },
   "file_extension": ".py",
   "mimetype": "text/x-python",
   "name": "python",
   "nbconvert_exporter": "python",
   "pygments_lexer": "ipython3",
   "version": "3.11.6"
  },
  "papermill": {
   "default_parameters": {},
   "duration": 1790.887045,
   "end_time": "2023-12-19T05:49:43.116110",
   "environment_variables": {},
   "exception": null,
   "input_path": "00a-extract_training_data.ipynb",
   "output_path": "00a-extract_training_data.ipynb",
   "parameters": {},
   "start_time": "2023-12-19T05:19:52.229065",
   "version": "2.4.0"
  }
 },
 "nbformat": 4,
 "nbformat_minor": 5
}
