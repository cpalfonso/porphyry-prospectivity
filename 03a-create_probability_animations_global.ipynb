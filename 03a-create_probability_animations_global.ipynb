{
 "cells": [
  {
   "attachments": {},
   "cell_type": "markdown",
   "id": "130fd6d8",
   "metadata": {
    "papermill": {
     "duration": 0.004432,
     "end_time": "2024-06-15T02:03:32.882819",
     "exception": false,
     "start_time": "2024-06-15T02:03:32.878387",
     "status": "completed"
    },
    "tags": []
   },
   "source": [
    "# Probability maps animation\n",
    "\n",
    "This notebook creates an animation showing the evolution of the predicted time-dependent deposit probability from 170Ma-present. The notebook `02-create_probability_maps.ipynb` must have been run previously.\n",
    "\n",
    "If training data has been extracted from the source datasets by running the `00c-extract_training_data_global.ipynb` and `00b-extract_grid_data.ipynb` notebooks, set the `use_extracted_data` variable below to `True` to use this dataset instead of the pre-prepared training data from the [Zenodo repository](https://zenodo.org/record/8157691)."
   ]
  },
  {
   "cell_type": "markdown",
   "id": "f93d49e7",
   "metadata": {
    "papermill": {
     "duration": 0.003327,
     "end_time": "2024-06-15T02:03:32.889735",
     "exception": false,
     "start_time": "2024-06-15T02:03:32.886408",
     "status": "completed"
    },
    "tags": []
   },
   "source": [
    "## Notebook options\n",
    "\n",
    "These cells set some of the important variables and definitions used throughout the notebook."
   ]
  },
  {
   "cell_type": "markdown",
   "id": "925d358b",
   "metadata": {
    "papermill": {
     "duration": 0.003398,
     "end_time": "2024-06-15T02:03:32.896498",
     "exception": false,
     "start_time": "2024-06-15T02:03:32.893100",
     "status": "completed"
    },
    "tags": []
   },
   "source": [
    "### Select plate model\n",
    "\n",
    "To use the plate model from the published paper (Alfonso et al., 2024), set `use_provided_plate_model` to `True`. Otherwise, leave `use_provided_plate_model` as `False` and set `plate_model_name` to a valid model name for the [`plate-model-manager`](https://github.com/michaelchin/plate-model-manager/blob/4f66423b53950bf42f5dac1228e61fd1e19fdf6e/models.json) package, or set `plate_model_name` to `None` and place GPlates files in a directory named `plate_model`.\n",
    "\n",
    "| `use_provided_plate_model` | `plate_model_name` | result |\n",
    "| - | - | - |\n",
    "| `True` | Any | Use Alfonso et al., 2024 model |\n",
    "| `False` | Model name string (e.g. `\"muller2022\"`) | Use specified plate model |\n",
    "| `False` | `None` | Use files in `plate_model` directory |"
   ]
  },
  {
   "cell_type": "code",
   "execution_count": 1,
   "id": "d94ad12e",
   "metadata": {
    "execution": {
     "iopub.execute_input": "2024-06-15T02:03:32.904331Z",
     "iopub.status.busy": "2024-06-15T02:03:32.904039Z",
     "iopub.status.idle": "2024-06-15T02:03:32.910278Z",
     "shell.execute_reply": "2024-06-15T02:03:32.909711Z"
    },
    "papermill": {
     "duration": 0.012186,
     "end_time": "2024-06-15T02:03:32.911963",
     "exception": false,
     "start_time": "2024-06-15T02:03:32.899777",
     "status": "completed"
    },
    "tags": []
   },
   "outputs": [],
   "source": [
    "use_provided_plate_model = True\n",
    "plate_model_name = \"muller2022\""
   ]
  },
  {
   "cell_type": "markdown",
   "id": "e5030ab2",
   "metadata": {
    "papermill": {
     "duration": 0.00333,
     "end_time": "2024-06-15T02:03:32.918585",
     "exception": false,
     "start_time": "2024-06-15T02:03:32.915255",
     "status": "completed"
    },
    "tags": []
   },
   "source": [
    "### Set other parameters"
   ]
  },
  {
   "cell_type": "code",
   "execution_count": 2,
   "id": "90989451",
   "metadata": {
    "execution": {
     "iopub.execute_input": "2024-06-15T02:03:32.926087Z",
     "iopub.status.busy": "2024-06-15T02:03:32.925837Z",
     "iopub.status.idle": "2024-06-15T02:03:32.929104Z",
     "shell.execute_reply": "2024-06-15T02:03:32.928588Z"
    },
    "papermill": {
     "duration": 0.008883,
     "end_time": "2024-06-15T02:03:32.930663",
     "exception": false,
     "start_time": "2024-06-15T02:03:32.921780",
     "status": "completed"
    },
    "tags": []
   },
   "outputs": [],
   "source": [
    "# If True, use training data extracted in notebook 00c\n",
    "# Else, use pre-prepared training data downloaded from Zenodo\n",
    "use_extracted_data = True\n",
    "\n",
    "# Number of processes to use\n",
    "n_jobs = 4\n",
    "\n",
    "# Overwrite any existing output files\n",
    "overwrite = True\n",
    "\n",
    "# Timespan for analysis\n",
    "start_time = 0\n",
    "end_time = 170\n",
    "\n",
    "# Control verbosity level of logging output\n",
    "verbose = False"
   ]
  },
  {
   "cell_type": "markdown",
   "id": "dd0ccb18",
   "metadata": {
    "papermill": {
     "duration": 0.003229,
     "end_time": "2024-06-15T02:03:32.937267",
     "exception": false,
     "start_time": "2024-06-15T02:03:32.934038",
     "status": "completed"
    },
    "tags": []
   },
   "source": [
    "These values will usually not need to be modified:"
   ]
  },
  {
   "cell_type": "code",
   "execution_count": 3,
   "id": "0c550ce9",
   "metadata": {
    "execution": {
     "iopub.execute_input": "2024-06-15T02:03:32.945131Z",
     "iopub.status.busy": "2024-06-15T02:03:32.944866Z",
     "iopub.status.idle": "2024-06-15T02:03:33.003420Z",
     "shell.execute_reply": "2024-06-15T02:03:33.002880Z"
    },
    "papermill": {
     "duration": 0.064489,
     "end_time": "2024-06-15T02:03:33.004945",
     "exception": false,
     "start_time": "2024-06-15T02:03:32.940456",
     "status": "completed"
    },
    "tags": []
   },
   "outputs": [],
   "source": [
    "from lib.check_files import check_prepared_data\n",
    "\n",
    "if use_extracted_data:\n",
    "    data_dir = \"extracted_data\"\n",
    "else:\n",
    "    data_dir = check_prepared_data(\"prepared_data\", verbose=True)\n",
    "\n",
    "output_dir = \"outputs\""
   ]
  },
  {
   "cell_type": "markdown",
   "id": "69ee5804",
   "metadata": {
    "papermill": {
     "duration": 0.003126,
     "end_time": "2024-06-15T02:03:33.011089",
     "exception": false,
     "start_time": "2024-06-15T02:03:33.007963",
     "status": "completed"
    },
    "tags": []
   },
   "source": [
    "If any of the following exist as environment variables, they will replace the values defined above:"
   ]
  },
  {
   "cell_type": "code",
   "execution_count": 4,
   "id": "8be1b171",
   "metadata": {
    "execution": {
     "iopub.execute_input": "2024-06-15T02:03:33.017545Z",
     "iopub.status.busy": "2024-06-15T02:03:33.017326Z",
     "iopub.status.idle": "2024-06-15T02:03:33.020967Z",
     "shell.execute_reply": "2024-06-15T02:03:33.020506Z"
    },
    "papermill": {
     "duration": 0.008565,
     "end_time": "2024-06-15T02:03:33.022420",
     "exception": false,
     "start_time": "2024-06-15T02:03:33.013855",
     "status": "completed"
    },
    "tags": []
   },
   "outputs": [],
   "source": [
    "import os\n",
    "\n",
    "n_jobs = int(os.environ.get(\"N_JOBS\", n_jobs))\n",
    "overwrite = bool(int(os.environ.get(\"OVERWRITE\", overwrite)))\n",
    "start_time = int(os.environ.get(\"START_TIME\", start_time))\n",
    "end_time = int(os.environ.get(\"END_TIME\", end_time))\n",
    "verbose = bool(int(os.environ.get(\"VERBOSE\", verbose)))\n",
    "output_dir = os.environ.get(\"OUTPUT_DIR\", output_dir)\n",
    "\n",
    "times = range(start_time, end_time + 1)"
   ]
  },
  {
   "cell_type": "markdown",
   "id": "84862cd5",
   "metadata": {
    "papermill": {
     "duration": 0.002715,
     "end_time": "2024-06-15T02:03:33.027815",
     "exception": false,
     "start_time": "2024-06-15T02:03:33.025100",
     "status": "completed"
    },
    "tags": []
   },
   "source": [
    "## Notebook setup\n",
    "\n",
    "Imports, definitions, etc."
   ]
  },
  {
   "cell_type": "markdown",
   "id": "589a76d9",
   "metadata": {
    "papermill": {
     "duration": 0.002613,
     "end_time": "2024-06-15T02:03:33.033014",
     "exception": false,
     "start_time": "2024-06-15T02:03:33.030401",
     "status": "completed"
    },
    "tags": []
   },
   "source": [
    "### Imports"
   ]
  },
  {
   "cell_type": "code",
   "execution_count": 5,
   "id": "78230456",
   "metadata": {
    "execution": {
     "iopub.execute_input": "2024-06-15T02:03:33.039224Z",
     "iopub.status.busy": "2024-06-15T02:03:33.039049Z",
     "iopub.status.idle": "2024-06-15T02:03:36.617096Z",
     "shell.execute_reply": "2024-06-15T02:03:36.616241Z"
    },
    "papermill": {
     "duration": 3.584417,
     "end_time": "2024-06-15T02:03:36.620067",
     "exception": false,
     "start_time": "2024-06-15T02:03:33.035650",
     "status": "completed"
    },
    "tags": []
   },
   "outputs": [
    {
     "name": "stdout",
     "output_type": "stream",
     "text": [
      "env: PYTHONWARNINGS=ignore::UserWarning\n"
     ]
    }
   ],
   "source": [
    "import glob\n",
    "import tempfile\n",
    "\n",
    "import cartopy.crs as ccrs\n",
    "import pandas as pd\n",
    "import pygplates\n",
    "from gplately import (\n",
    "    PlateReconstruction,\n",
    "    PlotTopologies,\n",
    ")\n",
    "from joblib import Parallel, delayed\n",
    "\n",
    "from lib.animation import create_animation\n",
    "from lib.check_files import (\n",
    "    check_plate_model,\n",
    ")\n",
    "from lib.misc import (\n",
    "    filter_topological_features,\n",
    "    reconstruct_by_topologies,\n",
    ")\n",
    "from lib.plate_models import (\n",
    "    get_plate_reconstruction,\n",
    "    get_plot_topologies,\n",
    ")\n",
    "from lib.visualisation import plot\n",
    "\n",
    "# Suppress occasional joblib warnings\n",
    "%env PYTHONWARNINGS=ignore::UserWarning\n",
    "\n",
    "NOTEBOOK = \"get_ipython\" in dir()"
   ]
  },
  {
   "cell_type": "markdown",
   "id": "4c1bd1f9",
   "metadata": {
    "papermill": {
     "duration": 0.005284,
     "end_time": "2024-06-15T02:03:36.630839",
     "exception": false,
     "start_time": "2024-06-15T02:03:36.625555",
     "status": "completed"
    },
    "tags": []
   },
   "source": [
    "### Input and output files"
   ]
  },
  {
   "cell_type": "markdown",
   "id": "b22304be",
   "metadata": {
    "papermill": {
     "duration": 0.007201,
     "end_time": "2024-06-15T02:03:36.643221",
     "exception": false,
     "start_time": "2024-06-15T02:03:36.636020",
     "status": "completed"
    },
    "tags": []
   },
   "source": [
    "If necessary, the plate model will be downloaded:"
   ]
  },
  {
   "cell_type": "code",
   "execution_count": 6,
   "id": "7dedbb0c",
   "metadata": {
    "execution": {
     "iopub.execute_input": "2024-06-15T02:03:36.656266Z",
     "iopub.status.busy": "2024-06-15T02:03:36.655791Z",
     "iopub.status.idle": "2024-06-15T02:03:46.493640Z",
     "shell.execute_reply": "2024-06-15T02:03:46.493004Z"
    },
    "papermill": {
     "duration": 9.846417,
     "end_time": "2024-06-15T02:03:46.495469",
     "exception": false,
     "start_time": "2024-06-15T02:03:36.649052",
     "status": "completed"
    },
    "tags": []
   },
   "outputs": [
    {
     "name": "stdout",
     "output_type": "stream",
     "text": [
      "downloading https://repo.gplates.org/webdav/pmm/muller2022/Rotations.zip\n",
      "The local file(s) is/are still good. Will not download again at this moment.\n",
      "downloading https://repo.gplates.org/webdav/pmm/muller2022/Topologies.zip\n"
     ]
    },
    {
     "name": "stdout",
     "output_type": "stream",
     "text": [
      "The local file(s) is/are still good. Will not download again at this moment.\n",
      "downloading https://repo.gplates.org/webdav/pmm/muller2022/StaticPolygons.zip\n"
     ]
    },
    {
     "name": "stdout",
     "output_type": "stream",
     "text": [
      "The local file(s) is/are still good. Will not download again at this moment.\n"
     ]
    },
    {
     "name": "stdout",
     "output_type": "stream",
     "text": [
      "downloading https://repo.gplates.org/webdav/pmm/muller2022/Coastlines.zip\n"
     ]
    }
   ],
   "source": [
    "plate_model_dir = \"plate_model\"\n",
    "if use_provided_plate_model:\n",
    "    check_plate_model(plate_model_dir, verbose=True)\n",
    "    plate_model_name = None\n",
    "plate_model, _tf = get_plate_reconstruction(\n",
    "    model_name=plate_model_name,\n",
    "    model_dir=plate_model_dir,\n",
    "    filter_topologies=True,\n",
    ")\n",
    "\n",
    "if use_provided_plate_model:\n",
    "    coastlines_filenames = [os.path.join(\n",
    "        plate_model_dir,\n",
    "        \"StaticGeometries\",\n",
    "        \"AgeGridInput\",\n",
    "        \"CombinedTerranes.gpml\",\n",
    "    )]\n",
    "    gplot = PlotTopologies(\n",
    "        plate_model,\n",
    "        coastlines=coastlines_filenames,\n",
    "    )\n",
    "else:\n",
    "    gplot = get_plot_topologies(\n",
    "        model_name=plate_model_name,\n",
    "        model_dir=plate_model_dir,\n",
    "        plate_reconstruction=plate_model,\n",
    "        filter_topologies=True,\n",
    "    )\n",
    "\n",
    "output_dir = os.path.join(output_dir, \"global\")"
   ]
  },
  {
   "cell_type": "markdown",
   "id": "910a9d6a",
   "metadata": {
    "papermill": {
     "duration": 0.003765,
     "end_time": "2024-06-15T02:03:46.503535",
     "exception": false,
     "start_time": "2024-06-15T02:03:46.499770",
     "status": "completed"
    },
    "tags": []
   },
   "source": [
    "### Plot options\n",
    "\n",
    "These should generally be left unchanged."
   ]
  },
  {
   "cell_type": "code",
   "execution_count": 7,
   "id": "96d0f2c3",
   "metadata": {
    "execution": {
     "iopub.execute_input": "2024-06-15T02:03:46.512770Z",
     "iopub.status.busy": "2024-06-15T02:03:46.512498Z",
     "iopub.status.idle": "2024-06-15T02:03:46.517595Z",
     "shell.execute_reply": "2024-06-15T02:03:46.516940Z"
    },
    "papermill": {
     "duration": 0.011639,
     "end_time": "2024-06-15T02:03:46.519212",
     "exception": false,
     "start_time": "2024-06-15T02:03:46.507573",
     "status": "completed"
    },
    "tags": []
   },
   "outputs": [],
   "source": [
    "lon_0 = 0.0\n",
    "projection = ccrs.Mollweide(lon_0)\n",
    "\n",
    "imshow_kwargs = dict(\n",
    "    vmin=0,\n",
    "    vmax=60,\n",
    "    cmap=\"viridis\"\n",
    ")"
   ]
  },
  {
   "attachments": {},
   "cell_type": "markdown",
   "id": "0932075d",
   "metadata": {
    "papermill": {
     "duration": 0.003682,
     "end_time": "2024-06-15T02:03:46.526887",
     "exception": false,
     "start_time": "2024-06-15T02:03:46.523205",
     "status": "completed"
    },
    "tags": []
   },
   "source": [
    "### Load training data\n",
    "\n",
    "The training dataset is used to plot deposit locations on the maps."
   ]
  },
  {
   "cell_type": "code",
   "execution_count": 8,
   "id": "cb0ffd63",
   "metadata": {
    "execution": {
     "iopub.execute_input": "2024-06-15T02:03:46.536183Z",
     "iopub.status.busy": "2024-06-15T02:03:46.535906Z",
     "iopub.status.idle": "2024-06-15T02:03:47.022479Z",
     "shell.execute_reply": "2024-06-15T02:03:47.021813Z"
    },
    "papermill": {
     "duration": 0.493646,
     "end_time": "2024-06-15T02:03:47.024559",
     "exception": false,
     "start_time": "2024-06-15T02:03:46.530913",
     "status": "completed"
    },
    "tags": []
   },
   "outputs": [],
   "source": [
    "training_filename = os.path.join(data_dir, \"training_data_global.csv\")\n",
    "training_data = pd.read_csv(training_filename)\n",
    "positives = training_data[training_data[\"label\"] == \"positive\"]"
   ]
  },
  {
   "cell_type": "markdown",
   "id": "eb89a544",
   "metadata": {
    "papermill": {
     "duration": 0.00476,
     "end_time": "2024-06-15T02:03:47.034139",
     "exception": false,
     "start_time": "2024-06-15T02:03:47.029379",
     "status": "completed"
    },
    "tags": []
   },
   "source": [
    "### Reconstruct deposit data for plots"
   ]
  },
  {
   "cell_type": "code",
   "execution_count": 9,
   "id": "79da022a",
   "metadata": {
    "execution": {
     "iopub.execute_input": "2024-06-15T02:03:47.043508Z",
     "iopub.status.busy": "2024-06-15T02:03:47.043246Z",
     "iopub.status.idle": "2024-06-15T02:04:21.382635Z",
     "shell.execute_reply": "2024-06-15T02:04:21.382058Z"
    },
    "papermill": {
     "duration": 34.346221,
     "end_time": "2024-06-15T02:04:21.384410",
     "exception": false,
     "start_time": "2024-06-15T02:03:47.038189",
     "status": "completed"
    },
    "tags": []
   },
   "outputs": [],
   "source": [
    "positives = reconstruct_by_topologies(\n",
    "    data=(positives[[\"lon\", \"lat\", \"age (Ma)\", \"label\"]]).copy(),\n",
    "    plate_reconstruction=plate_model,\n",
    "    times=times,\n",
    ")"
   ]
  },
  {
   "attachments": {},
   "cell_type": "markdown",
   "id": "5afda082",
   "metadata": {
    "papermill": {
     "duration": 0.002737,
     "end_time": "2024-06-15T02:04:21.390260",
     "exception": false,
     "start_time": "2024-06-15T02:04:21.387523",
     "status": "completed"
    },
    "tags": []
   },
   "source": [
    "## Example plot\n",
    "\n",
    "Create an example plot at a single time step (by default, 110 Ma)."
   ]
  },
  {
   "cell_type": "code",
   "execution_count": 10,
   "id": "96e0ba94",
   "metadata": {
    "execution": {
     "iopub.execute_input": "2024-06-15T02:04:21.396936Z",
     "iopub.status.busy": "2024-06-15T02:04:21.396671Z",
     "iopub.status.idle": "2024-06-15T02:04:26.943753Z",
     "shell.execute_reply": "2024-06-15T02:04:26.943075Z"
    },
    "papermill": {
     "duration": 5.555265,
     "end_time": "2024-06-15T02:04:26.948181",
     "exception": false,
     "start_time": "2024-06-15T02:04:21.392916",
     "status": "completed"
    },
    "tags": []
   },
   "outputs": [
    {
     "name": "stdout",
     "output_type": "stream",
     "text": [
      "PU example plot:\n"
     ]
    },
    {
     "data": {
      "image/png": "[encoded data removed]",
      "text/plain": [
       "<Figure size 1600x800 with 2 Axes>"
      ]
     },
     "metadata": {},
     "output_type": "display_data"
    }
   ],
   "source": [
    "# Example plot (only in notebook)\n",
    "if NOTEBOOK:\n",
    "    t_example = 110  # Ma\n",
    "    gplot.time = t_example\n",
    "    algorithm = \"PU\"\n",
    "    probs_dir = os.path.join(output_dir, algorithm, \"probability_grids\")\n",
    "\n",
    "    print(f\"{algorithm} example plot:\")\n",
    "    fig = plot(\n",
    "        gplot=gplot,\n",
    "        probabilities=os.path.join(\n",
    "            probs_dir,\n",
    "            f\"probability_grid_{t_example:0.0f}Ma.nc\",\n",
    "        ),\n",
    "        positives=positives,\n",
    "        projection=projection,\n",
    "        time=t_example,\n",
    "        central_meridian=lon_0,\n",
    "        imshow_kwargs=imshow_kwargs,\n",
    "    )"
   ]
  },
  {
   "cell_type": "markdown",
   "id": "0dd9cdd9",
   "metadata": {
    "papermill": {
     "duration": 0.006939,
     "end_time": "2024-06-15T02:04:26.961835",
     "exception": false,
     "start_time": "2024-06-15T02:04:26.954896",
     "status": "completed"
    },
    "tags": []
   },
   "source": [
    "## Create all plots\n",
    "\n",
    "This will create the plots for all models."
   ]
  },
  {
   "cell_type": "code",
   "execution_count": 11,
   "id": "a2bc8c64",
   "metadata": {
    "execution": {
     "iopub.execute_input": "2024-06-15T02:04:26.980439Z",
     "iopub.status.busy": "2024-06-15T02:04:26.980180Z",
     "iopub.status.idle": "2024-06-15T02:24:30.432995Z",
     "shell.execute_reply": "2024-06-15T02:24:30.432279Z"
    },
    "papermill": {
     "duration": 1203.465509,
     "end_time": "2024-06-15T02:24:30.435229",
     "exception": false,
     "start_time": "2024-06-15T02:04:26.969720",
     "status": "completed"
    },
    "tags": []
   },
   "outputs": [
    {
     "name": "stdout",
     "output_type": "stream",
     "text": [
      "Moviepy - Building video outputs_new/global/PU/probability_animation.mp4.\n",
      "Moviepy - Writing video outputs_new/global/PU/probability_animation.mp4\n",
      "\n"
     ]
    },
    {
     "name": "stderr",
     "output_type": "stream",
     "text": [
      "\r\n",
      "t:   0%|                                                                                                                                      | 0/513 [00:00<?, ?it/s, now=None]"
     ]
    },
    {
     "name": "stderr",
     "output_type": "stream",
     "text": [
      "\r\n",
      "t:   0%|▍                                                                                                                             | 2/513 [00:00<00:40, 12.59it/s, now=None]"
     ]
    },
    {
     "name": "stderr",
     "output_type": "stream",
     "text": [
      "\r\n",
      "t:   1%|▉                                                                                                                             | 4/513 [00:00<00:50, 10.01it/s, now=None]"
     ]
    },
    {
     "name": "stderr",
     "output_type": "stream",
     "text": [
      "\r\n",
      "t:   1%|█▍                                                                                                                            | 6/513 [00:00<01:12,  6.97it/s, now=None]"
     ]
    },
    {
     "name": "stderr",
     "output_type": "stream",
     "text": [
      "\r\n",
      "t:   1%|█▋                                                                                                                            | 7/513 [00:00<01:08,  7.43it/s, now=None]"
     ]
    },
    {
     "name": "stderr",
     "output_type": "stream",
     "text": [
      "\r\n",
      "t:   2%|█▉                                                                                                                            | 8/513 [00:01<01:22,  6.12it/s, now=None]"
     ]
    },
    {
     "name": "stderr",
     "output_type": "stream",
     "text": [
      "\r\n",
      "t:   2%|██▏                                                                                                                           | 9/513 [00:01<01:14,  6.76it/s, now=None]"
     ]
    },
    {
     "name": "stderr",
     "output_type": "stream",
     "text": [
      "\r\n",
      "t:   2%|██▍                                                                                                                          | 10/513 [00:01<01:08,  7.32it/s, now=None]"
     ]
    },
    {
     "name": "stderr",
     "output_type": "stream",
     "text": [
      "\r\n",
      "t:   2%|██▋                                                                                                                          | 11/513 [00:01<01:23,  6.01it/s, now=None]"
     ]
    },
    {
     "name": "stderr",
     "output_type": "stream",
     "text": [
      "\r\n",
      "t:   2%|██▉                                                                                                                          | 12/513 [00:01<01:16,  6.53it/s, now=None]"
     ]
    },
    {
     "name": "stderr",
     "output_type": "stream",
     "text": [
      "\r\n",
      "t:   3%|███▏                                                                                                                         | 13/513 [00:01<01:09,  7.16it/s, now=None]"
     ]
    },
    {
     "name": "stderr",
     "output_type": "stream",
     "text": [
      "\r\n",
      "t:   3%|███▍                                                                                                                         | 14/513 [00:02<01:25,  5.84it/s, now=None]"
     ]
    },
    {
     "name": "stderr",
     "output_type": "stream",
     "text": [
      "\r\n",
      "t:   3%|███▋                                                                                                                         | 15/513 [00:02<01:18,  6.37it/s, now=None]"
     ]
    },
    {
     "name": "stderr",
     "output_type": "stream",
     "text": [
      "\r\n",
      "t:   3%|███▉                                                                                                                         | 16/513 [00:02<01:11,  6.98it/s, now=None]"
     ]
    },
    {
     "name": "stderr",
     "output_type": "stream",
     "text": [
      "\r\n",
      "t:   3%|████▏                                                                                                                        | 17/513 [00:02<01:24,  5.87it/s, now=None]"
     ]
    },
    {
     "name": "stderr",
     "output_type": "stream",
     "text": [
      "\r\n",
      "t:   4%|████▍                                                                                                                        | 18/513 [00:02<01:17,  6.41it/s, now=None]"
     ]
    },
    {
     "name": "stderr",
     "output_type": "stream",
     "text": [
      "\r\n",
      "t:   4%|████▋                                                                                                                        | 19/513 [00:02<01:10,  7.03it/s, now=None]"
     ]
    },
    {
     "name": "stderr",
     "output_type": "stream",
     "text": [
      "\r\n",
      "t:   4%|████▊                                                                                                                        | 20/513 [00:02<01:22,  5.94it/s, now=None]"
     ]
    },
    {
     "name": "stderr",
     "output_type": "stream",
     "text": [
      "\r\n",
      "t:   4%|█████                                                                                                                        | 21/513 [00:03<01:13,  6.70it/s, now=None]"
     ]
    },
    {
     "name": "stderr",
     "output_type": "stream",
     "text": [
      "\r\n",
      "t:   4%|█████▎                                                                                                                       | 22/513 [00:03<01:06,  7.36it/s, now=None]"
     ]
    },
    {
     "name": "stderr",
     "output_type": "stream",
     "text": [
      "\r\n",
      "t:   4%|█████▌                                                                                                                       | 23/513 [00:03<01:20,  6.11it/s, now=None]"
     ]
    },
    {
     "name": "stderr",
     "output_type": "stream",
     "text": [
      "\r\n",
      "t:   5%|█████▊                                                                                                                       | 24/513 [00:03<01:11,  6.82it/s, now=None]"
     ]
    },
    {
     "name": "stderr",
     "output_type": "stream",
     "text": [
      "\r\n",
      "t:   5%|██████                                                                                                                       | 25/513 [00:03<01:07,  7.21it/s, now=None]"
     ]
    },
    {
     "name": "stderr",
     "output_type": "stream",
     "text": [
      "\r\n",
      "t:   5%|██████▎                                                                                                                      | 26/513 [00:03<01:23,  5.86it/s, now=None]"
     ]
    },
    {
     "name": "stderr",
     "output_type": "stream",
     "text": [
      "\r\n",
      "t:   5%|██████▌                                                                                                                      | 27/513 [00:04<01:13,  6.61it/s, now=None]"
     ]
    },
    {
     "name": "stderr",
     "output_type": "stream",
     "text": [
      "\r\n",
      "t:   5%|██████▊                                                                                                                      | 28/513 [00:04<01:06,  7.26it/s, now=None]"
     ]
    },
    {
     "name": "stderr",
     "output_type": "stream",
     "text": [
      "\r\n",
      "t:   6%|███████                                                                                                                      | 29/513 [00:04<01:20,  5.98it/s, now=None]"
     ]
    },
    {
     "name": "stderr",
     "output_type": "stream",
     "text": [
      "\r\n",
      "t:   6%|███████▎                                                                                                                     | 30/513 [00:04<01:11,  6.71it/s, now=None]"
     ]
    },
    {
     "name": "stderr",
     "output_type": "stream",
     "text": [
      "\r\n",
      "t:   6%|███████▌                                                                                                                     | 31/513 [00:04<01:05,  7.31it/s, now=None]"
     ]
    },
    {
     "name": "stderr",
     "output_type": "stream",
     "text": [
      "\r\n",
      "t:   6%|███████▊                                                                                                                     | 32/513 [00:04<01:23,  5.77it/s, now=None]"
     ]
    },
    {
     "name": "stderr",
     "output_type": "stream",
     "text": [
      "\r\n",
      "t:   6%|████████                                                                                                                     | 33/513 [00:04<01:13,  6.54it/s, now=None]"
     ]
    },
    {
     "name": "stderr",
     "output_type": "stream",
     "text": [
      "\r\n",
      "t:   7%|████████▎                                                                                                                    | 34/513 [00:05<01:06,  7.19it/s, now=None]"
     ]
    },
    {
     "name": "stderr",
     "output_type": "stream",
     "text": [
      "\r\n",
      "t:   7%|████████▌                                                                                                                    | 35/513 [00:05<01:20,  5.92it/s, now=None]"
     ]
    },
    {
     "name": "stderr",
     "output_type": "stream",
     "text": [
      "\r\n",
      "t:   7%|████████▊                                                                                                                    | 36/513 [00:05<01:13,  6.51it/s, now=None]"
     ]
    },
    {
     "name": "stderr",
     "output_type": "stream",
     "text": [
      "\r\n",
      "t:   7%|█████████                                                                                                                    | 37/513 [00:05<01:08,  6.97it/s, now=None]"
     ]
    },
    {
     "name": "stderr",
     "output_type": "stream",
     "text": [
      "\r\n",
      "t:   7%|█████████▎                                                                                                                   | 38/513 [00:05<01:23,  5.68it/s, now=None]"
     ]
    },
    {
     "name": "stderr",
     "output_type": "stream",
     "text": [
      "\r\n",
      "t:   8%|█████████▌                                                                                                                   | 39/513 [00:05<01:14,  6.32it/s, now=None]"
     ]
    },
    {
     "name": "stderr",
     "output_type": "stream",
     "text": [
      "\r\n",
      "t:   8%|█████████▋                                                                                                                   | 40/513 [00:05<01:08,  6.92it/s, now=None]"
     ]
    },
    {
     "name": "stderr",
     "output_type": "stream",
     "text": [
      "\r\n",
      "t:   8%|█████████▉                                                                                                                   | 41/513 [00:06<01:20,  5.84it/s, now=None]"
     ]
    },
    {
     "name": "stderr",
     "output_type": "stream",
     "text": [
      "\r\n",
      "t:   8%|██████████▏                                                                                                                  | 42/513 [00:06<01:11,  6.59it/s, now=None]"
     ]
    },
    {
     "name": "stderr",
     "output_type": "stream",
     "text": [
      "\r\n",
      "t:   8%|██████████▍                                                                                                                  | 43/513 [00:06<01:05,  7.17it/s, now=None]"
     ]
    },
    {
     "name": "stderr",
     "output_type": "stream",
     "text": [
      "\r\n",
      "t:   9%|██████████▋                                                                                                                  | 44/513 [00:06<01:25,  5.50it/s, now=None]"
     ]
    },
    {
     "name": "stderr",
     "output_type": "stream",
     "text": [
      "\r\n",
      "t:   9%|██████████▉                                                                                                                  | 45/513 [00:06<01:17,  6.06it/s, now=None]"
     ]
    },
    {
     "name": "stderr",
     "output_type": "stream",
     "text": [
      "\r\n",
      "t:   9%|███████████▏                                                                                                                 | 46/513 [00:06<01:10,  6.64it/s, now=None]"
     ]
    },
    {
     "name": "stderr",
     "output_type": "stream",
     "text": [
      "\r\n",
      "t:   9%|███████████▍                                                                                                                 | 47/513 [00:07<01:23,  5.58it/s, now=None]"
     ]
    },
    {
     "name": "stderr",
     "output_type": "stream",
     "text": [
      "\r\n",
      "t:   9%|███████████▋                                                                                                                 | 48/513 [00:07<01:15,  6.20it/s, now=None]"
     ]
    },
    {
     "name": "stderr",
     "output_type": "stream",
     "text": [
      "\r\n",
      "t:  10%|███████████▉                                                                                                                 | 49/513 [00:07<01:11,  6.46it/s, now=None]"
     ]
    },
    {
     "name": "stderr",
     "output_type": "stream",
     "text": [
      "\r\n",
      "t:  10%|████████████▏                                                                                                                | 50/513 [00:07<01:27,  5.27it/s, now=None]"
     ]
    },
    {
     "name": "stderr",
     "output_type": "stream",
     "text": [
      "\r\n",
      "t:  10%|████████████▍                                                                                                                | 51/513 [00:07<01:18,  5.90it/s, now=None]"
     ]
    },
    {
     "name": "stderr",
     "output_type": "stream",
     "text": [
      "\r\n",
      "t:  10%|████████████▋                                                                                                                | 52/513 [00:07<01:12,  6.38it/s, now=None]"
     ]
    },
    {
     "name": "stderr",
     "output_type": "stream",
     "text": [
      "\r\n",
      "t:  10%|████████████▉                                                                                                                | 53/513 [00:08<01:24,  5.43it/s, now=None]"
     ]
    },
    {
     "name": "stderr",
     "output_type": "stream",
     "text": [
      "\r\n",
      "t:  11%|█████████████▏                                                                                                               | 54/513 [00:08<01:16,  5.97it/s, now=None]"
     ]
    },
    {
     "name": "stderr",
     "output_type": "stream",
     "text": [
      "\r\n",
      "t:  11%|█████████████▍                                                                                                               | 55/513 [00:08<01:09,  6.58it/s, now=None]"
     ]
    },
    {
     "name": "stderr",
     "output_type": "stream",
     "text": [
      "\r\n",
      "t:  11%|█████████████▋                                                                                                               | 56/513 [00:08<01:22,  5.53it/s, now=None]"
     ]
    },
    {
     "name": "stderr",
     "output_type": "stream",
     "text": [
      "\r\n",
      "t:  11%|█████████████▉                                                                                                               | 57/513 [00:08<01:13,  6.20it/s, now=None]"
     ]
    },
    {
     "name": "stderr",
     "output_type": "stream",
     "text": [
      "\r\n",
      "t:  11%|██████████████▏                                                                                                              | 58/513 [00:08<01:07,  6.74it/s, now=None]"
     ]
    },
    {
     "name": "stderr",
     "output_type": "stream",
     "text": [
      "\r\n",
      "t:  12%|██████████████▍                                                                                                              | 59/513 [00:09<01:21,  5.56it/s, now=None]"
     ]
    },
    {
     "name": "stderr",
     "output_type": "stream",
     "text": [
      "\r\n",
      "t:  12%|██████████████▌                                                                                                              | 60/513 [00:09<01:12,  6.22it/s, now=None]"
     ]
    },
    {
     "name": "stderr",
     "output_type": "stream",
     "text": [
      "\r\n",
      "t:  12%|██████████████▊                                                                                                              | 61/513 [00:09<01:07,  6.73it/s, now=None]"
     ]
    },
    {
     "name": "stderr",
     "output_type": "stream",
     "text": [
      "\r\n",
      "t:  12%|███████████████                                                                                                              | 62/513 [00:09<01:21,  5.55it/s, now=None]"
     ]
    },
    {
     "name": "stderr",
     "output_type": "stream",
     "text": [
      "\r\n",
      "t:  12%|███████████████▎                                                                                                             | 63/513 [00:09<01:12,  6.19it/s, now=None]"
     ]
    },
    {
     "name": "stderr",
     "output_type": "stream",
     "text": [
      "\r\n",
      "t:  12%|███████████████▌                                                                                                             | 64/513 [00:09<01:05,  6.82it/s, now=None]"
     ]
    },
    {
     "name": "stderr",
     "output_type": "stream",
     "text": [
      "\r\n",
      "t:  13%|███████████████▊                                                                                                             | 65/513 [00:10<01:18,  5.74it/s, now=None]"
     ]
    },
    {
     "name": "stderr",
     "output_type": "stream",
     "text": [
      "\r\n",
      "t:  13%|████████████████                                                                                                             | 66/513 [00:10<01:08,  6.48it/s, now=None]"
     ]
    },
    {
     "name": "stderr",
     "output_type": "stream",
     "text": [
      "\r\n",
      "t:  13%|████████████████▎                                                                                                            | 67/513 [00:10<01:03,  7.02it/s, now=None]"
     ]
    },
    {
     "name": "stderr",
     "output_type": "stream",
     "text": [
      "\r\n",
      "t:  13%|████████████████▌                                                                                                            | 68/513 [00:10<01:19,  5.61it/s, now=None]"
     ]
    },
    {
     "name": "stderr",
     "output_type": "stream",
     "text": [
      "\r\n",
      "t:  13%|████████████████▊                                                                                                            | 69/513 [00:10<01:10,  6.31it/s, now=None]"
     ]
    },
    {
     "name": "stderr",
     "output_type": "stream",
     "text": [
      "\r\n",
      "t:  14%|█████████████████                                                                                                            | 70/513 [00:10<01:04,  6.88it/s, now=None]"
     ]
    },
    {
     "name": "stderr",
     "output_type": "stream",
     "text": [
      "\r\n",
      "t:  14%|█████████████████▎                                                                                                           | 71/513 [00:11<01:17,  5.68it/s, now=None]"
     ]
    },
    {
     "name": "stderr",
     "output_type": "stream",
     "text": [
      "\r\n",
      "t:  14%|█████████████████▌                                                                                                           | 72/513 [00:11<01:09,  6.38it/s, now=None]"
     ]
    },
    {
     "name": "stderr",
     "output_type": "stream",
     "text": [
      "\r\n",
      "t:  14%|█████████████████▊                                                                                                           | 73/513 [00:11<01:03,  6.95it/s, now=None]"
     ]
    },
    {
     "name": "stderr",
     "output_type": "stream",
     "text": [
      "\r\n",
      "t:  14%|██████████████████                                                                                                           | 74/513 [00:11<01:16,  5.73it/s, now=None]"
     ]
    },
    {
     "name": "stderr",
     "output_type": "stream",
     "text": [
      "\r\n",
      "t:  15%|██████████████████▎                                                                                                          | 75/513 [00:11<01:09,  6.32it/s, now=None]"
     ]
    },
    {
     "name": "stderr",
     "output_type": "stream",
     "text": [
      "\r\n",
      "t:  15%|██████████████████▌                                                                                                          | 76/513 [00:11<01:02,  7.01it/s, now=None]"
     ]
    },
    {
     "name": "stderr",
     "output_type": "stream",
     "text": [
      "\r\n",
      "t:  15%|██████████████████▊                                                                                                          | 77/513 [00:12<01:15,  5.77it/s, now=None]"
     ]
    },
    {
     "name": "stderr",
     "output_type": "stream",
     "text": [
      "\r\n",
      "t:  15%|███████████████████                                                                                                          | 78/513 [00:12<01:06,  6.53it/s, now=None]"
     ]
    },
    {
     "name": "stderr",
     "output_type": "stream",
     "text": [
      "\r\n",
      "t:  15%|███████████████████▏                                                                                                         | 79/513 [00:12<01:00,  7.15it/s, now=None]"
     ]
    },
    {
     "name": "stderr",
     "output_type": "stream",
     "text": [
      "\r\n",
      "t:  16%|███████████████████▍                                                                                                         | 80/513 [00:12<01:13,  5.87it/s, now=None]"
     ]
    },
    {
     "name": "stderr",
     "output_type": "stream",
     "text": [
      "\r\n",
      "t:  16%|███████████████████▋                                                                                                         | 81/513 [00:12<01:08,  6.31it/s, now=None]"
     ]
    },
    {
     "name": "stderr",
     "output_type": "stream",
     "text": [
      "\r\n",
      "t:  16%|███████████████████▉                                                                                                         | 82/513 [00:12<01:02,  6.93it/s, now=None]"
     ]
    },
    {
     "name": "stderr",
     "output_type": "stream",
     "text": [
      "\r\n",
      "t:  16%|████████████████████▏                                                                                                        | 83/513 [00:13<01:14,  5.75it/s, now=None]"
     ]
    },
    {
     "name": "stderr",
     "output_type": "stream",
     "text": [
      "\r\n",
      "t:  16%|████████████████████▍                                                                                                        | 84/513 [00:13<01:05,  6.52it/s, now=None]"
     ]
    },
    {
     "name": "stderr",
     "output_type": "stream",
     "text": [
      "\r\n",
      "t:  17%|████████████████████▋                                                                                                        | 85/513 [00:13<01:00,  7.08it/s, now=None]"
     ]
    },
    {
     "name": "stderr",
     "output_type": "stream",
     "text": [
      "\r\n",
      "t:  17%|████████████████████▉                                                                                                        | 86/513 [00:13<01:12,  5.89it/s, now=None]"
     ]
    },
    {
     "name": "stderr",
     "output_type": "stream",
     "text": [
      "\r\n",
      "t:  17%|█████████████████████▏                                                                                                       | 87/513 [00:13<01:04,  6.59it/s, now=None]"
     ]
    },
    {
     "name": "stderr",
     "output_type": "stream",
     "text": [
      "\r\n",
      "t:  17%|█████████████████████▍                                                                                                       | 88/513 [00:13<01:00,  7.01it/s, now=None]"
     ]
    },
    {
     "name": "stderr",
     "output_type": "stream",
     "text": [
      "\r\n",
      "t:  17%|█████████████████████▋                                                                                                       | 89/513 [00:13<01:12,  5.85it/s, now=None]"
     ]
    },
    {
     "name": "stderr",
     "output_type": "stream",
     "text": [
      "\r\n",
      "t:  18%|█████████████████████▉                                                                                                       | 90/513 [00:14<01:04,  6.57it/s, now=None]"
     ]
    },
    {
     "name": "stderr",
     "output_type": "stream",
     "text": [
      "\r\n",
      "t:  18%|██████████████████████▏                                                                                                      | 91/513 [00:14<00:58,  7.18it/s, now=None]"
     ]
    },
    {
     "name": "stderr",
     "output_type": "stream",
     "text": [
      "\r\n",
      "t:  18%|██████████████████████▍                                                                                                      | 92/513 [00:14<01:11,  5.91it/s, now=None]"
     ]
    },
    {
     "name": "stderr",
     "output_type": "stream",
     "text": [
      "\r\n",
      "t:  18%|██████████████████████▋                                                                                                      | 93/513 [00:14<01:04,  6.56it/s, now=None]"
     ]
    },
    {
     "name": "stderr",
     "output_type": "stream",
     "text": [
      "\r\n",
      "t:  18%|██████████████████████▉                                                                                                      | 94/513 [00:14<00:59,  7.07it/s, now=None]"
     ]
    },
    {
     "name": "stderr",
     "output_type": "stream",
     "text": [
      "\r\n",
      "t:  19%|███████████████████████▏                                                                                                     | 95/513 [00:14<01:12,  5.78it/s, now=None]"
     ]
    },
    {
     "name": "stderr",
     "output_type": "stream",
     "text": [
      "\r\n",
      "t:  19%|███████████████████████▍                                                                                                     | 96/513 [00:14<01:03,  6.52it/s, now=None]"
     ]
    },
    {
     "name": "stderr",
     "output_type": "stream",
     "text": [
      "\r\n",
      "t:  19%|███████████████████████▋                                                                                                     | 97/513 [00:15<00:58,  7.09it/s, now=None]"
     ]
    },
    {
     "name": "stderr",
     "output_type": "stream",
     "text": [
      "\r\n",
      "t:  19%|███████████████████████▉                                                                                                     | 98/513 [00:15<01:10,  5.90it/s, now=None]"
     ]
    },
    {
     "name": "stderr",
     "output_type": "stream",
     "text": [
      "\r\n",
      "t:  19%|████████████████████████                                                                                                     | 99/513 [00:15<01:02,  6.65it/s, now=None]"
     ]
    },
    {
     "name": "stderr",
     "output_type": "stream",
     "text": [
      "\r\n",
      "t:  19%|████████████████████████▏                                                                                                   | 100/513 [00:15<00:57,  7.22it/s, now=None]"
     ]
    },
    {
     "name": "stderr",
     "output_type": "stream",
     "text": [
      "\r\n",
      "t:  20%|████████████████████████▍                                                                                                   | 101/513 [00:15<01:11,  5.78it/s, now=None]"
     ]
    },
    {
     "name": "stderr",
     "output_type": "stream",
     "text": [
      "\r\n",
      "t:  20%|████████████████████████▋                                                                                                   | 102/513 [00:15<01:02,  6.53it/s, now=None]"
     ]
    },
    {
     "name": "stderr",
     "output_type": "stream",
     "text": [
      "\r\n",
      "t:  20%|████████████████████████▉                                                                                                   | 103/513 [00:16<00:57,  7.11it/s, now=None]"
     ]
    },
    {
     "name": "stderr",
     "output_type": "stream",
     "text": [
      "\r\n",
      "t:  20%|█████████████████████████▏                                                                                                  | 104/513 [00:16<01:09,  5.85it/s, now=None]"
     ]
    },
    {
     "name": "stderr",
     "output_type": "stream",
     "text": [
      "\r\n",
      "t:  20%|█████████████████████████▍                                                                                                  | 105/513 [00:16<01:02,  6.52it/s, now=None]"
     ]
    },
    {
     "name": "stderr",
     "output_type": "stream",
     "text": [
      "\r\n",
      "t:  21%|█████████████████████████▌                                                                                                  | 106/513 [00:16<00:57,  7.13it/s, now=None]"
     ]
    },
    {
     "name": "stderr",
     "output_type": "stream",
     "text": [
      "\r\n",
      "t:  21%|█████████████████████████▊                                                                                                  | 107/513 [00:16<01:09,  5.82it/s, now=None]"
     ]
    },
    {
     "name": "stderr",
     "output_type": "stream",
     "text": [
      "\r\n",
      "t:  21%|██████████████████████████                                                                                                  | 108/513 [00:16<01:01,  6.57it/s, now=None]"
     ]
    },
    {
     "name": "stderr",
     "output_type": "stream",
     "text": [
      "\r\n",
      "t:  21%|██████████████████████████▎                                                                                                 | 109/513 [00:16<00:56,  7.11it/s, now=None]"
     ]
    },
    {
     "name": "stderr",
     "output_type": "stream",
     "text": [
      "\r\n",
      "t:  21%|██████████████████████████▌                                                                                                 | 110/513 [00:17<01:08,  5.88it/s, now=None]"
     ]
    },
    {
     "name": "stderr",
     "output_type": "stream",
     "text": [
      "\r\n",
      "t:  22%|██████████████████████████▊                                                                                                 | 111/513 [00:17<01:01,  6.58it/s, now=None]"
     ]
    },
    {
     "name": "stderr",
     "output_type": "stream",
     "text": [
      "\r\n",
      "t:  22%|███████████████████████████                                                                                                 | 112/513 [00:17<00:56,  7.12it/s, now=None]"
     ]
    },
    {
     "name": "stderr",
     "output_type": "stream",
     "text": [
      "\r\n",
      "t:  22%|███████████████████████████▎                                                                                                | 113/513 [00:17<01:10,  5.71it/s, now=None]"
     ]
    },
    {
     "name": "stderr",
     "output_type": "stream",
     "text": [
      "\r\n",
      "t:  22%|███████████████████████████▌                                                                                                | 114/513 [00:17<01:02,  6.42it/s, now=None]"
     ]
    },
    {
     "name": "stderr",
     "output_type": "stream",
     "text": [
      "\r\n",
      "t:  22%|███████████████████████████▊                                                                                                | 115/513 [00:17<00:56,  7.04it/s, now=None]"
     ]
    },
    {
     "name": "stderr",
     "output_type": "stream",
     "text": [
      "\r\n",
      "t:  23%|████████████████████████████                                                                                                | 116/513 [00:18<01:08,  5.82it/s, now=None]"
     ]
    },
    {
     "name": "stderr",
     "output_type": "stream",
     "text": [
      "\r\n",
      "t:  23%|████████████████████████████▎                                                                                               | 117/513 [00:18<01:00,  6.50it/s, now=None]"
     ]
    },
    {
     "name": "stderr",
     "output_type": "stream",
     "text": [
      "\r\n",
      "t:  23%|████████████████████████████▌                                                                                               | 118/513 [00:18<00:55,  7.13it/s, now=None]"
     ]
    },
    {
     "name": "stderr",
     "output_type": "stream",
     "text": [
      "\r\n",
      "t:  23%|████████████████████████████▊                                                                                               | 119/513 [00:18<01:07,  5.87it/s, now=None]"
     ]
    },
    {
     "name": "stderr",
     "output_type": "stream",
     "text": [
      "\r\n",
      "t:  23%|█████████████████████████████                                                                                               | 120/513 [00:18<01:02,  6.33it/s, now=None]"
     ]
    },
    {
     "name": "stderr",
     "output_type": "stream",
     "text": [
      "\r\n",
      "t:  24%|█████████████████████████████▏                                                                                              | 121/513 [00:18<00:56,  6.93it/s, now=None]"
     ]
    },
    {
     "name": "stderr",
     "output_type": "stream",
     "text": [
      "\r\n",
      "t:  24%|█████████████████████████████▍                                                                                              | 122/513 [00:19<01:07,  5.82it/s, now=None]"
     ]
    },
    {
     "name": "stderr",
     "output_type": "stream",
     "text": [
      "\r\n",
      "t:  24%|█████████████████████████████▋                                                                                              | 123/513 [00:19<00:59,  6.55it/s, now=None]"
     ]
    },
    {
     "name": "stderr",
     "output_type": "stream",
     "text": [
      "\r\n",
      "t:  24%|█████████████████████████████▉                                                                                              | 124/513 [00:19<00:54,  7.17it/s, now=None]"
     ]
    },
    {
     "name": "stderr",
     "output_type": "stream",
     "text": [
      "\r\n",
      "t:  24%|██████████████████████████████▏                                                                                             | 125/513 [00:19<01:05,  5.92it/s, now=None]"
     ]
    },
    {
     "name": "stderr",
     "output_type": "stream",
     "text": [
      "\r\n",
      "t:  25%|██████████████████████████████▍                                                                                             | 126/513 [00:19<00:59,  6.55it/s, now=None]"
     ]
    },
    {
     "name": "stderr",
     "output_type": "stream",
     "text": [
      "\r\n",
      "t:  25%|██████████████████████████████▋                                                                                             | 127/513 [00:19<00:54,  7.03it/s, now=None]"
     ]
    },
    {
     "name": "stderr",
     "output_type": "stream",
     "text": [
      "\r\n",
      "t:  25%|██████████████████████████████▉                                                                                             | 128/513 [00:19<01:06,  5.80it/s, now=None]"
     ]
    },
    {
     "name": "stderr",
     "output_type": "stream",
     "text": [
      "\r\n",
      "t:  25%|███████████████████████████████▏                                                                                            | 129/513 [00:20<00:59,  6.50it/s, now=None]"
     ]
    },
    {
     "name": "stderr",
     "output_type": "stream",
     "text": [
      "\r\n",
      "t:  25%|███████████████████████████████▍                                                                                            | 130/513 [00:20<00:53,  7.12it/s, now=None]"
     ]
    },
    {
     "name": "stderr",
     "output_type": "stream",
     "text": [
      "\r\n",
      "t:  26%|███████████████████████████████▋                                                                                            | 131/513 [00:20<01:05,  5.86it/s, now=None]"
     ]
    },
    {
     "name": "stderr",
     "output_type": "stream",
     "text": [
      "\r\n",
      "t:  26%|███████████████████████████████▉                                                                                            | 132/513 [00:20<00:58,  6.56it/s, now=None]"
     ]
    },
    {
     "name": "stderr",
     "output_type": "stream",
     "text": [
      "\r\n",
      "t:  26%|████████████████████████████████▏                                                                                           | 133/513 [00:20<00:55,  6.82it/s, now=None]"
     ]
    },
    {
     "name": "stderr",
     "output_type": "stream",
     "text": [
      "\r\n",
      "t:  26%|████████████████████████████████▍                                                                                           | 134/513 [00:20<01:05,  5.75it/s, now=None]"
     ]
    },
    {
     "name": "stderr",
     "output_type": "stream",
     "text": [
      "\r\n",
      "t:  26%|████████████████████████████████▋                                                                                           | 135/513 [00:21<00:58,  6.46it/s, now=None]"
     ]
    },
    {
     "name": "stderr",
     "output_type": "stream",
     "text": [
      "\r\n",
      "t:  27%|████████████████████████████████▊                                                                                           | 136/513 [00:21<00:53,  7.08it/s, now=None]"
     ]
    },
    {
     "name": "stderr",
     "output_type": "stream",
     "text": [
      "\r\n",
      "t:  27%|█████████████████████████████████                                                                                           | 137/513 [00:21<01:04,  5.85it/s, now=None]"
     ]
    },
    {
     "name": "stderr",
     "output_type": "stream",
     "text": [
      "\r\n",
      "t:  27%|█████████████████████████████████▎                                                                                          | 138/513 [00:21<00:57,  6.56it/s, now=None]"
     ]
    },
    {
     "name": "stderr",
     "output_type": "stream",
     "text": [
      "\r\n",
      "t:  27%|█████████████████████████████████▌                                                                                          | 139/513 [00:21<00:52,  7.08it/s, now=None]"
     ]
    },
    {
     "name": "stderr",
     "output_type": "stream",
     "text": [
      "\r\n",
      "t:  27%|█████████████████████████████████▊                                                                                          | 140/513 [00:21<01:05,  5.71it/s, now=None]"
     ]
    },
    {
     "name": "stderr",
     "output_type": "stream",
     "text": [
      "\r\n",
      "t:  27%|██████████████████████████████████                                                                                          | 141/513 [00:21<00:58,  6.39it/s, now=None]"
     ]
    },
    {
     "name": "stderr",
     "output_type": "stream",
     "text": [
      "\r\n",
      "t:  28%|██████████████████████████████████▎                                                                                         | 142/513 [00:22<00:52,  7.01it/s, now=None]"
     ]
    },
    {
     "name": "stderr",
     "output_type": "stream",
     "text": [
      "\r\n",
      "t:  28%|██████████████████████████████████▌                                                                                         | 143/513 [00:22<01:03,  5.80it/s, now=None]"
     ]
    },
    {
     "name": "stderr",
     "output_type": "stream",
     "text": [
      "\r\n",
      "t:  28%|██████████████████████████████████▊                                                                                         | 144/513 [00:22<00:56,  6.57it/s, now=None]"
     ]
    },
    {
     "name": "stderr",
     "output_type": "stream",
     "text": [
      "\r\n",
      "t:  28%|███████████████████████████████████                                                                                         | 145/513 [00:22<00:51,  7.11it/s, now=None]"
     ]
    },
    {
     "name": "stderr",
     "output_type": "stream",
     "text": [
      "\r\n",
      "t:  28%|███████████████████████████████████▎                                                                                        | 146/513 [00:22<01:04,  5.71it/s, now=None]"
     ]
    },
    {
     "name": "stderr",
     "output_type": "stream",
     "text": [
      "\r\n",
      "t:  29%|███████████████████████████████████▌                                                                                        | 147/513 [00:22<00:56,  6.46it/s, now=None]"
     ]
    },
    {
     "name": "stderr",
     "output_type": "stream",
     "text": [
      "\r\n",
      "t:  29%|███████████████████████████████████▊                                                                                        | 148/513 [00:23<00:51,  7.08it/s, now=None]"
     ]
    },
    {
     "name": "stderr",
     "output_type": "stream",
     "text": [
      "\r\n",
      "t:  29%|████████████████████████████████████                                                                                        | 149/513 [00:23<01:02,  5.87it/s, now=None]"
     ]
    },
    {
     "name": "stderr",
     "output_type": "stream",
     "text": [
      "\r\n",
      "t:  29%|████████████████████████████████████▎                                                                                       | 150/513 [00:23<00:54,  6.62it/s, now=None]"
     ]
    },
    {
     "name": "stderr",
     "output_type": "stream",
     "text": [
      "\r\n",
      "t:  29%|████████████████████████████████████▍                                                                                       | 151/513 [00:23<00:50,  7.18it/s, now=None]"
     ]
    },
    {
     "name": "stderr",
     "output_type": "stream",
     "text": [
      "\r\n",
      "t:  30%|████████████████████████████████████▋                                                                                       | 152/513 [00:23<01:02,  5.80it/s, now=None]"
     ]
    },
    {
     "name": "stderr",
     "output_type": "stream",
     "text": [
      "\r\n",
      "t:  30%|████████████████████████████████████▉                                                                                       | 153/513 [00:23<00:55,  6.49it/s, now=None]"
     ]
    },
    {
     "name": "stderr",
     "output_type": "stream",
     "text": [
      "\r\n",
      "t:  30%|█████████████████████████████████████▏                                                                                      | 154/513 [00:23<00:50,  7.10it/s, now=None]"
     ]
    },
    {
     "name": "stderr",
     "output_type": "stream",
     "text": [
      "\r\n",
      "t:  30%|█████████████████████████████████████▍                                                                                      | 155/513 [00:24<01:01,  5.83it/s, now=None]"
     ]
    },
    {
     "name": "stderr",
     "output_type": "stream",
     "text": [
      "\r\n",
      "t:  30%|█████████████████████████████████████▋                                                                                      | 156/513 [00:24<00:54,  6.57it/s, now=None]"
     ]
    },
    {
     "name": "stderr",
     "output_type": "stream",
     "text": [
      "\r\n",
      "t:  31%|█████████████████████████████████████▉                                                                                      | 157/513 [00:24<00:49,  7.12it/s, now=None]"
     ]
    },
    {
     "name": "stderr",
     "output_type": "stream",
     "text": [
      "\r\n",
      "t:  31%|██████████████████████████████████████▏                                                                                     | 158/513 [00:24<01:02,  5.69it/s, now=None]"
     ]
    },
    {
     "name": "stderr",
     "output_type": "stream",
     "text": [
      "\r\n",
      "t:  31%|██████████████████████████████████████▍                                                                                     | 159/513 [00:24<00:55,  6.43it/s, now=None]"
     ]
    },
    {
     "name": "stderr",
     "output_type": "stream",
     "text": [
      "\r\n",
      "t:  31%|██████████████████████████████████████▋                                                                                     | 160/513 [00:24<00:50,  7.04it/s, now=None]"
     ]
    },
    {
     "name": "stderr",
     "output_type": "stream",
     "text": [
      "\r\n",
      "t:  31%|██████████████████████████████████████▉                                                                                     | 161/513 [00:25<01:00,  5.84it/s, now=None]"
     ]
    },
    {
     "name": "stderr",
     "output_type": "stream",
     "text": [
      "\r\n",
      "t:  32%|███████████████████████████████████████▏                                                                                    | 162/513 [00:25<00:53,  6.59it/s, now=None]"
     ]
    },
    {
     "name": "stderr",
     "output_type": "stream",
     "text": [
      "\r\n",
      "t:  32%|███████████████████████████████████████▍                                                                                    | 163/513 [00:25<00:48,  7.19it/s, now=None]"
     ]
    },
    {
     "name": "stderr",
     "output_type": "stream",
     "text": [
      "\r\n",
      "t:  32%|███████████████████████████████████████▋                                                                                    | 164/513 [00:25<00:59,  5.89it/s, now=None]"
     ]
    },
    {
     "name": "stderr",
     "output_type": "stream",
     "text": [
      "\r\n",
      "t:  32%|███████████████████████████████████████▉                                                                                    | 165/513 [00:25<00:54,  6.38it/s, now=None]"
     ]
    },
    {
     "name": "stderr",
     "output_type": "stream",
     "text": [
      "\r\n",
      "t:  32%|████████████████████████████████████████                                                                                    | 166/513 [00:25<00:49,  7.02it/s, now=None]"
     ]
    },
    {
     "name": "stderr",
     "output_type": "stream",
     "text": [
      "\r\n",
      "t:  33%|████████████████████████████████████████▎                                                                                   | 167/513 [00:26<00:59,  5.79it/s, now=None]"
     ]
    },
    {
     "name": "stderr",
     "output_type": "stream",
     "text": [
      "\r\n",
      "t:  33%|████████████████████████████████████████▌                                                                                   | 168/513 [00:26<00:52,  6.56it/s, now=None]"
     ]
    },
    {
     "name": "stderr",
     "output_type": "stream",
     "text": [
      "\r\n",
      "t:  33%|████████████████████████████████████████▊                                                                                   | 169/513 [00:26<00:48,  7.12it/s, now=None]"
     ]
    },
    {
     "name": "stderr",
     "output_type": "stream",
     "text": [
      "\r\n",
      "t:  33%|█████████████████████████████████████████                                                                                   | 170/513 [00:26<00:58,  5.86it/s, now=None]"
     ]
    },
    {
     "name": "stderr",
     "output_type": "stream",
     "text": [
      "\r\n",
      "t:  33%|█████████████████████████████████████████▎                                                                                  | 171/513 [00:26<00:52,  6.46it/s, now=None]"
     ]
    },
    {
     "name": "stderr",
     "output_type": "stream",
     "text": [
      "\r\n",
      "t:  34%|█████████████████████████████████████████▌                                                                                  | 172/513 [00:26<00:48,  7.08it/s, now=None]"
     ]
    },
    {
     "name": "stderr",
     "output_type": "stream",
     "text": [
      "\r\n",
      "t:  34%|█████████████████████████████████████████▊                                                                                  | 173/513 [00:26<00:57,  5.88it/s, now=None]"
     ]
    },
    {
     "name": "stderr",
     "output_type": "stream",
     "text": [
      "\r\n",
      "t:  34%|██████████████████████████████████████████                                                                                  | 174/513 [00:27<00:51,  6.63it/s, now=None]"
     ]
    },
    {
     "name": "stderr",
     "output_type": "stream",
     "text": [
      "\r\n",
      "t:  34%|██████████████████████████████████████████▎                                                                                 | 175/513 [00:27<00:46,  7.21it/s, now=None]"
     ]
    },
    {
     "name": "stderr",
     "output_type": "stream",
     "text": [
      "\r\n",
      "t:  34%|██████████████████████████████████████████▌                                                                                 | 176/513 [00:27<00:58,  5.76it/s, now=None]"
     ]
    },
    {
     "name": "stderr",
     "output_type": "stream",
     "text": [
      "\r\n",
      "t:  35%|██████████████████████████████████████████▊                                                                                 | 177/513 [00:27<00:53,  6.33it/s, now=None]"
     ]
    },
    {
     "name": "stderr",
     "output_type": "stream",
     "text": [
      "\r\n",
      "t:  35%|███████████████████████████████████████████                                                                                 | 178/513 [00:27<00:50,  6.70it/s, now=None]"
     ]
    },
    {
     "name": "stderr",
     "output_type": "stream",
     "text": [
      "\r\n",
      "t:  35%|███████████████████████████████████████████▎                                                                                | 179/513 [00:27<00:58,  5.67it/s, now=None]"
     ]
    },
    {
     "name": "stderr",
     "output_type": "stream",
     "text": [
      "\r\n",
      "t:  35%|███████████████████████████████████████████▌                                                                                | 180/513 [00:28<00:51,  6.43it/s, now=None]"
     ]
    },
    {
     "name": "stderr",
     "output_type": "stream",
     "text": [
      "\r\n",
      "t:  35%|███████████████████████████████████████████▊                                                                                | 181/513 [00:28<00:47,  7.01it/s, now=None]"
     ]
    },
    {
     "name": "stderr",
     "output_type": "stream",
     "text": [
      "\r\n",
      "t:  35%|███████████████████████████████████████████▉                                                                                | 182/513 [00:28<00:57,  5.74it/s, now=None]"
     ]
    },
    {
     "name": "stderr",
     "output_type": "stream",
     "text": [
      "\r\n",
      "t:  36%|████████████████████████████████████████████▏                                                                               | 183/513 [00:28<00:50,  6.49it/s, now=None]"
     ]
    },
    {
     "name": "stderr",
     "output_type": "stream",
     "text": [
      "\r\n",
      "t:  36%|████████████████████████████████████████████▍                                                                               | 184/513 [00:28<00:47,  6.92it/s, now=None]"
     ]
    },
    {
     "name": "stderr",
     "output_type": "stream",
     "text": [
      "\r\n",
      "t:  36%|████████████████████████████████████████████▋                                                                               | 185/513 [00:28<00:56,  5.77it/s, now=None]"
     ]
    },
    {
     "name": "stderr",
     "output_type": "stream",
     "text": [
      "\r\n",
      "t:  36%|████████████████████████████████████████████▉                                                                               | 186/513 [00:29<00:50,  6.49it/s, now=None]"
     ]
    },
    {
     "name": "stderr",
     "output_type": "stream",
     "text": [
      "\r\n",
      "t:  36%|█████████████████████████████████████████████▏                                                                              | 187/513 [00:29<00:45,  7.10it/s, now=None]"
     ]
    },
    {
     "name": "stderr",
     "output_type": "stream",
     "text": [
      "\r\n",
      "t:  37%|█████████████████████████████████████████████▍                                                                              | 188/513 [00:29<00:55,  5.87it/s, now=None]"
     ]
    },
    {
     "name": "stderr",
     "output_type": "stream",
     "text": [
      "\r\n",
      "t:  37%|█████████████████████████████████████████████▋                                                                              | 189/513 [00:29<00:49,  6.54it/s, now=None]"
     ]
    },
    {
     "name": "stderr",
     "output_type": "stream",
     "text": [
      "\r\n",
      "t:  37%|█████████████████████████████████████████████▉                                                                              | 190/513 [00:29<00:45,  7.15it/s, now=None]"
     ]
    },
    {
     "name": "stderr",
     "output_type": "stream",
     "text": [
      "\r\n",
      "t:  37%|██████████████████████████████████████████████▏                                                                             | 191/513 [00:29<00:54,  5.86it/s, now=None]"
     ]
    },
    {
     "name": "stderr",
     "output_type": "stream",
     "text": [
      "\r\n",
      "t:  37%|██████████████████████████████████████████████▍                                                                             | 192/513 [00:29<00:48,  6.60it/s, now=None]"
     ]
    },
    {
     "name": "stderr",
     "output_type": "stream",
     "text": [
      "\r\n",
      "t:  38%|██████████████████████████████████████████████▋                                                                             | 193/513 [00:30<00:44,  7.14it/s, now=None]"
     ]
    },
    {
     "name": "stderr",
     "output_type": "stream",
     "text": [
      "\r\n",
      "t:  38%|██████████████████████████████████████████████▉                                                                             | 194/513 [00:30<00:53,  5.91it/s, now=None]"
     ]
    },
    {
     "name": "stderr",
     "output_type": "stream",
     "text": [
      "\r\n",
      "t:  38%|███████████████████████████████████████████████▏                                                                            | 195/513 [00:30<00:47,  6.63it/s, now=None]"
     ]
    },
    {
     "name": "stderr",
     "output_type": "stream",
     "text": [
      "\r\n",
      "t:  38%|███████████████████████████████████████████████▍                                                                            | 196/513 [00:30<00:44,  7.08it/s, now=None]"
     ]
    },
    {
     "name": "stderr",
     "output_type": "stream",
     "text": [
      "\r\n",
      "t:  38%|███████████████████████████████████████████████▌                                                                            | 197/513 [00:30<00:56,  5.62it/s, now=None]"
     ]
    },
    {
     "name": "stderr",
     "output_type": "stream",
     "text": [
      "\r\n",
      "t:  39%|███████████████████████████████████████████████▊                                                                            | 198/513 [00:30<00:49,  6.38it/s, now=None]"
     ]
    },
    {
     "name": "stderr",
     "output_type": "stream",
     "text": [
      "\r\n",
      "t:  39%|████████████████████████████████████████████████                                                                            | 199/513 [00:30<00:45,  6.90it/s, now=None]"
     ]
    },
    {
     "name": "stderr",
     "output_type": "stream",
     "text": [
      "\r\n",
      "t:  39%|████████████████████████████████████████████████▎                                                                           | 200/513 [00:31<00:54,  5.77it/s, now=None]"
     ]
    },
    {
     "name": "stderr",
     "output_type": "stream",
     "text": [
      "\r\n",
      "t:  39%|████████████████████████████████████████████████▌                                                                           | 201/513 [00:31<00:48,  6.41it/s, now=None]"
     ]
    },
    {
     "name": "stderr",
     "output_type": "stream",
     "text": [
      "\r\n",
      "t:  39%|████████████████████████████████████████████████▊                                                                           | 202/513 [00:31<00:44,  7.04it/s, now=None]"
     ]
    },
    {
     "name": "stderr",
     "output_type": "stream",
     "text": [
      "\r\n",
      "t:  40%|█████████████████████████████████████████████████                                                                           | 203/513 [00:31<00:53,  5.76it/s, now=None]"
     ]
    },
    {
     "name": "stderr",
     "output_type": "stream",
     "text": [
      "\r\n",
      "t:  40%|█████████████████████████████████████████████████▎                                                                          | 204/513 [00:31<00:47,  6.48it/s, now=None]"
     ]
    },
    {
     "name": "stderr",
     "output_type": "stream",
     "text": [
      "\r\n",
      "t:  40%|█████████████████████████████████████████████████▌                                                                          | 205/513 [00:31<00:43,  7.07it/s, now=None]"
     ]
    },
    {
     "name": "stderr",
     "output_type": "stream",
     "text": [
      "\r\n",
      "t:  40%|█████████████████████████████████████████████████▊                                                                          | 206/513 [00:32<00:54,  5.67it/s, now=None]"
     ]
    },
    {
     "name": "stderr",
     "output_type": "stream",
     "text": [
      "\r\n",
      "t:  40%|██████████████████████████████████████████████████                                                                          | 207/513 [00:32<00:47,  6.43it/s, now=None]"
     ]
    },
    {
     "name": "stderr",
     "output_type": "stream",
     "text": [
      "\r\n",
      "t:  41%|██████████████████████████████████████████████████▎                                                                         | 208/513 [00:32<00:43,  7.05it/s, now=None]"
     ]
    },
    {
     "name": "stderr",
     "output_type": "stream",
     "text": [
      "\r\n",
      "t:  41%|██████████████████████████████████████████████████▌                                                                         | 209/513 [00:32<00:53,  5.70it/s, now=None]"
     ]
    },
    {
     "name": "stderr",
     "output_type": "stream",
     "text": [
      "\r\n",
      "t:  41%|██████████████████████████████████████████████████▊                                                                         | 210/513 [00:32<00:47,  6.41it/s, now=None]"
     ]
    },
    {
     "name": "stderr",
     "output_type": "stream",
     "text": [
      "\r\n",
      "t:  41%|███████████████████████████████████████████████████                                                                         | 211/513 [00:32<00:42,  7.03it/s, now=None]"
     ]
    },
    {
     "name": "stderr",
     "output_type": "stream",
     "text": [
      "\r\n",
      "t:  41%|███████████████████████████████████████████████████▏                                                                        | 212/513 [00:33<00:51,  5.84it/s, now=None]"
     ]
    },
    {
     "name": "stderr",
     "output_type": "stream",
     "text": [
      "\r\n",
      "t:  42%|███████████████████████████████████████████████████▍                                                                        | 213/513 [00:33<00:46,  6.51it/s, now=None]"
     ]
    },
    {
     "name": "stderr",
     "output_type": "stream",
     "text": [
      "\r\n",
      "t:  42%|███████████████████████████████████████████████████▋                                                                        | 214/513 [00:33<00:41,  7.14it/s, now=None]"
     ]
    },
    {
     "name": "stderr",
     "output_type": "stream",
     "text": [
      "\r\n",
      "t:  42%|███████████████████████████████████████████████████▉                                                                        | 215/513 [00:33<00:50,  5.87it/s, now=None]"
     ]
    },
    {
     "name": "stderr",
     "output_type": "stream",
     "text": [
      "\r\n",
      "t:  42%|████████████████████████████████████████████████████▏                                                                       | 216/513 [00:33<00:47,  6.30it/s, now=None]"
     ]
    },
    {
     "name": "stderr",
     "output_type": "stream",
     "text": [
      "\r\n",
      "t:  42%|████████████████████████████████████████████████████▍                                                                       | 217/513 [00:33<00:43,  6.86it/s, now=None]"
     ]
    },
    {
     "name": "stderr",
     "output_type": "stream",
     "text": [
      "\r\n",
      "t:  42%|████████████████████████████████████████████████████▋                                                                       | 218/513 [00:34<00:51,  5.76it/s, now=None]"
     ]
    },
    {
     "name": "stderr",
     "output_type": "stream",
     "text": [
      "\r\n",
      "t:  43%|████████████████████████████████████████████████████▉                                                                       | 219/513 [00:34<00:45,  6.42it/s, now=None]"
     ]
    },
    {
     "name": "stderr",
     "output_type": "stream",
     "text": [
      "\r\n",
      "t:  43%|█████████████████████████████████████████████████████▏                                                                      | 220/513 [00:34<00:41,  6.98it/s, now=None]"
     ]
    },
    {
     "name": "stderr",
     "output_type": "stream",
     "text": [
      "\r\n",
      "t:  43%|█████████████████████████████████████████████████████▍                                                                      | 221/513 [00:34<00:51,  5.72it/s, now=None]"
     ]
    },
    {
     "name": "stderr",
     "output_type": "stream",
     "text": [
      "\r\n",
      "t:  43%|█████████████████████████████████████████████████████▋                                                                      | 222/513 [00:34<00:46,  6.23it/s, now=None]"
     ]
    },
    {
     "name": "stderr",
     "output_type": "stream",
     "text": [
      "\r\n",
      "t:  43%|█████████████████████████████████████████████████████▉                                                                      | 223/513 [00:34<00:42,  6.79it/s, now=None]"
     ]
    },
    {
     "name": "stderr",
     "output_type": "stream",
     "text": [
      "\r\n",
      "t:  44%|██████████████████████████████████████████████████████▏                                                                     | 224/513 [00:35<00:52,  5.55it/s, now=None]"
     ]
    },
    {
     "name": "stderr",
     "output_type": "stream",
     "text": [
      "\r\n",
      "t:  44%|██████████████████████████████████████████████████████▍                                                                     | 225/513 [00:35<00:45,  6.28it/s, now=None]"
     ]
    },
    {
     "name": "stderr",
     "output_type": "stream",
     "text": [
      "\r\n",
      "t:  44%|██████████████████████████████████████████████████████▋                                                                     | 226/513 [00:35<00:41,  6.92it/s, now=None]"
     ]
    },
    {
     "name": "stderr",
     "output_type": "stream",
     "text": [
      "\r\n",
      "t:  44%|██████████████████████████████████████████████████████▊                                                                     | 227/513 [00:35<00:49,  5.76it/s, now=None]"
     ]
    },
    {
     "name": "stderr",
     "output_type": "stream",
     "text": [
      "\r\n",
      "t:  44%|███████████████████████████████████████████████████████                                                                     | 228/513 [00:35<00:43,  6.51it/s, now=None]"
     ]
    },
    {
     "name": "stderr",
     "output_type": "stream",
     "text": [
      "\r\n",
      "t:  45%|███████████████████████████████████████████████████████▎                                                                    | 229/513 [00:35<00:41,  6.91it/s, now=None]"
     ]
    },
    {
     "name": "stderr",
     "output_type": "stream",
     "text": [
      "\r\n",
      "t:  45%|███████████████████████████████████████████████████████▌                                                                    | 230/513 [00:35<00:48,  5.80it/s, now=None]"
     ]
    },
    {
     "name": "stderr",
     "output_type": "stream",
     "text": [
      "\r\n",
      "t:  45%|███████████████████████████████████████████████████████▊                                                                    | 231/513 [00:36<00:43,  6.47it/s, now=None]"
     ]
    },
    {
     "name": "stderr",
     "output_type": "stream",
     "text": [
      "\r\n",
      "t:  45%|████████████████████████████████████████████████████████                                                                    | 232/513 [00:36<00:39,  7.10it/s, now=None]"
     ]
    },
    {
     "name": "stderr",
     "output_type": "stream",
     "text": [
      "\r\n",
      "t:  45%|████████████████████████████████████████████████████████▎                                                                   | 233/513 [00:36<00:47,  5.90it/s, now=None]"
     ]
    },
    {
     "name": "stderr",
     "output_type": "stream",
     "text": [
      "\r\n",
      "t:  46%|████████████████████████████████████████████████████████▌                                                                   | 234/513 [00:36<00:42,  6.57it/s, now=None]"
     ]
    },
    {
     "name": "stderr",
     "output_type": "stream",
     "text": [
      "\r\n",
      "t:  46%|████████████████████████████████████████████████████████▊                                                                   | 235/513 [00:36<00:40,  6.92it/s, now=None]"
     ]
    },
    {
     "name": "stderr",
     "output_type": "stream",
     "text": [
      "\r\n",
      "t:  46%|█████████████████████████████████████████████████████████                                                                   | 236/513 [00:36<00:48,  5.75it/s, now=None]"
     ]
    },
    {
     "name": "stderr",
     "output_type": "stream",
     "text": [
      "\r\n",
      "t:  46%|█████████████████████████████████████████████████████████▎                                                                  | 237/513 [00:37<00:42,  6.44it/s, now=None]"
     ]
    },
    {
     "name": "stderr",
     "output_type": "stream",
     "text": [
      "\r\n",
      "t:  46%|█████████████████████████████████████████████████████████▌                                                                  | 238/513 [00:37<00:38,  7.06it/s, now=None]"
     ]
    },
    {
     "name": "stderr",
     "output_type": "stream",
     "text": [
      "\r\n",
      "t:  47%|█████████████████████████████████████████████████████████▊                                                                  | 239/513 [00:37<00:47,  5.82it/s, now=None]"
     ]
    },
    {
     "name": "stderr",
     "output_type": "stream",
     "text": [
      "\r\n",
      "t:  47%|██████████████████████████████████████████████████████████                                                                  | 240/513 [00:37<00:41,  6.51it/s, now=None]"
     ]
    },
    {
     "name": "stderr",
     "output_type": "stream",
     "text": [
      "\r\n",
      "t:  47%|██████████████████████████████████████████████████████████▎                                                                 | 241/513 [00:37<00:38,  7.06it/s, now=None]"
     ]
    },
    {
     "name": "stderr",
     "output_type": "stream",
     "text": [
      "\r\n",
      "t:  47%|██████████████████████████████████████████████████████████▍                                                                 | 242/513 [00:37<00:47,  5.70it/s, now=None]"
     ]
    },
    {
     "name": "stderr",
     "output_type": "stream",
     "text": [
      "\r\n",
      "t:  47%|██████████████████████████████████████████████████████████▋                                                                 | 243/513 [00:37<00:41,  6.47it/s, now=None]"
     ]
    },
    {
     "name": "stderr",
     "output_type": "stream",
     "text": [
      "\r\n",
      "t:  48%|██████████████████████████████████████████████████████████▉                                                                 | 244/513 [00:38<00:37,  7.09it/s, now=None]"
     ]
    },
    {
     "name": "stderr",
     "output_type": "stream",
     "text": [
      "\r\n",
      "t:  48%|███████████████████████████████████████████████████████████▏                                                                | 245/513 [00:38<00:45,  5.94it/s, now=None]"
     ]
    },
    {
     "name": "stderr",
     "output_type": "stream",
     "text": [
      "\r\n",
      "t:  48%|███████████████████████████████████████████████████████████▍                                                                | 246/513 [00:38<00:40,  6.66it/s, now=None]"
     ]
    },
    {
     "name": "stderr",
     "output_type": "stream",
     "text": [
      "\r\n",
      "t:  48%|███████████████████████████████████████████████████████████▋                                                                | 247/513 [00:38<00:36,  7.20it/s, now=None]"
     ]
    },
    {
     "name": "stderr",
     "output_type": "stream",
     "text": [
      "\r\n",
      "t:  48%|███████████████████████████████████████████████████████████▉                                                                | 248/513 [00:38<00:45,  5.78it/s, now=None]"
     ]
    },
    {
     "name": "stderr",
     "output_type": "stream",
     "text": [
      "\r\n",
      "t:  49%|████████████████████████████████████████████████████████████▏                                                               | 249/513 [00:38<00:40,  6.47it/s, now=None]"
     ]
    },
    {
     "name": "stderr",
     "output_type": "stream",
     "text": [
      "\r\n",
      "t:  49%|████████████████████████████████████████████████████████████▍                                                               | 250/513 [00:38<00:37,  7.09it/s, now=None]"
     ]
    },
    {
     "name": "stderr",
     "output_type": "stream",
     "text": [
      "\r\n",
      "t:  49%|████████████████████████████████████████████████████████████▋                                                               | 251/513 [00:39<00:44,  5.88it/s, now=None]"
     ]
    },
    {
     "name": "stderr",
     "output_type": "stream",
     "text": [
      "\r\n",
      "t:  49%|████████████████████████████████████████████████████████████▉                                                               | 252/513 [00:39<00:39,  6.63it/s, now=None]"
     ]
    },
    {
     "name": "stderr",
     "output_type": "stream",
     "text": [
      "\r\n",
      "t:  49%|█████████████████████████████████████████████████████████████▏                                                              | 253/513 [00:39<00:36,  7.19it/s, now=None]"
     ]
    },
    {
     "name": "stderr",
     "output_type": "stream",
     "text": [
      "\r\n",
      "t:  50%|█████████████████████████████████████████████████████████████▍                                                              | 254/513 [00:39<00:44,  5.84it/s, now=None]"
     ]
    },
    {
     "name": "stderr",
     "output_type": "stream",
     "text": [
      "\r\n",
      "t:  50%|█████████████████████████████████████████████████████████████▋                                                              | 255/513 [00:39<00:39,  6.57it/s, now=None]"
     ]
    },
    {
     "name": "stderr",
     "output_type": "stream",
     "text": [
      "\r\n",
      "t:  50%|█████████████████████████████████████████████████████████████▉                                                              | 256/513 [00:39<00:35,  7.18it/s, now=None]"
     ]
    },
    {
     "name": "stderr",
     "output_type": "stream",
     "text": [
      "\r\n",
      "t:  50%|██████████████████████████████████████████████████████████████                                                              | 257/513 [00:40<00:42,  5.96it/s, now=None]"
     ]
    },
    {
     "name": "stderr",
     "output_type": "stream",
     "text": [
      "\r\n",
      "t:  50%|██████████████████████████████████████████████████████████████▎                                                             | 258/513 [00:40<00:38,  6.69it/s, now=None]"
     ]
    },
    {
     "name": "stderr",
     "output_type": "stream",
     "text": [
      "\r\n",
      "t:  50%|██████████████████████████████████████████████████████████████▌                                                             | 259/513 [00:40<00:35,  7.26it/s, now=None]"
     ]
    },
    {
     "name": "stderr",
     "output_type": "stream",
     "text": [
      "\r\n",
      "t:  51%|██████████████████████████████████████████████████████████████▊                                                             | 260/513 [00:40<00:42,  5.91it/s, now=None]"
     ]
    },
    {
     "name": "stderr",
     "output_type": "stream",
     "text": [
      "\r\n",
      "t:  51%|███████████████████████████████████████████████████████████████                                                             | 261/513 [00:40<00:39,  6.35it/s, now=None]"
     ]
    },
    {
     "name": "stderr",
     "output_type": "stream",
     "text": [
      "\r\n",
      "t:  51%|███████████████████████████████████████████████████████████████▎                                                            | 262/513 [00:40<00:35,  6.99it/s, now=None]"
     ]
    },
    {
     "name": "stderr",
     "output_type": "stream",
     "text": [
      "\r\n",
      "t:  51%|███████████████████████████████████████████████████████████████▌                                                            | 263/513 [00:41<00:43,  5.81it/s, now=None]"
     ]
    },
    {
     "name": "stderr",
     "output_type": "stream",
     "text": [
      "\r\n",
      "t:  51%|███████████████████████████████████████████████████████████████▊                                                            | 264/513 [00:41<00:38,  6.55it/s, now=None]"
     ]
    },
    {
     "name": "stderr",
     "output_type": "stream",
     "text": [
      "\r\n",
      "t:  52%|████████████████████████████████████████████████████████████████                                                            | 265/513 [00:41<00:34,  7.11it/s, now=None]"
     ]
    },
    {
     "name": "stderr",
     "output_type": "stream",
     "text": [
      "\r\n",
      "t:  52%|████████████████████████████████████████████████████████████████▎                                                           | 266/513 [00:41<00:41,  5.89it/s, now=None]"
     ]
    },
    {
     "name": "stderr",
     "output_type": "stream",
     "text": [
      "\r\n",
      "t:  52%|████████████████████████████████████████████████████████████████▌                                                           | 267/513 [00:41<00:38,  6.44it/s, now=None]"
     ]
    },
    {
     "name": "stderr",
     "output_type": "stream",
     "text": [
      "\r\n",
      "t:  52%|████████████████████████████████████████████████████████████████▊                                                           | 268/513 [00:41<00:34,  7.04it/s, now=None]"
     ]
    },
    {
     "name": "stderr",
     "output_type": "stream",
     "text": [
      "\r\n",
      "t:  52%|█████████████████████████████████████████████████████████████████                                                           | 269/513 [00:42<00:41,  5.88it/s, now=None]"
     ]
    },
    {
     "name": "stderr",
     "output_type": "stream",
     "text": [
      "\r\n",
      "t:  53%|█████████████████████████████████████████████████████████████████▎                                                          | 270/513 [00:42<00:36,  6.60it/s, now=None]"
     ]
    },
    {
     "name": "stderr",
     "output_type": "stream",
     "text": [
      "\r\n",
      "t:  53%|█████████████████████████████████████████████████████████████████▌                                                          | 271/513 [00:42<00:33,  7.18it/s, now=None]"
     ]
    },
    {
     "name": "stderr",
     "output_type": "stream",
     "text": [
      "\r\n",
      "t:  53%|█████████████████████████████████████████████████████████████████▋                                                          | 272/513 [00:42<00:40,  5.94it/s, now=None]"
     ]
    },
    {
     "name": "stderr",
     "output_type": "stream",
     "text": [
      "\r\n",
      "t:  53%|█████████████████████████████████████████████████████████████████▉                                                          | 273/513 [00:42<00:36,  6.59it/s, now=None]"
     ]
    },
    {
     "name": "stderr",
     "output_type": "stream",
     "text": [
      "\r\n",
      "t:  53%|██████████████████████████████████████████████████████████████████▏                                                         | 274/513 [00:42<00:34,  6.92it/s, now=None]"
     ]
    },
    {
     "name": "stderr",
     "output_type": "stream",
     "text": [
      "\r\n",
      "t:  54%|██████████████████████████████████████████████████████████████████▍                                                         | 275/513 [00:42<00:41,  5.80it/s, now=None]"
     ]
    },
    {
     "name": "stderr",
     "output_type": "stream",
     "text": [
      "\r\n",
      "t:  54%|██████████████████████████████████████████████████████████████████▋                                                         | 276/513 [00:43<00:36,  6.56it/s, now=None]"
     ]
    },
    {
     "name": "stderr",
     "output_type": "stream",
     "text": [
      "\r\n",
      "t:  54%|██████████████████████████████████████████████████████████████████▉                                                         | 277/513 [00:43<00:33,  7.12it/s, now=None]"
     ]
    },
    {
     "name": "stderr",
     "output_type": "stream",
     "text": [
      "\r\n",
      "t:  54%|███████████████████████████████████████████████████████████████████▏                                                        | 278/513 [00:43<00:39,  5.94it/s, now=None]"
     ]
    },
    {
     "name": "stderr",
     "output_type": "stream",
     "text": [
      "\r\n",
      "t:  54%|███████████████████████████████████████████████████████████████████▍                                                        | 279/513 [00:43<00:35,  6.65it/s, now=None]"
     ]
    },
    {
     "name": "stderr",
     "output_type": "stream",
     "text": [
      "\r\n",
      "t:  55%|███████████████████████████████████████████████████████████████████▋                                                        | 280/513 [00:43<00:32,  7.21it/s, now=None]"
     ]
    },
    {
     "name": "stderr",
     "output_type": "stream",
     "text": [
      "\r\n",
      "t:  55%|███████████████████████████████████████████████████████████████████▉                                                        | 281/513 [00:43<00:40,  5.76it/s, now=None]"
     ]
    },
    {
     "name": "stderr",
     "output_type": "stream",
     "text": [
      "\r\n",
      "t:  55%|████████████████████████████████████████████████████████████████████▏                                                       | 282/513 [00:43<00:35,  6.51it/s, now=None]"
     ]
    },
    {
     "name": "stderr",
     "output_type": "stream",
     "text": [
      "\r\n",
      "t:  55%|████████████████████████████████████████████████████████████████████▍                                                       | 283/513 [00:44<00:32,  7.10it/s, now=None]"
     ]
    },
    {
     "name": "stderr",
     "output_type": "stream",
     "text": [
      "\r\n",
      "t:  55%|████████████████████████████████████████████████████████████████████▋                                                       | 284/513 [00:44<00:38,  5.89it/s, now=None]"
     ]
    },
    {
     "name": "stderr",
     "output_type": "stream",
     "text": [
      "\r\n",
      "t:  56%|████████████████████████████████████████████████████████████████████▉                                                       | 285/513 [00:44<00:34,  6.57it/s, now=None]"
     ]
    },
    {
     "name": "stderr",
     "output_type": "stream",
     "text": [
      "\r\n",
      "t:  56%|█████████████████████████████████████████████████████████████████████▏                                                      | 286/513 [00:44<00:31,  7.16it/s, now=None]"
     ]
    },
    {
     "name": "stderr",
     "output_type": "stream",
     "text": [
      "\r\n",
      "t:  56%|█████████████████████████████████████████████████████████████████████▎                                                      | 287/513 [00:44<00:39,  5.78it/s, now=None]"
     ]
    },
    {
     "name": "stderr",
     "output_type": "stream",
     "text": [
      "\r\n",
      "t:  56%|█████████████████████████████████████████████████████████████████████▌                                                      | 288/513 [00:44<00:34,  6.55it/s, now=None]"
     ]
    },
    {
     "name": "stderr",
     "output_type": "stream",
     "text": [
      "\r\n",
      "t:  56%|█████████████████████████████████████████████████████████████████████▊                                                      | 289/513 [00:45<00:31,  7.09it/s, now=None]"
     ]
    },
    {
     "name": "stderr",
     "output_type": "stream",
     "text": [
      "\r\n",
      "t:  57%|██████████████████████████████████████████████████████████████████████                                                      | 290/513 [00:45<00:37,  5.97it/s, now=None]"
     ]
    },
    {
     "name": "stderr",
     "output_type": "stream",
     "text": [
      "\r\n",
      "t:  57%|██████████████████████████████████████████████████████████████████████▎                                                     | 291/513 [00:45<00:33,  6.72it/s, now=None]"
     ]
    },
    {
     "name": "stderr",
     "output_type": "stream",
     "text": [
      "\r\n",
      "t:  57%|██████████████████████████████████████████████████████████████████████▌                                                     | 292/513 [00:45<00:30,  7.31it/s, now=None]"
     ]
    },
    {
     "name": "stderr",
     "output_type": "stream",
     "text": [
      "\r\n",
      "t:  57%|██████████████████████████████████████████████████████████████████████▊                                                     | 293/513 [00:45<00:37,  5.89it/s, now=None]"
     ]
    },
    {
     "name": "stderr",
     "output_type": "stream",
     "text": [
      "\r\n",
      "t:  57%|███████████████████████████████████████████████████████████████████████                                                     | 294/513 [00:45<00:34,  6.40it/s, now=None]"
     ]
    },
    {
     "name": "stderr",
     "output_type": "stream",
     "text": [
      "\r\n",
      "t:  58%|███████████████████████████████████████████████████████████████████████▎                                                    | 295/513 [00:45<00:31,  6.93it/s, now=None]"
     ]
    },
    {
     "name": "stderr",
     "output_type": "stream",
     "text": [
      "\r\n",
      "t:  58%|███████████████████████████████████████████████████████████████████████▌                                                    | 296/513 [00:46<00:37,  5.78it/s, now=None]"
     ]
    },
    {
     "name": "stderr",
     "output_type": "stream",
     "text": [
      "\r\n",
      "t:  58%|███████████████████████████████████████████████████████████████████████▊                                                    | 297/513 [00:46<00:33,  6.54it/s, now=None]"
     ]
    },
    {
     "name": "stderr",
     "output_type": "stream",
     "text": [
      "\r\n",
      "t:  58%|████████████████████████████████████████████████████████████████████████                                                    | 298/513 [00:46<00:30,  7.17it/s, now=None]"
     ]
    },
    {
     "name": "stderr",
     "output_type": "stream",
     "text": [
      "\r\n",
      "t:  58%|████████████████████████████████████████████████████████████████████████▎                                                   | 299/513 [00:46<00:36,  5.79it/s, now=None]"
     ]
    },
    {
     "name": "stderr",
     "output_type": "stream",
     "text": [
      "\r\n",
      "t:  58%|████████████████████████████████████████████████████████████████████████▌                                                   | 300/513 [00:46<00:32,  6.49it/s, now=None]"
     ]
    },
    {
     "name": "stderr",
     "output_type": "stream",
     "text": [
      "\r\n",
      "t:  59%|████████████████████████████████████████████████████████████████████████▊                                                   | 301/513 [00:46<00:29,  7.10it/s, now=None]"
     ]
    },
    {
     "name": "stderr",
     "output_type": "stream",
     "text": [
      "\r\n",
      "t:  59%|████████████████████████████████████████████████████████████████████████▉                                                   | 302/513 [00:47<00:35,  5.92it/s, now=None]"
     ]
    },
    {
     "name": "stderr",
     "output_type": "stream",
     "text": [
      "\r\n",
      "t:  59%|█████████████████████████████████████████████████████████████████████████▏                                                  | 303/513 [00:47<00:31,  6.56it/s, now=None]"
     ]
    },
    {
     "name": "stderr",
     "output_type": "stream",
     "text": [
      "\r\n",
      "t:  59%|█████████████████████████████████████████████████████████████████████████▍                                                  | 304/513 [00:47<00:29,  7.09it/s, now=None]"
     ]
    },
    {
     "name": "stderr",
     "output_type": "stream",
     "text": [
      "\r\n",
      "t:  59%|█████████████████████████████████████████████████████████████████████████▋                                                  | 305/513 [00:47<00:35,  5.90it/s, now=None]"
     ]
    },
    {
     "name": "stderr",
     "output_type": "stream",
     "text": [
      "\r\n",
      "t:  60%|█████████████████████████████████████████████████████████████████████████▉                                                  | 306/513 [00:47<00:32,  6.45it/s, now=None]"
     ]
    },
    {
     "name": "stderr",
     "output_type": "stream",
     "text": [
      "\r\n",
      "t:  60%|██████████████████████████████████████████████████████████████████████████▏                                                 | 307/513 [00:47<00:29,  7.01it/s, now=None]"
     ]
    },
    {
     "name": "stderr",
     "output_type": "stream",
     "text": [
      "\r\n",
      "t:  60%|██████████████████████████████████████████████████████████████████████████▍                                                 | 308/513 [00:48<00:35,  5.83it/s, now=None]"
     ]
    },
    {
     "name": "stderr",
     "output_type": "stream",
     "text": [
      "\r\n",
      "t:  60%|██████████████████████████████████████████████████████████████████████████▋                                                 | 309/513 [00:48<00:30,  6.58it/s, now=None]"
     ]
    },
    {
     "name": "stderr",
     "output_type": "stream",
     "text": [
      "\r\n",
      "t:  60%|██████████████████████████████████████████████████████████████████████████▉                                                 | 310/513 [00:48<00:28,  7.18it/s, now=None]"
     ]
    },
    {
     "name": "stderr",
     "output_type": "stream",
     "text": [
      "\r\n",
      "t:  61%|███████████████████████████████████████████████████████████████████████████▏                                                | 311/513 [00:48<00:34,  5.93it/s, now=None]"
     ]
    },
    {
     "name": "stderr",
     "output_type": "stream",
     "text": [
      "\r\n",
      "t:  61%|███████████████████████████████████████████████████████████████████████████▍                                                | 312/513 [00:48<00:30,  6.63it/s, now=None]"
     ]
    },
    {
     "name": "stderr",
     "output_type": "stream",
     "text": [
      "\r\n",
      "t:  61%|███████████████████████████████████████████████████████████████████████████▋                                                | 313/513 [00:48<00:28,  7.12it/s, now=None]"
     ]
    },
    {
     "name": "stderr",
     "output_type": "stream",
     "text": [
      "\r\n",
      "t:  61%|███████████████████████████████████████████████████████████████████████████▉                                                | 314/513 [00:48<00:33,  5.89it/s, now=None]"
     ]
    },
    {
     "name": "stderr",
     "output_type": "stream",
     "text": [
      "\r\n",
      "t:  61%|████████████████████████████████████████████████████████████████████████████▏                                               | 315/513 [00:49<00:30,  6.55it/s, now=None]"
     ]
    },
    {
     "name": "stderr",
     "output_type": "stream",
     "text": [
      "\r\n",
      "t:  62%|████████████████████████████████████████████████████████████████████████████▍                                               | 316/513 [00:49<00:27,  7.15it/s, now=None]"
     ]
    },
    {
     "name": "stderr",
     "output_type": "stream",
     "text": [
      "\r\n",
      "t:  62%|████████████████████████████████████████████████████████████████████████████▌                                               | 317/513 [00:49<00:33,  5.91it/s, now=None]"
     ]
    },
    {
     "name": "stderr",
     "output_type": "stream",
     "text": [
      "\r\n",
      "t:  62%|████████████████████████████████████████████████████████████████████████████▊                                               | 318/513 [00:49<00:29,  6.61it/s, now=None]"
     ]
    },
    {
     "name": "stderr",
     "output_type": "stream",
     "text": [
      "\r\n",
      "t:  62%|█████████████████████████████████████████████████████████████████████████████                                               | 319/513 [00:49<00:28,  6.91it/s, now=None]"
     ]
    },
    {
     "name": "stderr",
     "output_type": "stream",
     "text": [
      "\r\n",
      "t:  62%|█████████████████████████████████████████████████████████████████████████████▎                                              | 320/513 [00:49<00:33,  5.77it/s, now=None]"
     ]
    },
    {
     "name": "stderr",
     "output_type": "stream",
     "text": [
      "\r\n",
      "t:  63%|█████████████████████████████████████████████████████████████████████████████▌                                              | 321/513 [00:50<00:29,  6.53it/s, now=None]"
     ]
    },
    {
     "name": "stderr",
     "output_type": "stream",
     "text": [
      "\r\n",
      "t:  63%|█████████████████████████████████████████████████████████████████████████████▊                                              | 322/513 [00:50<00:26,  7.15it/s, now=None]"
     ]
    },
    {
     "name": "stderr",
     "output_type": "stream",
     "text": [
      "\r\n",
      "t:  63%|██████████████████████████████████████████████████████████████████████████████                                              | 323/513 [00:50<00:31,  6.00it/s, now=None]"
     ]
    },
    {
     "name": "stderr",
     "output_type": "stream",
     "text": [
      "\r\n",
      "t:  63%|██████████████████████████████████████████████████████████████████████████████▎                                             | 324/513 [00:50<00:28,  6.72it/s, now=None]"
     ]
    },
    {
     "name": "stderr",
     "output_type": "stream",
     "text": [
      "\r\n",
      "t:  63%|██████████████████████████████████████████████████████████████████████████████▌                                             | 325/513 [00:50<00:25,  7.27it/s, now=None]"
     ]
    },
    {
     "name": "stderr",
     "output_type": "stream",
     "text": [
      "\r\n",
      "t:  64%|██████████████████████████████████████████████████████████████████████████████▊                                             | 326/513 [00:50<00:31,  5.90it/s, now=None]"
     ]
    },
    {
     "name": "stderr",
     "output_type": "stream",
     "text": [
      "\r\n",
      "t:  64%|███████████████████████████████████████████████████████████████████████████████                                             | 327/513 [00:50<00:28,  6.57it/s, now=None]"
     ]
    },
    {
     "name": "stderr",
     "output_type": "stream",
     "text": [
      "\r\n",
      "t:  64%|███████████████████████████████████████████████████████████████████████████████▎                                            | 328/513 [00:51<00:25,  7.17it/s, now=None]"
     ]
    },
    {
     "name": "stderr",
     "output_type": "stream",
     "text": [
      "\r\n",
      "t:  64%|███████████████████████████████████████████████████████████████████████████████▌                                            | 329/513 [00:51<00:31,  5.93it/s, now=None]"
     ]
    },
    {
     "name": "stderr",
     "output_type": "stream",
     "text": [
      "\r\n",
      "t:  64%|███████████████████████████████████████████████████████████████████████████████▊                                            | 330/513 [00:51<00:27,  6.62it/s, now=None]"
     ]
    },
    {
     "name": "stderr",
     "output_type": "stream",
     "text": [
      "\r\n",
      "t:  65%|████████████████████████████████████████████████████████████████████████████████                                            | 331/513 [00:51<00:25,  7.14it/s, now=None]"
     ]
    },
    {
     "name": "stderr",
     "output_type": "stream",
     "text": [
      "\r\n",
      "t:  65%|████████████████████████████████████████████████████████████████████████████████▏                                           | 332/513 [00:51<00:30,  5.92it/s, now=None]"
     ]
    },
    {
     "name": "stderr",
     "output_type": "stream",
     "text": [
      "\r\n",
      "t:  65%|████████████████████████████████████████████████████████████████████████████████▍                                           | 333/513 [00:51<00:27,  6.66it/s, now=None]"
     ]
    },
    {
     "name": "stderr",
     "output_type": "stream",
     "text": [
      "\r\n",
      "t:  65%|████████████████████████████████████████████████████████████████████████████████▋                                           | 334/513 [00:51<00:24,  7.26it/s, now=None]"
     ]
    },
    {
     "name": "stderr",
     "output_type": "stream",
     "text": [
      "\r\n",
      "t:  65%|████████████████████████████████████████████████████████████████████████████████▉                                           | 335/513 [00:52<00:29,  6.02it/s, now=None]"
     ]
    },
    {
     "name": "stderr",
     "output_type": "stream",
     "text": [
      "\r\n",
      "t:  65%|█████████████████████████████████████████████████████████████████████████████████▏                                          | 336/513 [00:52<00:26,  6.75it/s, now=None]"
     ]
    },
    {
     "name": "stderr",
     "output_type": "stream",
     "text": [
      "\r\n",
      "t:  66%|█████████████████████████████████████████████████████████████████████████████████▍                                          | 337/513 [00:52<00:24,  7.32it/s, now=None]"
     ]
    },
    {
     "name": "stderr",
     "output_type": "stream",
     "text": [
      "\r\n",
      "t:  66%|█████████████████████████████████████████████████████████████████████████████████▋                                          | 338/513 [00:52<00:29,  5.89it/s, now=None]"
     ]
    },
    {
     "name": "stderr",
     "output_type": "stream",
     "text": [
      "\r\n",
      "t:  66%|█████████████████████████████████████████████████████████████████████████████████▉                                          | 339/513 [00:52<00:27,  6.44it/s, now=None]"
     ]
    },
    {
     "name": "stderr",
     "output_type": "stream",
     "text": [
      "\r\n",
      "t:  66%|██████████████████████████████████████████████████████████████████████████████████▏                                         | 340/513 [00:52<00:24,  7.06it/s, now=None]"
     ]
    },
    {
     "name": "stderr",
     "output_type": "stream",
     "text": [
      "\r\n",
      "t:  66%|██████████████████████████████████████████████████████████████████████████████████▍                                         | 341/513 [00:53<00:29,  5.90it/s, now=None]"
     ]
    },
    {
     "name": "stderr",
     "output_type": "stream",
     "text": [
      "\r\n",
      "t:  67%|██████████████████████████████████████████████████████████████████████████████████▋                                         | 342/513 [00:53<00:25,  6.63it/s, now=None]"
     ]
    },
    {
     "name": "stderr",
     "output_type": "stream",
     "text": [
      "\r\n",
      "t:  67%|██████████████████████████████████████████████████████████████████████████████████▉                                         | 343/513 [00:53<00:23,  7.16it/s, now=None]"
     ]
    },
    {
     "name": "stderr",
     "output_type": "stream",
     "text": [
      "\r\n",
      "t:  67%|███████████████████████████████████████████████████████████████████████████████████▏                                        | 344/513 [00:53<00:28,  5.84it/s, now=None]"
     ]
    },
    {
     "name": "stderr",
     "output_type": "stream",
     "text": [
      "\r\n",
      "t:  67%|███████████████████████████████████████████████████████████████████████████████████▍                                        | 345/513 [00:53<00:26,  6.37it/s, now=None]"
     ]
    },
    {
     "name": "stderr",
     "output_type": "stream",
     "text": [
      "\r\n",
      "t:  67%|███████████████████████████████████████████████████████████████████████████████████▋                                        | 346/513 [00:53<00:23,  7.01it/s, now=None]"
     ]
    },
    {
     "name": "stderr",
     "output_type": "stream",
     "text": [
      "\r\n",
      "t:  68%|███████████████████████████████████████████████████████████████████████████████████▉                                        | 347/513 [00:54<00:28,  5.86it/s, now=None]"
     ]
    },
    {
     "name": "stderr",
     "output_type": "stream",
     "text": [
      "\r\n",
      "t:  68%|████████████████████████████████████████████████████████████████████████████████████                                        | 348/513 [00:54<00:25,  6.56it/s, now=None]"
     ]
    },
    {
     "name": "stderr",
     "output_type": "stream",
     "text": [
      "\r\n",
      "t:  68%|████████████████████████████████████████████████████████████████████████████████████▎                                       | 349/513 [00:54<00:23,  7.04it/s, now=None]"
     ]
    },
    {
     "name": "stderr",
     "output_type": "stream",
     "text": [
      "\r\n",
      "t:  68%|████████████████████████████████████████████████████████████████████████████████████▌                                       | 350/513 [00:54<00:27,  5.87it/s, now=None]"
     ]
    },
    {
     "name": "stderr",
     "output_type": "stream",
     "text": [
      "\r\n",
      "t:  68%|████████████████████████████████████████████████████████████████████████████████████▊                                       | 351/513 [00:54<00:25,  6.42it/s, now=None]"
     ]
    },
    {
     "name": "stderr",
     "output_type": "stream",
     "text": [
      "\r\n",
      "t:  69%|█████████████████████████████████████████████████████████████████████████████████████                                       | 352/513 [00:54<00:23,  6.79it/s, now=None]"
     ]
    },
    {
     "name": "stderr",
     "output_type": "stream",
     "text": [
      "\r\n",
      "t:  69%|█████████████████████████████████████████████████████████████████████████████████████▎                                      | 353/513 [00:54<00:27,  5.77it/s, now=None]"
     ]
    },
    {
     "name": "stderr",
     "output_type": "stream",
     "text": [
      "\r\n",
      "t:  69%|█████████████████████████████████████████████████████████████████████████████████████▌                                      | 354/513 [00:55<00:24,  6.50it/s, now=None]"
     ]
    },
    {
     "name": "stderr",
     "output_type": "stream",
     "text": [
      "\r\n",
      "t:  69%|█████████████████████████████████████████████████████████████████████████████████████▊                                      | 355/513 [00:55<00:22,  7.06it/s, now=None]"
     ]
    },
    {
     "name": "stderr",
     "output_type": "stream",
     "text": [
      "\r\n",
      "t:  69%|██████████████████████████████████████████████████████████████████████████████████████                                      | 356/513 [00:55<00:26,  5.97it/s, now=None]"
     ]
    },
    {
     "name": "stderr",
     "output_type": "stream",
     "text": [
      "\r\n",
      "t:  70%|██████████████████████████████████████████████████████████████████████████████████████▎                                     | 357/513 [00:55<00:23,  6.68it/s, now=None]"
     ]
    },
    {
     "name": "stderr",
     "output_type": "stream",
     "text": [
      "\r\n",
      "t:  70%|██████████████████████████████████████████████████████████████████████████████████████▌                                     | 358/513 [00:55<00:22,  7.00it/s, now=None]"
     ]
    },
    {
     "name": "stderr",
     "output_type": "stream",
     "text": [
      "\r\n",
      "t:  70%|██████████████████████████████████████████████████████████████████████████████████████▊                                     | 359/513 [00:55<00:26,  5.89it/s, now=None]"
     ]
    },
    {
     "name": "stderr",
     "output_type": "stream",
     "text": [
      "\r\n",
      "t:  70%|███████████████████████████████████████████████████████████████████████████████████████                                     | 360/513 [00:56<00:23,  6.60it/s, now=None]"
     ]
    },
    {
     "name": "stderr",
     "output_type": "stream",
     "text": [
      "\r\n",
      "t:  70%|███████████████████████████████████████████████████████████████████████████████████████▎                                    | 361/513 [00:56<00:21,  7.20it/s, now=None]"
     ]
    },
    {
     "name": "stderr",
     "output_type": "stream",
     "text": [
      "\r\n",
      "t:  71%|███████████████████████████████████████████████████████████████████████████████████████▌                                    | 362/513 [00:56<00:25,  5.96it/s, now=None]"
     ]
    },
    {
     "name": "stderr",
     "output_type": "stream",
     "text": [
      "\r\n",
      "t:  71%|███████████████████████████████████████████████████████████████████████████████████████▋                                    | 363/513 [00:56<00:22,  6.63it/s, now=None]"
     ]
    },
    {
     "name": "stderr",
     "output_type": "stream",
     "text": [
      "\r\n",
      "t:  71%|███████████████████████████████████████████████████████████████████████████████████████▉                                    | 364/513 [00:56<00:20,  7.23it/s, now=None]"
     ]
    },
    {
     "name": "stderr",
     "output_type": "stream",
     "text": [
      "\r\n",
      "t:  71%|████████████████████████████████████████████████████████████████████████████████████████▏                                   | 365/513 [00:56<00:25,  5.86it/s, now=None]"
     ]
    },
    {
     "name": "stderr",
     "output_type": "stream",
     "text": [
      "\r\n",
      "t:  71%|████████████████████████████████████████████████████████████████████████████████████████▍                                   | 366/513 [00:56<00:22,  6.56it/s, now=None]"
     ]
    },
    {
     "name": "stderr",
     "output_type": "stream",
     "text": [
      "\r\n",
      "t:  72%|████████████████████████████████████████████████████████████████████████████████████████▋                                   | 367/513 [00:57<00:20,  7.11it/s, now=None]"
     ]
    },
    {
     "name": "stderr",
     "output_type": "stream",
     "text": [
      "\r\n",
      "t:  72%|████████████████████████████████████████████████████████████████████████████████████████▉                                   | 368/513 [00:57<00:24,  5.93it/s, now=None]"
     ]
    },
    {
     "name": "stderr",
     "output_type": "stream",
     "text": [
      "\r\n",
      "t:  72%|█████████████████████████████████████████████████████████████████████████████████████████▏                                  | 369/513 [00:57<00:21,  6.64it/s, now=None]"
     ]
    },
    {
     "name": "stderr",
     "output_type": "stream",
     "text": [
      "\r\n",
      "t:  72%|█████████████████████████████████████████████████████████████████████████████████████████▍                                  | 370/513 [00:57<00:19,  7.17it/s, now=None]"
     ]
    },
    {
     "name": "stderr",
     "output_type": "stream",
     "text": [
      "\r\n",
      "t:  72%|█████████████████████████████████████████████████████████████████████████████████████████▋                                  | 371/513 [00:57<00:25,  5.55it/s, now=None]"
     ]
    },
    {
     "name": "stderr",
     "output_type": "stream",
     "text": [
      "\r\n",
      "t:  73%|█████████████████████████████████████████████████████████████████████████████████████████▉                                  | 372/513 [00:57<00:22,  6.16it/s, now=None]"
     ]
    },
    {
     "name": "stderr",
     "output_type": "stream",
     "text": [
      "\r\n",
      "t:  73%|██████████████████████████████████████████████████████████████████████████████████████████▏                                 | 373/513 [00:58<00:20,  6.78it/s, now=None]"
     ]
    },
    {
     "name": "stderr",
     "output_type": "stream",
     "text": [
      "\r\n",
      "t:  73%|██████████████████████████████████████████████████████████████████████████████████████████▍                                 | 374/513 [00:58<00:24,  5.69it/s, now=None]"
     ]
    },
    {
     "name": "stderr",
     "output_type": "stream",
     "text": [
      "\r\n",
      "t:  73%|██████████████████████████████████████████████████████████████████████████████████████████▋                                 | 375/513 [00:58<00:21,  6.39it/s, now=None]"
     ]
    },
    {
     "name": "stderr",
     "output_type": "stream",
     "text": [
      "\r\n",
      "t:  73%|██████████████████████████████████████████████████████████████████████████████████████████▉                                 | 376/513 [00:58<00:19,  6.99it/s, now=None]"
     ]
    },
    {
     "name": "stderr",
     "output_type": "stream",
     "text": [
      "\r\n",
      "t:  73%|███████████████████████████████████████████████████████████████████████████████████████████▏                                | 377/513 [00:58<00:23,  5.80it/s, now=None]"
     ]
    },
    {
     "name": "stderr",
     "output_type": "stream",
     "text": [
      "\r\n",
      "t:  74%|███████████████████████████████████████████████████████████████████████████████████████████▎                                | 378/513 [00:58<00:20,  6.51it/s, now=None]"
     ]
    },
    {
     "name": "stderr",
     "output_type": "stream",
     "text": [
      "\r\n",
      "t:  74%|███████████████████████████████████████████████████████████████████████████████████████████▌                                | 379/513 [00:58<00:19,  7.01it/s, now=None]"
     ]
    },
    {
     "name": "stderr",
     "output_type": "stream",
     "text": [
      "\r\n",
      "t:  74%|███████████████████████████████████████████████████████████████████████████████████████████▊                                | 380/513 [00:59<00:22,  5.87it/s, now=None]"
     ]
    },
    {
     "name": "stderr",
     "output_type": "stream",
     "text": [
      "\r\n",
      "t:  74%|████████████████████████████████████████████████████████████████████████████████████████████                                | 381/513 [00:59<00:20,  6.58it/s, now=None]"
     ]
    },
    {
     "name": "stderr",
     "output_type": "stream",
     "text": [
      "\r\n",
      "t:  74%|████████████████████████████████████████████████████████████████████████████████████████████▎                               | 382/513 [00:59<00:18,  7.15it/s, now=None]"
     ]
    },
    {
     "name": "stderr",
     "output_type": "stream",
     "text": [
      "\r\n",
      "t:  75%|████████████████████████████████████████████████████████████████████████████████████████████▌                               | 383/513 [00:59<00:22,  5.80it/s, now=None]"
     ]
    },
    {
     "name": "stderr",
     "output_type": "stream",
     "text": [
      "\r\n",
      "t:  75%|████████████████████████████████████████████████████████████████████████████████████████████▊                               | 384/513 [00:59<00:19,  6.48it/s, now=None]"
     ]
    },
    {
     "name": "stderr",
     "output_type": "stream",
     "text": [
      "\r\n",
      "t:  75%|█████████████████████████████████████████████████████████████████████████████████████████████                               | 385/513 [00:59<00:18,  7.06it/s, now=None]"
     ]
    },
    {
     "name": "stderr",
     "output_type": "stream",
     "text": [
      "\r\n",
      "t:  75%|█████████████████████████████████████████████████████████████████████████████████████████████▎                              | 386/513 [01:00<00:21,  5.86it/s, now=None]"
     ]
    },
    {
     "name": "stderr",
     "output_type": "stream",
     "text": [
      "\r\n",
      "t:  75%|█████████████████████████████████████████████████████████████████████████████████████████████▌                              | 387/513 [01:00<00:19,  6.51it/s, now=None]"
     ]
    },
    {
     "name": "stderr",
     "output_type": "stream",
     "text": [
      "\r\n",
      "t:  76%|█████████████████████████████████████████████████████████████████████████████████████████████▊                              | 388/513 [01:00<00:17,  7.05it/s, now=None]"
     ]
    },
    {
     "name": "stderr",
     "output_type": "stream",
     "text": [
      "\r\n",
      "t:  76%|██████████████████████████████████████████████████████████████████████████████████████████████                              | 389/513 [01:00<00:21,  5.86it/s, now=None]"
     ]
    },
    {
     "name": "stderr",
     "output_type": "stream",
     "text": [
      "\r\n",
      "t:  76%|██████████████████████████████████████████████████████████████████████████████████████████████▎                             | 390/513 [01:00<00:19,  6.32it/s, now=None]"
     ]
    },
    {
     "name": "stderr",
     "output_type": "stream",
     "text": [
      "\r\n",
      "t:  76%|██████████████████████████████████████████████████████████████████████████████████████████████▌                             | 391/513 [01:00<00:17,  6.88it/s, now=None]"
     ]
    },
    {
     "name": "stderr",
     "output_type": "stream",
     "text": [
      "\r\n",
      "t:  76%|██████████████████████████████████████████████████████████████████████████████████████████████▊                             | 392/513 [01:01<00:21,  5.75it/s, now=None]"
     ]
    },
    {
     "name": "stderr",
     "output_type": "stream",
     "text": [
      "\r\n",
      "t:  77%|██████████████████████████████████████████████████████████████████████████████████████████████▉                             | 393/513 [01:01<00:18,  6.40it/s, now=None]"
     ]
    },
    {
     "name": "stderr",
     "output_type": "stream",
     "text": [
      "\r\n",
      "t:  77%|███████████████████████████████████████████████████████████████████████████████████████████████▏                            | 394/513 [01:01<00:16,  7.00it/s, now=None]"
     ]
    },
    {
     "name": "stderr",
     "output_type": "stream",
     "text": [
      "\r\n",
      "t:  77%|███████████████████████████████████████████████████████████████████████████████████████████████▍                            | 395/513 [01:01<00:20,  5.72it/s, now=None]"
     ]
    },
    {
     "name": "stderr",
     "output_type": "stream",
     "text": [
      "\r\n",
      "t:  77%|███████████████████████████████████████████████████████████████████████████████████████████████▋                            | 396/513 [01:01<00:18,  6.23it/s, now=None]"
     ]
    },
    {
     "name": "stderr",
     "output_type": "stream",
     "text": [
      "\r\n",
      "t:  77%|███████████████████████████████████████████████████████████████████████████████████████████████▉                            | 397/513 [01:01<00:17,  6.82it/s, now=None]"
     ]
    },
    {
     "name": "stderr",
     "output_type": "stream",
     "text": [
      "\r\n",
      "t:  78%|████████████████████████████████████████████████████████████████████████████████████████████████▏                           | 398/513 [01:02<00:20,  5.69it/s, now=None]"
     ]
    },
    {
     "name": "stderr",
     "output_type": "stream",
     "text": [
      "\r\n",
      "t:  78%|████████████████████████████████████████████████████████████████████████████████████████████████▍                           | 399/513 [01:02<00:18,  6.26it/s, now=None]"
     ]
    },
    {
     "name": "stderr",
     "output_type": "stream",
     "text": [
      "\r\n",
      "t:  78%|████████████████████████████████████████████████████████████████████████████████████████████████▋                           | 400/513 [01:02<00:16,  6.72it/s, now=None]"
     ]
    },
    {
     "name": "stderr",
     "output_type": "stream",
     "text": [
      "\r\n",
      "t:  78%|████████████████████████████████████████████████████████████████████████████████████████████████▉                           | 401/513 [01:02<00:19,  5.63it/s, now=None]"
     ]
    },
    {
     "name": "stderr",
     "output_type": "stream",
     "text": [
      "\r\n",
      "t:  78%|█████████████████████████████████████████████████████████████████████████████████████████████████▏                          | 402/513 [01:02<00:17,  6.31it/s, now=None]"
     ]
    },
    {
     "name": "stderr",
     "output_type": "stream",
     "text": [
      "\r\n",
      "t:  79%|█████████████████████████████████████████████████████████████████████████████████████████████████▍                          | 403/513 [01:02<00:16,  6.73it/s, now=None]"
     ]
    },
    {
     "name": "stderr",
     "output_type": "stream",
     "text": [
      "\r\n",
      "t:  79%|█████████████████████████████████████████████████████████████████████████████████████████████████▋                          | 404/513 [01:02<00:19,  5.73it/s, now=None]"
     ]
    },
    {
     "name": "stderr",
     "output_type": "stream",
     "text": [
      "\r\n",
      "t:  79%|█████████████████████████████████████████████████████████████████████████████████████████████████▉                          | 405/513 [01:03<00:16,  6.48it/s, now=None]"
     ]
    },
    {
     "name": "stderr",
     "output_type": "stream",
     "text": [
      "\r\n",
      "t:  79%|██████████████████████████████████████████████████████████████████████████████████████████████████▏                         | 406/513 [01:03<00:15,  7.09it/s, now=None]"
     ]
    },
    {
     "name": "stderr",
     "output_type": "stream",
     "text": [
      "\r\n",
      "t:  79%|██████████████████████████████████████████████████████████████████████████████████████████████████▍                         | 407/513 [01:03<00:17,  5.91it/s, now=None]"
     ]
    },
    {
     "name": "stderr",
     "output_type": "stream",
     "text": [
      "\r\n",
      "t:  80%|██████████████████████████████████████████████████████████████████████████████████████████████████▌                         | 408/513 [01:03<00:15,  6.62it/s, now=None]"
     ]
    },
    {
     "name": "stderr",
     "output_type": "stream",
     "text": [
      "\r\n",
      "t:  80%|██████████████████████████████████████████████████████████████████████████████████████████████████▊                         | 409/513 [01:03<00:14,  6.98it/s, now=None]"
     ]
    },
    {
     "name": "stderr",
     "output_type": "stream",
     "text": [
      "\r\n",
      "t:  80%|███████████████████████████████████████████████████████████████████████████████████████████████████                         | 410/513 [01:03<00:17,  5.82it/s, now=None]"
     ]
    },
    {
     "name": "stderr",
     "output_type": "stream",
     "text": [
      "\r\n",
      "t:  80%|███████████████████████████████████████████████████████████████████████████████████████████████████▎                        | 411/513 [01:04<00:15,  6.49it/s, now=None]"
     ]
    },
    {
     "name": "stderr",
     "output_type": "stream",
     "text": [
      "\r\n",
      "t:  80%|███████████████████████████████████████████████████████████████████████████████████████████████████▌                        | 412/513 [01:04<00:14,  7.13it/s, now=None]"
     ]
    },
    {
     "name": "stderr",
     "output_type": "stream",
     "text": [
      "\r\n",
      "t:  81%|███████████████████████████████████████████████████████████████████████████████████████████████████▊                        | 413/513 [01:04<00:16,  5.90it/s, now=None]"
     ]
    },
    {
     "name": "stderr",
     "output_type": "stream",
     "text": [
      "\r\n",
      "t:  81%|████████████████████████████████████████████████████████████████████████████████████████████████████                        | 414/513 [01:04<00:14,  6.64it/s, now=None]"
     ]
    },
    {
     "name": "stderr",
     "output_type": "stream",
     "text": [
      "\r\n",
      "t:  81%|████████████████████████████████████████████████████████████████████████████████████████████████████▎                       | 415/513 [01:04<00:13,  7.18it/s, now=None]"
     ]
    },
    {
     "name": "stderr",
     "output_type": "stream",
     "text": [
      "\r\n",
      "t:  81%|████████████████████████████████████████████████████████████████████████████████████████████████████▌                       | 416/513 [01:04<00:16,  5.86it/s, now=None]"
     ]
    },
    {
     "name": "stderr",
     "output_type": "stream",
     "text": [
      "\r\n",
      "t:  81%|████████████████████████████████████████████████████████████████████████████████████████████████████▊                       | 417/513 [01:04<00:14,  6.57it/s, now=None]"
     ]
    },
    {
     "name": "stderr",
     "output_type": "stream",
     "text": [
      "\r\n",
      "t:  81%|█████████████████████████████████████████████████████████████████████████████████████████████████████                       | 418/513 [01:05<00:13,  7.20it/s, now=None]"
     ]
    },
    {
     "name": "stderr",
     "output_type": "stream",
     "text": [
      "\r\n",
      "t:  82%|█████████████████████████████████████████████████████████████████████████████████████████████████████▎                      | 419/513 [01:05<00:15,  6.00it/s, now=None]"
     ]
    },
    {
     "name": "stderr",
     "output_type": "stream",
     "text": [
      "\r\n",
      "t:  82%|█████████████████████████████████████████████████████████████████████████████████████████████████████▌                      | 420/513 [01:05<00:13,  6.72it/s, now=None]"
     ]
    },
    {
     "name": "stderr",
     "output_type": "stream",
     "text": [
      "\r\n",
      "t:  82%|█████████████████████████████████████████████████████████████████████████████████████████████████████▊                      | 421/513 [01:05<00:12,  7.27it/s, now=None]"
     ]
    },
    {
     "name": "stderr",
     "output_type": "stream",
     "text": [
      "\r\n",
      "t:  82%|██████████████████████████████████████████████████████████████████████████████████████████████████████                      | 422/513 [01:05<00:15,  5.83it/s, now=None]"
     ]
    },
    {
     "name": "stderr",
     "output_type": "stream",
     "text": [
      "\r\n",
      "t:  82%|██████████████████████████████████████████████████████████████████████████████████████████████████████▏                     | 423/513 [01:05<00:13,  6.53it/s, now=None]"
     ]
    },
    {
     "name": "stderr",
     "output_type": "stream",
     "text": [
      "\r\n",
      "t:  83%|██████████████████████████████████████████████████████████████████████████████████████████████████████▍                     | 424/513 [01:05<00:12,  7.16it/s, now=None]"
     ]
    },
    {
     "name": "stderr",
     "output_type": "stream",
     "text": [
      "\r\n",
      "t:  83%|██████████████████████████████████████████████████████████████████████████████████████████████████████▋                     | 425/513 [01:06<00:14,  5.90it/s, now=None]"
     ]
    },
    {
     "name": "stderr",
     "output_type": "stream",
     "text": [
      "\r\n",
      "t:  83%|██████████████████████████████████████████████████████████████████████████████████████████████████████▉                     | 426/513 [01:06<00:13,  6.59it/s, now=None]"
     ]
    },
    {
     "name": "stderr",
     "output_type": "stream",
     "text": [
      "\r\n",
      "t:  83%|███████████████████████████████████████████████████████████████████████████████████████████████████████▏                    | 427/513 [01:06<00:12,  7.14it/s, now=None]"
     ]
    },
    {
     "name": "stderr",
     "output_type": "stream",
     "text": [
      "\r\n",
      "t:  83%|███████████████████████████████████████████████████████████████████████████████████████████████████████▍                    | 428/513 [01:06<00:14,  5.82it/s, now=None]"
     ]
    },
    {
     "name": "stderr",
     "output_type": "stream",
     "text": [
      "\r\n",
      "t:  84%|███████████████████████████████████████████████████████████████████████████████████████████████████████▋                    | 429/513 [01:06<00:12,  6.54it/s, now=None]"
     ]
    },
    {
     "name": "stderr",
     "output_type": "stream",
     "text": [
      "\r\n",
      "t:  84%|███████████████████████████████████████████████████████████████████████████████████████████████████████▉                    | 430/513 [01:06<00:11,  7.21it/s, now=None]"
     ]
    },
    {
     "name": "stderr",
     "output_type": "stream",
     "text": [
      "\r\n",
      "t:  84%|████████████████████████████████████████████████████████████████████████████████████████████████████████▏                   | 431/513 [01:07<00:13,  6.01it/s, now=None]"
     ]
    },
    {
     "name": "stderr",
     "output_type": "stream",
     "text": [
      "\r\n",
      "t:  84%|████████████████████████████████████████████████████████████████████████████████████████████████████████▍                   | 432/513 [01:07<00:12,  6.74it/s, now=None]"
     ]
    },
    {
     "name": "stderr",
     "output_type": "stream",
     "text": [
      "\r\n",
      "t:  84%|████████████████████████████████████████████████████████████████████████████████████████████████████████▋                   | 433/513 [01:07<00:10,  7.31it/s, now=None]"
     ]
    },
    {
     "name": "stderr",
     "output_type": "stream",
     "text": [
      "\r\n",
      "t:  85%|████████████████████████████████████████████████████████████████████████████████████████████████████████▉                   | 434/513 [01:07<00:13,  5.98it/s, now=None]"
     ]
    },
    {
     "name": "stderr",
     "output_type": "stream",
     "text": [
      "\r\n",
      "t:  85%|█████████████████████████████████████████████████████████████████████████████████████████████████████████▏                  | 435/513 [01:07<00:12,  6.48it/s, now=None]"
     ]
    },
    {
     "name": "stderr",
     "output_type": "stream",
     "text": [
      "\r\n",
      "t:  85%|█████████████████████████████████████████████████████████████████████████████████████████████████████████▍                  | 436/513 [01:07<00:10,  7.11it/s, now=None]"
     ]
    },
    {
     "name": "stderr",
     "output_type": "stream",
     "text": [
      "\r\n",
      "t:  85%|█████████████████████████████████████████████████████████████████████████████████████████████████████████▋                  | 437/513 [01:08<00:12,  5.93it/s, now=None]"
     ]
    },
    {
     "name": "stderr",
     "output_type": "stream",
     "text": [
      "\r\n",
      "t:  85%|█████████████████████████████████████████████████████████████████████████████████████████████████████████▊                  | 438/513 [01:08<00:11,  6.67it/s, now=None]"
     ]
    },
    {
     "name": "stderr",
     "output_type": "stream",
     "text": [
      "\r\n",
      "t:  86%|██████████████████████████████████████████████████████████████████████████████████████████████████████████                  | 439/513 [01:08<00:10,  7.19it/s, now=None]"
     ]
    },
    {
     "name": "stderr",
     "output_type": "stream",
     "text": [
      "\r\n",
      "t:  86%|██████████████████████████████████████████████████████████████████████████████████████████████████████████▎                 | 440/513 [01:08<00:12,  5.98it/s, now=None]"
     ]
    },
    {
     "name": "stderr",
     "output_type": "stream",
     "text": [
      "\r\n",
      "t:  86%|██████████████████████████████████████████████████████████████████████████████████████████████████████████▌                 | 441/513 [01:08<00:10,  6.68it/s, now=None]"
     ]
    },
    {
     "name": "stderr",
     "output_type": "stream",
     "text": [
      "\r\n",
      "t:  86%|██████████████████████████████████████████████████████████████████████████████████████████████████████████▊                 | 442/513 [01:08<00:09,  7.17it/s, now=None]"
     ]
    },
    {
     "name": "stderr",
     "output_type": "stream",
     "text": [
      "\r\n",
      "t:  86%|███████████████████████████████████████████████████████████████████████████████████████████████████████████                 | 443/513 [01:08<00:11,  5.95it/s, now=None]"
     ]
    },
    {
     "name": "stderr",
     "output_type": "stream",
     "text": [
      "\r\n",
      "t:  87%|███████████████████████████████████████████████████████████████████████████████████████████████████████████▎                | 444/513 [01:09<00:10,  6.69it/s, now=None]"
     ]
    },
    {
     "name": "stderr",
     "output_type": "stream",
     "text": [
      "\r\n",
      "t:  87%|███████████████████████████████████████████████████████████████████████████████████████████████████████████▌                | 445/513 [01:09<00:09,  7.28it/s, now=None]"
     ]
    },
    {
     "name": "stderr",
     "output_type": "stream",
     "text": [
      "\r\n",
      "t:  87%|███████████████████████████████████████████████████████████████████████████████████████████████████████████▊                | 446/513 [01:09<00:11,  6.04it/s, now=None]"
     ]
    },
    {
     "name": "stderr",
     "output_type": "stream",
     "text": [
      "\r\n",
      "t:  87%|████████████████████████████████████████████████████████████████████████████████████████████████████████████                | 447/513 [01:09<00:09,  6.67it/s, now=None]"
     ]
    },
    {
     "name": "stderr",
     "output_type": "stream",
     "text": [
      "\r\n",
      "t:  87%|████████████████████████████████████████████████████████████████████████████████████████████████████████████▎               | 448/513 [01:09<00:09,  7.18it/s, now=None]"
     ]
    },
    {
     "name": "stderr",
     "output_type": "stream",
     "text": [
      "\r\n",
      "t:  88%|████████████████████████████████████████████████████████████████████████████████████████████████████████████▌               | 449/513 [01:09<00:10,  5.89it/s, now=None]"
     ]
    },
    {
     "name": "stderr",
     "output_type": "stream",
     "text": [
      "\r\n",
      "t:  88%|████████████████████████████████████████████████████████████████████████████████████████████████████████████▊               | 450/513 [01:09<00:09,  6.65it/s, now=None]"
     ]
    },
    {
     "name": "stderr",
     "output_type": "stream",
     "text": [
      "\r\n",
      "t:  88%|█████████████████████████████████████████████████████████████████████████████████████████████████████████████               | 451/513 [01:10<00:08,  7.20it/s, now=None]"
     ]
    },
    {
     "name": "stderr",
     "output_type": "stream",
     "text": [
      "\r\n",
      "t:  88%|█████████████████████████████████████████████████████████████████████████████████████████████████████████████▎              | 452/513 [01:10<00:10,  5.99it/s, now=None]"
     ]
    },
    {
     "name": "stderr",
     "output_type": "stream",
     "text": [
      "\r\n",
      "t:  88%|█████████████████████████████████████████████████████████████████████████████████████████████████████████████▍              | 453/513 [01:10<00:08,  6.70it/s, now=None]"
     ]
    },
    {
     "name": "stderr",
     "output_type": "stream",
     "text": [
      "\r\n",
      "t:  88%|█████████████████████████████████████████████████████████████████████████████████████████████████████████████▋              | 454/513 [01:10<00:08,  7.27it/s, now=None]"
     ]
    },
    {
     "name": "stderr",
     "output_type": "stream",
     "text": [
      "\r\n",
      "t:  89%|█████████████████████████████████████████████████████████████████████████████████████████████████████████████▉              | 455/513 [01:10<00:09,  5.83it/s, now=None]"
     ]
    },
    {
     "name": "stderr",
     "output_type": "stream",
     "text": [
      "\r\n",
      "t:  89%|██████████████████████████████████████████████████████████████████████████████████████████████████████████████▏             | 456/513 [01:10<00:08,  6.58it/s, now=None]"
     ]
    },
    {
     "name": "stderr",
     "output_type": "stream",
     "text": [
      "\r\n",
      "t:  89%|██████████████████████████████████████████████████████████████████████████████████████████████████████████████▍             | 457/513 [01:11<00:07,  7.17it/s, now=None]"
     ]
    },
    {
     "name": "stderr",
     "output_type": "stream",
     "text": [
      "\r\n",
      "t:  89%|██████████████████████████████████████████████████████████████████████████████████████████████████████████████▋             | 458/513 [01:11<00:09,  5.93it/s, now=None]"
     ]
    },
    {
     "name": "stderr",
     "output_type": "stream",
     "text": [
      "\r\n",
      "t:  89%|██████████████████████████████████████████████████████████████████████████████████████████████████████████████▉             | 459/513 [01:11<00:08,  6.52it/s, now=None]"
     ]
    },
    {
     "name": "stderr",
     "output_type": "stream",
     "text": [
      "\r\n",
      "t:  90%|███████████████████████████████████████████████████████████████████████████████████████████████████████████████▏            | 460/513 [01:11<00:07,  7.07it/s, now=None]"
     ]
    },
    {
     "name": "stderr",
     "output_type": "stream",
     "text": [
      "\r\n",
      "t:  90%|███████████████████████████████████████████████████████████████████████████████████████████████████████████████▍            | 461/513 [01:11<00:08,  5.84it/s, now=None]"
     ]
    },
    {
     "name": "stderr",
     "output_type": "stream",
     "text": [
      "\r\n",
      "t:  90%|███████████████████████████████████████████████████████████████████████████████████████████████████████████████▋            | 462/513 [01:11<00:07,  6.54it/s, now=None]"
     ]
    },
    {
     "name": "stderr",
     "output_type": "stream",
     "text": [
      "\r\n",
      "t:  90%|███████████████████████████████████████████████████████████████████████████████████████████████████████████████▉            | 463/513 [01:11<00:07,  7.08it/s, now=None]"
     ]
    },
    {
     "name": "stderr",
     "output_type": "stream",
     "text": [
      "\r\n",
      "t:  90%|████████████████████████████████████████████████████████████████████████████████████████████████████████████████▏           | 464/513 [01:12<00:08,  5.87it/s, now=None]"
     ]
    },
    {
     "name": "stderr",
     "output_type": "stream",
     "text": [
      "\r\n",
      "t:  91%|████████████████████████████████████████████████████████████████████████████████████████████████████████████████▍           | 465/513 [01:12<00:07,  6.46it/s, now=None]"
     ]
    },
    {
     "name": "stderr",
     "output_type": "stream",
     "text": [
      "\r\n",
      "t:  91%|████████████████████████████████████████████████████████████████████████████████████████████████████████████████▋           | 466/513 [01:12<00:06,  7.01it/s, now=None]"
     ]
    },
    {
     "name": "stderr",
     "output_type": "stream",
     "text": [
      "\r\n",
      "t:  91%|████████████████████████████████████████████████████████████████████████████████████████████████████████████████▉           | 467/513 [01:12<00:08,  5.73it/s, now=None]"
     ]
    },
    {
     "name": "stderr",
     "output_type": "stream",
     "text": [
      "\r\n",
      "t:  91%|█████████████████████████████████████████████████████████████████████████████████████████████████████████████████           | 468/513 [01:12<00:06,  6.45it/s, now=None]"
     ]
    },
    {
     "name": "stderr",
     "output_type": "stream",
     "text": [
      "\r\n",
      "t:  91%|█████████████████████████████████████████████████████████████████████████████████████████████████████████████████▎          | 469/513 [01:12<00:06,  7.06it/s, now=None]"
     ]
    },
    {
     "name": "stderr",
     "output_type": "stream",
     "text": [
      "\r\n",
      "t:  92%|█████████████████████████████████████████████████████████████████████████████████████████████████████████████████▌          | 470/513 [01:13<00:07,  5.87it/s, now=None]"
     ]
    },
    {
     "name": "stderr",
     "output_type": "stream",
     "text": [
      "\r\n",
      "t:  92%|█████████████████████████████████████████████████████████████████████████████████████████████████████████████████▊          | 471/513 [01:13<00:06,  6.56it/s, now=None]"
     ]
    },
    {
     "name": "stderr",
     "output_type": "stream",
     "text": [
      "\r\n",
      "t:  92%|██████████████████████████████████████████████████████████████████████████████████████████████████████████████████          | 472/513 [01:13<00:05,  7.16it/s, now=None]"
     ]
    },
    {
     "name": "stderr",
     "output_type": "stream",
     "text": [
      "\r\n",
      "t:  92%|██████████████████████████████████████████████████████████████████████████████████████████████████████████████████▎         | 473/513 [01:13<00:06,  5.93it/s, now=None]"
     ]
    },
    {
     "name": "stderr",
     "output_type": "stream",
     "text": [
      "\r\n",
      "t:  92%|██████████████████████████████████████████████████████████████████████████████████████████████████████████████████▌         | 474/513 [01:13<00:06,  6.34it/s, now=None]"
     ]
    },
    {
     "name": "stderr",
     "output_type": "stream",
     "text": [
      "\r\n",
      "t:  93%|██████████████████████████████████████████████████████████████████████████████████████████████████████████████████▊         | 475/513 [01:13<00:05,  6.88it/s, now=None]"
     ]
    },
    {
     "name": "stderr",
     "output_type": "stream",
     "text": [
      "\r\n",
      "t:  93%|███████████████████████████████████████████████████████████████████████████████████████████████████████████████████         | 476/513 [01:14<00:06,  5.84it/s, now=None]"
     ]
    },
    {
     "name": "stderr",
     "output_type": "stream",
     "text": [
      "\r\n",
      "t:  93%|███████████████████████████████████████████████████████████████████████████████████████████████████████████████████▎        | 477/513 [01:14<00:05,  6.60it/s, now=None]"
     ]
    },
    {
     "name": "stderr",
     "output_type": "stream",
     "text": [
      "\r\n",
      "t:  93%|███████████████████████████████████████████████████████████████████████████████████████████████████████████████████▌        | 478/513 [01:14<00:04,  7.22it/s, now=None]"
     ]
    },
    {
     "name": "stderr",
     "output_type": "stream",
     "text": [
      "\r\n",
      "t:  93%|███████████████████████████████████████████████████████████████████████████████████████████████████████████████████▊        | 479/513 [01:14<00:05,  5.94it/s, now=None]"
     ]
    },
    {
     "name": "stderr",
     "output_type": "stream",
     "text": [
      "\r\n",
      "t:  94%|████████████████████████████████████████████████████████████████████████████████████████████████████████████████████        | 480/513 [01:14<00:05,  6.56it/s, now=None]"
     ]
    },
    {
     "name": "stderr",
     "output_type": "stream",
     "text": [
      "\r\n",
      "t:  94%|████████████████████████████████████████████████████████████████████████████████████████████████████████████████████▎       | 481/513 [01:14<00:04,  6.93it/s, now=None]"
     ]
    },
    {
     "name": "stderr",
     "output_type": "stream",
     "text": [
      "\r\n",
      "t:  94%|████████████████████████████████████████████████████████████████████████████████████████████████████████████████████▌       | 482/513 [01:14<00:05,  5.82it/s, now=None]"
     ]
    },
    {
     "name": "stderr",
     "output_type": "stream",
     "text": [
      "\r\n",
      "t:  94%|████████████████████████████████████████████████████████████████████████████████████████████████████████████████████▋       | 483/513 [01:15<00:04,  6.51it/s, now=None]"
     ]
    },
    {
     "name": "stderr",
     "output_type": "stream",
     "text": [
      "\r\n",
      "t:  94%|████████████████████████████████████████████████████████████████████████████████████████████████████████████████████▉       | 484/513 [01:15<00:04,  7.13it/s, now=None]"
     ]
    },
    {
     "name": "stderr",
     "output_type": "stream",
     "text": [
      "\r\n",
      "t:  95%|█████████████████████████████████████████████████████████████████████████████████████████████████████████████████████▏      | 485/513 [01:15<00:04,  5.96it/s, now=None]"
     ]
    },
    {
     "name": "stderr",
     "output_type": "stream",
     "text": [
      "\r\n",
      "t:  95%|█████████████████████████████████████████████████████████████████████████████████████████████████████████████████████▍      | 486/513 [01:15<00:04,  6.67it/s, now=None]"
     ]
    },
    {
     "name": "stderr",
     "output_type": "stream",
     "text": [
      "\r\n",
      "t:  95%|█████████████████████████████████████████████████████████████████████████████████████████████████████████████████████▋      | 487/513 [01:15<00:03,  6.60it/s, now=None]"
     ]
    },
    {
     "name": "stderr",
     "output_type": "stream",
     "text": [
      "\r\n",
      "t:  95%|█████████████████████████████████████████████████████████████████████████████████████████████████████████████████████▉      | 488/513 [01:15<00:04,  5.60it/s, now=None]"
     ]
    },
    {
     "name": "stderr",
     "output_type": "stream",
     "text": [
      "\r\n",
      "t:  95%|██████████████████████████████████████████████████████████████████████████████████████████████████████████████████████▏     | 489/513 [01:16<00:03,  6.36it/s, now=None]"
     ]
    },
    {
     "name": "stderr",
     "output_type": "stream",
     "text": [
      "\r\n",
      "t:  96%|██████████████████████████████████████████████████████████████████████████████████████████████████████████████████████▍     | 490/513 [01:16<00:03,  7.02it/s, now=None]"
     ]
    },
    {
     "name": "stderr",
     "output_type": "stream",
     "text": [
      "\r\n",
      "t:  96%|██████████████████████████████████████████████████████████████████████████████████████████████████████████████████████▋     | 491/513 [01:16<00:03,  5.91it/s, now=None]"
     ]
    },
    {
     "name": "stderr",
     "output_type": "stream",
     "text": [
      "\r\n",
      "t:  96%|██████████████████████████████████████████████████████████████████████████████████████████████████████████████████████▉     | 492/513 [01:16<00:03,  6.62it/s, now=None]"
     ]
    },
    {
     "name": "stderr",
     "output_type": "stream",
     "text": [
      "\r\n",
      "t:  96%|███████████████████████████████████████████████████████████████████████████████████████████████████████████████████████▏    | 493/513 [01:16<00:02,  7.21it/s, now=None]"
     ]
    },
    {
     "name": "stderr",
     "output_type": "stream",
     "text": [
      "\r\n",
      "t:  96%|███████████████████████████████████████████████████████████████████████████████████████████████████████████████████████▍    | 494/513 [01:16<00:03,  5.91it/s, now=None]"
     ]
    },
    {
     "name": "stderr",
     "output_type": "stream",
     "text": [
      "\r\n",
      "t:  96%|███████████████████████████████████████████████████████████████████████████████████████████████████████████████████████▋    | 495/513 [01:16<00:02,  6.59it/s, now=None]"
     ]
    },
    {
     "name": "stderr",
     "output_type": "stream",
     "text": [
      "\r\n",
      "t:  97%|███████████████████████████████████████████████████████████████████████████████████████████████████████████████████████▉    | 496/513 [01:17<00:02,  7.19it/s, now=None]"
     ]
    },
    {
     "name": "stderr",
     "output_type": "stream",
     "text": [
      "\r\n",
      "t:  97%|████████████████████████████████████████████████████████████████████████████████████████████████████████████████████████▏   | 497/513 [01:17<00:02,  5.97it/s, now=None]"
     ]
    },
    {
     "name": "stderr",
     "output_type": "stream",
     "text": [
      "\r\n",
      "t:  97%|████████████████████████████████████████████████████████████████████████████████████████████████████████████████████████▎   | 498/513 [01:17<00:02,  6.66it/s, now=None]"
     ]
    },
    {
     "name": "stderr",
     "output_type": "stream",
     "text": [
      "\r\n",
      "t:  97%|████████████████████████████████████████████████████████████████████████████████████████████████████████████████████████▌   | 499/513 [01:17<00:01,  7.15it/s, now=None]"
     ]
    },
    {
     "name": "stderr",
     "output_type": "stream",
     "text": [
      "\r\n",
      "t:  97%|████████████████████████████████████████████████████████████████████████████████████████████████████████████████████████▊   | 500/513 [01:17<00:02,  5.76it/s, now=None]"
     ]
    },
    {
     "name": "stderr",
     "output_type": "stream",
     "text": [
      "\r\n",
      "t:  98%|█████████████████████████████████████████████████████████████████████████████████████████████████████████████████████████   | 501/513 [01:17<00:01,  6.38it/s, now=None]"
     ]
    },
    {
     "name": "stderr",
     "output_type": "stream",
     "text": [
      "\r\n",
      "t:  98%|█████████████████████████████████████████████████████████████████████████████████████████████████████████████████████████▎  | 502/513 [01:18<00:01,  6.90it/s, now=None]"
     ]
    },
    {
     "name": "stderr",
     "output_type": "stream",
     "text": [
      "\r\n",
      "t:  98%|█████████████████████████████████████████████████████████████████████████████████████████████████████████████████████████▌  | 503/513 [01:18<00:01,  5.83it/s, now=None]"
     ]
    },
    {
     "name": "stderr",
     "output_type": "stream",
     "text": [
      "\r\n",
      "t:  98%|█████████████████████████████████████████████████████████████████████████████████████████████████████████████████████████▊  | 504/513 [01:18<00:01,  6.53it/s, now=None]"
     ]
    },
    {
     "name": "stderr",
     "output_type": "stream",
     "text": [
      "\r\n",
      "t:  98%|██████████████████████████████████████████████████████████████████████████████████████████████████████████████████████████  | 505/513 [01:18<00:01,  7.05it/s, now=None]"
     ]
    },
    {
     "name": "stderr",
     "output_type": "stream",
     "text": [
      "\r\n",
      "t:  99%|██████████████████████████████████████████████████████████████████████████████████████████████████████████████████████████▎ | 506/513 [01:18<00:01,  5.79it/s, now=None]"
     ]
    },
    {
     "name": "stderr",
     "output_type": "stream",
     "text": [
      "\r\n",
      "t:  99%|██████████████████████████████████████████████████████████████████████████████████████████████████████████████████████████▌ | 507/513 [01:18<00:00,  6.39it/s, now=None]"
     ]
    },
    {
     "name": "stderr",
     "output_type": "stream",
     "text": [
      "\r\n",
      "t:  99%|██████████████████████████████████████████████████████████████████████████████████████████████████████████████████████████▊ | 508/513 [01:18<00:00,  6.93it/s, now=None]"
     ]
    },
    {
     "name": "stderr",
     "output_type": "stream",
     "text": [
      "\r\n",
      "t:  99%|███████████████████████████████████████████████████████████████████████████████████████████████████████████████████████████ | 509/513 [01:19<00:00,  5.76it/s, now=None]"
     ]
    },
    {
     "name": "stderr",
     "output_type": "stream",
     "text": [
      "\r\n",
      "t:  99%|███████████████████████████████████████████████████████████████████████████████████████████████████████████████████████████▎| 510/513 [01:19<00:00,  6.38it/s, now=None]"
     ]
    },
    {
     "name": "stderr",
     "output_type": "stream",
     "text": [
      "\r\n",
      "t: 100%|███████████████████████████████████████████████████████████████████████████████████████████████████████████████████████████▌| 511/513 [01:19<00:00,  6.89it/s, now=None]"
     ]
    },
    {
     "name": "stderr",
     "output_type": "stream",
     "text": [
      "\r\n",
      "t: 100%|███████████████████████████████████████████████████████████████████████████████████████████████████████████████████████████▊| 512/513 [01:19<00:00,  5.70it/s, now=None]"
     ]
    },
    {
     "name": "stderr",
     "output_type": "stream",
     "text": [
      "\r\n",
      "t: 100%|████████████████████████████████████████████████████████████████████████████████████████████████████████████████████████████| 513/513 [01:19<00:00,  6.44it/s, now=None]"
     ]
    },
    {
     "name": "stderr",
     "output_type": "stream",
     "text": [
      "\r\n",
      "                                                                                                                                                                                "
     ]
    },
    {
     "name": "stderr",
     "output_type": "stream",
     "text": [
      "\r"
     ]
    },
    {
     "name": "stdout",
     "output_type": "stream",
     "text": [
      "Moviepy - Done !\n",
      "Moviepy - video ready outputs_new/global/PU/probability_animation.mp4\n"
     ]
    },
    {
     "name": "stdout",
     "output_type": "stream",
     "text": [
      "Moviepy - Building video outputs_new/global/SVM/probability_animation.mp4.\n",
      "Moviepy - Writing video outputs_new/global/SVM/probability_animation.mp4\n",
      "\n"
     ]
    },
    {
     "name": "stderr",
     "output_type": "stream",
     "text": [
      "\r\n",
      "t:   0%|                                                                                                                                      | 0/513 [00:00<?, ?it/s, now=None]"
     ]
    },
    {
     "name": "stderr",
     "output_type": "stream",
     "text": [
      "\r\n",
      "t:   0%|▍                                                                                                                             | 2/513 [00:00<00:40, 12.52it/s, now=None]"
     ]
    },
    {
     "name": "stderr",
     "output_type": "stream",
     "text": [
      "\r\n",
      "t:   1%|▉                                                                                                                             | 4/513 [00:00<00:51,  9.98it/s, now=None]"
     ]
    },
    {
     "name": "stderr",
     "output_type": "stream",
     "text": [
      "\r\n",
      "t:   1%|█▍                                                                                                                            | 6/513 [00:00<01:09,  7.31it/s, now=None]"
     ]
    },
    {
     "name": "stderr",
     "output_type": "stream",
     "text": [
      "\r\n",
      "t:   1%|█▋                                                                                                                            | 7/513 [00:00<01:07,  7.47it/s, now=None]"
     ]
    },
    {
     "name": "stderr",
     "output_type": "stream",
     "text": [
      "\r\n",
      "t:   2%|█▉                                                                                                                            | 8/513 [00:01<01:23,  6.07it/s, now=None]"
     ]
    },
    {
     "name": "stderr",
     "output_type": "stream",
     "text": [
      "\r\n",
      "t:   2%|██▏                                                                                                                           | 9/513 [00:01<01:15,  6.71it/s, now=None]"
     ]
    },
    {
     "name": "stderr",
     "output_type": "stream",
     "text": [
      "\r\n",
      "t:   2%|██▍                                                                                                                          | 10/513 [00:01<01:08,  7.31it/s, now=None]"
     ]
    },
    {
     "name": "stderr",
     "output_type": "stream",
     "text": [
      "\r\n",
      "t:   2%|██▋                                                                                                                          | 11/513 [00:01<01:27,  5.72it/s, now=None]"
     ]
    },
    {
     "name": "stderr",
     "output_type": "stream",
     "text": [
      "\r\n",
      "t:   2%|██▉                                                                                                                          | 12/513 [00:01<01:17,  6.44it/s, now=None]"
     ]
    },
    {
     "name": "stderr",
     "output_type": "stream",
     "text": [
      "\r\n",
      "t:   3%|███▏                                                                                                                         | 13/513 [00:01<01:11,  7.03it/s, now=None]"
     ]
    },
    {
     "name": "stderr",
     "output_type": "stream",
     "text": [
      "\r\n",
      "t:   3%|███▍                                                                                                                         | 14/513 [00:02<01:25,  5.85it/s, now=None]"
     ]
    },
    {
     "name": "stderr",
     "output_type": "stream",
     "text": [
      "\r\n",
      "t:   3%|███▋                                                                                                                         | 15/513 [00:02<01:15,  6.58it/s, now=None]"
     ]
    },
    {
     "name": "stderr",
     "output_type": "stream",
     "text": [
      "\r\n",
      "t:   3%|███▉                                                                                                                         | 16/513 [00:02<01:08,  7.22it/s, now=None]"
     ]
    },
    {
     "name": "stderr",
     "output_type": "stream",
     "text": [
      "\r\n",
      "t:   3%|████▏                                                                                                                        | 17/513 [00:02<01:24,  5.88it/s, now=None]"
     ]
    },
    {
     "name": "stderr",
     "output_type": "stream",
     "text": [
      "\r\n",
      "t:   4%|████▍                                                                                                                        | 18/513 [00:02<01:14,  6.63it/s, now=None]"
     ]
    },
    {
     "name": "stderr",
     "output_type": "stream",
     "text": [
      "\r\n",
      "t:   4%|████▋                                                                                                                        | 19/513 [00:02<01:08,  7.25it/s, now=None]"
     ]
    },
    {
     "name": "stderr",
     "output_type": "stream",
     "text": [
      "\r\n",
      "t:   4%|████▊                                                                                                                        | 20/513 [00:02<01:22,  5.96it/s, now=None]"
     ]
    },
    {
     "name": "stderr",
     "output_type": "stream",
     "text": [
      "\r\n",
      "t:   4%|█████                                                                                                                        | 21/513 [00:03<01:13,  6.71it/s, now=None]"
     ]
    },
    {
     "name": "stderr",
     "output_type": "stream",
     "text": [
      "\r\n",
      "t:   4%|█████▎                                                                                                                       | 22/513 [00:03<01:06,  7.34it/s, now=None]"
     ]
    },
    {
     "name": "stderr",
     "output_type": "stream",
     "text": [
      "\r\n",
      "t:   4%|█████▌                                                                                                                       | 23/513 [00:03<01:20,  6.12it/s, now=None]"
     ]
    },
    {
     "name": "stderr",
     "output_type": "stream",
     "text": [
      "\r\n",
      "t:   5%|█████▊                                                                                                                       | 24/513 [00:03<01:11,  6.85it/s, now=None]"
     ]
    },
    {
     "name": "stderr",
     "output_type": "stream",
     "text": [
      "\r\n",
      "t:   5%|██████                                                                                                                       | 25/513 [00:03<01:05,  7.45it/s, now=None]"
     ]
    },
    {
     "name": "stderr",
     "output_type": "stream",
     "text": [
      "\r\n",
      "t:   5%|██████▎                                                                                                                      | 26/513 [00:03<01:20,  6.06it/s, now=None]"
     ]
    },
    {
     "name": "stderr",
     "output_type": "stream",
     "text": [
      "\r\n",
      "t:   5%|██████▌                                                                                                                      | 27/513 [00:03<01:12,  6.73it/s, now=None]"
     ]
    },
    {
     "name": "stderr",
     "output_type": "stream",
     "text": [
      "\r\n",
      "t:   5%|██████▊                                                                                                                      | 28/513 [00:04<01:05,  7.39it/s, now=None]"
     ]
    },
    {
     "name": "stderr",
     "output_type": "stream",
     "text": [
      "\r\n",
      "t:   6%|███████                                                                                                                      | 29/513 [00:04<01:19,  6.08it/s, now=None]"
     ]
    },
    {
     "name": "stderr",
     "output_type": "stream",
     "text": [
      "\r\n",
      "t:   6%|███████▎                                                                                                                     | 30/513 [00:04<01:11,  6.75it/s, now=None]"
     ]
    },
    {
     "name": "stderr",
     "output_type": "stream",
     "text": [
      "\r\n",
      "t:   6%|███████▌                                                                                                                     | 31/513 [00:04<01:06,  7.28it/s, now=None]"
     ]
    },
    {
     "name": "stderr",
     "output_type": "stream",
     "text": [
      "\r\n",
      "t:   6%|███████▊                                                                                                                     | 32/513 [00:04<01:20,  5.98it/s, now=None]"
     ]
    },
    {
     "name": "stderr",
     "output_type": "stream",
     "text": [
      "\r\n",
      "t:   6%|████████                                                                                                                     | 33/513 [00:04<01:14,  6.45it/s, now=None]"
     ]
    },
    {
     "name": "stderr",
     "output_type": "stream",
     "text": [
      "\r\n",
      "t:   7%|████████▎                                                                                                                    | 34/513 [00:05<01:07,  7.04it/s, now=None]"
     ]
    },
    {
     "name": "stderr",
     "output_type": "stream",
     "text": [
      "\r\n",
      "t:   7%|████████▌                                                                                                                    | 35/513 [00:05<01:19,  5.99it/s, now=None]"
     ]
    },
    {
     "name": "stderr",
     "output_type": "stream",
     "text": [
      "\r\n",
      "t:   7%|████████▊                                                                                                                    | 36/513 [00:05<01:11,  6.72it/s, now=None]"
     ]
    },
    {
     "name": "stderr",
     "output_type": "stream",
     "text": [
      "\r\n",
      "t:   7%|█████████                                                                                                                    | 37/513 [00:05<01:04,  7.33it/s, now=None]"
     ]
    },
    {
     "name": "stderr",
     "output_type": "stream",
     "text": [
      "\r\n",
      "t:   7%|█████████▎                                                                                                                   | 38/513 [00:05<01:17,  6.09it/s, now=None]"
     ]
    },
    {
     "name": "stderr",
     "output_type": "stream",
     "text": [
      "\r\n",
      "t:   8%|█████████▌                                                                                                                   | 39/513 [00:05<01:09,  6.82it/s, now=None]"
     ]
    },
    {
     "name": "stderr",
     "output_type": "stream",
     "text": [
      "\r\n",
      "t:   8%|█████████▋                                                                                                                   | 40/513 [00:05<01:06,  7.14it/s, now=None]"
     ]
    },
    {
     "name": "stderr",
     "output_type": "stream",
     "text": [
      "\r\n",
      "t:   8%|█████████▉                                                                                                                   | 41/513 [00:06<01:19,  5.96it/s, now=None]"
     ]
    },
    {
     "name": "stderr",
     "output_type": "stream",
     "text": [
      "\r\n",
      "t:   8%|██████████▏                                                                                                                  | 42/513 [00:06<01:10,  6.64it/s, now=None]"
     ]
    },
    {
     "name": "stderr",
     "output_type": "stream",
     "text": [
      "\r\n",
      "t:   8%|██████████▍                                                                                                                  | 43/513 [00:06<01:07,  7.01it/s, now=None]"
     ]
    },
    {
     "name": "stderr",
     "output_type": "stream",
     "text": [
      "\r\n",
      "t:   9%|██████████▋                                                                                                                  | 44/513 [00:06<01:23,  5.63it/s, now=None]"
     ]
    },
    {
     "name": "stderr",
     "output_type": "stream",
     "text": [
      "\r\n",
      "t:   9%|██████████▉                                                                                                                  | 45/513 [00:06<01:14,  6.32it/s, now=None]"
     ]
    },
    {
     "name": "stderr",
     "output_type": "stream",
     "text": [
      "\r\n",
      "t:   9%|███████████▏                                                                                                                 | 46/513 [00:06<01:08,  6.84it/s, now=None]"
     ]
    },
    {
     "name": "stderr",
     "output_type": "stream",
     "text": [
      "\r\n",
      "t:   9%|███████████▍                                                                                                                 | 47/513 [00:07<01:19,  5.83it/s, now=None]"
     ]
    },
    {
     "name": "stderr",
     "output_type": "stream",
     "text": [
      "\r\n",
      "t:   9%|███████████▋                                                                                                                 | 48/513 [00:07<01:11,  6.54it/s, now=None]"
     ]
    },
    {
     "name": "stderr",
     "output_type": "stream",
     "text": [
      "\r\n",
      "t:  10%|███████████▉                                                                                                                 | 49/513 [00:07<01:05,  7.08it/s, now=None]"
     ]
    },
    {
     "name": "stderr",
     "output_type": "stream",
     "text": [
      "\r\n",
      "t:  10%|████████████▏                                                                                                                | 50/513 [00:07<01:18,  5.92it/s, now=None]"
     ]
    },
    {
     "name": "stderr",
     "output_type": "stream",
     "text": [
      "\r\n",
      "t:  10%|████████████▍                                                                                                                | 51/513 [00:07<01:09,  6.65it/s, now=None]"
     ]
    },
    {
     "name": "stderr",
     "output_type": "stream",
     "text": [
      "\r\n",
      "t:  10%|████████████▋                                                                                                                | 52/513 [00:07<01:04,  7.15it/s, now=None]"
     ]
    },
    {
     "name": "stderr",
     "output_type": "stream",
     "text": [
      "\r\n",
      "t:  10%|████████████▉                                                                                                                | 53/513 [00:08<01:20,  5.70it/s, now=None]"
     ]
    },
    {
     "name": "stderr",
     "output_type": "stream",
     "text": [
      "\r\n",
      "t:  11%|█████████████▏                                                                                                               | 54/513 [00:08<01:12,  6.36it/s, now=None]"
     ]
    },
    {
     "name": "stderr",
     "output_type": "stream",
     "text": [
      "\r\n",
      "t:  11%|█████████████▍                                                                                                               | 55/513 [00:08<01:06,  6.90it/s, now=None]"
     ]
    },
    {
     "name": "stderr",
     "output_type": "stream",
     "text": [
      "\r\n",
      "t:  11%|█████████████▋                                                                                                               | 56/513 [00:08<01:19,  5.78it/s, now=None]"
     ]
    },
    {
     "name": "stderr",
     "output_type": "stream",
     "text": [
      "\r\n",
      "t:  11%|█████████████▉                                                                                                               | 57/513 [00:08<01:11,  6.40it/s, now=None]"
     ]
    },
    {
     "name": "stderr",
     "output_type": "stream",
     "text": [
      "\r\n",
      "t:  11%|██████████████▏                                                                                                              | 58/513 [00:08<01:06,  6.88it/s, now=None]"
     ]
    },
    {
     "name": "stderr",
     "output_type": "stream",
     "text": [
      "\r\n",
      "t:  12%|██████████████▍                                                                                                              | 59/513 [00:08<01:21,  5.57it/s, now=None]"
     ]
    },
    {
     "name": "stderr",
     "output_type": "stream",
     "text": [
      "\r\n",
      "t:  12%|██████████████▌                                                                                                              | 60/513 [00:09<01:12,  6.25it/s, now=None]"
     ]
    },
    {
     "name": "stderr",
     "output_type": "stream",
     "text": [
      "\r\n",
      "t:  12%|██████████████▊                                                                                                              | 61/513 [00:09<01:07,  6.74it/s, now=None]"
     ]
    },
    {
     "name": "stderr",
     "output_type": "stream",
     "text": [
      "\r\n",
      "t:  12%|███████████████                                                                                                              | 62/513 [00:09<01:20,  5.62it/s, now=None]"
     ]
    },
    {
     "name": "stderr",
     "output_type": "stream",
     "text": [
      "\r\n",
      "t:  12%|███████████████▎                                                                                                             | 63/513 [00:09<01:11,  6.30it/s, now=None]"
     ]
    },
    {
     "name": "stderr",
     "output_type": "stream",
     "text": [
      "\r\n",
      "t:  12%|███████████████▌                                                                                                             | 64/513 [00:09<01:05,  6.87it/s, now=None]"
     ]
    },
    {
     "name": "stderr",
     "output_type": "stream",
     "text": [
      "\r\n",
      "t:  13%|███████████████▊                                                                                                             | 65/513 [00:09<01:21,  5.51it/s, now=None]"
     ]
    },
    {
     "name": "stderr",
     "output_type": "stream",
     "text": [
      "\r\n",
      "t:  13%|████████████████                                                                                                             | 66/513 [00:10<01:12,  6.18it/s, now=None]"
     ]
    },
    {
     "name": "stderr",
     "output_type": "stream",
     "text": [
      "\r\n",
      "t:  13%|████████████████▎                                                                                                            | 67/513 [00:10<01:05,  6.77it/s, now=None]"
     ]
    },
    {
     "name": "stderr",
     "output_type": "stream",
     "text": [
      "\r\n",
      "t:  13%|████████████████▌                                                                                                            | 68/513 [00:10<01:20,  5.55it/s, now=None]"
     ]
    },
    {
     "name": "stderr",
     "output_type": "stream",
     "text": [
      "\r\n",
      "t:  13%|████████████████▊                                                                                                            | 69/513 [00:10<01:11,  6.18it/s, now=None]"
     ]
    },
    {
     "name": "stderr",
     "output_type": "stream",
     "text": [
      "\r\n",
      "t:  14%|█████████████████                                                                                                            | 70/513 [00:10<01:05,  6.75it/s, now=None]"
     ]
    },
    {
     "name": "stderr",
     "output_type": "stream",
     "text": [
      "\r\n",
      "t:  14%|█████████████████▎                                                                                                           | 71/513 [00:10<01:18,  5.66it/s, now=None]"
     ]
    },
    {
     "name": "stderr",
     "output_type": "stream",
     "text": [
      "\r\n",
      "t:  14%|█████████████████▌                                                                                                           | 72/513 [00:11<01:08,  6.41it/s, now=None]"
     ]
    },
    {
     "name": "stderr",
     "output_type": "stream",
     "text": [
      "\r\n",
      "t:  14%|█████████████████▊                                                                                                           | 73/513 [00:11<01:03,  6.94it/s, now=None]"
     ]
    },
    {
     "name": "stderr",
     "output_type": "stream",
     "text": [
      "\r\n",
      "t:  14%|██████████████████                                                                                                           | 74/513 [00:11<01:16,  5.73it/s, now=None]"
     ]
    },
    {
     "name": "stderr",
     "output_type": "stream",
     "text": [
      "\r\n",
      "t:  15%|██████████████████▎                                                                                                          | 75/513 [00:11<01:08,  6.38it/s, now=None]"
     ]
    },
    {
     "name": "stderr",
     "output_type": "stream",
     "text": [
      "\r\n",
      "t:  15%|██████████████████▌                                                                                                          | 76/513 [00:11<01:02,  6.99it/s, now=None]"
     ]
    },
    {
     "name": "stderr",
     "output_type": "stream",
     "text": [
      "\r\n",
      "t:  15%|██████████████████▊                                                                                                          | 77/513 [00:11<01:18,  5.57it/s, now=None]"
     ]
    },
    {
     "name": "stderr",
     "output_type": "stream",
     "text": [
      "\r\n",
      "t:  15%|███████████████████                                                                                                          | 78/513 [00:12<01:09,  6.28it/s, now=None]"
     ]
    },
    {
     "name": "stderr",
     "output_type": "stream",
     "text": [
      "\r\n",
      "t:  15%|███████████████████▏                                                                                                         | 79/513 [00:12<01:03,  6.88it/s, now=None]"
     ]
    },
    {
     "name": "stderr",
     "output_type": "stream",
     "text": [
      "\r\n",
      "t:  16%|███████████████████▍                                                                                                         | 80/513 [00:12<01:17,  5.58it/s, now=None]"
     ]
    },
    {
     "name": "stderr",
     "output_type": "stream",
     "text": [
      "\r\n",
      "t:  16%|███████████████████▋                                                                                                         | 81/513 [00:12<01:08,  6.31it/s, now=None]"
     ]
    },
    {
     "name": "stderr",
     "output_type": "stream",
     "text": [
      "\r\n",
      "t:  16%|███████████████████▉                                                                                                         | 82/513 [00:12<01:02,  6.94it/s, now=None]"
     ]
    },
    {
     "name": "stderr",
     "output_type": "stream",
     "text": [
      "\r\n",
      "t:  16%|████████████████████▏                                                                                                        | 83/513 [00:12<01:15,  5.73it/s, now=None]"
     ]
    },
    {
     "name": "stderr",
     "output_type": "stream",
     "text": [
      "\r\n",
      "t:  16%|████████████████████▍                                                                                                        | 84/513 [00:12<01:07,  6.40it/s, now=None]"
     ]
    },
    {
     "name": "stderr",
     "output_type": "stream",
     "text": [
      "\r\n",
      "t:  17%|████████████████████▋                                                                                                        | 85/513 [00:13<01:01,  6.99it/s, now=None]"
     ]
    },
    {
     "name": "stderr",
     "output_type": "stream",
     "text": [
      "\r\n",
      "t:  17%|████████████████████▉                                                                                                        | 86/513 [00:13<01:13,  5.83it/s, now=None]"
     ]
    },
    {
     "name": "stderr",
     "output_type": "stream",
     "text": [
      "\r\n",
      "t:  17%|█████████████████████▏                                                                                                       | 87/513 [00:13<01:04,  6.59it/s, now=None]"
     ]
    },
    {
     "name": "stderr",
     "output_type": "stream",
     "text": [
      "\r\n",
      "t:  17%|█████████████████████▍                                                                                                       | 88/513 [00:13<00:58,  7.23it/s, now=None]"
     ]
    },
    {
     "name": "stderr",
     "output_type": "stream",
     "text": [
      "\r\n",
      "t:  17%|█████████████████████▋                                                                                                       | 89/513 [00:13<01:11,  5.97it/s, now=None]"
     ]
    },
    {
     "name": "stderr",
     "output_type": "stream",
     "text": [
      "\r\n",
      "t:  18%|█████████████████████▉                                                                                                       | 90/513 [00:13<01:04,  6.55it/s, now=None]"
     ]
    },
    {
     "name": "stderr",
     "output_type": "stream",
     "text": [
      "\r\n",
      "t:  18%|██████████████████████▏                                                                                                      | 91/513 [00:13<00:59,  7.15it/s, now=None]"
     ]
    },
    {
     "name": "stderr",
     "output_type": "stream",
     "text": [
      "\r\n",
      "t:  18%|██████████████████████▍                                                                                                      | 92/513 [00:14<01:11,  5.93it/s, now=None]"
     ]
    },
    {
     "name": "stderr",
     "output_type": "stream",
     "text": [
      "\r\n",
      "t:  18%|██████████████████████▋                                                                                                      | 93/513 [00:14<01:03,  6.59it/s, now=None]"
     ]
    },
    {
     "name": "stderr",
     "output_type": "stream",
     "text": [
      "\r\n",
      "t:  18%|██████████████████████▉                                                                                                      | 94/513 [00:14<00:58,  7.18it/s, now=None]"
     ]
    },
    {
     "name": "stderr",
     "output_type": "stream",
     "text": [
      "\r\n",
      "t:  19%|███████████████████████▏                                                                                                     | 95/513 [00:14<01:10,  5.95it/s, now=None]"
     ]
    },
    {
     "name": "stderr",
     "output_type": "stream",
     "text": [
      "\r\n",
      "t:  19%|███████████████████████▍                                                                                                     | 96/513 [00:14<01:03,  6.61it/s, now=None]"
     ]
    },
    {
     "name": "stderr",
     "output_type": "stream",
     "text": [
      "\r\n",
      "t:  19%|███████████████████████▋                                                                                                     | 97/513 [00:14<00:59,  6.96it/s, now=None]"
     ]
    },
    {
     "name": "stderr",
     "output_type": "stream",
     "text": [
      "\r\n",
      "t:  19%|███████████████████████▉                                                                                                     | 98/513 [00:15<01:10,  5.87it/s, now=None]"
     ]
    },
    {
     "name": "stderr",
     "output_type": "stream",
     "text": [
      "\r\n",
      "t:  19%|████████████████████████                                                                                                     | 99/513 [00:15<01:02,  6.61it/s, now=None]"
     ]
    },
    {
     "name": "stderr",
     "output_type": "stream",
     "text": [
      "\r\n",
      "t:  19%|████████████████████████▏                                                                                                   | 100/513 [00:15<00:57,  7.23it/s, now=None]"
     ]
    },
    {
     "name": "stderr",
     "output_type": "stream",
     "text": [
      "\r\n",
      "t:  20%|████████████████████████▍                                                                                                   | 101/513 [00:15<01:08,  6.01it/s, now=None]"
     ]
    },
    {
     "name": "stderr",
     "output_type": "stream",
     "text": [
      "\r\n",
      "t:  20%|████████████████████████▋                                                                                                   | 102/513 [00:15<01:01,  6.72it/s, now=None]"
     ]
    },
    {
     "name": "stderr",
     "output_type": "stream",
     "text": [
      "\r\n",
      "t:  20%|████████████████████████▉                                                                                                   | 103/513 [00:15<00:56,  7.28it/s, now=None]"
     ]
    },
    {
     "name": "stderr",
     "output_type": "stream",
     "text": [
      "\r\n",
      "t:  20%|█████████████████████████▏                                                                                                  | 104/513 [00:16<01:08,  5.97it/s, now=None]"
     ]
    },
    {
     "name": "stderr",
     "output_type": "stream",
     "text": [
      "\r\n",
      "t:  20%|█████████████████████████▍                                                                                                  | 105/513 [00:16<01:01,  6.63it/s, now=None]"
     ]
    },
    {
     "name": "stderr",
     "output_type": "stream",
     "text": [
      "\r\n",
      "t:  21%|█████████████████████████▌                                                                                                  | 106/513 [00:16<00:56,  7.23it/s, now=None]"
     ]
    },
    {
     "name": "stderr",
     "output_type": "stream",
     "text": [
      "\r\n",
      "t:  21%|█████████████████████████▊                                                                                                  | 107/513 [00:16<01:08,  5.94it/s, now=None]"
     ]
    },
    {
     "name": "stderr",
     "output_type": "stream",
     "text": [
      "\r\n",
      "t:  21%|██████████████████████████                                                                                                  | 108/513 [00:16<01:00,  6.67it/s, now=None]"
     ]
    },
    {
     "name": "stderr",
     "output_type": "stream",
     "text": [
      "\r\n",
      "t:  21%|██████████████████████████▎                                                                                                 | 109/513 [00:16<00:56,  7.15it/s, now=None]"
     ]
    },
    {
     "name": "stderr",
     "output_type": "stream",
     "text": [
      "\r\n",
      "t:  21%|██████████████████████████▌                                                                                                 | 110/513 [00:16<01:09,  5.79it/s, now=None]"
     ]
    },
    {
     "name": "stderr",
     "output_type": "stream",
     "text": [
      "\r\n",
      "t:  22%|██████████████████████████▊                                                                                                 | 111/513 [00:17<01:02,  6.47it/s, now=None]"
     ]
    },
    {
     "name": "stderr",
     "output_type": "stream",
     "text": [
      "\r\n",
      "t:  22%|███████████████████████████                                                                                                 | 112/513 [00:17<00:56,  7.08it/s, now=None]"
     ]
    },
    {
     "name": "stderr",
     "output_type": "stream",
     "text": [
      "\r\n",
      "t:  22%|███████████████████████████▎                                                                                                | 113/513 [00:17<01:07,  5.97it/s, now=None]"
     ]
    },
    {
     "name": "stderr",
     "output_type": "stream",
     "text": [
      "\r\n",
      "t:  22%|███████████████████████████▌                                                                                                | 114/513 [00:17<00:59,  6.68it/s, now=None]"
     ]
    },
    {
     "name": "stderr",
     "output_type": "stream",
     "text": [
      "\r\n",
      "t:  22%|███████████████████████████▊                                                                                                | 115/513 [00:17<00:54,  7.24it/s, now=None]"
     ]
    },
    {
     "name": "stderr",
     "output_type": "stream",
     "text": [
      "\r\n",
      "t:  23%|████████████████████████████                                                                                                | 116/513 [00:17<01:07,  5.84it/s, now=None]"
     ]
    },
    {
     "name": "stderr",
     "output_type": "stream",
     "text": [
      "\r\n",
      "t:  23%|████████████████████████████▎                                                                                               | 117/513 [00:18<01:00,  6.51it/s, now=None]"
     ]
    },
    {
     "name": "stderr",
     "output_type": "stream",
     "text": [
      "\r\n",
      "t:  23%|████████████████████████████▌                                                                                               | 118/513 [00:18<00:55,  7.12it/s, now=None]"
     ]
    },
    {
     "name": "stderr",
     "output_type": "stream",
     "text": [
      "\r\n",
      "t:  23%|████████████████████████████▊                                                                                               | 119/513 [00:18<01:06,  5.94it/s, now=None]"
     ]
    },
    {
     "name": "stderr",
     "output_type": "stream",
     "text": [
      "\r\n",
      "t:  23%|█████████████████████████████                                                                                               | 120/513 [00:18<00:58,  6.68it/s, now=None]"
     ]
    },
    {
     "name": "stderr",
     "output_type": "stream",
     "text": [
      "\r\n",
      "t:  24%|█████████████████████████████▏                                                                                              | 121/513 [00:18<00:54,  7.20it/s, now=None]"
     ]
    },
    {
     "name": "stderr",
     "output_type": "stream",
     "text": [
      "\r\n",
      "t:  24%|█████████████████████████████▍                                                                                              | 122/513 [00:18<01:05,  5.93it/s, now=None]"
     ]
    },
    {
     "name": "stderr",
     "output_type": "stream",
     "text": [
      "\r\n",
      "t:  24%|█████████████████████████████▋                                                                                              | 123/513 [00:18<01:00,  6.46it/s, now=None]"
     ]
    },
    {
     "name": "stderr",
     "output_type": "stream",
     "text": [
      "\r\n",
      "t:  24%|█████████████████████████████▉                                                                                              | 124/513 [00:19<00:54,  7.10it/s, now=None]"
     ]
    },
    {
     "name": "stderr",
     "output_type": "stream",
     "text": [
      "\r\n",
      "t:  24%|██████████████████████████████▏                                                                                             | 125/513 [00:19<01:05,  5.93it/s, now=None]"
     ]
    },
    {
     "name": "stderr",
     "output_type": "stream",
     "text": [
      "\r\n",
      "t:  25%|██████████████████████████████▍                                                                                             | 126/513 [00:19<00:58,  6.66it/s, now=None]"
     ]
    },
    {
     "name": "stderr",
     "output_type": "stream",
     "text": [
      "\r\n",
      "t:  25%|██████████████████████████████▋                                                                                             | 127/513 [00:19<00:53,  7.24it/s, now=None]"
     ]
    },
    {
     "name": "stderr",
     "output_type": "stream",
     "text": [
      "\r\n",
      "t:  25%|██████████████████████████████▉                                                                                             | 128/513 [00:19<01:04,  5.93it/s, now=None]"
     ]
    },
    {
     "name": "stderr",
     "output_type": "stream",
     "text": [
      "\r\n",
      "t:  25%|███████████████████████████████▏                                                                                            | 129/513 [00:19<00:59,  6.40it/s, now=None]"
     ]
    },
    {
     "name": "stderr",
     "output_type": "stream",
     "text": [
      "\r\n",
      "t:  25%|███████████████████████████████▍                                                                                            | 130/513 [00:19<00:55,  6.96it/s, now=None]"
     ]
    },
    {
     "name": "stderr",
     "output_type": "stream",
     "text": [
      "\r\n",
      "t:  26%|███████████████████████████████▋                                                                                            | 131/513 [00:20<01:05,  5.85it/s, now=None]"
     ]
    },
    {
     "name": "stderr",
     "output_type": "stream",
     "text": [
      "\r\n",
      "t:  26%|███████████████████████████████▉                                                                                            | 132/513 [00:20<00:57,  6.59it/s, now=None]"
     ]
    },
    {
     "name": "stderr",
     "output_type": "stream",
     "text": [
      "\r\n",
      "t:  26%|████████████████████████████████▏                                                                                           | 133/513 [00:20<00:53,  7.10it/s, now=None]"
     ]
    },
    {
     "name": "stderr",
     "output_type": "stream",
     "text": [
      "\r\n",
      "t:  26%|████████████████████████████████▍                                                                                           | 134/513 [00:20<01:05,  5.82it/s, now=None]"
     ]
    },
    {
     "name": "stderr",
     "output_type": "stream",
     "text": [
      "\r\n",
      "t:  26%|████████████████████████████████▋                                                                                           | 135/513 [00:20<00:58,  6.48it/s, now=None]"
     ]
    },
    {
     "name": "stderr",
     "output_type": "stream",
     "text": [
      "\r\n",
      "t:  27%|████████████████████████████████▊                                                                                           | 136/513 [00:20<00:54,  6.86it/s, now=None]"
     ]
    },
    {
     "name": "stderr",
     "output_type": "stream",
     "text": [
      "\r\n",
      "t:  27%|█████████████████████████████████                                                                                           | 137/513 [00:21<01:05,  5.74it/s, now=None]"
     ]
    },
    {
     "name": "stderr",
     "output_type": "stream",
     "text": [
      "\r\n",
      "t:  27%|█████████████████████████████████▎                                                                                          | 138/513 [00:21<00:57,  6.50it/s, now=None]"
     ]
    },
    {
     "name": "stderr",
     "output_type": "stream",
     "text": [
      "\r\n",
      "t:  27%|█████████████████████████████████▌                                                                                          | 139/513 [00:21<00:52,  7.10it/s, now=None]"
     ]
    },
    {
     "name": "stderr",
     "output_type": "stream",
     "text": [
      "\r\n",
      "t:  27%|█████████████████████████████████▊                                                                                          | 140/513 [00:21<01:03,  5.90it/s, now=None]"
     ]
    },
    {
     "name": "stderr",
     "output_type": "stream",
     "text": [
      "\r\n",
      "t:  27%|██████████████████████████████████                                                                                          | 141/513 [00:21<00:56,  6.55it/s, now=None]"
     ]
    },
    {
     "name": "stderr",
     "output_type": "stream",
     "text": [
      "\r\n",
      "t:  28%|██████████████████████████████████▎                                                                                         | 142/513 [00:21<00:52,  7.02it/s, now=None]"
     ]
    },
    {
     "name": "stderr",
     "output_type": "stream",
     "text": [
      "\r\n",
      "t:  28%|██████████████████████████████████▌                                                                                         | 143/513 [00:22<01:04,  5.78it/s, now=None]"
     ]
    },
    {
     "name": "stderr",
     "output_type": "stream",
     "text": [
      "\r\n",
      "t:  28%|██████████████████████████████████▊                                                                                         | 144/513 [00:22<00:56,  6.49it/s, now=None]"
     ]
    },
    {
     "name": "stderr",
     "output_type": "stream",
     "text": [
      "\r\n",
      "t:  28%|███████████████████████████████████                                                                                         | 145/513 [00:22<00:52,  7.06it/s, now=None]"
     ]
    },
    {
     "name": "stderr",
     "output_type": "stream",
     "text": [
      "\r\n",
      "t:  28%|███████████████████████████████████▎                                                                                        | 146/513 [00:22<01:02,  5.89it/s, now=None]"
     ]
    },
    {
     "name": "stderr",
     "output_type": "stream",
     "text": [
      "\r\n",
      "t:  29%|███████████████████████████████████▌                                                                                        | 147/513 [00:22<00:55,  6.63it/s, now=None]"
     ]
    },
    {
     "name": "stderr",
     "output_type": "stream",
     "text": [
      "\r\n",
      "t:  29%|███████████████████████████████████▊                                                                                        | 148/513 [00:22<00:50,  7.19it/s, now=None]"
     ]
    },
    {
     "name": "stderr",
     "output_type": "stream",
     "text": [
      "\r\n",
      "t:  29%|████████████████████████████████████                                                                                        | 149/513 [00:23<01:03,  5.77it/s, now=None]"
     ]
    },
    {
     "name": "stderr",
     "output_type": "stream",
     "text": [
      "\r\n",
      "t:  29%|████████████████████████████████████▎                                                                                       | 150/513 [00:23<00:55,  6.52it/s, now=None]"
     ]
    },
    {
     "name": "stderr",
     "output_type": "stream",
     "text": [
      "\r\n",
      "t:  29%|████████████████████████████████████▍                                                                                       | 151/513 [00:23<00:50,  7.12it/s, now=None]"
     ]
    },
    {
     "name": "stderr",
     "output_type": "stream",
     "text": [
      "\r\n",
      "t:  30%|████████████████████████████████████▋                                                                                       | 152/513 [00:23<01:01,  5.87it/s, now=None]"
     ]
    },
    {
     "name": "stderr",
     "output_type": "stream",
     "text": [
      "\r\n",
      "t:  30%|████████████████████████████████████▉                                                                                       | 153/513 [00:23<00:55,  6.54it/s, now=None]"
     ]
    },
    {
     "name": "stderr",
     "output_type": "stream",
     "text": [
      "\r\n",
      "t:  30%|█████████████████████████████████████▏                                                                                      | 154/513 [00:23<00:50,  7.15it/s, now=None]"
     ]
    },
    {
     "name": "stderr",
     "output_type": "stream",
     "text": [
      "\r\n",
      "t:  30%|█████████████████████████████████████▍                                                                                      | 155/513 [00:23<01:01,  5.84it/s, now=None]"
     ]
    },
    {
     "name": "stderr",
     "output_type": "stream",
     "text": [
      "\r\n",
      "t:  30%|█████████████████████████████████████▋                                                                                      | 156/513 [00:24<00:54,  6.59it/s, now=None]"
     ]
    },
    {
     "name": "stderr",
     "output_type": "stream",
     "text": [
      "\r\n",
      "t:  31%|█████████████████████████████████████▉                                                                                      | 157/513 [00:24<00:49,  7.13it/s, now=None]"
     ]
    },
    {
     "name": "stderr",
     "output_type": "stream",
     "text": [
      "\r\n",
      "t:  31%|██████████████████████████████████████▏                                                                                     | 158/513 [00:24<00:59,  5.93it/s, now=None]"
     ]
    },
    {
     "name": "stderr",
     "output_type": "stream",
     "text": [
      "\r\n",
      "t:  31%|██████████████████████████████████████▍                                                                                     | 159/513 [00:24<00:53,  6.66it/s, now=None]"
     ]
    },
    {
     "name": "stderr",
     "output_type": "stream",
     "text": [
      "\r\n",
      "t:  31%|██████████████████████████████████████▋                                                                                     | 160/513 [00:24<00:48,  7.23it/s, now=None]"
     ]
    },
    {
     "name": "stderr",
     "output_type": "stream",
     "text": [
      "\r\n",
      "t:  31%|██████████████████████████████████████▉                                                                                     | 161/513 [00:24<01:00,  5.85it/s, now=None]"
     ]
    },
    {
     "name": "stderr",
     "output_type": "stream",
     "text": [
      "\r\n",
      "t:  32%|███████████████████████████████████████▏                                                                                    | 162/513 [00:24<00:53,  6.55it/s, now=None]"
     ]
    },
    {
     "name": "stderr",
     "output_type": "stream",
     "text": [
      "\r\n",
      "t:  32%|███████████████████████████████████████▍                                                                                    | 163/513 [00:25<00:48,  7.15it/s, now=None]"
     ]
    },
    {
     "name": "stderr",
     "output_type": "stream",
     "text": [
      "\r\n",
      "t:  32%|███████████████████████████████████████▋                                                                                    | 164/513 [00:25<00:59,  5.91it/s, now=None]"
     ]
    },
    {
     "name": "stderr",
     "output_type": "stream",
     "text": [
      "\r\n",
      "t:  32%|███████████████████████████████████████▉                                                                                    | 165/513 [00:25<00:52,  6.57it/s, now=None]"
     ]
    },
    {
     "name": "stderr",
     "output_type": "stream",
     "text": [
      "\r\n",
      "t:  32%|████████████████████████████████████████                                                                                    | 166/513 [00:25<00:48,  7.17it/s, now=None]"
     ]
    },
    {
     "name": "stderr",
     "output_type": "stream",
     "text": [
      "\r\n",
      "t:  33%|████████████████████████████████████████▎                                                                                   | 167/513 [00:25<00:59,  5.84it/s, now=None]"
     ]
    },
    {
     "name": "stderr",
     "output_type": "stream",
     "text": [
      "\r\n",
      "t:  33%|████████████████████████████████████████▌                                                                                   | 168/513 [00:25<00:53,  6.43it/s, now=None]"
     ]
    },
    {
     "name": "stderr",
     "output_type": "stream",
     "text": [
      "\r\n",
      "t:  33%|████████████████████████████████████████▊                                                                                   | 169/513 [00:26<00:49,  7.00it/s, now=None]"
     ]
    },
    {
     "name": "stderr",
     "output_type": "stream",
     "text": [
      "\r\n",
      "t:  33%|█████████████████████████████████████████                                                                                   | 170/513 [00:26<00:58,  5.88it/s, now=None]"
     ]
    },
    {
     "name": "stderr",
     "output_type": "stream",
     "text": [
      "\r\n",
      "t:  33%|█████████████████████████████████████████▎                                                                                  | 171/513 [00:26<00:51,  6.63it/s, now=None]"
     ]
    },
    {
     "name": "stderr",
     "output_type": "stream",
     "text": [
      "\r\n",
      "t:  34%|█████████████████████████████████████████▌                                                                                  | 172/513 [00:26<00:47,  7.21it/s, now=None]"
     ]
    },
    {
     "name": "stderr",
     "output_type": "stream",
     "text": [
      "\r\n",
      "t:  34%|█████████████████████████████████████████▊                                                                                  | 173/513 [00:26<00:56,  5.98it/s, now=None]"
     ]
    },
    {
     "name": "stderr",
     "output_type": "stream",
     "text": [
      "\r\n",
      "t:  34%|██████████████████████████████████████████                                                                                  | 174/513 [00:26<00:50,  6.65it/s, now=None]"
     ]
    },
    {
     "name": "stderr",
     "output_type": "stream",
     "text": [
      "\r\n",
      "t:  34%|██████████████████████████████████████████▎                                                                                 | 175/513 [00:26<00:47,  7.14it/s, now=None]"
     ]
    },
    {
     "name": "stderr",
     "output_type": "stream",
     "text": [
      "\r\n",
      "t:  34%|██████████████████████████████████████████▌                                                                                 | 176/513 [00:27<00:56,  5.92it/s, now=None]"
     ]
    },
    {
     "name": "stderr",
     "output_type": "stream",
     "text": [
      "\r\n",
      "t:  35%|██████████████████████████████████████████▊                                                                                 | 177/513 [00:27<00:51,  6.58it/s, now=None]"
     ]
    },
    {
     "name": "stderr",
     "output_type": "stream",
     "text": [
      "\r\n",
      "t:  35%|███████████████████████████████████████████                                                                                 | 178/513 [00:27<00:46,  7.18it/s, now=None]"
     ]
    },
    {
     "name": "stderr",
     "output_type": "stream",
     "text": [
      "\r\n",
      "t:  35%|███████████████████████████████████████████▎                                                                                | 179/513 [00:27<00:56,  5.95it/s, now=None]"
     ]
    },
    {
     "name": "stderr",
     "output_type": "stream",
     "text": [
      "\r\n",
      "t:  35%|███████████████████████████████████████████▌                                                                                | 180/513 [00:27<00:50,  6.62it/s, now=None]"
     ]
    },
    {
     "name": "stderr",
     "output_type": "stream",
     "text": [
      "\r\n",
      "t:  35%|███████████████████████████████████████████▊                                                                                | 181/513 [00:27<00:48,  6.89it/s, now=None]"
     ]
    },
    {
     "name": "stderr",
     "output_type": "stream",
     "text": [
      "\r\n",
      "t:  35%|███████████████████████████████████████████▉                                                                                | 182/513 [00:28<00:57,  5.71it/s, now=None]"
     ]
    },
    {
     "name": "stderr",
     "output_type": "stream",
     "text": [
      "\r\n",
      "t:  36%|████████████████████████████████████████████▏                                                                               | 183/513 [00:28<00:50,  6.47it/s, now=None]"
     ]
    },
    {
     "name": "stderr",
     "output_type": "stream",
     "text": [
      "\r\n",
      "t:  36%|████████████████████████████████████████████▍                                                                               | 184/513 [00:28<00:46,  7.08it/s, now=None]"
     ]
    },
    {
     "name": "stderr",
     "output_type": "stream",
     "text": [
      "\r\n",
      "t:  36%|████████████████████████████████████████████▋                                                                               | 185/513 [00:28<00:55,  5.93it/s, now=None]"
     ]
    },
    {
     "name": "stderr",
     "output_type": "stream",
     "text": [
      "\r\n",
      "t:  36%|████████████████████████████████████████████▉                                                                               | 186/513 [00:28<00:49,  6.65it/s, now=None]"
     ]
    },
    {
     "name": "stderr",
     "output_type": "stream",
     "text": [
      "\r\n",
      "t:  36%|█████████████████████████████████████████████▏                                                                              | 187/513 [00:28<00:45,  7.10it/s, now=None]"
     ]
    },
    {
     "name": "stderr",
     "output_type": "stream",
     "text": [
      "\r\n",
      "t:  37%|█████████████████████████████████████████████▍                                                                              | 188/513 [00:29<00:55,  5.87it/s, now=None]"
     ]
    },
    {
     "name": "stderr",
     "output_type": "stream",
     "text": [
      "\r\n",
      "t:  37%|█████████████████████████████████████████████▋                                                                              | 189/513 [00:29<00:49,  6.53it/s, now=None]"
     ]
    },
    {
     "name": "stderr",
     "output_type": "stream",
     "text": [
      "\r\n",
      "t:  37%|█████████████████████████████████████████████▉                                                                              | 190/513 [00:29<00:45,  7.14it/s, now=None]"
     ]
    },
    {
     "name": "stderr",
     "output_type": "stream",
     "text": [
      "\r\n",
      "t:  37%|██████████████████████████████████████████████▏                                                                             | 191/513 [00:29<00:54,  5.92it/s, now=None]"
     ]
    },
    {
     "name": "stderr",
     "output_type": "stream",
     "text": [
      "\r\n",
      "t:  37%|██████████████████████████████████████████████▍                                                                             | 192/513 [00:29<00:48,  6.62it/s, now=None]"
     ]
    },
    {
     "name": "stderr",
     "output_type": "stream",
     "text": [
      "\r\n",
      "t:  38%|██████████████████████████████████████████████▋                                                                             | 193/513 [00:29<00:44,  7.14it/s, now=None]"
     ]
    },
    {
     "name": "stderr",
     "output_type": "stream",
     "text": [
      "\r\n",
      "t:  38%|██████████████████████████████████████████████▉                                                                             | 194/513 [00:29<00:53,  5.92it/s, now=None]"
     ]
    },
    {
     "name": "stderr",
     "output_type": "stream",
     "text": [
      "\r\n",
      "t:  38%|███████████████████████████████████████████████▏                                                                            | 195/513 [00:30<00:48,  6.62it/s, now=None]"
     ]
    },
    {
     "name": "stderr",
     "output_type": "stream",
     "text": [
      "\r\n",
      "t:  38%|███████████████████████████████████████████████▍                                                                            | 196/513 [00:30<00:43,  7.21it/s, now=None]"
     ]
    },
    {
     "name": "stderr",
     "output_type": "stream",
     "text": [
      "\r\n",
      "t:  38%|███████████████████████████████████████████████▌                                                                            | 197/513 [00:30<00:52,  6.01it/s, now=None]"
     ]
    },
    {
     "name": "stderr",
     "output_type": "stream",
     "text": [
      "\r\n",
      "t:  39%|███████████████████████████████████████████████▊                                                                            | 198/513 [00:30<00:46,  6.73it/s, now=None]"
     ]
    },
    {
     "name": "stderr",
     "output_type": "stream",
     "text": [
      "\r\n",
      "t:  39%|████████████████████████████████████████████████                                                                            | 199/513 [00:30<00:43,  7.29it/s, now=None]"
     ]
    },
    {
     "name": "stderr",
     "output_type": "stream",
     "text": [
      "\r\n",
      "t:  39%|████████████████████████████████████████████████▎                                                                           | 200/513 [00:30<00:53,  5.82it/s, now=None]"
     ]
    },
    {
     "name": "stderr",
     "output_type": "stream",
     "text": [
      "\r\n",
      "t:  39%|████████████████████████████████████████████████▌                                                                           | 201/513 [00:30<00:48,  6.48it/s, now=None]"
     ]
    },
    {
     "name": "stderr",
     "output_type": "stream",
     "text": [
      "\r\n",
      "t:  39%|████████████████████████████████████████████████▊                                                                           | 202/513 [00:31<00:43,  7.10it/s, now=None]"
     ]
    },
    {
     "name": "stderr",
     "output_type": "stream",
     "text": [
      "\r\n",
      "t:  40%|█████████████████████████████████████████████████                                                                           | 203/513 [00:31<00:52,  5.88it/s, now=None]"
     ]
    },
    {
     "name": "stderr",
     "output_type": "stream",
     "text": [
      "\r\n",
      "t:  40%|█████████████████████████████████████████████████▎                                                                          | 204/513 [00:31<00:46,  6.60it/s, now=None]"
     ]
    },
    {
     "name": "stderr",
     "output_type": "stream",
     "text": [
      "\r\n",
      "t:  40%|█████████████████████████████████████████████████▌                                                                          | 205/513 [00:31<00:43,  7.15it/s, now=None]"
     ]
    },
    {
     "name": "stderr",
     "output_type": "stream",
     "text": [
      "\r\n",
      "t:  40%|█████████████████████████████████████████████████▊                                                                          | 206/513 [00:31<00:51,  5.93it/s, now=None]"
     ]
    },
    {
     "name": "stderr",
     "output_type": "stream",
     "text": [
      "\r\n",
      "t:  40%|██████████████████████████████████████████████████                                                                          | 207/513 [00:31<00:47,  6.43it/s, now=None]"
     ]
    },
    {
     "name": "stderr",
     "output_type": "stream",
     "text": [
      "\r\n",
      "t:  41%|██████████████████████████████████████████████████▎                                                                         | 208/513 [00:32<00:43,  7.07it/s, now=None]"
     ]
    },
    {
     "name": "stderr",
     "output_type": "stream",
     "text": [
      "\r\n",
      "t:  41%|██████████████████████████████████████████████████▌                                                                         | 209/513 [00:32<00:51,  5.91it/s, now=None]"
     ]
    },
    {
     "name": "stderr",
     "output_type": "stream",
     "text": [
      "\r\n",
      "t:  41%|██████████████████████████████████████████████████▊                                                                         | 210/513 [00:32<00:45,  6.67it/s, now=None]"
     ]
    },
    {
     "name": "stderr",
     "output_type": "stream",
     "text": [
      "\r\n",
      "t:  41%|███████████████████████████████████████████████████                                                                         | 211/513 [00:32<00:42,  7.17it/s, now=None]"
     ]
    },
    {
     "name": "stderr",
     "output_type": "stream",
     "text": [
      "\r\n",
      "t:  41%|███████████████████████████████████████████████████▏                                                                        | 212/513 [00:32<00:51,  5.81it/s, now=None]"
     ]
    },
    {
     "name": "stderr",
     "output_type": "stream",
     "text": [
      "\r\n",
      "t:  42%|███████████████████████████████████████████████████▍                                                                        | 213/513 [00:32<00:47,  6.34it/s, now=None]"
     ]
    },
    {
     "name": "stderr",
     "output_type": "stream",
     "text": [
      "\r\n",
      "t:  42%|███████████████████████████████████████████████████▋                                                                        | 214/513 [00:32<00:43,  6.87it/s, now=None]"
     ]
    },
    {
     "name": "stderr",
     "output_type": "stream",
     "text": [
      "\r\n",
      "t:  42%|███████████████████████████████████████████████████▉                                                                        | 215/513 [00:33<00:51,  5.78it/s, now=None]"
     ]
    },
    {
     "name": "stderr",
     "output_type": "stream",
     "text": [
      "\r\n",
      "t:  42%|████████████████████████████████████████████████████▏                                                                       | 216/513 [00:33<00:45,  6.51it/s, now=None]"
     ]
    },
    {
     "name": "stderr",
     "output_type": "stream",
     "text": [
      "\r\n",
      "t:  42%|████████████████████████████████████████████████████▍                                                                       | 217/513 [00:33<00:41,  7.09it/s, now=None]"
     ]
    },
    {
     "name": "stderr",
     "output_type": "stream",
     "text": [
      "\r\n",
      "t:  42%|████████████████████████████████████████████████████▋                                                                       | 218/513 [00:33<00:49,  5.91it/s, now=None]"
     ]
    },
    {
     "name": "stderr",
     "output_type": "stream",
     "text": [
      "\r\n",
      "t:  43%|████████████████████████████████████████████████████▉                                                                       | 219/513 [00:33<00:44,  6.61it/s, now=None]"
     ]
    },
    {
     "name": "stderr",
     "output_type": "stream",
     "text": [
      "\r\n",
      "t:  43%|█████████████████████████████████████████████████████▏                                                                      | 220/513 [00:33<00:41,  6.99it/s, now=None]"
     ]
    },
    {
     "name": "stderr",
     "output_type": "stream",
     "text": [
      "\r\n",
      "t:  43%|█████████████████████████████████████████████████████▍                                                                      | 221/513 [00:34<00:50,  5.81it/s, now=None]"
     ]
    },
    {
     "name": "stderr",
     "output_type": "stream",
     "text": [
      "\r\n",
      "t:  43%|█████████████████████████████████████████████████████▋                                                                      | 222/513 [00:34<00:45,  6.41it/s, now=None]"
     ]
    },
    {
     "name": "stderr",
     "output_type": "stream",
     "text": [
      "\r\n",
      "t:  43%|█████████████████████████████████████████████████████▉                                                                      | 223/513 [00:34<00:41,  6.94it/s, now=None]"
     ]
    },
    {
     "name": "stderr",
     "output_type": "stream",
     "text": [
      "\r\n",
      "t:  44%|██████████████████████████████████████████████████████▏                                                                     | 224/513 [00:34<00:50,  5.72it/s, now=None]"
     ]
    },
    {
     "name": "stderr",
     "output_type": "stream",
     "text": [
      "\r\n",
      "t:  44%|██████████████████████████████████████████████████████▍                                                                     | 225/513 [00:34<00:45,  6.32it/s, now=None]"
     ]
    },
    {
     "name": "stderr",
     "output_type": "stream",
     "text": [
      "\r\n",
      "t:  44%|██████████████████████████████████████████████████████▋                                                                     | 226/513 [00:34<00:42,  6.75it/s, now=None]"
     ]
    },
    {
     "name": "stderr",
     "output_type": "stream",
     "text": [
      "\r\n",
      "t:  44%|██████████████████████████████████████████████████████▊                                                                     | 227/513 [00:35<00:50,  5.61it/s, now=None]"
     ]
    },
    {
     "name": "stderr",
     "output_type": "stream",
     "text": [
      "\r\n",
      "t:  44%|███████████████████████████████████████████████████████                                                                     | 228/513 [00:35<00:44,  6.37it/s, now=None]"
     ]
    },
    {
     "name": "stderr",
     "output_type": "stream",
     "text": [
      "\r\n",
      "t:  45%|███████████████████████████████████████████████████████▎                                                                    | 229/513 [00:35<00:40,  6.95it/s, now=None]"
     ]
    },
    {
     "name": "stderr",
     "output_type": "stream",
     "text": [
      "\r\n",
      "t:  45%|███████████████████████████████████████████████████████▌                                                                    | 230/513 [00:35<00:48,  5.84it/s, now=None]"
     ]
    },
    {
     "name": "stderr",
     "output_type": "stream",
     "text": [
      "\r\n",
      "t:  45%|███████████████████████████████████████████████████████▊                                                                    | 231/513 [00:35<00:43,  6.55it/s, now=None]"
     ]
    },
    {
     "name": "stderr",
     "output_type": "stream",
     "text": [
      "\r\n",
      "t:  45%|████████████████████████████████████████████████████████                                                                    | 232/513 [00:35<00:39,  7.13it/s, now=None]"
     ]
    },
    {
     "name": "stderr",
     "output_type": "stream",
     "text": [
      "\r\n",
      "t:  45%|████████████████████████████████████████████████████████▎                                                                   | 233/513 [00:36<00:48,  5.76it/s, now=None]"
     ]
    },
    {
     "name": "stderr",
     "output_type": "stream",
     "text": [
      "\r\n",
      "t:  46%|████████████████████████████████████████████████████████▌                                                                   | 234/513 [00:36<00:42,  6.51it/s, now=None]"
     ]
    },
    {
     "name": "stderr",
     "output_type": "stream",
     "text": [
      "\r\n",
      "t:  46%|████████████████████████████████████████████████████████▊                                                                   | 235/513 [00:36<00:39,  7.05it/s, now=None]"
     ]
    },
    {
     "name": "stderr",
     "output_type": "stream",
     "text": [
      "\r\n",
      "t:  46%|█████████████████████████████████████████████████████████                                                                   | 236/513 [00:36<00:50,  5.53it/s, now=None]"
     ]
    },
    {
     "name": "stderr",
     "output_type": "stream",
     "text": [
      "\r\n",
      "t:  46%|█████████████████████████████████████████████████████████▎                                                                  | 237/513 [00:36<00:44,  6.23it/s, now=None]"
     ]
    },
    {
     "name": "stderr",
     "output_type": "stream",
     "text": [
      "\r\n",
      "t:  46%|█████████████████████████████████████████████████████████▌                                                                  | 238/513 [00:36<00:39,  6.88it/s, now=None]"
     ]
    },
    {
     "name": "stderr",
     "output_type": "stream",
     "text": [
      "\r\n",
      "t:  47%|█████████████████████████████████████████████████████████▊                                                                  | 239/513 [00:37<00:49,  5.54it/s, now=None]"
     ]
    },
    {
     "name": "stderr",
     "output_type": "stream",
     "text": [
      "\r\n",
      "t:  47%|██████████████████████████████████████████████████████████                                                                  | 240/513 [00:37<00:43,  6.30it/s, now=None]"
     ]
    },
    {
     "name": "stderr",
     "output_type": "stream",
     "text": [
      "\r\n",
      "t:  47%|██████████████████████████████████████████████████████████▎                                                                 | 241/513 [00:37<00:39,  6.89it/s, now=None]"
     ]
    },
    {
     "name": "stderr",
     "output_type": "stream",
     "text": [
      "\r\n",
      "t:  47%|██████████████████████████████████████████████████████████▍                                                                 | 242/513 [00:37<00:46,  5.86it/s, now=None]"
     ]
    },
    {
     "name": "stderr",
     "output_type": "stream",
     "text": [
      "\r\n",
      "t:  47%|██████████████████████████████████████████████████████████▋                                                                 | 243/513 [00:37<00:40,  6.61it/s, now=None]"
     ]
    },
    {
     "name": "stderr",
     "output_type": "stream",
     "text": [
      "\r\n",
      "t:  48%|██████████████████████████████████████████████████████████▉                                                                 | 244/513 [00:37<00:37,  7.16it/s, now=None]"
     ]
    },
    {
     "name": "stderr",
     "output_type": "stream",
     "text": [
      "\r\n",
      "t:  48%|███████████████████████████████████████████████████████████▏                                                                | 245/513 [00:37<00:45,  5.88it/s, now=None]"
     ]
    },
    {
     "name": "stderr",
     "output_type": "stream",
     "text": [
      "\r\n",
      "t:  48%|███████████████████████████████████████████████████████████▍                                                                | 246/513 [00:38<00:40,  6.60it/s, now=None]"
     ]
    },
    {
     "name": "stderr",
     "output_type": "stream",
     "text": [
      "\r\n",
      "t:  48%|███████████████████████████████████████████████████████████▋                                                                | 247/513 [00:38<00:37,  7.16it/s, now=None]"
     ]
    },
    {
     "name": "stderr",
     "output_type": "stream",
     "text": [
      "\r\n",
      "t:  48%|███████████████████████████████████████████████████████████▉                                                                | 248/513 [00:38<00:44,  5.98it/s, now=None]"
     ]
    },
    {
     "name": "stderr",
     "output_type": "stream",
     "text": [
      "\r\n",
      "t:  49%|████████████████████████████████████████████████████████████▏                                                               | 249/513 [00:38<00:39,  6.64it/s, now=None]"
     ]
    },
    {
     "name": "stderr",
     "output_type": "stream",
     "text": [
      "\r\n",
      "t:  49%|████████████████████████████████████████████████████████████▍                                                               | 250/513 [00:38<00:36,  7.23it/s, now=None]"
     ]
    },
    {
     "name": "stderr",
     "output_type": "stream",
     "text": [
      "\r\n",
      "t:  49%|████████████████████████████████████████████████████████████▋                                                               | 251/513 [00:38<00:45,  5.80it/s, now=None]"
     ]
    },
    {
     "name": "stderr",
     "output_type": "stream",
     "text": [
      "\r\n",
      "t:  49%|████████████████████████████████████████████████████████████▉                                                               | 252/513 [00:38<00:40,  6.43it/s, now=None]"
     ]
    },
    {
     "name": "stderr",
     "output_type": "stream",
     "text": [
      "\r\n",
      "t:  49%|█████████████████████████████████████████████████████████████▏                                                              | 253/513 [00:39<00:37,  7.02it/s, now=None]"
     ]
    },
    {
     "name": "stderr",
     "output_type": "stream",
     "text": [
      "\r\n",
      "t:  50%|█████████████████████████████████████████████████████████████▍                                                              | 254/513 [00:39<00:44,  5.85it/s, now=None]"
     ]
    },
    {
     "name": "stderr",
     "output_type": "stream",
     "text": [
      "\r\n",
      "t:  50%|█████████████████████████████████████████████████████████████▋                                                              | 255/513 [00:39<00:39,  6.60it/s, now=None]"
     ]
    },
    {
     "name": "stderr",
     "output_type": "stream",
     "text": [
      "\r\n",
      "t:  50%|█████████████████████████████████████████████████████████████▉                                                              | 256/513 [00:39<00:35,  7.19it/s, now=None]"
     ]
    },
    {
     "name": "stderr",
     "output_type": "stream",
     "text": [
      "\r\n",
      "t:  50%|██████████████████████████████████████████████████████████████                                                              | 257/513 [00:39<00:42,  6.00it/s, now=None]"
     ]
    },
    {
     "name": "stderr",
     "output_type": "stream",
     "text": [
      "\r\n",
      "t:  50%|██████████████████████████████████████████████████████████████▎                                                             | 258/513 [00:39<00:38,  6.56it/s, now=None]"
     ]
    },
    {
     "name": "stderr",
     "output_type": "stream",
     "text": [
      "\r\n",
      "t:  50%|██████████████████████████████████████████████████████████████▌                                                             | 259/513 [00:39<00:35,  7.12it/s, now=None]"
     ]
    },
    {
     "name": "stderr",
     "output_type": "stream",
     "text": [
      "\r\n",
      "t:  51%|██████████████████████████████████████████████████████████████▊                                                             | 260/513 [00:40<00:42,  5.96it/s, now=None]"
     ]
    },
    {
     "name": "stderr",
     "output_type": "stream",
     "text": [
      "\r\n",
      "t:  51%|███████████████████████████████████████████████████████████████                                                             | 261/513 [00:40<00:37,  6.63it/s, now=None]"
     ]
    },
    {
     "name": "stderr",
     "output_type": "stream",
     "text": [
      "\r\n",
      "t:  51%|███████████████████████████████████████████████████████████████▎                                                            | 262/513 [00:40<00:34,  7.23it/s, now=None]"
     ]
    },
    {
     "name": "stderr",
     "output_type": "stream",
     "text": [
      "\r\n",
      "t:  51%|███████████████████████████████████████████████████████████████▌                                                            | 263/513 [00:40<00:41,  6.00it/s, now=None]"
     ]
    },
    {
     "name": "stderr",
     "output_type": "stream",
     "text": [
      "\r\n",
      "t:  51%|███████████████████████████████████████████████████████████████▊                                                            | 264/513 [00:40<00:37,  6.72it/s, now=None]"
     ]
    },
    {
     "name": "stderr",
     "output_type": "stream",
     "text": [
      "\r\n",
      "t:  52%|████████████████████████████████████████████████████████████████                                                            | 265/513 [00:40<00:35,  6.99it/s, now=None]"
     ]
    },
    {
     "name": "stderr",
     "output_type": "stream",
     "text": [
      "\r\n",
      "t:  52%|████████████████████████████████████████████████████████████████▎                                                           | 266/513 [00:41<00:41,  5.92it/s, now=None]"
     ]
    },
    {
     "name": "stderr",
     "output_type": "stream",
     "text": [
      "\r\n",
      "t:  52%|████████████████████████████████████████████████████████████████▌                                                           | 267/513 [00:41<00:37,  6.63it/s, now=None]"
     ]
    },
    {
     "name": "stderr",
     "output_type": "stream",
     "text": [
      "\r\n",
      "t:  52%|████████████████████████████████████████████████████████████████▊                                                           | 268/513 [00:41<00:33,  7.22it/s, now=None]"
     ]
    },
    {
     "name": "stderr",
     "output_type": "stream",
     "text": [
      "\r\n",
      "t:  52%|█████████████████████████████████████████████████████████████████                                                           | 269/513 [00:41<00:40,  6.00it/s, now=None]"
     ]
    },
    {
     "name": "stderr",
     "output_type": "stream",
     "text": [
      "\r\n",
      "t:  53%|█████████████████████████████████████████████████████████████████▎                                                          | 270/513 [00:41<00:36,  6.69it/s, now=None]"
     ]
    },
    {
     "name": "stderr",
     "output_type": "stream",
     "text": [
      "\r\n",
      "t:  53%|█████████████████████████████████████████████████████████████████▌                                                          | 271/513 [00:41<00:33,  7.23it/s, now=None]"
     ]
    },
    {
     "name": "stderr",
     "output_type": "stream",
     "text": [
      "\r\n",
      "t:  53%|█████████████████████████████████████████████████████████████████▋                                                          | 272/513 [00:42<00:40,  5.92it/s, now=None]"
     ]
    },
    {
     "name": "stderr",
     "output_type": "stream",
     "text": [
      "\r\n",
      "t:  53%|█████████████████████████████████████████████████████████████████▉                                                          | 273/513 [00:42<00:36,  6.59it/s, now=None]"
     ]
    },
    {
     "name": "stderr",
     "output_type": "stream",
     "text": [
      "\r\n",
      "t:  53%|██████████████████████████████████████████████████████████████████▏                                                         | 274/513 [00:42<00:33,  7.17it/s, now=None]"
     ]
    },
    {
     "name": "stderr",
     "output_type": "stream",
     "text": [
      "\r\n",
      "t:  54%|██████████████████████████████████████████████████████████████████▍                                                         | 275/513 [00:42<00:39,  6.01it/s, now=None]"
     ]
    },
    {
     "name": "stderr",
     "output_type": "stream",
     "text": [
      "\r\n",
      "t:  54%|██████████████████████████████████████████████████████████████████▋                                                         | 276/513 [00:42<00:35,  6.74it/s, now=None]"
     ]
    },
    {
     "name": "stderr",
     "output_type": "stream",
     "text": [
      "\r\n",
      "t:  54%|██████████████████████████████████████████████████████████████████▉                                                         | 277/513 [00:42<00:32,  7.24it/s, now=None]"
     ]
    },
    {
     "name": "stderr",
     "output_type": "stream",
     "text": [
      "\r\n",
      "t:  54%|███████████████████████████████████████████████████████████████████▏                                                        | 278/513 [00:42<00:40,  5.87it/s, now=None]"
     ]
    },
    {
     "name": "stderr",
     "output_type": "stream",
     "text": [
      "\r\n",
      "t:  54%|███████████████████████████████████████████████████████████████████▍                                                        | 279/513 [00:43<00:35,  6.60it/s, now=None]"
     ]
    },
    {
     "name": "stderr",
     "output_type": "stream",
     "text": [
      "\r\n",
      "t:  55%|███████████████████████████████████████████████████████████████████▋                                                        | 280/513 [00:43<00:32,  7.22it/s, now=None]"
     ]
    },
    {
     "name": "stderr",
     "output_type": "stream",
     "text": [
      "\r\n",
      "t:  55%|███████████████████████████████████████████████████████████████████▉                                                        | 281/513 [00:43<00:38,  5.98it/s, now=None]"
     ]
    },
    {
     "name": "stderr",
     "output_type": "stream",
     "text": [
      "\r\n",
      "t:  55%|████████████████████████████████████████████████████████████████████▏                                                       | 282/513 [00:43<00:34,  6.68it/s, now=None]"
     ]
    },
    {
     "name": "stderr",
     "output_type": "stream",
     "text": [
      "\r\n",
      "t:  55%|████████████████████████████████████████████████████████████████████▍                                                       | 283/513 [00:43<00:31,  7.22it/s, now=None]"
     ]
    },
    {
     "name": "stderr",
     "output_type": "stream",
     "text": [
      "\r\n",
      "t:  55%|████████████████████████████████████████████████████████████████████▋                                                       | 284/513 [00:43<00:39,  5.81it/s, now=None]"
     ]
    },
    {
     "name": "stderr",
     "output_type": "stream",
     "text": [
      "\r\n",
      "t:  56%|████████████████████████████████████████████████████████████████████▉                                                       | 285/513 [00:44<00:35,  6.49it/s, now=None]"
     ]
    },
    {
     "name": "stderr",
     "output_type": "stream",
     "text": [
      "\r\n",
      "t:  56%|█████████████████████████████████████████████████████████████████████▏                                                      | 286/513 [00:44<00:31,  7.11it/s, now=None]"
     ]
    },
    {
     "name": "stderr",
     "output_type": "stream",
     "text": [
      "\r\n",
      "t:  56%|█████████████████████████████████████████████████████████████████████▎                                                      | 287/513 [00:44<00:38,  5.94it/s, now=None]"
     ]
    },
    {
     "name": "stderr",
     "output_type": "stream",
     "text": [
      "\r\n",
      "t:  56%|█████████████████████████████████████████████████████████████████████▌                                                      | 288/513 [00:44<00:33,  6.65it/s, now=None]"
     ]
    },
    {
     "name": "stderr",
     "output_type": "stream",
     "text": [
      "\r\n",
      "t:  56%|█████████████████████████████████████████████████████████████████████▊                                                      | 289/513 [00:44<00:31,  7.20it/s, now=None]"
     ]
    },
    {
     "name": "stderr",
     "output_type": "stream",
     "text": [
      "\r\n",
      "t:  57%|██████████████████████████████████████████████████████████████████████                                                      | 290/513 [00:44<00:36,  6.04it/s, now=None]"
     ]
    },
    {
     "name": "stderr",
     "output_type": "stream",
     "text": [
      "\r\n",
      "t:  57%|██████████████████████████████████████████████████████████████████████▎                                                     | 291/513 [00:44<00:33,  6.56it/s, now=None]"
     ]
    },
    {
     "name": "stderr",
     "output_type": "stream",
     "text": [
      "\r\n",
      "t:  57%|██████████████████████████████████████████████████████████████████████▌                                                     | 292/513 [00:45<00:30,  7.16it/s, now=None]"
     ]
    },
    {
     "name": "stderr",
     "output_type": "stream",
     "text": [
      "\r\n",
      "t:  57%|██████████████████████████████████████████████████████████████████████▊                                                     | 293/513 [00:45<00:36,  5.97it/s, now=None]"
     ]
    },
    {
     "name": "stderr",
     "output_type": "stream",
     "text": [
      "\r\n",
      "t:  57%|███████████████████████████████████████████████████████████████████████                                                     | 294/513 [00:45<00:34,  6.44it/s, now=None]"
     ]
    },
    {
     "name": "stderr",
     "output_type": "stream",
     "text": [
      "\r\n",
      "t:  58%|███████████████████████████████████████████████████████████████████████▎                                                    | 295/513 [00:45<00:31,  6.97it/s, now=None]"
     ]
    },
    {
     "name": "stderr",
     "output_type": "stream",
     "text": [
      "\r\n",
      "t:  58%|███████████████████████████████████████████████████████████████████████▌                                                    | 296/513 [00:45<00:36,  5.88it/s, now=None]"
     ]
    },
    {
     "name": "stderr",
     "output_type": "stream",
     "text": [
      "\r\n",
      "t:  58%|███████████████████████████████████████████████████████████████████████▊                                                    | 297/513 [00:45<00:33,  6.46it/s, now=None]"
     ]
    },
    {
     "name": "stderr",
     "output_type": "stream",
     "text": [
      "\r\n",
      "t:  58%|████████████████████████████████████████████████████████████████████████                                                    | 298/513 [00:45<00:30,  7.06it/s, now=None]"
     ]
    },
    {
     "name": "stderr",
     "output_type": "stream",
     "text": [
      "\r\n",
      "t:  58%|████████████████████████████████████████████████████████████████████████▎                                                   | 299/513 [00:46<00:35,  5.96it/s, now=None]"
     ]
    },
    {
     "name": "stderr",
     "output_type": "stream",
     "text": [
      "\r\n",
      "t:  58%|████████████████████████████████████████████████████████████████████████▌                                                   | 300/513 [00:46<00:32,  6.63it/s, now=None]"
     ]
    },
    {
     "name": "stderr",
     "output_type": "stream",
     "text": [
      "\r\n",
      "t:  59%|████████████████████████████████████████████████████████████████████████▊                                                   | 301/513 [00:46<00:29,  7.15it/s, now=None]"
     ]
    },
    {
     "name": "stderr",
     "output_type": "stream",
     "text": [
      "\r\n",
      "t:  59%|████████████████████████████████████████████████████████████████████████▉                                                   | 302/513 [00:46<00:35,  6.01it/s, now=None]"
     ]
    },
    {
     "name": "stderr",
     "output_type": "stream",
     "text": [
      "\r\n",
      "t:  59%|█████████████████████████████████████████████████████████████████████████▏                                                  | 303/513 [00:46<00:31,  6.61it/s, now=None]"
     ]
    },
    {
     "name": "stderr",
     "output_type": "stream",
     "text": [
      "\r\n",
      "t:  59%|█████████████████████████████████████████████████████████████████████████▍                                                  | 304/513 [00:46<00:30,  6.89it/s, now=None]"
     ]
    },
    {
     "name": "stderr",
     "output_type": "stream",
     "text": [
      "\r\n",
      "t:  59%|█████████████████████████████████████████████████████████████████████████▋                                                  | 305/513 [00:47<00:35,  5.84it/s, now=None]"
     ]
    },
    {
     "name": "stderr",
     "output_type": "stream",
     "text": [
      "\r\n",
      "t:  60%|█████████████████████████████████████████████████████████████████████████▉                                                  | 306/513 [00:47<00:31,  6.58it/s, now=None]"
     ]
    },
    {
     "name": "stderr",
     "output_type": "stream",
     "text": [
      "\r\n",
      "t:  60%|██████████████████████████████████████████████████████████████████████████▏                                                 | 307/513 [00:47<00:28,  7.11it/s, now=None]"
     ]
    },
    {
     "name": "stderr",
     "output_type": "stream",
     "text": [
      "\r\n",
      "t:  60%|██████████████████████████████████████████████████████████████████████████▍                                                 | 308/513 [00:47<00:35,  5.81it/s, now=None]"
     ]
    },
    {
     "name": "stderr",
     "output_type": "stream",
     "text": [
      "\r\n",
      "t:  60%|██████████████████████████████████████████████████████████████████████████▋                                                 | 309/513 [00:47<00:31,  6.49it/s, now=None]"
     ]
    },
    {
     "name": "stderr",
     "output_type": "stream",
     "text": [
      "\r\n",
      "t:  60%|██████████████████████████████████████████████████████████████████████████▉                                                 | 310/513 [00:47<00:28,  7.05it/s, now=None]"
     ]
    },
    {
     "name": "stderr",
     "output_type": "stream",
     "text": [
      "\r\n",
      "t:  61%|███████████████████████████████████████████████████████████████████████████▏                                                | 311/513 [00:48<00:34,  5.78it/s, now=None]"
     ]
    },
    {
     "name": "stderr",
     "output_type": "stream",
     "text": [
      "\r\n",
      "t:  61%|███████████████████████████████████████████████████████████████████████████▍                                                | 312/513 [00:48<00:30,  6.51it/s, now=None]"
     ]
    },
    {
     "name": "stderr",
     "output_type": "stream",
     "text": [
      "\r\n",
      "t:  61%|███████████████████████████████████████████████████████████████████████████▋                                                | 313/513 [00:48<00:28,  7.08it/s, now=None]"
     ]
    },
    {
     "name": "stderr",
     "output_type": "stream",
     "text": [
      "\r\n",
      "t:  61%|███████████████████████████████████████████████████████████████████████████▉                                                | 314/513 [00:48<00:33,  5.97it/s, now=None]"
     ]
    },
    {
     "name": "stderr",
     "output_type": "stream",
     "text": [
      "\r\n",
      "t:  61%|████████████████████████████████████████████████████████████████████████████▏                                               | 315/513 [00:48<00:30,  6.59it/s, now=None]"
     ]
    },
    {
     "name": "stderr",
     "output_type": "stream",
     "text": [
      "\r\n",
      "t:  62%|████████████████████████████████████████████████████████████████████████████▍                                               | 316/513 [00:48<00:27,  7.05it/s, now=None]"
     ]
    },
    {
     "name": "stderr",
     "output_type": "stream",
     "text": [
      "\r\n",
      "t:  62%|████████████████████████████████████████████████████████████████████████████▌                                               | 317/513 [00:49<00:34,  5.68it/s, now=None]"
     ]
    },
    {
     "name": "stderr",
     "output_type": "stream",
     "text": [
      "\r\n",
      "t:  62%|████████████████████████████████████████████████████████████████████████████▊                                               | 318/513 [00:49<00:30,  6.41it/s, now=None]"
     ]
    },
    {
     "name": "stderr",
     "output_type": "stream",
     "text": [
      "\r\n",
      "t:  62%|█████████████████████████████████████████████████████████████████████████████                                               | 319/513 [00:49<00:27,  6.94it/s, now=None]"
     ]
    },
    {
     "name": "stderr",
     "output_type": "stream",
     "text": [
      "\r\n",
      "t:  62%|█████████████████████████████████████████████████████████████████████████████▎                                              | 320/513 [00:49<00:32,  5.87it/s, now=None]"
     ]
    },
    {
     "name": "stderr",
     "output_type": "stream",
     "text": [
      "\r\n",
      "t:  63%|█████████████████████████████████████████████████████████████████████████████▌                                              | 321/513 [00:49<00:29,  6.61it/s, now=None]"
     ]
    },
    {
     "name": "stderr",
     "output_type": "stream",
     "text": [
      "\r\n",
      "t:  63%|█████████████████████████████████████████████████████████████████████████████▊                                              | 322/513 [00:49<00:26,  7.18it/s, now=None]"
     ]
    },
    {
     "name": "stderr",
     "output_type": "stream",
     "text": [
      "\r\n",
      "t:  63%|██████████████████████████████████████████████████████████████████████████████                                              | 323/513 [00:49<00:32,  5.93it/s, now=None]"
     ]
    },
    {
     "name": "stderr",
     "output_type": "stream",
     "text": [
      "\r\n",
      "t:  63%|██████████████████████████████████████████████████████████████████████████████▎                                             | 324/513 [00:50<00:28,  6.66it/s, now=None]"
     ]
    },
    {
     "name": "stderr",
     "output_type": "stream",
     "text": [
      "\r\n",
      "t:  63%|██████████████████████████████████████████████████████████████████████████████▌                                             | 325/513 [00:50<00:26,  7.23it/s, now=None]"
     ]
    },
    {
     "name": "stderr",
     "output_type": "stream",
     "text": [
      "\r\n",
      "t:  64%|██████████████████████████████████████████████████████████████████████████████▊                                             | 326/513 [00:50<00:31,  6.03it/s, now=None]"
     ]
    },
    {
     "name": "stderr",
     "output_type": "stream",
     "text": [
      "\r\n",
      "t:  64%|███████████████████████████████████████████████████████████████████████████████                                             | 327/513 [00:50<00:27,  6.69it/s, now=None]"
     ]
    },
    {
     "name": "stderr",
     "output_type": "stream",
     "text": [
      "\r\n",
      "t:  64%|███████████████████████████████████████████████████████████████████████████████▎                                            | 328/513 [00:50<00:25,  7.23it/s, now=None]"
     ]
    },
    {
     "name": "stderr",
     "output_type": "stream",
     "text": [
      "\r\n",
      "t:  64%|███████████████████████████████████████████████████████████████████████████████▌                                            | 329/513 [00:50<00:30,  6.02it/s, now=None]"
     ]
    },
    {
     "name": "stderr",
     "output_type": "stream",
     "text": [
      "\r\n",
      "t:  64%|███████████████████████████████████████████████████████████████████████████████▊                                            | 330/513 [00:50<00:27,  6.60it/s, now=None]"
     ]
    },
    {
     "name": "stderr",
     "output_type": "stream",
     "text": [
      "\r\n",
      "t:  65%|████████████████████████████████████████████████████████████████████████████████                                            | 331/513 [00:51<00:25,  7.14it/s, now=None]"
     ]
    },
    {
     "name": "stderr",
     "output_type": "stream",
     "text": [
      "\r\n",
      "t:  65%|████████████████████████████████████████████████████████████████████████████████▏                                           | 332/513 [00:51<00:29,  6.05it/s, now=None]"
     ]
    },
    {
     "name": "stderr",
     "output_type": "stream",
     "text": [
      "\r\n",
      "t:  65%|████████████████████████████████████████████████████████████████████████████████▍                                           | 333/513 [00:51<00:26,  6.74it/s, now=None]"
     ]
    },
    {
     "name": "stderr",
     "output_type": "stream",
     "text": [
      "\r\n",
      "t:  65%|████████████████████████████████████████████████████████████████████████████████▋                                           | 334/513 [00:51<00:24,  7.33it/s, now=None]"
     ]
    },
    {
     "name": "stderr",
     "output_type": "stream",
     "text": [
      "\r\n",
      "t:  65%|████████████████████████████████████████████████████████████████████████████████▉                                           | 335/513 [00:51<00:28,  6.15it/s, now=None]"
     ]
    },
    {
     "name": "stderr",
     "output_type": "stream",
     "text": [
      "\r\n",
      "t:  65%|█████████████████████████████████████████████████████████████████████████████████▏                                          | 336/513 [00:51<00:26,  6.77it/s, now=None]"
     ]
    },
    {
     "name": "stderr",
     "output_type": "stream",
     "text": [
      "\r\n",
      "t:  66%|█████████████████████████████████████████████████████████████████████████████████▍                                          | 337/513 [00:51<00:24,  7.19it/s, now=None]"
     ]
    },
    {
     "name": "stderr",
     "output_type": "stream",
     "text": [
      "\r\n",
      "t:  66%|█████████████████████████████████████████████████████████████████████████████████▋                                          | 338/513 [00:52<00:29,  6.03it/s, now=None]"
     ]
    },
    {
     "name": "stderr",
     "output_type": "stream",
     "text": [
      "\r\n",
      "t:  66%|█████████████████████████████████████████████████████████████████████████████████▉                                          | 339/513 [00:52<00:26,  6.69it/s, now=None]"
     ]
    },
    {
     "name": "stderr",
     "output_type": "stream",
     "text": [
      "\r\n",
      "t:  66%|██████████████████████████████████████████████████████████████████████████████████▏                                         | 340/513 [00:52<00:23,  7.27it/s, now=None]"
     ]
    },
    {
     "name": "stderr",
     "output_type": "stream",
     "text": [
      "\r\n",
      "t:  66%|██████████████████████████████████████████████████████████████████████████████████▍                                         | 341/513 [00:52<00:28,  6.07it/s, now=None]"
     ]
    },
    {
     "name": "stderr",
     "output_type": "stream",
     "text": [
      "\r\n",
      "t:  67%|██████████████████████████████████████████████████████████████████████████████████▋                                         | 342/513 [00:52<00:25,  6.79it/s, now=None]"
     ]
    },
    {
     "name": "stderr",
     "output_type": "stream",
     "text": [
      "\r\n",
      "t:  67%|██████████████████████████████████████████████████████████████████████████████████▉                                         | 343/513 [00:52<00:23,  7.15it/s, now=None]"
     ]
    },
    {
     "name": "stderr",
     "output_type": "stream",
     "text": [
      "\r\n",
      "t:  67%|███████████████████████████████████████████████████████████████████████████████████▏                                        | 344/513 [00:53<00:28,  5.93it/s, now=None]"
     ]
    },
    {
     "name": "stderr",
     "output_type": "stream",
     "text": [
      "\r\n",
      "t:  67%|███████████████████████████████████████████████████████████████████████████████████▍                                        | 345/513 [00:53<00:25,  6.64it/s, now=None]"
     ]
    },
    {
     "name": "stderr",
     "output_type": "stream",
     "text": [
      "\r\n",
      "t:  67%|███████████████████████████████████████████████████████████████████████████████████▋                                        | 346/513 [00:53<00:23,  7.21it/s, now=None]"
     ]
    },
    {
     "name": "stderr",
     "output_type": "stream",
     "text": [
      "\r\n",
      "t:  68%|███████████████████████████████████████████████████████████████████████████████████▉                                        | 347/513 [00:53<00:27,  6.10it/s, now=None]"
     ]
    },
    {
     "name": "stderr",
     "output_type": "stream",
     "text": [
      "\r\n",
      "t:  68%|████████████████████████████████████████████████████████████████████████████████████                                        | 348/513 [00:53<00:24,  6.80it/s, now=None]"
     ]
    },
    {
     "name": "stderr",
     "output_type": "stream",
     "text": [
      "\r\n",
      "t:  68%|████████████████████████████████████████████████████████████████████████████████████▎                                       | 349/513 [00:53<00:22,  7.34it/s, now=None]"
     ]
    },
    {
     "name": "stderr",
     "output_type": "stream",
     "text": [
      "\r\n",
      "t:  68%|████████████████████████████████████████████████████████████████████████████████████▌                                       | 350/513 [00:54<00:27,  5.85it/s, now=None]"
     ]
    },
    {
     "name": "stderr",
     "output_type": "stream",
     "text": [
      "\r\n",
      "t:  68%|████████████████████████████████████████████████████████████████████████████████████▊                                       | 351/513 [00:54<00:24,  6.52it/s, now=None]"
     ]
    },
    {
     "name": "stderr",
     "output_type": "stream",
     "text": [
      "\r\n",
      "t:  69%|█████████████████████████████████████████████████████████████████████████████████████                                       | 352/513 [00:54<00:22,  7.14it/s, now=None]"
     ]
    },
    {
     "name": "stderr",
     "output_type": "stream",
     "text": [
      "\r\n",
      "t:  69%|█████████████████████████████████████████████████████████████████████████████████████▎                                      | 353/513 [00:54<00:27,  5.91it/s, now=None]"
     ]
    },
    {
     "name": "stderr",
     "output_type": "stream",
     "text": [
      "\r\n",
      "t:  69%|█████████████████████████████████████████████████████████████████████████████████████▌                                      | 354/513 [00:54<00:23,  6.64it/s, now=None]"
     ]
    },
    {
     "name": "stderr",
     "output_type": "stream",
     "text": [
      "\r\n",
      "t:  69%|█████████████████████████████████████████████████████████████████████████████████████▊                                      | 355/513 [00:54<00:22,  7.17it/s, now=None]"
     ]
    },
    {
     "name": "stderr",
     "output_type": "stream",
     "text": [
      "\r\n",
      "t:  69%|██████████████████████████████████████████████████████████████████████████████████████                                      | 356/513 [00:54<00:26,  5.93it/s, now=None]"
     ]
    },
    {
     "name": "stderr",
     "output_type": "stream",
     "text": [
      "\r\n",
      "t:  70%|██████████████████████████████████████████████████████████████████████████████████████▎                                     | 357/513 [00:55<00:23,  6.64it/s, now=None]"
     ]
    },
    {
     "name": "stderr",
     "output_type": "stream",
     "text": [
      "\r\n",
      "t:  70%|██████████████████████████████████████████████████████████████████████████████████████▌                                     | 358/513 [00:55<00:21,  7.23it/s, now=None]"
     ]
    },
    {
     "name": "stderr",
     "output_type": "stream",
     "text": [
      "\r\n",
      "t:  70%|██████████████████████████████████████████████████████████████████████████████████████▊                                     | 359/513 [00:55<00:25,  6.07it/s, now=None]"
     ]
    },
    {
     "name": "stderr",
     "output_type": "stream",
     "text": [
      "\r\n",
      "t:  70%|███████████████████████████████████████████████████████████████████████████████████████                                     | 360/513 [00:55<00:22,  6.74it/s, now=None]"
     ]
    },
    {
     "name": "stderr",
     "output_type": "stream",
     "text": [
      "\r\n",
      "t:  70%|███████████████████████████████████████████████████████████████████████████████████████▎                                    | 361/513 [00:55<00:20,  7.30it/s, now=None]"
     ]
    },
    {
     "name": "stderr",
     "output_type": "stream",
     "text": [
      "\r\n",
      "t:  71%|███████████████████████████████████████████████████████████████████████████████████████▌                                    | 362/513 [00:55<00:24,  6.05it/s, now=None]"
     ]
    },
    {
     "name": "stderr",
     "output_type": "stream",
     "text": [
      "\r\n",
      "t:  71%|███████████████████████████████████████████████████████████████████████████████████████▋                                    | 363/513 [00:55<00:23,  6.49it/s, now=None]"
     ]
    },
    {
     "name": "stderr",
     "output_type": "stream",
     "text": [
      "\r\n",
      "t:  71%|███████████████████████████████████████████████████████████████████████████████████████▉                                    | 364/513 [00:56<00:20,  7.12it/s, now=None]"
     ]
    },
    {
     "name": "stderr",
     "output_type": "stream",
     "text": [
      "\r\n",
      "t:  71%|████████████████████████████████████████████████████████████████████████████████████████▏                                   | 365/513 [00:56<00:24,  6.00it/s, now=None]"
     ]
    },
    {
     "name": "stderr",
     "output_type": "stream",
     "text": [
      "\r\n",
      "t:  71%|████████████████████████████████████████████████████████████████████████████████████████▍                                   | 366/513 [00:56<00:21,  6.69it/s, now=None]"
     ]
    },
    {
     "name": "stderr",
     "output_type": "stream",
     "text": [
      "\r\n",
      "t:  72%|████████████████████████████████████████████████████████████████████████████████████████▋                                   | 367/513 [00:56<00:20,  7.21it/s, now=None]"
     ]
    },
    {
     "name": "stderr",
     "output_type": "stream",
     "text": [
      "\r\n",
      "t:  72%|████████████████████████████████████████████████████████████████████████████████████████▉                                   | 368/513 [00:56<00:23,  6.07it/s, now=None]"
     ]
    },
    {
     "name": "stderr",
     "output_type": "stream",
     "text": [
      "\r\n",
      "t:  72%|█████████████████████████████████████████████████████████████████████████████████████████▏                                  | 369/513 [00:56<00:21,  6.64it/s, now=None]"
     ]
    },
    {
     "name": "stderr",
     "output_type": "stream",
     "text": [
      "\r\n",
      "t:  72%|█████████████████████████████████████████████████████████████████████████████████████████▍                                  | 370/513 [00:56<00:20,  7.08it/s, now=None]"
     ]
    },
    {
     "name": "stderr",
     "output_type": "stream",
     "text": [
      "\r\n",
      "t:  72%|█████████████████████████████████████████████████████████████████████████████████████████▋                                  | 371/513 [00:57<00:23,  6.02it/s, now=None]"
     ]
    },
    {
     "name": "stderr",
     "output_type": "stream",
     "text": [
      "\r\n",
      "t:  73%|█████████████████████████████████████████████████████████████████████████████████████████▉                                  | 372/513 [00:57<00:20,  6.73it/s, now=None]"
     ]
    },
    {
     "name": "stderr",
     "output_type": "stream",
     "text": [
      "\r\n",
      "t:  73%|██████████████████████████████████████████████████████████████████████████████████████████▏                                 | 373/513 [00:57<00:19,  7.28it/s, now=None]"
     ]
    },
    {
     "name": "stderr",
     "output_type": "stream",
     "text": [
      "\r\n",
      "t:  73%|██████████████████████████████████████████████████████████████████████████████████████████▍                                 | 374/513 [00:57<00:23,  5.96it/s, now=None]"
     ]
    },
    {
     "name": "stderr",
     "output_type": "stream",
     "text": [
      "\r\n",
      "t:  73%|██████████████████████████████████████████████████████████████████████████████████████████▋                                 | 375/513 [00:57<00:20,  6.59it/s, now=None]"
     ]
    },
    {
     "name": "stderr",
     "output_type": "stream",
     "text": [
      "\r\n",
      "t:  73%|██████████████████████████████████████████████████████████████████████████████████████████▉                                 | 376/513 [00:57<00:19,  7.05it/s, now=None]"
     ]
    },
    {
     "name": "stderr",
     "output_type": "stream",
     "text": [
      "\r\n",
      "t:  73%|███████████████████████████████████████████████████████████████████████████████████████████▏                                | 377/513 [00:58<00:23,  5.90it/s, now=None]"
     ]
    },
    {
     "name": "stderr",
     "output_type": "stream",
     "text": [
      "\r\n",
      "t:  74%|███████████████████████████████████████████████████████████████████████████████████████████▎                                | 378/513 [00:58<00:20,  6.58it/s, now=None]"
     ]
    },
    {
     "name": "stderr",
     "output_type": "stream",
     "text": [
      "\r\n",
      "t:  74%|███████████████████████████████████████████████████████████████████████████████████████████▌                                | 379/513 [00:58<00:18,  7.11it/s, now=None]"
     ]
    },
    {
     "name": "stderr",
     "output_type": "stream",
     "text": [
      "\r\n",
      "t:  74%|███████████████████████████████████████████████████████████████████████████████████████████▊                                | 380/513 [00:58<00:22,  5.95it/s, now=None]"
     ]
    },
    {
     "name": "stderr",
     "output_type": "stream",
     "text": [
      "\r\n",
      "t:  74%|████████████████████████████████████████████████████████████████████████████████████████████                                | 381/513 [00:58<00:19,  6.67it/s, now=None]"
     ]
    },
    {
     "name": "stderr",
     "output_type": "stream",
     "text": [
      "\r\n",
      "t:  74%|████████████████████████████████████████████████████████████████████████████████████████████▎                               | 382/513 [00:58<00:18,  7.20it/s, now=None]"
     ]
    },
    {
     "name": "stderr",
     "output_type": "stream",
     "text": [
      "\r\n",
      "t:  75%|████████████████████████████████████████████████████████████████████████████████████████████▌                               | 383/513 [00:59<00:21,  6.02it/s, now=None]"
     ]
    },
    {
     "name": "stderr",
     "output_type": "stream",
     "text": [
      "\r\n",
      "t:  75%|████████████████████████████████████████████████████████████████████████████████████████████▊                               | 384/513 [00:59<00:19,  6.75it/s, now=None]"
     ]
    },
    {
     "name": "stderr",
     "output_type": "stream",
     "text": [
      "\r\n",
      "t:  75%|█████████████████████████████████████████████████████████████████████████████████████████████                               | 385/513 [00:59<00:17,  7.21it/s, now=None]"
     ]
    },
    {
     "name": "stderr",
     "output_type": "stream",
     "text": [
      "\r\n",
      "t:  75%|█████████████████████████████████████████████████████████████████████████████████████████████▎                              | 386/513 [00:59<00:21,  5.95it/s, now=None]"
     ]
    },
    {
     "name": "stderr",
     "output_type": "stream",
     "text": [
      "\r\n",
      "t:  75%|█████████████████████████████████████████████████████████████████████████████████████████████▌                              | 387/513 [00:59<00:19,  6.53it/s, now=None]"
     ]
    },
    {
     "name": "stderr",
     "output_type": "stream",
     "text": [
      "\r\n",
      "t:  76%|█████████████████████████████████████████████████████████████████████████████████████████████▊                              | 388/513 [00:59<00:17,  7.05it/s, now=None]"
     ]
    },
    {
     "name": "stderr",
     "output_type": "stream",
     "text": [
      "\r\n",
      "t:  76%|██████████████████████████████████████████████████████████████████████████████████████████████                              | 389/513 [00:59<00:21,  5.82it/s, now=None]"
     ]
    },
    {
     "name": "stderr",
     "output_type": "stream",
     "text": [
      "\r\n",
      "t:  76%|██████████████████████████████████████████████████████████████████████████████████████████████▎                             | 390/513 [01:00<00:18,  6.56it/s, now=None]"
     ]
    },
    {
     "name": "stderr",
     "output_type": "stream",
     "text": [
      "\r\n",
      "t:  76%|██████████████████████████████████████████████████████████████████████████████████████████████▌                             | 391/513 [01:00<00:17,  7.10it/s, now=None]"
     ]
    },
    {
     "name": "stderr",
     "output_type": "stream",
     "text": [
      "\r\n",
      "t:  76%|██████████████████████████████████████████████████████████████████████████████████████████████▊                             | 392/513 [01:00<00:20,  5.86it/s, now=None]"
     ]
    },
    {
     "name": "stderr",
     "output_type": "stream",
     "text": [
      "\r\n",
      "t:  77%|██████████████████████████████████████████████████████████████████████████████████████████████▉                             | 393/513 [01:00<00:18,  6.60it/s, now=None]"
     ]
    },
    {
     "name": "stderr",
     "output_type": "stream",
     "text": [
      "\r\n",
      "t:  77%|███████████████████████████████████████████████████████████████████████████████████████████████▏                            | 394/513 [01:00<00:16,  7.20it/s, now=None]"
     ]
    },
    {
     "name": "stderr",
     "output_type": "stream",
     "text": [
      "\r\n",
      "t:  77%|███████████████████████████████████████████████████████████████████████████████████████████████▍                            | 395/513 [01:00<00:20,  5.78it/s, now=None]"
     ]
    },
    {
     "name": "stderr",
     "output_type": "stream",
     "text": [
      "\r\n",
      "t:  77%|███████████████████████████████████████████████████████████████████████████████████████████████▋                            | 396/513 [01:00<00:18,  6.49it/s, now=None]"
     ]
    },
    {
     "name": "stderr",
     "output_type": "stream",
     "text": [
      "\r\n",
      "t:  77%|███████████████████████████████████████████████████████████████████████████████████████████████▉                            | 397/513 [01:01<00:16,  7.10it/s, now=None]"
     ]
    },
    {
     "name": "stderr",
     "output_type": "stream",
     "text": [
      "\r\n",
      "t:  78%|████████████████████████████████████████████████████████████████████████████████████████████████▏                           | 398/513 [01:01<00:19,  5.87it/s, now=None]"
     ]
    },
    {
     "name": "stderr",
     "output_type": "stream",
     "text": [
      "\r\n",
      "t:  78%|████████████████████████████████████████████████████████████████████████████████████████████████▍                           | 399/513 [01:01<00:17,  6.52it/s, now=None]"
     ]
    },
    {
     "name": "stderr",
     "output_type": "stream",
     "text": [
      "\r\n",
      "t:  78%|████████████████████████████████████████████████████████████████████████████████████████████████▋                           | 400/513 [01:01<00:16,  7.04it/s, now=None]"
     ]
    },
    {
     "name": "stderr",
     "output_type": "stream",
     "text": [
      "\r\n",
      "t:  78%|████████████████████████████████████████████████████████████████████████████████████████████████▉                           | 401/513 [01:01<00:18,  5.90it/s, now=None]"
     ]
    },
    {
     "name": "stderr",
     "output_type": "stream",
     "text": [
      "\r\n",
      "t:  78%|█████████████████████████████████████████████████████████████████████████████████████████████████▏                          | 402/513 [01:01<00:17,  6.45it/s, now=None]"
     ]
    },
    {
     "name": "stderr",
     "output_type": "stream",
     "text": [
      "\r\n",
      "t:  79%|█████████████████████████████████████████████████████████████████████████████████████████████████▍                          | 403/513 [01:02<00:15,  7.01it/s, now=None]"
     ]
    },
    {
     "name": "stderr",
     "output_type": "stream",
     "text": [
      "\r\n",
      "t:  79%|█████████████████████████████████████████████████████████████████████████████████████████████████▋                          | 404/513 [01:02<00:18,  5.94it/s, now=None]"
     ]
    },
    {
     "name": "stderr",
     "output_type": "stream",
     "text": [
      "\r\n",
      "t:  79%|█████████████████████████████████████████████████████████████████████████████████████████████████▉                          | 405/513 [01:02<00:16,  6.64it/s, now=None]"
     ]
    },
    {
     "name": "stderr",
     "output_type": "stream",
     "text": [
      "\r\n",
      "t:  79%|██████████████████████████████████████████████████████████████████████████████████████████████████▏                         | 406/513 [01:02<00:14,  7.25it/s, now=None]"
     ]
    },
    {
     "name": "stderr",
     "output_type": "stream",
     "text": [
      "\r\n",
      "t:  79%|██████████████████████████████████████████████████████████████████████████████████████████████████▍                         | 407/513 [01:02<00:17,  6.07it/s, now=None]"
     ]
    },
    {
     "name": "stderr",
     "output_type": "stream",
     "text": [
      "\r\n",
      "t:  80%|██████████████████████████████████████████████████████████████████████████████████████████████████▌                         | 408/513 [01:02<00:15,  6.72it/s, now=None]"
     ]
    },
    {
     "name": "stderr",
     "output_type": "stream",
     "text": [
      "\r\n",
      "t:  80%|██████████████████████████████████████████████████████████████████████████████████████████████████▊                         | 409/513 [01:02<00:14,  7.19it/s, now=None]"
     ]
    },
    {
     "name": "stderr",
     "output_type": "stream",
     "text": [
      "\r\n",
      "t:  80%|███████████████████████████████████████████████████████████████████████████████████████████████████                         | 410/513 [01:03<00:17,  6.02it/s, now=None]"
     ]
    },
    {
     "name": "stderr",
     "output_type": "stream",
     "text": [
      "\r\n",
      "t:  80%|███████████████████████████████████████████████████████████████████████████████████████████████████▎                        | 411/513 [01:03<00:15,  6.68it/s, now=None]"
     ]
    },
    {
     "name": "stderr",
     "output_type": "stream",
     "text": [
      "\r\n",
      "t:  80%|███████████████████████████████████████████████████████████████████████████████████████████████████▌                        | 412/513 [01:03<00:13,  7.23it/s, now=None]"
     ]
    },
    {
     "name": "stderr",
     "output_type": "stream",
     "text": [
      "\r\n",
      "t:  81%|███████████████████████████████████████████████████████████████████████████████████████████████████▊                        | 413/513 [01:03<00:16,  5.95it/s, now=None]"
     ]
    },
    {
     "name": "stderr",
     "output_type": "stream",
     "text": [
      "\r\n",
      "t:  81%|████████████████████████████████████████████████████████████████████████████████████████████████████                        | 414/513 [01:03<00:14,  6.66it/s, now=None]"
     ]
    },
    {
     "name": "stderr",
     "output_type": "stream",
     "text": [
      "\r\n",
      "t:  81%|████████████████████████████████████████████████████████████████████████████████████████████████████▎                       | 415/513 [01:03<00:14,  6.91it/s, now=None]"
     ]
    },
    {
     "name": "stderr",
     "output_type": "stream",
     "text": [
      "\r\n",
      "t:  81%|████████████████████████████████████████████████████████████████████████████████████████████████████▌                       | 416/513 [01:04<00:16,  5.82it/s, now=None]"
     ]
    },
    {
     "name": "stderr",
     "output_type": "stream",
     "text": [
      "\r\n",
      "t:  81%|████████████████████████████████████████████████████████████████████████████████████████████████████▊                       | 417/513 [01:04<00:14,  6.58it/s, now=None]"
     ]
    },
    {
     "name": "stderr",
     "output_type": "stream",
     "text": [
      "\r\n",
      "t:  81%|█████████████████████████████████████████████████████████████████████████████████████████████████████                       | 418/513 [01:04<00:13,  7.21it/s, now=None]"
     ]
    },
    {
     "name": "stderr",
     "output_type": "stream",
     "text": [
      "\r\n",
      "t:  82%|█████████████████████████████████████████████████████████████████████████████████████████████████████▎                      | 419/513 [01:04<00:15,  6.01it/s, now=None]"
     ]
    },
    {
     "name": "stderr",
     "output_type": "stream",
     "text": [
      "\r\n",
      "t:  82%|█████████████████████████████████████████████████████████████████████████████████████████████████████▌                      | 420/513 [01:04<00:13,  6.72it/s, now=None]"
     ]
    },
    {
     "name": "stderr",
     "output_type": "stream",
     "text": [
      "\r\n",
      "t:  82%|█████████████████████████████████████████████████████████████████████████████████████████████████████▊                      | 421/513 [01:04<00:12,  7.26it/s, now=None]"
     ]
    },
    {
     "name": "stderr",
     "output_type": "stream",
     "text": [
      "\r\n",
      "t:  82%|██████████████████████████████████████████████████████████████████████████████████████████████████████                      | 422/513 [01:05<00:15,  5.87it/s, now=None]"
     ]
    },
    {
     "name": "stderr",
     "output_type": "stream",
     "text": [
      "\r\n",
      "t:  82%|██████████████████████████████████████████████████████████████████████████████████████████████████████▏                     | 423/513 [01:05<00:13,  6.54it/s, now=None]"
     ]
    },
    {
     "name": "stderr",
     "output_type": "stream",
     "text": [
      "\r\n",
      "t:  83%|██████████████████████████████████████████████████████████████████████████████████████████████████████▍                     | 424/513 [01:05<00:12,  7.15it/s, now=None]"
     ]
    },
    {
     "name": "stderr",
     "output_type": "stream",
     "text": [
      "\r\n",
      "t:  83%|██████████████████████████████████████████████████████████████████████████████████████████████████████▋                     | 425/513 [01:05<00:14,  6.00it/s, now=None]"
     ]
    },
    {
     "name": "stderr",
     "output_type": "stream",
     "text": [
      "\r\n",
      "t:  83%|██████████████████████████████████████████████████████████████████████████████████████████████████████▉                     | 426/513 [01:05<00:13,  6.68it/s, now=None]"
     ]
    },
    {
     "name": "stderr",
     "output_type": "stream",
     "text": [
      "\r\n",
      "t:  83%|███████████████████████████████████████████████████████████████████████████████████████████████████████▏                    | 427/513 [01:05<00:11,  7.21it/s, now=None]"
     ]
    },
    {
     "name": "stderr",
     "output_type": "stream",
     "text": [
      "\r\n",
      "t:  83%|███████████████████████████████████████████████████████████████████████████████████████████████████████▍                    | 428/513 [01:05<00:14,  5.97it/s, now=None]"
     ]
    },
    {
     "name": "stderr",
     "output_type": "stream",
     "text": [
      "\r\n",
      "t:  84%|███████████████████████████████████████████████████████████████████████████████████████████████████████▋                    | 429/513 [01:06<00:12,  6.68it/s, now=None]"
     ]
    },
    {
     "name": "stderr",
     "output_type": "stream",
     "text": [
      "\r\n",
      "t:  84%|███████████████████████████████████████████████████████████████████████████████████████████████████████▉                    | 430/513 [01:06<00:11,  7.26it/s, now=None]"
     ]
    },
    {
     "name": "stderr",
     "output_type": "stream",
     "text": [
      "\r\n",
      "t:  84%|████████████████████████████████████████████████████████████████████████████████████████████████████████▏                   | 431/513 [01:06<00:13,  5.87it/s, now=None]"
     ]
    },
    {
     "name": "stderr",
     "output_type": "stream",
     "text": [
      "\r\n",
      "t:  84%|████████████████████████████████████████████████████████████████████████████████████████████████████████▍                   | 432/513 [01:06<00:12,  6.57it/s, now=None]"
     ]
    },
    {
     "name": "stderr",
     "output_type": "stream",
     "text": [
      "\r\n",
      "t:  84%|████████████████████████████████████████████████████████████████████████████████████████████████████████▋                   | 433/513 [01:06<00:11,  7.15it/s, now=None]"
     ]
    },
    {
     "name": "stderr",
     "output_type": "stream",
     "text": [
      "\r\n",
      "t:  85%|████████████████████████████████████████████████████████████████████████████████████████████████████████▉                   | 434/513 [01:06<00:13,  5.81it/s, now=None]"
     ]
    },
    {
     "name": "stderr",
     "output_type": "stream",
     "text": [
      "\r\n",
      "t:  85%|█████████████████████████████████████████████████████████████████████████████████████████████████████████▏                  | 435/513 [01:06<00:12,  6.47it/s, now=None]"
     ]
    },
    {
     "name": "stderr",
     "output_type": "stream",
     "text": [
      "\r\n",
      "t:  85%|█████████████████████████████████████████████████████████████████████████████████████████████████████████▍                  | 436/513 [01:07<00:10,  7.10it/s, now=None]"
     ]
    },
    {
     "name": "stderr",
     "output_type": "stream",
     "text": [
      "\r\n",
      "t:  85%|█████████████████████████████████████████████████████████████████████████████████████████████████████████▋                  | 437/513 [01:07<00:12,  5.96it/s, now=None]"
     ]
    },
    {
     "name": "stderr",
     "output_type": "stream",
     "text": [
      "\r\n",
      "t:  85%|█████████████████████████████████████████████████████████████████████████████████████████████████████████▊                  | 438/513 [01:07<00:11,  6.67it/s, now=None]"
     ]
    },
    {
     "name": "stderr",
     "output_type": "stream",
     "text": [
      "\r\n",
      "t:  86%|██████████████████████████████████████████████████████████████████████████████████████████████████████████                  | 439/513 [01:07<00:10,  7.15it/s, now=None]"
     ]
    },
    {
     "name": "stderr",
     "output_type": "stream",
     "text": [
      "\r\n",
      "t:  86%|██████████████████████████████████████████████████████████████████████████████████████████████████████████▎                 | 440/513 [01:07<00:12,  5.93it/s, now=None]"
     ]
    },
    {
     "name": "stderr",
     "output_type": "stream",
     "text": [
      "\r\n",
      "t:  86%|██████████████████████████████████████████████████████████████████████████████████████████████████████████▌                 | 441/513 [01:07<00:11,  6.39it/s, now=None]"
     ]
    },
    {
     "name": "stderr",
     "output_type": "stream",
     "text": [
      "\r\n",
      "t:  86%|██████████████████████████████████████████████████████████████████████████████████████████████████████████▊                 | 442/513 [01:08<00:10,  7.00it/s, now=None]"
     ]
    },
    {
     "name": "stderr",
     "output_type": "stream",
     "text": [
      "\r\n",
      "t:  86%|███████████████████████████████████████████████████████████████████████████████████████████████████████████                 | 443/513 [01:08<00:11,  5.95it/s, now=None]"
     ]
    },
    {
     "name": "stderr",
     "output_type": "stream",
     "text": [
      "\r\n",
      "t:  87%|███████████████████████████████████████████████████████████████████████████████████████████████████████████▎                | 444/513 [01:08<00:10,  6.65it/s, now=None]"
     ]
    },
    {
     "name": "stderr",
     "output_type": "stream",
     "text": [
      "\r\n",
      "t:  87%|███████████████████████████████████████████████████████████████████████████████████████████████████████████▌                | 445/513 [01:08<00:09,  7.22it/s, now=None]"
     ]
    },
    {
     "name": "stderr",
     "output_type": "stream",
     "text": [
      "\r\n",
      "t:  87%|███████████████████████████████████████████████████████████████████████████████████████████████████████████▊                | 446/513 [01:08<00:11,  6.03it/s, now=None]"
     ]
    },
    {
     "name": "stderr",
     "output_type": "stream",
     "text": [
      "\r\n",
      "t:  87%|████████████████████████████████████████████████████████████████████████████████████████████████████████████                | 447/513 [01:08<00:09,  6.67it/s, now=None]"
     ]
    },
    {
     "name": "stderr",
     "output_type": "stream",
     "text": [
      "\r\n",
      "t:  87%|████████████████████████████████████████████████████████████████████████████████████████████████████████████▎               | 448/513 [01:08<00:09,  7.04it/s, now=None]"
     ]
    },
    {
     "name": "stderr",
     "output_type": "stream",
     "text": [
      "\r\n",
      "t:  88%|████████████████████████████████████████████████████████████████████████████████████████████████████████████▌               | 449/513 [01:09<00:10,  5.89it/s, now=None]"
     ]
    },
    {
     "name": "stderr",
     "output_type": "stream",
     "text": [
      "\r\n",
      "t:  88%|████████████████████████████████████████████████████████████████████████████████████████████████████████████▊               | 450/513 [01:09<00:09,  6.59it/s, now=None]"
     ]
    },
    {
     "name": "stderr",
     "output_type": "stream",
     "text": [
      "\r\n",
      "t:  88%|█████████████████████████████████████████████████████████████████████████████████████████████████████████████               | 451/513 [01:09<00:08,  7.13it/s, now=None]"
     ]
    },
    {
     "name": "stderr",
     "output_type": "stream",
     "text": [
      "\r\n",
      "t:  88%|█████████████████████████████████████████████████████████████████████████████████████████████████████████████▎              | 452/513 [01:09<00:10,  6.01it/s, now=None]"
     ]
    },
    {
     "name": "stderr",
     "output_type": "stream",
     "text": [
      "\r\n",
      "t:  88%|█████████████████████████████████████████████████████████████████████████████████████████████████████████████▍              | 453/513 [01:09<00:08,  6.70it/s, now=None]"
     ]
    },
    {
     "name": "stderr",
     "output_type": "stream",
     "text": [
      "\r\n",
      "t:  88%|█████████████████████████████████████████████████████████████████████████████████████████████████████████████▋              | 454/513 [01:09<00:08,  7.17it/s, now=None]"
     ]
    },
    {
     "name": "stderr",
     "output_type": "stream",
     "text": [
      "\r\n",
      "t:  89%|█████████████████████████████████████████████████████████████████████████████████████████████████████████████▉              | 455/513 [01:10<00:09,  5.87it/s, now=None]"
     ]
    },
    {
     "name": "stderr",
     "output_type": "stream",
     "text": [
      "\r\n",
      "t:  89%|██████████████████████████████████████████████████████████████████████████████████████████████████████████████▏             | 456/513 [01:10<00:08,  6.60it/s, now=None]"
     ]
    },
    {
     "name": "stderr",
     "output_type": "stream",
     "text": [
      "\r\n",
      "t:  89%|██████████████████████████████████████████████████████████████████████████████████████████████████████████████▍             | 457/513 [01:10<00:07,  7.21it/s, now=None]"
     ]
    },
    {
     "name": "stderr",
     "output_type": "stream",
     "text": [
      "\r\n",
      "t:  89%|██████████████████████████████████████████████████████████████████████████████████████████████████████████████▋             | 458/513 [01:10<00:09,  6.02it/s, now=None]"
     ]
    },
    {
     "name": "stderr",
     "output_type": "stream",
     "text": [
      "\r\n",
      "t:  89%|██████████████████████████████████████████████████████████████████████████████████████████████████████████████▉             | 459/513 [01:10<00:08,  6.65it/s, now=None]"
     ]
    },
    {
     "name": "stderr",
     "output_type": "stream",
     "text": [
      "\r\n",
      "t:  90%|███████████████████████████████████████████████████████████████████████████████████████████████████████████████▏            | 460/513 [01:10<00:07,  7.23it/s, now=None]"
     ]
    },
    {
     "name": "stderr",
     "output_type": "stream",
     "text": [
      "\r\n",
      "t:  90%|███████████████████████████████████████████████████████████████████████████████████████████████████████████████▍            | 461/513 [01:10<00:08,  5.91it/s, now=None]"
     ]
    },
    {
     "name": "stderr",
     "output_type": "stream",
     "text": [
      "\r\n",
      "t:  90%|███████████████████████████████████████████████████████████████████████████████████████████████████████████████▋            | 462/513 [01:11<00:07,  6.64it/s, now=None]"
     ]
    },
    {
     "name": "stderr",
     "output_type": "stream",
     "text": [
      "\r\n",
      "t:  90%|███████████████████████████████████████████████████████████████████████████████████████████████████████████████▉            | 463/513 [01:11<00:06,  7.18it/s, now=None]"
     ]
    },
    {
     "name": "stderr",
     "output_type": "stream",
     "text": [
      "\r\n",
      "t:  90%|████████████████████████████████████████████████████████████████████████████████████████████████████████████████▏           | 464/513 [01:11<00:08,  5.95it/s, now=None]"
     ]
    },
    {
     "name": "stderr",
     "output_type": "stream",
     "text": [
      "\r\n",
      "t:  91%|████████████████████████████████████████████████████████████████████████████████████████████████████████████████▍           | 465/513 [01:11<00:07,  6.62it/s, now=None]"
     ]
    },
    {
     "name": "stderr",
     "output_type": "stream",
     "text": [
      "\r\n",
      "t:  91%|████████████████████████████████████████████████████████████████████████████████████████████████████████████████▋           | 466/513 [01:11<00:06,  7.17it/s, now=None]"
     ]
    },
    {
     "name": "stderr",
     "output_type": "stream",
     "text": [
      "\r\n",
      "t:  91%|████████████████████████████████████████████████████████████████████████████████████████████████████████████████▉           | 467/513 [01:11<00:07,  5.88it/s, now=None]"
     ]
    },
    {
     "name": "stderr",
     "output_type": "stream",
     "text": [
      "\r\n",
      "t:  91%|█████████████████████████████████████████████████████████████████████████████████████████████████████████████████           | 468/513 [01:12<00:06,  6.59it/s, now=None]"
     ]
    },
    {
     "name": "stderr",
     "output_type": "stream",
     "text": [
      "\r\n",
      "t:  91%|█████████████████████████████████████████████████████████████████████████████████████████████████████████████████▎          | 469/513 [01:12<00:06,  7.16it/s, now=None]"
     ]
    },
    {
     "name": "stderr",
     "output_type": "stream",
     "text": [
      "\r\n",
      "t:  92%|█████████████████████████████████████████████████████████████████████████████████████████████████████████████████▌          | 470/513 [01:12<00:07,  5.99it/s, now=None]"
     ]
    },
    {
     "name": "stderr",
     "output_type": "stream",
     "text": [
      "\r\n",
      "t:  92%|█████████████████████████████████████████████████████████████████████████████████████████████████████████████████▊          | 471/513 [01:12<00:06,  6.65it/s, now=None]"
     ]
    },
    {
     "name": "stderr",
     "output_type": "stream",
     "text": [
      "\r\n",
      "t:  92%|██████████████████████████████████████████████████████████████████████████████████████████████████████████████████          | 472/513 [01:12<00:05,  7.24it/s, now=None]"
     ]
    },
    {
     "name": "stderr",
     "output_type": "stream",
     "text": [
      "\r\n",
      "t:  92%|██████████████████████████████████████████████████████████████████████████████████████████████████████████████████▎         | 473/513 [01:12<00:06,  5.92it/s, now=None]"
     ]
    },
    {
     "name": "stderr",
     "output_type": "stream",
     "text": [
      "\r\n",
      "t:  92%|██████████████████████████████████████████████████████████████████████████████████████████████████████████████████▌         | 474/513 [01:12<00:05,  6.52it/s, now=None]"
     ]
    },
    {
     "name": "stderr",
     "output_type": "stream",
     "text": [
      "\r\n",
      "t:  93%|██████████████████████████████████████████████████████████████████████████████████████████████████████████████████▊         | 475/513 [01:13<00:05,  7.09it/s, now=None]"
     ]
    },
    {
     "name": "stderr",
     "output_type": "stream",
     "text": [
      "\r\n",
      "t:  93%|███████████████████████████████████████████████████████████████████████████████████████████████████████████████████         | 476/513 [01:13<00:06,  6.00it/s, now=None]"
     ]
    },
    {
     "name": "stderr",
     "output_type": "stream",
     "text": [
      "\r\n",
      "t:  93%|███████████████████████████████████████████████████████████████████████████████████████████████████████████████████▎        | 477/513 [01:13<00:05,  6.75it/s, now=None]"
     ]
    },
    {
     "name": "stderr",
     "output_type": "stream",
     "text": [
      "\r\n",
      "t:  93%|███████████████████████████████████████████████████████████████████████████████████████████████████████████████████▌        | 478/513 [01:13<00:04,  7.36it/s, now=None]"
     ]
    },
    {
     "name": "stderr",
     "output_type": "stream",
     "text": [
      "\r\n",
      "t:  93%|███████████████████████████████████████████████████████████████████████████████████████████████████████████████████▊        | 479/513 [01:13<00:05,  6.04it/s, now=None]"
     ]
    },
    {
     "name": "stderr",
     "output_type": "stream",
     "text": [
      "\r\n",
      "t:  94%|████████████████████████████████████████████████████████████████████████████████████████████████████████████████████        | 480/513 [01:13<00:05,  6.59it/s, now=None]"
     ]
    },
    {
     "name": "stderr",
     "output_type": "stream",
     "text": [
      "\r\n",
      "t:  94%|████████████████████████████████████████████████████████████████████████████████████████████████████████████████████▎       | 481/513 [01:13<00:04,  7.13it/s, now=None]"
     ]
    },
    {
     "name": "stderr",
     "output_type": "stream",
     "text": [
      "\r\n",
      "t:  94%|████████████████████████████████████████████████████████████████████████████████████████████████████████████████████▌       | 482/513 [01:14<00:05,  5.96it/s, now=None]"
     ]
    },
    {
     "name": "stderr",
     "output_type": "stream",
     "text": [
      "\r\n",
      "t:  94%|████████████████████████████████████████████████████████████████████████████████████████████████████████████████████▋       | 483/513 [01:14<00:04,  6.63it/s, now=None]"
     ]
    },
    {
     "name": "stderr",
     "output_type": "stream",
     "text": [
      "\r\n",
      "t:  94%|████████████████████████████████████████████████████████████████████████████████████████████████████████████████████▉       | 484/513 [01:14<00:04,  7.22it/s, now=None]"
     ]
    },
    {
     "name": "stderr",
     "output_type": "stream",
     "text": [
      "\r\n",
      "t:  95%|█████████████████████████████████████████████████████████████████████████████████████████████████████████████████████▏      | 485/513 [01:14<00:04,  6.05it/s, now=None]"
     ]
    },
    {
     "name": "stderr",
     "output_type": "stream",
     "text": [
      "\r\n",
      "t:  95%|█████████████████████████████████████████████████████████████████████████████████████████████████████████████████████▍      | 486/513 [01:14<00:04,  6.73it/s, now=None]"
     ]
    },
    {
     "name": "stderr",
     "output_type": "stream",
     "text": [
      "\r\n",
      "t:  95%|█████████████████████████████████████████████████████████████████████████████████████████████████████████████████████▋      | 487/513 [01:14<00:03,  6.96it/s, now=None]"
     ]
    },
    {
     "name": "stderr",
     "output_type": "stream",
     "text": [
      "\r\n",
      "t:  95%|█████████████████████████████████████████████████████████████████████████████████████████████████████████████████████▉      | 488/513 [01:15<00:04,  5.89it/s, now=None]"
     ]
    },
    {
     "name": "stderr",
     "output_type": "stream",
     "text": [
      "\r\n",
      "t:  95%|██████████████████████████████████████████████████████████████████████████████████████████████████████████████████████▏     | 489/513 [01:15<00:03,  6.59it/s, now=None]"
     ]
    },
    {
     "name": "stderr",
     "output_type": "stream",
     "text": [
      "\r\n",
      "t:  96%|██████████████████████████████████████████████████████████████████████████████████████████████████████████████████████▍     | 490/513 [01:15<00:03,  7.19it/s, now=None]"
     ]
    },
    {
     "name": "stderr",
     "output_type": "stream",
     "text": [
      "\r\n",
      "t:  96%|██████████████████████████████████████████████████████████████████████████████████████████████████████████████████████▋     | 491/513 [01:15<00:03,  6.06it/s, now=None]"
     ]
    },
    {
     "name": "stderr",
     "output_type": "stream",
     "text": [
      "\r\n",
      "t:  96%|██████████████████████████████████████████████████████████████████████████████████████████████████████████████████████▉     | 492/513 [01:15<00:03,  6.77it/s, now=None]"
     ]
    },
    {
     "name": "stderr",
     "output_type": "stream",
     "text": [
      "\r\n",
      "t:  96%|███████████████████████████████████████████████████████████████████████████████████████████████████████████████████████▏    | 493/513 [01:15<00:02,  7.31it/s, now=None]"
     ]
    },
    {
     "name": "stderr",
     "output_type": "stream",
     "text": [
      "\r\n",
      "t:  96%|███████████████████████████████████████████████████████████████████████████████████████████████████████████████████████▍    | 494/513 [01:16<00:03,  5.98it/s, now=None]"
     ]
    },
    {
     "name": "stderr",
     "output_type": "stream",
     "text": [
      "\r\n",
      "t:  96%|███████████████████████████████████████████████████████████████████████████████████████████████████████████████████████▋    | 495/513 [01:16<00:02,  6.64it/s, now=None]"
     ]
    },
    {
     "name": "stderr",
     "output_type": "stream",
     "text": [
      "\r\n",
      "t:  97%|███████████████████████████████████████████████████████████████████████████████████████████████████████████████████████▉    | 496/513 [01:16<00:02,  7.25it/s, now=None]"
     ]
    },
    {
     "name": "stderr",
     "output_type": "stream",
     "text": [
      "\r\n",
      "t:  97%|████████████████████████████████████████████████████████████████████████████████████████████████████████████████████████▏   | 497/513 [01:16<00:02,  5.99it/s, now=None]"
     ]
    },
    {
     "name": "stderr",
     "output_type": "stream",
     "text": [
      "\r\n",
      "t:  97%|████████████████████████████████████████████████████████████████████████████████████████████████████████████████████████▎   | 498/513 [01:16<00:02,  6.67it/s, now=None]"
     ]
    },
    {
     "name": "stderr",
     "output_type": "stream",
     "text": [
      "\r\n",
      "t:  97%|████████████████████████████████████████████████████████████████████████████████████████████████████████████████████████▌   | 499/513 [01:16<00:01,  7.19it/s, now=None]"
     ]
    },
    {
     "name": "stderr",
     "output_type": "stream",
     "text": [
      "\r\n",
      "t:  97%|████████████████████████████████████████████████████████████████████████████████████████████████████████████████████████▊   | 500/513 [01:16<00:02,  5.98it/s, now=None]"
     ]
    },
    {
     "name": "stderr",
     "output_type": "stream",
     "text": [
      "\r\n",
      "t:  98%|█████████████████████████████████████████████████████████████████████████████████████████████████████████████████████████   | 501/513 [01:17<00:01,  6.71it/s, now=None]"
     ]
    },
    {
     "name": "stderr",
     "output_type": "stream",
     "text": [
      "\r\n",
      "t:  98%|█████████████████████████████████████████████████████████████████████████████████████████████████████████████████████████▎  | 502/513 [01:17<00:01,  7.27it/s, now=None]"
     ]
    },
    {
     "name": "stderr",
     "output_type": "stream",
     "text": [
      "\r\n",
      "t:  98%|█████████████████████████████████████████████████████████████████████████████████████████████████████████████████████████▌  | 503/513 [01:17<00:01,  6.07it/s, now=None]"
     ]
    },
    {
     "name": "stderr",
     "output_type": "stream",
     "text": [
      "\r\n",
      "t:  98%|█████████████████████████████████████████████████████████████████████████████████████████████████████████████████████████▊  | 504/513 [01:17<00:01,  6.77it/s, now=None]"
     ]
    },
    {
     "name": "stderr",
     "output_type": "stream",
     "text": [
      "\r\n",
      "t:  98%|██████████████████████████████████████████████████████████████████████████████████████████████████████████████████████████  | 505/513 [01:17<00:01,  7.32it/s, now=None]"
     ]
    },
    {
     "name": "stderr",
     "output_type": "stream",
     "text": [
      "\r\n",
      "t:  99%|██████████████████████████████████████████████████████████████████████████████████████████████████████████████████████████▎ | 506/513 [01:17<00:01,  6.03it/s, now=None]"
     ]
    },
    {
     "name": "stderr",
     "output_type": "stream",
     "text": [
      "\r\n",
      "t:  99%|██████████████████████████████████████████████████████████████████████████████████████████████████████████████████████████▌ | 507/513 [01:17<00:00,  6.47it/s, now=None]"
     ]
    },
    {
     "name": "stderr",
     "output_type": "stream",
     "text": [
      "\r\n",
      "t:  99%|██████████████████████████████████████████████████████████████████████████████████████████████████████████████████████████▊ | 508/513 [01:18<00:00,  7.10it/s, now=None]"
     ]
    },
    {
     "name": "stderr",
     "output_type": "stream",
     "text": [
      "\r\n",
      "t:  99%|███████████████████████████████████████████████████████████████████████████████████████████████████████████████████████████ | 509/513 [01:18<00:00,  5.95it/s, now=None]"
     ]
    },
    {
     "name": "stderr",
     "output_type": "stream",
     "text": [
      "\r\n",
      "t:  99%|███████████████████████████████████████████████████████████████████████████████████████████████████████████████████████████▎| 510/513 [01:18<00:00,  6.69it/s, now=None]"
     ]
    },
    {
     "name": "stderr",
     "output_type": "stream",
     "text": [
      "\r\n",
      "t: 100%|███████████████████████████████████████████████████████████████████████████████████████████████████████████████████████████▌| 511/513 [01:18<00:00,  7.22it/s, now=None]"
     ]
    },
    {
     "name": "stderr",
     "output_type": "stream",
     "text": [
      "\r\n",
      "t: 100%|███████████████████████████████████████████████████████████████████████████████████████████████████████████████████████████▊| 512/513 [01:18<00:00,  6.02it/s, now=None]"
     ]
    },
    {
     "name": "stderr",
     "output_type": "stream",
     "text": [
      "\r\n",
      "t: 100%|████████████████████████████████████████████████████████████████████████████████████████████████████████████████████████████| 513/513 [01:18<00:00,  6.56it/s, now=None]"
     ]
    },
    {
     "name": "stderr",
     "output_type": "stream",
     "text": [
      "\r\n",
      "                                                                                                                                                                                "
     ]
    },
    {
     "name": "stderr",
     "output_type": "stream",
     "text": [
      "\r"
     ]
    },
    {
     "name": "stdout",
     "output_type": "stream",
     "text": [
      "Moviepy - Done !\n",
      "Moviepy - video ready outputs_new/global/SVM/probability_animation.mp4\n"
     ]
    }
   ],
   "source": [
    "for algorithm in (\"PU\", \"SVM\"):\n",
    "    output_filename = os.path.join(\n",
    "        output_dir,\n",
    "        algorithm,\n",
    "        \"probability_animation.mp4\",\n",
    "    )\n",
    "    probs_dir = os.path.join(output_dir, algorithm, \"probability_grids\")\n",
    "\n",
    "    # Create all plots\n",
    "    with tempfile.TemporaryDirectory() as tmpdir, \\\n",
    "            Parallel(n_jobs=n_jobs, verbose=int(verbose)) as parallel:\n",
    "\n",
    "        output_filenames = [\n",
    "            os.path.join(tmpdir, f\"image_{t:0.0f}Ma.png\")\n",
    "            for t in times\n",
    "        ]\n",
    "        parallel(\n",
    "            delayed(plot)(\n",
    "                gplot=gplot,\n",
    "                probabilities=os.path.join(\n",
    "                    probs_dir,\n",
    "                    f\"probability_grid_{t:0.0f}Ma.nc\",\n",
    "                ),\n",
    "                projection=projection,\n",
    "                time=t,\n",
    "                positives=positives,\n",
    "                output_filename=o,\n",
    "                central_meridian=lon_0,\n",
    "                imshow_kwargs=imshow_kwargs,\n",
    "            )\n",
    "            for t, o in zip(times, output_filenames)\n",
    "        )\n",
    "        create_animation(\n",
    "            image_filenames=output_filenames[::-1],  # reverse order of frames (forward in time)\n",
    "            output_filename=output_filename,\n",
    "            fps=10,  # framerate of output video\n",
    "            bitrate=\"5000k\",\n",
    "        )"
   ]
  },
  {
   "cell_type": "code",
   "execution_count": null,
   "id": "d96ff8a7",
   "metadata": {
    "papermill": {
     "duration": 0.039425,
     "end_time": "2024-06-15T02:24:30.523073",
     "exception": false,
     "start_time": "2024-06-15T02:24:30.483648",
     "status": "completed"
    },
    "tags": []
   },
   "outputs": [],
   "source": []
  }
 ],
 "metadata": {
  "kernelspec": {
   "display_name": "datamining",
   "language": "python",
   "name": "python3"
  },
  "language_info": {
   "codemirror_mode": {
    "name": "ipython",
    "version": 3
   },
   "file_extension": ".py",
   "mimetype": "text/x-python",
   "name": "python",
   "nbconvert_exporter": "python",
   "pygments_lexer": "ipython3",
   "version": "3.11.7"
  },
  "papermill": {
   "default_parameters": {},
   "duration": 1261.623136,
   "end_time": "2024-06-15T02:24:33.574619",
   "environment_variables": {},
   "exception": null,
   "input_path": "03a-create_probability_animations_global copy.ipynb",
   "output_path": "03a-create_probability_animations_global copy.ipynb",
   "parameters": {},
   "start_time": "2024-06-15T02:03:31.951483",
   "version": "2.4.0"
  }
 },
 "nbformat": 4,
 "nbformat_minor": 5
}
