{
 "cells": [
  {
   "cell_type": "code",
   "execution_count": 1,
   "id": "7064cd0e",
   "metadata": {
    "execution": {
     "iopub.execute_input": "2024-02-02T03:48:21.441820Z",
     "iopub.status.busy": "2024-02-02T03:48:21.441667Z",
     "iopub.status.idle": "2024-02-02T03:48:23.212572Z",
     "shell.execute_reply": "2024-02-02T03:48:23.211829Z"
    },
    "papermill": {
     "duration": 1.778325,
     "end_time": "2024-02-02T03:48:23.214220",
     "exception": false,
     "start_time": "2024-02-02T03:48:21.435895",
     "status": "completed"
    },
    "tags": []
   },
   "outputs": [
    {
     "name": "stdout",
     "output_type": "stream",
     "text": [
      "env: PYTHONWARNINGS=ignore::UserWarning\n"
     ]
    }
   ],
   "source": [
    "import glob\n",
    "import os\n",
    "import warnings\n",
    "\n",
    "import pandas as pd\n",
    "from gplately.tools import plate_isotherm_depth\n",
    "\n",
    "from lib.check_files import (\n",
    "    check_plate_model,\n",
    "    check_source_data,\n",
    ")\n",
    "from lib.coregister_combined_point_data import run_coregister_combined_point_data\n",
    "from lib.coregister_crustal_thickness import run_coregister_crustal_thickness\n",
    "from lib.coregister_magnetic import coregister_magnetic\n",
    "from lib.erodep import calculate_erodep\n",
    "from lib.misc import (\n",
    "    calculate_slab_flux,\n",
    "    # calculate_water_thickness,\n",
    ")\n",
    "from lib.pu import generate_grid_points\n",
    "from lib.slab_dip import calculate_slab_dip\n",
    "from lib.water import calculate_water_thickness\n",
    "\n",
    "# Suppress occasional joblib warnings\n",
    "%env PYTHONWARNINGS=ignore::UserWarning\n",
    "\n",
    "warnings.simplefilter(\"ignore\", UserWarning)\n"
   ]
  },
  {
   "cell_type": "code",
   "execution_count": 2,
   "id": "b9df0e9a",
   "metadata": {
    "execution": {
     "iopub.execute_input": "2024-02-02T03:48:23.224748Z",
     "iopub.status.busy": "2024-02-02T03:48:23.224541Z",
     "iopub.status.idle": "2024-02-02T03:48:23.228100Z",
     "shell.execute_reply": "2024-02-02T03:48:23.227616Z"
    },
    "papermill": {
     "duration": 0.009805,
     "end_time": "2024-02-02T03:48:23.229044",
     "exception": false,
     "start_time": "2024-02-02T03:48:23.219239",
     "status": "completed"
    },
    "tags": []
   },
   "outputs": [],
   "source": [
    "n_jobs = int(os.environ.get(\"N_JOBS\", 8))\n",
    "times = range(171)\n",
    "verbose = bool(int(os.environ.get(\"VERBOSE\", 0)))\n",
    "\n",
    "grid_resolution = 0.5  # degrees\n"
   ]
  },
  {
   "cell_type": "code",
   "execution_count": 3,
   "id": "77b83aff",
   "metadata": {
    "execution": {
     "iopub.execute_input": "2024-02-02T03:48:23.234835Z",
     "iopub.status.busy": "2024-02-02T03:48:23.234680Z",
     "iopub.status.idle": "2024-02-02T03:48:23.242147Z",
     "shell.execute_reply": "2024-02-02T03:48:23.241570Z"
    },
    "papermill": {
     "duration": 0.011472,
     "end_time": "2024-02-02T03:48:23.243123",
     "exception": false,
     "start_time": "2024-02-02T03:48:23.231651",
     "status": "completed"
    },
    "tags": []
   },
   "outputs": [],
   "source": [
    "model_dir = \"plate_model\"\n",
    "check_plate_model(model_dir, verbose=verbose)\n",
    "\n",
    "data_dir = \"source_data\"\n",
    "check_source_data(data_dir, verbose=verbose)\n",
    "agegrid_dir = os.path.join(data_dir, \"AgeGrids\")\n",
    "sedthick_dir = os.path.join(data_dir, \"SedimentThickness\")\n",
    "carbonate_dir = os.path.join(data_dir, \"CarbonateThickness\")\n",
    "co2_dir = os.path.join(data_dir, \"CrustalCO2\")\n",
    "crustal_thickness_dir = os.path.join(data_dir, \"CrustalThickness\")\n",
    "mag_anomaly_filename = os.path.join(\n",
    "    data_dir,\n",
    "    \"MagneticAnomaly\",\n",
    "    \"emag2_upcont_interpolated.nc\",\n",
    ")\n",
    "subducted_quantities_dir = os.path.join(\n",
    "    data_dir,\n",
    "    \"SubductedQuantities\",\n",
    ")\n",
    "erodep_dir = os.path.join(data_dir, \"ErosionDeposition\")\n",
    "\n",
    "output_dir = \"extracted_data\"\n",
    "os.makedirs(output_dir, exist_ok=True)\n",
    "subduction_data_filename = os.path.join(output_dir, \"subducting_plate_data.csv\")\n",
    "study_area_dir = os.path.join(output_dir, \"study_area_polygons\")\n",
    "grid_filename = None\n",
    "coregistered_filename = None\n",
    "output_filename = os.path.join(output_dir, \"grid_data.csv\")\n",
    "\n",
    "feature_filenames = glob.glob(\n",
    "    os.path.join(\n",
    "        model_dir,\n",
    "        \"*.gpml\",\n",
    "    )\n",
    ")\n",
    "rotation_filenames = glob.glob(\n",
    "    os.path.join(\n",
    "        model_dir,\n",
    "        \"*.rot\",\n",
    "    )\n",
    ")\n"
   ]
  },
  {
   "attachments": {},
   "cell_type": "markdown",
   "id": "eb746f63",
   "metadata": {
    "papermill": {
     "duration": 0.002464,
     "end_time": "2024-02-02T03:48:23.248325",
     "exception": false,
     "start_time": "2024-02-02T03:48:23.245861",
     "status": "completed"
    },
    "tags": []
   },
   "source": [
    "### Generate grid points"
   ]
  },
  {
   "cell_type": "code",
   "execution_count": 4,
   "id": "c7415048",
   "metadata": {
    "execution": {
     "iopub.execute_input": "2024-02-02T03:48:23.253919Z",
     "iopub.status.busy": "2024-02-02T03:48:23.253762Z",
     "iopub.status.idle": "2024-02-02T04:00:46.334243Z",
     "shell.execute_reply": "2024-02-02T04:00:46.333504Z"
    },
    "papermill": {
     "duration": 743.085753,
     "end_time": "2024-02-02T04:00:46.336486",
     "exception": false,
     "start_time": "2024-02-02T03:48:23.250733",
     "status": "completed"
    },
    "tags": []
   },
   "outputs": [],
   "source": [
    "grid_data = generate_grid_points(\n",
    "    times=times,\n",
    "    resolution=grid_resolution,\n",
    "    polygons_dir=study_area_dir,\n",
    "    topological_features=feature_filenames,\n",
    "    rotation_model=rotation_filenames,\n",
    "    n_jobs=n_jobs,\n",
    "    verbose=verbose,\n",
    ")\n"
   ]
  },
  {
   "cell_type": "code",
   "execution_count": 5,
   "id": "42851c3c",
   "metadata": {
    "execution": {
     "iopub.execute_input": "2024-02-02T04:00:46.346552Z",
     "iopub.status.busy": "2024-02-02T04:00:46.346382Z",
     "iopub.status.idle": "2024-02-02T04:00:46.349677Z",
     "shell.execute_reply": "2024-02-02T04:00:46.349141Z"
    },
    "papermill": {
     "duration": 0.00981,
     "end_time": "2024-02-02T04:00:46.351127",
     "exception": false,
     "start_time": "2024-02-02T04:00:46.341317",
     "status": "completed"
    },
    "tags": []
   },
   "outputs": [],
   "source": [
    "if grid_filename is not None:\n",
    "    grid_data.to_csv(grid_filename, index=False)\n"
   ]
  },
  {
   "attachments": {},
   "cell_type": "markdown",
   "id": "0e2ba866",
   "metadata": {
    "papermill": {
     "duration": 0.003992,
     "end_time": "2024-02-02T04:00:46.359243",
     "exception": false,
     "start_time": "2024-02-02T04:00:46.355251",
     "status": "completed"
    },
    "tags": []
   },
   "source": [
    "### Load subduction data"
   ]
  },
  {
   "cell_type": "code",
   "execution_count": 6,
   "id": "7c03c5a2",
   "metadata": {
    "execution": {
     "iopub.execute_input": "2024-02-02T04:00:46.368101Z",
     "iopub.status.busy": "2024-02-02T04:00:46.367950Z",
     "iopub.status.idle": "2024-02-02T04:01:19.620305Z",
     "shell.execute_reply": "2024-02-02T04:01:19.619676Z"
    },
    "papermill": {
     "duration": 33.258942,
     "end_time": "2024-02-02T04:01:19.622325",
     "exception": false,
     "start_time": "2024-02-02T04:00:46.363383",
     "status": "completed"
    },
    "tags": []
   },
   "outputs": [],
   "source": [
    "subduction_data = pd.read_csv(subduction_data_filename)\n",
    "subduction_data[\"plate_thickness (m)\"] = plate_isotherm_depth(\n",
    "    subduction_data[\"seafloor_age (Ma)\"],\n",
    "    maxiter=100,\n",
    ")\n",
    "subduction_data = calculate_water_thickness(data=subduction_data)\n",
    "subduction_data = calculate_slab_flux(subduction_data)\n",
    "subduction_data = calculate_slab_dip(subduction_data)\n"
   ]
  },
  {
   "attachments": {},
   "cell_type": "markdown",
   "id": "cafffa14",
   "metadata": {
    "papermill": {
     "duration": 0.004087,
     "end_time": "2024-02-02T04:01:19.631033",
     "exception": false,
     "start_time": "2024-02-02T04:01:19.626946",
     "status": "completed"
    },
    "tags": []
   },
   "source": [
    "### Assign subduction data to grid"
   ]
  },
  {
   "cell_type": "code",
   "execution_count": 7,
   "id": "fbadac30",
   "metadata": {
    "execution": {
     "iopub.execute_input": "2024-02-02T04:01:19.640034Z",
     "iopub.status.busy": "2024-02-02T04:01:19.639878Z",
     "iopub.status.idle": "2024-02-02T04:05:05.738324Z",
     "shell.execute_reply": "2024-02-02T04:05:05.737368Z"
    },
    "papermill": {
     "duration": 226.105267,
     "end_time": "2024-02-02T04:05:05.740282",
     "exception": false,
     "start_time": "2024-02-02T04:01:19.635015",
     "status": "completed"
    },
    "tags": []
   },
   "outputs": [],
   "source": [
    "coregistered_data = run_coregister_combined_point_data(\n",
    "    point_data=grid_data,\n",
    "    subduction_data=subduction_data,\n",
    "    n_jobs=n_jobs,\n",
    "    verbose=verbose,\n",
    "    output_filename=coregistered_filename,\n",
    ")\n"
   ]
  },
  {
   "attachments": {},
   "cell_type": "markdown",
   "id": "6c7067fe",
   "metadata": {
    "papermill": {
     "duration": 0.00402,
     "end_time": "2024-02-02T04:05:05.749000",
     "exception": false,
     "start_time": "2024-02-02T04:05:05.744980",
     "status": "completed"
    },
    "tags": []
   },
   "source": [
    "### Assign magnetic anomaly and crustal thickness data to grid"
   ]
  },
  {
   "cell_type": "code",
   "execution_count": 8,
   "id": "317048a8",
   "metadata": {
    "execution": {
     "iopub.execute_input": "2024-02-02T04:05:05.758504Z",
     "iopub.status.busy": "2024-02-02T04:05:05.758290Z",
     "iopub.status.idle": "2024-02-02T04:16:36.233874Z",
     "shell.execute_reply": "2024-02-02T04:16:36.233089Z"
    },
    "papermill": {
     "duration": 690.482762,
     "end_time": "2024-02-02T04:16:36.235792",
     "exception": false,
     "start_time": "2024-02-02T04:05:05.753030",
     "status": "completed"
    },
    "tags": []
   },
   "outputs": [],
   "source": [
    "coregistered_data = run_coregister_crustal_thickness(\n",
    "    point_data=coregistered_data,\n",
    "    input_dir=crustal_thickness_dir,\n",
    "    n_jobs=n_jobs,\n",
    "    verbose=verbose,\n",
    ")\n",
    "coregistered_data = coregister_magnetic(\n",
    "    data=coregistered_data,\n",
    "    filename=mag_anomaly_filename,\n",
    "    n_jobs=n_jobs,\n",
    ")\n"
   ]
  },
  {
   "cell_type": "markdown",
   "id": "3067ae47",
   "metadata": {
    "papermill": {
     "duration": 0.004439,
     "end_time": "2024-02-02T04:16:36.245512",
     "exception": false,
     "start_time": "2024-02-02T04:16:36.241073",
     "status": "completed"
    },
    "tags": []
   },
   "source": [
    "### Calculate cumulative erosion"
   ]
  },
  {
   "cell_type": "code",
   "execution_count": 9,
   "id": "a90d7da4",
   "metadata": {
    "execution": {
     "iopub.execute_input": "2024-02-02T04:16:36.300115Z",
     "iopub.status.busy": "2024-02-02T04:16:36.299959Z",
     "iopub.status.idle": "2024-02-02T04:30:14.655649Z",
     "shell.execute_reply": "2024-02-02T04:30:14.654864Z"
    },
    "papermill": {
     "duration": 818.363315,
     "end_time": "2024-02-02T04:30:14.657562",
     "exception": false,
     "start_time": "2024-02-02T04:16:36.294247",
     "status": "completed"
    },
    "tags": []
   },
   "outputs": [],
   "source": [
    "coregistered_data = calculate_erodep(\n",
    "    coregistered_data,\n",
    "    input_dir=erodep_dir,\n",
    "    n_jobs=n_jobs,\n",
    "    column_name=\"erosion (m)\",\n",
    "    verbose=verbose,\n",
    ")\n"
   ]
  },
  {
   "cell_type": "markdown",
   "id": "48e28940",
   "metadata": {
    "papermill": {
     "duration": 0.00434,
     "end_time": "2024-02-02T04:30:14.666990",
     "exception": false,
     "start_time": "2024-02-02T04:30:14.662650",
     "status": "completed"
    },
    "tags": []
   },
   "source": [
    "### Save to file"
   ]
  },
  {
   "cell_type": "code",
   "execution_count": 10,
   "id": "333c91a8",
   "metadata": {
    "execution": {
     "iopub.execute_input": "2024-02-02T04:30:14.676124Z",
     "iopub.status.busy": "2024-02-02T04:30:14.675963Z",
     "iopub.status.idle": "2024-02-02T04:32:52.445583Z",
     "shell.execute_reply": "2024-02-02T04:32:52.444706Z"
    },
    "papermill": {
     "duration": 157.776457,
     "end_time": "2024-02-02T04:32:52.447511",
     "exception": false,
     "start_time": "2024-02-02T04:30:14.671054",
     "status": "completed"
    },
    "tags": []
   },
   "outputs": [],
   "source": [
    "coregistered_data.to_csv(output_filename, index=False)\n"
   ]
  },
  {
   "cell_type": "code",
   "execution_count": null,
   "id": "b51b394a",
   "metadata": {
    "papermill": {
     "duration": 0.004145,
     "end_time": "2024-02-02T04:32:52.456519",
     "exception": false,
     "start_time": "2024-02-02T04:32:52.452374",
     "status": "completed"
    },
    "tags": []
   },
   "outputs": [],
   "source": []
  }
 ],
 "metadata": {
  "kernelspec": {
   "display_name": "datamining",
   "language": "python",
   "name": "python3"
  },
  "language_info": {
   "codemirror_mode": {
    "name": "ipython",
    "version": 3
   },
   "file_extension": ".py",
   "mimetype": "text/x-python",
   "name": "python",
   "nbconvert_exporter": "python",
   "pygments_lexer": "ipython3",
   "version": "3.11.6"
  },
  "papermill": {
   "default_parameters": {},
   "duration": 2675.221756,
   "end_time": "2024-02-02T04:32:55.784266",
   "environment_variables": {},
   "exception": null,
   "input_path": "00b-extract_grid_data.ipynb",
   "output_path": "00b-extract_grid_data.ipynb",
   "parameters": {},
   "start_time": "2024-02-02T03:48:20.562510",
   "version": "2.4.0"
  }
 },
 "nbformat": 4,
 "nbformat_minor": 5
}