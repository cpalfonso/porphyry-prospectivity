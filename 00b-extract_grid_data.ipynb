{
 "cells": [
  {
   "cell_type": "markdown",
   "id": "d7ca51ae",
   "metadata": {
    "papermill": {
     "duration": 0.006916,
     "end_time": "2024-07-30T05:58:49.861593",
     "exception": false,
     "start_time": "2024-07-30T05:58:49.854677",
     "status": "completed"
    },
    "tags": []
   },
   "source": [
    "# Extract grid data\n",
    "\n",
    "This notebook will extract plate kinematic data from a plate model and other data from the `source_data` directory, writing the resulting dataset to a CSV file which can then be used to create the time-dependent prospectivity maps in the following notebooks (`02*.ipynb`)."
   ]
  },
  {
   "cell_type": "markdown",
   "id": "14db541f",
   "metadata": {
    "papermill": {
     "duration": 0.005229,
     "end_time": "2024-07-30T05:58:49.873158",
     "exception": false,
     "start_time": "2024-07-30T05:58:49.867929",
     "status": "completed"
    },
    "tags": []
   },
   "source": [
    "## Notebook options\n",
    "\n",
    "These cells set some of the important variables and definitions used throughout the notebook."
   ]
  },
  {
   "cell_type": "markdown",
   "id": "9abfc0d9",
   "metadata": {
    "papermill": {
     "duration": 0.005441,
     "end_time": "2024-07-30T05:58:49.883637",
     "exception": false,
     "start_time": "2024-07-30T05:58:49.878196",
     "status": "completed"
    },
    "tags": []
   },
   "source": [
    "### Select plate model\n",
    "\n",
    "To use the plate model from the published paper (Alfonso et al., 2024), set `use_provided_plate_model` to `True`. Otherwise, leave `use_provided_plate_model` as `False` and set `plate_model_name` to a valid model name for the [`plate-model-manager`](https://github.com/michaelchin/plate-model-manager/blob/4f66423b53950bf42f5dac1228e61fd1e19fdf6e/models.json) package, or set `plate_model_name` to `None` and place GPlates files in a directory named `plate_model`.\n",
    "\n",
    "| `use_provided_plate_model` | `plate_model_name` | result |\n",
    "| - | - | - |\n",
    "| `True` | Any | Use Alfonso et al., 2024 model |\n",
    "| `False` | Model name string (e.g. `\"muller2022\"`) | Use specified plate model |\n",
    "| `False` | `None` | Use files in `plate_model` directory |"
   ]
  },
  {
   "cell_type": "code",
   "execution_count": 1,
   "id": "9088fe1c",
   "metadata": {
    "execution": {
     "iopub.execute_input": "2024-07-30T05:58:49.894556Z",
     "iopub.status.busy": "2024-07-30T05:58:49.894278Z",
     "iopub.status.idle": "2024-07-30T05:58:49.900345Z",
     "shell.execute_reply": "2024-07-30T05:58:49.899859Z"
    },
    "papermill": {
     "duration": 0.013157,
     "end_time": "2024-07-30T05:58:49.901995",
     "exception": false,
     "start_time": "2024-07-30T05:58:49.888838",
     "status": "completed"
    },
    "tags": []
   },
   "outputs": [],
   "source": [
    "use_provided_plate_model = True\n",
    "plate_model_name = \"muller2022\""
   ]
  },
  {
   "cell_type": "markdown",
   "id": "08942f57",
   "metadata": {
    "papermill": {
     "duration": 0.003982,
     "end_time": "2024-07-30T05:58:49.910125",
     "exception": false,
     "start_time": "2024-07-30T05:58:49.906143",
     "status": "completed"
    },
    "tags": []
   },
   "source": [
    "### Set other parameters\n",
    "\n",
    "Perhaps the most important options here are `n_jobs` and `max_time`."
   ]
  },
  {
   "cell_type": "code",
   "execution_count": 2,
   "id": "6a3c737f",
   "metadata": {
    "execution": {
     "iopub.execute_input": "2024-07-30T05:58:49.919046Z",
     "iopub.status.busy": "2024-07-30T05:58:49.918815Z",
     "iopub.status.idle": "2024-07-30T05:58:49.921778Z",
     "shell.execute_reply": "2024-07-30T05:58:49.921312Z"
    },
    "papermill": {
     "duration": 0.009462,
     "end_time": "2024-07-30T05:58:49.923547",
     "exception": false,
     "start_time": "2024-07-30T05:58:49.914085",
     "status": "completed"
    },
    "tags": []
   },
   "outputs": [],
   "source": [
    "# Resolution of output grid (degrees)\n",
    "grid_resolution = 0.5\n",
    "\n",
    "# Number of processes to use\n",
    "n_jobs = 4\n",
    "\n",
    "# Overwrite any existing output files\n",
    "overwrite = False\n",
    "\n",
    "# Timespan for analysis\n",
    "min_time = 0\n",
    "max_time = 170\n",
    "\n",
    "# Control verbosity level of logging output\n",
    "verbose = False"
   ]
  },
  {
   "cell_type": "markdown",
   "id": "4baa8521",
   "metadata": {
    "papermill": {
     "duration": 0.003608,
     "end_time": "2024-07-30T05:58:49.931021",
     "exception": false,
     "start_time": "2024-07-30T05:58:49.927413",
     "status": "completed"
    },
    "tags": []
   },
   "source": [
    "If any of the following exist as environment variables, they will replace the values defined above."
   ]
  },
  {
   "cell_type": "code",
   "execution_count": 3,
   "id": "0062480e",
   "metadata": {
    "execution": {
     "iopub.execute_input": "2024-07-30T05:58:49.939143Z",
     "iopub.status.busy": "2024-07-30T05:58:49.938899Z",
     "iopub.status.idle": "2024-07-30T05:58:49.942843Z",
     "shell.execute_reply": "2024-07-30T05:58:49.942335Z"
    },
    "papermill": {
     "duration": 0.010071,
     "end_time": "2024-07-30T05:58:49.944549",
     "exception": false,
     "start_time": "2024-07-30T05:58:49.934478",
     "status": "completed"
    },
    "tags": []
   },
   "outputs": [],
   "source": [
    "import os\n",
    "\n",
    "# Override above values with environment variables, if they exist\n",
    "grid_resolution = float(os.environ.get(\"GRID_RESOLUTION\", grid_resolution))\n",
    "n_jobs = int(os.environ.get(\"N_JOBS\", n_jobs))\n",
    "overwrite = bool(int(os.environ.get(\"OVERWRITE\", overwrite)))\n",
    "min_time = int(os.environ.get(\"MIN_TIME\", min_time))\n",
    "max_time = int(os.environ.get(\"MAX_TIME\", max_time))\n",
    "verbose = bool(int(os.environ.get(\"VERBOSE\", verbose)))\n",
    "\n",
    "times = range(min_time, max_time + 1)"
   ]
  },
  {
   "cell_type": "markdown",
   "id": "9639c87e",
   "metadata": {
    "papermill": {
     "duration": 0.004775,
     "end_time": "2024-07-30T05:58:49.952648",
     "exception": false,
     "start_time": "2024-07-30T05:58:49.947873",
     "status": "completed"
    },
    "tags": []
   },
   "source": [
    "## Notebook setup\n",
    "\n",
    "Imports, definitions, etc."
   ]
  },
  {
   "cell_type": "markdown",
   "id": "230f00fa",
   "metadata": {
    "papermill": {
     "duration": 0.005293,
     "end_time": "2024-07-30T05:58:49.962066",
     "exception": false,
     "start_time": "2024-07-30T05:58:49.956773",
     "status": "completed"
    },
    "tags": []
   },
   "source": [
    "### Imports"
   ]
  },
  {
   "cell_type": "code",
   "execution_count": 4,
   "id": "7064cd0e",
   "metadata": {
    "execution": {
     "iopub.execute_input": "2024-07-30T05:58:49.974367Z",
     "iopub.status.busy": "2024-07-30T05:58:49.974041Z",
     "iopub.status.idle": "2024-07-30T05:58:56.126814Z",
     "shell.execute_reply": "2024-07-30T05:58:56.126130Z"
    },
    "papermill": {
     "duration": 6.161187,
     "end_time": "2024-07-30T05:58:56.128677",
     "exception": false,
     "start_time": "2024-07-30T05:58:49.967490",
     "status": "completed"
    },
    "tags": []
   },
   "outputs": [
    {
     "name": "stdout",
     "output_type": "stream",
     "text": [
      "env: PYTHONWARNINGS=ignore::UserWarning\n"
     ]
    }
   ],
   "source": [
    "import warnings\n",
    "\n",
    "import geopandas as gpd\n",
    "import numpy as np\n",
    "import pandas as pd\n",
    "from gplately.tools import plate_isotherm_depth\n",
    "\n",
    "from lib.assign_regions import assign_regions\n",
    "from lib.calculate_convergence import run_calculate_convergence\n",
    "from lib.check_files import (\n",
    "    check_plate_model,\n",
    "    check_source_data,\n",
    ")\n",
    "from lib.coregister_combined_point_data import run_coregister_combined_point_data\n",
    "from lib.coregister_crustal_thickness import run_coregister_crustal_thickness\n",
    "from lib.coregister_ocean_rasters import (\n",
    "    extract_subducted_thickness,\n",
    "    run_coregister_ocean_rasters,\n",
    ")\n",
    "from lib.create_study_area_polygons import run_create_study_area_polygons\n",
    "from lib.erodep import calculate_erodep\n",
    "from lib.misc import calculate_slab_flux, calculate_carbon\n",
    "from lib.plate_models import get_plate_reconstruction\n",
    "from lib.pu import generate_grid_points\n",
    "from lib.slab_dip import calculate_slab_dip\n",
    "from lib.water import calculate_water_thickness\n",
    "\n",
    "# Suppress occasional joblib warnings\n",
    "%env PYTHONWARNINGS=ignore::UserWarning\n",
    "\n",
    "warnings.simplefilter(\"ignore\", UserWarning)"
   ]
  },
  {
   "cell_type": "markdown",
   "id": "38f11f60",
   "metadata": {
    "papermill": {
     "duration": 0.005274,
     "end_time": "2024-07-30T05:58:56.140262",
     "exception": false,
     "start_time": "2024-07-30T05:58:56.134988",
     "status": "completed"
    },
    "tags": []
   },
   "source": [
    "### Input and output files"
   ]
  },
  {
   "cell_type": "markdown",
   "id": "dac7c26b",
   "metadata": {
    "papermill": {
     "duration": 0.004857,
     "end_time": "2024-07-30T05:58:56.149793",
     "exception": false,
     "start_time": "2024-07-30T05:58:56.144936",
     "status": "completed"
    },
    "tags": []
   },
   "source": [
    "If necessary, the plate model will be downloaded:"
   ]
  },
  {
   "cell_type": "code",
   "execution_count": 5,
   "id": "833f7219",
   "metadata": {
    "execution": {
     "iopub.execute_input": "2024-07-30T05:58:56.160152Z",
     "iopub.status.busy": "2024-07-30T05:58:56.159877Z",
     "iopub.status.idle": "2024-07-30T05:59:48.635552Z",
     "shell.execute_reply": "2024-07-30T05:59:48.634991Z"
    },
    "papermill": {
     "duration": 52.48274,
     "end_time": "2024-07-30T05:59:48.637233",
     "exception": false,
     "start_time": "2024-07-30T05:58:56.154493",
     "status": "completed"
    },
    "tags": []
   },
   "outputs": [],
   "source": [
    "plate_model_dir = \"plate_model\"\n",
    "if use_provided_plate_model:\n",
    "    check_plate_model(plate_model_dir, verbose=True)\n",
    "    plate_model_name = None\n",
    "plate_model = get_plate_reconstruction(\n",
    "    model_name=plate_model_name,\n",
    "    model_dir=plate_model_dir,\n",
    ")"
   ]
  },
  {
   "cell_type": "markdown",
   "id": "cdb8d396",
   "metadata": {
    "papermill": {
     "duration": 0.003585,
     "end_time": "2024-07-30T05:59:48.644586",
     "exception": false,
     "start_time": "2024-07-30T05:59:48.641001",
     "status": "completed"
    },
    "tags": []
   },
   "source": [
    "The directory containing the datasets to be extracted:"
   ]
  },
  {
   "cell_type": "code",
   "execution_count": 6,
   "id": "ee894246",
   "metadata": {
    "execution": {
     "iopub.execute_input": "2024-07-30T05:59:48.653121Z",
     "iopub.status.busy": "2024-07-30T05:59:48.652759Z",
     "iopub.status.idle": "2024-07-30T05:59:48.656564Z",
     "shell.execute_reply": "2024-07-30T05:59:48.656053Z"
    },
    "papermill": {
     "duration": 0.010079,
     "end_time": "2024-07-30T05:59:48.658145",
     "exception": false,
     "start_time": "2024-07-30T05:59:48.648066",
     "status": "completed"
    },
    "tags": []
   },
   "outputs": [],
   "source": [
    "data_dir = \"source_data\"\n",
    "data_dir = check_source_data(data_dir, verbose=verbose)"
   ]
  },
  {
   "cell_type": "markdown",
   "id": "1a851a25",
   "metadata": {
    "papermill": {
     "duration": 0.003611,
     "end_time": "2024-07-30T05:59:48.665487",
     "exception": false,
     "start_time": "2024-07-30T05:59:48.661876",
     "status": "completed"
    },
    "tags": []
   },
   "source": [
    "Output files will be created in this directory:"
   ]
  },
  {
   "cell_type": "code",
   "execution_count": 7,
   "id": "ba69c876",
   "metadata": {
    "execution": {
     "iopub.execute_input": "2024-07-30T05:59:48.673573Z",
     "iopub.status.busy": "2024-07-30T05:59:48.673271Z",
     "iopub.status.idle": "2024-07-30T05:59:48.676738Z",
     "shell.execute_reply": "2024-07-30T05:59:48.676303Z"
    },
    "papermill": {
     "duration": 0.009438,
     "end_time": "2024-07-30T05:59:48.678204",
     "exception": false,
     "start_time": "2024-07-30T05:59:48.668766",
     "status": "completed"
    },
    "tags": []
   },
   "outputs": [],
   "source": [
    "output_dir = \"extracted_data\"\n",
    "os.makedirs(output_dir, exist_ok=True)"
   ]
  },
  {
   "cell_type": "markdown",
   "id": "ee51a6e4",
   "metadata": {
    "papermill": {
     "duration": 0.003518,
     "end_time": "2024-07-30T05:59:48.686292",
     "exception": false,
     "start_time": "2024-07-30T05:59:48.682774",
     "status": "completed"
    },
    "tags": []
   },
   "source": [
    "The following input directories are all relative to `data_dir`:"
   ]
  },
  {
   "cell_type": "code",
   "execution_count": 8,
   "id": "eb666f45",
   "metadata": {
    "execution": {
     "iopub.execute_input": "2024-07-30T05:59:48.694294Z",
     "iopub.status.busy": "2024-07-30T05:59:48.694087Z",
     "iopub.status.idle": "2024-07-30T05:59:48.697864Z",
     "shell.execute_reply": "2024-07-30T05:59:48.697461Z"
    },
    "papermill": {
     "duration": 0.009473,
     "end_time": "2024-07-30T05:59:48.699180",
     "exception": false,
     "start_time": "2024-07-30T05:59:48.689707",
     "status": "completed"
    },
    "tags": []
   },
   "outputs": [],
   "source": [
    "# CSV file with known deposits; columns:\n",
    "# lon, lat, age (Ma)\n",
    "deposits_filename = \"deposit_data_global.csv\"\n",
    "\n",
    "# If desired, categorise deposits according to location\n",
    "# Should be a shapefile or GeoJSON containing polygons\n",
    "# with a 'region' attribute\n",
    "regions_filename = \"regions.geojson\"\n",
    "\n",
    "# Seafloor age grid directory\n",
    "# Filename format 'seafloor_age_{time}Ma.nc'\n",
    "agegrid_dir = \"AgeGrids\"\n",
    "\n",
    "# Seafloor sediment thickness directory\n",
    "# Filename format 'sediment_thickness_{time}Ma.nc'\n",
    "sedthick_dir = \"SedimentThickness\"\n",
    "\n",
    "# Seafloor carbonate sediment thickness directory\n",
    "# Filename format 'carbonate_thickness_{time}Ma.nc'\n",
    "carbonate_dir = \"CarbonateThickness\"\n",
    "\n",
    "# Oceanic crustal CO2 density directory\n",
    "# Filename format 'crustal_co2_{time}Ma.nc'\n",
    "co2_dir = \"CrustalCO2\"\n",
    "\n",
    "# Overriding plate thickness directory\n",
    "# Filename format 'crustal_thickness_{time}Ma.nc'\n",
    "crustal_thickness_dir = \"CrustalThickness\"\n",
    "\n",
    "# Cumulative subducted sediments/carbonates/etc. directory\n",
    "# Filename format 'sediment_thickness/cumulative_density_{time}Ma.nc',\n",
    "# 'carbonate_thickness/cumulative_density_{time}Ma.nc', etc.\n",
    "subducted_quantities_dir = \"SubductedQuantities\"\n",
    "\n",
    "# Erosion/deposition rate directory\n",
    "# Filename format 'erosion_deposition_{time}Ma.nc'\n",
    "erodep_dir = \"ErosionDeposition\""
   ]
  },
  {
   "cell_type": "code",
   "execution_count": 9,
   "id": "84d44ad9",
   "metadata": {
    "execution": {
     "iopub.execute_input": "2024-07-30T05:59:48.707048Z",
     "iopub.status.busy": "2024-07-30T05:59:48.706842Z",
     "iopub.status.idle": "2024-07-30T05:59:48.710749Z",
     "shell.execute_reply": "2024-07-30T05:59:48.710355Z"
    },
    "papermill": {
     "duration": 0.009469,
     "end_time": "2024-07-30T05:59:48.712067",
     "exception": false,
     "start_time": "2024-07-30T05:59:48.702598",
     "status": "completed"
    },
    "tags": []
   },
   "outputs": [],
   "source": [
    "# Handle relative file/directory paths\n",
    "\n",
    "deposits_filename = os.path.join(data_dir, deposits_filename)\n",
    "regions_filename = os.path.join(data_dir, regions_filename)\n",
    "agegrid_dir = os.path.join(data_dir, agegrid_dir)\n",
    "sedthick_dir = os.path.join(data_dir, sedthick_dir)\n",
    "carbonate_dir = os.path.join(data_dir, carbonate_dir)\n",
    "co2_dir = os.path.join(data_dir, co2_dir)\n",
    "crustal_thickness_dir = os.path.join(data_dir, crustal_thickness_dir)\n",
    "subducted_quantities_dir = os.path.join(data_dir, subducted_quantities_dir)\n",
    "erodep_dir = os.path.join(data_dir, erodep_dir)\n",
    "\n",
    "subduction_data_filename = os.path.join(output_dir, \"subducting_plate_data.csv\")\n",
    "study_area_dir = os.path.join(output_dir, \"study_area_polygons\")\n",
    "output_filename = os.path.join(output_dir, \"grid_data.csv\")"
   ]
  },
  {
   "attachments": {},
   "cell_type": "markdown",
   "id": "eb746f63",
   "metadata": {
    "papermill": {
     "duration": 0.003274,
     "end_time": "2024-07-30T05:59:48.718800",
     "exception": false,
     "start_time": "2024-07-30T05:59:48.715526",
     "status": "completed"
    },
    "tags": []
   },
   "source": [
    "### Generate grid points\n",
    "\n",
    "The following function generates the grid of points at `grid_resolution`-degree resolution."
   ]
  },
  {
   "cell_type": "code",
   "execution_count": 10,
   "id": "c7415048",
   "metadata": {
    "execution": {
     "iopub.execute_input": "2024-07-30T05:59:48.726332Z",
     "iopub.status.busy": "2024-07-30T05:59:48.726129Z",
     "iopub.status.idle": "2024-07-30T07:27:46.228014Z",
     "shell.execute_reply": "2024-07-30T07:27:46.222207Z"
    },
    "papermill": {
     "duration": 5277.54175,
     "end_time": "2024-07-30T07:27:46.263797",
     "exception": false,
     "start_time": "2024-07-30T05:59:48.722047",
     "status": "completed"
    },
    "tags": []
   },
   "outputs": [],
   "source": [
    "if overwrite or not os.path.isdir(study_area_dir):\n",
    "    run_create_study_area_polygons(\n",
    "        nprocs=n_jobs,\n",
    "        times=times,\n",
    "        plate_reconstruction=plate_model,\n",
    "        output_dir=study_area_dir,\n",
    "        verbose=verbose,\n",
    "        return_output=False,\n",
    "    )\n",
    "grid_data = generate_grid_points(\n",
    "    times=times,\n",
    "    resolution=grid_resolution,\n",
    "    polygons_dir=study_area_dir,\n",
    "    plate_reconstruction=plate_model,\n",
    "    n_jobs=n_jobs,\n",
    "    verbose=verbose,\n",
    ")\n",
    "grid_data = grid_data.dropna(subset=[\"present_lon\", \"present_lat\"])"
   ]
  },
  {
   "attachments": {},
   "cell_type": "markdown",
   "id": "0e2ba866",
   "metadata": {
    "papermill": {
     "duration": 0.004371,
     "end_time": "2024-07-30T07:27:46.284174",
     "exception": false,
     "start_time": "2024-07-30T07:27:46.279803",
     "status": "completed"
    },
    "tags": []
   },
   "source": [
    "### Subducting plate data\n",
    "\n",
    "This cell will extract the subduction kinematics data from the plate model, along with datasets relating to the subducting oceanic plate: seafloor age, sediment and carbonate thickness, etc.\n",
    "However, if this data has already been extracted by another notebook and `overwrite` has not been set to `True`, then the data will be read from that file instead."
   ]
  },
  {
   "cell_type": "code",
   "execution_count": 11,
   "id": "7c03c5a2",
   "metadata": {
    "execution": {
     "iopub.execute_input": "2024-07-30T07:27:46.297700Z",
     "iopub.status.busy": "2024-07-30T07:27:46.297299Z",
     "iopub.status.idle": "2024-07-30T08:13:49.601397Z",
     "shell.execute_reply": "2024-07-30T08:13:49.600513Z"
    },
    "papermill": {
     "duration": 2763.317328,
     "end_time": "2024-07-30T08:13:49.604838",
     "exception": false,
     "start_time": "2024-07-30T07:27:46.287510",
     "status": "completed"
    },
    "tags": []
   },
   "outputs": [],
   "source": [
    "if (\n",
    "    subduction_data_filename is not None and os.path.isfile(subduction_data_filename)\n",
    ") and (not overwrite):\n",
    "    subduction_data = pd.read_csv(subduction_data_filename)\n",
    "else:\n",
    "    subduction_data = run_calculate_convergence(\n",
    "        nprocs=n_jobs,\n",
    "        min_time=min(times),\n",
    "        max_time=max(times),\n",
    "        plate_reconstruction=plate_model,\n",
    "        verbose=verbose,\n",
    "    )\n",
    "\n",
    "    subduction_data = run_coregister_ocean_rasters(\n",
    "        nprocs=n_jobs,\n",
    "        times=times,\n",
    "        input_data=subduction_data,\n",
    "        agegrid_dir=agegrid_dir,\n",
    "        plate_reconstruction=plate_model,\n",
    "        sedthick_dir=sedthick_dir,\n",
    "        carbonate_dir=carbonate_dir,\n",
    "        co2_dir=co2_dir,\n",
    "        subducted_thickness_dir=os.path.join(\n",
    "            subducted_quantities_dir,\n",
    "            \"plate_thickness\",\n",
    "        ),\n",
    "        subducted_sediments_dir=os.path.join(\n",
    "            subducted_quantities_dir,\n",
    "            \"sediment_thickness\",\n",
    "        ),\n",
    "        subducted_carbonates_dir=os.path.join(\n",
    "            subducted_quantities_dir,\n",
    "            \"carbonate_thickness\",\n",
    "        ),\n",
    "        subducted_water_dir=os.path.join(\n",
    "            subducted_quantities_dir,\n",
    "            \"water_thickness\",\n",
    "        ),\n",
    "        verbose=verbose,\n",
    "    )\n",
    "    subduction_data[\"plate_thickness (m)\"] = plate_isotherm_depth(\n",
    "        subduction_data[\"seafloor_age (Ma)\"],\n",
    "        maxiter=100,\n",
    "    )\n",
    "    subduction_data = calculate_water_thickness(data=subduction_data)\n",
    "    subduction_data = calculate_carbon(subduction_data)\n",
    "    subduction_data = calculate_slab_flux(subduction_data)\n",
    "    subduction_data = calculate_slab_dip(subduction_data)\n",
    "    subduction_data = extract_subducted_thickness(\n",
    "        subduction_data,\n",
    "        plate_reconstruction=plate_model,\n",
    "    )\n",
    "    subduction_data[\"sediment_flux (m^2/yr)\"] = (\n",
    "        subduction_data[\"sediment_thickness (m)\"]\n",
    "        * subduction_data[\"convergence_rate_orthogonal (cm/yr)\"] * 1.0e-2\n",
    "    ).clip(0.0, np.inf)\n",
    "    subduction_data[\"carbon_flux (t/m/yr)\"] = (\n",
    "        subduction_data[\"total_carbon_density (t/m^2)\"]\n",
    "        * subduction_data[\"convergence_rate_orthogonal (cm/yr)\"] * 1.0e-2\n",
    "    ).clip(0.0, np.inf)\n",
    "    subduction_data[\"water_flux (m^2/yr)\"] = (\n",
    "        subduction_data[\"total_water_thickness (m)\"]\n",
    "        * subduction_data[\"convergence_rate_orthogonal (cm/yr)\"] * 1.0e-2\n",
    "    ).clip(0.0, np.inf)\n",
    "\n",
    "    if subduction_data_filename is not None:\n",
    "        subduction_data.to_csv(subduction_data_filename, index=False)"
   ]
  },
  {
   "attachments": {},
   "cell_type": "markdown",
   "id": "cafffa14",
   "metadata": {
    "papermill": {
     "duration": 0.005006,
     "end_time": "2024-07-30T08:13:49.616527",
     "exception": false,
     "start_time": "2024-07-30T08:13:49.611521",
     "status": "completed"
    },
    "tags": []
   },
   "source": [
    "### Assign subduction data to grid\n",
    "\n",
    "Here we assign the appropriate values for the subduction-related parameters (kinematics, seafloor age, etc.) to the grid points."
   ]
  },
  {
   "cell_type": "code",
   "execution_count": 12,
   "id": "fbadac30",
   "metadata": {
    "execution": {
     "iopub.execute_input": "2024-07-30T08:13:49.628831Z",
     "iopub.status.busy": "2024-07-30T08:13:49.628564Z",
     "iopub.status.idle": "2024-07-30T08:20:12.543983Z",
     "shell.execute_reply": "2024-07-30T08:20:12.543253Z"
    },
    "papermill": {
     "duration": 382.925256,
     "end_time": "2024-07-30T08:20:12.547570",
     "exception": false,
     "start_time": "2024-07-30T08:13:49.622314",
     "status": "completed"
    },
    "tags": []
   },
   "outputs": [],
   "source": [
    "coregistered_data = run_coregister_combined_point_data(\n",
    "    point_data=grid_data,\n",
    "    subduction_data=subduction_data,\n",
    "    n_jobs=n_jobs,\n",
    "    verbose=verbose,\n",
    ")"
   ]
  },
  {
   "attachments": {},
   "cell_type": "markdown",
   "id": "6c7067fe",
   "metadata": {
    "papermill": {
     "duration": 0.00444,
     "end_time": "2024-07-30T08:20:12.558751",
     "exception": false,
     "start_time": "2024-07-30T08:20:12.554311",
     "status": "completed"
    },
    "tags": []
   },
   "source": [
    "### Assign crustal thickness data to grid\n",
    "\n",
    "This cell extracts the overriding plate thickness at each point."
   ]
  },
  {
   "cell_type": "code",
   "execution_count": 13,
   "id": "317048a8",
   "metadata": {
    "execution": {
     "iopub.execute_input": "2024-07-30T08:20:12.573956Z",
     "iopub.status.busy": "2024-07-30T08:20:12.573679Z",
     "iopub.status.idle": "2024-07-30T08:22:17.545571Z",
     "shell.execute_reply": "2024-07-30T08:22:17.544755Z"
    },
    "papermill": {
     "duration": 124.981299,
     "end_time": "2024-07-30T08:22:17.548857",
     "exception": false,
     "start_time": "2024-07-30T08:20:12.567558",
     "status": "completed"
    },
    "tags": []
   },
   "outputs": [],
   "source": [
    "coregistered_data = run_coregister_crustal_thickness(\n",
    "    point_data=coregistered_data,\n",
    "    input_dir=crustal_thickness_dir,\n",
    "    n_jobs=n_jobs,\n",
    "    verbose=verbose,\n",
    ")"
   ]
  },
  {
   "cell_type": "markdown",
   "id": "3067ae47",
   "metadata": {
    "papermill": {
     "duration": 0.009772,
     "end_time": "2024-07-30T08:22:17.565116",
     "exception": false,
     "start_time": "2024-07-30T08:22:17.555344",
     "status": "completed"
    },
    "tags": []
   },
   "source": [
    "### Calculate cumulative erosion\n",
    "\n",
    "Here we calculate the cumulative erosion experienced by each point in the grid since its assigned age time."
   ]
  },
  {
   "cell_type": "code",
   "execution_count": 14,
   "id": "a90d7da4",
   "metadata": {
    "execution": {
     "iopub.execute_input": "2024-07-30T08:22:17.579224Z",
     "iopub.status.busy": "2024-07-30T08:22:17.578943Z",
     "iopub.status.idle": "2024-07-30T08:31:33.719773Z",
     "shell.execute_reply": "2024-07-30T08:31:33.718973Z"
    },
    "papermill": {
     "duration": 556.151229,
     "end_time": "2024-07-30T08:31:33.721694",
     "exception": false,
     "start_time": "2024-07-30T08:22:17.570465",
     "status": "completed"
    },
    "tags": []
   },
   "outputs": [],
   "source": [
    "coregistered_data = calculate_erodep(\n",
    "    coregistered_data,\n",
    "    input_dir=erodep_dir,\n",
    "    n_jobs=n_jobs,\n",
    "    column_name=\"erosion (m)\",\n",
    "    verbose=verbose,\n",
    ")"
   ]
  },
  {
   "cell_type": "markdown",
   "id": "a228c9cc",
   "metadata": {
    "papermill": {
     "duration": 0.00489,
     "end_time": "2024-07-30T08:31:33.733181",
     "exception": false,
     "start_time": "2024-07-30T08:31:33.728291",
     "status": "completed"
    },
    "tags": []
   },
   "source": [
    "### Assign data to regions\n",
    "\n",
    "To divide the data into individual regions for the later analysis, we use the `regions_filename` defined earlier, if desired."
   ]
  },
  {
   "cell_type": "code",
   "execution_count": 15,
   "id": "d520a2b5",
   "metadata": {
    "execution": {
     "iopub.execute_input": "2024-07-30T08:31:33.744447Z",
     "iopub.status.busy": "2024-07-30T08:31:33.744192Z",
     "iopub.status.idle": "2024-07-30T08:31:39.698824Z",
     "shell.execute_reply": "2024-07-30T08:31:39.698255Z"
    },
    "papermill": {
     "duration": 5.962468,
     "end_time": "2024-07-30T08:31:39.701363",
     "exception": false,
     "start_time": "2024-07-30T08:31:33.738895",
     "status": "completed"
    },
    "tags": []
   },
   "outputs": [],
   "source": [
    "if regions_filename is not None and os.path.isfile(regions_filename):\n",
    "    points = gpd.GeoSeries.from_xy(\n",
    "        coregistered_data[\"present_lon\"],\n",
    "        coregistered_data[\"present_lat\"],\n",
    "        index=coregistered_data.index,\n",
    "    )\n",
    "    coregistered_data[\"region\"] = assign_regions(\n",
    "        points,\n",
    "        regions=regions_filename,\n",
    "    )\n",
    "    del points"
   ]
  },
  {
   "cell_type": "markdown",
   "id": "48e28940",
   "metadata": {
    "papermill": {
     "duration": 0.004087,
     "end_time": "2024-07-30T08:31:39.709515",
     "exception": false,
     "start_time": "2024-07-30T08:31:39.705428",
     "status": "completed"
    },
    "tags": []
   },
   "source": [
    "### Save to file\n",
    "\n",
    "Finally, we write the dataset to a CSV file."
   ]
  },
  {
   "cell_type": "code",
   "execution_count": 16,
   "id": "333c91a8",
   "metadata": {
    "execution": {
     "iopub.execute_input": "2024-07-30T08:31:39.721271Z",
     "iopub.status.busy": "2024-07-30T08:31:39.721028Z",
     "iopub.status.idle": "2024-07-30T08:34:45.699881Z",
     "shell.execute_reply": "2024-07-30T08:34:45.699318Z"
    },
    "papermill": {
     "duration": 185.988014,
     "end_time": "2024-07-30T08:34:45.701598",
     "exception": false,
     "start_time": "2024-07-30T08:31:39.713584",
     "status": "completed"
    },
    "tags": []
   },
   "outputs": [],
   "source": [
    "coregistered_data.to_csv(output_filename, index=False)"
   ]
  },
  {
   "cell_type": "code",
   "execution_count": null,
   "id": "b51b394a",
   "metadata": {
    "papermill": {
     "duration": 0.00532,
     "end_time": "2024-07-30T08:34:45.715209",
     "exception": false,
     "start_time": "2024-07-30T08:34:45.709889",
     "status": "completed"
    },
    "tags": []
   },
   "outputs": [],
   "source": []
  }
 ],
 "metadata": {
  "kernelspec": {
   "display_name": "datamining",
   "language": "python",
   "name": "python3"
  },
  "language_info": {
   "codemirror_mode": {
    "name": "ipython",
    "version": 3
   },
   "file_extension": ".py",
   "mimetype": "text/x-python",
   "name": "python",
   "nbconvert_exporter": "python",
   "pygments_lexer": "ipython3",
   "version": "3.11.7"
  },
  "papermill": {
   "default_parameters": {},
   "duration": 9360.685634,
   "end_time": "2024-07-30T08:34:48.878020",
   "environment_variables": {},
   "exception": null,
   "input_path": "00b-extract_grid_data.ipynb",
   "output_path": "00b-extract_grid_data.ipynb",
   "parameters": {},
   "start_time": "2024-07-30T05:58:48.192386",
   "version": "2.4.0"
  }
 },
 "nbformat": 4,
 "nbformat_minor": 5
}
