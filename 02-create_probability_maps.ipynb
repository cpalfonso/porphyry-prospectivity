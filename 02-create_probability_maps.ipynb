{
 "cells": [
  {
   "attachments": {},
   "cell_type": "markdown",
   "id": "80263a75",
   "metadata": {
    "papermill": {
     "duration": 0.002971,
     "end_time": "2024-08-28T10:12:17.545556",
     "exception": false,
     "start_time": "2024-08-28T10:12:17.542585",
     "status": "completed"
    },
    "tags": []
   },
   "source": [
    "# Probability grids\n",
    "\n",
    "This notebook creates the time-dependent probability maps and writes them to file (`.nc` format), using the models trained in the previous notebook (`01-create_classifiers.ipynb`). This notebook must have been run previously."
   ]
  },
  {
   "cell_type": "markdown",
   "id": "36e80d65",
   "metadata": {
    "papermill": {
     "duration": 0.002443,
     "end_time": "2024-08-28T10:12:17.550663",
     "exception": false,
     "start_time": "2024-08-28T10:12:17.548220",
     "status": "completed"
    },
    "tags": []
   },
   "source": [
    "## Notebook options\n",
    "\n",
    "These cells set some of the important variables and definitions used throughout the notebook."
   ]
  },
  {
   "cell_type": "code",
   "execution_count": 1,
   "id": "9057911b",
   "metadata": {
    "execution": {
     "iopub.execute_input": "2024-08-28T10:12:17.556525Z",
     "iopub.status.busy": "2024-08-28T10:12:17.556236Z",
     "iopub.status.idle": "2024-08-28T10:12:17.562138Z",
     "shell.execute_reply": "2024-08-28T10:12:17.561718Z"
    },
    "papermill": {
     "duration": 0.010427,
     "end_time": "2024-08-28T10:12:17.563471",
     "exception": false,
     "start_time": "2024-08-28T10:12:17.553044",
     "status": "completed"
    },
    "tags": []
   },
   "outputs": [],
   "source": [
    "# If True, use training data extracted in notebook 00c\n",
    "# Else, use pre-prepared training data downloaded from Zenodo\n",
    "use_extracted_data = True\n",
    "\n",
    "# Number of processes to use\n",
    "n_jobs = 4\n",
    "\n",
    "# Overwrite any existing output files\n",
    "overwrite = True\n",
    "\n",
    "# Control verbosity level of logging output\n",
    "verbose = True"
   ]
  },
  {
   "cell_type": "markdown",
   "id": "6bcc106f",
   "metadata": {
    "papermill": {
     "duration": 0.002154,
     "end_time": "2024-08-28T10:12:17.567941",
     "exception": false,
     "start_time": "2024-08-28T10:12:17.565787",
     "status": "completed"
    },
    "tags": []
   },
   "source": [
    "These values will usually not need to be modified:"
   ]
  },
  {
   "cell_type": "code",
   "execution_count": 2,
   "id": "40a511d9",
   "metadata": {
    "execution": {
     "iopub.execute_input": "2024-08-28T10:12:17.573337Z",
     "iopub.status.busy": "2024-08-28T10:12:17.573113Z",
     "iopub.status.idle": "2024-08-28T10:12:17.622846Z",
     "shell.execute_reply": "2024-08-28T10:12:17.622272Z"
    },
    "papermill": {
     "duration": 0.054555,
     "end_time": "2024-08-28T10:12:17.624589",
     "exception": false,
     "start_time": "2024-08-28T10:12:17.570034",
     "status": "completed"
    },
    "tags": []
   },
   "outputs": [],
   "source": [
    "import os\n",
    "\n",
    "from lib.check_files import check_prepared_data\n",
    "\n",
    "if use_extracted_data:\n",
    "    data_dir = \"extracted_data\"\n",
    "else:\n",
    "    data_dir = check_prepared_data(\"prepared_data\", verbose=True)\n",
    "\n",
    "output_dir = \"outputs\""
   ]
  },
  {
   "cell_type": "markdown",
   "id": "2efa9d67",
   "metadata": {
    "papermill": {
     "duration": 0.001977,
     "end_time": "2024-08-28T10:12:17.628770",
     "exception": false,
     "start_time": "2024-08-28T10:12:17.626793",
     "status": "completed"
    },
    "tags": []
   },
   "source": [
    "If any of the following exist as environment variables, they will replace the values defined above:"
   ]
  },
  {
   "cell_type": "code",
   "execution_count": 3,
   "id": "f2d69c31",
   "metadata": {
    "execution": {
     "iopub.execute_input": "2024-08-28T10:12:17.633754Z",
     "iopub.status.busy": "2024-08-28T10:12:17.633574Z",
     "iopub.status.idle": "2024-08-28T10:12:17.637887Z",
     "shell.execute_reply": "2024-08-28T10:12:17.636589Z"
    },
    "papermill": {
     "duration": 0.009339,
     "end_time": "2024-08-28T10:12:17.640229",
     "exception": false,
     "start_time": "2024-08-28T10:12:17.630890",
     "status": "completed"
    },
    "tags": []
   },
   "outputs": [],
   "source": [
    "n_jobs = int(os.environ.get(\"N_JOBS\", n_jobs))\n",
    "overwrite = bool(int(os.environ.get(\"OVERWRITE\", overwrite)))\n",
    "verbose = bool(int(os.environ.get(\"VERBOSE\", verbose)))\n",
    "output_dir = os.environ.get(\"OUTPUT_DIR\", output_dir)"
   ]
  },
  {
   "cell_type": "markdown",
   "id": "544fcfcf",
   "metadata": {
    "papermill": {
     "duration": 0.002727,
     "end_time": "2024-08-28T10:12:17.645514",
     "exception": false,
     "start_time": "2024-08-28T10:12:17.642787",
     "status": "completed"
    },
    "tags": []
   },
   "source": [
    "## Notebook setup\n",
    "\n",
    "Imports, definitions, etc."
   ]
  },
  {
   "cell_type": "markdown",
   "id": "dca6800a",
   "metadata": {
    "papermill": {
     "duration": 0.003282,
     "end_time": "2024-08-28T10:12:17.651945",
     "exception": false,
     "start_time": "2024-08-28T10:12:17.648663",
     "status": "completed"
    },
    "tags": []
   },
   "source": [
    "### Imports"
   ]
  },
  {
   "cell_type": "code",
   "execution_count": 4,
   "id": "5303979d",
   "metadata": {
    "execution": {
     "iopub.execute_input": "2024-08-28T10:12:17.657283Z",
     "iopub.status.busy": "2024-08-28T10:12:17.657089Z",
     "iopub.status.idle": "2024-08-28T10:12:21.599042Z",
     "shell.execute_reply": "2024-08-28T10:12:21.598402Z"
    },
    "papermill": {
     "duration": 3.946357,
     "end_time": "2024-08-28T10:12:21.600572",
     "exception": false,
     "start_time": "2024-08-28T10:12:17.654215",
     "status": "completed"
    },
    "tags": []
   },
   "outputs": [],
   "source": [
    "import time\n",
    "from datetime import timedelta\n",
    "\n",
    "import dask\n",
    "import dask.dataframe as dd\n",
    "from dask_ml.wrappers import ParallelPostFit\n",
    "from joblib import load\n",
    "\n",
    "from lib.pu import create_probability_grids"
   ]
  },
  {
   "cell_type": "markdown",
   "id": "ae9cc890",
   "metadata": {
    "papermill": {
     "duration": 0.002058,
     "end_time": "2024-08-28T10:12:21.604938",
     "exception": false,
     "start_time": "2024-08-28T10:12:21.602880",
     "status": "completed"
    },
    "tags": []
   },
   "source": [
    "We will use `dask-ml` to handle parallelism at this stage:"
   ]
  },
  {
   "cell_type": "code",
   "execution_count": 5,
   "id": "7342050e",
   "metadata": {
    "execution": {
     "iopub.execute_input": "2024-08-28T10:12:21.610524Z",
     "iopub.status.busy": "2024-08-28T10:12:21.610142Z",
     "iopub.status.idle": "2024-08-28T10:12:21.616261Z",
     "shell.execute_reply": "2024-08-28T10:12:21.615803Z"
    },
    "papermill": {
     "duration": 0.010602,
     "end_time": "2024-08-28T10:12:21.617617",
     "exception": false,
     "start_time": "2024-08-28T10:12:21.607015",
     "status": "completed"
    },
    "tags": []
   },
   "outputs": [
    {
     "data": {
      "text/plain": [
       "<dask.config.set at 0x1813e9810>"
      ]
     },
     "execution_count": 5,
     "metadata": {},
     "output_type": "execute_result"
    }
   ],
   "source": [
    "dask.config.set(num_workers=n_jobs)"
   ]
  },
  {
   "attachments": {},
   "cell_type": "markdown",
   "id": "632c1c44",
   "metadata": {
    "papermill": {
     "duration": 0.002243,
     "end_time": "2024-08-28T10:12:21.622093",
     "exception": false,
     "start_time": "2024-08-28T10:12:21.619850",
     "status": "completed"
    },
    "tags": []
   },
   "source": [
    "### Input and output files"
   ]
  },
  {
   "cell_type": "code",
   "execution_count": 6,
   "id": "f01bd62d",
   "metadata": {
    "execution": {
     "iopub.execute_input": "2024-08-28T10:12:21.627314Z",
     "iopub.status.busy": "2024-08-28T10:12:21.627134Z",
     "iopub.status.idle": "2024-08-28T10:12:27.710453Z",
     "shell.execute_reply": "2024-08-28T10:12:27.709743Z"
    },
    "papermill": {
     "duration": 6.08774,
     "end_time": "2024-08-28T10:12:27.712122",
     "exception": false,
     "start_time": "2024-08-28T10:12:21.624382",
     "status": "completed"
    },
    "tags": []
   },
   "outputs": [],
   "source": [
    "columns = [\n",
    "    \"lon\",\n",
    "    \"lat\",\n",
    "    \"present_lon\",\n",
    "    \"present_lat\",\n",
    "    \"age (Ma)\",\n",
    "    \"erosion (m)\",\n",
    "    \"region\",\n",
    "]\n",
    "\n",
    "data_filename = os.path.join(data_dir, \"grid_data.csv\")\n",
    "training_filename = os.path.join(data_dir, \"training_data_global.csv\")\n",
    "\n",
    "point_data = dd.read_csv(data_filename)\n",
    "df_out = point_data[columns].compute()\n",
    "regions = list(dd.read_csv(training_filename)[\"region\"].unique())\n",
    "\n",
    "output_dir = os.path.join(output_dir, \"global\")"
   ]
  },
  {
   "attachments": {},
   "cell_type": "markdown",
   "id": "dc314a0d",
   "metadata": {
    "papermill": {
     "duration": 0.002675,
     "end_time": "2024-08-28T10:12:27.717870",
     "exception": false,
     "start_time": "2024-08-28T10:12:27.715195",
     "status": "completed"
    },
    "tags": []
   },
   "source": [
    "## Calculate probabilities\n",
    "\n",
    "Deposit probability will be calculated for the gridded data and written to a CSV file."
   ]
  },
  {
   "cell_type": "code",
   "execution_count": 7,
   "id": "5ac247e1",
   "metadata": {
    "execution": {
     "iopub.execute_input": "2024-08-28T10:12:27.724898Z",
     "iopub.status.busy": "2024-08-28T10:12:27.724642Z",
     "iopub.status.idle": "2024-08-28T10:22:03.804074Z",
     "shell.execute_reply": "2024-08-28T10:22:03.803466Z"
    },
    "papermill": {
     "duration": 576.087394,
     "end_time": "2024-08-28T10:22:03.808017",
     "exception": false,
     "start_time": "2024-08-28T10:12:27.720623",
     "status": "completed"
    },
    "tags": []
   },
   "outputs": [
    {
     "name": "stdout",
     "output_type": "stream",
     "text": [
      "Calculating probabilities for PU model complete (region: global; duration: 0:01:36.948725)\n"
     ]
    },
    {
     "name": "stdout",
     "output_type": "stream",
     "text": [
      "Calculating probabilities for PU model complete (region: North America; duration: 0:01:30.483395)\n"
     ]
    },
    {
     "name": "stdout",
     "output_type": "stream",
     "text": [
      "Calculating probabilities for PU model complete (region: South America; duration: 0:01:26.198883)\n"
     ]
    },
    {
     "name": "stdout",
     "output_type": "stream",
     "text": [
      "Calculating probabilities for PU model complete (region: Southeast Asia; duration: 0:01:30.402295)\n"
     ]
    },
    {
     "name": "stdout",
     "output_type": "stream",
     "text": [
      "Calculating probabilities for PU model complete (region: Tethys; duration: 0:01:27.258890)\n"
     ]
    },
    {
     "name": "stdout",
     "output_type": "stream",
     "text": [
      "Calculating probabilities for SVM model complete (region: global; duration: 0:00:44.824948)\n"
     ]
    },
    {
     "name": "stdout",
     "output_type": "stream",
     "text": [
      "Calculating probabilities for SVM model complete (region: North America; duration: 0:00:32.083647)\n"
     ]
    },
    {
     "name": "stdout",
     "output_type": "stream",
     "text": [
      "Calculating probabilities for SVM model complete (region: South America; duration: 0:00:47.867588)\n"
     ]
    }
   ],
   "source": [
    "for algorithm in (\"PU\", \"SVM\"):\n",
    "    t0 = time.time()\n",
    "\n",
    "    subdir = os.path.join(output_dir, algorithm)\n",
    "    model_filename = os.path.join(subdir, f\"classifier.joblib\")\n",
    "    probabilities_filename = os.path.join(\n",
    "        subdir,\n",
    "        \"grid_probabilities.csv\",\n",
    "    )\n",
    "    model = load(model_filename)\n",
    "\n",
    "    # Set model n_jobs if possible\n",
    "    # (let dask handle parallelism at this stage)\n",
    "    try:\n",
    "        model[-1].set_params(n_jobs=1)\n",
    "    except ValueError:\n",
    "        pass\n",
    "    model_parallel = ParallelPostFit(model)\n",
    "\n",
    "    point_x = point_data[model.feature_names_in_]\n",
    "    p = model_parallel.predict_proba(point_x)[:, 1].ravel().compute()\n",
    "    probabilities = df_out.copy()\n",
    "    probabilities[\"probability\"] = p\n",
    "    del p\n",
    "    probabilities.to_csv(probabilities_filename, index=False)\n",
    "    del probabilities, model\n",
    "    duration = timedelta(seconds=time.time() - t0)\n",
    "    if verbose:\n",
    "        print(\n",
    "            f\"Calculating probabilities for {algorithm} model complete\",\n",
    "            f\"(region: global; duration: {duration})\",\n",
    "        )\n",
    "\n",
    "    for region in regions:\n",
    "        region_code = \"_\".join(region.lower().split())\n",
    "        model_filename = os.path.join(\n",
    "            subdir,\n",
    "            f\"classifier_{region_code}.joblib\",\n",
    "        )\n",
    "        if not os.path.isfile(model_filename):\n",
    "            continue\n",
    "        t0 = time.time()\n",
    "\n",
    "        probabilities_filename = os.path.join(\n",
    "            subdir,\n",
    "            f\"grid_probabilities_{region_code}.csv\",\n",
    "        )\n",
    "        model = load(model_filename)\n",
    "\n",
    "        try:\n",
    "            model[-1].set_params(n_jobs=1)\n",
    "        except ValueError:\n",
    "            pass\n",
    "        model_parallel = ParallelPostFit(model)\n",
    "\n",
    "        point_x = point_data[model.feature_names_in_]\n",
    "        p = model_parallel.predict_proba(point_x)[:, 1].ravel().compute()\n",
    "        probabilities = df_out.copy()\n",
    "        probabilities[\"probability\"] = p\n",
    "        del p\n",
    "        probabilities.to_csv(probabilities_filename, index=False)\n",
    "        del probabilities, model\n",
    "        duration = timedelta(seconds=time.time() - t0)\n",
    "        if verbose:\n",
    "            print(\n",
    "                f\"Calculating probabilities for {algorithm} model complete\",\n",
    "                f\"(region: {region}; duration: {duration})\",\n",
    "            )\n",
    "\n",
    "del point_data"
   ]
  },
  {
   "cell_type": "markdown",
   "id": "e94d2cc2",
   "metadata": {
    "papermill": {
     "duration": 0.002995,
     "end_time": "2024-08-28T10:22:03.814096",
     "exception": false,
     "start_time": "2024-08-28T10:22:03.811101",
     "status": "completed"
    },
    "tags": []
   },
   "source": [
    "## Create probability maps\n",
    "\n",
    "The probabilities calculated in the previous section will now be written to one netCDF file per time step:"
   ]
  },
  {
   "cell_type": "code",
   "execution_count": 8,
   "id": "23b349d7",
   "metadata": {
    "execution": {
     "iopub.execute_input": "2024-08-28T10:22:03.820998Z",
     "iopub.status.busy": "2024-08-28T10:22:03.820774Z",
     "iopub.status.idle": "2024-08-28T16:13:21.367846Z",
     "shell.execute_reply": "2024-08-28T16:13:21.365046Z"
    },
    "papermill": {
     "duration": 21077.572361,
     "end_time": "2024-08-28T16:13:21.389391",
     "exception": false,
     "start_time": "2024-08-28T10:22:03.817030",
     "status": "completed"
    },
    "tags": []
   },
   "outputs": [
    {
     "name": "stdout",
     "output_type": "stream",
     "text": [
      "Creating grids for PU model complete (region: global; duration: 0:12:45.591400)\n"
     ]
    },
    {
     "name": "stdout",
     "output_type": "stream",
     "text": [
      "Creating grids for PU model complete (region: North America; duration: 0:12:39.979137)\n"
     ]
    },
    {
     "name": "stdout",
     "output_type": "stream",
     "text": [
      "Creating grids for PU model complete (region: South America; duration: 0:12:41.547800)\n"
     ]
    },
    {
     "name": "stdout",
     "output_type": "stream",
     "text": [
      "Creating grids for PU model complete (region: Southeast Asia; duration: 0:12:43.957705)\n"
     ]
    },
    {
     "name": "stdout",
     "output_type": "stream",
     "text": [
      "Creating grids for PU model complete (region: Tethys; duration: 1:32:57.268913)\n"
     ]
    },
    {
     "name": "stdout",
     "output_type": "stream",
     "text": [
      "Creating grids for SVM model complete (region: global; duration: 0:55:32.882253)\n"
     ]
    },
    {
     "name": "stdout",
     "output_type": "stream",
     "text": [
      "Creating grids for SVM model complete (region: North America; duration: 1:28:08.052080)\n"
     ]
    },
    {
     "name": "stdout",
     "output_type": "stream",
     "text": [
      "Creating grids for SVM model complete (region: South America; duration: 1:03:48.248376)\n"
     ]
    }
   ],
   "source": [
    "for algorithm in (\"PU\", \"SVM\"):\n",
    "    t0 = time.time()\n",
    "\n",
    "    subdir = os.path.join(output_dir, algorithm)\n",
    "    probabilities_filename = os.path.join(\n",
    "        subdir,\n",
    "        \"grid_probabilities.csv\",\n",
    "    )\n",
    "    grid_output_dir = os.path.join(\n",
    "        subdir,\n",
    "        \"probability_grids\",\n",
    "    )\n",
    "    os.makedirs(grid_output_dir, exist_ok=True)\n",
    "\n",
    "    create_probability_grids(\n",
    "        data=probabilities_filename,\n",
    "        output_dir=grid_output_dir,\n",
    "        threads=n_jobs,\n",
    "        extent=(-180, 180, -90, 90),\n",
    "    )\n",
    "    duration = timedelta(seconds=time.time() - t0)\n",
    "    if verbose:\n",
    "        print(\n",
    "            f\"Creating grids for {algorithm} model complete\",\n",
    "            f\"(region: global; duration: {duration})\",\n",
    "        )\n",
    "\n",
    "    for region in regions:\n",
    "        region_code = \"_\".join(region.lower().split())\n",
    "        subdir = os.path.join(output_dir, algorithm)\n",
    "        probabilities_filename = os.path.join(\n",
    "            subdir,\n",
    "            f\"grid_probabilities_{region_code}.csv\",\n",
    "        )\n",
    "        if not os.path.isfile(probabilities_filename):\n",
    "            continue\n",
    "        t0 = time.time()\n",
    "\n",
    "        grid_output_dir = os.path.join(\n",
    "            subdir,\n",
    "            f\"probability_grids_{region_code}\",\n",
    "        )\n",
    "        os.makedirs(grid_output_dir, exist_ok=True)\n",
    "\n",
    "        create_probability_grids(\n",
    "            data=probabilities_filename,\n",
    "            output_dir=grid_output_dir,\n",
    "            threads=n_jobs,\n",
    "            extent=(-180, 180, -90, 90),\n",
    "        )\n",
    "        duration = timedelta(seconds=time.time() - t0)\n",
    "        if verbose:\n",
    "            print(\n",
    "                f\"Creating grids for {algorithm} model complete\",\n",
    "                f\"(region: {region}; duration: {duration})\",\n",
    "            )"
   ]
  },
  {
   "cell_type": "code",
   "execution_count": null,
   "id": "d779a208",
   "metadata": {
    "papermill": {
     "duration": 0.016219,
     "end_time": "2024-08-28T16:13:21.421602",
     "exception": false,
     "start_time": "2024-08-28T16:13:21.405383",
     "status": "completed"
    },
    "tags": []
   },
   "outputs": [],
   "source": []
  }
 ],
 "metadata": {
  "kernelspec": {
   "display_name": "datamining",
   "language": "python",
   "name": "python3"
  },
  "language_info": {
   "codemirror_mode": {
    "name": "ipython",
    "version": 3
   },
   "file_extension": ".py",
   "mimetype": "text/x-python",
   "name": "python",
   "nbconvert_exporter": "python",
   "pygments_lexer": "ipython3",
   "version": "3.11.9"
  },
  "papermill": {
   "default_parameters": {},
   "duration": 21668.15692,
   "end_time": "2024-08-28T16:13:24.686746",
   "environment_variables": {},
   "exception": null,
   "input_path": "02-create_probability_maps.ipynb",
   "output_path": "02-create_probability_maps.ipynb",
   "parameters": {},
   "start_time": "2024-08-28T10:12:16.529826",
   "version": "2.4.0"
  }
 },
 "nbformat": 4,
 "nbformat_minor": 5
}