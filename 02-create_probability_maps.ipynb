{
 "cells": [
  {
   "attachments": {},
   "cell_type": "markdown",
   "id": "f09ddee5",
   "metadata": {
    "papermill": {
     "duration": 0.003315,
     "end_time": "2023-12-19T22:42:47.549188",
     "exception": false,
     "start_time": "2023-12-19T22:42:47.545873",
     "status": "completed"
    },
    "tags": []
   },
   "source": [
    "## Probability grids\n",
    "\n",
    "This notebook creates the time-dependent probability maps and writes them to file (`.nc` format). The notebook `01-create_classifiers.ipynb` must have been run previously."
   ]
  },
  {
   "cell_type": "code",
   "execution_count": 1,
   "id": "ec9f49db",
   "metadata": {
    "execution": {
     "iopub.execute_input": "2023-12-19T22:42:47.555855Z",
     "iopub.status.busy": "2023-12-19T22:42:47.555702Z",
     "iopub.status.idle": "2023-12-19T22:42:47.562124Z",
     "shell.execute_reply": "2023-12-19T22:42:47.561513Z"
    },
    "papermill": {
     "duration": 0.011592,
     "end_time": "2023-12-19T22:42:47.563820",
     "exception": false,
     "start_time": "2023-12-19T22:42:47.552228",
     "status": "completed"
    },
    "tags": []
   },
   "outputs": [],
   "source": [
    "use_extracted_data = False\n"
   ]
  },
  {
   "cell_type": "code",
   "execution_count": 2,
   "id": "8678b7a7",
   "metadata": {
    "execution": {
     "iopub.execute_input": "2023-12-19T22:42:47.570321Z",
     "iopub.status.busy": "2023-12-19T22:42:47.570132Z",
     "iopub.status.idle": "2023-12-19T22:42:49.421460Z",
     "shell.execute_reply": "2023-12-19T22:42:49.420836Z"
    },
    "papermill": {
     "duration": 1.856781,
     "end_time": "2023-12-19T22:42:49.423443",
     "exception": false,
     "start_time": "2023-12-19T22:42:47.566662",
     "status": "completed"
    },
    "tags": []
   },
   "outputs": [],
   "source": [
    "import os\n",
    "import time\n",
    "from datetime import timedelta\n",
    "\n",
    "import dask\n",
    "import dask.dataframe as dd\n",
    "from dask_ml.wrappers import ParallelPostFit\n",
    "from joblib import load\n",
    "\n",
    "from lib.check_files import check_prepared_data\n",
    "from lib.pu import create_probability_grids\n"
   ]
  },
  {
   "cell_type": "code",
   "execution_count": 3,
   "id": "53cac4c4",
   "metadata": {
    "execution": {
     "iopub.execute_input": "2023-12-19T22:42:49.430624Z",
     "iopub.status.busy": "2023-12-19T22:42:49.430269Z",
     "iopub.status.idle": "2023-12-19T22:42:49.436413Z",
     "shell.execute_reply": "2023-12-19T22:42:49.435883Z"
    },
    "papermill": {
     "duration": 0.01106,
     "end_time": "2023-12-19T22:42:49.437780",
     "exception": false,
     "start_time": "2023-12-19T22:42:49.426720",
     "status": "completed"
    },
    "tags": []
   },
   "outputs": [
    {
     "data": {
      "text/plain": [
       "<dask.config.set at 0x7fb8460c5b90>"
      ]
     },
     "execution_count": 3,
     "metadata": {},
     "output_type": "execute_result"
    }
   ],
   "source": [
    "n_jobs = int(os.environ.get(\"N_JOBS\", 8))\n",
    "dask.config.set(num_workers=n_jobs)\n"
   ]
  },
  {
   "attachments": {},
   "cell_type": "markdown",
   "id": "0b2519c9",
   "metadata": {
    "papermill": {
     "duration": 0.002933,
     "end_time": "2023-12-19T22:42:49.443949",
     "exception": false,
     "start_time": "2023-12-19T22:42:49.441016",
     "status": "completed"
    },
    "tags": []
   },
   "source": [
    "### Load input data from file"
   ]
  },
  {
   "cell_type": "code",
   "execution_count": 4,
   "id": "5cfb3705",
   "metadata": {
    "execution": {
     "iopub.execute_input": "2023-12-19T22:42:49.450518Z",
     "iopub.status.busy": "2023-12-19T22:42:49.450382Z",
     "iopub.status.idle": "2023-12-19T22:42:54.265122Z",
     "shell.execute_reply": "2023-12-19T22:42:54.264490Z"
    },
    "papermill": {
     "duration": 4.820303,
     "end_time": "2023-12-19T22:42:54.267169",
     "exception": false,
     "start_time": "2023-12-19T22:42:49.446866",
     "status": "completed"
    },
    "tags": []
   },
   "outputs": [],
   "source": [
    "if use_extracted_data:\n",
    "    data_dir = \"extracted_data\"\n",
    "else:\n",
    "    data_dir = \"prepared_data\"\n",
    "    check_prepared_data(data_dir, verbose=True)\n",
    "data_filename = os.path.join(data_dir, \"grid_data.csv\")\n",
    "point_data = dd.read_csv(data_filename)\n",
    "\n",
    "df_out = point_data[[\"lon\", \"lat\", \"age (Ma)\"]].compute()\n"
   ]
  },
  {
   "attachments": {},
   "cell_type": "markdown",
   "id": "9529131c",
   "metadata": {
    "papermill": {
     "duration": 0.002951,
     "end_time": "2023-12-19T22:42:54.273600",
     "exception": false,
     "start_time": "2023-12-19T22:42:54.270649",
     "status": "completed"
    },
    "tags": []
   },
   "source": [
    "### Calculate probabilities"
   ]
  },
  {
   "cell_type": "code",
   "execution_count": 5,
   "id": "196a6d7e",
   "metadata": {
    "execution": {
     "iopub.execute_input": "2023-12-19T22:42:54.280467Z",
     "iopub.status.busy": "2023-12-19T22:42:54.280314Z",
     "iopub.status.idle": "2023-12-19T22:45:12.343948Z",
     "shell.execute_reply": "2023-12-19T22:45:12.343058Z"
    },
    "papermill": {
     "duration": 138.069283,
     "end_time": "2023-12-19T22:45:12.345800",
     "exception": false,
     "start_time": "2023-12-19T22:42:54.276517",
     "status": "completed"
    },
    "tags": []
   },
   "outputs": [
    {
     "name": "stdout",
     "output_type": "stream",
     "text": [
      "Calculating probabilities for PU model... "
     ]
    },
    {
     "name": "stdout",
     "output_type": "stream",
     "text": [
      "Done! (duration: 0:01:59.936872)\n"
     ]
    },
    {
     "name": "stdout",
     "output_type": "stream",
     "text": [
      "Calculating probabilities for SVM model... "
     ]
    },
    {
     "name": "stdout",
     "output_type": "stream",
     "text": [
      "Done! (duration: 0:00:18.117867)\n"
     ]
    }
   ],
   "source": [
    "output_dir = os.path.join(\"outputs\", \"Americas\")\n",
    "\n",
    "for algorithm in (\"PU\", \"SVM\"):\n",
    "    print(\n",
    "        f\"Calculating probabilities for {algorithm} model... \",\n",
    "        end=\"\",\n",
    "        flush=True,\n",
    "    )\n",
    "    t0 = time.time()\n",
    "\n",
    "    subdir = os.path.join(output_dir, algorithm)\n",
    "    model_filename = os.path.join(subdir, f\"classifier.joblib\")\n",
    "    probabilities_filename = os.path.join(\n",
    "        subdir,\n",
    "        f\"grid_probabilities.csv\",\n",
    "    )\n",
    "    model = load(model_filename)\n",
    "\n",
    "    # Set model n_jobs if possible\n",
    "    # (let dask handle parallelism at this stage)\n",
    "    try:\n",
    "        model[-1].set_params(n_jobs=1)\n",
    "    except ValueError:\n",
    "        pass\n",
    "\n",
    "    model_parallel = ParallelPostFit(model)\n",
    "\n",
    "    point_x = point_data[model.feature_names_in_]\n",
    "    p = model_parallel.predict_proba(point_x)[:, 1].ravel().compute()\n",
    "    probabilities = df_out.copy()\n",
    "    probabilities[\"probability\"] = p\n",
    "    del p\n",
    "    probabilities.to_csv(probabilities_filename, index=False)\n",
    "    del probabilities, model\n",
    "    duration = timedelta(seconds=time.time() - t0)\n",
    "    print(f\"Done! (duration: {duration})\", flush=True)\n"
   ]
  },
  {
   "cell_type": "markdown",
   "id": "dfce6d61",
   "metadata": {
    "papermill": {
     "duration": 0.012836,
     "end_time": "2023-12-19T22:45:12.362538",
     "exception": false,
     "start_time": "2023-12-19T22:45:12.349702",
     "status": "completed"
    },
    "tags": []
   },
   "source": [
    "### Create probability maps"
   ]
  },
  {
   "cell_type": "code",
   "execution_count": 6,
   "id": "1e1b3c0f",
   "metadata": {
    "execution": {
     "iopub.execute_input": "2023-12-19T22:45:12.370734Z",
     "iopub.status.busy": "2023-12-19T22:45:12.370117Z",
     "iopub.status.idle": "2023-12-19T22:57:08.189678Z",
     "shell.execute_reply": "2023-12-19T22:57:08.188718Z"
    },
    "papermill": {
     "duration": 715.827955,
     "end_time": "2023-12-19T22:57:08.193806",
     "exception": false,
     "start_time": "2023-12-19T22:45:12.365851",
     "status": "completed"
    },
    "tags": []
   },
   "outputs": [
    {
     "name": "stdout",
     "output_type": "stream",
     "text": [
      "Creating grids for PU model... "
     ]
    },
    {
     "name": "stdout",
     "output_type": "stream",
     "text": [
      "Done!\n"
     ]
    },
    {
     "name": "stdout",
     "output_type": "stream",
     "text": [
      "Creating grids for SVM model... "
     ]
    },
    {
     "name": "stdout",
     "output_type": "stream",
     "text": [
      "Done!\n"
     ]
    }
   ],
   "source": [
    "for algorithm in (\"PU\", \"SVM\"):\n",
    "    print(\n",
    "        f\"Creating grids for {algorithm} model... \",\n",
    "        end=\"\",\n",
    "        flush=True,\n",
    "    )\n",
    "\n",
    "    subdir = os.path.join(output_dir, algorithm)\n",
    "    probabilities_filename = os.path.join(\n",
    "        subdir,\n",
    "        f\"grid_probabilities.csv\",\n",
    "    )\n",
    "    grid_output_dir = os.path.join(\n",
    "        subdir,\n",
    "        f\"probability_grids\",\n",
    "    )\n",
    "    os.makedirs(grid_output_dir, exist_ok=True)\n",
    "\n",
    "    create_probability_grids(\n",
    "        data=probabilities_filename,\n",
    "        output_dir=grid_output_dir,\n",
    "        threads=n_jobs,\n",
    "        extent=(-180, 180, -90, 90),\n",
    "    )\n",
    "    print(\"Done!\", flush=True)\n"
   ]
  },
  {
   "cell_type": "code",
   "execution_count": null,
   "id": "269b4994",
   "metadata": {
    "papermill": {
     "duration": 0.003844,
     "end_time": "2023-12-19T22:57:08.201878",
     "exception": false,
     "start_time": "2023-12-19T22:57:08.198034",
     "status": "completed"
    },
    "tags": []
   },
   "outputs": [],
   "source": []
  }
 ],
 "metadata": {
  "kernelspec": {
   "display_name": "datamining",
   "language": "python",
   "name": "python3"
  },
  "language_info": {
   "codemirror_mode": {
    "name": "ipython",
    "version": 3
   },
   "file_extension": ".py",
   "mimetype": "text/x-python",
   "name": "python",
   "nbconvert_exporter": "python",
   "pygments_lexer": "ipython3",
   "version": "3.11.6"
  },
  "papermill": {
   "default_parameters": {},
   "duration": 864.101515,
   "end_time": "2023-12-19T22:57:10.926783",
   "environment_variables": {},
   "exception": null,
   "input_path": "02-create_probability_maps.ipynb",
   "output_path": "02-create_probability_maps_output.ipynb",
   "parameters": {},
   "start_time": "2023-12-19T22:42:46.825268",
   "version": "2.4.0"
  }
 },
 "nbformat": 4,
 "nbformat_minor": 5
}