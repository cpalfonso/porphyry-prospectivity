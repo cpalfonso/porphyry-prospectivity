{
 "cells": [
  {
   "attachments": {},
   "cell_type": "markdown",
   "id": "80263a75",
   "metadata": {
    "papermill": {
     "duration": 0.005858,
     "end_time": "2024-11-15T00:29:15.288204",
     "exception": false,
     "start_time": "2024-11-15T00:29:15.282346",
     "status": "completed"
    },
    "tags": []
   },
   "source": [
    "# Probability grids\n",
    "\n",
    "This notebook creates the time-dependent probability maps and writes them to file (`.nc` format), using the models trained in the previous notebook (`01-create_classifiers.ipynb`). This notebook must have been run previously."
   ]
  },
  {
   "cell_type": "markdown",
   "id": "36e80d65",
   "metadata": {
    "papermill": {
     "duration": 0.002915,
     "end_time": "2024-11-15T00:29:15.294598",
     "exception": false,
     "start_time": "2024-11-15T00:29:15.291683",
     "status": "completed"
    },
    "tags": []
   },
   "source": [
    "## Notebook options\n",
    "\n",
    "These cells set some of the important variables and definitions used throughout the notebook."
   ]
  },
  {
   "cell_type": "code",
   "execution_count": 1,
   "id": "b4e52a19",
   "metadata": {
    "execution": {
     "iopub.execute_input": "2024-11-15T00:29:15.301663Z",
     "iopub.status.busy": "2024-11-15T00:29:15.301341Z",
     "iopub.status.idle": "2024-11-15T00:29:15.305410Z",
     "shell.execute_reply": "2024-11-15T00:29:15.304796Z"
    },
    "papermill": {
     "duration": 0.00943,
     "end_time": "2024-11-15T00:29:15.306814",
     "exception": false,
     "start_time": "2024-11-15T00:29:15.297384",
     "status": "completed"
    },
    "tags": []
   },
   "outputs": [],
   "source": [
    "config_file = \"notebook_parameters_test.yml\""
   ]
  },
  {
   "cell_type": "code",
   "execution_count": 2,
   "id": "8df5ad8b",
   "metadata": {
    "execution": {
     "iopub.execute_input": "2024-11-15T00:29:15.312813Z",
     "iopub.status.busy": "2024-11-15T00:29:15.312568Z",
     "iopub.status.idle": "2024-11-15T00:29:15.362382Z",
     "shell.execute_reply": "2024-11-15T00:29:15.361793Z"
    },
    "papermill": {
     "duration": 0.054311,
     "end_time": "2024-11-15T00:29:15.363726",
     "exception": false,
     "start_time": "2024-11-15T00:29:15.309415",
     "status": "completed"
    },
    "tags": []
   },
   "outputs": [],
   "source": [
    "from lib.load_params import get_params\n",
    "\n",
    "params = get_params(config_file, notebook=\"02\")\n",
    "\n",
    "# If True, use training data extracted in notebook 00c\n",
    "# Else, use pre-prepared training data downloaded from Zenodo\n",
    "use_extracted_data = params[\"use_extracted_data\"]\n",
    "\n",
    "# Number of processes to use\n",
    "n_jobs = params[\"n_jobs\"]\n",
    "\n",
    "# Overwrite any existing output files\n",
    "overwrite = params[\"overwrite_output\"]\n",
    "\n",
    "# Control verbosity level of logging output\n",
    "verbose = params[\"verbose\"]\n",
    "\n",
    "# Output directory\n",
    "output_dir = params[\"output_dir\"]"
   ]
  },
  {
   "cell_type": "markdown",
   "id": "544fcfcf",
   "metadata": {
    "papermill": {
     "duration": 0.002594,
     "end_time": "2024-11-15T00:29:15.368988",
     "exception": false,
     "start_time": "2024-11-15T00:29:15.366394",
     "status": "completed"
    },
    "tags": []
   },
   "source": [
    "## Notebook setup\n",
    "\n",
    "Imports, definitions, etc."
   ]
  },
  {
   "cell_type": "markdown",
   "id": "dca6800a",
   "metadata": {
    "papermill": {
     "duration": 0.002504,
     "end_time": "2024-11-15T00:29:15.373691",
     "exception": false,
     "start_time": "2024-11-15T00:29:15.371187",
     "status": "completed"
    },
    "tags": []
   },
   "source": [
    "### Imports"
   ]
  },
  {
   "cell_type": "code",
   "execution_count": 3,
   "id": "5303979d",
   "metadata": {
    "execution": {
     "iopub.execute_input": "2024-11-15T00:29:15.378942Z",
     "iopub.status.busy": "2024-11-15T00:29:15.378726Z",
     "iopub.status.idle": "2024-11-15T00:29:20.909056Z",
     "shell.execute_reply": "2024-11-15T00:29:20.908220Z"
    },
    "papermill": {
     "duration": 5.534843,
     "end_time": "2024-11-15T00:29:20.910622",
     "exception": false,
     "start_time": "2024-11-15T00:29:15.375779",
     "status": "completed"
    },
    "tags": []
   },
   "outputs": [],
   "source": [
    "import os\n",
    "import time\n",
    "from datetime import timedelta\n",
    "\n",
    "import dask\n",
    "import dask.dataframe as dd\n",
    "from dask_ml.wrappers import ParallelPostFit\n",
    "from joblib import load\n",
    "\n",
    "from lib.check_files import check_prepared_data\n",
    "from lib.pu import create_probability_grids"
   ]
  },
  {
   "cell_type": "markdown",
   "id": "ae9cc890",
   "metadata": {
    "papermill": {
     "duration": 0.002509,
     "end_time": "2024-11-15T00:29:20.915993",
     "exception": false,
     "start_time": "2024-11-15T00:29:20.913484",
     "status": "completed"
    },
    "tags": []
   },
   "source": [
    "We will use `dask-ml` to handle parallelism at this stage:"
   ]
  },
  {
   "cell_type": "code",
   "execution_count": 4,
   "id": "7342050e",
   "metadata": {
    "execution": {
     "iopub.execute_input": "2024-11-15T00:29:20.922721Z",
     "iopub.status.busy": "2024-11-15T00:29:20.921831Z",
     "iopub.status.idle": "2024-11-15T00:29:20.928857Z",
     "shell.execute_reply": "2024-11-15T00:29:20.928262Z"
    },
    "papermill": {
     "duration": 0.011754,
     "end_time": "2024-11-15T00:29:20.930167",
     "exception": false,
     "start_time": "2024-11-15T00:29:20.918413",
     "status": "completed"
    },
    "tags": []
   },
   "outputs": [
    {
     "data": {
      "text/plain": [
       "<dask.config.set at 0x176374920>"
      ]
     },
     "execution_count": 4,
     "metadata": {},
     "output_type": "execute_result"
    }
   ],
   "source": [
    "dask.config.set(num_workers=n_jobs)"
   ]
  },
  {
   "attachments": {},
   "cell_type": "markdown",
   "id": "632c1c44",
   "metadata": {
    "papermill": {
     "duration": 0.00255,
     "end_time": "2024-11-15T00:29:20.935398",
     "exception": false,
     "start_time": "2024-11-15T00:29:20.932848",
     "status": "completed"
    },
    "tags": []
   },
   "source": [
    "### Input and output files"
   ]
  },
  {
   "cell_type": "code",
   "execution_count": 5,
   "id": "f01bd62d",
   "metadata": {
    "execution": {
     "iopub.execute_input": "2024-11-15T00:29:20.941480Z",
     "iopub.status.busy": "2024-11-15T00:29:20.941202Z",
     "iopub.status.idle": "2024-11-15T00:29:28.888058Z",
     "shell.execute_reply": "2024-11-15T00:29:28.887451Z"
    },
    "papermill": {
     "duration": 7.951677,
     "end_time": "2024-11-15T00:29:28.889538",
     "exception": false,
     "start_time": "2024-11-15T00:29:20.937861",
     "status": "completed"
    },
    "tags": []
   },
   "outputs": [],
   "source": [
    "if use_extracted_data:\n",
    "    data_dir = params[\"extracted_data_dir\"]\n",
    "else:\n",
    "    data_dir = check_prepared_data(\"prepared_data\", verbose=True)\n",
    "\n",
    "columns = [\n",
    "    \"lon\",\n",
    "    \"lat\",\n",
    "    \"present_lon\",\n",
    "    \"present_lat\",\n",
    "    \"age (Ma)\",\n",
    "    \"erosion (m)\",\n",
    "    \"region\",\n",
    "]\n",
    "\n",
    "data_filename = os.path.join(data_dir, \"grid_data.csv\")\n",
    "training_filename = os.path.join(data_dir, \"training_data_global.csv\")\n",
    "\n",
    "point_data = dd.read_csv(data_filename)\n",
    "df_out = point_data[columns].compute()\n",
    "regions = list(dd.read_csv(training_filename)[\"region\"].unique())\n",
    "\n",
    "output_dir = os.path.join(output_dir, \"global\")"
   ]
  },
  {
   "attachments": {},
   "cell_type": "markdown",
   "id": "dc314a0d",
   "metadata": {
    "papermill": {
     "duration": 0.002634,
     "end_time": "2024-11-15T00:29:28.895256",
     "exception": false,
     "start_time": "2024-11-15T00:29:28.892622",
     "status": "completed"
    },
    "tags": []
   },
   "source": [
    "## Calculate probabilities\n",
    "\n",
    "Deposit probability will be calculated for the gridded data and written to a CSV file."
   ]
  },
  {
   "cell_type": "code",
   "execution_count": 6,
   "id": "5ac247e1",
   "metadata": {
    "execution": {
     "iopub.execute_input": "2024-11-15T00:29:28.901421Z",
     "iopub.status.busy": "2024-11-15T00:29:28.901153Z",
     "iopub.status.idle": "2024-11-15T00:43:17.994967Z",
     "shell.execute_reply": "2024-11-15T00:43:17.994324Z"
    },
    "papermill": {
     "duration": 829.098653,
     "end_time": "2024-11-15T00:43:17.996440",
     "exception": false,
     "start_time": "2024-11-15T00:29:28.897787",
     "status": "completed"
    },
    "tags": []
   },
   "outputs": [],
   "source": [
    "for algorithm in (\"PU\", \"SVM\"):\n",
    "    t0 = time.time()\n",
    "\n",
    "    subdir = os.path.join(output_dir, algorithm)\n",
    "    model_filename = os.path.join(subdir, f\"classifier.joblib\")\n",
    "    probabilities_filename = os.path.join(\n",
    "        subdir,\n",
    "        \"grid_probabilities.csv\",\n",
    "    )\n",
    "    model = load(model_filename)\n",
    "\n",
    "    # Set model n_jobs if possible\n",
    "    # (let dask handle parallelism at this stage)\n",
    "    try:\n",
    "        model[-1].set_params(n_jobs=1)\n",
    "    except ValueError:\n",
    "        pass\n",
    "    model_parallel = ParallelPostFit(model)\n",
    "\n",
    "    point_x = point_data[model.feature_names_in_]\n",
    "    p = model_parallel.predict_proba(point_x)[:, 1].ravel().compute()\n",
    "    probabilities = df_out.copy()\n",
    "    probabilities[\"probability\"] = p\n",
    "    del p\n",
    "    probabilities.to_csv(probabilities_filename, index=False)\n",
    "    del probabilities, model\n",
    "    duration = timedelta(seconds=time.time() - t0)\n",
    "    if verbose:\n",
    "        print(\n",
    "            f\"Calculating probabilities for {algorithm} model complete\",\n",
    "            f\"(region: global; duration: {duration})\",\n",
    "        )\n",
    "\n",
    "    for region in regions:\n",
    "        region_code = \"_\".join(region.lower().split())\n",
    "        model_filename = os.path.join(\n",
    "            subdir,\n",
    "            f\"classifier_{region_code}.joblib\",\n",
    "        )\n",
    "        if not os.path.isfile(model_filename):\n",
    "            continue\n",
    "        t0 = time.time()\n",
    "\n",
    "        probabilities_filename = os.path.join(\n",
    "            subdir,\n",
    "            f\"grid_probabilities_{region_code}.csv\",\n",
    "        )\n",
    "        model = load(model_filename)\n",
    "\n",
    "        try:\n",
    "            model[-1].set_params(n_jobs=1)\n",
    "        except ValueError:\n",
    "            pass\n",
    "        model_parallel = ParallelPostFit(model)\n",
    "\n",
    "        point_x = point_data[model.feature_names_in_]\n",
    "        p = model_parallel.predict_proba(point_x)[:, 1].ravel().compute()\n",
    "        probabilities = df_out.copy()\n",
    "        probabilities[\"probability\"] = p\n",
    "        del p\n",
    "        probabilities.to_csv(probabilities_filename, index=False)\n",
    "        del probabilities, model\n",
    "        duration = timedelta(seconds=time.time() - t0)\n",
    "        if verbose:\n",
    "            print(\n",
    "                f\"Calculating probabilities for {algorithm} model complete\",\n",
    "                f\"(region: {region}; duration: {duration})\",\n",
    "            )\n",
    "\n",
    "del point_data"
   ]
  },
  {
   "cell_type": "markdown",
   "id": "e94d2cc2",
   "metadata": {
    "papermill": {
     "duration": 0.002677,
     "end_time": "2024-11-15T00:43:18.002617",
     "exception": false,
     "start_time": "2024-11-15T00:43:17.999940",
     "status": "completed"
    },
    "tags": []
   },
   "source": [
    "## Create probability maps\n",
    "\n",
    "The probabilities calculated in the previous section will now be written to one netCDF file per time step:"
   ]
  },
  {
   "cell_type": "code",
   "execution_count": 7,
   "id": "23b349d7",
   "metadata": {
    "execution": {
     "iopub.execute_input": "2024-11-15T00:43:18.009298Z",
     "iopub.status.busy": "2024-11-15T00:43:18.009021Z",
     "iopub.status.idle": "2024-11-15T01:53:51.715166Z",
     "shell.execute_reply": "2024-11-15T01:53:51.713914Z"
    },
    "papermill": {
     "duration": 4233.711781,
     "end_time": "2024-11-15T01:53:51.716991",
     "exception": false,
     "start_time": "2024-11-15T00:43:18.005210",
     "status": "completed"
    },
    "tags": []
   },
   "outputs": [],
   "source": [
    "for algorithm in (\"PU\", \"SVM\"):\n",
    "    t0 = time.time()\n",
    "\n",
    "    subdir = os.path.join(output_dir, algorithm)\n",
    "    probabilities_filename = os.path.join(\n",
    "        subdir,\n",
    "        \"grid_probabilities.csv\",\n",
    "    )\n",
    "    grid_output_dir = os.path.join(\n",
    "        subdir,\n",
    "        \"probability_grids\",\n",
    "    )\n",
    "    os.makedirs(grid_output_dir, exist_ok=True)\n",
    "\n",
    "    create_probability_grids(\n",
    "        data=probabilities_filename,\n",
    "        output_dir=grid_output_dir,\n",
    "        threads=n_jobs,\n",
    "        extent=(-180, 180, -90, 90),\n",
    "    )\n",
    "    duration = timedelta(seconds=time.time() - t0)\n",
    "    if verbose:\n",
    "        print(\n",
    "            f\"Creating grids for {algorithm} model complete\",\n",
    "            f\"(region: global; duration: {duration})\",\n",
    "        )\n",
    "\n",
    "    for region in regions:\n",
    "        region_code = \"_\".join(region.lower().split())\n",
    "        subdir = os.path.join(output_dir, algorithm)\n",
    "        probabilities_filename = os.path.join(\n",
    "            subdir,\n",
    "            f\"grid_probabilities_{region_code}.csv\",\n",
    "        )\n",
    "        if not os.path.isfile(probabilities_filename):\n",
    "            continue\n",
    "        t0 = time.time()\n",
    "\n",
    "        grid_output_dir = os.path.join(\n",
    "            subdir,\n",
    "            f\"probability_grids_{region_code}\",\n",
    "        )\n",
    "        os.makedirs(grid_output_dir, exist_ok=True)\n",
    "\n",
    "        create_probability_grids(\n",
    "            data=probabilities_filename,\n",
    "            output_dir=grid_output_dir,\n",
    "            threads=n_jobs,\n",
    "            extent=(-180, 180, -90, 90),\n",
    "        )\n",
    "        duration = timedelta(seconds=time.time() - t0)\n",
    "        if verbose:\n",
    "            print(\n",
    "                f\"Creating grids for {algorithm} model complete\",\n",
    "                f\"(region: {region}; duration: {duration})\",\n",
    "            )"
   ]
  },
  {
   "cell_type": "code",
   "execution_count": null,
   "id": "d779a208",
   "metadata": {
    "papermill": {
     "duration": 0.003134,
     "end_time": "2024-11-15T01:53:51.726346",
     "exception": false,
     "start_time": "2024-11-15T01:53:51.723212",
     "status": "completed"
    },
    "tags": []
   },
   "outputs": [],
   "source": []
  }
 ],
 "metadata": {
  "kernelspec": {
   "display_name": "datamining",
   "language": "python",
   "name": "python3"
  },
  "language_info": {
   "codemirror_mode": {
    "name": "ipython",
    "version": 3
   },
   "file_extension": ".py",
   "mimetype": "text/x-python",
   "name": "python",
   "nbconvert_exporter": "python",
   "pygments_lexer": "ipython3",
   "version": "3.12.3"
  },
  "papermill": {
   "default_parameters": {},
   "duration": 5080.237448,
   "end_time": "2024-11-15T01:53:54.657511",
   "environment_variables": {},
   "exception": null,
   "input_path": "02-create_probability_maps.ipynb",
   "output_path": "02-create_probability_maps.ipynb",
   "parameters": {},
   "start_time": "2024-11-15T00:29:14.420063",
   "version": "2.4.0"
  }
 },
 "nbformat": 4,
 "nbformat_minor": 5
}