{
 "cells": [
  {
   "attachments": {},
   "cell_type": "markdown",
   "id": "80263a75",
   "metadata": {
    "papermill": {
     "duration": 0.003638,
     "end_time": "2025-07-04T12:35:54.071857",
     "exception": false,
     "start_time": "2025-07-04T12:35:54.068219",
     "status": "completed"
    },
    "tags": []
   },
   "source": [
    "# Probability grids\n",
    "\n",
    "This notebook creates the time-dependent probability maps and writes them to file (`.nc` format), using the models trained in the previous notebook (`01-create_classifiers.ipynb`). This notebook must have been run previously."
   ]
  },
  {
   "cell_type": "markdown",
   "id": "36e80d65",
   "metadata": {
    "papermill": {
     "duration": 0.002802,
     "end_time": "2025-07-04T12:35:54.078430",
     "exception": false,
     "start_time": "2025-07-04T12:35:54.075628",
     "status": "completed"
    },
    "tags": []
   },
   "source": [
    "## Notebook options\n",
    "\n",
    "These cells set some of the important variables and definitions used throughout the notebook."
   ]
  },
  {
   "cell_type": "code",
   "execution_count": 1,
   "id": "b4e52a19",
   "metadata": {
    "execution": {
     "iopub.execute_input": "2025-07-04T12:35:54.086529Z",
     "iopub.status.busy": "2025-07-04T12:35:54.086205Z",
     "iopub.status.idle": "2025-07-04T12:35:54.091063Z",
     "shell.execute_reply": "2025-07-04T12:35:54.090279Z"
    },
    "papermill": {
     "duration": 0.010964,
     "end_time": "2025-07-04T12:35:54.092874",
     "exception": false,
     "start_time": "2025-07-04T12:35:54.081910",
     "status": "completed"
    },
    "tags": []
   },
   "outputs": [],
   "source": [
    "config_file = \"notebook_parameters_default.yml\""
   ]
  },
  {
   "cell_type": "code",
   "execution_count": 2,
   "id": "8df5ad8b",
   "metadata": {
    "execution": {
     "iopub.execute_input": "2025-07-04T12:35:54.099236Z",
     "iopub.status.busy": "2025-07-04T12:35:54.098958Z",
     "iopub.status.idle": "2025-07-04T12:35:54.143345Z",
     "shell.execute_reply": "2025-07-04T12:35:54.142767Z"
    },
    "papermill": {
     "duration": 0.049264,
     "end_time": "2025-07-04T12:35:54.144805",
     "exception": false,
     "start_time": "2025-07-04T12:35:54.095541",
     "status": "completed"
    },
    "tags": []
   },
   "outputs": [],
   "source": [
    "from lib.load_params import get_params\n",
    "\n",
    "params = get_params(config_file, notebook=\"02\")\n",
    "\n",
    "# If True, use training data extracted in notebook 00c\n",
    "# Else, use pre-prepared training data downloaded from Zenodo\n",
    "use_extracted_data = params[\"use_extracted_data\"]\n",
    "\n",
    "# Number of processes to use\n",
    "n_jobs = params[\"n_jobs\"]\n",
    "\n",
    "# Overwrite any existing output files\n",
    "overwrite = params[\"overwrite_output\"]\n",
    "\n",
    "# Control verbosity level of logging output\n",
    "verbose = params[\"verbose\"]\n",
    "\n",
    "# Output directory\n",
    "output_dir = params[\"output_dir\"]"
   ]
  },
  {
   "cell_type": "markdown",
   "id": "544fcfcf",
   "metadata": {
    "papermill": {
     "duration": 0.002388,
     "end_time": "2025-07-04T12:35:54.149872",
     "exception": false,
     "start_time": "2025-07-04T12:35:54.147484",
     "status": "completed"
    },
    "tags": []
   },
   "source": [
    "## Notebook setup\n",
    "\n",
    "Imports, definitions, etc."
   ]
  },
  {
   "cell_type": "markdown",
   "id": "dca6800a",
   "metadata": {
    "papermill": {
     "duration": 0.002013,
     "end_time": "2025-07-04T12:35:54.153987",
     "exception": false,
     "start_time": "2025-07-04T12:35:54.151974",
     "status": "completed"
    },
    "tags": []
   },
   "source": [
    "### Imports"
   ]
  },
  {
   "cell_type": "code",
   "execution_count": 3,
   "id": "5303979d",
   "metadata": {
    "execution": {
     "iopub.execute_input": "2025-07-04T12:35:54.158995Z",
     "iopub.status.busy": "2025-07-04T12:35:54.158743Z",
     "iopub.status.idle": "2025-07-04T12:35:58.320572Z",
     "shell.execute_reply": "2025-07-04T12:35:58.319908Z"
    },
    "papermill": {
     "duration": 4.166195,
     "end_time": "2025-07-04T12:35:58.322161",
     "exception": false,
     "start_time": "2025-07-04T12:35:54.155966",
     "status": "completed"
    },
    "tags": []
   },
   "outputs": [],
   "source": [
    "import os\n",
    "import time\n",
    "from datetime import timedelta\n",
    "\n",
    "import pandas as pd\n",
    "from joblib import load\n",
    "\n",
    "from lib.check_files import check_prepared_data\n",
    "from lib.pu import create_probability_grids"
   ]
  },
  {
   "attachments": {},
   "cell_type": "markdown",
   "id": "632c1c44",
   "metadata": {
    "papermill": {
     "duration": 0.002229,
     "end_time": "2025-07-04T12:35:58.326776",
     "exception": false,
     "start_time": "2025-07-04T12:35:58.324547",
     "status": "completed"
    },
    "tags": []
   },
   "source": [
    "### Input and output files"
   ]
  },
  {
   "cell_type": "code",
   "execution_count": 4,
   "id": "f01bd62d",
   "metadata": {
    "execution": {
     "iopub.execute_input": "2025-07-04T12:35:58.332087Z",
     "iopub.status.busy": "2025-07-04T12:35:58.331633Z",
     "iopub.status.idle": "2025-07-04T12:36:39.607132Z",
     "shell.execute_reply": "2025-07-04T12:36:39.605065Z"
    },
    "papermill": {
     "duration": 41.280464,
     "end_time": "2025-07-04T12:36:39.609334",
     "exception": false,
     "start_time": "2025-07-04T12:35:58.328870",
     "status": "completed"
    },
    "tags": []
   },
   "outputs": [],
   "source": [
    "if use_extracted_data:\n",
    "    data_dir = params[\"extracted_data_dir\"]\n",
    "else:\n",
    "    data_dir = check_prepared_data(\"prepared_data\", verbose=True)\n",
    "\n",
    "columns = [\n",
    "    \"lon\",\n",
    "    \"lat\",\n",
    "    \"present_lon\",\n",
    "    \"present_lat\",\n",
    "    \"age (Ma)\",\n",
    "    \"erosion (m)\",\n",
    "    \"region\",\n",
    "]\n",
    "\n",
    "data_filename = os.path.join(data_dir, \"grid_data.csv\")\n",
    "training_filename = os.path.join(data_dir, \"training_data_global.csv\")\n",
    "\n",
    "point_data = pd.read_csv(data_filename)\n",
    "df_out = point_data[columns]\n",
    "regions = list(pd.read_csv(training_filename)[\"region\"].unique())\n",
    "\n",
    "output_dir = os.path.join(output_dir, \"global\")"
   ]
  },
  {
   "attachments": {},
   "cell_type": "markdown",
   "id": "dc314a0d",
   "metadata": {
    "papermill": {
     "duration": 0.002109,
     "end_time": "2025-07-04T12:36:39.614298",
     "exception": false,
     "start_time": "2025-07-04T12:36:39.612189",
     "status": "completed"
    },
    "tags": []
   },
   "source": [
    "## Calculate probabilities\n",
    "\n",
    "Deposit probability will be calculated for the gridded data and written to a CSV file."
   ]
  },
  {
   "cell_type": "code",
   "execution_count": 5,
   "id": "5ac247e1",
   "metadata": {
    "execution": {
     "iopub.execute_input": "2025-07-04T12:36:39.622100Z",
     "iopub.status.busy": "2025-07-04T12:36:39.621592Z",
     "iopub.status.idle": "2025-07-04T13:00:59.960424Z",
     "shell.execute_reply": "2025-07-04T13:00:59.958558Z"
    },
    "papermill": {
     "duration": 1460.353265,
     "end_time": "2025-07-04T13:00:59.969803",
     "exception": false,
     "start_time": "2025-07-04T12:36:39.616538",
     "status": "completed"
    },
    "tags": []
   },
   "outputs": [],
   "source": [
    "for algorithm in (\"PU\", \"SVM\"):\n",
    "    t0 = time.time()\n",
    "\n",
    "    subdir = os.path.join(output_dir, algorithm)\n",
    "    model_filename = os.path.join(subdir, f\"classifier.joblib\")\n",
    "    probabilities_filename = os.path.join(\n",
    "        subdir,\n",
    "        \"grid_probabilities.csv\",\n",
    "    )\n",
    "    model = load(model_filename)\n",
    "\n",
    "    point_x = point_data[model.feature_names_in_]\n",
    "    p = model.predict_proba(point_x)[:, 1].ravel()\n",
    "    probabilities = df_out.copy()\n",
    "    probabilities[\"probability\"] = p\n",
    "    del p\n",
    "    probabilities.to_csv(probabilities_filename, index=False)\n",
    "    del probabilities, model\n",
    "    duration = timedelta(seconds=time.time() - t0)\n",
    "    if verbose:\n",
    "        print(\n",
    "            f\"Calculating probabilities for {algorithm} model complete\",\n",
    "            f\"(region: global; duration: {duration})\",\n",
    "        )\n",
    "\n",
    "    for region in regions:\n",
    "        region_code = \"_\".join(region.lower().split())\n",
    "        model_filename = os.path.join(\n",
    "            subdir,\n",
    "            f\"classifier_{region_code}.joblib\",\n",
    "        )\n",
    "        if not os.path.isfile(model_filename):\n",
    "            continue\n",
    "        t0 = time.time()\n",
    "\n",
    "        probabilities_filename = os.path.join(\n",
    "            subdir,\n",
    "            f\"grid_probabilities_{region_code}.csv\",\n",
    "        )\n",
    "        model = load(model_filename)\n",
    "\n",
    "        try:\n",
    "            model[-1].set_params(n_jobs=1)\n",
    "        except ValueError:\n",
    "            pass\n",
    "\n",
    "        point_x = point_data[model.feature_names_in_]\n",
    "        p = model.predict_proba(point_x)[:, 1].ravel()\n",
    "        \n",
    "        \n",
    "        \n",
    "        \n",
    "        \n",
    "        \n",
    "        \n",
    "        ()\n",
    "        probabilities = df_out.copy()\n",
    "        probabilities[\"probability\"] = p\n",
    "        del p\n",
    "        probabilities.to_csv(probabilities_filename, index=False)\n",
    "        del probabilities, model\n",
    "        duration = timedelta(seconds=time.time() - t0)\n",
    "        if verbose:\n",
    "            print(\n",
    "                f\"Calculating probabilities for {algorithm} model complete\",\n",
    "                f\"(region: {region}; duration: {duration})\",\n",
    "            )\n",
    "\n",
    "del point_data"
   ]
  },
  {
   "cell_type": "markdown",
   "id": "e94d2cc2",
   "metadata": {
    "papermill": {
     "duration": 0.003582,
     "end_time": "2025-07-04T13:00:59.979443",
     "exception": false,
     "start_time": "2025-07-04T13:00:59.975861",
     "status": "completed"
    },
    "tags": []
   },
   "source": [
    "## Create probability maps\n",
    "\n",
    "The probabilities calculated in the previous section will now be written to one netCDF file per time step:"
   ]
  },
  {
   "cell_type": "code",
   "execution_count": 6,
   "id": "23b349d7",
   "metadata": {
    "execution": {
     "iopub.execute_input": "2025-07-04T13:00:59.986337Z",
     "iopub.status.busy": "2025-07-04T13:00:59.985983Z",
     "iopub.status.idle": "2025-07-04T14:29:20.961447Z",
     "shell.execute_reply": "2025-07-04T14:29:20.956703Z"
    },
    "papermill": {
     "duration": 5300.988516,
     "end_time": "2025-07-04T14:29:20.970715",
     "exception": false,
     "start_time": "2025-07-04T13:00:59.982199",
     "status": "completed"
    },
    "tags": []
   },
   "outputs": [],
   "source": [
    "for algorithm in (\"PU\", \"SVM\"):\n",
    "    t0 = time.time()\n",
    "\n",
    "    subdir = os.path.join(output_dir, algorithm)\n",
    "    probabilities_filename = os.path.join(\n",
    "        subdir,\n",
    "        \"grid_probabilities.csv\",\n",
    "    )\n",
    "    grid_output_dir = os.path.join(\n",
    "        subdir,\n",
    "        \"probability_grids\",\n",
    "    )\n",
    "    os.makedirs(grid_output_dir, exist_ok=True)\n",
    "\n",
    "    create_probability_grids(\n",
    "        data=probabilities_filename,\n",
    "        output_dir=grid_output_dir,\n",
    "        threads=n_jobs,\n",
    "        extent=(-180, 180, -90, 90),\n",
    "    )\n",
    "    duration = timedelta(seconds=time.time() - t0)\n",
    "    if verbose:\n",
    "        print(\n",
    "            f\"Creating grids for {algorithm} model complete\",\n",
    "            f\"(region: global; duration: {duration})\",\n",
    "        )\n",
    "\n",
    "    for region in regions:\n",
    "        region_code = \"_\".join(region.lower().split())\n",
    "        subdir = os.path.join(output_dir, algorithm)\n",
    "        probabilities_filename = os.path.join(\n",
    "            subdir,\n",
    "            f\"grid_probabilities_{region_code}.csv\",\n",
    "        )\n",
    "        if not os.path.isfile(probabilities_filename):\n",
    "            continue\n",
    "        t0 = time.time()\n",
    "\n",
    "        grid_output_dir = os.path.join(\n",
    "            subdir,\n",
    "            f\"probability_grids_{region_code}\",\n",
    "        )\n",
    "        os.makedirs(grid_output_dir, exist_ok=True)\n",
    "\n",
    "        create_probability_grids(\n",
    "            data=probabilities_filename,\n",
    "            output_dir=grid_output_dir,\n",
    "            threads=n_jobs,\n",
    "            extent=(-180, 180, -90, 90),\n",
    "        )\n",
    "        duration = timedelta(seconds=time.time() - t0)\n",
    "        if verbose:\n",
    "            print(\n",
    "                f\"Creating grids for {algorithm} model complete\",\n",
    "                f\"(region: {region}; duration: {duration})\",\n",
    "            )"
   ]
  },
  {
   "cell_type": "code",
   "execution_count": null,
   "id": "d779a208",
   "metadata": {
    "papermill": {
     "duration": 0.003256,
     "end_time": "2025-07-04T14:29:20.985719",
     "exception": false,
     "start_time": "2025-07-04T14:29:20.982463",
     "status": "completed"
    },
    "tags": []
   },
   "outputs": [],
   "source": []
  }
 ],
 "metadata": {
  "kernelspec": {
   "display_name": "datamining",
   "language": "python",
   "name": "python3"
  },
  "language_info": {
   "codemirror_mode": {
    "name": "ipython",
    "version": 3
   },
   "file_extension": ".py",
   "mimetype": "text/x-python",
   "name": "python",
   "nbconvert_exporter": "python",
   "pygments_lexer": "ipython3",
   "version": "3.13.5"
  },
  "papermill": {
   "default_parameters": {},
   "duration": 6810.744596,
   "end_time": "2025-07-04T14:29:23.832037",
   "environment_variables": {},
   "exception": null,
   "input_path": "02-create_probability_maps.ipynb",
   "output_path": "02-create_probability_maps_output.ipynb",
   "parameters": {},
   "start_time": "2025-07-04T12:35:53.087441",
   "version": "2.4.0"
  }
 },
 "nbformat": 4,
 "nbformat_minor": 5
}