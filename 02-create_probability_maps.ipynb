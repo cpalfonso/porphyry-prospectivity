{
 "cells": [
  {
   "attachments": {},
   "cell_type": "markdown",
   "id": "80263a75",
   "metadata": {
    "papermill": {
     "duration": 0.005505,
     "end_time": "2024-07-30T09:39:10.320687",
     "exception": false,
     "start_time": "2024-07-30T09:39:10.315182",
     "status": "completed"
    },
    "tags": []
   },
   "source": [
    "# Probability grids\n",
    "\n",
    "This notebook creates the time-dependent probability maps and writes them to file (`.nc` format), using the models trained in the previous notebook (`01-create_classifiers.ipynb`). This notebook must have been run previously."
   ]
  },
  {
   "cell_type": "markdown",
   "id": "36e80d65",
   "metadata": {
    "papermill": {
     "duration": 0.003051,
     "end_time": "2024-07-30T09:39:10.327236",
     "exception": false,
     "start_time": "2024-07-30T09:39:10.324185",
     "status": "completed"
    },
    "tags": []
   },
   "source": [
    "## Notebook options\n",
    "\n",
    "These cells set some of the important variables and definitions used throughout the notebook."
   ]
  },
  {
   "cell_type": "code",
   "execution_count": 1,
   "id": "9057911b",
   "metadata": {
    "execution": {
     "iopub.execute_input": "2024-07-30T09:39:10.334644Z",
     "iopub.status.busy": "2024-07-30T09:39:10.334326Z",
     "iopub.status.idle": "2024-07-30T09:39:10.341459Z",
     "shell.execute_reply": "2024-07-30T09:39:10.340759Z"
    },
    "papermill": {
     "duration": 0.012912,
     "end_time": "2024-07-30T09:39:10.343139",
     "exception": false,
     "start_time": "2024-07-30T09:39:10.330227",
     "status": "completed"
    },
    "tags": []
   },
   "outputs": [],
   "source": [
    "# If True, use training data extracted in notebook 00c\n",
    "# Else, use pre-prepared training data downloaded from Zenodo\n",
    "use_extracted_data = True\n",
    "\n",
    "# Number of processes to use\n",
    "n_jobs = 4\n",
    "\n",
    "# Overwrite any existing output files\n",
    "overwrite = True\n",
    "\n",
    "# Control verbosity level of logging output\n",
    "verbose = True"
   ]
  },
  {
   "cell_type": "markdown",
   "id": "6bcc106f",
   "metadata": {
    "papermill": {
     "duration": 0.003179,
     "end_time": "2024-07-30T09:39:10.349319",
     "exception": false,
     "start_time": "2024-07-30T09:39:10.346140",
     "status": "completed"
    },
    "tags": []
   },
   "source": [
    "These values will usually not need to be modified:"
   ]
  },
  {
   "cell_type": "code",
   "execution_count": 2,
   "id": "40a511d9",
   "metadata": {
    "execution": {
     "iopub.execute_input": "2024-07-30T09:39:10.355856Z",
     "iopub.status.busy": "2024-07-30T09:39:10.355601Z",
     "iopub.status.idle": "2024-07-30T09:39:10.415124Z",
     "shell.execute_reply": "2024-07-30T09:39:10.414525Z"
    },
    "papermill": {
     "duration": 0.064712,
     "end_time": "2024-07-30T09:39:10.416765",
     "exception": false,
     "start_time": "2024-07-30T09:39:10.352053",
     "status": "completed"
    },
    "tags": []
   },
   "outputs": [],
   "source": [
    "import os\n",
    "\n",
    "from lib.check_files import check_prepared_data\n",
    "\n",
    "if use_extracted_data:\n",
    "    data_dir = \"extracted_data\"\n",
    "else:\n",
    "    data_dir = check_prepared_data(\"prepared_data\", verbose=True)\n",
    "\n",
    "output_dir = \"outputs\""
   ]
  },
  {
   "cell_type": "markdown",
   "id": "2efa9d67",
   "metadata": {
    "papermill": {
     "duration": 0.002436,
     "end_time": "2024-07-30T09:39:10.421969",
     "exception": false,
     "start_time": "2024-07-30T09:39:10.419533",
     "status": "completed"
    },
    "tags": []
   },
   "source": [
    "If any of the following exist as environment variables, they will replace the values defined above:"
   ]
  },
  {
   "cell_type": "code",
   "execution_count": 3,
   "id": "f2d69c31",
   "metadata": {
    "execution": {
     "iopub.execute_input": "2024-07-30T09:39:10.428114Z",
     "iopub.status.busy": "2024-07-30T09:39:10.427896Z",
     "iopub.status.idle": "2024-07-30T09:39:10.430897Z",
     "shell.execute_reply": "2024-07-30T09:39:10.430452Z"
    },
    "papermill": {
     "duration": 0.007744,
     "end_time": "2024-07-30T09:39:10.432467",
     "exception": false,
     "start_time": "2024-07-30T09:39:10.424723",
     "status": "completed"
    },
    "tags": []
   },
   "outputs": [],
   "source": [
    "n_jobs = int(os.environ.get(\"N_JOBS\", n_jobs))\n",
    "overwrite = bool(int(os.environ.get(\"OVERWRITE\", overwrite)))\n",
    "verbose = bool(int(os.environ.get(\"VERBOSE\", verbose)))\n",
    "output_dir = os.environ.get(\"OUTPUT_DIR\", output_dir)"
   ]
  },
  {
   "cell_type": "markdown",
   "id": "544fcfcf",
   "metadata": {
    "papermill": {
     "duration": 0.004436,
     "end_time": "2024-07-30T09:39:10.441042",
     "exception": false,
     "start_time": "2024-07-30T09:39:10.436606",
     "status": "completed"
    },
    "tags": []
   },
   "source": [
    "## Notebook setup\n",
    "\n",
    "Imports, definitions, etc."
   ]
  },
  {
   "cell_type": "markdown",
   "id": "dca6800a",
   "metadata": {
    "papermill": {
     "duration": 0.002614,
     "end_time": "2024-07-30T09:39:10.446745",
     "exception": false,
     "start_time": "2024-07-30T09:39:10.444131",
     "status": "completed"
    },
    "tags": []
   },
   "source": [
    "### Imports"
   ]
  },
  {
   "cell_type": "code",
   "execution_count": 4,
   "id": "5303979d",
   "metadata": {
    "execution": {
     "iopub.execute_input": "2024-07-30T09:39:10.453022Z",
     "iopub.status.busy": "2024-07-30T09:39:10.452777Z",
     "iopub.status.idle": "2024-07-30T09:39:14.084205Z",
     "shell.execute_reply": "2024-07-30T09:39:14.083616Z"
    },
    "papermill": {
     "duration": 3.636301,
     "end_time": "2024-07-30T09:39:14.085688",
     "exception": false,
     "start_time": "2024-07-30T09:39:10.449387",
     "status": "completed"
    },
    "tags": []
   },
   "outputs": [],
   "source": [
    "import time\n",
    "from datetime import timedelta\n",
    "\n",
    "import dask\n",
    "import dask.dataframe as dd\n",
    "from dask_ml.wrappers import ParallelPostFit\n",
    "from joblib import load\n",
    "\n",
    "from lib.pu import create_probability_grids"
   ]
  },
  {
   "cell_type": "markdown",
   "id": "ae9cc890",
   "metadata": {
    "papermill": {
     "duration": 0.002111,
     "end_time": "2024-07-30T09:39:14.090229",
     "exception": false,
     "start_time": "2024-07-30T09:39:14.088118",
     "status": "completed"
    },
    "tags": []
   },
   "source": [
    "We will use `dask-ml` to handle parallelism at this stage:"
   ]
  },
  {
   "cell_type": "code",
   "execution_count": 5,
   "id": "7342050e",
   "metadata": {
    "execution": {
     "iopub.execute_input": "2024-07-30T09:39:14.095629Z",
     "iopub.status.busy": "2024-07-30T09:39:14.095164Z",
     "iopub.status.idle": "2024-07-30T09:39:14.102249Z",
     "shell.execute_reply": "2024-07-30T09:39:14.101400Z"
    },
    "papermill": {
     "duration": 0.011667,
     "end_time": "2024-07-30T09:39:14.103867",
     "exception": false,
     "start_time": "2024-07-30T09:39:14.092200",
     "status": "completed"
    },
    "tags": []
   },
   "outputs": [
    {
     "data": {
      "text/plain": [
       "<dask.config.set at 0x10f5d5ed0>"
      ]
     },
     "execution_count": 5,
     "metadata": {},
     "output_type": "execute_result"
    }
   ],
   "source": [
    "dask.config.set(num_workers=n_jobs)"
   ]
  },
  {
   "attachments": {},
   "cell_type": "markdown",
   "id": "632c1c44",
   "metadata": {
    "papermill": {
     "duration": 0.002222,
     "end_time": "2024-07-30T09:39:14.108630",
     "exception": false,
     "start_time": "2024-07-30T09:39:14.106408",
     "status": "completed"
    },
    "tags": []
   },
   "source": [
    "### Input and output files"
   ]
  },
  {
   "cell_type": "code",
   "execution_count": 6,
   "id": "f01bd62d",
   "metadata": {
    "execution": {
     "iopub.execute_input": "2024-07-30T09:39:14.114134Z",
     "iopub.status.busy": "2024-07-30T09:39:14.113844Z",
     "iopub.status.idle": "2024-07-30T09:39:20.257153Z",
     "shell.execute_reply": "2024-07-30T09:39:20.256587Z"
    },
    "papermill": {
     "duration": 6.148079,
     "end_time": "2024-07-30T09:39:20.258804",
     "exception": false,
     "start_time": "2024-07-30T09:39:14.110725",
     "status": "completed"
    },
    "tags": []
   },
   "outputs": [],
   "source": [
    "columns = [\n",
    "    \"lon\",\n",
    "    \"lat\",\n",
    "    \"present_lon\",\n",
    "    \"present_lat\",\n",
    "    \"age (Ma)\",\n",
    "    \"erosion (m)\",\n",
    "    \"region\",\n",
    "]\n",
    "\n",
    "data_filename = os.path.join(data_dir, \"grid_data.csv\")\n",
    "training_filename = os.path.join(data_dir, \"training_data_global.csv\")\n",
    "\n",
    "point_data = dd.read_csv(data_filename)\n",
    "df_out = point_data[columns].compute()\n",
    "regions = list(dd.read_csv(training_filename)[\"region\"].unique())\n",
    "\n",
    "output_dir = os.path.join(output_dir, \"global\")"
   ]
  },
  {
   "attachments": {},
   "cell_type": "markdown",
   "id": "dc314a0d",
   "metadata": {
    "papermill": {
     "duration": 0.002612,
     "end_time": "2024-07-30T09:39:20.264401",
     "exception": false,
     "start_time": "2024-07-30T09:39:20.261789",
     "status": "completed"
    },
    "tags": []
   },
   "source": [
    "## Calculate probabilities\n",
    "\n",
    "Deposit probability will be calculated for the gridded data and written to a CSV file."
   ]
  },
  {
   "cell_type": "code",
   "execution_count": 7,
   "id": "5ac247e1",
   "metadata": {
    "execution": {
     "iopub.execute_input": "2024-07-30T09:39:20.271061Z",
     "iopub.status.busy": "2024-07-30T09:39:20.270693Z",
     "iopub.status.idle": "2024-07-30T09:48:14.447623Z",
     "shell.execute_reply": "2024-07-30T09:48:14.447005Z"
    },
    "papermill": {
     "duration": 534.184547,
     "end_time": "2024-07-30T09:48:14.451649",
     "exception": false,
     "start_time": "2024-07-30T09:39:20.267102",
     "status": "completed"
    },
    "tags": []
   },
   "outputs": [
    {
     "name": "stdout",
     "output_type": "stream",
     "text": [
      "Calculating probabilities for PU model complete (region: global; duration: 0:01:32.523596)\n"
     ]
    },
    {
     "name": "stdout",
     "output_type": "stream",
     "text": [
      "Calculating probabilities for PU model complete (region: North America; duration: 0:01:23.257404)\n"
     ]
    },
    {
     "name": "stdout",
     "output_type": "stream",
     "text": [
      "Calculating probabilities for PU model complete (region: South America; duration: 0:01:21.832273)\n"
     ]
    },
    {
     "name": "stdout",
     "output_type": "stream",
     "text": [
      "Calculating probabilities for PU model complete (region: Southeast Asia; duration: 0:01:25.548673)\n"
     ]
    },
    {
     "name": "stdout",
     "output_type": "stream",
     "text": [
      "Calculating probabilities for PU model complete (region: Tethys; duration: 0:01:21.994811)\n"
     ]
    },
    {
     "name": "stdout",
     "output_type": "stream",
     "text": [
      "Calculating probabilities for SVM model complete (region: global; duration: 0:00:39.441650)\n"
     ]
    },
    {
     "name": "stdout",
     "output_type": "stream",
     "text": [
      "Calculating probabilities for SVM model complete (region: North America; duration: 0:00:27.838362)\n"
     ]
    },
    {
     "name": "stdout",
     "output_type": "stream",
     "text": [
      "Calculating probabilities for SVM model complete (region: South America; duration: 0:00:41.730182)\n"
     ]
    }
   ],
   "source": [
    "for algorithm in (\"PU\", \"SVM\"):\n",
    "    t0 = time.time()\n",
    "\n",
    "    subdir = os.path.join(output_dir, algorithm)\n",
    "    model_filename = os.path.join(subdir, f\"classifier.joblib\")\n",
    "    probabilities_filename = os.path.join(\n",
    "        subdir,\n",
    "        \"grid_probabilities.csv\",\n",
    "    )\n",
    "    model = load(model_filename)\n",
    "\n",
    "    # Set model n_jobs if possible\n",
    "    # (let dask handle parallelism at this stage)\n",
    "    try:\n",
    "        model[-1].set_params(n_jobs=1)\n",
    "    except ValueError:\n",
    "        pass\n",
    "    model_parallel = ParallelPostFit(model)\n",
    "\n",
    "    point_x = point_data[model.feature_names_in_]\n",
    "    p = model_parallel.predict_proba(point_x)[:, 1].ravel().compute()\n",
    "    probabilities = df_out.copy()\n",
    "    probabilities[\"probability\"] = p\n",
    "    del p\n",
    "    probabilities.to_csv(probabilities_filename, index=False)\n",
    "    del probabilities, model\n",
    "    duration = timedelta(seconds=time.time() - t0)\n",
    "    if verbose:\n",
    "        print(\n",
    "            f\"Calculating probabilities for {algorithm} model complete\",\n",
    "            f\"(region: global; duration: {duration})\",\n",
    "        )\n",
    "\n",
    "    for region in regions:\n",
    "        region_code = \"_\".join(region.lower().split())\n",
    "        model_filename = os.path.join(\n",
    "            subdir,\n",
    "            f\"classifier_{region_code}.joblib\",\n",
    "        )\n",
    "        if not os.path.isfile(model_filename):\n",
    "            continue\n",
    "        t0 = time.time()\n",
    "\n",
    "        probabilities_filename = os.path.join(\n",
    "            subdir,\n",
    "            f\"grid_probabilities_{region_code}.csv\",\n",
    "        )\n",
    "        model = load(model_filename)\n",
    "\n",
    "        try:\n",
    "            model[-1].set_params(n_jobs=1)\n",
    "        except ValueError:\n",
    "            pass\n",
    "        model_parallel = ParallelPostFit(model)\n",
    "\n",
    "        point_x = point_data[model.feature_names_in_]\n",
    "        p = model_parallel.predict_proba(point_x)[:, 1].ravel().compute()\n",
    "        probabilities = df_out.copy()\n",
    "        probabilities[\"probability\"] = p\n",
    "        del p\n",
    "        probabilities.to_csv(probabilities_filename, index=False)\n",
    "        del probabilities, model\n",
    "        duration = timedelta(seconds=time.time() - t0)\n",
    "        if verbose:\n",
    "            print(\n",
    "                f\"Calculating probabilities for {algorithm} model complete\",\n",
    "                f\"(region: {region}; duration: {duration})\",\n",
    "            )\n",
    "\n",
    "del point_data"
   ]
  },
  {
   "cell_type": "markdown",
   "id": "e94d2cc2",
   "metadata": {
    "papermill": {
     "duration": 0.002947,
     "end_time": "2024-07-30T09:48:14.457652",
     "exception": false,
     "start_time": "2024-07-30T09:48:14.454705",
     "status": "completed"
    },
    "tags": []
   },
   "source": [
    "## Create probability maps\n",
    "\n",
    "The probabilities calculated in the previous section will now be written to one netCDF file per time step:"
   ]
  },
  {
   "cell_type": "code",
   "execution_count": 8,
   "id": "23b349d7",
   "metadata": {
    "execution": {
     "iopub.execute_input": "2024-07-30T09:48:14.464469Z",
     "iopub.status.busy": "2024-07-30T09:48:14.464216Z",
     "iopub.status.idle": "2024-07-30T11:37:34.835456Z",
     "shell.execute_reply": "2024-07-30T11:37:34.834849Z"
    },
    "papermill": {
     "duration": 6560.379417,
     "end_time": "2024-07-30T11:37:34.839953",
     "exception": false,
     "start_time": "2024-07-30T09:48:14.460536",
     "status": "completed"
    },
    "tags": []
   },
   "outputs": [
    {
     "name": "stdout",
     "output_type": "stream",
     "text": [
      "Creating grids for PU model complete (region: global; duration: 0:13:47.864206)\n"
     ]
    },
    {
     "name": "stdout",
     "output_type": "stream",
     "text": [
      "Creating grids for PU model complete (region: North America; duration: 0:13:52.932468)\n"
     ]
    },
    {
     "name": "stdout",
     "output_type": "stream",
     "text": [
      "Creating grids for PU model complete (region: South America; duration: 0:13:48.556286)\n"
     ]
    },
    {
     "name": "stdout",
     "output_type": "stream",
     "text": [
      "Creating grids for PU model complete (region: Southeast Asia; duration: 0:13:55.180361)\n"
     ]
    },
    {
     "name": "stdout",
     "output_type": "stream",
     "text": [
      "Creating grids for PU model complete (region: Tethys; duration: 0:13:55.035196)\n"
     ]
    },
    {
     "name": "stdout",
     "output_type": "stream",
     "text": [
      "Creating grids for SVM model complete (region: global; duration: 0:12:03.949143)\n"
     ]
    },
    {
     "name": "stdout",
     "output_type": "stream",
     "text": [
      "Creating grids for SVM model complete (region: North America; duration: 0:13:54.284209)\n"
     ]
    },
    {
     "name": "stdout",
     "output_type": "stream",
     "text": [
      "Creating grids for SVM model complete (region: South America; duration: 0:14:02.558569)\n"
     ]
    }
   ],
   "source": [
    "for algorithm in (\"PU\", \"SVM\"):\n",
    "    t0 = time.time()\n",
    "\n",
    "    subdir = os.path.join(output_dir, algorithm)\n",
    "    probabilities_filename = os.path.join(\n",
    "        subdir,\n",
    "        \"grid_probabilities.csv\",\n",
    "    )\n",
    "    grid_output_dir = os.path.join(\n",
    "        subdir,\n",
    "        \"probability_grids\",\n",
    "    )\n",
    "    os.makedirs(grid_output_dir, exist_ok=True)\n",
    "\n",
    "    create_probability_grids(\n",
    "        data=probabilities_filename,\n",
    "        output_dir=grid_output_dir,\n",
    "        threads=n_jobs,\n",
    "        extent=(-180, 180, -90, 90),\n",
    "    )\n",
    "    duration = timedelta(seconds=time.time() - t0)\n",
    "    if verbose:\n",
    "        print(\n",
    "            f\"Creating grids for {algorithm} model complete\",\n",
    "            f\"(region: global; duration: {duration})\",\n",
    "        )\n",
    "\n",
    "    for region in regions:\n",
    "        region_code = \"_\".join(region.lower().split())\n",
    "        subdir = os.path.join(output_dir, algorithm)\n",
    "        probabilities_filename = os.path.join(\n",
    "            subdir,\n",
    "            f\"grid_probabilities_{region_code}.csv\",\n",
    "        )\n",
    "        if not os.path.isfile(probabilities_filename):\n",
    "            continue\n",
    "        t0 = time.time()\n",
    "\n",
    "        grid_output_dir = os.path.join(\n",
    "            subdir,\n",
    "            f\"probability_grids_{region_code}\",\n",
    "        )\n",
    "        os.makedirs(grid_output_dir, exist_ok=True)\n",
    "\n",
    "        create_probability_grids(\n",
    "            data=probabilities_filename,\n",
    "            output_dir=grid_output_dir,\n",
    "            threads=n_jobs,\n",
    "            extent=(-180, 180, -90, 90),\n",
    "        )\n",
    "        duration = timedelta(seconds=time.time() - t0)\n",
    "        if verbose:\n",
    "            print(\n",
    "                f\"Creating grids for {algorithm} model complete\",\n",
    "                f\"(region: {region}; duration: {duration})\",\n",
    "            )"
   ]
  },
  {
   "cell_type": "code",
   "execution_count": null,
   "id": "d779a208",
   "metadata": {
    "papermill": {
     "duration": 0.003317,
     "end_time": "2024-07-30T11:37:34.846829",
     "exception": false,
     "start_time": "2024-07-30T11:37:34.843512",
     "status": "completed"
    },
    "tags": []
   },
   "outputs": [],
   "source": []
  }
 ],
 "metadata": {
  "kernelspec": {
   "display_name": "datamining",
   "language": "python",
   "name": "python3"
  },
  "language_info": {
   "codemirror_mode": {
    "name": "ipython",
    "version": 3
   },
   "file_extension": ".py",
   "mimetype": "text/x-python",
   "name": "python",
   "nbconvert_exporter": "python",
   "pygments_lexer": "ipython3",
   "version": "3.11.9"
  },
  "papermill": {
   "default_parameters": {},
   "duration": 7108.057348,
   "end_time": "2024-07-30T11:37:37.677870",
   "environment_variables": {},
   "exception": null,
   "input_path": "02a-create_probability_maps_global_selection.ipynb",
   "output_path": "02a-create_probability_maps_global_selection.ipynb",
   "parameters": {},
   "start_time": "2024-07-30T09:39:09.620522",
   "version": "2.4.0"
  }
 },
 "nbformat": 4,
 "nbformat_minor": 5
}
