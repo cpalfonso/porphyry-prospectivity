{
 "cells": [
  {
   "attachments": {},
   "cell_type": "markdown",
   "id": "411076b7",
   "metadata": {
    "papermill": {
     "duration": 0.003332,
     "end_time": "2023-12-19T23:11:58.041977",
     "exception": false,
     "start_time": "2023-12-19T23:11:58.038645",
     "status": "completed"
    },
    "tags": []
   },
   "source": [
    "## Probability maps animation\n",
    "\n",
    "This notebook creates an animation showing the evolution of the predicted time-dependent deposit probability from 170Ma-present. The notebook `02-create_probability_maps.ipynb` must have been run previously."
   ]
  },
  {
   "cell_type": "code",
   "execution_count": 1,
   "id": "ace4fd81",
   "metadata": {
    "execution": {
     "iopub.execute_input": "2023-12-19T23:11:58.050267Z",
     "iopub.status.busy": "2023-12-19T23:11:58.050018Z",
     "iopub.status.idle": "2023-12-19T23:11:58.057818Z",
     "shell.execute_reply": "2023-12-19T23:11:58.057166Z"
    },
    "papermill": {
     "duration": 0.014061,
     "end_time": "2023-12-19T23:11:58.059633",
     "exception": false,
     "start_time": "2023-12-19T23:11:58.045572",
     "status": "completed"
    },
    "tags": []
   },
   "outputs": [],
   "source": [
    "use_extracted_data = False\n"
   ]
  },
  {
   "cell_type": "code",
   "execution_count": 2,
   "id": "e7e3fab8",
   "metadata": {
    "execution": {
     "iopub.execute_input": "2023-12-19T23:11:58.067864Z",
     "iopub.status.busy": "2023-12-19T23:11:58.067616Z",
     "iopub.status.idle": "2023-12-19T23:11:59.326663Z",
     "shell.execute_reply": "2023-12-19T23:11:59.326093Z"
    },
    "papermill": {
     "duration": 1.26489,
     "end_time": "2023-12-19T23:11:59.328238",
     "exception": false,
     "start_time": "2023-12-19T23:11:58.063348",
     "status": "completed"
    },
    "tags": []
   },
   "outputs": [
    {
     "name": "stdout",
     "output_type": "stream",
     "text": [
      "env: PYTHONWARNINGS=ignore::UserWarning\n"
     ]
    }
   ],
   "source": [
    "import glob\n",
    "import os\n",
    "import tempfile\n",
    "\n",
    "import cartopy.crs as ccrs\n",
    "import pandas as pd\n",
    "import pygplates\n",
    "from gplately import (\n",
    "    PlateReconstruction,\n",
    "    PlotTopologies,\n",
    ")\n",
    "from joblib import Parallel, delayed\n",
    "from moviepy.video.io.ImageSequenceClip import ImageSequenceClip\n",
    "\n",
    "from lib.check_files import (\n",
    "    check_plate_model,\n",
    "    check_prepared_data,\n",
    ")\n",
    "from lib.visualisation import plot\n",
    "\n",
    "# Suppress occasional joblib warnings\n",
    "%env PYTHONWARNINGS=ignore::UserWarning\n",
    "\n",
    "NOTEBOOK = \"get_ipython\" in dir()\n"
   ]
  },
  {
   "cell_type": "code",
   "execution_count": 3,
   "id": "d54fd5c5",
   "metadata": {
    "execution": {
     "iopub.execute_input": "2023-12-19T23:11:59.336540Z",
     "iopub.status.busy": "2023-12-19T23:11:59.336264Z",
     "iopub.status.idle": "2023-12-19T23:11:59.340476Z",
     "shell.execute_reply": "2023-12-19T23:11:59.339939Z"
    },
    "papermill": {
     "duration": 0.009914,
     "end_time": "2023-12-19T23:11:59.342060",
     "exception": false,
     "start_time": "2023-12-19T23:11:59.332146",
     "status": "completed"
    },
    "tags": []
   },
   "outputs": [],
   "source": [
    "n_jobs = int(os.environ.get(\"N_JOBS\", 8))\n",
    "verbose = True\n",
    "projection = ccrs.Orthographic(-100, 10)\n",
    "\n",
    "output_dir = os.path.join(\"outputs\", \"Americas\")\n"
   ]
  },
  {
   "attachments": {},
   "cell_type": "markdown",
   "id": "6baea9c3",
   "metadata": {
    "papermill": {
     "duration": 0.003403,
     "end_time": "2023-12-19T23:11:59.348964",
     "exception": false,
     "start_time": "2023-12-19T23:11:59.345561",
     "status": "completed"
    },
    "tags": []
   },
   "source": [
    "### Load plate model files"
   ]
  },
  {
   "cell_type": "code",
   "execution_count": 4,
   "id": "49e83a16",
   "metadata": {
    "execution": {
     "iopub.execute_input": "2023-12-19T23:11:59.356666Z",
     "iopub.status.busy": "2023-12-19T23:11:59.356513Z",
     "iopub.status.idle": "2023-12-19T23:12:05.037218Z",
     "shell.execute_reply": "2023-12-19T23:12:05.036587Z"
    },
    "papermill": {
     "duration": 5.686736,
     "end_time": "2023-12-19T23:12:05.039163",
     "exception": false,
     "start_time": "2023-12-19T23:11:59.352427",
     "status": "completed"
    },
    "tags": []
   },
   "outputs": [],
   "source": [
    "model_dir = \"plate_model\"\n",
    "check_plate_model(model_dir, verbose=True)\n",
    "feature_filenames = glob.glob(\n",
    "    os.path.join(\n",
    "        model_dir,\n",
    "        r\"*.gpml\",\n",
    "    )\n",
    ")\n",
    "rotation_filenames = glob.glob(\n",
    "    os.path.join(\n",
    "        model_dir,\n",
    "        r\"*.rot\",\n",
    "    )\n",
    ")\n",
    "coastlines_filename = os.path.join(\n",
    "    model_dir,\n",
    "    \"StaticGeometries\",\n",
    "    \"AgeGridInput\",\n",
    "    \"CombinedTerranes.gpml\",\n",
    ")\n",
    "\n",
    "reconstruction = PlateReconstruction(\n",
    "    rotation_model=rotation_filenames,\n",
    "    topology_features=pygplates.FeatureCollection(\n",
    "        [\n",
    "            i for i in pygplates.FeaturesFunctionArgument(\n",
    "                feature_filenames\n",
    "            ).get_features()\n",
    "            if i.get_feature_type().to_qualified_string()\n",
    "            != \"gpml:TopologicalSlabBoundary\"\n",
    "        ]\n",
    "        \n",
    "    ),\n",
    ")\n",
    "gplot = PlotTopologies(\n",
    "    plate_reconstruction=reconstruction,\n",
    "    coastlines=coastlines_filename,\n",
    ")\n"
   ]
  },
  {
   "attachments": {},
   "cell_type": "markdown",
   "id": "c370e1f7",
   "metadata": {
    "papermill": {
     "duration": 0.003294,
     "end_time": "2023-12-19T23:12:05.046383",
     "exception": false,
     "start_time": "2023-12-19T23:12:05.043089",
     "status": "completed"
    },
    "tags": []
   },
   "source": [
    "### Load training data"
   ]
  },
  {
   "cell_type": "code",
   "execution_count": 5,
   "id": "fd3cdf9e",
   "metadata": {
    "execution": {
     "iopub.execute_input": "2023-12-19T23:12:05.053868Z",
     "iopub.status.busy": "2023-12-19T23:12:05.053710Z",
     "iopub.status.idle": "2023-12-19T23:12:05.342846Z",
     "shell.execute_reply": "2023-12-19T23:12:05.342231Z"
    },
    "papermill": {
     "duration": 0.29494,
     "end_time": "2023-12-19T23:12:05.344650",
     "exception": false,
     "start_time": "2023-12-19T23:12:05.049710",
     "status": "completed"
    },
    "tags": []
   },
   "outputs": [],
   "source": [
    "if use_extracted_data:\n",
    "    data_dir = \"extracted_data\"\n",
    "else:\n",
    "    data_dir = \"prepared_data\"\n",
    "    check_prepared_data(data_dir, verbose=True)\n",
    "training_filename = os.path.join(data_dir, \"training_data.csv\")\n",
    "training_data = pd.read_csv(training_filename)\n",
    "positives = training_data[training_data[\"label\"] == \"positive\"]\n"
   ]
  },
  {
   "attachments": {},
   "cell_type": "markdown",
   "id": "e87616db",
   "metadata": {
    "papermill": {
     "duration": 0.003323,
     "end_time": "2023-12-19T23:12:05.351769",
     "exception": false,
     "start_time": "2023-12-19T23:12:05.348446",
     "status": "completed"
    },
    "tags": []
   },
   "source": [
    "### Example plot"
   ]
  },
  {
   "cell_type": "code",
   "execution_count": 6,
   "id": "9de83a74",
   "metadata": {
    "execution": {
     "iopub.execute_input": "2023-12-19T23:12:05.359415Z",
     "iopub.status.busy": "2023-12-19T23:12:05.359243Z",
     "iopub.status.idle": "2023-12-19T23:12:10.319900Z",
     "shell.execute_reply": "2023-12-19T23:12:10.319362Z"
    },
    "papermill": {
     "duration": 4.969045,
     "end_time": "2023-12-19T23:12:10.324155",
     "exception": false,
     "start_time": "2023-12-19T23:12:05.355110",
     "status": "completed"
    },
    "tags": []
   },
   "outputs": [
    {
     "name": "stdout",
     "output_type": "stream",
     "text": [
      "PU example plot:\n"
     ]
    },
    {
     "data": {
      "image/png": "[encoded data removed]",
      "text/plain": [
       "<Figure size 1000x1000 with 2 Axes>"
      ]
     },
     "metadata": {},
     "output_type": "display_data"
    }
   ],
   "source": [
    "# Example plot (only in notebook)\n",
    "if NOTEBOOK:\n",
    "    t_example = 110  # Ma\n",
    "    gplot.time = t_example\n",
    "    algorithm = \"PU\"\n",
    "    probs_dir = os.path.join(output_dir, algorithm, \"probability_grids\")\n",
    "\n",
    "    print(f\"{algorithm} example plot:\")\n",
    "    fig = plot(\n",
    "        gplot=gplot,\n",
    "        probabilities=os.path.join(\n",
    "            probs_dir,\n",
    "            f\"probability_grid_{t_example:0.0f}Ma.nc\",\n",
    "        ),\n",
    "        positives=positives,\n",
    "        projection=projection,\n",
    "        time=t_example,\n",
    "        central_meridian=-100,\n",
    "    )\n"
   ]
  },
  {
   "cell_type": "markdown",
   "id": "93d28a33",
   "metadata": {
    "papermill": {
     "duration": 0.012227,
     "end_time": "2023-12-19T23:12:10.344473",
     "exception": false,
     "start_time": "2023-12-19T23:12:10.332246",
     "status": "completed"
    },
    "tags": []
   },
   "source": [
    "### Create all plots"
   ]
  },
  {
   "cell_type": "code",
   "execution_count": 7,
   "id": "572ffe29",
   "metadata": {
    "execution": {
     "iopub.execute_input": "2023-12-19T23:12:10.360557Z",
     "iopub.status.busy": "2023-12-19T23:12:10.360392Z",
     "iopub.status.idle": "2023-12-19T23:23:22.929790Z",
     "shell.execute_reply": "2023-12-19T23:23:22.928960Z"
    },
    "papermill": {
     "duration": 672.579483,
     "end_time": "2023-12-19T23:23:22.931517",
     "exception": false,
     "start_time": "2023-12-19T23:12:10.352034",
     "status": "completed"
    },
    "tags": []
   },
   "outputs": [
    {
     "name": "stderr",
     "output_type": "stream",
     "text": [
      "[Parallel(n_jobs=12)]: Using backend LokyBackend with 12 concurrent workers.\n"
     ]
    },
    {
     "name": "stderr",
     "output_type": "stream",
     "text": [
      "[Parallel(n_jobs=12)]: Done  26 tasks      | elapsed:   42.4s\n"
     ]
    },
    {
     "name": "stderr",
     "output_type": "stream",
     "text": [
      "[Parallel(n_jobs=12)]: Done 171 out of 171 | elapsed:  3.2min finished\n"
     ]
    },
    {
     "name": "stdout",
     "output_type": "stream",
     "text": [
      "Moviepy - Building video outputs/Americas/PU/probability_animation.mp4.\n",
      "Moviepy - Writing video outputs/Americas/PU/probability_animation.mp4\n",
      "\n"
     ]
    },
    {
     "name": "stderr",
     "output_type": "stream",
     "text": [
      "\r",
      "t:   0%|                                                                                                     | 0/1026 [00:00<?, ?it/s, now=None]"
     ]
    },
    {
     "name": "stderr",
     "output_type": "stream",
     "text": [
      "\r",
      "t:   0%|▏                                                                                            | 2/1026 [00:00<00:57, 17.68it/s, now=None]"
     ]
    },
    {
     "name": "stderr",
     "output_type": "stream",
     "text": [
      "\r",
      "t:   0%|▎                                                                                            | 4/1026 [00:00<01:37, 10.47it/s, now=None]"
     ]
    },
    {
     "name": "stderr",
     "output_type": "stream",
     "text": [
      "\r",
      "t:   1%|▌                                                                                            | 6/1026 [00:00<01:38, 10.39it/s, now=None]"
     ]
    },
    {
     "name": "stderr",
     "output_type": "stream",
     "text": [
      "\r",
      "t:   1%|▋                                                                                            | 8/1026 [00:00<01:54,  8.90it/s, now=None]"
     ]
    },
    {
     "name": "stderr",
     "output_type": "stream",
     "text": [
      "\r",
      "t:   1%|▊                                                                                            | 9/1026 [00:00<01:52,  9.05it/s, now=None]"
     ]
    },
    {
     "name": "stderr",
     "output_type": "stream",
     "text": [
      "\r",
      "t:   1%|▉                                                                                           | 10/1026 [00:01<01:50,  9.22it/s, now=None]"
     ]
    },
    {
     "name": "stderr",
     "output_type": "stream",
     "text": [
      "\r",
      "t:   1%|▉                                                                                           | 11/1026 [00:01<01:48,  9.35it/s, now=None]"
     ]
    },
    {
     "name": "stderr",
     "output_type": "stream",
     "text": [
      "\r",
      "t:   1%|█                                                                                           | 12/1026 [00:01<01:48,  9.32it/s, now=None]"
     ]
    },
    {
     "name": "stderr",
     "output_type": "stream",
     "text": [
      "\r",
      "t:   1%|█▏                                                                                          | 13/1026 [00:01<01:49,  9.22it/s, now=None]"
     ]
    },
    {
     "name": "stderr",
     "output_type": "stream",
     "text": [
      "\r",
      "t:   1%|█▎                                                                                          | 14/1026 [00:01<02:10,  7.76it/s, now=None]"
     ]
    },
    {
     "name": "stderr",
     "output_type": "stream",
     "text": [
      "\r",
      "t:   1%|█▎                                                                                          | 15/1026 [00:01<02:02,  8.24it/s, now=None]"
     ]
    },
    {
     "name": "stderr",
     "output_type": "stream",
     "text": [
      "\r",
      "t:   2%|█▍                                                                                          | 16/1026 [00:01<01:57,  8.59it/s, now=None]"
     ]
    },
    {
     "name": "stderr",
     "output_type": "stream",
     "text": [
      "\r",
      "t:   2%|█▌                                                                                          | 17/1026 [00:01<01:55,  8.74it/s, now=None]"
     ]
    },
    {
     "name": "stderr",
     "output_type": "stream",
     "text": [
      "\r",
      "t:   2%|█▌                                                                                          | 18/1026 [00:01<01:53,  8.86it/s, now=None]"
     ]
    },
    {
     "name": "stderr",
     "output_type": "stream",
     "text": [
      "\r",
      "t:   2%|█▋                                                                                          | 19/1026 [00:02<01:50,  9.07it/s, now=None]"
     ]
    },
    {
     "name": "stderr",
     "output_type": "stream",
     "text": [
      "\r",
      "t:   2%|█▊                                                                                          | 20/1026 [00:02<02:11,  7.64it/s, now=None]"
     ]
    },
    {
     "name": "stderr",
     "output_type": "stream",
     "text": [
      "\r",
      "t:   2%|█▉                                                                                          | 21/1026 [00:02<02:05,  8.02it/s, now=None]"
     ]
    },
    {
     "name": "stderr",
     "output_type": "stream",
     "text": [
      "\r",
      "t:   2%|█▉                                                                                          | 22/1026 [00:02<01:58,  8.46it/s, now=None]"
     ]
    },
    {
     "name": "stderr",
     "output_type": "stream",
     "text": [
      "\r",
      "t:   2%|██                                                                                          | 23/1026 [00:02<01:56,  8.61it/s, now=None]"
     ]
    },
    {
     "name": "stderr",
     "output_type": "stream",
     "text": [
      "\r",
      "t:   2%|██▏                                                                                         | 24/1026 [00:02<01:53,  8.85it/s, now=None]"
     ]
    },
    {
     "name": "stderr",
     "output_type": "stream",
     "text": [
      "\r",
      "t:   2%|██▏                                                                                         | 25/1026 [00:02<01:53,  8.80it/s, now=None]"
     ]
    },
    {
     "name": "stderr",
     "output_type": "stream",
     "text": [
      "\r",
      "t:   3%|██▎                                                                                         | 26/1026 [00:02<02:14,  7.45it/s, now=None]"
     ]
    },
    {
     "name": "stderr",
     "output_type": "stream",
     "text": [
      "\r",
      "t:   3%|██▍                                                                                         | 27/1026 [00:03<02:10,  7.65it/s, now=None]"
     ]
    },
    {
     "name": "stderr",
     "output_type": "stream",
     "text": [
      "\r",
      "t:   3%|██▌                                                                                         | 28/1026 [00:03<02:03,  8.08it/s, now=None]"
     ]
    },
    {
     "name": "stderr",
     "output_type": "stream",
     "text": [
      "\r",
      "t:   3%|██▌                                                                                         | 29/1026 [00:03<02:03,  8.09it/s, now=None]"
     ]
    },
    {
     "name": "stderr",
     "output_type": "stream",
     "text": [
      "\r",
      "t:   3%|██▋                                                                                         | 30/1026 [00:03<02:02,  8.13it/s, now=None]"
     ]
    },
    {
     "name": "stderr",
     "output_type": "stream",
     "text": [
      "\r",
      "t:   3%|██▊                                                                                         | 32/1026 [00:03<02:11,  7.58it/s, now=None]"
     ]
    },
    {
     "name": "stderr",
     "output_type": "stream",
     "text": [
      "\r",
      "t:   3%|██▉                                                                                         | 33/1026 [00:03<02:05,  7.88it/s, now=None]"
     ]
    },
    {
     "name": "stderr",
     "output_type": "stream",
     "text": [
      "\r",
      "t:   3%|███                                                                                         | 34/1026 [00:03<02:00,  8.22it/s, now=None]"
     ]
    },
    {
     "name": "stderr",
     "output_type": "stream",
     "text": [
      "\r",
      "t:   3%|███▏                                                                                        | 35/1026 [00:04<02:00,  8.21it/s, now=None]"
     ]
    },
    {
     "name": "stderr",
     "output_type": "stream",
     "text": [
      "\r",
      "t:   4%|███▏                                                                                        | 36/1026 [00:04<02:00,  8.24it/s, now=None]"
     ]
    },
    {
     "name": "stderr",
     "output_type": "stream",
     "text": [
      "\r",
      "t:   4%|███▎                                                                                        | 37/1026 [00:04<01:56,  8.48it/s, now=None]"
     ]
    },
    {
     "name": "stderr",
     "output_type": "stream",
     "text": [
      "\r",
      "t:   4%|███▍                                                                                        | 38/1026 [00:04<02:14,  7.35it/s, now=None]"
     ]
    },
    {
     "name": "stderr",
     "output_type": "stream",
     "text": [
      "\r",
      "t:   4%|███▍                                                                                        | 39/1026 [00:04<02:09,  7.61it/s, now=None]"
     ]
    },
    {
     "name": "stderr",
     "output_type": "stream",
     "text": [
      "\r",
      "t:   4%|███▌                                                                                        | 40/1026 [00:04<02:02,  8.04it/s, now=None]"
     ]
    },
    {
     "name": "stderr",
     "output_type": "stream",
     "text": [
      "\r",
      "t:   4%|███▋                                                                                        | 41/1026 [00:04<02:01,  8.08it/s, now=None]"
     ]
    },
    {
     "name": "stderr",
     "output_type": "stream",
     "text": [
      "\r",
      "t:   4%|███▊                                                                                        | 42/1026 [00:04<02:01,  8.13it/s, now=None]"
     ]
    },
    {
     "name": "stderr",
     "output_type": "stream",
     "text": [
      "\r",
      "t:   4%|███▊                                                                                        | 43/1026 [00:05<01:54,  8.58it/s, now=None]"
     ]
    },
    {
     "name": "stderr",
     "output_type": "stream",
     "text": [
      "\r",
      "t:   4%|███▉                                                                                        | 44/1026 [00:05<02:15,  7.24it/s, now=None]"
     ]
    },
    {
     "name": "stderr",
     "output_type": "stream",
     "text": [
      "\r",
      "t:   4%|████                                                                                        | 45/1026 [00:05<02:10,  7.51it/s, now=None]"
     ]
    },
    {
     "name": "stderr",
     "output_type": "stream",
     "text": [
      "\r",
      "t:   4%|████                                                                                        | 46/1026 [00:05<02:03,  7.94it/s, now=None]"
     ]
    },
    {
     "name": "stderr",
     "output_type": "stream",
     "text": [
      "\r",
      "t:   5%|████▏                                                                                       | 47/1026 [00:05<01:59,  8.21it/s, now=None]"
     ]
    },
    {
     "name": "stderr",
     "output_type": "stream",
     "text": [
      "\r",
      "t:   5%|████▎                                                                                       | 48/1026 [00:05<01:59,  8.17it/s, now=None]"
     ]
    },
    {
     "name": "stderr",
     "output_type": "stream",
     "text": [
      "\r",
      "t:   5%|████▍                                                                                       | 49/1026 [00:05<01:55,  8.47it/s, now=None]"
     ]
    },
    {
     "name": "stderr",
     "output_type": "stream",
     "text": [
      "\r",
      "t:   5%|████▍                                                                                       | 50/1026 [00:06<02:17,  7.12it/s, now=None]"
     ]
    },
    {
     "name": "stderr",
     "output_type": "stream",
     "text": [
      "\r",
      "t:   5%|████▌                                                                                       | 51/1026 [00:06<02:11,  7.43it/s, now=None]"
     ]
    },
    {
     "name": "stderr",
     "output_type": "stream",
     "text": [
      "\r",
      "t:   5%|████▋                                                                                       | 52/1026 [00:06<02:03,  7.90it/s, now=None]"
     ]
    },
    {
     "name": "stderr",
     "output_type": "stream",
     "text": [
      "\r",
      "t:   5%|████▊                                                                                       | 53/1026 [00:06<02:00,  8.05it/s, now=None]"
     ]
    },
    {
     "name": "stderr",
     "output_type": "stream",
     "text": [
      "\r",
      "t:   5%|████▊                                                                                       | 54/1026 [00:06<01:59,  8.15it/s, now=None]"
     ]
    },
    {
     "name": "stderr",
     "output_type": "stream",
     "text": [
      "\r",
      "t:   5%|████▉                                                                                       | 55/1026 [00:06<01:54,  8.45it/s, now=None]"
     ]
    },
    {
     "name": "stderr",
     "output_type": "stream",
     "text": [
      "\r",
      "t:   5%|█████                                                                                       | 56/1026 [00:06<02:15,  7.14it/s, now=None]"
     ]
    },
    {
     "name": "stderr",
     "output_type": "stream",
     "text": [
      "\r",
      "t:   6%|█████                                                                                       | 57/1026 [00:06<02:10,  7.44it/s, now=None]"
     ]
    },
    {
     "name": "stderr",
     "output_type": "stream",
     "text": [
      "\r",
      "t:   6%|█████▏                                                                                      | 58/1026 [00:07<02:02,  7.92it/s, now=None]"
     ]
    },
    {
     "name": "stderr",
     "output_type": "stream",
     "text": [
      "\r",
      "t:   6%|█████▎                                                                                      | 59/1026 [00:07<02:00,  8.02it/s, now=None]"
     ]
    },
    {
     "name": "stderr",
     "output_type": "stream",
     "text": [
      "\r",
      "t:   6%|█████▍                                                                                      | 60/1026 [00:07<01:56,  8.28it/s, now=None]"
     ]
    },
    {
     "name": "stderr",
     "output_type": "stream",
     "text": [
      "\r",
      "t:   6%|█████▍                                                                                      | 61/1026 [00:07<01:52,  8.56it/s, now=None]"
     ]
    },
    {
     "name": "stderr",
     "output_type": "stream",
     "text": [
      "\r",
      "t:   6%|█████▌                                                                                      | 62/1026 [00:07<02:15,  7.12it/s, now=None]"
     ]
    },
    {
     "name": "stderr",
     "output_type": "stream",
     "text": [
      "\r",
      "t:   6%|█████▋                                                                                      | 63/1026 [00:07<02:06,  7.60it/s, now=None]"
     ]
    },
    {
     "name": "stderr",
     "output_type": "stream",
     "text": [
      "\r",
      "t:   6%|█████▋                                                                                      | 64/1026 [00:07<02:00,  8.02it/s, now=None]"
     ]
    },
    {
     "name": "stderr",
     "output_type": "stream",
     "text": [
      "\r",
      "t:   6%|█████▊                                                                                      | 65/1026 [00:07<01:55,  8.29it/s, now=None]"
     ]
    },
    {
     "name": "stderr",
     "output_type": "stream",
     "text": [
      "\r",
      "t:   6%|█████▉                                                                                      | 66/1026 [00:07<01:55,  8.34it/s, now=None]"
     ]
    },
    {
     "name": "stderr",
     "output_type": "stream",
     "text": [
      "\r",
      "t:   7%|██████                                                                                      | 67/1026 [00:08<01:50,  8.64it/s, now=None]"
     ]
    },
    {
     "name": "stderr",
     "output_type": "stream",
     "text": [
      "\r",
      "t:   7%|██████                                                                                      | 68/1026 [00:08<02:12,  7.22it/s, now=None]"
     ]
    },
    {
     "name": "stderr",
     "output_type": "stream",
     "text": [
      "\r",
      "t:   7%|██████▏                                                                                     | 69/1026 [00:08<02:05,  7.64it/s, now=None]"
     ]
    },
    {
     "name": "stderr",
     "output_type": "stream",
     "text": [
      "\r",
      "t:   7%|██████▎                                                                                     | 70/1026 [00:08<01:58,  8.07it/s, now=None]"
     ]
    },
    {
     "name": "stderr",
     "output_type": "stream",
     "text": [
      "\r",
      "t:   7%|██████▎                                                                                     | 71/1026 [00:08<01:57,  8.15it/s, now=None]"
     ]
    },
    {
     "name": "stderr",
     "output_type": "stream",
     "text": [
      "\r",
      "t:   7%|██████▍                                                                                     | 72/1026 [00:08<01:56,  8.22it/s, now=None]"
     ]
    },
    {
     "name": "stderr",
     "output_type": "stream",
     "text": [
      "\r",
      "t:   7%|██████▌                                                                                     | 73/1026 [00:08<01:50,  8.59it/s, now=None]"
     ]
    },
    {
     "name": "stderr",
     "output_type": "stream",
     "text": [
      "\r",
      "t:   7%|██████▋                                                                                     | 74/1026 [00:09<02:09,  7.35it/s, now=None]"
     ]
    },
    {
     "name": "stderr",
     "output_type": "stream",
     "text": [
      "\r",
      "t:   7%|██████▋                                                                                     | 75/1026 [00:09<02:01,  7.80it/s, now=None]"
     ]
    },
    {
     "name": "stderr",
     "output_type": "stream",
     "text": [
      "\r",
      "t:   8%|██████▉                                                                                     | 77/1026 [00:09<01:50,  8.55it/s, now=None]"
     ]
    },
    {
     "name": "stderr",
     "output_type": "stream",
     "text": [
      "\r",
      "t:   8%|██████▉                                                                                     | 78/1026 [00:09<01:51,  8.50it/s, now=None]"
     ]
    },
    {
     "name": "stderr",
     "output_type": "stream",
     "text": [
      "\r",
      "t:   8%|███████                                                                                     | 79/1026 [00:09<01:48,  8.69it/s, now=None]"
     ]
    },
    {
     "name": "stderr",
     "output_type": "stream",
     "text": [
      "\r",
      "t:   8%|███████▏                                                                                    | 80/1026 [00:09<02:07,  7.41it/s, now=None]"
     ]
    },
    {
     "name": "stderr",
     "output_type": "stream",
     "text": [
      "\r",
      "t:   8%|███████▎                                                                                    | 81/1026 [00:09<02:01,  7.80it/s, now=None]"
     ]
    },
    {
     "name": "stderr",
     "output_type": "stream",
     "text": [
      "\r",
      "t:   8%|███████▎                                                                                    | 82/1026 [00:09<01:55,  8.19it/s, now=None]"
     ]
    },
    {
     "name": "stderr",
     "output_type": "stream",
     "text": [
      "\r",
      "t:   8%|███████▍                                                                                    | 83/1026 [00:10<01:54,  8.22it/s, now=None]"
     ]
    },
    {
     "name": "stderr",
     "output_type": "stream",
     "text": [
      "\r",
      "t:   8%|███████▌                                                                                    | 84/1026 [00:10<01:53,  8.28it/s, now=None]"
     ]
    },
    {
     "name": "stderr",
     "output_type": "stream",
     "text": [
      "\r",
      "t:   8%|███████▌                                                                                    | 85/1026 [00:10<01:50,  8.53it/s, now=None]"
     ]
    },
    {
     "name": "stderr",
     "output_type": "stream",
     "text": [
      "\r",
      "t:   8%|███████▋                                                                                    | 86/1026 [00:10<02:10,  7.22it/s, now=None]"
     ]
    },
    {
     "name": "stderr",
     "output_type": "stream",
     "text": [
      "\r",
      "t:   8%|███████▊                                                                                    | 87/1026 [00:10<02:04,  7.52it/s, now=None]"
     ]
    },
    {
     "name": "stderr",
     "output_type": "stream",
     "text": [
      "\r",
      "t:   9%|███████▉                                                                                    | 88/1026 [00:10<01:57,  8.00it/s, now=None]"
     ]
    },
    {
     "name": "stderr",
     "output_type": "stream",
     "text": [
      "\r",
      "t:   9%|███████▉                                                                                    | 89/1026 [00:10<01:55,  8.08it/s, now=None]"
     ]
    },
    {
     "name": "stderr",
     "output_type": "stream",
     "text": [
      "\r",
      "t:   9%|████████                                                                                    | 90/1026 [00:10<01:54,  8.16it/s, now=None]"
     ]
    },
    {
     "name": "stderr",
     "output_type": "stream",
     "text": [
      "\r",
      "t:   9%|████████▏                                                                                   | 91/1026 [00:11<01:50,  8.47it/s, now=None]"
     ]
    },
    {
     "name": "stderr",
     "output_type": "stream",
     "text": [
      "\r",
      "t:   9%|████████▏                                                                                   | 92/1026 [00:11<02:08,  7.27it/s, now=None]"
     ]
    },
    {
     "name": "stderr",
     "output_type": "stream",
     "text": [
      "\r",
      "t:   9%|████████▎                                                                                   | 93/1026 [00:11<02:04,  7.52it/s, now=None]"
     ]
    },
    {
     "name": "stderr",
     "output_type": "stream",
     "text": [
      "\r",
      "t:   9%|████████▍                                                                                   | 94/1026 [00:11<01:56,  7.97it/s, now=None]"
     ]
    },
    {
     "name": "stderr",
     "output_type": "stream",
     "text": [
      "\r",
      "t:   9%|████████▌                                                                                   | 95/1026 [00:11<01:54,  8.13it/s, now=None]"
     ]
    },
    {
     "name": "stderr",
     "output_type": "stream",
     "text": [
      "\r",
      "t:   9%|████████▌                                                                                   | 96/1026 [00:11<01:51,  8.32it/s, now=None]"
     ]
    },
    {
     "name": "stderr",
     "output_type": "stream",
     "text": [
      "\r",
      "t:   9%|████████▋                                                                                   | 97/1026 [00:11<01:48,  8.57it/s, now=None]"
     ]
    },
    {
     "name": "stderr",
     "output_type": "stream",
     "text": [
      "\r",
      "t:  10%|████████▊                                                                                   | 98/1026 [00:12<02:08,  7.23it/s, now=None]"
     ]
    },
    {
     "name": "stderr",
     "output_type": "stream",
     "text": [
      "\r",
      "t:  10%|████████▉                                                                                   | 99/1026 [00:12<02:02,  7.54it/s, now=None]"
     ]
    },
    {
     "name": "stderr",
     "output_type": "stream",
     "text": [
      "\r",
      "t:  10%|████████▉                                                                                  | 101/1026 [00:12<01:52,  8.24it/s, now=None]"
     ]
    },
    {
     "name": "stderr",
     "output_type": "stream",
     "text": [
      "\r",
      "t:  10%|█████████                                                                                  | 102/1026 [00:12<01:51,  8.28it/s, now=None]"
     ]
    },
    {
     "name": "stderr",
     "output_type": "stream",
     "text": [
      "\r",
      "t:  10%|█████████▏                                                                                 | 103/1026 [00:12<01:48,  8.52it/s, now=None]"
     ]
    },
    {
     "name": "stderr",
     "output_type": "stream",
     "text": [
      "\r",
      "t:  10%|█████████▏                                                                                 | 104/1026 [00:12<02:06,  7.30it/s, now=None]"
     ]
    },
    {
     "name": "stderr",
     "output_type": "stream",
     "text": [
      "\r",
      "t:  10%|█████████▎                                                                                 | 105/1026 [00:12<02:01,  7.59it/s, now=None]"
     ]
    },
    {
     "name": "stderr",
     "output_type": "stream",
     "text": [
      "\r",
      "t:  10%|█████████▍                                                                                 | 107/1026 [00:13<01:51,  8.23it/s, now=None]"
     ]
    },
    {
     "name": "stderr",
     "output_type": "stream",
     "text": [
      "\r",
      "t:  11%|█████████▌                                                                                 | 108/1026 [00:13<01:51,  8.26it/s, now=None]"
     ]
    },
    {
     "name": "stderr",
     "output_type": "stream",
     "text": [
      "\r",
      "t:  11%|█████████▊                                                                                 | 110/1026 [00:13<01:59,  7.69it/s, now=None]"
     ]
    },
    {
     "name": "stderr",
     "output_type": "stream",
     "text": [
      "\r",
      "t:  11%|█████████▊                                                                                 | 111/1026 [00:13<01:56,  7.83it/s, now=None]"
     ]
    },
    {
     "name": "stderr",
     "output_type": "stream",
     "text": [
      "\r",
      "t:  11%|█████████▉                                                                                 | 112/1026 [00:13<01:51,  8.17it/s, now=None]"
     ]
    },
    {
     "name": "stderr",
     "output_type": "stream",
     "text": [
      "\r",
      "t:  11%|██████████                                                                                 | 113/1026 [00:13<01:50,  8.23it/s, now=None]"
     ]
    },
    {
     "name": "stderr",
     "output_type": "stream",
     "text": [
      "\r",
      "t:  11%|██████████                                                                                 | 114/1026 [00:13<01:50,  8.26it/s, now=None]"
     ]
    },
    {
     "name": "stderr",
     "output_type": "stream",
     "text": [
      "\r",
      "t:  11%|██████████▏                                                                                | 115/1026 [00:14<01:46,  8.52it/s, now=None]"
     ]
    },
    {
     "name": "stderr",
     "output_type": "stream",
     "text": [
      "\r",
      "t:  11%|██████████▎                                                                                | 116/1026 [00:14<02:05,  7.25it/s, now=None]"
     ]
    },
    {
     "name": "stderr",
     "output_type": "stream",
     "text": [
      "\r",
      "t:  11%|██████████▍                                                                                | 117/1026 [00:14<02:00,  7.54it/s, now=None]"
     ]
    },
    {
     "name": "stderr",
     "output_type": "stream",
     "text": [
      "\r",
      "t:  12%|██████████▍                                                                                | 118/1026 [00:14<01:53,  7.98it/s, now=None]"
     ]
    },
    {
     "name": "stderr",
     "output_type": "stream",
     "text": [
      "\r",
      "t:  12%|██████████▌                                                                                | 119/1026 [00:14<01:51,  8.11it/s, now=None]"
     ]
    },
    {
     "name": "stderr",
     "output_type": "stream",
     "text": [
      "\r",
      "t:  12%|██████████▋                                                                                | 120/1026 [00:14<01:48,  8.33it/s, now=None]"
     ]
    },
    {
     "name": "stderr",
     "output_type": "stream",
     "text": [
      "\r",
      "t:  12%|██████████▊                                                                                | 122/1026 [00:15<01:57,  7.72it/s, now=None]"
     ]
    },
    {
     "name": "stderr",
     "output_type": "stream",
     "text": [
      "\r",
      "t:  12%|██████████▉                                                                                | 123/1026 [00:15<01:54,  7.86it/s, now=None]"
     ]
    },
    {
     "name": "stderr",
     "output_type": "stream",
     "text": [
      "\r",
      "t:  12%|██████████▉                                                                                | 124/1026 [00:15<01:49,  8.22it/s, now=None]"
     ]
    },
    {
     "name": "stderr",
     "output_type": "stream",
     "text": [
      "\r",
      "t:  12%|███████████                                                                                | 125/1026 [00:15<01:49,  8.26it/s, now=None]"
     ]
    },
    {
     "name": "stderr",
     "output_type": "stream",
     "text": [
      "\r",
      "t:  12%|███████████▏                                                                               | 126/1026 [00:15<01:48,  8.28it/s, now=None]"
     ]
    },
    {
     "name": "stderr",
     "output_type": "stream",
     "text": [
      "\r",
      "t:  12%|███████████▎                                                                               | 127/1026 [00:15<01:44,  8.56it/s, now=None]"
     ]
    },
    {
     "name": "stderr",
     "output_type": "stream",
     "text": [
      "\r",
      "t:  12%|███████████▎                                                                               | 128/1026 [00:15<02:03,  7.26it/s, now=None]"
     ]
    },
    {
     "name": "stderr",
     "output_type": "stream",
     "text": [
      "\r",
      "t:  13%|███████████▍                                                                               | 129/1026 [00:15<01:56,  7.71it/s, now=None]"
     ]
    },
    {
     "name": "stderr",
     "output_type": "stream",
     "text": [
      "\r",
      "t:  13%|███████████▌                                                                               | 131/1026 [00:16<01:46,  8.44it/s, now=None]"
     ]
    },
    {
     "name": "stderr",
     "output_type": "stream",
     "text": [
      "\r",
      "t:  13%|███████████▋                                                                               | 132/1026 [00:16<01:44,  8.56it/s, now=None]"
     ]
    },
    {
     "name": "stderr",
     "output_type": "stream",
     "text": [
      "\r",
      "t:  13%|███████████▉                                                                               | 134/1026 [00:16<01:53,  7.84it/s, now=None]"
     ]
    },
    {
     "name": "stderr",
     "output_type": "stream",
     "text": [
      "\r",
      "t:  13%|███████████▉                                                                               | 135/1026 [00:16<01:52,  7.94it/s, now=None]"
     ]
    },
    {
     "name": "stderr",
     "output_type": "stream",
     "text": [
      "\r",
      "t:  13%|████████████                                                                               | 136/1026 [00:16<01:47,  8.26it/s, now=None]"
     ]
    },
    {
     "name": "stderr",
     "output_type": "stream",
     "text": [
      "\r",
      "t:  13%|████████████▏                                                                              | 137/1026 [00:16<01:45,  8.44it/s, now=None]"
     ]
    },
    {
     "name": "stderr",
     "output_type": "stream",
     "text": [
      "\r",
      "t:  13%|████████████▏                                                                              | 138/1026 [00:16<01:45,  8.42it/s, now=None]"
     ]
    },
    {
     "name": "stderr",
     "output_type": "stream",
     "text": [
      "\r",
      "t:  14%|████████████▎                                                                              | 139/1026 [00:17<01:42,  8.66it/s, now=None]"
     ]
    },
    {
     "name": "stderr",
     "output_type": "stream",
     "text": [
      "\r",
      "t:  14%|████████████▍                                                                              | 140/1026 [00:17<02:00,  7.33it/s, now=None]"
     ]
    },
    {
     "name": "stderr",
     "output_type": "stream",
     "text": [
      "\r",
      "t:  14%|████████████▌                                                                              | 141/1026 [00:17<01:51,  7.90it/s, now=None]"
     ]
    },
    {
     "name": "stderr",
     "output_type": "stream",
     "text": [
      "\r",
      "t:  14%|████████████▌                                                                              | 142/1026 [00:17<01:46,  8.28it/s, now=None]"
     ]
    },
    {
     "name": "stderr",
     "output_type": "stream",
     "text": [
      "\r",
      "t:  14%|████████████▋                                                                              | 143/1026 [00:17<01:46,  8.31it/s, now=None]"
     ]
    },
    {
     "name": "stderr",
     "output_type": "stream",
     "text": [
      "\r",
      "t:  14%|████████████▊                                                                              | 144/1026 [00:17<01:45,  8.34it/s, now=None]"
     ]
    },
    {
     "name": "stderr",
     "output_type": "stream",
     "text": [
      "\r",
      "t:  14%|████████████▊                                                                              | 145/1026 [00:17<01:41,  8.70it/s, now=None]"
     ]
    },
    {
     "name": "stderr",
     "output_type": "stream",
     "text": [
      "\r",
      "t:  14%|████████████▉                                                                              | 146/1026 [00:18<02:00,  7.32it/s, now=None]"
     ]
    },
    {
     "name": "stderr",
     "output_type": "stream",
     "text": [
      "\r",
      "t:  14%|█████████████                                                                              | 147/1026 [00:18<01:53,  7.71it/s, now=None]"
     ]
    },
    {
     "name": "stderr",
     "output_type": "stream",
     "text": [
      "\r",
      "t:  15%|█████████████▏                                                                             | 149/1026 [00:18<01:45,  8.30it/s, now=None]"
     ]
    },
    {
     "name": "stderr",
     "output_type": "stream",
     "text": [
      "\r",
      "t:  15%|█████████████▎                                                                             | 150/1026 [00:18<01:45,  8.33it/s, now=None]"
     ]
    },
    {
     "name": "stderr",
     "output_type": "stream",
     "text": [
      "\r",
      "t:  15%|█████████████▍                                                                             | 151/1026 [00:18<01:42,  8.57it/s, now=None]"
     ]
    },
    {
     "name": "stderr",
     "output_type": "stream",
     "text": [
      "\r",
      "t:  15%|█████████████▍                                                                             | 152/1026 [00:18<01:59,  7.34it/s, now=None]"
     ]
    },
    {
     "name": "stderr",
     "output_type": "stream",
     "text": [
      "\r",
      "t:  15%|█████████████▌                                                                             | 153/1026 [00:18<01:54,  7.60it/s, now=None]"
     ]
    },
    {
     "name": "stderr",
     "output_type": "stream",
     "text": [
      "\r",
      "t:  15%|█████████████▋                                                                             | 155/1026 [00:19<01:45,  8.24it/s, now=None]"
     ]
    },
    {
     "name": "stderr",
     "output_type": "stream",
     "text": [
      "\r",
      "t:  15%|█████████████▊                                                                             | 156/1026 [00:19<01:45,  8.28it/s, now=None]"
     ]
    },
    {
     "name": "stderr",
     "output_type": "stream",
     "text": [
      "\r",
      "t:  15%|█████████████▉                                                                             | 157/1026 [00:19<01:41,  8.54it/s, now=None]"
     ]
    },
    {
     "name": "stderr",
     "output_type": "stream",
     "text": [
      "\r",
      "t:  15%|██████████████                                                                             | 158/1026 [00:19<01:58,  7.36it/s, now=None]"
     ]
    },
    {
     "name": "stderr",
     "output_type": "stream",
     "text": [
      "\r",
      "t:  15%|██████████████                                                                             | 159/1026 [00:19<01:53,  7.63it/s, now=None]"
     ]
    },
    {
     "name": "stderr",
     "output_type": "stream",
     "text": [
      "\r",
      "t:  16%|██████████████▎                                                                            | 161/1026 [00:19<01:45,  8.24it/s, now=None]"
     ]
    },
    {
     "name": "stderr",
     "output_type": "stream",
     "text": [
      "\r",
      "t:  16%|██████████████▎                                                                            | 162/1026 [00:19<01:44,  8.24it/s, now=None]"
     ]
    },
    {
     "name": "stderr",
     "output_type": "stream",
     "text": [
      "\r",
      "t:  16%|██████████████▍                                                                            | 163/1026 [00:20<01:41,  8.49it/s, now=None]"
     ]
    },
    {
     "name": "stderr",
     "output_type": "stream",
     "text": [
      "\r",
      "t:  16%|██████████████▌                                                                            | 164/1026 [00:20<01:57,  7.33it/s, now=None]"
     ]
    },
    {
     "name": "stderr",
     "output_type": "stream",
     "text": [
      "\r",
      "t:  16%|██████████████▋                                                                            | 165/1026 [00:20<01:51,  7.71it/s, now=None]"
     ]
    },
    {
     "name": "stderr",
     "output_type": "stream",
     "text": [
      "\r",
      "t:  16%|██████████████▊                                                                            | 167/1026 [00:20<01:43,  8.32it/s, now=None]"
     ]
    },
    {
     "name": "stderr",
     "output_type": "stream",
     "text": [
      "\r",
      "t:  16%|██████████████▉                                                                            | 168/1026 [00:20<01:41,  8.45it/s, now=None]"
     ]
    },
    {
     "name": "stderr",
     "output_type": "stream",
     "text": [
      "\r",
      "t:  17%|███████████████                                                                            | 170/1026 [00:20<01:49,  7.80it/s, now=None]"
     ]
    },
    {
     "name": "stderr",
     "output_type": "stream",
     "text": [
      "\r",
      "t:  17%|███████████████▏                                                                           | 171/1026 [00:21<01:46,  8.06it/s, now=None]"
     ]
    },
    {
     "name": "stderr",
     "output_type": "stream",
     "text": [
      "\r",
      "t:  17%|███████████████▎                                                                           | 173/1026 [00:21<01:36,  8.84it/s, now=None]"
     ]
    },
    {
     "name": "stderr",
     "output_type": "stream",
     "text": [
      "\r",
      "t:  17%|███████████████▍                                                                           | 174/1026 [00:21<01:36,  8.87it/s, now=None]"
     ]
    },
    {
     "name": "stderr",
     "output_type": "stream",
     "text": [
      "\r",
      "t:  17%|███████████████▌                                                                           | 176/1026 [00:21<01:45,  8.05it/s, now=None]"
     ]
    },
    {
     "name": "stderr",
     "output_type": "stream",
     "text": [
      "\r",
      "t:  17%|███████████████▋                                                                           | 177/1026 [00:21<01:45,  8.05it/s, now=None]"
     ]
    },
    {
     "name": "stderr",
     "output_type": "stream",
     "text": [
      "\r",
      "t:  17%|███████████████▊                                                                           | 178/1026 [00:21<01:42,  8.29it/s, now=None]"
     ]
    },
    {
     "name": "stderr",
     "output_type": "stream",
     "text": [
      "\r",
      "t:  17%|███████████████▉                                                                           | 179/1026 [00:22<01:42,  8.30it/s, now=None]"
     ]
    },
    {
     "name": "stderr",
     "output_type": "stream",
     "text": [
      "\r",
      "t:  18%|███████████████▉                                                                           | 180/1026 [00:22<01:41,  8.31it/s, now=None]"
     ]
    },
    {
     "name": "stderr",
     "output_type": "stream",
     "text": [
      "\r",
      "t:  18%|████████████████▏                                                                          | 182/1026 [00:22<01:50,  7.66it/s, now=None]"
     ]
    },
    {
     "name": "stderr",
     "output_type": "stream",
     "text": [
      "\r",
      "t:  18%|████████████████▏                                                                          | 183/1026 [00:22<01:45,  7.96it/s, now=None]"
     ]
    },
    {
     "name": "stderr",
     "output_type": "stream",
     "text": [
      "\r",
      "t:  18%|████████████████▎                                                                          | 184/1026 [00:22<01:41,  8.27it/s, now=None]"
     ]
    },
    {
     "name": "stderr",
     "output_type": "stream",
     "text": [
      "\r",
      "t:  18%|████████████████▍                                                                          | 185/1026 [00:22<01:41,  8.28it/s, now=None]"
     ]
    },
    {
     "name": "stderr",
     "output_type": "stream",
     "text": [
      "\r",
      "t:  18%|████████████████▍                                                                          | 186/1026 [00:22<01:39,  8.48it/s, now=None]"
     ]
    },
    {
     "name": "stderr",
     "output_type": "stream",
     "text": [
      "\r",
      "t:  18%|████████████████▌                                                                          | 187/1026 [00:22<01:36,  8.67it/s, now=None]"
     ]
    },
    {
     "name": "stderr",
     "output_type": "stream",
     "text": [
      "\r",
      "t:  18%|████████████████▋                                                                          | 188/1026 [00:23<01:54,  7.32it/s, now=None]"
     ]
    },
    {
     "name": "stderr",
     "output_type": "stream",
     "text": [
      "\r",
      "t:  18%|████████████████▊                                                                          | 189/1026 [00:23<01:50,  7.60it/s, now=None]"
     ]
    },
    {
     "name": "stderr",
     "output_type": "stream",
     "text": [
      "\r",
      "t:  19%|████████████████▉                                                                          | 191/1026 [00:23<01:39,  8.36it/s, now=None]"
     ]
    },
    {
     "name": "stderr",
     "output_type": "stream",
     "text": [
      "\r",
      "t:  19%|█████████████████                                                                          | 192/1026 [00:23<01:39,  8.35it/s, now=None]"
     ]
    },
    {
     "name": "stderr",
     "output_type": "stream",
     "text": [
      "\r",
      "t:  19%|█████████████████                                                                          | 193/1026 [00:23<01:37,  8.57it/s, now=None]"
     ]
    },
    {
     "name": "stderr",
     "output_type": "stream",
     "text": [
      "\r",
      "t:  19%|█████████████████▏                                                                         | 194/1026 [00:23<01:51,  7.49it/s, now=None]"
     ]
    },
    {
     "name": "stderr",
     "output_type": "stream",
     "text": [
      "\r",
      "t:  19%|█████████████████▎                                                                         | 195/1026 [00:24<01:43,  7.99it/s, now=None]"
     ]
    },
    {
     "name": "stderr",
     "output_type": "stream",
     "text": [
      "\r",
      "t:  19%|█████████████████▍                                                                         | 196/1026 [00:24<01:39,  8.33it/s, now=None]"
     ]
    },
    {
     "name": "stderr",
     "output_type": "stream",
     "text": [
      "\r",
      "t:  19%|█████████████████▍                                                                         | 197/1026 [00:24<01:39,  8.33it/s, now=None]"
     ]
    },
    {
     "name": "stderr",
     "output_type": "stream",
     "text": [
      "\r",
      "t:  19%|█████████████████▌                                                                         | 198/1026 [00:24<01:39,  8.34it/s, now=None]"
     ]
    },
    {
     "name": "stderr",
     "output_type": "stream",
     "text": [
      "\r",
      "t:  19%|█████████████████▋                                                                         | 199/1026 [00:24<01:35,  8.62it/s, now=None]"
     ]
    },
    {
     "name": "stderr",
     "output_type": "stream",
     "text": [
      "\r",
      "t:  19%|█████████████████▋                                                                         | 200/1026 [00:24<01:53,  7.27it/s, now=None]"
     ]
    },
    {
     "name": "stderr",
     "output_type": "stream",
     "text": [
      "\r",
      "t:  20%|█████████████████▊                                                                         | 201/1026 [00:24<01:47,  7.69it/s, now=None]"
     ]
    },
    {
     "name": "stderr",
     "output_type": "stream",
     "text": [
      "\r",
      "t:  20%|█████████████████▉                                                                         | 202/1026 [00:24<01:41,  8.13it/s, now=None]"
     ]
    },
    {
     "name": "stderr",
     "output_type": "stream",
     "text": [
      "\r",
      "t:  20%|██████████████████                                                                         | 203/1026 [00:25<01:40,  8.20it/s, now=None]"
     ]
    },
    {
     "name": "stderr",
     "output_type": "stream",
     "text": [
      "\r",
      "t:  20%|██████████████████                                                                         | 204/1026 [00:25<01:39,  8.25it/s, now=None]"
     ]
    },
    {
     "name": "stderr",
     "output_type": "stream",
     "text": [
      "\r",
      "t:  20%|██████████████████▏                                                                        | 205/1026 [00:25<01:36,  8.55it/s, now=None]"
     ]
    },
    {
     "name": "stderr",
     "output_type": "stream",
     "text": [
      "\r",
      "t:  20%|██████████████████▎                                                                        | 206/1026 [00:25<01:53,  7.24it/s, now=None]"
     ]
    },
    {
     "name": "stderr",
     "output_type": "stream",
     "text": [
      "\r",
      "t:  20%|██████████████████▎                                                                        | 207/1026 [00:25<01:44,  7.82it/s, now=None]"
     ]
    },
    {
     "name": "stderr",
     "output_type": "stream",
     "text": [
      "\r",
      "t:  20%|██████████████████▌                                                                        | 209/1026 [00:25<01:34,  8.61it/s, now=None]"
     ]
    },
    {
     "name": "stderr",
     "output_type": "stream",
     "text": [
      "\r",
      "t:  20%|██████████████████▋                                                                        | 210/1026 [00:25<01:33,  8.72it/s, now=None]"
     ]
    },
    {
     "name": "stderr",
     "output_type": "stream",
     "text": [
      "\r",
      "t:  21%|██████████████████▊                                                                        | 212/1026 [00:26<01:43,  7.90it/s, now=None]"
     ]
    },
    {
     "name": "stderr",
     "output_type": "stream",
     "text": [
      "\r",
      "t:  21%|██████████████████▉                                                                        | 213/1026 [00:26<01:40,  8.10it/s, now=None]"
     ]
    },
    {
     "name": "stderr",
     "output_type": "stream",
     "text": [
      "\r",
      "t:  21%|██████████████████▉                                                                        | 214/1026 [00:26<01:37,  8.36it/s, now=None]"
     ]
    },
    {
     "name": "stderr",
     "output_type": "stream",
     "text": [
      "\r",
      "t:  21%|███████████████████                                                                        | 215/1026 [00:26<01:35,  8.51it/s, now=None]"
     ]
    },
    {
     "name": "stderr",
     "output_type": "stream",
     "text": [
      "\r",
      "t:  21%|███████████████████▏                                                                       | 216/1026 [00:26<01:35,  8.44it/s, now=None]"
     ]
    },
    {
     "name": "stderr",
     "output_type": "stream",
     "text": [
      "\r",
      "t:  21%|███████████████████▏                                                                       | 217/1026 [00:26<01:33,  8.67it/s, now=None]"
     ]
    },
    {
     "name": "stderr",
     "output_type": "stream",
     "text": [
      "\r",
      "t:  21%|███████████████████▎                                                                       | 218/1026 [00:26<01:49,  7.36it/s, now=None]"
     ]
    },
    {
     "name": "stderr",
     "output_type": "stream",
     "text": [
      "\r",
      "t:  21%|███████████████████▍                                                                       | 219/1026 [00:26<01:45,  7.61it/s, now=None]"
     ]
    },
    {
     "name": "stderr",
     "output_type": "stream",
     "text": [
      "\r",
      "t:  21%|███████████████████▌                                                                       | 220/1026 [00:27<01:40,  8.05it/s, now=None]"
     ]
    },
    {
     "name": "stderr",
     "output_type": "stream",
     "text": [
      "\r",
      "t:  22%|███████████████████▌                                                                       | 221/1026 [00:27<01:36,  8.33it/s, now=None]"
     ]
    },
    {
     "name": "stderr",
     "output_type": "stream",
     "text": [
      "\r",
      "t:  22%|███████████████████▋                                                                       | 222/1026 [00:27<01:34,  8.54it/s, now=None]"
     ]
    },
    {
     "name": "stderr",
     "output_type": "stream",
     "text": [
      "\r",
      "t:  22%|███████████████████▊                                                                       | 224/1026 [00:27<01:43,  7.74it/s, now=None]"
     ]
    },
    {
     "name": "stderr",
     "output_type": "stream",
     "text": [
      "\r",
      "t:  22%|███████████████████▉                                                                       | 225/1026 [00:27<01:41,  7.87it/s, now=None]"
     ]
    },
    {
     "name": "stderr",
     "output_type": "stream",
     "text": [
      "\r",
      "t:  22%|████████████████████                                                                       | 226/1026 [00:27<01:37,  8.21it/s, now=None]"
     ]
    },
    {
     "name": "stderr",
     "output_type": "stream",
     "text": [
      "\r",
      "t:  22%|████████████████████▏                                                                      | 227/1026 [00:27<01:36,  8.25it/s, now=None]"
     ]
    },
    {
     "name": "stderr",
     "output_type": "stream",
     "text": [
      "\r",
      "t:  22%|████████████████████▏                                                                      | 228/1026 [00:28<01:36,  8.30it/s, now=None]"
     ]
    },
    {
     "name": "stderr",
     "output_type": "stream",
     "text": [
      "\r",
      "t:  22%|████████████████████▎                                                                      | 229/1026 [00:28<01:32,  8.61it/s, now=None]"
     ]
    },
    {
     "name": "stderr",
     "output_type": "stream",
     "text": [
      "\r",
      "t:  22%|████████████████████▍                                                                      | 230/1026 [00:28<01:46,  7.44it/s, now=None]"
     ]
    },
    {
     "name": "stderr",
     "output_type": "stream",
     "text": [
      "\r",
      "t:  23%|████████████████████▍                                                                      | 231/1026 [00:28<01:41,  7.84it/s, now=None]"
     ]
    },
    {
     "name": "stderr",
     "output_type": "stream",
     "text": [
      "\r",
      "t:  23%|████████████████████▋                                                                      | 233/1026 [00:28<01:32,  8.56it/s, now=None]"
     ]
    },
    {
     "name": "stderr",
     "output_type": "stream",
     "text": [
      "\r",
      "t:  23%|████████████████████▊                                                                      | 234/1026 [00:28<01:29,  8.82it/s, now=None]"
     ]
    },
    {
     "name": "stderr",
     "output_type": "stream",
     "text": [
      "\r",
      "t:  23%|████████████████████▉                                                                      | 236/1026 [00:29<01:38,  8.02it/s, now=None]"
     ]
    },
    {
     "name": "stderr",
     "output_type": "stream",
     "text": [
      "\r",
      "t:  23%|█████████████████████                                                                      | 237/1026 [00:29<01:34,  8.34it/s, now=None]"
     ]
    },
    {
     "name": "stderr",
     "output_type": "stream",
     "text": [
      "\r",
      "t:  23%|█████████████████████▏                                                                     | 239/1026 [00:29<01:28,  8.89it/s, now=None]"
     ]
    },
    {
     "name": "stderr",
     "output_type": "stream",
     "text": [
      "\r",
      "t:  23%|█████████████████████▎                                                                     | 240/1026 [00:29<01:28,  8.91it/s, now=None]"
     ]
    },
    {
     "name": "stderr",
     "output_type": "stream",
     "text": [
      "\r",
      "t:  24%|█████████████████████▍                                                                     | 242/1026 [00:29<01:34,  8.28it/s, now=None]"
     ]
    },
    {
     "name": "stderr",
     "output_type": "stream",
     "text": [
      "\r",
      "t:  24%|█████████████████████▌                                                                     | 243/1026 [00:29<01:31,  8.55it/s, now=None]"
     ]
    },
    {
     "name": "stderr",
     "output_type": "stream",
     "text": [
      "\r",
      "t:  24%|█████████████████████▋                                                                     | 245/1026 [00:30<01:27,  8.95it/s, now=None]"
     ]
    },
    {
     "name": "stderr",
     "output_type": "stream",
     "text": [
      "\r",
      "t:  24%|█████████████████████▊                                                                     | 246/1026 [00:30<01:26,  8.97it/s, now=None]"
     ]
    },
    {
     "name": "stderr",
     "output_type": "stream",
     "text": [
      "\r",
      "t:  24%|█████████████████████▉                                                                     | 248/1026 [00:30<01:33,  8.30it/s, now=None]"
     ]
    },
    {
     "name": "stderr",
     "output_type": "stream",
     "text": [
      "\r",
      "t:  24%|██████████████████████                                                                     | 249/1026 [00:30<01:31,  8.46it/s, now=None]"
     ]
    },
    {
     "name": "stderr",
     "output_type": "stream",
     "text": [
      "\r",
      "t:  24%|██████████████████████▎                                                                    | 251/1026 [00:30<01:27,  8.85it/s, now=None]"
     ]
    },
    {
     "name": "stderr",
     "output_type": "stream",
     "text": [
      "\r",
      "t:  25%|██████████████████████▎                                                                    | 252/1026 [00:30<01:26,  9.00it/s, now=None]"
     ]
    },
    {
     "name": "stderr",
     "output_type": "stream",
     "text": [
      "\r",
      "t:  25%|██████████████████████▌                                                                    | 254/1026 [00:31<01:34,  8.13it/s, now=None]"
     ]
    },
    {
     "name": "stderr",
     "output_type": "stream",
     "text": [
      "\r",
      "t:  25%|██████████████████████▌                                                                    | 255/1026 [00:31<01:32,  8.30it/s, now=None]"
     ]
    },
    {
     "name": "stderr",
     "output_type": "stream",
     "text": [
      "\r",
      "t:  25%|██████████████████████▋                                                                    | 256/1026 [00:31<01:29,  8.64it/s, now=None]"
     ]
    },
    {
     "name": "stderr",
     "output_type": "stream",
     "text": [
      "\r",
      "t:  25%|██████████████████████▊                                                                    | 257/1026 [00:31<01:26,  8.90it/s, now=None]"
     ]
    },
    {
     "name": "stderr",
     "output_type": "stream",
     "text": [
      "\r",
      "t:  25%|██████████████████████▉                                                                    | 258/1026 [00:31<01:27,  8.74it/s, now=None]"
     ]
    },
    {
     "name": "stderr",
     "output_type": "stream",
     "text": [
      "\r",
      "t:  25%|██████████████████████▉                                                                    | 259/1026 [00:31<01:26,  8.89it/s, now=None]"
     ]
    },
    {
     "name": "stderr",
     "output_type": "stream",
     "text": [
      "\r",
      "t:  25%|███████████████████████                                                                    | 260/1026 [00:31<01:43,  7.43it/s, now=None]"
     ]
    },
    {
     "name": "stderr",
     "output_type": "stream",
     "text": [
      "\r",
      "t:  25%|███████████████████████▏                                                                   | 261/1026 [00:31<01:38,  7.74it/s, now=None]"
     ]
    },
    {
     "name": "stderr",
     "output_type": "stream",
     "text": [
      "\r",
      "t:  26%|███████████████████████▏                                                                   | 262/1026 [00:32<01:33,  8.15it/s, now=None]"
     ]
    },
    {
     "name": "stderr",
     "output_type": "stream",
     "text": [
      "\r",
      "t:  26%|███████████████████████▎                                                                   | 263/1026 [00:32<01:30,  8.42it/s, now=None]"
     ]
    },
    {
     "name": "stderr",
     "output_type": "stream",
     "text": [
      "\r",
      "t:  26%|███████████████████████▍                                                                   | 264/1026 [00:32<01:28,  8.61it/s, now=None]"
     ]
    },
    {
     "name": "stderr",
     "output_type": "stream",
     "text": [
      "\r",
      "t:  26%|███████████████████████▌                                                                   | 266/1026 [00:32<01:37,  7.82it/s, now=None]"
     ]
    },
    {
     "name": "stderr",
     "output_type": "stream",
     "text": [
      "\r",
      "t:  26%|███████████████████████▋                                                                   | 267/1026 [00:32<01:34,  8.02it/s, now=None]"
     ]
    },
    {
     "name": "stderr",
     "output_type": "stream",
     "text": [
      "\r",
      "t:  26%|███████████████████████▊                                                                   | 269/1026 [00:32<01:29,  8.49it/s, now=None]"
     ]
    },
    {
     "name": "stderr",
     "output_type": "stream",
     "text": [
      "\r",
      "t:  26%|███████████████████████▉                                                                   | 270/1026 [00:33<01:28,  8.49it/s, now=None]"
     ]
    },
    {
     "name": "stderr",
     "output_type": "stream",
     "text": [
      "\r",
      "t:  27%|████████████████████████                                                                   | 272/1026 [00:33<01:36,  7.85it/s, now=None]"
     ]
    },
    {
     "name": "stderr",
     "output_type": "stream",
     "text": [
      "\r",
      "t:  27%|████████████████████████▏                                                                  | 273/1026 [00:33<01:33,  8.08it/s, now=None]"
     ]
    },
    {
     "name": "stderr",
     "output_type": "stream",
     "text": [
      "\r",
      "t:  27%|████████████████████████▍                                                                  | 275/1026 [00:33<01:28,  8.50it/s, now=None]"
     ]
    },
    {
     "name": "stderr",
     "output_type": "stream",
     "text": [
      "\r",
      "t:  27%|████████████████████████▍                                                                  | 276/1026 [00:33<01:27,  8.62it/s, now=None]"
     ]
    },
    {
     "name": "stderr",
     "output_type": "stream",
     "text": [
      "\r",
      "t:  27%|████████████████████████▌                                                                  | 277/1026 [00:33<01:25,  8.79it/s, now=None]"
     ]
    },
    {
     "name": "stderr",
     "output_type": "stream",
     "text": [
      "\r",
      "t:  27%|████████████████████████▋                                                                  | 278/1026 [00:34<01:38,  7.56it/s, now=None]"
     ]
    },
    {
     "name": "stderr",
     "output_type": "stream",
     "text": [
      "\r",
      "t:  27%|████████████████████████▋                                                                  | 279/1026 [00:34<01:37,  7.67it/s, now=None]"
     ]
    },
    {
     "name": "stderr",
     "output_type": "stream",
     "text": [
      "\r",
      "t:  27%|████████████████████████▊                                                                  | 280/1026 [00:34<01:31,  8.13it/s, now=None]"
     ]
    },
    {
     "name": "stderr",
     "output_type": "stream",
     "text": [
      "\r",
      "t:  27%|████████████████████████▉                                                                  | 281/1026 [00:34<01:28,  8.39it/s, now=None]"
     ]
    },
    {
     "name": "stderr",
     "output_type": "stream",
     "text": [
      "\r",
      "t:  27%|█████████████████████████                                                                  | 282/1026 [00:34<01:28,  8.39it/s, now=None]"
     ]
    },
    {
     "name": "stderr",
     "output_type": "stream",
     "text": [
      "\r",
      "t:  28%|█████████████████████████                                                                  | 283/1026 [00:34<01:26,  8.60it/s, now=None]"
     ]
    },
    {
     "name": "stderr",
     "output_type": "stream",
     "text": [
      "\r",
      "t:  28%|█████████████████████████▏                                                                 | 284/1026 [00:34<01:40,  7.40it/s, now=None]"
     ]
    },
    {
     "name": "stderr",
     "output_type": "stream",
     "text": [
      "\r",
      "t:  28%|█████████████████████████▎                                                                 | 285/1026 [00:34<01:32,  7.98it/s, now=None]"
     ]
    },
    {
     "name": "stderr",
     "output_type": "stream",
     "text": [
      "\r",
      "t:  28%|█████████████████████████▎                                                                 | 286/1026 [00:35<01:28,  8.35it/s, now=None]"
     ]
    },
    {
     "name": "stderr",
     "output_type": "stream",
     "text": [
      "\r",
      "t:  28%|█████████████████████████▍                                                                 | 287/1026 [00:35<01:28,  8.38it/s, now=None]"
     ]
    },
    {
     "name": "stderr",
     "output_type": "stream",
     "text": [
      "\r",
      "t:  28%|█████████████████████████▌                                                                 | 288/1026 [00:35<01:27,  8.41it/s, now=None]"
     ]
    },
    {
     "name": "stderr",
     "output_type": "stream",
     "text": [
      "\r",
      "t:  28%|█████████████████████████▋                                                                 | 289/1026 [00:35<01:24,  8.68it/s, now=None]"
     ]
    },
    {
     "name": "stderr",
     "output_type": "stream",
     "text": [
      "\r",
      "t:  28%|█████████████████████████▋                                                                 | 290/1026 [00:35<01:40,  7.32it/s, now=None]"
     ]
    },
    {
     "name": "stderr",
     "output_type": "stream",
     "text": [
      "\r",
      "t:  28%|█████████████████████████▊                                                                 | 291/1026 [00:35<01:34,  7.75it/s, now=None]"
     ]
    },
    {
     "name": "stderr",
     "output_type": "stream",
     "text": [
      "\r",
      "t:  29%|█████████████████████████▉                                                                 | 293/1026 [00:35<01:25,  8.58it/s, now=None]"
     ]
    },
    {
     "name": "stderr",
     "output_type": "stream",
     "text": [
      "\r",
      "t:  29%|██████████████████████████                                                                 | 294/1026 [00:35<01:22,  8.83it/s, now=None]"
     ]
    },
    {
     "name": "stderr",
     "output_type": "stream",
     "text": [
      "\r",
      "t:  29%|██████████████████████████▎                                                                | 296/1026 [00:36<01:31,  8.01it/s, now=None]"
     ]
    },
    {
     "name": "stderr",
     "output_type": "stream",
     "text": [
      "\r",
      "t:  29%|██████████████████████████▎                                                                | 297/1026 [00:36<01:27,  8.32it/s, now=None]"
     ]
    },
    {
     "name": "stderr",
     "output_type": "stream",
     "text": [
      "\r",
      "t:  29%|██████████████████████████▍                                                                | 298/1026 [00:36<01:23,  8.67it/s, now=None]"
     ]
    },
    {
     "name": "stderr",
     "output_type": "stream",
     "text": [
      "\r",
      "t:  29%|██████████████████████████▌                                                                | 299/1026 [00:36<01:23,  8.73it/s, now=None]"
     ]
    },
    {
     "name": "stderr",
     "output_type": "stream",
     "text": [
      "\r",
      "t:  29%|██████████████████████████▌                                                                | 300/1026 [00:36<01:20,  8.97it/s, now=None]"
     ]
    },
    {
     "name": "stderr",
     "output_type": "stream",
     "text": [
      "\r",
      "t:  29%|██████████████████████████▊                                                                | 302/1026 [00:36<01:29,  8.05it/s, now=None]"
     ]
    },
    {
     "name": "stderr",
     "output_type": "stream",
     "text": [
      "\r",
      "t:  30%|██████████████████████████▊                                                                | 303/1026 [00:37<01:27,  8.24it/s, now=None]"
     ]
    },
    {
     "name": "stderr",
     "output_type": "stream",
     "text": [
      "\r",
      "t:  30%|██████████████████████████▉                                                                | 304/1026 [00:37<01:23,  8.62it/s, now=None]"
     ]
    },
    {
     "name": "stderr",
     "output_type": "stream",
     "text": [
      "\r",
      "t:  30%|███████████████████████████                                                                | 305/1026 [00:37<01:22,  8.70it/s, now=None]"
     ]
    },
    {
     "name": "stderr",
     "output_type": "stream",
     "text": [
      "\r",
      "t:  30%|███████████████████████████▏                                                               | 306/1026 [00:37<01:22,  8.76it/s, now=None]"
     ]
    },
    {
     "name": "stderr",
     "output_type": "stream",
     "text": [
      "\r",
      "t:  30%|███████████████████████████▏                                                               | 307/1026 [00:37<01:19,  9.07it/s, now=None]"
     ]
    },
    {
     "name": "stderr",
     "output_type": "stream",
     "text": [
      "\r",
      "t:  30%|███████████████████████████▎                                                               | 308/1026 [00:37<01:35,  7.50it/s, now=None]"
     ]
    },
    {
     "name": "stderr",
     "output_type": "stream",
     "text": [
      "\r",
      "t:  30%|███████████████████████████▍                                                               | 309/1026 [00:37<01:29,  7.98it/s, now=None]"
     ]
    },
    {
     "name": "stderr",
     "output_type": "stream",
     "text": [
      "\r",
      "t:  30%|███████████████████████████▍                                                               | 310/1026 [00:37<01:25,  8.42it/s, now=None]"
     ]
    },
    {
     "name": "stderr",
     "output_type": "stream",
     "text": [
      "\r",
      "t:  30%|███████████████████████████▌                                                               | 311/1026 [00:38<01:23,  8.54it/s, now=None]"
     ]
    },
    {
     "name": "stderr",
     "output_type": "stream",
     "text": [
      "\r",
      "t:  30%|███████████████████████████▋                                                               | 312/1026 [00:38<01:22,  8.66it/s, now=None]"
     ]
    },
    {
     "name": "stderr",
     "output_type": "stream",
     "text": [
      "\r",
      "t:  31%|███████████████████████████▊                                                               | 313/1026 [00:38<01:20,  8.87it/s, now=None]"
     ]
    },
    {
     "name": "stderr",
     "output_type": "stream",
     "text": [
      "\r",
      "t:  31%|███████████████████████████▊                                                               | 314/1026 [00:38<01:36,  7.37it/s, now=None]"
     ]
    },
    {
     "name": "stderr",
     "output_type": "stream",
     "text": [
      "\r",
      "t:  31%|███████████████████████████▉                                                               | 315/1026 [00:38<01:33,  7.61it/s, now=None]"
     ]
    },
    {
     "name": "stderr",
     "output_type": "stream",
     "text": [
      "\r",
      "t:  31%|████████████████████████████                                                               | 316/1026 [00:38<01:27,  8.07it/s, now=None]"
     ]
    },
    {
     "name": "stderr",
     "output_type": "stream",
     "text": [
      "\r",
      "t:  31%|████████████████████████████                                                               | 317/1026 [00:38<01:26,  8.17it/s, now=None]"
     ]
    },
    {
     "name": "stderr",
     "output_type": "stream",
     "text": [
      "\r",
      "t:  31%|████████████████████████████▏                                                              | 318/1026 [00:38<01:25,  8.25it/s, now=None]"
     ]
    },
    {
     "name": "stderr",
     "output_type": "stream",
     "text": [
      "\r",
      "t:  31%|████████████████████████████▎                                                              | 319/1026 [00:38<01:22,  8.58it/s, now=None]"
     ]
    },
    {
     "name": "stderr",
     "output_type": "stream",
     "text": [
      "\r",
      "t:  31%|████████████████████████████▍                                                              | 320/1026 [00:39<01:37,  7.23it/s, now=None]"
     ]
    },
    {
     "name": "stderr",
     "output_type": "stream",
     "text": [
      "\r",
      "t:  31%|████████████████████████████▍                                                              | 321/1026 [00:39<01:33,  7.51it/s, now=None]"
     ]
    },
    {
     "name": "stderr",
     "output_type": "stream",
     "text": [
      "\r",
      "t:  31%|████████████████████████████▌                                                              | 322/1026 [00:39<01:28,  7.99it/s, now=None]"
     ]
    },
    {
     "name": "stderr",
     "output_type": "stream",
     "text": [
      "\r",
      "t:  31%|████████████████████████████▋                                                              | 323/1026 [00:39<01:26,  8.10it/s, now=None]"
     ]
    },
    {
     "name": "stderr",
     "output_type": "stream",
     "text": [
      "\r",
      "t:  32%|████████████████████████████▋                                                              | 324/1026 [00:39<01:25,  8.18it/s, now=None]"
     ]
    },
    {
     "name": "stderr",
     "output_type": "stream",
     "text": [
      "\r",
      "t:  32%|████████████████████████████▊                                                              | 325/1026 [00:39<01:22,  8.49it/s, now=None]"
     ]
    },
    {
     "name": "stderr",
     "output_type": "stream",
     "text": [
      "\r",
      "t:  32%|████████████████████████████▉                                                              | 326/1026 [00:39<01:37,  7.17it/s, now=None]"
     ]
    },
    {
     "name": "stderr",
     "output_type": "stream",
     "text": [
      "\r",
      "t:  32%|█████████████████████████████                                                              | 327/1026 [00:40<01:32,  7.52it/s, now=None]"
     ]
    },
    {
     "name": "stderr",
     "output_type": "stream",
     "text": [
      "\r",
      "t:  32%|█████████████████████████████                                                              | 328/1026 [00:40<01:27,  7.97it/s, now=None]"
     ]
    },
    {
     "name": "stderr",
     "output_type": "stream",
     "text": [
      "\r",
      "t:  32%|█████████████████████████████▏                                                             | 329/1026 [00:40<01:24,  8.27it/s, now=None]"
     ]
    },
    {
     "name": "stderr",
     "output_type": "stream",
     "text": [
      "\r",
      "t:  32%|█████████████████████████████▎                                                             | 330/1026 [00:40<01:24,  8.28it/s, now=None]"
     ]
    },
    {
     "name": "stderr",
     "output_type": "stream",
     "text": [
      "\r",
      "t:  32%|█████████████████████████████▍                                                             | 332/1026 [00:40<01:31,  7.58it/s, now=None]"
     ]
    },
    {
     "name": "stderr",
     "output_type": "stream",
     "text": [
      "\r",
      "t:  32%|█████████████████████████████▌                                                             | 333/1026 [00:40<01:29,  7.75it/s, now=None]"
     ]
    },
    {
     "name": "stderr",
     "output_type": "stream",
     "text": [
      "\r",
      "t:  33%|█████████████████████████████▌                                                             | 334/1026 [00:40<01:26,  7.98it/s, now=None]"
     ]
    },
    {
     "name": "stderr",
     "output_type": "stream",
     "text": [
      "\r",
      "t:  33%|█████████████████████████████▋                                                             | 335/1026 [00:41<01:25,  8.04it/s, now=None]"
     ]
    },
    {
     "name": "stderr",
     "output_type": "stream",
     "text": [
      "\r",
      "t:  33%|█████████████████████████████▊                                                             | 336/1026 [00:41<01:24,  8.12it/s, now=None]"
     ]
    },
    {
     "name": "stderr",
     "output_type": "stream",
     "text": [
      "\r",
      "t:  33%|█████████████████████████████▉                                                             | 337/1026 [00:41<01:21,  8.42it/s, now=None]"
     ]
    },
    {
     "name": "stderr",
     "output_type": "stream",
     "text": [
      "\r",
      "t:  33%|█████████████████████████████▉                                                             | 338/1026 [00:41<01:36,  7.14it/s, now=None]"
     ]
    },
    {
     "name": "stderr",
     "output_type": "stream",
     "text": [
      "\r",
      "t:  33%|██████████████████████████████                                                             | 339/1026 [00:41<01:31,  7.48it/s, now=None]"
     ]
    },
    {
     "name": "stderr",
     "output_type": "stream",
     "text": [
      "\r",
      "t:  33%|██████████████████████████████▏                                                            | 340/1026 [00:41<01:26,  7.91it/s, now=None]"
     ]
    },
    {
     "name": "stderr",
     "output_type": "stream",
     "text": [
      "\r",
      "t:  33%|██████████████████████████████▏                                                            | 341/1026 [00:41<01:25,  8.05it/s, now=None]"
     ]
    },
    {
     "name": "stderr",
     "output_type": "stream",
     "text": [
      "\r",
      "t:  33%|██████████████████████████████▎                                                            | 342/1026 [00:41<01:24,  8.10it/s, now=None]"
     ]
    },
    {
     "name": "stderr",
     "output_type": "stream",
     "text": [
      "\r",
      "t:  33%|██████████████████████████████▍                                                            | 343/1026 [00:42<01:20,  8.44it/s, now=None]"
     ]
    },
    {
     "name": "stderr",
     "output_type": "stream",
     "text": [
      "\r",
      "t:  34%|██████████████████████████████▌                                                            | 344/1026 [00:42<01:35,  7.16it/s, now=None]"
     ]
    },
    {
     "name": "stderr",
     "output_type": "stream",
     "text": [
      "\r",
      "t:  34%|██████████████████████████████▌                                                            | 345/1026 [00:42<01:30,  7.49it/s, now=None]"
     ]
    },
    {
     "name": "stderr",
     "output_type": "stream",
     "text": [
      "\r",
      "t:  34%|██████████████████████████████▋                                                            | 346/1026 [00:42<01:25,  7.96it/s, now=None]"
     ]
    },
    {
     "name": "stderr",
     "output_type": "stream",
     "text": [
      "\r",
      "t:  34%|██████████████████████████████▊                                                            | 347/1026 [00:42<01:24,  8.05it/s, now=None]"
     ]
    },
    {
     "name": "stderr",
     "output_type": "stream",
     "text": [
      "\r",
      "t:  34%|██████████████████████████████▊                                                            | 348/1026 [00:42<01:21,  8.33it/s, now=None]"
     ]
    },
    {
     "name": "stderr",
     "output_type": "stream",
     "text": [
      "\r",
      "t:  34%|██████████████████████████████▉                                                            | 349/1026 [00:42<01:20,  8.43it/s, now=None]"
     ]
    },
    {
     "name": "stderr",
     "output_type": "stream",
     "text": [
      "\r",
      "t:  34%|███████████████████████████████                                                            | 350/1026 [00:42<01:34,  7.16it/s, now=None]"
     ]
    },
    {
     "name": "stderr",
     "output_type": "stream",
     "text": [
      "\r",
      "t:  34%|███████████████████████████████▏                                                           | 351/1026 [00:43<01:27,  7.75it/s, now=None]"
     ]
    },
    {
     "name": "stderr",
     "output_type": "stream",
     "text": [
      "\r",
      "t:  34%|███████████████████████████████▏                                                           | 352/1026 [00:43<01:22,  8.16it/s, now=None]"
     ]
    },
    {
     "name": "stderr",
     "output_type": "stream",
     "text": [
      "\r",
      "t:  34%|███████████████████████████████▎                                                           | 353/1026 [00:43<01:21,  8.22it/s, now=None]"
     ]
    },
    {
     "name": "stderr",
     "output_type": "stream",
     "text": [
      "\r",
      "t:  35%|███████████████████████████████▍                                                           | 354/1026 [00:43<01:17,  8.63it/s, now=None]"
     ]
    },
    {
     "name": "stderr",
     "output_type": "stream",
     "text": [
      "\r",
      "t:  35%|███████████████████████████████▍                                                           | 355/1026 [00:43<01:16,  8.79it/s, now=None]"
     ]
    },
    {
     "name": "stderr",
     "output_type": "stream",
     "text": [
      "\r",
      "t:  35%|███████████████████████████████▌                                                           | 356/1026 [00:43<01:31,  7.29it/s, now=None]"
     ]
    },
    {
     "name": "stderr",
     "output_type": "stream",
     "text": [
      "\r",
      "t:  35%|███████████████████████████████▋                                                           | 357/1026 [00:43<01:28,  7.59it/s, now=None]"
     ]
    },
    {
     "name": "stderr",
     "output_type": "stream",
     "text": [
      "\r",
      "t:  35%|███████████████████████████████▊                                                           | 358/1026 [00:43<01:23,  8.00it/s, now=None]"
     ]
    },
    {
     "name": "stderr",
     "output_type": "stream",
     "text": [
      "\r",
      "t:  35%|███████████████████████████████▊                                                           | 359/1026 [00:44<01:23,  8.02it/s, now=None]"
     ]
    },
    {
     "name": "stderr",
     "output_type": "stream",
     "text": [
      "\r",
      "t:  35%|███████████████████████████████▉                                                           | 360/1026 [00:44<01:22,  8.12it/s, now=None]"
     ]
    },
    {
     "name": "stderr",
     "output_type": "stream",
     "text": [
      "\r",
      "t:  35%|████████████████████████████████                                                           | 361/1026 [00:44<01:18,  8.44it/s, now=None]"
     ]
    },
    {
     "name": "stderr",
     "output_type": "stream",
     "text": [
      "\r",
      "t:  35%|████████████████████████████████                                                           | 362/1026 [00:44<01:31,  7.27it/s, now=None]"
     ]
    },
    {
     "name": "stderr",
     "output_type": "stream",
     "text": [
      "\r",
      "t:  35%|████████████████████████████████▎                                                          | 364/1026 [00:44<01:16,  8.63it/s, now=None]"
     ]
    },
    {
     "name": "stderr",
     "output_type": "stream",
     "text": [
      "\r",
      "t:  36%|████████████████████████████████▎                                                          | 365/1026 [00:44<01:14,  8.91it/s, now=None]"
     ]
    },
    {
     "name": "stderr",
     "output_type": "stream",
     "text": [
      "\r",
      "t:  36%|████████████████████████████████▌                                                          | 367/1026 [00:44<01:08,  9.57it/s, now=None]"
     ]
    },
    {
     "name": "stderr",
     "output_type": "stream",
     "text": [
      "\r",
      "t:  36%|████████████████████████████████▋                                                          | 368/1026 [00:45<01:21,  8.11it/s, now=None]"
     ]
    },
    {
     "name": "stderr",
     "output_type": "stream",
     "text": [
      "\r",
      "t:  36%|████████████████████████████████▋                                                          | 369/1026 [00:45<01:17,  8.46it/s, now=None]"
     ]
    },
    {
     "name": "stderr",
     "output_type": "stream",
     "text": [
      "\r",
      "t:  36%|████████████████████████████████▉                                                          | 371/1026 [00:45<01:13,  8.88it/s, now=None]"
     ]
    },
    {
     "name": "stderr",
     "output_type": "stream",
     "text": [
      "\r",
      "t:  36%|████████████████████████████████▉                                                          | 372/1026 [00:45<01:13,  8.89it/s, now=None]"
     ]
    },
    {
     "name": "stderr",
     "output_type": "stream",
     "text": [
      "\r",
      "t:  36%|█████████████████████████████████▏                                                         | 374/1026 [00:45<01:21,  8.00it/s, now=None]"
     ]
    },
    {
     "name": "stderr",
     "output_type": "stream",
     "text": [
      "\r",
      "t:  37%|█████████████████████████████████▎                                                         | 375/1026 [00:45<01:19,  8.21it/s, now=None]"
     ]
    },
    {
     "name": "stderr",
     "output_type": "stream",
     "text": [
      "\r",
      "t:  37%|█████████████████████████████████▍                                                         | 377/1026 [00:46<01:13,  8.82it/s, now=None]"
     ]
    },
    {
     "name": "stderr",
     "output_type": "stream",
     "text": [
      "\r",
      "t:  37%|█████████████████████████████████▌                                                         | 378/1026 [00:46<01:13,  8.87it/s, now=None]"
     ]
    },
    {
     "name": "stderr",
     "output_type": "stream",
     "text": [
      "\r",
      "t:  37%|█████████████████████████████████▋                                                         | 380/1026 [00:46<01:19,  8.11it/s, now=None]"
     ]
    },
    {
     "name": "stderr",
     "output_type": "stream",
     "text": [
      "\r",
      "t:  37%|█████████████████████████████████▊                                                         | 381/1026 [00:46<01:18,  8.27it/s, now=None]"
     ]
    },
    {
     "name": "stderr",
     "output_type": "stream",
     "text": [
      "\r",
      "t:  37%|█████████████████████████████████▉                                                         | 382/1026 [00:46<01:14,  8.61it/s, now=None]"
     ]
    },
    {
     "name": "stderr",
     "output_type": "stream",
     "text": [
      "\r",
      "t:  37%|█████████████████████████████████▉                                                         | 383/1026 [00:46<01:14,  8.65it/s, now=None]"
     ]
    },
    {
     "name": "stderr",
     "output_type": "stream",
     "text": [
      "\r",
      "t:  37%|██████████████████████████████████                                                         | 384/1026 [00:46<01:13,  8.76it/s, now=None]"
     ]
    },
    {
     "name": "stderr",
     "output_type": "stream",
     "text": [
      "\r",
      "t:  38%|██████████████████████████████████▏                                                        | 385/1026 [00:47<01:11,  8.96it/s, now=None]"
     ]
    },
    {
     "name": "stderr",
     "output_type": "stream",
     "text": [
      "\r",
      "t:  38%|██████████████████████████████████▏                                                        | 386/1026 [00:47<01:25,  7.47it/s, now=None]"
     ]
    },
    {
     "name": "stderr",
     "output_type": "stream",
     "text": [
      "\r",
      "t:  38%|██████████████████████████████████▎                                                        | 387/1026 [00:47<01:21,  7.82it/s, now=None]"
     ]
    },
    {
     "name": "stderr",
     "output_type": "stream",
     "text": [
      "\r",
      "t:  38%|██████████████████████████████████▌                                                        | 389/1026 [00:47<01:13,  8.64it/s, now=None]"
     ]
    },
    {
     "name": "stderr",
     "output_type": "stream",
     "text": [
      "\r",
      "t:  38%|██████████████████████████████████▌                                                        | 390/1026 [00:47<01:11,  8.88it/s, now=None]"
     ]
    },
    {
     "name": "stderr",
     "output_type": "stream",
     "text": [
      "\r",
      "t:  38%|██████████████████████████████████▋                                                        | 391/1026 [00:47<01:09,  9.12it/s, now=None]"
     ]
    },
    {
     "name": "stderr",
     "output_type": "stream",
     "text": [
      "\r",
      "t:  38%|██████████████████████████████████▊                                                        | 392/1026 [00:47<01:22,  7.64it/s, now=None]"
     ]
    },
    {
     "name": "stderr",
     "output_type": "stream",
     "text": [
      "\r",
      "t:  38%|██████████████████████████████████▊                                                        | 393/1026 [00:48<01:18,  8.11it/s, now=None]"
     ]
    },
    {
     "name": "stderr",
     "output_type": "stream",
     "text": [
      "\r",
      "t:  38%|███████████████████████████████████                                                        | 395/1026 [00:48<01:11,  8.82it/s, now=None]"
     ]
    },
    {
     "name": "stderr",
     "output_type": "stream",
     "text": [
      "\r",
      "t:  39%|███████████████████████████████████                                                        | 396/1026 [00:48<01:11,  8.85it/s, now=None]"
     ]
    },
    {
     "name": "stderr",
     "output_type": "stream",
     "text": [
      "\r",
      "t:  39%|███████████████████████████████████▎                                                       | 398/1026 [00:48<01:17,  8.10it/s, now=None]"
     ]
    },
    {
     "name": "stderr",
     "output_type": "stream",
     "text": [
      "\r",
      "t:  39%|███████████████████████████████████▍                                                       | 399/1026 [00:48<01:14,  8.38it/s, now=None]"
     ]
    },
    {
     "name": "stderr",
     "output_type": "stream",
     "text": [
      "\r",
      "t:  39%|███████████████████████████████████▌                                                       | 401/1026 [00:48<01:10,  8.91it/s, now=None]"
     ]
    },
    {
     "name": "stderr",
     "output_type": "stream",
     "text": [
      "\r",
      "t:  39%|███████████████████████████████████▋                                                       | 402/1026 [00:49<01:09,  8.92it/s, now=None]"
     ]
    },
    {
     "name": "stderr",
     "output_type": "stream",
     "text": [
      "\r",
      "t:  39%|███████████████████████████████████▊                                                       | 404/1026 [00:49<01:17,  8.03it/s, now=None]"
     ]
    },
    {
     "name": "stderr",
     "output_type": "stream",
     "text": [
      "\r",
      "t:  39%|███████████████████████████████████▉                                                       | 405/1026 [00:49<01:14,  8.36it/s, now=None]"
     ]
    },
    {
     "name": "stderr",
     "output_type": "stream",
     "text": [
      "\r",
      "t:  40%|████████████████████████████████████                                                       | 407/1026 [00:49<01:11,  8.64it/s, now=None]"
     ]
    },
    {
     "name": "stderr",
     "output_type": "stream",
     "text": [
      "\r",
      "t:  40%|████████████████████████████████████▏                                                      | 408/1026 [00:49<01:12,  8.58it/s, now=None]"
     ]
    },
    {
     "name": "stderr",
     "output_type": "stream",
     "text": [
      "\r",
      "t:  40%|████████████████████████████████████▎                                                      | 410/1026 [00:50<01:18,  7.88it/s, now=None]"
     ]
    },
    {
     "name": "stderr",
     "output_type": "stream",
     "text": [
      "\r",
      "t:  40%|████████████████████████████████████▍                                                      | 411/1026 [00:50<01:16,  8.08it/s, now=None]"
     ]
    },
    {
     "name": "stderr",
     "output_type": "stream",
     "text": [
      "\r",
      "t:  40%|████████████████████████████████████▋                                                      | 413/1026 [00:50<01:12,  8.46it/s, now=None]"
     ]
    },
    {
     "name": "stderr",
     "output_type": "stream",
     "text": [
      "\r",
      "t:  40%|████████████████████████████████████▋                                                      | 414/1026 [00:50<01:12,  8.45it/s, now=None]"
     ]
    },
    {
     "name": "stderr",
     "output_type": "stream",
     "text": [
      "\r",
      "t:  40%|████████████████████████████████████▊                                                      | 415/1026 [00:50<01:10,  8.64it/s, now=None]"
     ]
    },
    {
     "name": "stderr",
     "output_type": "stream",
     "text": [
      "\r",
      "t:  41%|████████████████████████████████████▉                                                      | 416/1026 [00:50<01:22,  7.42it/s, now=None]"
     ]
    },
    {
     "name": "stderr",
     "output_type": "stream",
     "text": [
      "\r",
      "t:  41%|████████████████████████████████████▉                                                      | 417/1026 [00:50<01:19,  7.66it/s, now=None]"
     ]
    },
    {
     "name": "stderr",
     "output_type": "stream",
     "text": [
      "\r",
      "t:  41%|█████████████████████████████████████                                                      | 418/1026 [00:51<01:15,  8.06it/s, now=None]"
     ]
    },
    {
     "name": "stderr",
     "output_type": "stream",
     "text": [
      "\r",
      "t:  41%|█████████████████████████████████████▏                                                     | 419/1026 [00:51<01:14,  8.14it/s, now=None]"
     ]
    },
    {
     "name": "stderr",
     "output_type": "stream",
     "text": [
      "\r",
      "t:  41%|█████████████████████████████████████▎                                                     | 420/1026 [00:51<01:13,  8.20it/s, now=None]"
     ]
    },
    {
     "name": "stderr",
     "output_type": "stream",
     "text": [
      "\r",
      "t:  41%|█████████████████████████████████████▎                                                     | 421/1026 [00:51<01:11,  8.48it/s, now=None]"
     ]
    },
    {
     "name": "stderr",
     "output_type": "stream",
     "text": [
      "\r",
      "t:  41%|█████████████████████████████████████▍                                                     | 422/1026 [00:51<01:22,  7.28it/s, now=None]"
     ]
    },
    {
     "name": "stderr",
     "output_type": "stream",
     "text": [
      "\r",
      "t:  41%|█████████████████████████████████████▌                                                     | 423/1026 [00:51<01:16,  7.87it/s, now=None]"
     ]
    },
    {
     "name": "stderr",
     "output_type": "stream",
     "text": [
      "\r",
      "t:  41%|█████████████████████████████████████▋                                                     | 425/1026 [00:51<01:08,  8.80it/s, now=None]"
     ]
    },
    {
     "name": "stderr",
     "output_type": "stream",
     "text": [
      "\r",
      "t:  42%|█████████████████████████████████████▊                                                     | 427/1026 [00:52<01:03,  9.44it/s, now=None]"
     ]
    },
    {
     "name": "stderr",
     "output_type": "stream",
     "text": [
      "\r",
      "t:  42%|█████████████████████████████████████▉                                                     | 428/1026 [00:52<01:13,  8.19it/s, now=None]"
     ]
    },
    {
     "name": "stderr",
     "output_type": "stream",
     "text": [
      "\r",
      "t:  42%|██████████████████████████████████████▏                                                    | 430/1026 [00:52<01:06,  8.99it/s, now=None]"
     ]
    },
    {
     "name": "stderr",
     "output_type": "stream",
     "text": [
      "\r",
      "t:  42%|██████████████████████████████████████▏                                                    | 431/1026 [00:52<01:05,  9.12it/s, now=None]"
     ]
    },
    {
     "name": "stderr",
     "output_type": "stream",
     "text": [
      "\r",
      "t:  42%|██████████████████████████████████████▍                                                    | 433/1026 [00:52<01:00,  9.78it/s, now=None]"
     ]
    },
    {
     "name": "stderr",
     "output_type": "stream",
     "text": [
      "\r",
      "t:  42%|██████████████████████████████████████▍                                                    | 434/1026 [00:52<01:10,  8.39it/s, now=None]"
     ]
    },
    {
     "name": "stderr",
     "output_type": "stream",
     "text": [
      "\r",
      "t:  42%|██████████████████████████████████████▌                                                    | 435/1026 [00:53<01:09,  8.53it/s, now=None]"
     ]
    },
    {
     "name": "stderr",
     "output_type": "stream",
     "text": [
      "\r",
      "t:  43%|██████████████████████████████████████▊                                                    | 437/1026 [00:53<01:07,  8.76it/s, now=None]"
     ]
    },
    {
     "name": "stderr",
     "output_type": "stream",
     "text": [
      "\r",
      "t:  43%|██████████████████████████████████████▊                                                    | 438/1026 [00:53<01:05,  8.96it/s, now=None]"
     ]
    },
    {
     "name": "stderr",
     "output_type": "stream",
     "text": [
      "\r",
      "t:  43%|██████████████████████████████████████▉                                                    | 439/1026 [00:53<01:03,  9.19it/s, now=None]"
     ]
    },
    {
     "name": "stderr",
     "output_type": "stream",
     "text": [
      "\r",
      "t:  43%|███████████████████████████████████████                                                    | 440/1026 [00:53<01:15,  7.74it/s, now=None]"
     ]
    },
    {
     "name": "stderr",
     "output_type": "stream",
     "text": [
      "\r",
      "t:  43%|███████████████████████████████████████                                                    | 441/1026 [00:53<01:12,  8.05it/s, now=None]"
     ]
    },
    {
     "name": "stderr",
     "output_type": "stream",
     "text": [
      "\r",
      "t:  43%|███████████████████████████████████████▎                                                   | 443/1026 [00:53<01:06,  8.76it/s, now=None]"
     ]
    },
    {
     "name": "stderr",
     "output_type": "stream",
     "text": [
      "\r",
      "t:  43%|███████████████████████████████████████▍                                                   | 444/1026 [00:54<01:06,  8.81it/s, now=None]"
     ]
    },
    {
     "name": "stderr",
     "output_type": "stream",
     "text": [
      "\r",
      "t:  43%|███████████████████████████████████████▌                                                   | 446/1026 [00:54<01:11,  8.07it/s, now=None]"
     ]
    },
    {
     "name": "stderr",
     "output_type": "stream",
     "text": [
      "\r",
      "t:  44%|███████████████████████████████████████▋                                                   | 447/1026 [00:54<01:09,  8.39it/s, now=None]"
     ]
    },
    {
     "name": "stderr",
     "output_type": "stream",
     "text": [
      "\r",
      "t:  44%|███████████████████████████████████████▊                                                   | 449/1026 [00:54<01:04,  8.95it/s, now=None]"
     ]
    },
    {
     "name": "stderr",
     "output_type": "stream",
     "text": [
      "\r",
      "t:  44%|███████████████████████████████████████▉                                                   | 450/1026 [00:54<01:04,  8.95it/s, now=None]"
     ]
    },
    {
     "name": "stderr",
     "output_type": "stream",
     "text": [
      "\r",
      "t:  44%|████████████████████████████████████████                                                   | 452/1026 [00:55<01:09,  8.26it/s, now=None]"
     ]
    },
    {
     "name": "stderr",
     "output_type": "stream",
     "text": [
      "\r",
      "t:  44%|████████████████████████████████████████▎                                                  | 454/1026 [00:55<01:02,  9.10it/s, now=None]"
     ]
    },
    {
     "name": "stderr",
     "output_type": "stream",
     "text": [
      "\r",
      "t:  44%|████████████████████████████████████████▍                                                  | 456/1026 [00:55<00:59,  9.60it/s, now=None]"
     ]
    },
    {
     "name": "stderr",
     "output_type": "stream",
     "text": [
      "\r",
      "t:  45%|████████████████████████████████████████▌                                                  | 458/1026 [00:55<01:05,  8.68it/s, now=None]"
     ]
    },
    {
     "name": "stderr",
     "output_type": "stream",
     "text": [
      "\r",
      "t:  45%|████████████████████████████████████████▋                                                  | 459/1026 [00:55<01:03,  8.86it/s, now=None]"
     ]
    },
    {
     "name": "stderr",
     "output_type": "stream",
     "text": [
      "\r",
      "t:  45%|████████████████████████████████████████▉                                                  | 461/1026 [00:55<01:00,  9.39it/s, now=None]"
     ]
    },
    {
     "name": "stderr",
     "output_type": "stream",
     "text": [
      "\r",
      "t:  45%|████████████████████████████████████████▉                                                  | 462/1026 [00:56<00:59,  9.48it/s, now=None]"
     ]
    },
    {
     "name": "stderr",
     "output_type": "stream",
     "text": [
      "\r",
      "t:  45%|█████████████████████████████████████████▏                                                 | 464/1026 [00:56<01:05,  8.52it/s, now=None]"
     ]
    },
    {
     "name": "stderr",
     "output_type": "stream",
     "text": [
      "\r",
      "t:  45%|█████████████████████████████████████████▎                                                 | 466/1026 [00:56<01:01,  9.14it/s, now=None]"
     ]
    },
    {
     "name": "stderr",
     "output_type": "stream",
     "text": [
      "\r",
      "t:  46%|█████████████████████████████████████████▍                                                 | 467/1026 [00:56<01:00,  9.27it/s, now=None]"
     ]
    },
    {
     "name": "stderr",
     "output_type": "stream",
     "text": [
      "\r",
      "t:  46%|█████████████████████████████████████████▌                                                 | 468/1026 [00:56<00:59,  9.41it/s, now=None]"
     ]
    },
    {
     "name": "stderr",
     "output_type": "stream",
     "text": [
      "\r",
      "t:  46%|█████████████████████████████████████████▋                                                 | 470/1026 [00:57<01:05,  8.45it/s, now=None]"
     ]
    },
    {
     "name": "stderr",
     "output_type": "stream",
     "text": [
      "\r",
      "t:  46%|█████████████████████████████████████████▊                                                 | 472/1026 [00:57<01:00,  9.13it/s, now=None]"
     ]
    },
    {
     "name": "stderr",
     "output_type": "stream",
     "text": [
      "\r",
      "t:  46%|█████████████████████████████████████████▉                                                 | 473/1026 [00:57<00:59,  9.27it/s, now=None]"
     ]
    },
    {
     "name": "stderr",
     "output_type": "stream",
     "text": [
      "\r",
      "t:  46%|██████████████████████████████████████████                                                 | 474/1026 [00:57<00:58,  9.42it/s, now=None]"
     ]
    },
    {
     "name": "stderr",
     "output_type": "stream",
     "text": [
      "\r",
      "t:  46%|██████████████████████████████████████████▏                                                | 476/1026 [00:57<01:04,  8.58it/s, now=None]"
     ]
    },
    {
     "name": "stderr",
     "output_type": "stream",
     "text": [
      "\r",
      "t:  46%|██████████████████████████████████████████▎                                                | 477/1026 [00:57<01:02,  8.84it/s, now=None]"
     ]
    },
    {
     "name": "stderr",
     "output_type": "stream",
     "text": [
      "\r",
      "t:  47%|██████████████████████████████████████████▍                                                | 479/1026 [00:57<00:58,  9.29it/s, now=None]"
     ]
    },
    {
     "name": "stderr",
     "output_type": "stream",
     "text": [
      "\r",
      "t:  47%|██████████████████████████████████████████▌                                                | 480/1026 [00:58<00:58,  9.39it/s, now=None]"
     ]
    },
    {
     "name": "stderr",
     "output_type": "stream",
     "text": [
      "\r",
      "t:  47%|██████████████████████████████████████████▊                                                | 482/1026 [00:58<01:04,  8.42it/s, now=None]"
     ]
    },
    {
     "name": "stderr",
     "output_type": "stream",
     "text": [
      "\r",
      "t:  47%|██████████████████████████████████████████▉                                                | 484/1026 [00:58<00:59,  9.08it/s, now=None]"
     ]
    },
    {
     "name": "stderr",
     "output_type": "stream",
     "text": [
      "\r",
      "t:  47%|███████████████████████████████████████████                                                | 485/1026 [00:58<00:58,  9.23it/s, now=None]"
     ]
    },
    {
     "name": "stderr",
     "output_type": "stream",
     "text": [
      "\r",
      "t:  47%|███████████████████████████████████████████▏                                               | 487/1026 [00:58<00:55,  9.71it/s, now=None]"
     ]
    },
    {
     "name": "stderr",
     "output_type": "stream",
     "text": [
      "\r",
      "t:  48%|███████████████████████████████████████████▎                                               | 488/1026 [00:59<01:04,  8.39it/s, now=None]"
     ]
    },
    {
     "name": "stderr",
     "output_type": "stream",
     "text": [
      "\r",
      "t:  48%|███████████████████████████████████████████▎                                               | 489/1026 [00:59<01:01,  8.70it/s, now=None]"
     ]
    },
    {
     "name": "stderr",
     "output_type": "stream",
     "text": [
      "\r",
      "t:  48%|███████████████████████████████████████████▌                                               | 491/1026 [00:59<00:57,  9.31it/s, now=None]"
     ]
    },
    {
     "name": "stderr",
     "output_type": "stream",
     "text": [
      "\r",
      "t:  48%|███████████████████████████████████████████▋                                               | 493/1026 [00:59<00:54,  9.75it/s, now=None]"
     ]
    },
    {
     "name": "stderr",
     "output_type": "stream",
     "text": [
      "\r",
      "t:  48%|███████████████████████████████████████████▊                                               | 494/1026 [00:59<01:04,  8.28it/s, now=None]"
     ]
    },
    {
     "name": "stderr",
     "output_type": "stream",
     "text": [
      "\r",
      "t:  48%|███████████████████████████████████████████▉                                               | 495/1026 [00:59<01:02,  8.44it/s, now=None]"
     ]
    },
    {
     "name": "stderr",
     "output_type": "stream",
     "text": [
      "\r",
      "t:  48%|████████████████████████████████████████████                                               | 497/1026 [01:00<01:00,  8.69it/s, now=None]"
     ]
    },
    {
     "name": "stderr",
     "output_type": "stream",
     "text": [
      "\r",
      "t:  49%|████████████████████████████████████████████▏                                              | 498/1026 [01:00<01:01,  8.60it/s, now=None]"
     ]
    },
    {
     "name": "stderr",
     "output_type": "stream",
     "text": [
      "\r",
      "t:  49%|████████████████████████████████████████████▎                                              | 499/1026 [01:00<00:59,  8.82it/s, now=None]"
     ]
    },
    {
     "name": "stderr",
     "output_type": "stream",
     "text": [
      "\r",
      "t:  49%|████████████████████████████████████████████▎                                              | 500/1026 [01:00<01:08,  7.68it/s, now=None]"
     ]
    },
    {
     "name": "stderr",
     "output_type": "stream",
     "text": [
      "\r",
      "t:  49%|████████████████████████████████████████████▍                                              | 501/1026 [01:00<01:04,  8.15it/s, now=None]"
     ]
    },
    {
     "name": "stderr",
     "output_type": "stream",
     "text": [
      "\r",
      "t:  49%|████████████████████████████████████████████▌                                              | 503/1026 [01:00<00:59,  8.77it/s, now=None]"
     ]
    },
    {
     "name": "stderr",
     "output_type": "stream",
     "text": [
      "\r",
      "t:  49%|████████████████████████████████████████████▋                                              | 504/1026 [01:00<00:59,  8.81it/s, now=None]"
     ]
    },
    {
     "name": "stderr",
     "output_type": "stream",
     "text": [
      "\r",
      "t:  49%|████████████████████████████████████████████▊                                              | 505/1026 [01:00<00:57,  9.08it/s, now=None]"
     ]
    },
    {
     "name": "stderr",
     "output_type": "stream",
     "text": [
      "\r",
      "t:  49%|████████████████████████████████████████████▉                                              | 506/1026 [01:01<01:08,  7.56it/s, now=None]"
     ]
    },
    {
     "name": "stderr",
     "output_type": "stream",
     "text": [
      "\r",
      "t:  49%|████████████████████████████████████████████▉                                              | 507/1026 [01:01<01:05,  7.89it/s, now=None]"
     ]
    },
    {
     "name": "stderr",
     "output_type": "stream",
     "text": [
      "\r",
      "t:  50%|█████████████████████████████████████████████▏                                             | 509/1026 [01:01<00:58,  8.78it/s, now=None]"
     ]
    },
    {
     "name": "stderr",
     "output_type": "stream",
     "text": [
      "\r",
      "t:  50%|█████████████████████████████████████████████▏                                             | 510/1026 [01:01<00:58,  8.85it/s, now=None]"
     ]
    },
    {
     "name": "stderr",
     "output_type": "stream",
     "text": [
      "\r",
      "t:  50%|█████████████████████████████████████████████▎                                             | 511/1026 [01:01<00:56,  9.11it/s, now=None]"
     ]
    },
    {
     "name": "stderr",
     "output_type": "stream",
     "text": [
      "\r",
      "t:  50%|█████████████████████████████████████████████▍                                             | 512/1026 [01:01<01:07,  7.63it/s, now=None]"
     ]
    },
    {
     "name": "stderr",
     "output_type": "stream",
     "text": [
      "\r",
      "t:  50%|█████████████████████████████████████████████▌                                             | 513/1026 [01:01<01:03,  8.11it/s, now=None]"
     ]
    },
    {
     "name": "stderr",
     "output_type": "stream",
     "text": [
      "\r",
      "t:  50%|█████████████████████████████████████████████▋                                             | 515/1026 [01:02<00:57,  8.81it/s, now=None]"
     ]
    },
    {
     "name": "stderr",
     "output_type": "stream",
     "text": [
      "\r",
      "t:  50%|█████████████████████████████████████████████▊                                             | 516/1026 [01:02<00:57,  8.88it/s, now=None]"
     ]
    },
    {
     "name": "stderr",
     "output_type": "stream",
     "text": [
      "\r",
      "t:  50%|█████████████████████████████████████████████▉                                             | 518/1026 [01:02<01:02,  8.09it/s, now=None]"
     ]
    },
    {
     "name": "stderr",
     "output_type": "stream",
     "text": [
      "\r",
      "t:  51%|██████████████████████████████████████████████                                             | 519/1026 [01:02<01:01,  8.27it/s, now=None]"
     ]
    },
    {
     "name": "stderr",
     "output_type": "stream",
     "text": [
      "\r",
      "t:  51%|██████████████████████████████████████████████▏                                            | 521/1026 [01:02<00:58,  8.59it/s, now=None]"
     ]
    },
    {
     "name": "stderr",
     "output_type": "stream",
     "text": [
      "\r",
      "t:  51%|██████████████████████████████████████████████▎                                            | 522/1026 [01:02<00:59,  8.51it/s, now=None]"
     ]
    },
    {
     "name": "stderr",
     "output_type": "stream",
     "text": [
      "\r",
      "t:  51%|██████████████████████████████████████████████▍                                            | 523/1026 [01:03<00:57,  8.72it/s, now=None]"
     ]
    },
    {
     "name": "stderr",
     "output_type": "stream",
     "text": [
      "\r",
      "t:  51%|██████████████████████████████████████████████▍                                            | 524/1026 [01:03<01:07,  7.39it/s, now=None]"
     ]
    },
    {
     "name": "stderr",
     "output_type": "stream",
     "text": [
      "\r",
      "t:  51%|██████████████████████████████████████████████▌                                            | 525/1026 [01:03<01:03,  7.90it/s, now=None]"
     ]
    },
    {
     "name": "stderr",
     "output_type": "stream",
     "text": [
      "\r",
      "t:  51%|██████████████████████████████████████████████▋                                            | 526/1026 [01:03<01:00,  8.23it/s, now=None]"
     ]
    },
    {
     "name": "stderr",
     "output_type": "stream",
     "text": [
      "\r",
      "t:  51%|██████████████████████████████████████████████▋                                            | 527/1026 [01:03<01:00,  8.26it/s, now=None]"
     ]
    },
    {
     "name": "stderr",
     "output_type": "stream",
     "text": [
      "\r",
      "t:  51%|██████████████████████████████████████████████▊                                            | 528/1026 [01:03<01:00,  8.27it/s, now=None]"
     ]
    },
    {
     "name": "stderr",
     "output_type": "stream",
     "text": [
      "\r",
      "t:  52%|███████████████████████████████████████████████                                            | 530/1026 [01:04<01:05,  7.61it/s, now=None]"
     ]
    },
    {
     "name": "stderr",
     "output_type": "stream",
     "text": [
      "\r",
      "t:  52%|███████████████████████████████████████████████                                            | 531/1026 [01:04<01:03,  7.78it/s, now=None]"
     ]
    },
    {
     "name": "stderr",
     "output_type": "stream",
     "text": [
      "\r",
      "t:  52%|███████████████████████████████████████████████▎                                           | 533/1026 [01:04<00:58,  8.43it/s, now=None]"
     ]
    },
    {
     "name": "stderr",
     "output_type": "stream",
     "text": [
      "\r",
      "t:  52%|███████████████████████████████████████████████▎                                           | 534/1026 [01:04<00:57,  8.54it/s, now=None]"
     ]
    },
    {
     "name": "stderr",
     "output_type": "stream",
     "text": [
      "\r",
      "t:  52%|███████████████████████████████████████████████▌                                           | 536/1026 [01:04<01:03,  7.76it/s, now=None]"
     ]
    },
    {
     "name": "stderr",
     "output_type": "stream",
     "text": [
      "\r",
      "t:  52%|███████████████████████████████████████████████▋                                           | 537/1026 [01:04<01:01,  8.00it/s, now=None]"
     ]
    },
    {
     "name": "stderr",
     "output_type": "stream",
     "text": [
      "\r",
      "t:  53%|███████████████████████████████████████████████▊                                           | 539/1026 [01:05<00:56,  8.63it/s, now=None]"
     ]
    },
    {
     "name": "stderr",
     "output_type": "stream",
     "text": [
      "\r",
      "t:  53%|███████████████████████████████████████████████▉                                           | 540/1026 [01:05<00:54,  8.85it/s, now=None]"
     ]
    },
    {
     "name": "stderr",
     "output_type": "stream",
     "text": [
      "\r",
      "t:  53%|████████████████████████████████████████████████                                           | 542/1026 [01:05<01:00,  8.00it/s, now=None]"
     ]
    },
    {
     "name": "stderr",
     "output_type": "stream",
     "text": [
      "\r",
      "t:  53%|████████████████████████████████████████████████▏                                          | 543/1026 [01:05<00:58,  8.20it/s, now=None]"
     ]
    },
    {
     "name": "stderr",
     "output_type": "stream",
     "text": [
      "\r",
      "t:  53%|████████████████████████████████████████████████▎                                          | 545/1026 [01:05<00:54,  8.80it/s, now=None]"
     ]
    },
    {
     "name": "stderr",
     "output_type": "stream",
     "text": [
      "\r",
      "t:  53%|████████████████████████████████████████████████▍                                          | 546/1026 [01:05<00:54,  8.85it/s, now=None]"
     ]
    },
    {
     "name": "stderr",
     "output_type": "stream",
     "text": [
      "\r",
      "t:  53%|████████████████████████████████████████████████▌                                          | 548/1026 [01:06<01:00,  7.91it/s, now=None]"
     ]
    },
    {
     "name": "stderr",
     "output_type": "stream",
     "text": [
      "\r",
      "t:  54%|████████████████████████████████████████████████▋                                          | 549/1026 [01:06<00:57,  8.24it/s, now=None]"
     ]
    },
    {
     "name": "stderr",
     "output_type": "stream",
     "text": [
      "\r",
      "t:  54%|████████████████████████████████████████████████▊                                          | 551/1026 [01:06<00:53,  8.92it/s, now=None]"
     ]
    },
    {
     "name": "stderr",
     "output_type": "stream",
     "text": [
      "\r",
      "t:  54%|████████████████████████████████████████████████▉                                          | 552/1026 [01:06<00:52,  9.06it/s, now=None]"
     ]
    },
    {
     "name": "stderr",
     "output_type": "stream",
     "text": [
      "\r",
      "t:  54%|█████████████████████████████████████████████████                                          | 553/1026 [01:06<00:51,  9.26it/s, now=None]"
     ]
    },
    {
     "name": "stderr",
     "output_type": "stream",
     "text": [
      "\r",
      "t:  54%|█████████████████████████████████████████████████▏                                         | 554/1026 [01:06<01:00,  7.78it/s, now=None]"
     ]
    },
    {
     "name": "stderr",
     "output_type": "stream",
     "text": [
      "\r",
      "t:  54%|█████████████████████████████████████████████████▏                                         | 555/1026 [01:06<00:57,  8.23it/s, now=None]"
     ]
    },
    {
     "name": "stderr",
     "output_type": "stream",
     "text": [
      "\r",
      "t:  54%|█████████████████████████████████████████████████▍                                         | 557/1026 [01:07<00:52,  8.86it/s, now=None]"
     ]
    },
    {
     "name": "stderr",
     "output_type": "stream",
     "text": [
      "\r",
      "t:  54%|█████████████████████████████████████████████████▍                                         | 558/1026 [01:07<00:51,  9.01it/s, now=None]"
     ]
    },
    {
     "name": "stderr",
     "output_type": "stream",
     "text": [
      "\r",
      "t:  55%|█████████████████████████████████████████████████▋                                         | 560/1026 [01:07<00:57,  8.12it/s, now=None]"
     ]
    },
    {
     "name": "stderr",
     "output_type": "stream",
     "text": [
      "\r",
      "t:  55%|█████████████████████████████████████████████████▊                                         | 561/1026 [01:07<00:55,  8.41it/s, now=None]"
     ]
    },
    {
     "name": "stderr",
     "output_type": "stream",
     "text": [
      "\r",
      "t:  55%|█████████████████████████████████████████████████▉                                         | 563/1026 [01:07<00:51,  9.06it/s, now=None]"
     ]
    },
    {
     "name": "stderr",
     "output_type": "stream",
     "text": [
      "\r",
      "t:  55%|██████████████████████████████████████████████████                                         | 564/1026 [01:07<00:50,  9.19it/s, now=None]"
     ]
    },
    {
     "name": "stderr",
     "output_type": "stream",
     "text": [
      "\r",
      "t:  55%|██████████████████████████████████████████████████▏                                        | 566/1026 [01:08<00:54,  8.38it/s, now=None]"
     ]
    },
    {
     "name": "stderr",
     "output_type": "stream",
     "text": [
      "\r",
      "t:  55%|██████████████████████████████████████████████████▎                                        | 567/1026 [01:08<00:52,  8.67it/s, now=None]"
     ]
    },
    {
     "name": "stderr",
     "output_type": "stream",
     "text": [
      "\r",
      "t:  55%|██████████████████████████████████████████████████▍                                        | 569/1026 [01:08<00:49,  9.21it/s, now=None]"
     ]
    },
    {
     "name": "stderr",
     "output_type": "stream",
     "text": [
      "\r",
      "t:  56%|██████████████████████████████████████████████████▋                                        | 571/1026 [01:08<00:47,  9.53it/s, now=None]"
     ]
    },
    {
     "name": "stderr",
     "output_type": "stream",
     "text": [
      "\r",
      "t:  56%|██████████████████████████████████████████████████▋                                        | 572/1026 [01:08<00:55,  8.19it/s, now=None]"
     ]
    },
    {
     "name": "stderr",
     "output_type": "stream",
     "text": [
      "\r",
      "t:  56%|██████████████████████████████████████████████████▊                                        | 573/1026 [01:09<00:53,  8.52it/s, now=None]"
     ]
    },
    {
     "name": "stderr",
     "output_type": "stream",
     "text": [
      "\r",
      "t:  56%|██████████████████████████████████████████████████▉                                        | 575/1026 [01:09<00:50,  8.89it/s, now=None]"
     ]
    },
    {
     "name": "stderr",
     "output_type": "stream",
     "text": [
      "\r",
      "t:  56%|███████████████████████████████████████████████████                                        | 576/1026 [01:09<00:50,  8.90it/s, now=None]"
     ]
    },
    {
     "name": "stderr",
     "output_type": "stream",
     "text": [
      "\r",
      "t:  56%|███████████████████████████████████████████████████▎                                       | 578/1026 [01:09<00:55,  8.01it/s, now=None]"
     ]
    },
    {
     "name": "stderr",
     "output_type": "stream",
     "text": [
      "\r",
      "t:  56%|███████████████████████████████████████████████████▎                                       | 579/1026 [01:09<00:54,  8.21it/s, now=None]"
     ]
    },
    {
     "name": "stderr",
     "output_type": "stream",
     "text": [
      "\r",
      "t:  57%|███████████████████████████████████████████████████▌                                       | 581/1026 [01:09<00:51,  8.68it/s, now=None]"
     ]
    },
    {
     "name": "stderr",
     "output_type": "stream",
     "text": [
      "\r",
      "t:  57%|███████████████████████████████████████████████████▌                                       | 582/1026 [01:10<00:50,  8.75it/s, now=None]"
     ]
    },
    {
     "name": "stderr",
     "output_type": "stream",
     "text": [
      "\r",
      "t:  57%|███████████████████████████████████████████████████▊                                       | 584/1026 [01:10<00:55,  7.92it/s, now=None]"
     ]
    },
    {
     "name": "stderr",
     "output_type": "stream",
     "text": [
      "\r",
      "t:  57%|███████████████████████████████████████████████████▉                                       | 585/1026 [01:10<00:54,  8.02it/s, now=None]"
     ]
    },
    {
     "name": "stderr",
     "output_type": "stream",
     "text": [
      "\r",
      "t:  57%|███████████████████████████████████████████████████▉                                       | 586/1026 [01:10<00:53,  8.20it/s, now=None]"
     ]
    },
    {
     "name": "stderr",
     "output_type": "stream",
     "text": [
      "\r",
      "t:  57%|████████████████████████████████████████████████████                                       | 587/1026 [01:10<00:52,  8.34it/s, now=None]"
     ]
    },
    {
     "name": "stderr",
     "output_type": "stream",
     "text": [
      "\r",
      "t:  57%|████████████████████████████████████████████████████▏                                      | 588/1026 [01:10<00:51,  8.50it/s, now=None]"
     ]
    },
    {
     "name": "stderr",
     "output_type": "stream",
     "text": [
      "\r",
      "t:  57%|████████████████████████████████████████████████████▏                                      | 589/1026 [01:10<00:49,  8.85it/s, now=None]"
     ]
    },
    {
     "name": "stderr",
     "output_type": "stream",
     "text": [
      "\r",
      "t:  58%|████████████████████████████████████████████████████▎                                      | 590/1026 [01:11<00:59,  7.38it/s, now=None]"
     ]
    },
    {
     "name": "stderr",
     "output_type": "stream",
     "text": [
      "\r",
      "t:  58%|████████████████████████████████████████████████████▍                                      | 591/1026 [01:11<00:55,  7.80it/s, now=None]"
     ]
    },
    {
     "name": "stderr",
     "output_type": "stream",
     "text": [
      "\r",
      "t:  58%|████████████████████████████████████████████████████▌                                      | 592/1026 [01:11<00:53,  8.17it/s, now=None]"
     ]
    },
    {
     "name": "stderr",
     "output_type": "stream",
     "text": [
      "\r",
      "t:  58%|████████████████████████████████████████████████████▌                                      | 593/1026 [01:11<00:52,  8.23it/s, now=None]"
     ]
    },
    {
     "name": "stderr",
     "output_type": "stream",
     "text": [
      "\r",
      "t:  58%|████████████████████████████████████████████████████▋                                      | 594/1026 [01:11<00:52,  8.27it/s, now=None]"
     ]
    },
    {
     "name": "stderr",
     "output_type": "stream",
     "text": [
      "\r",
      "t:  58%|████████████████████████████████████████████████████▊                                      | 595/1026 [01:11<00:50,  8.58it/s, now=None]"
     ]
    },
    {
     "name": "stderr",
     "output_type": "stream",
     "text": [
      "\r",
      "t:  58%|████████████████████████████████████████████████████▊                                      | 596/1026 [01:11<01:00,  7.11it/s, now=None]"
     ]
    },
    {
     "name": "stderr",
     "output_type": "stream",
     "text": [
      "\r",
      "t:  58%|████████████████████████████████████████████████████▉                                      | 597/1026 [01:11<00:57,  7.44it/s, now=None]"
     ]
    },
    {
     "name": "stderr",
     "output_type": "stream",
     "text": [
      "\r",
      "t:  58%|█████████████████████████████████████████████████████                                      | 598/1026 [01:12<00:54,  7.92it/s, now=None]"
     ]
    },
    {
     "name": "stderr",
     "output_type": "stream",
     "text": [
      "\r",
      "t:  58%|█████████████████████████████████████████████████████▏                                     | 599/1026 [01:12<00:51,  8.36it/s, now=None]"
     ]
    },
    {
     "name": "stderr",
     "output_type": "stream",
     "text": [
      "\r",
      "t:  58%|█████████████████████████████████████████████████████▏                                     | 600/1026 [01:12<00:51,  8.35it/s, now=None]"
     ]
    },
    {
     "name": "stderr",
     "output_type": "stream",
     "text": [
      "\r",
      "t:  59%|█████████████████████████████████████████████████████▎                                     | 601/1026 [01:12<00:49,  8.61it/s, now=None]"
     ]
    },
    {
     "name": "stderr",
     "output_type": "stream",
     "text": [
      "\r",
      "t:  59%|█████████████████████████████████████████████████████▍                                     | 602/1026 [01:12<00:58,  7.20it/s, now=None]"
     ]
    },
    {
     "name": "stderr",
     "output_type": "stream",
     "text": [
      "\r",
      "t:  59%|█████████████████████████████████████████████████████▍                                     | 603/1026 [01:12<00:54,  7.79it/s, now=None]"
     ]
    },
    {
     "name": "stderr",
     "output_type": "stream",
     "text": [
      "\r",
      "t:  59%|█████████████████████████████████████████████████████▌                                     | 604/1026 [01:12<00:51,  8.20it/s, now=None]"
     ]
    },
    {
     "name": "stderr",
     "output_type": "stream",
     "text": [
      "\r",
      "t:  59%|█████████████████████████████████████████████████████▋                                     | 605/1026 [01:12<00:49,  8.44it/s, now=None]"
     ]
    },
    {
     "name": "stderr",
     "output_type": "stream",
     "text": [
      "\r",
      "t:  59%|█████████████████████████████████████████████████████▋                                     | 606/1026 [01:13<00:50,  8.36it/s, now=None]"
     ]
    },
    {
     "name": "stderr",
     "output_type": "stream",
     "text": [
      "\r",
      "t:  59%|█████████████████████████████████████████████████████▊                                     | 607/1026 [01:13<00:48,  8.69it/s, now=None]"
     ]
    },
    {
     "name": "stderr",
     "output_type": "stream",
     "text": [
      "\r",
      "t:  59%|█████████████████████████████████████████████████████▉                                     | 608/1026 [01:13<00:59,  7.07it/s, now=None]"
     ]
    },
    {
     "name": "stderr",
     "output_type": "stream",
     "text": [
      "\r",
      "t:  59%|██████████████████████████████████████████████████████                                     | 609/1026 [01:13<00:56,  7.40it/s, now=None]"
     ]
    },
    {
     "name": "stderr",
     "output_type": "stream",
     "text": [
      "\r",
      "t:  59%|██████████████████████████████████████████████████████                                     | 610/1026 [01:13<00:52,  7.88it/s, now=None]"
     ]
    },
    {
     "name": "stderr",
     "output_type": "stream",
     "text": [
      "\r",
      "t:  60%|██████████████████████████████████████████████████████▏                                    | 611/1026 [01:13<00:51,  8.00it/s, now=None]"
     ]
    },
    {
     "name": "stderr",
     "output_type": "stream",
     "text": [
      "\r",
      "t:  60%|██████████████████████████████████████████████████████▎                                    | 612/1026 [01:13<00:50,  8.25it/s, now=None]"
     ]
    },
    {
     "name": "stderr",
     "output_type": "stream",
     "text": [
      "\r",
      "t:  60%|██████████████████████████████████████████████████████▎                                    | 613/1026 [01:13<00:48,  8.53it/s, now=None]"
     ]
    },
    {
     "name": "stderr",
     "output_type": "stream",
     "text": [
      "\r",
      "t:  60%|██████████████████████████████████████████████████████▍                                    | 614/1026 [01:14<00:57,  7.16it/s, now=None]"
     ]
    },
    {
     "name": "stderr",
     "output_type": "stream",
     "text": [
      "\r",
      "t:  60%|██████████████████████████████████████████████████████▌                                    | 615/1026 [01:14<00:55,  7.46it/s, now=None]"
     ]
    },
    {
     "name": "stderr",
     "output_type": "stream",
     "text": [
      "\r",
      "t:  60%|██████████████████████████████████████████████████████▋                                    | 616/1026 [01:14<00:51,  7.91it/s, now=None]"
     ]
    },
    {
     "name": "stderr",
     "output_type": "stream",
     "text": [
      "\r",
      "t:  60%|██████████████████████████████████████████████████████▋                                    | 617/1026 [01:14<00:50,  8.05it/s, now=None]"
     ]
    },
    {
     "name": "stderr",
     "output_type": "stream",
     "text": [
      "\r",
      "t:  60%|██████████████████████████████████████████████████████▊                                    | 618/1026 [01:14<00:50,  8.13it/s, now=None]"
     ]
    },
    {
     "name": "stderr",
     "output_type": "stream",
     "text": [
      "\r",
      "t:  60%|██████████████████████████████████████████████████████▉                                    | 620/1026 [01:14<00:54,  7.51it/s, now=None]"
     ]
    },
    {
     "name": "stderr",
     "output_type": "stream",
     "text": [
      "\r",
      "t:  61%|███████████████████████████████████████████████████████                                    | 621/1026 [01:15<00:51,  7.81it/s, now=None]"
     ]
    },
    {
     "name": "stderr",
     "output_type": "stream",
     "text": [
      "\r",
      "t:  61%|███████████████████████████████████████████████████████▏                                   | 622/1026 [01:15<00:48,  8.28it/s, now=None]"
     ]
    },
    {
     "name": "stderr",
     "output_type": "stream",
     "text": [
      "\r",
      "t:  61%|███████████████████████████████████████████████████████▎                                   | 623/1026 [01:15<00:47,  8.44it/s, now=None]"
     ]
    },
    {
     "name": "stderr",
     "output_type": "stream",
     "text": [
      "\r",
      "t:  61%|███████████████████████████████████████████████████████▎                                   | 624/1026 [01:15<00:46,  8.57it/s, now=None]"
     ]
    },
    {
     "name": "stderr",
     "output_type": "stream",
     "text": [
      "\r",
      "t:  61%|███████████████████████████████████████████████████████▍                                   | 625/1026 [01:15<00:45,  8.76it/s, now=None]"
     ]
    },
    {
     "name": "stderr",
     "output_type": "stream",
     "text": [
      "\r",
      "t:  61%|███████████████████████████████████████████████████████▌                                   | 626/1026 [01:15<00:54,  7.32it/s, now=None]"
     ]
    },
    {
     "name": "stderr",
     "output_type": "stream",
     "text": [
      "\r",
      "t:  61%|███████████████████████████████████████████████████████▌                                   | 627/1026 [01:15<00:51,  7.73it/s, now=None]"
     ]
    },
    {
     "name": "stderr",
     "output_type": "stream",
     "text": [
      "\r",
      "t:  61%|███████████████████████████████████████████████████████▊                                   | 629/1026 [01:15<00:47,  8.30it/s, now=None]"
     ]
    },
    {
     "name": "stderr",
     "output_type": "stream",
     "text": [
      "\r",
      "t:  61%|███████████████████████████████████████████████████████▉                                   | 630/1026 [01:16<00:47,  8.27it/s, now=None]"
     ]
    },
    {
     "name": "stderr",
     "output_type": "stream",
     "text": [
      "\r",
      "t:  62%|████████████████████████████████████████████████████████                                   | 632/1026 [01:16<00:51,  7.59it/s, now=None]"
     ]
    },
    {
     "name": "stderr",
     "output_type": "stream",
     "text": [
      "\r",
      "t:  62%|████████████████████████████████████████████████████████▏                                  | 633/1026 [01:16<00:50,  7.72it/s, now=None]"
     ]
    },
    {
     "name": "stderr",
     "output_type": "stream",
     "text": [
      "\r",
      "t:  62%|████████████████████████████████████████████████████████▏                                  | 634/1026 [01:16<00:48,  8.04it/s, now=None]"
     ]
    },
    {
     "name": "stderr",
     "output_type": "stream",
     "text": [
      "\r",
      "t:  62%|████████████████████████████████████████████████████████▎                                  | 635/1026 [01:16<00:48,  8.07it/s, now=None]"
     ]
    },
    {
     "name": "stderr",
     "output_type": "stream",
     "text": [
      "\r",
      "t:  62%|████████████████████████████████████████████████████████▍                                  | 636/1026 [01:16<00:48,  8.12it/s, now=None]"
     ]
    },
    {
     "name": "stderr",
     "output_type": "stream",
     "text": [
      "\r",
      "t:  62%|████████████████████████████████████████████████████████▍                                  | 637/1026 [01:16<00:46,  8.39it/s, now=None]"
     ]
    },
    {
     "name": "stderr",
     "output_type": "stream",
     "text": [
      "\r",
      "t:  62%|████████████████████████████████████████████████████████▌                                  | 638/1026 [01:17<00:53,  7.22it/s, now=None]"
     ]
    },
    {
     "name": "stderr",
     "output_type": "stream",
     "text": [
      "\r",
      "t:  62%|████████████████████████████████████████████████████████▋                                  | 639/1026 [01:17<00:49,  7.75it/s, now=None]"
     ]
    },
    {
     "name": "stderr",
     "output_type": "stream",
     "text": [
      "\r",
      "t:  62%|████████████████████████████████████████████████████████▊                                  | 640/1026 [01:17<00:47,  8.12it/s, now=None]"
     ]
    },
    {
     "name": "stderr",
     "output_type": "stream",
     "text": [
      "\r",
      "t:  62%|████████████████████████████████████████████████████████▊                                  | 641/1026 [01:17<00:47,  8.15it/s, now=None]"
     ]
    },
    {
     "name": "stderr",
     "output_type": "stream",
     "text": [
      "\r",
      "t:  63%|████████████████████████████████████████████████████████▉                                  | 642/1026 [01:17<00:46,  8.17it/s, now=None]"
     ]
    },
    {
     "name": "stderr",
     "output_type": "stream",
     "text": [
      "\r",
      "t:  63%|█████████████████████████████████████████████████████████                                  | 643/1026 [01:17<00:45,  8.47it/s, now=None]"
     ]
    },
    {
     "name": "stderr",
     "output_type": "stream",
     "text": [
      "\r",
      "t:  63%|█████████████████████████████████████████████████████████                                  | 644/1026 [01:17<00:54,  7.07it/s, now=None]"
     ]
    },
    {
     "name": "stderr",
     "output_type": "stream",
     "text": [
      "\r",
      "t:  63%|█████████████████████████████████████████████████████████▏                                 | 645/1026 [01:18<00:51,  7.38it/s, now=None]"
     ]
    },
    {
     "name": "stderr",
     "output_type": "stream",
     "text": [
      "\r",
      "t:  63%|█████████████████████████████████████████████████████████▎                                 | 646/1026 [01:18<00:48,  7.84it/s, now=None]"
     ]
    },
    {
     "name": "stderr",
     "output_type": "stream",
     "text": [
      "\r",
      "t:  63%|█████████████████████████████████████████████████████████▍                                 | 647/1026 [01:18<00:47,  7.98it/s, now=None]"
     ]
    },
    {
     "name": "stderr",
     "output_type": "stream",
     "text": [
      "\r",
      "t:  63%|█████████████████████████████████████████████████████████▍                                 | 648/1026 [01:18<00:46,  8.21it/s, now=None]"
     ]
    },
    {
     "name": "stderr",
     "output_type": "stream",
     "text": [
      "\r",
      "t:  63%|█████████████████████████████████████████████████████████▋                                 | 650/1026 [01:18<00:49,  7.62it/s, now=None]"
     ]
    },
    {
     "name": "stderr",
     "output_type": "stream",
     "text": [
      "\r",
      "t:  63%|█████████████████████████████████████████████████████████▋                                 | 651/1026 [01:18<00:47,  7.89it/s, now=None]"
     ]
    },
    {
     "name": "stderr",
     "output_type": "stream",
     "text": [
      "\r",
      "t:  64%|█████████████████████████████████████████████████████████▉                                 | 653/1026 [01:18<00:42,  8.72it/s, now=None]"
     ]
    },
    {
     "name": "stderr",
     "output_type": "stream",
     "text": [
      "\r",
      "t:  64%|██████████████████████████████████████████████████████████                                 | 654/1026 [01:19<00:41,  8.89it/s, now=None]"
     ]
    },
    {
     "name": "stderr",
     "output_type": "stream",
     "text": [
      "\r",
      "t:  64%|██████████████████████████████████████████████████████████▏                                | 656/1026 [01:19<00:46,  8.03it/s, now=None]"
     ]
    },
    {
     "name": "stderr",
     "output_type": "stream",
     "text": [
      "\r",
      "t:  64%|██████████████████████████████████████████████████████████▎                                | 657/1026 [01:19<00:45,  8.19it/s, now=None]"
     ]
    },
    {
     "name": "stderr",
     "output_type": "stream",
     "text": [
      "\r",
      "t:  64%|██████████████████████████████████████████████████████████▍                                | 659/1026 [01:19<00:41,  8.89it/s, now=None]"
     ]
    },
    {
     "name": "stderr",
     "output_type": "stream",
     "text": [
      "\r",
      "t:  64%|██████████████████████████████████████████████████████████▌                                | 660/1026 [01:19<00:41,  8.87it/s, now=None]"
     ]
    },
    {
     "name": "stderr",
     "output_type": "stream",
     "text": [
      "\r",
      "t:  65%|██████████████████████████████████████████████████████████▋                                | 662/1026 [01:20<00:45,  8.05it/s, now=None]"
     ]
    },
    {
     "name": "stderr",
     "output_type": "stream",
     "text": [
      "\r",
      "t:  65%|██████████████████████████████████████████████████████████▊                                | 663/1026 [01:20<00:43,  8.34it/s, now=None]"
     ]
    },
    {
     "name": "stderr",
     "output_type": "stream",
     "text": [
      "\r",
      "t:  65%|██████████████████████████████████████████████████████████▉                                | 665/1026 [01:20<00:40,  8.90it/s, now=None]"
     ]
    },
    {
     "name": "stderr",
     "output_type": "stream",
     "text": [
      "\r",
      "t:  65%|███████████████████████████████████████████████████████████                                | 666/1026 [01:20<00:41,  8.71it/s, now=None]"
     ]
    },
    {
     "name": "stderr",
     "output_type": "stream",
     "text": [
      "\r",
      "t:  65%|███████████████████████████████████████████████████████████▏                               | 667/1026 [01:20<00:40,  8.95it/s, now=None]"
     ]
    },
    {
     "name": "stderr",
     "output_type": "stream",
     "text": [
      "\r",
      "t:  65%|███████████████████████████████████████████████████████████▏                               | 668/1026 [01:20<00:47,  7.51it/s, now=None]"
     ]
    },
    {
     "name": "stderr",
     "output_type": "stream",
     "text": [
      "\r",
      "t:  65%|███████████████████████████████████████████████████████████▎                               | 669/1026 [01:20<00:45,  7.82it/s, now=None]"
     ]
    },
    {
     "name": "stderr",
     "output_type": "stream",
     "text": [
      "\r",
      "t:  65%|███████████████████████████████████████████████████████████▍                               | 670/1026 [01:21<00:43,  8.13it/s, now=None]"
     ]
    },
    {
     "name": "stderr",
     "output_type": "stream",
     "text": [
      "\r",
      "t:  65%|███████████████████████████████████████████████████████████▌                               | 671/1026 [01:21<00:42,  8.32it/s, now=None]"
     ]
    },
    {
     "name": "stderr",
     "output_type": "stream",
     "text": [
      "\r",
      "t:  65%|███████████████████████████████████████████████████████████▌                               | 672/1026 [01:21<00:41,  8.44it/s, now=None]"
     ]
    },
    {
     "name": "stderr",
     "output_type": "stream",
     "text": [
      "\r",
      "t:  66%|███████████████████████████████████████████████████████████▋                               | 673/1026 [01:21<00:40,  8.80it/s, now=None]"
     ]
    },
    {
     "name": "stderr",
     "output_type": "stream",
     "text": [
      "\r",
      "t:  66%|███████████████████████████████████████████████████████████▊                               | 674/1026 [01:21<00:48,  7.27it/s, now=None]"
     ]
    },
    {
     "name": "stderr",
     "output_type": "stream",
     "text": [
      "\r",
      "t:  66%|███████████████████████████████████████████████████████████▊                               | 675/1026 [01:21<00:45,  7.65it/s, now=None]"
     ]
    },
    {
     "name": "stderr",
     "output_type": "stream",
     "text": [
      "\r",
      "t:  66%|████████████████████████████████████████████████████████████                               | 677/1026 [01:21<00:41,  8.43it/s, now=None]"
     ]
    },
    {
     "name": "stderr",
     "output_type": "stream",
     "text": [
      "\r",
      "t:  66%|████████████████████████████████████████████████████████████▏                              | 678/1026 [01:21<00:40,  8.64it/s, now=None]"
     ]
    },
    {
     "name": "stderr",
     "output_type": "stream",
     "text": [
      "\r",
      "t:  66%|████████████████████████████████████████████████████████████▏                              | 679/1026 [01:22<00:39,  8.90it/s, now=None]"
     ]
    },
    {
     "name": "stderr",
     "output_type": "stream",
     "text": [
      "\r",
      "t:  66%|████████████████████████████████████████████████████████████▎                              | 680/1026 [01:22<00:46,  7.40it/s, now=None]"
     ]
    },
    {
     "name": "stderr",
     "output_type": "stream",
     "text": [
      "\r",
      "t:  66%|████████████████████████████████████████████████████████████▍                              | 681/1026 [01:22<00:43,  7.86it/s, now=None]"
     ]
    },
    {
     "name": "stderr",
     "output_type": "stream",
     "text": [
      "\r",
      "t:  67%|████████████████████████████████████████████████████████████▌                              | 683/1026 [01:22<00:40,  8.54it/s, now=None]"
     ]
    },
    {
     "name": "stderr",
     "output_type": "stream",
     "text": [
      "\r",
      "t:  67%|████████████████████████████████████████████████████████████▋                              | 684/1026 [01:22<00:39,  8.60it/s, now=None]"
     ]
    },
    {
     "name": "stderr",
     "output_type": "stream",
     "text": [
      "\r",
      "t:  67%|████████████████████████████████████████████████████████████▊                              | 686/1026 [01:22<00:43,  7.84it/s, now=None]"
     ]
    },
    {
     "name": "stderr",
     "output_type": "stream",
     "text": [
      "\r",
      "t:  67%|████████████████████████████████████████████████████████████▉                              | 687/1026 [01:23<00:42,  8.03it/s, now=None]"
     ]
    },
    {
     "name": "stderr",
     "output_type": "stream",
     "text": [
      "\r",
      "t:  67%|█████████████████████████████████████████████████████████████                              | 689/1026 [01:23<00:38,  8.68it/s, now=None]"
     ]
    },
    {
     "name": "stderr",
     "output_type": "stream",
     "text": [
      "\r",
      "t:  67%|█████████████████████████████████████████████████████████████▏                             | 690/1026 [01:23<00:38,  8.83it/s, now=None]"
     ]
    },
    {
     "name": "stderr",
     "output_type": "stream",
     "text": [
      "\r",
      "t:  67%|█████████████████████████████████████████████████████████████▍                             | 692/1026 [01:23<00:42,  7.95it/s, now=None]"
     ]
    },
    {
     "name": "stderr",
     "output_type": "stream",
     "text": [
      "\r",
      "t:  68%|█████████████████████████████████████████████████████████████▍                             | 693/1026 [01:23<00:41,  8.07it/s, now=None]"
     ]
    },
    {
     "name": "stderr",
     "output_type": "stream",
     "text": [
      "\r",
      "t:  68%|█████████████████████████████████████████████████████████████▌                             | 694/1026 [01:23<00:39,  8.40it/s, now=None]"
     ]
    },
    {
     "name": "stderr",
     "output_type": "stream",
     "text": [
      "\r",
      "t:  68%|█████████████████████████████████████████████████████████████▋                             | 695/1026 [01:24<00:39,  8.38it/s, now=None]"
     ]
    },
    {
     "name": "stderr",
     "output_type": "stream",
     "text": [
      "\r",
      "t:  68%|█████████████████████████████████████████████████████████████▋                             | 696/1026 [01:24<00:38,  8.64it/s, now=None]"
     ]
    },
    {
     "name": "stderr",
     "output_type": "stream",
     "text": [
      "\r",
      "t:  68%|█████████████████████████████████████████████████████████████▊                             | 697/1026 [01:24<00:36,  8.97it/s, now=None]"
     ]
    },
    {
     "name": "stderr",
     "output_type": "stream",
     "text": [
      "\r",
      "t:  68%|█████████████████████████████████████████████████████████████▉                             | 698/1026 [01:24<00:43,  7.46it/s, now=None]"
     ]
    },
    {
     "name": "stderr",
     "output_type": "stream",
     "text": [
      "\r",
      "t:  68%|█████████████████████████████████████████████████████████████▉                             | 699/1026 [01:24<00:41,  7.83it/s, now=None]"
     ]
    },
    {
     "name": "stderr",
     "output_type": "stream",
     "text": [
      "\r",
      "t:  68%|██████████████████████████████████████████████████████████████                             | 700/1026 [01:24<00:39,  8.21it/s, now=None]"
     ]
    },
    {
     "name": "stderr",
     "output_type": "stream",
     "text": [
      "\r",
      "t:  68%|██████████████████████████████████████████████████████████████▏                            | 701/1026 [01:24<00:39,  8.27it/s, now=None]"
     ]
    },
    {
     "name": "stderr",
     "output_type": "stream",
     "text": [
      "\r",
      "t:  68%|██████████████████████████████████████████████████████████████▎                            | 702/1026 [01:24<00:38,  8.48it/s, now=None]"
     ]
    },
    {
     "name": "stderr",
     "output_type": "stream",
     "text": [
      "\r",
      "t:  69%|██████████████████████████████████████████████████████████████▎                            | 703/1026 [01:25<00:37,  8.71it/s, now=None]"
     ]
    },
    {
     "name": "stderr",
     "output_type": "stream",
     "text": [
      "\r",
      "t:  69%|██████████████████████████████████████████████████████████████▍                            | 704/1026 [01:25<00:44,  7.23it/s, now=None]"
     ]
    },
    {
     "name": "stderr",
     "output_type": "stream",
     "text": [
      "\r",
      "t:  69%|██████████████████████████████████████████████████████████████▌                            | 705/1026 [01:25<00:42,  7.55it/s, now=None]"
     ]
    },
    {
     "name": "stderr",
     "output_type": "stream",
     "text": [
      "\r",
      "t:  69%|██████████████████████████████████████████████████████████████▌                            | 706/1026 [01:25<00:40,  7.98it/s, now=None]"
     ]
    },
    {
     "name": "stderr",
     "output_type": "stream",
     "text": [
      "\r",
      "t:  69%|██████████████████████████████████████████████████████████████▋                            | 707/1026 [01:25<00:39,  8.04it/s, now=None]"
     ]
    },
    {
     "name": "stderr",
     "output_type": "stream",
     "text": [
      "\r",
      "t:  69%|██████████████████████████████████████████████████████████████▊                            | 708/1026 [01:25<00:38,  8.28it/s, now=None]"
     ]
    },
    {
     "name": "stderr",
     "output_type": "stream",
     "text": [
      "\r",
      "t:  69%|██████████████████████████████████████████████████████████████▉                            | 709/1026 [01:25<00:36,  8.72it/s, now=None]"
     ]
    },
    {
     "name": "stderr",
     "output_type": "stream",
     "text": [
      "\r",
      "t:  69%|██████████████████████████████████████████████████████████████▉                            | 710/1026 [01:25<00:43,  7.21it/s, now=None]"
     ]
    },
    {
     "name": "stderr",
     "output_type": "stream",
     "text": [
      "\r",
      "t:  69%|███████████████████████████████████████████████████████████████                            | 711/1026 [01:26<00:42,  7.50it/s, now=None]"
     ]
    },
    {
     "name": "stderr",
     "output_type": "stream",
     "text": [
      "\r",
      "t:  69%|███████████████████████████████████████████████████████████████▏                           | 712/1026 [01:26<00:39,  7.95it/s, now=None]"
     ]
    },
    {
     "name": "stderr",
     "output_type": "stream",
     "text": [
      "\r",
      "t:  69%|███████████████████████████████████████████████████████████████▏                           | 713/1026 [01:26<00:37,  8.38it/s, now=None]"
     ]
    },
    {
     "name": "stderr",
     "output_type": "stream",
     "text": [
      "\r",
      "t:  70%|███████████████████████████████████████████████████████████████▎                           | 714/1026 [01:26<00:37,  8.33it/s, now=None]"
     ]
    },
    {
     "name": "stderr",
     "output_type": "stream",
     "text": [
      "\r",
      "t:  70%|███████████████████████████████████████████████████████████████▍                           | 715/1026 [01:26<00:36,  8.55it/s, now=None]"
     ]
    },
    {
     "name": "stderr",
     "output_type": "stream",
     "text": [
      "\r",
      "t:  70%|███████████████████████████████████████████████████████████████▌                           | 716/1026 [01:26<00:43,  7.08it/s, now=None]"
     ]
    },
    {
     "name": "stderr",
     "output_type": "stream",
     "text": [
      "\r",
      "t:  70%|███████████████████████████████████████████████████████████████▌                           | 717/1026 [01:26<00:41,  7.38it/s, now=None]"
     ]
    },
    {
     "name": "stderr",
     "output_type": "stream",
     "text": [
      "\r",
      "t:  70%|███████████████████████████████████████████████████████████████▋                           | 718/1026 [01:26<00:39,  7.82it/s, now=None]"
     ]
    },
    {
     "name": "stderr",
     "output_type": "stream",
     "text": [
      "\r",
      "t:  70%|███████████████████████████████████████████████████████████████▊                           | 719/1026 [01:27<00:38,  7.94it/s, now=None]"
     ]
    },
    {
     "name": "stderr",
     "output_type": "stream",
     "text": [
      "\r",
      "t:  70%|███████████████████████████████████████████████████████████████▊                           | 720/1026 [01:27<00:38,  8.02it/s, now=None]"
     ]
    },
    {
     "name": "stderr",
     "output_type": "stream",
     "text": [
      "\r",
      "t:  70%|████████████████████████████████████████████████████████████████                           | 722/1026 [01:27<00:40,  7.48it/s, now=None]"
     ]
    },
    {
     "name": "stderr",
     "output_type": "stream",
     "text": [
      "\r",
      "t:  70%|████████████████████████████████████████████████████████████████▏                          | 723/1026 [01:27<00:39,  7.76it/s, now=None]"
     ]
    },
    {
     "name": "stderr",
     "output_type": "stream",
     "text": [
      "\r",
      "t:  71%|████████████████████████████████████████████████████████████████▏                          | 724/1026 [01:27<00:37,  8.08it/s, now=None]"
     ]
    },
    {
     "name": "stderr",
     "output_type": "stream",
     "text": [
      "\r",
      "t:  71%|████████████████████████████████████████████████████████████████▎                          | 725/1026 [01:27<00:37,  8.13it/s, now=None]"
     ]
    },
    {
     "name": "stderr",
     "output_type": "stream",
     "text": [
      "\r",
      "t:  71%|████████████████████████████████████████████████████████████████▍                          | 726/1026 [01:27<00:36,  8.17it/s, now=None]"
     ]
    },
    {
     "name": "stderr",
     "output_type": "stream",
     "text": [
      "\r",
      "t:  71%|████████████████████████████████████████████████████████████████▍                          | 727/1026 [01:28<00:35,  8.41it/s, now=None]"
     ]
    },
    {
     "name": "stderr",
     "output_type": "stream",
     "text": [
      "\r",
      "t:  71%|████████████████████████████████████████████████████████████████▌                          | 728/1026 [01:28<00:42,  7.08it/s, now=None]"
     ]
    },
    {
     "name": "stderr",
     "output_type": "stream",
     "text": [
      "\r",
      "t:  71%|████████████████████████████████████████████████████████████████▋                          | 729/1026 [01:28<00:40,  7.38it/s, now=None]"
     ]
    },
    {
     "name": "stderr",
     "output_type": "stream",
     "text": [
      "\r",
      "t:  71%|████████████████████████████████████████████████████████████████▋                          | 730/1026 [01:28<00:37,  7.85it/s, now=None]"
     ]
    },
    {
     "name": "stderr",
     "output_type": "stream",
     "text": [
      "\r",
      "t:  71%|████████████████████████████████████████████████████████████████▊                          | 731/1026 [01:28<00:37,  7.95it/s, now=None]"
     ]
    },
    {
     "name": "stderr",
     "output_type": "stream",
     "text": [
      "\r",
      "t:  71%|████████████████████████████████████████████████████████████████▉                          | 732/1026 [01:28<00:36,  8.03it/s, now=None]"
     ]
    },
    {
     "name": "stderr",
     "output_type": "stream",
     "text": [
      "\r",
      "t:  71%|█████████████████████████████████████████████████████████████████                          | 733/1026 [01:28<00:35,  8.35it/s, now=None]"
     ]
    },
    {
     "name": "stderr",
     "output_type": "stream",
     "text": [
      "\r",
      "t:  72%|█████████████████████████████████████████████████████████████████                          | 734/1026 [01:29<00:41,  7.01it/s, now=None]"
     ]
    },
    {
     "name": "stderr",
     "output_type": "stream",
     "text": [
      "\r",
      "t:  72%|█████████████████████████████████████████████████████████████████▏                         | 735/1026 [01:29<00:39,  7.35it/s, now=None]"
     ]
    },
    {
     "name": "stderr",
     "output_type": "stream",
     "text": [
      "\r",
      "t:  72%|█████████████████████████████████████████████████████████████████▎                         | 736/1026 [01:29<00:37,  7.84it/s, now=None]"
     ]
    },
    {
     "name": "stderr",
     "output_type": "stream",
     "text": [
      "\r",
      "t:  72%|█████████████████████████████████████████████████████████████████▎                         | 737/1026 [01:29<00:35,  8.13it/s, now=None]"
     ]
    },
    {
     "name": "stderr",
     "output_type": "stream",
     "text": [
      "\r",
      "t:  72%|█████████████████████████████████████████████████████████████████▍                         | 738/1026 [01:29<00:35,  8.17it/s, now=None]"
     ]
    },
    {
     "name": "stderr",
     "output_type": "stream",
     "text": [
      "\r",
      "t:  72%|█████████████████████████████████████████████████████████████████▌                         | 739/1026 [01:29<00:34,  8.42it/s, now=None]"
     ]
    },
    {
     "name": "stderr",
     "output_type": "stream",
     "text": [
      "\r",
      "t:  72%|█████████████████████████████████████████████████████████████████▋                         | 740/1026 [01:29<00:40,  7.05it/s, now=None]"
     ]
    },
    {
     "name": "stderr",
     "output_type": "stream",
     "text": [
      "\r",
      "t:  72%|█████████████████████████████████████████████████████████████████▋                         | 741/1026 [01:29<00:38,  7.48it/s, now=None]"
     ]
    },
    {
     "name": "stderr",
     "output_type": "stream",
     "text": [
      "\r",
      "t:  72%|█████████████████████████████████████████████████████████████████▊                         | 742/1026 [01:30<00:35,  8.07it/s, now=None]"
     ]
    },
    {
     "name": "stderr",
     "output_type": "stream",
     "text": [
      "\r",
      "t:  72%|█████████████████████████████████████████████████████████████████▉                         | 743/1026 [01:30<00:34,  8.26it/s, now=None]"
     ]
    },
    {
     "name": "stderr",
     "output_type": "stream",
     "text": [
      "\r",
      "t:  73%|█████████████████████████████████████████████████████████████████▉                         | 744/1026 [01:30<00:33,  8.40it/s, now=None]"
     ]
    },
    {
     "name": "stderr",
     "output_type": "stream",
     "text": [
      "\r",
      "t:  73%|██████████████████████████████████████████████████████████████████                         | 745/1026 [01:30<00:31,  8.81it/s, now=None]"
     ]
    },
    {
     "name": "stderr",
     "output_type": "stream",
     "text": [
      "\r",
      "t:  73%|██████████████████████████████████████████████████████████████████▏                        | 746/1026 [01:30<00:38,  7.21it/s, now=None]"
     ]
    },
    {
     "name": "stderr",
     "output_type": "stream",
     "text": [
      "\r",
      "t:  73%|██████████████████████████████████████████████████████████████████▎                        | 747/1026 [01:30<00:36,  7.66it/s, now=None]"
     ]
    },
    {
     "name": "stderr",
     "output_type": "stream",
     "text": [
      "\r",
      "t:  73%|██████████████████████████████████████████████████████████████████▎                        | 748/1026 [01:30<00:34,  8.07it/s, now=None]"
     ]
    },
    {
     "name": "stderr",
     "output_type": "stream",
     "text": [
      "\r",
      "t:  73%|██████████████████████████████████████████████████████████████████▍                        | 749/1026 [01:30<00:33,  8.29it/s, now=None]"
     ]
    },
    {
     "name": "stderr",
     "output_type": "stream",
     "text": [
      "\r",
      "t:  73%|██████████████████████████████████████████████████████████████████▌                        | 750/1026 [01:30<00:33,  8.29it/s, now=None]"
     ]
    },
    {
     "name": "stderr",
     "output_type": "stream",
     "text": [
      "\r",
      "t:  73%|██████████████████████████████████████████████████████████████████▌                        | 751/1026 [01:31<00:32,  8.55it/s, now=None]"
     ]
    },
    {
     "name": "stderr",
     "output_type": "stream",
     "text": [
      "\r",
      "t:  73%|██████████████████████████████████████████████████████████████████▋                        | 752/1026 [01:31<00:39,  6.99it/s, now=None]"
     ]
    },
    {
     "name": "stderr",
     "output_type": "stream",
     "text": [
      "\r",
      "t:  73%|██████████████████████████████████████████████████████████████████▊                        | 753/1026 [01:31<00:37,  7.32it/s, now=None]"
     ]
    },
    {
     "name": "stderr",
     "output_type": "stream",
     "text": [
      "\r",
      "t:  73%|██████████████████████████████████████████████████████████████████▉                        | 754/1026 [01:31<00:34,  7.77it/s, now=None]"
     ]
    },
    {
     "name": "stderr",
     "output_type": "stream",
     "text": [
      "\r",
      "t:  74%|██████████████████████████████████████████████████████████████████▉                        | 755/1026 [01:31<00:33,  8.04it/s, now=None]"
     ]
    },
    {
     "name": "stderr",
     "output_type": "stream",
     "text": [
      "\r",
      "t:  74%|███████████████████████████████████████████████████████████████████                        | 756/1026 [01:31<00:32,  8.25it/s, now=None]"
     ]
    },
    {
     "name": "stderr",
     "output_type": "stream",
     "text": [
      "\r",
      "t:  74%|███████████████████████████████████████████████████████████████████▏                       | 757/1026 [01:31<00:31,  8.66it/s, now=None]"
     ]
    },
    {
     "name": "stderr",
     "output_type": "stream",
     "text": [
      "\r",
      "t:  74%|███████████████████████████████████████████████████████████████████▏                       | 758/1026 [01:32<00:37,  7.15it/s, now=None]"
     ]
    },
    {
     "name": "stderr",
     "output_type": "stream",
     "text": [
      "\r",
      "t:  74%|███████████████████████████████████████████████████████████████████▎                       | 759/1026 [01:32<00:35,  7.56it/s, now=None]"
     ]
    },
    {
     "name": "stderr",
     "output_type": "stream",
     "text": [
      "\r",
      "t:  74%|███████████████████████████████████████████████████████████████████▍                       | 760/1026 [01:32<00:32,  8.13it/s, now=None]"
     ]
    },
    {
     "name": "stderr",
     "output_type": "stream",
     "text": [
      "\r",
      "t:  74%|███████████████████████████████████████████████████████████████████▍                       | 761/1026 [01:32<00:31,  8.29it/s, now=None]"
     ]
    },
    {
     "name": "stderr",
     "output_type": "stream",
     "text": [
      "\r",
      "t:  74%|███████████████████████████████████████████████████████████████████▌                       | 762/1026 [01:32<00:30,  8.61it/s, now=None]"
     ]
    },
    {
     "name": "stderr",
     "output_type": "stream",
     "text": [
      "\r",
      "t:  74%|███████████████████████████████████████████████████████████████████▊                       | 764/1026 [01:32<00:33,  7.72it/s, now=None]"
     ]
    },
    {
     "name": "stderr",
     "output_type": "stream",
     "text": [
      "\r",
      "t:  75%|███████████████████████████████████████████████████████████████████▊                       | 765/1026 [01:32<00:32,  7.96it/s, now=None]"
     ]
    },
    {
     "name": "stderr",
     "output_type": "stream",
     "text": [
      "\r",
      "t:  75%|███████████████████████████████████████████████████████████████████▉                       | 766/1026 [01:33<00:31,  8.35it/s, now=None]"
     ]
    },
    {
     "name": "stderr",
     "output_type": "stream",
     "text": [
      "\r",
      "t:  75%|████████████████████████████████████████████████████████████████████                       | 767/1026 [01:33<00:30,  8.62it/s, now=None]"
     ]
    },
    {
     "name": "stderr",
     "output_type": "stream",
     "text": [
      "\r",
      "t:  75%|████████████████████████████████████████████████████████████████████                       | 768/1026 [01:33<00:29,  8.67it/s, now=None]"
     ]
    },
    {
     "name": "stderr",
     "output_type": "stream",
     "text": [
      "\r",
      "t:  75%|████████████████████████████████████████████████████████████████████▎                      | 770/1026 [01:33<00:32,  7.80it/s, now=None]"
     ]
    },
    {
     "name": "stderr",
     "output_type": "stream",
     "text": [
      "\r",
      "t:  75%|████████████████████████████████████████████████████████████████████▍                      | 771/1026 [01:33<00:31,  8.04it/s, now=None]"
     ]
    },
    {
     "name": "stderr",
     "output_type": "stream",
     "text": [
      "\r",
      "t:  75%|████████████████████████████████████████████████████████████████████▍                      | 772/1026 [01:33<00:30,  8.45it/s, now=None]"
     ]
    },
    {
     "name": "stderr",
     "output_type": "stream",
     "text": [
      "\r",
      "t:  75%|████████████████████████████████████████████████████████████████████▌                      | 773/1026 [01:33<00:29,  8.55it/s, now=None]"
     ]
    },
    {
     "name": "stderr",
     "output_type": "stream",
     "text": [
      "\r",
      "t:  75%|████████████████████████████████████████████████████████████████████▋                      | 774/1026 [01:33<00:29,  8.64it/s, now=None]"
     ]
    },
    {
     "name": "stderr",
     "output_type": "stream",
     "text": [
      "\r",
      "t:  76%|████████████████████████████████████████████████████████████████████▋                      | 775/1026 [01:34<00:28,  8.91it/s, now=None]"
     ]
    },
    {
     "name": "stderr",
     "output_type": "stream",
     "text": [
      "\r",
      "t:  76%|████████████████████████████████████████████████████████████████████▊                      | 776/1026 [01:34<00:32,  7.62it/s, now=None]"
     ]
    },
    {
     "name": "stderr",
     "output_type": "stream",
     "text": [
      "\r",
      "t:  76%|████████████████████████████████████████████████████████████████████▉                      | 777/1026 [01:34<00:31,  7.96it/s, now=None]"
     ]
    },
    {
     "name": "stderr",
     "output_type": "stream",
     "text": [
      "\r",
      "t:  76%|█████████████████████████████████████████████████████████████████████                      | 779/1026 [01:34<00:27,  8.92it/s, now=None]"
     ]
    },
    {
     "name": "stderr",
     "output_type": "stream",
     "text": [
      "\r",
      "t:  76%|█████████████████████████████████████████████████████████████████████▏                     | 780/1026 [01:34<00:27,  9.08it/s, now=None]"
     ]
    },
    {
     "name": "stderr",
     "output_type": "stream",
     "text": [
      "\r",
      "t:  76%|█████████████████████████████████████████████████████████████████████▎                     | 781/1026 [01:34<00:26,  9.18it/s, now=None]"
     ]
    },
    {
     "name": "stderr",
     "output_type": "stream",
     "text": [
      "\r",
      "t:  76%|█████████████████████████████████████████████████████████████████████▎                     | 782/1026 [01:34<00:31,  7.68it/s, now=None]"
     ]
    },
    {
     "name": "stderr",
     "output_type": "stream",
     "text": [
      "\r",
      "t:  76%|█████████████████████████████████████████████████████████████████████▌                     | 784/1026 [01:35<00:27,  8.69it/s, now=None]"
     ]
    },
    {
     "name": "stderr",
     "output_type": "stream",
     "text": [
      "\r",
      "t:  77%|█████████████████████████████████████████████████████████████████████▌                     | 785/1026 [01:35<00:27,  8.90it/s, now=None]"
     ]
    },
    {
     "name": "stderr",
     "output_type": "stream",
     "text": [
      "\r",
      "t:  77%|█████████████████████████████████████████████████████████████████████▋                     | 786/1026 [01:35<00:26,  8.91it/s, now=None]"
     ]
    },
    {
     "name": "stderr",
     "output_type": "stream",
     "text": [
      "\r",
      "t:  77%|█████████████████████████████████████████████████████████████████████▊                     | 787/1026 [01:35<00:26,  9.05it/s, now=None]"
     ]
    },
    {
     "name": "stderr",
     "output_type": "stream",
     "text": [
      "\r",
      "t:  77%|█████████████████████████████████████████████████████████████████████▉                     | 788/1026 [01:35<00:32,  7.42it/s, now=None]"
     ]
    },
    {
     "name": "stderr",
     "output_type": "stream",
     "text": [
      "\r",
      "t:  77%|█████████████████████████████████████████████████████████████████████▉                     | 789/1026 [01:35<00:29,  7.96it/s, now=None]"
     ]
    },
    {
     "name": "stderr",
     "output_type": "stream",
     "text": [
      "\r",
      "t:  77%|██████████████████████████████████████████████████████████████████████▏                    | 791/1026 [01:35<00:26,  8.86it/s, now=None]"
     ]
    },
    {
     "name": "stderr",
     "output_type": "stream",
     "text": [
      "\r",
      "t:  77%|██████████████████████████████████████████████████████████████████████▏                    | 792/1026 [01:36<00:25,  9.02it/s, now=None]"
     ]
    },
    {
     "name": "stderr",
     "output_type": "stream",
     "text": [
      "\r",
      "t:  77%|██████████████████████████████████████████████████████████████████████▎                    | 793/1026 [01:36<00:25,  9.14it/s, now=None]"
     ]
    },
    {
     "name": "stderr",
     "output_type": "stream",
     "text": [
      "\r",
      "t:  77%|██████████████████████████████████████████████████████████████████████▍                    | 794/1026 [01:36<00:30,  7.65it/s, now=None]"
     ]
    },
    {
     "name": "stderr",
     "output_type": "stream",
     "text": [
      "\r",
      "t:  77%|██████████████████████████████████████████████████████████████████████▌                    | 795/1026 [01:36<00:28,  7.99it/s, now=None]"
     ]
    },
    {
     "name": "stderr",
     "output_type": "stream",
     "text": [
      "\r",
      "t:  78%|██████████████████████████████████████████████████████████████████████▌                    | 796/1026 [01:36<00:27,  8.34it/s, now=None]"
     ]
    },
    {
     "name": "stderr",
     "output_type": "stream",
     "text": [
      "\r",
      "t:  78%|██████████████████████████████████████████████████████████████████████▋                    | 797/1026 [01:36<00:26,  8.50it/s, now=None]"
     ]
    },
    {
     "name": "stderr",
     "output_type": "stream",
     "text": [
      "\r",
      "t:  78%|██████████████████████████████████████████████████████████████████████▊                    | 798/1026 [01:36<00:25,  8.81it/s, now=None]"
     ]
    },
    {
     "name": "stderr",
     "output_type": "stream",
     "text": [
      "\r",
      "t:  78%|██████████████████████████████████████████████████████████████████████▉                    | 800/1026 [01:37<00:28,  7.93it/s, now=None]"
     ]
    },
    {
     "name": "stderr",
     "output_type": "stream",
     "text": [
      "\r",
      "t:  78%|███████████████████████████████████████████████████████████████████████                    | 801/1026 [01:37<00:27,  8.15it/s, now=None]"
     ]
    },
    {
     "name": "stderr",
     "output_type": "stream",
     "text": [
      "\r",
      "t:  78%|███████████████████████████████████████████████████████████████████████▏                   | 803/1026 [01:37<00:25,  8.83it/s, now=None]"
     ]
    },
    {
     "name": "stderr",
     "output_type": "stream",
     "text": [
      "\r",
      "t:  78%|███████████████████████████████████████████████████████████████████████▎                   | 804/1026 [01:37<00:25,  8.85it/s, now=None]"
     ]
    },
    {
     "name": "stderr",
     "output_type": "stream",
     "text": [
      "\r",
      "t:  78%|███████████████████████████████████████████████████████████████████████▍                   | 805/1026 [01:37<00:24,  8.99it/s, now=None]"
     ]
    },
    {
     "name": "stderr",
     "output_type": "stream",
     "text": [
      "\r",
      "t:  79%|███████████████████████████████████████████████████████████████████████▍                   | 806/1026 [01:37<00:28,  7.79it/s, now=None]"
     ]
    },
    {
     "name": "stderr",
     "output_type": "stream",
     "text": [
      "\r",
      "t:  79%|███████████████████████████████████████████████████████████████████████▌                   | 807/1026 [01:37<00:26,  8.23it/s, now=None]"
     ]
    },
    {
     "name": "stderr",
     "output_type": "stream",
     "text": [
      "\r",
      "t:  79%|███████████████████████████████████████████████████████████████████████▋                   | 808/1026 [01:37<00:25,  8.56it/s, now=None]"
     ]
    },
    {
     "name": "stderr",
     "output_type": "stream",
     "text": [
      "\r",
      "t:  79%|███████████████████████████████████████████████████████████████████████▊                   | 809/1026 [01:38<00:25,  8.63it/s, now=None]"
     ]
    },
    {
     "name": "stderr",
     "output_type": "stream",
     "text": [
      "\r",
      "t:  79%|███████████████████████████████████████████████████████████████████████▊                   | 810/1026 [01:38<00:24,  8.90it/s, now=None]"
     ]
    },
    {
     "name": "stderr",
     "output_type": "stream",
     "text": [
      "\r",
      "t:  79%|████████████████████████████████████████████████████████████████████████                   | 812/1026 [01:38<00:26,  7.95it/s, now=None]"
     ]
    },
    {
     "name": "stderr",
     "output_type": "stream",
     "text": [
      "\r",
      "t:  79%|████████████████████████████████████████████████████████████████████████                   | 813/1026 [01:38<00:26,  8.15it/s, now=None]"
     ]
    },
    {
     "name": "stderr",
     "output_type": "stream",
     "text": [
      "\r",
      "t:  79%|████████████████████████████████████████████████████████████████████████▏                  | 814/1026 [01:38<00:25,  8.44it/s, now=None]"
     ]
    },
    {
     "name": "stderr",
     "output_type": "stream",
     "text": [
      "\r",
      "t:  79%|████████████████████████████████████████████████████████████████████████▎                  | 815/1026 [01:38<00:24,  8.71it/s, now=None]"
     ]
    },
    {
     "name": "stderr",
     "output_type": "stream",
     "text": [
      "\r",
      "t:  80%|████████████████████████████████████████████████████████████████████████▎                  | 816/1026 [01:38<00:23,  8.93it/s, now=None]"
     ]
    },
    {
     "name": "stderr",
     "output_type": "stream",
     "text": [
      "\r",
      "t:  80%|████████████████████████████████████████████████████████████████████████▌                  | 818/1026 [01:39<00:26,  7.99it/s, now=None]"
     ]
    },
    {
     "name": "stderr",
     "output_type": "stream",
     "text": [
      "\r",
      "t:  80%|████████████████████████████████████████████████████████████████████████▋                  | 819/1026 [01:39<00:24,  8.33it/s, now=None]"
     ]
    },
    {
     "name": "stderr",
     "output_type": "stream",
     "text": [
      "\r",
      "t:  80%|████████████████████████████████████████████████████████████████████████▋                  | 820/1026 [01:39<00:23,  8.61it/s, now=None]"
     ]
    },
    {
     "name": "stderr",
     "output_type": "stream",
     "text": [
      "\r",
      "t:  80%|████████████████████████████████████████████████████████████████████████▊                  | 821/1026 [01:39<00:23,  8.72it/s, now=None]"
     ]
    },
    {
     "name": "stderr",
     "output_type": "stream",
     "text": [
      "\r",
      "t:  80%|████████████████████████████████████████████████████████████████████████▉                  | 822/1026 [01:39<00:23,  8.78it/s, now=None]"
     ]
    },
    {
     "name": "stderr",
     "output_type": "stream",
     "text": [
      "\r",
      "t:  80%|█████████████████████████████████████████████████████████████████████████                  | 824/1026 [01:39<00:25,  7.92it/s, now=None]"
     ]
    },
    {
     "name": "stderr",
     "output_type": "stream",
     "text": [
      "\r",
      "t:  80%|█████████████████████████████████████████████████████████████████████████▏                 | 825/1026 [01:40<00:24,  8.27it/s, now=None]"
     ]
    },
    {
     "name": "stderr",
     "output_type": "stream",
     "text": [
      "\r",
      "t:  81%|█████████████████████████████████████████████████████████████████████████▎                 | 827/1026 [01:40<00:22,  9.03it/s, now=None]"
     ]
    },
    {
     "name": "stderr",
     "output_type": "stream",
     "text": [
      "\r",
      "t:  81%|█████████████████████████████████████████████████████████████████████████▍                 | 828/1026 [01:40<00:21,  9.01it/s, now=None]"
     ]
    },
    {
     "name": "stderr",
     "output_type": "stream",
     "text": [
      "\r",
      "t:  81%|█████████████████████████████████████████████████████████████████████████▌                 | 829/1026 [01:40<00:21,  9.12it/s, now=None]"
     ]
    },
    {
     "name": "stderr",
     "output_type": "stream",
     "text": [
      "\r",
      "t:  81%|█████████████████████████████████████████████████████████████████████████▌                 | 830/1026 [01:40<00:24,  7.86it/s, now=None]"
     ]
    },
    {
     "name": "stderr",
     "output_type": "stream",
     "text": [
      "\r",
      "t:  81%|█████████████████████████████████████████████████████████████████████████▋                 | 831/1026 [01:40<00:23,  8.14it/s, now=None]"
     ]
    },
    {
     "name": "stderr",
     "output_type": "stream",
     "text": [
      "\r",
      "t:  81%|█████████████████████████████████████████████████████████████████████████▊                 | 832/1026 [01:40<00:22,  8.48it/s, now=None]"
     ]
    },
    {
     "name": "stderr",
     "output_type": "stream",
     "text": [
      "\r",
      "t:  81%|█████████████████████████████████████████████████████████████████████████▉                 | 833/1026 [01:40<00:22,  8.59it/s, now=None]"
     ]
    },
    {
     "name": "stderr",
     "output_type": "stream",
     "text": [
      "\r",
      "t:  81%|█████████████████████████████████████████████████████████████████████████▉                 | 834/1026 [01:41<00:22,  8.68it/s, now=None]"
     ]
    },
    {
     "name": "stderr",
     "output_type": "stream",
     "text": [
      "\r",
      "t:  81%|██████████████████████████████████████████████████████████████████████████▏                | 836/1026 [01:41<00:24,  7.83it/s, now=None]"
     ]
    },
    {
     "name": "stderr",
     "output_type": "stream",
     "text": [
      "\r",
      "t:  82%|██████████████████████████████████████████████████████████████████████████▏                | 837/1026 [01:41<00:23,  8.05it/s, now=None]"
     ]
    },
    {
     "name": "stderr",
     "output_type": "stream",
     "text": [
      "\r",
      "t:  82%|██████████████████████████████████████████████████████████████████████████▍                | 839/1026 [01:41<00:21,  8.65it/s, now=None]"
     ]
    },
    {
     "name": "stderr",
     "output_type": "stream",
     "text": [
      "\r",
      "t:  82%|██████████████████████████████████████████████████████████████████████████▌                | 840/1026 [01:41<00:21,  8.82it/s, now=None]"
     ]
    },
    {
     "name": "stderr",
     "output_type": "stream",
     "text": [
      "\r",
      "t:  82%|██████████████████████████████████████████████████████████████████████████▋                | 842/1026 [01:42<00:23,  7.92it/s, now=None]"
     ]
    },
    {
     "name": "stderr",
     "output_type": "stream",
     "text": [
      "\r",
      "t:  82%|██████████████████████████████████████████████████████████████████████████▊                | 843/1026 [01:42<00:22,  8.08it/s, now=None]"
     ]
    },
    {
     "name": "stderr",
     "output_type": "stream",
     "text": [
      "\r",
      "t:  82%|██████████████████████████████████████████████████████████████████████████▊                | 844/1026 [01:42<00:21,  8.43it/s, now=None]"
     ]
    },
    {
     "name": "stderr",
     "output_type": "stream",
     "text": [
      "\r",
      "t:  82%|██████████████████████████████████████████████████████████████████████████▉                | 845/1026 [01:42<00:21,  8.51it/s, now=None]"
     ]
    },
    {
     "name": "stderr",
     "output_type": "stream",
     "text": [
      "\r",
      "t:  82%|███████████████████████████████████████████████████████████████████████████                | 846/1026 [01:42<00:20,  8.59it/s, now=None]"
     ]
    },
    {
     "name": "stderr",
     "output_type": "stream",
     "text": [
      "\r",
      "t:  83%|███████████████████████████████████████████████████████████████████████████▏               | 848/1026 [01:42<00:22,  7.82it/s, now=None]"
     ]
    },
    {
     "name": "stderr",
     "output_type": "stream",
     "text": [
      "\r",
      "t:  83%|███████████████████████████████████████████████████████████████████████████▍               | 850/1026 [01:42<00:20,  8.63it/s, now=None]"
     ]
    },
    {
     "name": "stderr",
     "output_type": "stream",
     "text": [
      "\r",
      "t:  83%|███████████████████████████████████████████████████████████████████████████▍               | 851/1026 [01:43<00:19,  8.80it/s, now=None]"
     ]
    },
    {
     "name": "stderr",
     "output_type": "stream",
     "text": [
      "\r",
      "t:  83%|███████████████████████████████████████████████████████████████████████████▋               | 853/1026 [01:43<00:18,  9.37it/s, now=None]"
     ]
    },
    {
     "name": "stderr",
     "output_type": "stream",
     "text": [
      "\r",
      "t:  83%|███████████████████████████████████████████████████████████████████████████▋               | 854/1026 [01:43<00:21,  8.08it/s, now=None]"
     ]
    },
    {
     "name": "stderr",
     "output_type": "stream",
     "text": [
      "\r",
      "t:  83%|███████████████████████████████████████████████████████████████████████████▊               | 855/1026 [01:43<00:20,  8.25it/s, now=None]"
     ]
    },
    {
     "name": "stderr",
     "output_type": "stream",
     "text": [
      "\r",
      "t:  84%|████████████████████████████████████████████████████████████████████████████               | 857/1026 [01:43<00:19,  8.83it/s, now=None]"
     ]
    },
    {
     "name": "stderr",
     "output_type": "stream",
     "text": [
      "\r",
      "t:  84%|████████████████████████████████████████████████████████████████████████████               | 858/1026 [01:43<00:18,  8.99it/s, now=None]"
     ]
    },
    {
     "name": "stderr",
     "output_type": "stream",
     "text": [
      "\r",
      "t:  84%|████████████████████████████████████████████████████████████████████████████▎              | 860/1026 [01:44<00:20,  8.09it/s, now=None]"
     ]
    },
    {
     "name": "stderr",
     "output_type": "stream",
     "text": [
      "\r",
      "t:  84%|████████████████████████████████████████████████████████████████████████████▎              | 861/1026 [01:44<00:19,  8.38it/s, now=None]"
     ]
    },
    {
     "name": "stderr",
     "output_type": "stream",
     "text": [
      "\r",
      "t:  84%|████████████████████████████████████████████████████████████████████████████▌              | 863/1026 [01:44<00:17,  9.10it/s, now=None]"
     ]
    },
    {
     "name": "stderr",
     "output_type": "stream",
     "text": [
      "\r",
      "t:  84%|████████████████████████████████████████████████████████████████████████████▋              | 864/1026 [01:44<00:17,  9.27it/s, now=None]"
     ]
    },
    {
     "name": "stderr",
     "output_type": "stream",
     "text": [
      "\r",
      "t:  84%|████████████████████████████████████████████████████████████████████████████▊              | 866/1026 [01:44<00:19,  8.27it/s, now=None]"
     ]
    },
    {
     "name": "stderr",
     "output_type": "stream",
     "text": [
      "\r",
      "t:  85%|████████████████████████████████████████████████████████████████████████████▉              | 867/1026 [01:44<00:18,  8.50it/s, now=None]"
     ]
    },
    {
     "name": "stderr",
     "output_type": "stream",
     "text": [
      "\r",
      "t:  85%|█████████████████████████████████████████████████████████████████████████████              | 869/1026 [01:45<00:17,  8.99it/s, now=None]"
     ]
    },
    {
     "name": "stderr",
     "output_type": "stream",
     "text": [
      "\r",
      "t:  85%|█████████████████████████████████████████████████████████████████████████████▏             | 870/1026 [01:45<00:17,  9.11it/s, now=None]"
     ]
    },
    {
     "name": "stderr",
     "output_type": "stream",
     "text": [
      "\r",
      "t:  85%|█████████████████████████████████████████████████████████████████████████████▎             | 872/1026 [01:45<00:18,  8.27it/s, now=None]"
     ]
    },
    {
     "name": "stderr",
     "output_type": "stream",
     "text": [
      "\r",
      "t:  85%|█████████████████████████████████████████████████████████████████████████████▌             | 874/1026 [01:45<00:17,  8.92it/s, now=None]"
     ]
    },
    {
     "name": "stderr",
     "output_type": "stream",
     "text": [
      "\r",
      "t:  85%|█████████████████████████████████████████████████████████████████████████████▌             | 875/1026 [01:45<00:16,  9.04it/s, now=None]"
     ]
    },
    {
     "name": "stderr",
     "output_type": "stream",
     "text": [
      "\r",
      "t:  85%|█████████████████████████████████████████████████████████████████████████████▋             | 876/1026 [01:45<00:16,  9.14it/s, now=None]"
     ]
    },
    {
     "name": "stderr",
     "output_type": "stream",
     "text": [
      "\r",
      "t:  86%|█████████████████████████████████████████████████████████████████████████████▊             | 878/1026 [01:46<00:18,  8.19it/s, now=None]"
     ]
    },
    {
     "name": "stderr",
     "output_type": "stream",
     "text": [
      "\r",
      "t:  86%|█████████████████████████████████████████████████████████████████████████████▉             | 879/1026 [01:46<00:17,  8.44it/s, now=None]"
     ]
    },
    {
     "name": "stderr",
     "output_type": "stream",
     "text": [
      "\r",
      "t:  86%|██████████████████████████████████████████████████████████████████████████████▏            | 881/1026 [01:46<00:16,  8.94it/s, now=None]"
     ]
    },
    {
     "name": "stderr",
     "output_type": "stream",
     "text": [
      "\r",
      "t:  86%|██████████████████████████████████████████████████████████████████████████████▎            | 883/1026 [01:46<00:15,  9.38it/s, now=None]"
     ]
    },
    {
     "name": "stderr",
     "output_type": "stream",
     "text": [
      "\r",
      "t:  86%|██████████████████████████████████████████████████████████████████████████████▍            | 884/1026 [01:46<00:17,  8.03it/s, now=None]"
     ]
    },
    {
     "name": "stderr",
     "output_type": "stream",
     "text": [
      "\r",
      "t:  86%|██████████████████████████████████████████████████████████████████████████████▍            | 885/1026 [01:47<00:17,  8.29it/s, now=None]"
     ]
    },
    {
     "name": "stderr",
     "output_type": "stream",
     "text": [
      "\r",
      "t:  86%|██████████████████████████████████████████████████████████████████████████████▋            | 887/1026 [01:47<00:15,  8.98it/s, now=None]"
     ]
    },
    {
     "name": "stderr",
     "output_type": "stream",
     "text": [
      "\r",
      "t:  87%|██████████████████████████████████████████████████████████████████████████████▊            | 888/1026 [01:47<00:15,  9.10it/s, now=None]"
     ]
    },
    {
     "name": "stderr",
     "output_type": "stream",
     "text": [
      "\r",
      "t:  87%|██████████████████████████████████████████████████████████████████████████████▉            | 890/1026 [01:47<00:16,  8.25it/s, now=None]"
     ]
    },
    {
     "name": "stderr",
     "output_type": "stream",
     "text": [
      "\r",
      "t:  87%|███████████████████████████████████████████████████████████████████████████████            | 891/1026 [01:47<00:15,  8.47it/s, now=None]"
     ]
    },
    {
     "name": "stderr",
     "output_type": "stream",
     "text": [
      "\r",
      "t:  87%|███████████████████████████████████████████████████████████████████████████████▏           | 893/1026 [01:47<00:14,  8.92it/s, now=None]"
     ]
    },
    {
     "name": "stderr",
     "output_type": "stream",
     "text": [
      "\r",
      "t:  87%|███████████████████████████████████████████████████████████████████████████████▎           | 894/1026 [01:48<00:14,  9.05it/s, now=None]"
     ]
    },
    {
     "name": "stderr",
     "output_type": "stream",
     "text": [
      "\r",
      "t:  87%|███████████████████████████████████████████████████████████████████████████████▍           | 896/1026 [01:48<00:15,  8.16it/s, now=None]"
     ]
    },
    {
     "name": "stderr",
     "output_type": "stream",
     "text": [
      "\r",
      "t:  88%|███████████████████████████████████████████████████████████████████████████████▋           | 898/1026 [01:48<00:14,  8.81it/s, now=None]"
     ]
    },
    {
     "name": "stderr",
     "output_type": "stream",
     "text": [
      "\r",
      "t:  88%|███████████████████████████████████████████████████████████████████████████████▋           | 899/1026 [01:48<00:14,  8.95it/s, now=None]"
     ]
    },
    {
     "name": "stderr",
     "output_type": "stream",
     "text": [
      "\r",
      "t:  88%|███████████████████████████████████████████████████████████████████████████████▊           | 900/1026 [01:48<00:13,  9.09it/s, now=None]"
     ]
    },
    {
     "name": "stderr",
     "output_type": "stream",
     "text": [
      "\r",
      "t:  88%|████████████████████████████████████████████████████████████████████████████████           | 902/1026 [01:48<00:15,  8.05it/s, now=None]"
     ]
    },
    {
     "name": "stderr",
     "output_type": "stream",
     "text": [
      "\r",
      "t:  88%|████████████████████████████████████████████████████████████████████████████████           | 903/1026 [01:49<00:14,  8.33it/s, now=None]"
     ]
    },
    {
     "name": "stderr",
     "output_type": "stream",
     "text": [
      "\r",
      "t:  88%|████████████████████████████████████████████████████████████████████████████████▎          | 905/1026 [01:49<00:13,  8.87it/s, now=None]"
     ]
    },
    {
     "name": "stderr",
     "output_type": "stream",
     "text": [
      "\r",
      "t:  88%|████████████████████████████████████████████████████████████████████████████████▍          | 907/1026 [01:49<00:12,  9.35it/s, now=None]"
     ]
    },
    {
     "name": "stderr",
     "output_type": "stream",
     "text": [
      "\r",
      "t:  88%|████████████████████████████████████████████████████████████████████████████████▌          | 908/1026 [01:49<00:14,  8.22it/s, now=None]"
     ]
    },
    {
     "name": "stderr",
     "output_type": "stream",
     "text": [
      "\r",
      "t:  89%|████████████████████████████████████████████████████████████████████████████████▋          | 910/1026 [01:49<00:13,  8.86it/s, now=None]"
     ]
    },
    {
     "name": "stderr",
     "output_type": "stream",
     "text": [
      "\r",
      "t:  89%|████████████████████████████████████████████████████████████████████████████████▉          | 912/1026 [01:50<00:12,  9.34it/s, now=None]"
     ]
    },
    {
     "name": "stderr",
     "output_type": "stream",
     "text": [
      "\r",
      "t:  89%|████████████████████████████████████████████████████████████████████████████████▉          | 913/1026 [01:50<00:11,  9.46it/s, now=None]"
     ]
    },
    {
     "name": "stderr",
     "output_type": "stream",
     "text": [
      "\r",
      "t:  89%|█████████████████████████████████████████████████████████████████████████████████          | 914/1026 [01:50<00:13,  8.07it/s, now=None]"
     ]
    },
    {
     "name": "stderr",
     "output_type": "stream",
     "text": [
      "\r",
      "t:  89%|█████████████████████████████████████████████████████████████████████████████████▏         | 915/1026 [01:50<00:13,  8.20it/s, now=None]"
     ]
    },
    {
     "name": "stderr",
     "output_type": "stream",
     "text": [
      "\r",
      "t:  89%|█████████████████████████████████████████████████████████████████████████████████▎         | 917/1026 [01:50<00:12,  8.73it/s, now=None]"
     ]
    },
    {
     "name": "stderr",
     "output_type": "stream",
     "text": [
      "\r",
      "t:  89%|█████████████████████████████████████████████████████████████████████████████████▍         | 918/1026 [01:50<00:12,  8.75it/s, now=None]"
     ]
    },
    {
     "name": "stderr",
     "output_type": "stream",
     "text": [
      "\r",
      "t:  90%|█████████████████████████████████████████████████████████████████████████████████▌         | 920/1026 [01:51<00:13,  7.91it/s, now=None]"
     ]
    },
    {
     "name": "stderr",
     "output_type": "stream",
     "text": [
      "\r",
      "t:  90%|█████████████████████████████████████████████████████████████████████████████████▋         | 921/1026 [01:51<00:12,  8.09it/s, now=None]"
     ]
    },
    {
     "name": "stderr",
     "output_type": "stream",
     "text": [
      "\r",
      "t:  90%|█████████████████████████████████████████████████████████████████████████████████▊         | 923/1026 [01:51<00:11,  8.64it/s, now=None]"
     ]
    },
    {
     "name": "stderr",
     "output_type": "stream",
     "text": [
      "\r",
      "t:  90%|█████████████████████████████████████████████████████████████████████████████████▉         | 924/1026 [01:51<00:11,  8.81it/s, now=None]"
     ]
    },
    {
     "name": "stderr",
     "output_type": "stream",
     "text": [
      "\r",
      "t:  90%|██████████████████████████████████████████████████████████████████████████████████         | 925/1026 [01:51<00:11,  9.03it/s, now=None]"
     ]
    },
    {
     "name": "stderr",
     "output_type": "stream",
     "text": [
      "\r",
      "t:  90%|██████████████████████████████████████████████████████████████████████████████████▏        | 926/1026 [01:51<00:13,  7.56it/s, now=None]"
     ]
    },
    {
     "name": "stderr",
     "output_type": "stream",
     "text": [
      "\r",
      "t:  90%|██████████████████████████████████████████████████████████████████████████████████▏        | 927/1026 [01:51<00:12,  7.86it/s, now=None]"
     ]
    },
    {
     "name": "stderr",
     "output_type": "stream",
     "text": [
      "\r",
      "t:  91%|██████████████████████████████████████████████████████████████████████████████████▍        | 929/1026 [01:52<00:11,  8.55it/s, now=None]"
     ]
    },
    {
     "name": "stderr",
     "output_type": "stream",
     "text": [
      "\r",
      "t:  91%|██████████████████████████████████████████████████████████████████████████████████▍        | 930/1026 [01:52<00:10,  8.75it/s, now=None]"
     ]
    },
    {
     "name": "stderr",
     "output_type": "stream",
     "text": [
      "\r",
      "t:  91%|██████████████████████████████████████████████████████████████████████████████████▌        | 931/1026 [01:52<00:10,  9.01it/s, now=None]"
     ]
    },
    {
     "name": "stderr",
     "output_type": "stream",
     "text": [
      "\r",
      "t:  91%|██████████████████████████████████████████████████████████████████████████████████▋        | 932/1026 [01:52<00:12,  7.49it/s, now=None]"
     ]
    },
    {
     "name": "stderr",
     "output_type": "stream",
     "text": [
      "\r",
      "t:  91%|██████████████████████████████████████████████████████████████████████████████████▊        | 933/1026 [01:52<00:11,  7.94it/s, now=None]"
     ]
    },
    {
     "name": "stderr",
     "output_type": "stream",
     "text": [
      "\r",
      "t:  91%|██████████████████████████████████████████████████████████████████████████████████▊        | 934/1026 [01:52<00:10,  8.42it/s, now=None]"
     ]
    },
    {
     "name": "stderr",
     "output_type": "stream",
     "text": [
      "\r",
      "t:  91%|██████████████████████████████████████████████████████████████████████████████████▉        | 935/1026 [01:52<00:10,  8.50it/s, now=None]"
     ]
    },
    {
     "name": "stderr",
     "output_type": "stream",
     "text": [
      "\r",
      "t:  91%|███████████████████████████████████████████████████████████████████████████████████        | 936/1026 [01:52<00:10,  8.56it/s, now=None]"
     ]
    },
    {
     "name": "stderr",
     "output_type": "stream",
     "text": [
      "\r",
      "t:  91%|███████████████████████████████████████████████████████████████████████████████████        | 937/1026 [01:53<00:10,  8.87it/s, now=None]"
     ]
    },
    {
     "name": "stderr",
     "output_type": "stream",
     "text": [
      "\r",
      "t:  91%|███████████████████████████████████████████████████████████████████████████████████▏       | 938/1026 [01:53<00:12,  7.17it/s, now=None]"
     ]
    },
    {
     "name": "stderr",
     "output_type": "stream",
     "text": [
      "\r",
      "t:  92%|███████████████████████████████████████████████████████████████████████████████████▎       | 939/1026 [01:53<00:11,  7.57it/s, now=None]"
     ]
    },
    {
     "name": "stderr",
     "output_type": "stream",
     "text": [
      "\r",
      "t:  92%|███████████████████████████████████████████████████████████████████████████████████▍       | 941/1026 [01:53<00:10,  8.45it/s, now=None]"
     ]
    },
    {
     "name": "stderr",
     "output_type": "stream",
     "text": [
      "\r",
      "t:  92%|███████████████████████████████████████████████████████████████████████████████████▌       | 942/1026 [01:53<00:09,  8.55it/s, now=None]"
     ]
    },
    {
     "name": "stderr",
     "output_type": "stream",
     "text": [
      "\r",
      "t:  92%|███████████████████████████████████████████████████████████████████████████████████▋       | 943/1026 [01:53<00:09,  8.86it/s, now=None]"
     ]
    },
    {
     "name": "stderr",
     "output_type": "stream",
     "text": [
      "\r",
      "t:  92%|███████████████████████████████████████████████████████████████████████████████████▋       | 944/1026 [01:53<00:11,  7.30it/s, now=None]"
     ]
    },
    {
     "name": "stderr",
     "output_type": "stream",
     "text": [
      "\r",
      "t:  92%|███████████████████████████████████████████████████████████████████████████████████▊       | 945/1026 [01:54<00:10,  7.67it/s, now=None]"
     ]
    },
    {
     "name": "stderr",
     "output_type": "stream",
     "text": [
      "\r",
      "t:  92%|███████████████████████████████████████████████████████████████████████████████████▉       | 946/1026 [01:54<00:09,  8.18it/s, now=None]"
     ]
    },
    {
     "name": "stderr",
     "output_type": "stream",
     "text": [
      "\r",
      "t:  92%|███████████████████████████████████████████████████████████████████████████████████▉       | 947/1026 [01:54<00:09,  8.29it/s, now=None]"
     ]
    },
    {
     "name": "stderr",
     "output_type": "stream",
     "text": [
      "\r",
      "t:  92%|████████████████████████████████████████████████████████████████████████████████████       | 948/1026 [01:54<00:09,  8.41it/s, now=None]"
     ]
    },
    {
     "name": "stderr",
     "output_type": "stream",
     "text": [
      "\r",
      "t:  92%|████████████████████████████████████████████████████████████████████████████████████▏      | 949/1026 [01:54<00:08,  8.79it/s, now=None]"
     ]
    },
    {
     "name": "stderr",
     "output_type": "stream",
     "text": [
      "\r",
      "t:  93%|████████████████████████████████████████████████████████████████████████████████████▎      | 950/1026 [01:54<00:10,  7.24it/s, now=None]"
     ]
    },
    {
     "name": "stderr",
     "output_type": "stream",
     "text": [
      "\r",
      "t:  93%|████████████████████████████████████████████████████████████████████████████████████▎      | 951/1026 [01:54<00:09,  7.50it/s, now=None]"
     ]
    },
    {
     "name": "stderr",
     "output_type": "stream",
     "text": [
      "\r",
      "t:  93%|████████████████████████████████████████████████████████████████████████████████████▌      | 953/1026 [01:55<00:08,  8.38it/s, now=None]"
     ]
    },
    {
     "name": "stderr",
     "output_type": "stream",
     "text": [
      "\r",
      "t:  93%|████████████████████████████████████████████████████████████████████████████████████▌      | 954/1026 [01:55<00:08,  8.62it/s, now=None]"
     ]
    },
    {
     "name": "stderr",
     "output_type": "stream",
     "text": [
      "\r",
      "t:  93%|████████████████████████████████████████████████████████████████████████████████████▊      | 956/1026 [01:55<00:08,  7.82it/s, now=None]"
     ]
    },
    {
     "name": "stderr",
     "output_type": "stream",
     "text": [
      "\r",
      "t:  93%|████████████████████████████████████████████████████████████████████████████████████▉      | 957/1026 [01:55<00:08,  8.02it/s, now=None]"
     ]
    },
    {
     "name": "stderr",
     "output_type": "stream",
     "text": [
      "\r",
      "t:  93%|████████████████████████████████████████████████████████████████████████████████████▉      | 958/1026 [01:55<00:08,  8.39it/s, now=None]"
     ]
    },
    {
     "name": "stderr",
     "output_type": "stream",
     "text": [
      "\r",
      "t:  93%|█████████████████████████████████████████████████████████████████████████████████████      | 959/1026 [01:55<00:07,  8.46it/s, now=None]"
     ]
    },
    {
     "name": "stderr",
     "output_type": "stream",
     "text": [
      "\r",
      "t:  94%|█████████████████████████████████████████████████████████████████████████████████████▏     | 960/1026 [01:55<00:07,  8.57it/s, now=None]"
     ]
    },
    {
     "name": "stderr",
     "output_type": "stream",
     "text": [
      "\r",
      "t:  94%|█████████████████████████████████████████████████████████████████████████████████████▏     | 961/1026 [01:56<00:07,  8.88it/s, now=None]"
     ]
    },
    {
     "name": "stderr",
     "output_type": "stream",
     "text": [
      "\r",
      "t:  94%|█████████████████████████████████████████████████████████████████████████████████████▎     | 962/1026 [01:56<00:08,  7.31it/s, now=None]"
     ]
    },
    {
     "name": "stderr",
     "output_type": "stream",
     "text": [
      "\r",
      "t:  94%|█████████████████████████████████████████████████████████████████████████████████████▍     | 963/1026 [01:56<00:08,  7.63it/s, now=None]"
     ]
    },
    {
     "name": "stderr",
     "output_type": "stream",
     "text": [
      "\r",
      "t:  94%|█████████████████████████████████████████████████████████████████████████████████████▌     | 965/1026 [01:56<00:07,  8.42it/s, now=None]"
     ]
    },
    {
     "name": "stderr",
     "output_type": "stream",
     "text": [
      "\r",
      "t:  94%|█████████████████████████████████████████████████████████████████████████████████████▋     | 966/1026 [01:56<00:07,  8.52it/s, now=None]"
     ]
    },
    {
     "name": "stderr",
     "output_type": "stream",
     "text": [
      "\r",
      "t:  94%|█████████████████████████████████████████████████████████████████████████████████████▊     | 967/1026 [01:56<00:06,  8.84it/s, now=None]"
     ]
    },
    {
     "name": "stderr",
     "output_type": "stream",
     "text": [
      "\r",
      "t:  94%|█████████████████████████████████████████████████████████████████████████████████████▊     | 968/1026 [01:56<00:07,  7.36it/s, now=None]"
     ]
    },
    {
     "name": "stderr",
     "output_type": "stream",
     "text": [
      "\r",
      "t:  94%|█████████████████████████████████████████████████████████████████████████████████████▉     | 969/1026 [01:57<00:07,  7.83it/s, now=None]"
     ]
    },
    {
     "name": "stderr",
     "output_type": "stream",
     "text": [
      "\r",
      "t:  95%|██████████████████████████████████████████████████████████████████████████████████████     | 970/1026 [01:57<00:06,  8.30it/s, now=None]"
     ]
    },
    {
     "name": "stderr",
     "output_type": "stream",
     "text": [
      "\r",
      "t:  95%|██████████████████████████████████████████████████████████████████████████████████████     | 971/1026 [01:57<00:06,  8.40it/s, now=None]"
     ]
    },
    {
     "name": "stderr",
     "output_type": "stream",
     "text": [
      "\r",
      "t:  95%|██████████████████████████████████████████████████████████████████████████████████████▏    | 972/1026 [01:57<00:06,  8.40it/s, now=None]"
     ]
    },
    {
     "name": "stderr",
     "output_type": "stream",
     "text": [
      "\r",
      "t:  95%|██████████████████████████████████████████████████████████████████████████████████████▎    | 973/1026 [01:57<00:06,  8.78it/s, now=None]"
     ]
    },
    {
     "name": "stderr",
     "output_type": "stream",
     "text": [
      "\r",
      "t:  95%|██████████████████████████████████████████████████████████████████████████████████████▍    | 974/1026 [01:57<00:07,  7.20it/s, now=None]"
     ]
    },
    {
     "name": "stderr",
     "output_type": "stream",
     "text": [
      "\r",
      "t:  95%|██████████████████████████████████████████████████████████████████████████████████████▍    | 975/1026 [01:57<00:06,  7.61it/s, now=None]"
     ]
    },
    {
     "name": "stderr",
     "output_type": "stream",
     "text": [
      "\r",
      "t:  95%|██████████████████████████████████████████████████████████████████████████████████████▌    | 976/1026 [01:57<00:06,  8.17it/s, now=None]"
     ]
    },
    {
     "name": "stderr",
     "output_type": "stream",
     "text": [
      "\r",
      "t:  95%|██████████████████████████████████████████████████████████████████████████████████████▋    | 977/1026 [01:58<00:05,  8.36it/s, now=None]"
     ]
    },
    {
     "name": "stderr",
     "output_type": "stream",
     "text": [
      "\r",
      "t:  95%|██████████████████████████████████████████████████████████████████████████████████████▋    | 978/1026 [01:58<00:05,  8.68it/s, now=None]"
     ]
    },
    {
     "name": "stderr",
     "output_type": "stream",
     "text": [
      "\r",
      "t:  95%|██████████████████████████████████████████████████████████████████████████████████████▊    | 979/1026 [01:58<00:05,  8.82it/s, now=None]"
     ]
    },
    {
     "name": "stderr",
     "output_type": "stream",
     "text": [
      "\r",
      "t:  96%|██████████████████████████████████████████████████████████████████████████████████████▉    | 980/1026 [01:58<00:06,  7.20it/s, now=None]"
     ]
    },
    {
     "name": "stderr",
     "output_type": "stream",
     "text": [
      "\r",
      "t:  96%|███████████████████████████████████████████████████████████████████████████████████████    | 981/1026 [01:58<00:05,  7.58it/s, now=None]"
     ]
    },
    {
     "name": "stderr",
     "output_type": "stream",
     "text": [
      "\r",
      "t:  96%|███████████████████████████████████████████████████████████████████████████████████████▏   | 983/1026 [01:58<00:05,  8.40it/s, now=None]"
     ]
    },
    {
     "name": "stderr",
     "output_type": "stream",
     "text": [
      "\r",
      "t:  96%|███████████████████████████████████████████████████████████████████████████████████████▎   | 984/1026 [01:58<00:04,  8.49it/s, now=None]"
     ]
    },
    {
     "name": "stderr",
     "output_type": "stream",
     "text": [
      "\r",
      "t:  96%|███████████████████████████████████████████████████████████████████████████████████████▎   | 985/1026 [01:58<00:04,  8.79it/s, now=None]"
     ]
    },
    {
     "name": "stderr",
     "output_type": "stream",
     "text": [
      "\r",
      "t:  96%|███████████████████████████████████████████████████████████████████████████████████████▍   | 986/1026 [01:59<00:05,  7.31it/s, now=None]"
     ]
    },
    {
     "name": "stderr",
     "output_type": "stream",
     "text": [
      "\r",
      "t:  96%|███████████████████████████████████████████████████████████████████████████████████████▌   | 987/1026 [01:59<00:05,  7.67it/s, now=None]"
     ]
    },
    {
     "name": "stderr",
     "output_type": "stream",
     "text": [
      "\r",
      "t:  96%|███████████████████████████████████████████████████████████████████████████████████████▋   | 988/1026 [01:59<00:04,  8.17it/s, now=None]"
     ]
    },
    {
     "name": "stderr",
     "output_type": "stream",
     "text": [
      "\r",
      "t:  96%|███████████████████████████████████████████████████████████████████████████████████████▋   | 989/1026 [01:59<00:04,  8.33it/s, now=None]"
     ]
    },
    {
     "name": "stderr",
     "output_type": "stream",
     "text": [
      "\r",
      "t:  96%|███████████████████████████████████████████████████████████████████████████████████████▊   | 990/1026 [01:59<00:04,  8.62it/s, now=None]"
     ]
    },
    {
     "name": "stderr",
     "output_type": "stream",
     "text": [
      "\r",
      "t:  97%|███████████████████████████████████████████████████████████████████████████████████████▉   | 991/1026 [01:59<00:03,  8.93it/s, now=None]"
     ]
    },
    {
     "name": "stderr",
     "output_type": "stream",
     "text": [
      "\r",
      "t:  97%|███████████████████████████████████████████████████████████████████████████████████████▉   | 992/1026 [01:59<00:04,  7.26it/s, now=None]"
     ]
    },
    {
     "name": "stderr",
     "output_type": "stream",
     "text": [
      "\r",
      "t:  97%|████████████████████████████████████████████████████████████████████████████████████████   | 993/1026 [02:00<00:04,  7.67it/s, now=None]"
     ]
    },
    {
     "name": "stderr",
     "output_type": "stream",
     "text": [
      "\r",
      "t:  97%|████████████████████████████████████████████████████████████████████████████████████████▎  | 995/1026 [02:00<00:03,  8.51it/s, now=None]"
     ]
    },
    {
     "name": "stderr",
     "output_type": "stream",
     "text": [
      "\r",
      "t:  97%|████████████████████████████████████████████████████████████████████████████████████████▎  | 996/1026 [02:00<00:03,  8.57it/s, now=None]"
     ]
    },
    {
     "name": "stderr",
     "output_type": "stream",
     "text": [
      "\r",
      "t:  97%|████████████████████████████████████████████████████████████████████████████████████████▌  | 998/1026 [02:00<00:03,  7.91it/s, now=None]"
     ]
    },
    {
     "name": "stderr",
     "output_type": "stream",
     "text": [
      "\r",
      "t:  97%|████████████████████████████████████████████████████████████████████████████████████████▌  | 999/1026 [02:00<00:03,  8.25it/s, now=None]"
     ]
    },
    {
     "name": "stderr",
     "output_type": "stream",
     "text": [
      "\r",
      "t:  97%|███████████████████████████████████████████████████████████████████████████████████████▋  | 1000/1026 [02:00<00:03,  8.57it/s, now=None]"
     ]
    },
    {
     "name": "stderr",
     "output_type": "stream",
     "text": [
      "\r",
      "t:  98%|███████████████████████████████████████████████████████████████████████████████████████▊  | 1001/1026 [02:00<00:02,  8.62it/s, now=None]"
     ]
    },
    {
     "name": "stderr",
     "output_type": "stream",
     "text": [
      "\r",
      "t:  98%|███████████████████████████████████████████████████████████████████████████████████████▉  | 1002/1026 [02:01<00:02,  8.83it/s, now=None]"
     ]
    },
    {
     "name": "stderr",
     "output_type": "stream",
     "text": [
      "\r",
      "t:  98%|████████████████████████████████████████████████████████████████████████████████████████  | 1004/1026 [02:01<00:02,  8.02it/s, now=None]"
     ]
    },
    {
     "name": "stderr",
     "output_type": "stream",
     "text": [
      "\r",
      "t:  98%|████████████████████████████████████████████████████████████████████████████████████████▏ | 1005/1026 [02:01<00:02,  8.32it/s, now=None]"
     ]
    },
    {
     "name": "stderr",
     "output_type": "stream",
     "text": [
      "\r",
      "t:  98%|████████████████████████████████████████████████████████████████████████████████████████▏ | 1006/1026 [02:01<00:02,  8.66it/s, now=None]"
     ]
    },
    {
     "name": "stderr",
     "output_type": "stream",
     "text": [
      "\r",
      "t:  98%|████████████████████████████████████████████████████████████████████████████████████████▎ | 1007/1026 [02:01<00:02,  8.86it/s, now=None]"
     ]
    },
    {
     "name": "stderr",
     "output_type": "stream",
     "text": [
      "\r",
      "t:  98%|████████████████████████████████████████████████████████████████████████████████████████▍ | 1008/1026 [02:01<00:01,  9.04it/s, now=None]"
     ]
    },
    {
     "name": "stderr",
     "output_type": "stream",
     "text": [
      "\r",
      "t:  98%|████████████████████████████████████████████████████████████████████████████████████████▌ | 1010/1026 [02:02<00:02,  7.95it/s, now=None]"
     ]
    },
    {
     "name": "stderr",
     "output_type": "stream",
     "text": [
      "\r",
      "t:  99%|████████████████████████████████████████████████████████████████████████████████████████▋ | 1011/1026 [02:02<00:01,  8.27it/s, now=None]"
     ]
    },
    {
     "name": "stderr",
     "output_type": "stream",
     "text": [
      "\r",
      "t:  99%|████████████████████████████████████████████████████████████████████████████████████████▊ | 1012/1026 [02:02<00:01,  8.59it/s, now=None]"
     ]
    },
    {
     "name": "stderr",
     "output_type": "stream",
     "text": [
      "\r",
      "t:  99%|████████████████████████████████████████████████████████████████████████████████████████▊ | 1013/1026 [02:02<00:01,  8.77it/s, now=None]"
     ]
    },
    {
     "name": "stderr",
     "output_type": "stream",
     "text": [
      "\r",
      "t:  99%|████████████████████████████████████████████████████████████████████████████████████████▉ | 1014/1026 [02:02<00:01,  8.73it/s, now=None]"
     ]
    },
    {
     "name": "stderr",
     "output_type": "stream",
     "text": [
      "\r",
      "t:  99%|█████████████████████████████████████████████████████████████████████████████████████████ | 1015/1026 [02:02<00:01,  8.98it/s, now=None]"
     ]
    },
    {
     "name": "stderr",
     "output_type": "stream",
     "text": [
      "\r",
      "t:  99%|█████████████████████████████████████████████████████████████████████████████████████████ | 1016/1026 [02:02<00:01,  7.34it/s, now=None]"
     ]
    },
    {
     "name": "stderr",
     "output_type": "stream",
     "text": [
      "\r",
      "t:  99%|█████████████████████████████████████████████████████████████████████████████████████████▏| 1017/1026 [02:02<00:01,  7.59it/s, now=None]"
     ]
    },
    {
     "name": "stderr",
     "output_type": "stream",
     "text": [
      "\r",
      "t:  99%|█████████████████████████████████████████████████████████████████████████████████████████▎| 1018/1026 [02:02<00:00,  8.09it/s, now=None]"
     ]
    },
    {
     "name": "stderr",
     "output_type": "stream",
     "text": [
      "\r",
      "t:  99%|█████████████████████████████████████████████████████████████████████████████████████████▍| 1019/1026 [02:03<00:00,  8.27it/s, now=None]"
     ]
    },
    {
     "name": "stderr",
     "output_type": "stream",
     "text": [
      "\r",
      "t:  99%|█████████████████████████████████████████████████████████████████████████████████████████▍| 1020/1026 [02:03<00:00,  8.42it/s, now=None]"
     ]
    },
    {
     "name": "stderr",
     "output_type": "stream",
     "text": [
      "\r",
      "t: 100%|█████████████████████████████████████████████████████████████████████████████████████████▋| 1022/1026 [02:03<00:00,  7.78it/s, now=None]"
     ]
    },
    {
     "name": "stderr",
     "output_type": "stream",
     "text": [
      "\r",
      "t: 100%|█████████████████████████████████████████████████████████████████████████████████████████▋| 1023/1026 [02:03<00:00,  7.98it/s, now=None]"
     ]
    },
    {
     "name": "stderr",
     "output_type": "stream",
     "text": [
      "\r",
      "t: 100%|█████████████████████████████████████████████████████████████████████████████████████████▉| 1025/1026 [02:03<00:00,  8.63it/s, now=None]"
     ]
    },
    {
     "name": "stderr",
     "output_type": "stream",
     "text": [
      "\r",
      "t: 100%|██████████████████████████████████████████████████████████████████████████████████████████| 1026/1026 [02:03<00:00,  8.67it/s, now=None]"
     ]
    },
    {
     "name": "stderr",
     "output_type": "stream",
     "text": [
      "\r",
      "                                                                                                                                                "
     ]
    },
    {
     "name": "stderr",
     "output_type": "stream",
     "text": [
      "\r"
     ]
    },
    {
     "name": "stderr",
     "output_type": "stream",
     "text": [
      "[Parallel(n_jobs=12)]: Using backend LokyBackend with 12 concurrent workers.\n"
     ]
    },
    {
     "name": "stdout",
     "output_type": "stream",
     "text": [
      "Moviepy - Done !\n",
      "Moviepy - video ready outputs/Americas/PU/probability_animation.mp4\n"
     ]
    },
    {
     "name": "stderr",
     "output_type": "stream",
     "text": [
      "[Parallel(n_jobs=12)]: Done  26 tasks      | elapsed:   40.2s\n"
     ]
    },
    {
     "name": "stderr",
     "output_type": "stream",
     "text": [
      "[Parallel(n_jobs=12)]: Done 171 out of 171 | elapsed:  3.2min finished\n"
     ]
    },
    {
     "name": "stdout",
     "output_type": "stream",
     "text": [
      "Moviepy - Building video outputs/Americas/SVM/probability_animation.mp4.\n",
      "Moviepy - Writing video outputs/Americas/SVM/probability_animation.mp4\n",
      "\n"
     ]
    },
    {
     "name": "stderr",
     "output_type": "stream",
     "text": [
      "\r",
      "t:   0%|                                                                                                     | 0/1026 [00:00<?, ?it/s, now=None]"
     ]
    },
    {
     "name": "stderr",
     "output_type": "stream",
     "text": [
      "\r",
      "t:   0%|▏                                                                                            | 2/1026 [00:00<00:57, 17.96it/s, now=None]"
     ]
    },
    {
     "name": "stderr",
     "output_type": "stream",
     "text": [
      "\r",
      "t:   0%|▎                                                                                            | 4/1026 [00:00<01:36, 10.60it/s, now=None]"
     ]
    },
    {
     "name": "stderr",
     "output_type": "stream",
     "text": [
      "\r",
      "t:   1%|▌                                                                                            | 6/1026 [00:00<01:46,  9.59it/s, now=None]"
     ]
    },
    {
     "name": "stderr",
     "output_type": "stream",
     "text": [
      "\r",
      "t:   1%|▋                                                                                            | 8/1026 [00:00<02:05,  8.13it/s, now=None]"
     ]
    },
    {
     "name": "stderr",
     "output_type": "stream",
     "text": [
      "\r",
      "t:   1%|▉                                                                                           | 10/1026 [00:01<02:00,  8.46it/s, now=None]"
     ]
    },
    {
     "name": "stderr",
     "output_type": "stream",
     "text": [
      "\r",
      "t:   1%|▉                                                                                           | 11/1026 [00:01<02:00,  8.41it/s, now=None]"
     ]
    },
    {
     "name": "stderr",
     "output_type": "stream",
     "text": [
      "\r",
      "t:   1%|█                                                                                           | 12/1026 [00:01<01:59,  8.51it/s, now=None]"
     ]
    },
    {
     "name": "stderr",
     "output_type": "stream",
     "text": [
      "\r",
      "t:   1%|█▏                                                                                          | 13/1026 [00:01<01:59,  8.44it/s, now=None]"
     ]
    },
    {
     "name": "stderr",
     "output_type": "stream",
     "text": [
      "\r",
      "t:   1%|█▎                                                                                          | 14/1026 [00:01<02:18,  7.31it/s, now=None]"
     ]
    },
    {
     "name": "stderr",
     "output_type": "stream",
     "text": [
      "\r",
      "t:   1%|█▎                                                                                          | 15/1026 [00:01<02:14,  7.53it/s, now=None]"
     ]
    },
    {
     "name": "stderr",
     "output_type": "stream",
     "text": [
      "\r",
      "t:   2%|█▍                                                                                          | 16/1026 [00:01<02:07,  7.92it/s, now=None]"
     ]
    },
    {
     "name": "stderr",
     "output_type": "stream",
     "text": [
      "\r",
      "t:   2%|█▌                                                                                          | 17/1026 [00:02<02:05,  8.02it/s, now=None]"
     ]
    },
    {
     "name": "stderr",
     "output_type": "stream",
     "text": [
      "\r",
      "t:   2%|█▌                                                                                          | 18/1026 [00:02<02:01,  8.28it/s, now=None]"
     ]
    },
    {
     "name": "stderr",
     "output_type": "stream",
     "text": [
      "\r",
      "t:   2%|█▊                                                                                          | 20/1026 [00:02<02:09,  7.75it/s, now=None]"
     ]
    },
    {
     "name": "stderr",
     "output_type": "stream",
     "text": [
      "\r",
      "t:   2%|█▉                                                                                          | 21/1026 [00:02<02:05,  8.02it/s, now=None]"
     ]
    },
    {
     "name": "stderr",
     "output_type": "stream",
     "text": [
      "\r",
      "t:   2%|█▉                                                                                          | 22/1026 [00:02<02:01,  8.26it/s, now=None]"
     ]
    },
    {
     "name": "stderr",
     "output_type": "stream",
     "text": [
      "\r",
      "t:   2%|██                                                                                          | 23/1026 [00:02<02:02,  8.20it/s, now=None]"
     ]
    },
    {
     "name": "stderr",
     "output_type": "stream",
     "text": [
      "\r",
      "t:   2%|██▏                                                                                         | 24/1026 [00:02<02:02,  8.19it/s, now=None]"
     ]
    },
    {
     "name": "stderr",
     "output_type": "stream",
     "text": [
      "\r",
      "t:   2%|██▏                                                                                         | 25/1026 [00:02<01:58,  8.46it/s, now=None]"
     ]
    },
    {
     "name": "stderr",
     "output_type": "stream",
     "text": [
      "\r",
      "t:   3%|██▎                                                                                         | 26/1026 [00:03<02:18,  7.21it/s, now=None]"
     ]
    },
    {
     "name": "stderr",
     "output_type": "stream",
     "text": [
      "\r",
      "t:   3%|██▍                                                                                         | 27/1026 [00:03<02:13,  7.49it/s, now=None]"
     ]
    },
    {
     "name": "stderr",
     "output_type": "stream",
     "text": [
      "\r",
      "t:   3%|██▌                                                                                         | 29/1026 [00:03<02:02,  8.17it/s, now=None]"
     ]
    },
    {
     "name": "stderr",
     "output_type": "stream",
     "text": [
      "\r",
      "t:   3%|██▋                                                                                         | 30/1026 [00:03<02:01,  8.23it/s, now=None]"
     ]
    },
    {
     "name": "stderr",
     "output_type": "stream",
     "text": [
      "\r",
      "t:   3%|██▊                                                                                         | 31/1026 [00:03<01:57,  8.49it/s, now=None]"
     ]
    },
    {
     "name": "stderr",
     "output_type": "stream",
     "text": [
      "\r",
      "t:   3%|██▊                                                                                         | 32/1026 [00:03<02:15,  7.32it/s, now=None]"
     ]
    },
    {
     "name": "stderr",
     "output_type": "stream",
     "text": [
      "\r",
      "t:   3%|██▉                                                                                         | 33/1026 [00:04<02:06,  7.87it/s, now=None]"
     ]
    },
    {
     "name": "stderr",
     "output_type": "stream",
     "text": [
      "\r",
      "t:   3%|███▏                                                                                        | 35/1026 [00:04<01:56,  8.54it/s, now=None]"
     ]
    },
    {
     "name": "stderr",
     "output_type": "stream",
     "text": [
      "\r",
      "t:   4%|███▏                                                                                        | 36/1026 [00:04<01:54,  8.66it/s, now=None]"
     ]
    },
    {
     "name": "stderr",
     "output_type": "stream",
     "text": [
      "\r",
      "t:   4%|███▎                                                                                        | 37/1026 [00:04<01:52,  8.82it/s, now=None]"
     ]
    },
    {
     "name": "stderr",
     "output_type": "stream",
     "text": [
      "\r",
      "t:   4%|███▍                                                                                        | 38/1026 [00:04<02:11,  7.51it/s, now=None]"
     ]
    },
    {
     "name": "stderr",
     "output_type": "stream",
     "text": [
      "\r",
      "t:   4%|███▍                                                                                        | 39/1026 [00:04<02:05,  7.88it/s, now=None]"
     ]
    },
    {
     "name": "stderr",
     "output_type": "stream",
     "text": [
      "\r",
      "t:   4%|███▌                                                                                        | 40/1026 [00:04<01:59,  8.24it/s, now=None]"
     ]
    },
    {
     "name": "stderr",
     "output_type": "stream",
     "text": [
      "\r",
      "t:   4%|███▋                                                                                        | 41/1026 [00:04<01:54,  8.61it/s, now=None]"
     ]
    },
    {
     "name": "stderr",
     "output_type": "stream",
     "text": [
      "\r",
      "t:   4%|███▊                                                                                        | 42/1026 [00:05<01:55,  8.51it/s, now=None]"
     ]
    },
    {
     "name": "stderr",
     "output_type": "stream",
     "text": [
      "\r",
      "t:   4%|███▉                                                                                        | 44/1026 [00:05<02:06,  7.74it/s, now=None]"
     ]
    },
    {
     "name": "stderr",
     "output_type": "stream",
     "text": [
      "\r",
      "t:   4%|████                                                                                        | 45/1026 [00:05<02:04,  7.90it/s, now=None]"
     ]
    },
    {
     "name": "stderr",
     "output_type": "stream",
     "text": [
      "\r",
      "t:   4%|████                                                                                        | 46/1026 [00:05<01:59,  8.20it/s, now=None]"
     ]
    },
    {
     "name": "stderr",
     "output_type": "stream",
     "text": [
      "\r",
      "t:   5%|████▏                                                                                       | 47/1026 [00:05<01:58,  8.24it/s, now=None]"
     ]
    },
    {
     "name": "stderr",
     "output_type": "stream",
     "text": [
      "\r",
      "t:   5%|████▎                                                                                       | 48/1026 [00:05<01:58,  8.25it/s, now=None]"
     ]
    },
    {
     "name": "stderr",
     "output_type": "stream",
     "text": [
      "\r",
      "t:   5%|████▍                                                                                       | 49/1026 [00:05<01:54,  8.52it/s, now=None]"
     ]
    },
    {
     "name": "stderr",
     "output_type": "stream",
     "text": [
      "\r",
      "t:   5%|████▍                                                                                       | 50/1026 [00:06<02:17,  7.11it/s, now=None]"
     ]
    },
    {
     "name": "stderr",
     "output_type": "stream",
     "text": [
      "\r",
      "t:   5%|████▌                                                                                       | 51/1026 [00:06<02:11,  7.42it/s, now=None]"
     ]
    },
    {
     "name": "stderr",
     "output_type": "stream",
     "text": [
      "\r",
      "t:   5%|████▋                                                                                       | 52/1026 [00:06<02:03,  7.88it/s, now=None]"
     ]
    },
    {
     "name": "stderr",
     "output_type": "stream",
     "text": [
      "\r",
      "t:   5%|████▊                                                                                       | 53/1026 [00:06<01:58,  8.18it/s, now=None]"
     ]
    },
    {
     "name": "stderr",
     "output_type": "stream",
     "text": [
      "\r",
      "t:   5%|████▊                                                                                       | 54/1026 [00:06<01:58,  8.22it/s, now=None]"
     ]
    },
    {
     "name": "stderr",
     "output_type": "stream",
     "text": [
      "\r",
      "t:   5%|████▉                                                                                       | 55/1026 [00:06<01:54,  8.48it/s, now=None]"
     ]
    },
    {
     "name": "stderr",
     "output_type": "stream",
     "text": [
      "\r",
      "t:   5%|█████                                                                                       | 56/1026 [00:06<02:15,  7.14it/s, now=None]"
     ]
    },
    {
     "name": "stderr",
     "output_type": "stream",
     "text": [
      "\r",
      "t:   6%|█████                                                                                       | 57/1026 [00:07<02:10,  7.43it/s, now=None]"
     ]
    },
    {
     "name": "stderr",
     "output_type": "stream",
     "text": [
      "\r",
      "t:   6%|█████▏                                                                                      | 58/1026 [00:07<02:03,  7.84it/s, now=None]"
     ]
    },
    {
     "name": "stderr",
     "output_type": "stream",
     "text": [
      "\r",
      "t:   6%|█████▎                                                                                      | 59/1026 [00:07<02:01,  7.96it/s, now=None]"
     ]
    },
    {
     "name": "stderr",
     "output_type": "stream",
     "text": [
      "\r",
      "t:   6%|█████▍                                                                                      | 60/1026 [00:07<01:57,  8.25it/s, now=None]"
     ]
    },
    {
     "name": "stderr",
     "output_type": "stream",
     "text": [
      "\r",
      "t:   6%|█████▌                                                                                      | 62/1026 [00:07<02:06,  7.65it/s, now=None]"
     ]
    },
    {
     "name": "stderr",
     "output_type": "stream",
     "text": [
      "\r",
      "t:   6%|█████▋                                                                                      | 63/1026 [00:07<02:01,  7.93it/s, now=None]"
     ]
    },
    {
     "name": "stderr",
     "output_type": "stream",
     "text": [
      "\r",
      "t:   6%|█████▊                                                                                      | 65/1026 [00:07<01:52,  8.54it/s, now=None]"
     ]
    },
    {
     "name": "stderr",
     "output_type": "stream",
     "text": [
      "\r",
      "t:   6%|█████▉                                                                                      | 66/1026 [00:08<01:52,  8.50it/s, now=None]"
     ]
    },
    {
     "name": "stderr",
     "output_type": "stream",
     "text": [
      "\r",
      "t:   7%|██████                                                                                      | 67/1026 [00:08<01:48,  8.82it/s, now=None]"
     ]
    },
    {
     "name": "stderr",
     "output_type": "stream",
     "text": [
      "\r",
      "t:   7%|██████                                                                                      | 68/1026 [00:08<02:07,  7.51it/s, now=None]"
     ]
    },
    {
     "name": "stderr",
     "output_type": "stream",
     "text": [
      "\r",
      "t:   7%|██████▏                                                                                     | 69/1026 [00:08<02:04,  7.69it/s, now=None]"
     ]
    },
    {
     "name": "stderr",
     "output_type": "stream",
     "text": [
      "\r",
      "t:   7%|██████▎                                                                                     | 70/1026 [00:08<01:58,  8.07it/s, now=None]"
     ]
    },
    {
     "name": "stderr",
     "output_type": "stream",
     "text": [
      "\r",
      "t:   7%|██████▎                                                                                     | 71/1026 [00:08<01:57,  8.12it/s, now=None]"
     ]
    },
    {
     "name": "stderr",
     "output_type": "stream",
     "text": [
      "\r",
      "t:   7%|██████▍                                                                                     | 72/1026 [00:08<01:54,  8.31it/s, now=None]"
     ]
    },
    {
     "name": "stderr",
     "output_type": "stream",
     "text": [
      "\r",
      "t:   7%|██████▌                                                                                     | 73/1026 [00:08<01:51,  8.55it/s, now=None]"
     ]
    },
    {
     "name": "stderr",
     "output_type": "stream",
     "text": [
      "\r",
      "t:   7%|██████▋                                                                                     | 74/1026 [00:09<02:11,  7.23it/s, now=None]"
     ]
    },
    {
     "name": "stderr",
     "output_type": "stream",
     "text": [
      "\r",
      "t:   7%|██████▋                                                                                     | 75/1026 [00:09<02:06,  7.50it/s, now=None]"
     ]
    },
    {
     "name": "stderr",
     "output_type": "stream",
     "text": [
      "\r",
      "t:   7%|██████▊                                                                                     | 76/1026 [00:09<01:59,  7.95it/s, now=None]"
     ]
    },
    {
     "name": "stderr",
     "output_type": "stream",
     "text": [
      "\r",
      "t:   8%|██████▉                                                                                     | 77/1026 [00:09<01:57,  8.05it/s, now=None]"
     ]
    },
    {
     "name": "stderr",
     "output_type": "stream",
     "text": [
      "\r",
      "t:   8%|██████▉                                                                                     | 78/1026 [00:09<01:56,  8.11it/s, now=None]"
     ]
    },
    {
     "name": "stderr",
     "output_type": "stream",
     "text": [
      "\r",
      "t:   8%|███████                                                                                     | 79/1026 [00:09<01:52,  8.42it/s, now=None]"
     ]
    },
    {
     "name": "stderr",
     "output_type": "stream",
     "text": [
      "\r",
      "t:   8%|███████▏                                                                                    | 80/1026 [00:09<02:12,  7.13it/s, now=None]"
     ]
    },
    {
     "name": "stderr",
     "output_type": "stream",
     "text": [
      "\r",
      "t:   8%|███████▎                                                                                    | 81/1026 [00:10<02:03,  7.64it/s, now=None]"
     ]
    },
    {
     "name": "stderr",
     "output_type": "stream",
     "text": [
      "\r",
      "t:   8%|███████▎                                                                                    | 82/1026 [00:10<01:59,  7.92it/s, now=None]"
     ]
    },
    {
     "name": "stderr",
     "output_type": "stream",
     "text": [
      "\r",
      "t:   8%|███████▍                                                                                    | 83/1026 [00:10<01:57,  8.02it/s, now=None]"
     ]
    },
    {
     "name": "stderr",
     "output_type": "stream",
     "text": [
      "\r",
      "t:   8%|███████▌                                                                                    | 84/1026 [00:10<01:56,  8.09it/s, now=None]"
     ]
    },
    {
     "name": "stderr",
     "output_type": "stream",
     "text": [
      "\r",
      "t:   8%|███████▌                                                                                    | 85/1026 [00:10<01:51,  8.41it/s, now=None]"
     ]
    },
    {
     "name": "stderr",
     "output_type": "stream",
     "text": [
      "\r",
      "t:   8%|███████▋                                                                                    | 86/1026 [00:10<02:12,  7.10it/s, now=None]"
     ]
    },
    {
     "name": "stderr",
     "output_type": "stream",
     "text": [
      "\r",
      "t:   8%|███████▊                                                                                    | 87/1026 [00:10<02:01,  7.71it/s, now=None]"
     ]
    },
    {
     "name": "stderr",
     "output_type": "stream",
     "text": [
      "\r",
      "t:   9%|███████▉                                                                                    | 89/1026 [00:10<01:50,  8.46it/s, now=None]"
     ]
    },
    {
     "name": "stderr",
     "output_type": "stream",
     "text": [
      "\r",
      "t:   9%|████████                                                                                    | 90/1026 [00:11<01:50,  8.43it/s, now=None]"
     ]
    },
    {
     "name": "stderr",
     "output_type": "stream",
     "text": [
      "\r",
      "t:   9%|████████▏                                                                                   | 91/1026 [00:11<01:48,  8.65it/s, now=None]"
     ]
    },
    {
     "name": "stderr",
     "output_type": "stream",
     "text": [
      "\r",
      "t:   9%|████████▏                                                                                   | 92/1026 [00:11<02:07,  7.34it/s, now=None]"
     ]
    },
    {
     "name": "stderr",
     "output_type": "stream",
     "text": [
      "\r",
      "t:   9%|████████▎                                                                                   | 93/1026 [00:11<02:00,  7.72it/s, now=None]"
     ]
    },
    {
     "name": "stderr",
     "output_type": "stream",
     "text": [
      "\r",
      "t:   9%|████████▌                                                                                   | 95/1026 [00:11<01:50,  8.44it/s, now=None]"
     ]
    },
    {
     "name": "stderr",
     "output_type": "stream",
     "text": [
      "\r",
      "t:   9%|████████▌                                                                                   | 96/1026 [00:11<01:50,  8.43it/s, now=None]"
     ]
    },
    {
     "name": "stderr",
     "output_type": "stream",
     "text": [
      "\r",
      "t:   9%|████████▋                                                                                   | 97/1026 [00:11<01:47,  8.64it/s, now=None]"
     ]
    },
    {
     "name": "stderr",
     "output_type": "stream",
     "text": [
      "\r",
      "t:  10%|████████▊                                                                                   | 98/1026 [00:12<02:05,  7.38it/s, now=None]"
     ]
    },
    {
     "name": "stderr",
     "output_type": "stream",
     "text": [
      "\r",
      "t:  10%|████████▉                                                                                   | 99/1026 [00:12<01:59,  7.74it/s, now=None]"
     ]
    },
    {
     "name": "stderr",
     "output_type": "stream",
     "text": [
      "\r",
      "t:  10%|████████▉                                                                                  | 101/1026 [00:12<01:51,  8.32it/s, now=None]"
     ]
    },
    {
     "name": "stderr",
     "output_type": "stream",
     "text": [
      "\r",
      "t:  10%|█████████                                                                                  | 102/1026 [00:12<01:49,  8.47it/s, now=None]"
     ]
    },
    {
     "name": "stderr",
     "output_type": "stream",
     "text": [
      "\r",
      "t:  10%|█████████▏                                                                                 | 103/1026 [00:12<01:46,  8.66it/s, now=None]"
     ]
    },
    {
     "name": "stderr",
     "output_type": "stream",
     "text": [
      "\r",
      "t:  10%|█████████▏                                                                                 | 104/1026 [00:12<02:05,  7.32it/s, now=None]"
     ]
    },
    {
     "name": "stderr",
     "output_type": "stream",
     "text": [
      "\r",
      "t:  10%|█████████▎                                                                                 | 105/1026 [00:13<02:02,  7.55it/s, now=None]"
     ]
    },
    {
     "name": "stderr",
     "output_type": "stream",
     "text": [
      "\r",
      "t:  10%|█████████▍                                                                                 | 106/1026 [00:13<01:56,  7.93it/s, now=None]"
     ]
    },
    {
     "name": "stderr",
     "output_type": "stream",
     "text": [
      "\r",
      "t:  10%|█████████▍                                                                                 | 107/1026 [00:13<01:54,  8.02it/s, now=None]"
     ]
    },
    {
     "name": "stderr",
     "output_type": "stream",
     "text": [
      "\r",
      "t:  11%|█████████▌                                                                                 | 108/1026 [00:13<01:53,  8.09it/s, now=None]"
     ]
    },
    {
     "name": "stderr",
     "output_type": "stream",
     "text": [
      "\r",
      "t:  11%|█████████▋                                                                                 | 109/1026 [00:13<01:49,  8.40it/s, now=None]"
     ]
    },
    {
     "name": "stderr",
     "output_type": "stream",
     "text": [
      "\r",
      "t:  11%|█████████▊                                                                                 | 110/1026 [00:13<02:10,  7.03it/s, now=None]"
     ]
    },
    {
     "name": "stderr",
     "output_type": "stream",
     "text": [
      "\r",
      "t:  11%|█████████▊                                                                                 | 111/1026 [00:13<02:04,  7.38it/s, now=None]"
     ]
    },
    {
     "name": "stderr",
     "output_type": "stream",
     "text": [
      "\r",
      "t:  11%|█████████▉                                                                                 | 112/1026 [00:13<01:56,  7.85it/s, now=None]"
     ]
    },
    {
     "name": "stderr",
     "output_type": "stream",
     "text": [
      "\r",
      "t:  11%|██████████                                                                                 | 113/1026 [00:14<01:53,  8.02it/s, now=None]"
     ]
    },
    {
     "name": "stderr",
     "output_type": "stream",
     "text": [
      "\r",
      "t:  11%|██████████                                                                                 | 114/1026 [00:14<01:52,  8.10it/s, now=None]"
     ]
    },
    {
     "name": "stderr",
     "output_type": "stream",
     "text": [
      "\r",
      "t:  11%|██████████▎                                                                                | 116/1026 [00:14<02:00,  7.55it/s, now=None]"
     ]
    },
    {
     "name": "stderr",
     "output_type": "stream",
     "text": [
      "\r",
      "t:  11%|██████████▍                                                                                | 117/1026 [00:14<01:55,  7.85it/s, now=None]"
     ]
    },
    {
     "name": "stderr",
     "output_type": "stream",
     "text": [
      "\r",
      "t:  12%|██████████▍                                                                                | 118/1026 [00:14<01:50,  8.19it/s, now=None]"
     ]
    },
    {
     "name": "stderr",
     "output_type": "stream",
     "text": [
      "\r",
      "t:  12%|██████████▌                                                                                | 119/1026 [00:14<01:48,  8.38it/s, now=None]"
     ]
    },
    {
     "name": "stderr",
     "output_type": "stream",
     "text": [
      "\r",
      "t:  12%|██████████▋                                                                                | 120/1026 [00:14<01:48,  8.38it/s, now=None]"
     ]
    },
    {
     "name": "stderr",
     "output_type": "stream",
     "text": [
      "\r",
      "t:  12%|██████████▋                                                                                | 121/1026 [00:14<01:44,  8.62it/s, now=None]"
     ]
    },
    {
     "name": "stderr",
     "output_type": "stream",
     "text": [
      "\r",
      "t:  12%|██████████▊                                                                                | 122/1026 [00:15<02:03,  7.29it/s, now=None]"
     ]
    },
    {
     "name": "stderr",
     "output_type": "stream",
     "text": [
      "\r",
      "t:  12%|██████████▉                                                                                | 123/1026 [00:15<01:57,  7.71it/s, now=None]"
     ]
    },
    {
     "name": "stderr",
     "output_type": "stream",
     "text": [
      "\r",
      "t:  12%|██████████▉                                                                                | 124/1026 [00:15<01:52,  8.00it/s, now=None]"
     ]
    },
    {
     "name": "stderr",
     "output_type": "stream",
     "text": [
      "\r",
      "t:  12%|███████████                                                                                | 125/1026 [00:15<01:51,  8.09it/s, now=None]"
     ]
    },
    {
     "name": "stderr",
     "output_type": "stream",
     "text": [
      "\r",
      "t:  12%|███████████▏                                                                               | 126/1026 [00:15<01:49,  8.18it/s, now=None]"
     ]
    },
    {
     "name": "stderr",
     "output_type": "stream",
     "text": [
      "\r",
      "t:  12%|███████████▎                                                                               | 127/1026 [00:15<01:46,  8.48it/s, now=None]"
     ]
    },
    {
     "name": "stderr",
     "output_type": "stream",
     "text": [
      "\r",
      "t:  12%|███████████▎                                                                               | 128/1026 [00:15<02:06,  7.11it/s, now=None]"
     ]
    },
    {
     "name": "stderr",
     "output_type": "stream",
     "text": [
      "\r",
      "t:  13%|███████████▍                                                                               | 129/1026 [00:16<01:58,  7.55it/s, now=None]"
     ]
    },
    {
     "name": "stderr",
     "output_type": "stream",
     "text": [
      "\r",
      "t:  13%|███████████▌                                                                               | 130/1026 [00:16<01:51,  8.02it/s, now=None]"
     ]
    },
    {
     "name": "stderr",
     "output_type": "stream",
     "text": [
      "\r",
      "t:  13%|███████████▌                                                                               | 131/1026 [00:16<01:45,  8.44it/s, now=None]"
     ]
    },
    {
     "name": "stderr",
     "output_type": "stream",
     "text": [
      "\r",
      "t:  13%|███████████▋                                                                               | 132/1026 [00:16<01:44,  8.59it/s, now=None]"
     ]
    },
    {
     "name": "stderr",
     "output_type": "stream",
     "text": [
      "\r",
      "t:  13%|███████████▉                                                                               | 134/1026 [00:16<01:52,  7.90it/s, now=None]"
     ]
    },
    {
     "name": "stderr",
     "output_type": "stream",
     "text": [
      "\r",
      "t:  13%|███████████▉                                                                               | 135/1026 [00:16<01:49,  8.15it/s, now=None]"
     ]
    },
    {
     "name": "stderr",
     "output_type": "stream",
     "text": [
      "\r",
      "t:  13%|████████████                                                                               | 136/1026 [00:16<01:44,  8.55it/s, now=None]"
     ]
    },
    {
     "name": "stderr",
     "output_type": "stream",
     "text": [
      "\r",
      "t:  13%|████████████▏                                                                              | 137/1026 [00:16<01:46,  8.35it/s, now=None]"
     ]
    },
    {
     "name": "stderr",
     "output_type": "stream",
     "text": [
      "\r",
      "t:  13%|████████████▏                                                                              | 138/1026 [00:17<01:44,  8.53it/s, now=None]"
     ]
    },
    {
     "name": "stderr",
     "output_type": "stream",
     "text": [
      "\r",
      "t:  14%|████████████▍                                                                              | 140/1026 [00:17<01:54,  7.77it/s, now=None]"
     ]
    },
    {
     "name": "stderr",
     "output_type": "stream",
     "text": [
      "\r",
      "t:  14%|████████████▌                                                                              | 141/1026 [00:17<01:51,  7.91it/s, now=None]"
     ]
    },
    {
     "name": "stderr",
     "output_type": "stream",
     "text": [
      "\r",
      "t:  14%|████████████▋                                                                              | 143/1026 [00:17<01:45,  8.37it/s, now=None]"
     ]
    },
    {
     "name": "stderr",
     "output_type": "stream",
     "text": [
      "\r",
      "t:  14%|████████████▊                                                                              | 144/1026 [00:17<01:44,  8.47it/s, now=None]"
     ]
    },
    {
     "name": "stderr",
     "output_type": "stream",
     "text": [
      "\r",
      "t:  14%|████████████▉                                                                              | 146/1026 [00:18<01:53,  7.76it/s, now=None]"
     ]
    },
    {
     "name": "stderr",
     "output_type": "stream",
     "text": [
      "\r",
      "t:  14%|█████████████                                                                              | 147/1026 [00:18<01:48,  8.11it/s, now=None]"
     ]
    },
    {
     "name": "stderr",
     "output_type": "stream",
     "text": [
      "\r",
      "t:  14%|█████████████▏                                                                             | 148/1026 [00:18<01:43,  8.49it/s, now=None]"
     ]
    },
    {
     "name": "stderr",
     "output_type": "stream",
     "text": [
      "\r",
      "t:  15%|█████████████▏                                                                             | 149/1026 [00:18<01:43,  8.46it/s, now=None]"
     ]
    },
    {
     "name": "stderr",
     "output_type": "stream",
     "text": [
      "\r",
      "t:  15%|█████████████▎                                                                             | 150/1026 [00:18<01:41,  8.60it/s, now=None]"
     ]
    },
    {
     "name": "stderr",
     "output_type": "stream",
     "text": [
      "\r",
      "t:  15%|█████████████▍                                                                             | 152/1026 [00:18<01:52,  7.76it/s, now=None]"
     ]
    },
    {
     "name": "stderr",
     "output_type": "stream",
     "text": [
      "\r",
      "t:  15%|█████████████▌                                                                             | 153/1026 [00:18<01:51,  7.83it/s, now=None]"
     ]
    },
    {
     "name": "stderr",
     "output_type": "stream",
     "text": [
      "\r",
      "t:  15%|█████████████▋                                                                             | 154/1026 [00:19<01:45,  8.28it/s, now=None]"
     ]
    },
    {
     "name": "stderr",
     "output_type": "stream",
     "text": [
      "\r",
      "t:  15%|█████████████▋                                                                             | 155/1026 [00:19<01:45,  8.27it/s, now=None]"
     ]
    },
    {
     "name": "stderr",
     "output_type": "stream",
     "text": [
      "\r",
      "t:  15%|█████████████▊                                                                             | 156/1026 [00:19<01:46,  8.15it/s, now=None]"
     ]
    },
    {
     "name": "stderr",
     "output_type": "stream",
     "text": [
      "\r",
      "t:  15%|█████████████▉                                                                             | 157/1026 [00:19<01:43,  8.36it/s, now=None]"
     ]
    },
    {
     "name": "stderr",
     "output_type": "stream",
     "text": [
      "\r",
      "t:  15%|██████████████                                                                             | 158/1026 [00:19<02:00,  7.18it/s, now=None]"
     ]
    },
    {
     "name": "stderr",
     "output_type": "stream",
     "text": [
      "\r",
      "t:  15%|██████████████                                                                             | 159/1026 [00:19<01:53,  7.62it/s, now=None]"
     ]
    },
    {
     "name": "stderr",
     "output_type": "stream",
     "text": [
      "\r",
      "t:  16%|██████████████▎                                                                            | 161/1026 [00:19<01:44,  8.26it/s, now=None]"
     ]
    },
    {
     "name": "stderr",
     "output_type": "stream",
     "text": [
      "\r",
      "t:  16%|██████████████▎                                                                            | 162/1026 [00:20<01:44,  8.26it/s, now=None]"
     ]
    },
    {
     "name": "stderr",
     "output_type": "stream",
     "text": [
      "\r",
      "t:  16%|██████████████▍                                                                            | 163/1026 [00:20<01:43,  8.38it/s, now=None]"
     ]
    },
    {
     "name": "stderr",
     "output_type": "stream",
     "text": [
      "\r",
      "t:  16%|██████████████▌                                                                            | 164/1026 [00:20<02:01,  7.11it/s, now=None]"
     ]
    },
    {
     "name": "stderr",
     "output_type": "stream",
     "text": [
      "\r",
      "t:  16%|██████████████▋                                                                            | 165/1026 [00:20<01:56,  7.41it/s, now=None]"
     ]
    },
    {
     "name": "stderr",
     "output_type": "stream",
     "text": [
      "\r",
      "t:  16%|██████████████▋                                                                            | 166/1026 [00:20<01:49,  7.85it/s, now=None]"
     ]
    },
    {
     "name": "stderr",
     "output_type": "stream",
     "text": [
      "\r",
      "t:  16%|██████████████▊                                                                            | 167/1026 [00:20<01:47,  7.97it/s, now=None]"
     ]
    },
    {
     "name": "stderr",
     "output_type": "stream",
     "text": [
      "\r",
      "t:  16%|██████████████▉                                                                            | 168/1026 [00:20<01:44,  8.21it/s, now=None]"
     ]
    },
    {
     "name": "stderr",
     "output_type": "stream",
     "text": [
      "\r",
      "t:  16%|██████████████▉                                                                            | 169/1026 [00:20<01:40,  8.51it/s, now=None]"
     ]
    },
    {
     "name": "stderr",
     "output_type": "stream",
     "text": [
      "\r",
      "t:  17%|███████████████                                                                            | 170/1026 [00:21<01:58,  7.21it/s, now=None]"
     ]
    },
    {
     "name": "stderr",
     "output_type": "stream",
     "text": [
      "\r",
      "t:  17%|███████████████▏                                                                           | 171/1026 [00:21<01:51,  7.67it/s, now=None]"
     ]
    },
    {
     "name": "stderr",
     "output_type": "stream",
     "text": [
      "\r",
      "t:  17%|███████████████▎                                                                           | 172/1026 [00:21<01:45,  8.09it/s, now=None]"
     ]
    },
    {
     "name": "stderr",
     "output_type": "stream",
     "text": [
      "\r",
      "t:  17%|███████████████▎                                                                           | 173/1026 [00:21<01:44,  8.18it/s, now=None]"
     ]
    },
    {
     "name": "stderr",
     "output_type": "stream",
     "text": [
      "\r",
      "t:  17%|███████████████▍                                                                           | 174/1026 [00:21<01:41,  8.41it/s, now=None]"
     ]
    },
    {
     "name": "stderr",
     "output_type": "stream",
     "text": [
      "\r",
      "t:  17%|███████████████▌                                                                           | 175/1026 [00:21<01:38,  8.67it/s, now=None]"
     ]
    },
    {
     "name": "stderr",
     "output_type": "stream",
     "text": [
      "\r",
      "t:  17%|███████████████▌                                                                           | 176/1026 [00:21<01:56,  7.27it/s, now=None]"
     ]
    },
    {
     "name": "stderr",
     "output_type": "stream",
     "text": [
      "\r",
      "t:  17%|███████████████▋                                                                           | 177/1026 [00:22<01:51,  7.64it/s, now=None]"
     ]
    },
    {
     "name": "stderr",
     "output_type": "stream",
     "text": [
      "\r",
      "t:  17%|███████████████▊                                                                           | 178/1026 [00:22<01:44,  8.08it/s, now=None]"
     ]
    },
    {
     "name": "stderr",
     "output_type": "stream",
     "text": [
      "\r",
      "t:  17%|███████████████▉                                                                           | 179/1026 [00:22<01:44,  8.13it/s, now=None]"
     ]
    },
    {
     "name": "stderr",
     "output_type": "stream",
     "text": [
      "\r",
      "t:  18%|███████████████▉                                                                           | 180/1026 [00:22<01:43,  8.17it/s, now=None]"
     ]
    },
    {
     "name": "stderr",
     "output_type": "stream",
     "text": [
      "\r",
      "t:  18%|████████████████▏                                                                          | 182/1026 [00:22<01:51,  7.60it/s, now=None]"
     ]
    },
    {
     "name": "stderr",
     "output_type": "stream",
     "text": [
      "\r",
      "t:  18%|████████████████▏                                                                          | 183/1026 [00:22<01:48,  7.76it/s, now=None]"
     ]
    },
    {
     "name": "stderr",
     "output_type": "stream",
     "text": [
      "\r",
      "t:  18%|████████████████▍                                                                          | 185/1026 [00:22<01:41,  8.31it/s, now=None]"
     ]
    },
    {
     "name": "stderr",
     "output_type": "stream",
     "text": [
      "\r",
      "t:  18%|████████████████▍                                                                          | 186/1026 [00:23<01:41,  8.31it/s, now=None]"
     ]
    },
    {
     "name": "stderr",
     "output_type": "stream",
     "text": [
      "\r",
      "t:  18%|████████████████▌                                                                          | 187/1026 [00:23<01:38,  8.54it/s, now=None]"
     ]
    },
    {
     "name": "stderr",
     "output_type": "stream",
     "text": [
      "\r",
      "t:  18%|████████████████▋                                                                          | 188/1026 [00:23<01:54,  7.33it/s, now=None]"
     ]
    },
    {
     "name": "stderr",
     "output_type": "stream",
     "text": [
      "\r",
      "t:  18%|████████████████▊                                                                          | 189/1026 [00:23<01:48,  7.68it/s, now=None]"
     ]
    },
    {
     "name": "stderr",
     "output_type": "stream",
     "text": [
      "\r",
      "t:  19%|████████████████▉                                                                          | 191/1026 [00:23<01:41,  8.26it/s, now=None]"
     ]
    },
    {
     "name": "stderr",
     "output_type": "stream",
     "text": [
      "\r",
      "t:  19%|█████████████████                                                                          | 192/1026 [00:23<01:40,  8.26it/s, now=None]"
     ]
    },
    {
     "name": "stderr",
     "output_type": "stream",
     "text": [
      "\r",
      "t:  19%|█████████████████                                                                          | 193/1026 [00:23<01:38,  8.48it/s, now=None]"
     ]
    },
    {
     "name": "stderr",
     "output_type": "stream",
     "text": [
      "\r",
      "t:  19%|█████████████████▏                                                                         | 194/1026 [00:24<01:53,  7.31it/s, now=None]"
     ]
    },
    {
     "name": "stderr",
     "output_type": "stream",
     "text": [
      "\r",
      "t:  19%|█████████████████▎                                                                         | 195/1026 [00:24<01:48,  7.69it/s, now=None]"
     ]
    },
    {
     "name": "stderr",
     "output_type": "stream",
     "text": [
      "\r",
      "t:  19%|█████████████████▍                                                                         | 196/1026 [00:24<01:44,  7.95it/s, now=None]"
     ]
    },
    {
     "name": "stderr",
     "output_type": "stream",
     "text": [
      "\r",
      "t:  19%|█████████████████▍                                                                         | 197/1026 [00:24<01:42,  8.07it/s, now=None]"
     ]
    },
    {
     "name": "stderr",
     "output_type": "stream",
     "text": [
      "\r",
      "t:  19%|█████████████████▌                                                                         | 198/1026 [00:24<01:41,  8.15it/s, now=None]"
     ]
    },
    {
     "name": "stderr",
     "output_type": "stream",
     "text": [
      "\r",
      "t:  19%|█████████████████▋                                                                         | 199/1026 [00:24<01:37,  8.46it/s, now=None]"
     ]
    },
    {
     "name": "stderr",
     "output_type": "stream",
     "text": [
      "\r",
      "t:  19%|█████████████████▋                                                                         | 200/1026 [00:24<01:55,  7.17it/s, now=None]"
     ]
    },
    {
     "name": "stderr",
     "output_type": "stream",
     "text": [
      "\r",
      "t:  20%|█████████████████▊                                                                         | 201/1026 [00:25<01:48,  7.57it/s, now=None]"
     ]
    },
    {
     "name": "stderr",
     "output_type": "stream",
     "text": [
      "\r",
      "t:  20%|█████████████████▉                                                                         | 202/1026 [00:25<01:43,  7.99it/s, now=None]"
     ]
    },
    {
     "name": "stderr",
     "output_type": "stream",
     "text": [
      "\r",
      "t:  20%|██████████████████                                                                         | 203/1026 [00:25<01:41,  8.07it/s, now=None]"
     ]
    },
    {
     "name": "stderr",
     "output_type": "stream",
     "text": [
      "\r",
      "t:  20%|██████████████████                                                                         | 204/1026 [00:25<01:38,  8.33it/s, now=None]"
     ]
    },
    {
     "name": "stderr",
     "output_type": "stream",
     "text": [
      "\r",
      "t:  20%|██████████████████▏                                                                        | 205/1026 [00:25<01:33,  8.75it/s, now=None]"
     ]
    },
    {
     "name": "stderr",
     "output_type": "stream",
     "text": [
      "\r",
      "t:  20%|██████████████████▎                                                                        | 206/1026 [00:25<01:51,  7.36it/s, now=None]"
     ]
    },
    {
     "name": "stderr",
     "output_type": "stream",
     "text": [
      "\r",
      "t:  20%|██████████████████▎                                                                        | 207/1026 [00:25<01:45,  7.79it/s, now=None]"
     ]
    },
    {
     "name": "stderr",
     "output_type": "stream",
     "text": [
      "\r",
      "t:  20%|██████████████████▌                                                                        | 209/1026 [00:25<01:35,  8.56it/s, now=None]"
     ]
    },
    {
     "name": "stderr",
     "output_type": "stream",
     "text": [
      "\r",
      "t:  20%|██████████████████▋                                                                        | 210/1026 [00:26<01:36,  8.48it/s, now=None]"
     ]
    },
    {
     "name": "stderr",
     "output_type": "stream",
     "text": [
      "\r",
      "t:  21%|██████████████████▊                                                                        | 212/1026 [00:26<01:42,  7.90it/s, now=None]"
     ]
    },
    {
     "name": "stderr",
     "output_type": "stream",
     "text": [
      "\r",
      "t:  21%|██████████████████▉                                                                        | 213/1026 [00:26<01:39,  8.14it/s, now=None]"
     ]
    },
    {
     "name": "stderr",
     "output_type": "stream",
     "text": [
      "\r",
      "t:  21%|██████████████████▉                                                                        | 214/1026 [00:26<01:35,  8.51it/s, now=None]"
     ]
    },
    {
     "name": "stderr",
     "output_type": "stream",
     "text": [
      "\r",
      "t:  21%|███████████████████                                                                        | 215/1026 [00:26<01:35,  8.46it/s, now=None]"
     ]
    },
    {
     "name": "stderr",
     "output_type": "stream",
     "text": [
      "\r",
      "t:  21%|███████████████████▏                                                                       | 216/1026 [00:26<01:34,  8.55it/s, now=None]"
     ]
    },
    {
     "name": "stderr",
     "output_type": "stream",
     "text": [
      "\r",
      "t:  21%|███████████████████▏                                                                       | 217/1026 [00:26<01:32,  8.74it/s, now=None]"
     ]
    },
    {
     "name": "stderr",
     "output_type": "stream",
     "text": [
      "\r",
      "t:  21%|███████████████████▎                                                                       | 218/1026 [00:27<01:47,  7.50it/s, now=None]"
     ]
    },
    {
     "name": "stderr",
     "output_type": "stream",
     "text": [
      "\r",
      "t:  21%|███████████████████▍                                                                       | 219/1026 [00:27<01:42,  7.88it/s, now=None]"
     ]
    },
    {
     "name": "stderr",
     "output_type": "stream",
     "text": [
      "\r",
      "t:  22%|███████████████████▌                                                                       | 221/1026 [00:27<01:35,  8.40it/s, now=None]"
     ]
    },
    {
     "name": "stderr",
     "output_type": "stream",
     "text": [
      "\r",
      "t:  22%|███████████████████▋                                                                       | 222/1026 [00:27<01:32,  8.69it/s, now=None]"
     ]
    },
    {
     "name": "stderr",
     "output_type": "stream",
     "text": [
      "\r",
      "t:  22%|███████████████████▊                                                                       | 223/1026 [00:27<01:30,  8.83it/s, now=None]"
     ]
    },
    {
     "name": "stderr",
     "output_type": "stream",
     "text": [
      "\r",
      "t:  22%|███████████████████▊                                                                       | 224/1026 [00:27<01:45,  7.61it/s, now=None]"
     ]
    },
    {
     "name": "stderr",
     "output_type": "stream",
     "text": [
      "\r",
      "t:  22%|███████████████████▉                                                                       | 225/1026 [00:27<01:38,  8.10it/s, now=None]"
     ]
    },
    {
     "name": "stderr",
     "output_type": "stream",
     "text": [
      "\r",
      "t:  22%|████████████████████                                                                       | 226/1026 [00:28<01:35,  8.38it/s, now=None]"
     ]
    },
    {
     "name": "stderr",
     "output_type": "stream",
     "text": [
      "\r",
      "t:  22%|████████████████████▏                                                                      | 227/1026 [00:28<01:33,  8.52it/s, now=None]"
     ]
    },
    {
     "name": "stderr",
     "output_type": "stream",
     "text": [
      "\r",
      "t:  22%|████████████████████▏                                                                      | 228/1026 [00:28<01:32,  8.60it/s, now=None]"
     ]
    },
    {
     "name": "stderr",
     "output_type": "stream",
     "text": [
      "\r",
      "t:  22%|████████████████████▎                                                                      | 229/1026 [00:28<01:30,  8.80it/s, now=None]"
     ]
    },
    {
     "name": "stderr",
     "output_type": "stream",
     "text": [
      "\r",
      "t:  22%|████████████████████▍                                                                      | 230/1026 [00:28<01:48,  7.36it/s, now=None]"
     ]
    },
    {
     "name": "stderr",
     "output_type": "stream",
     "text": [
      "\r",
      "t:  23%|████████████████████▍                                                                      | 231/1026 [00:28<01:44,  7.63it/s, now=None]"
     ]
    },
    {
     "name": "stderr",
     "output_type": "stream",
     "text": [
      "\r",
      "t:  23%|████████████████████▋                                                                      | 233/1026 [00:28<01:35,  8.30it/s, now=None]"
     ]
    },
    {
     "name": "stderr",
     "output_type": "stream",
     "text": [
      "\r",
      "t:  23%|████████████████████▊                                                                      | 234/1026 [00:29<01:35,  8.31it/s, now=None]"
     ]
    },
    {
     "name": "stderr",
     "output_type": "stream",
     "text": [
      "\r",
      "t:  23%|████████████████████▊                                                                      | 235/1026 [00:29<01:32,  8.55it/s, now=None]"
     ]
    },
    {
     "name": "stderr",
     "output_type": "stream",
     "text": [
      "\r",
      "t:  23%|████████████████████▉                                                                      | 236/1026 [00:29<01:47,  7.32it/s, now=None]"
     ]
    },
    {
     "name": "stderr",
     "output_type": "stream",
     "text": [
      "\r",
      "t:  23%|█████████████████████                                                                      | 237/1026 [00:29<01:42,  7.71it/s, now=None]"
     ]
    },
    {
     "name": "stderr",
     "output_type": "stream",
     "text": [
      "\r",
      "t:  23%|█████████████████████                                                                      | 238/1026 [00:29<01:37,  8.10it/s, now=None]"
     ]
    },
    {
     "name": "stderr",
     "output_type": "stream",
     "text": [
      "\r",
      "t:  23%|█████████████████████▏                                                                     | 239/1026 [00:29<01:34,  8.32it/s, now=None]"
     ]
    },
    {
     "name": "stderr",
     "output_type": "stream",
     "text": [
      "\r",
      "t:  23%|█████████████████████▎                                                                     | 240/1026 [00:29<01:34,  8.31it/s, now=None]"
     ]
    },
    {
     "name": "stderr",
     "output_type": "stream",
     "text": [
      "\r",
      "t:  23%|█████████████████████▍                                                                     | 241/1026 [00:29<01:31,  8.58it/s, now=None]"
     ]
    },
    {
     "name": "stderr",
     "output_type": "stream",
     "text": [
      "\r",
      "t:  24%|█████████████████████▍                                                                     | 242/1026 [00:30<01:48,  7.25it/s, now=None]"
     ]
    },
    {
     "name": "stderr",
     "output_type": "stream",
     "text": [
      "\r",
      "t:  24%|█████████████████████▌                                                                     | 243/1026 [00:30<01:41,  7.70it/s, now=None]"
     ]
    },
    {
     "name": "stderr",
     "output_type": "stream",
     "text": [
      "\r",
      "t:  24%|█████████████████████▋                                                                     | 244/1026 [00:30<01:36,  8.10it/s, now=None]"
     ]
    },
    {
     "name": "stderr",
     "output_type": "stream",
     "text": [
      "\r",
      "t:  24%|█████████████████████▋                                                                     | 245/1026 [00:30<01:33,  8.34it/s, now=None]"
     ]
    },
    {
     "name": "stderr",
     "output_type": "stream",
     "text": [
      "\r",
      "t:  24%|█████████████████████▊                                                                     | 246/1026 [00:30<01:31,  8.53it/s, now=None]"
     ]
    },
    {
     "name": "stderr",
     "output_type": "stream",
     "text": [
      "\r",
      "t:  24%|█████████████████████▉                                                                     | 247/1026 [00:30<01:29,  8.75it/s, now=None]"
     ]
    },
    {
     "name": "stderr",
     "output_type": "stream",
     "text": [
      "\r",
      "t:  24%|█████████████████████▉                                                                     | 248/1026 [00:30<01:46,  7.28it/s, now=None]"
     ]
    },
    {
     "name": "stderr",
     "output_type": "stream",
     "text": [
      "\r",
      "t:  24%|██████████████████████                                                                     | 249/1026 [00:30<01:42,  7.56it/s, now=None]"
     ]
    },
    {
     "name": "stderr",
     "output_type": "stream",
     "text": [
      "\r",
      "t:  24%|██████████████████████▏                                                                    | 250/1026 [00:31<01:37,  7.99it/s, now=None]"
     ]
    },
    {
     "name": "stderr",
     "output_type": "stream",
     "text": [
      "\r",
      "t:  24%|██████████████████████▎                                                                    | 251/1026 [00:31<01:35,  8.08it/s, now=None]"
     ]
    },
    {
     "name": "stderr",
     "output_type": "stream",
     "text": [
      "\r",
      "t:  25%|██████████████████████▎                                                                    | 252/1026 [00:31<01:34,  8.15it/s, now=None]"
     ]
    },
    {
     "name": "stderr",
     "output_type": "stream",
     "text": [
      "\r",
      "t:  25%|██████████████████████▍                                                                    | 253/1026 [00:31<01:31,  8.48it/s, now=None]"
     ]
    },
    {
     "name": "stderr",
     "output_type": "stream",
     "text": [
      "\r",
      "t:  25%|██████████████████████▌                                                                    | 254/1026 [00:31<01:47,  7.18it/s, now=None]"
     ]
    },
    {
     "name": "stderr",
     "output_type": "stream",
     "text": [
      "\r",
      "t:  25%|██████████████████████▌                                                                    | 255/1026 [00:31<01:40,  7.64it/s, now=None]"
     ]
    },
    {
     "name": "stderr",
     "output_type": "stream",
     "text": [
      "\r",
      "t:  25%|██████████████████████▊                                                                    | 257/1026 [00:31<01:33,  8.24it/s, now=None]"
     ]
    },
    {
     "name": "stderr",
     "output_type": "stream",
     "text": [
      "\r",
      "t:  25%|██████████████████████▉                                                                    | 258/1026 [00:32<01:33,  8.25it/s, now=None]"
     ]
    },
    {
     "name": "stderr",
     "output_type": "stream",
     "text": [
      "\r",
      "t:  25%|██████████████████████▉                                                                    | 259/1026 [00:32<01:30,  8.50it/s, now=None]"
     ]
    },
    {
     "name": "stderr",
     "output_type": "stream",
     "text": [
      "\r",
      "t:  25%|███████████████████████                                                                    | 260/1026 [00:32<01:45,  7.23it/s, now=None]"
     ]
    },
    {
     "name": "stderr",
     "output_type": "stream",
     "text": [
      "\r",
      "t:  25%|███████████████████████▏                                                                   | 261/1026 [00:32<01:40,  7.64it/s, now=None]"
     ]
    },
    {
     "name": "stderr",
     "output_type": "stream",
     "text": [
      "\r",
      "t:  26%|███████████████████████▏                                                                   | 262/1026 [00:32<01:34,  8.05it/s, now=None]"
     ]
    },
    {
     "name": "stderr",
     "output_type": "stream",
     "text": [
      "\r",
      "t:  26%|███████████████████████▎                                                                   | 263/1026 [00:32<01:33,  8.13it/s, now=None]"
     ]
    },
    {
     "name": "stderr",
     "output_type": "stream",
     "text": [
      "\r",
      "t:  26%|███████████████████████▍                                                                   | 264/1026 [00:32<01:33,  8.19it/s, now=None]"
     ]
    },
    {
     "name": "stderr",
     "output_type": "stream",
     "text": [
      "\r",
      "t:  26%|███████████████████████▌                                                                   | 265/1026 [00:32<01:29,  8.50it/s, now=None]"
     ]
    },
    {
     "name": "stderr",
     "output_type": "stream",
     "text": [
      "\r",
      "t:  26%|███████████████████████▌                                                                   | 266/1026 [00:33<01:45,  7.23it/s, now=None]"
     ]
    },
    {
     "name": "stderr",
     "output_type": "stream",
     "text": [
      "\r",
      "t:  26%|███████████████████████▋                                                                   | 267/1026 [00:33<01:38,  7.68it/s, now=None]"
     ]
    },
    {
     "name": "stderr",
     "output_type": "stream",
     "text": [
      "\r",
      "t:  26%|███████████████████████▊                                                                   | 268/1026 [00:33<01:33,  8.13it/s, now=None]"
     ]
    },
    {
     "name": "stderr",
     "output_type": "stream",
     "text": [
      "\r",
      "t:  26%|███████████████████████▊                                                                   | 269/1026 [00:33<01:32,  8.21it/s, now=None]"
     ]
    },
    {
     "name": "stderr",
     "output_type": "stream",
     "text": [
      "\r",
      "t:  26%|███████████████████████▉                                                                   | 270/1026 [00:33<01:31,  8.26it/s, now=None]"
     ]
    },
    {
     "name": "stderr",
     "output_type": "stream",
     "text": [
      "\r",
      "t:  26%|████████████████████████                                                                   | 271/1026 [00:33<01:28,  8.57it/s, now=None]"
     ]
    },
    {
     "name": "stderr",
     "output_type": "stream",
     "text": [
      "\r",
      "t:  27%|████████████████████████                                                                   | 272/1026 [00:33<01:44,  7.22it/s, now=None]"
     ]
    },
    {
     "name": "stderr",
     "output_type": "stream",
     "text": [
      "\r",
      "t:  27%|████████████████████████▏                                                                  | 273/1026 [00:33<01:38,  7.66it/s, now=None]"
     ]
    },
    {
     "name": "stderr",
     "output_type": "stream",
     "text": [
      "\r",
      "t:  27%|████████████████████████▎                                                                  | 274/1026 [00:34<01:33,  8.06it/s, now=None]"
     ]
    },
    {
     "name": "stderr",
     "output_type": "stream",
     "text": [
      "\r",
      "t:  27%|████████████████████████▍                                                                  | 275/1026 [00:34<01:30,  8.28it/s, now=None]"
     ]
    },
    {
     "name": "stderr",
     "output_type": "stream",
     "text": [
      "\r",
      "t:  27%|████████████████████████▍                                                                  | 276/1026 [00:34<01:30,  8.29it/s, now=None]"
     ]
    },
    {
     "name": "stderr",
     "output_type": "stream",
     "text": [
      "\r",
      "t:  27%|████████████████████████▌                                                                  | 277/1026 [00:34<01:27,  8.58it/s, now=None]"
     ]
    },
    {
     "name": "stderr",
     "output_type": "stream",
     "text": [
      "\r",
      "t:  27%|████████████████████████▋                                                                  | 278/1026 [00:34<01:43,  7.23it/s, now=None]"
     ]
    },
    {
     "name": "stderr",
     "output_type": "stream",
     "text": [
      "\r",
      "t:  27%|████████████████████████▋                                                                  | 279/1026 [00:34<01:39,  7.54it/s, now=None]"
     ]
    },
    {
     "name": "stderr",
     "output_type": "stream",
     "text": [
      "\r",
      "t:  27%|████████████████████████▊                                                                  | 280/1026 [00:34<01:33,  7.98it/s, now=None]"
     ]
    },
    {
     "name": "stderr",
     "output_type": "stream",
     "text": [
      "\r",
      "t:  27%|████████████████████████▉                                                                  | 281/1026 [00:34<01:32,  8.08it/s, now=None]"
     ]
    },
    {
     "name": "stderr",
     "output_type": "stream",
     "text": [
      "\r",
      "t:  27%|█████████████████████████                                                                  | 282/1026 [00:35<01:29,  8.32it/s, now=None]"
     ]
    },
    {
     "name": "stderr",
     "output_type": "stream",
     "text": [
      "\r",
      "t:  28%|█████████████████████████▏                                                                 | 284/1026 [00:35<01:37,  7.64it/s, now=None]"
     ]
    },
    {
     "name": "stderr",
     "output_type": "stream",
     "text": [
      "\r",
      "t:  28%|█████████████████████████▎                                                                 | 285/1026 [00:35<01:33,  7.95it/s, now=None]"
     ]
    },
    {
     "name": "stderr",
     "output_type": "stream",
     "text": [
      "\r",
      "t:  28%|█████████████████████████▍                                                                 | 287/1026 [00:35<01:27,  8.42it/s, now=None]"
     ]
    },
    {
     "name": "stderr",
     "output_type": "stream",
     "text": [
      "\r",
      "t:  28%|█████████████████████████▌                                                                 | 288/1026 [00:35<01:27,  8.41it/s, now=None]"
     ]
    },
    {
     "name": "stderr",
     "output_type": "stream",
     "text": [
      "\r",
      "t:  28%|█████████████████████████▋                                                                 | 290/1026 [00:36<01:34,  7.79it/s, now=None]"
     ]
    },
    {
     "name": "stderr",
     "output_type": "stream",
     "text": [
      "\r",
      "t:  28%|█████████████████████████▊                                                                 | 291/1026 [00:36<01:31,  8.02it/s, now=None]"
     ]
    },
    {
     "name": "stderr",
     "output_type": "stream",
     "text": [
      "\r",
      "t:  28%|█████████████████████████▉                                                                 | 292/1026 [00:36<01:28,  8.32it/s, now=None]"
     ]
    },
    {
     "name": "stderr",
     "output_type": "stream",
     "text": [
      "\r",
      "t:  29%|█████████████████████████▉                                                                 | 293/1026 [00:36<01:27,  8.35it/s, now=None]"
     ]
    },
    {
     "name": "stderr",
     "output_type": "stream",
     "text": [
      "\r",
      "t:  29%|██████████████████████████                                                                 | 294/1026 [00:36<01:27,  8.34it/s, now=None]"
     ]
    },
    {
     "name": "stderr",
     "output_type": "stream",
     "text": [
      "\r",
      "t:  29%|██████████████████████████▎                                                                | 296/1026 [00:36<01:34,  7.73it/s, now=None]"
     ]
    },
    {
     "name": "stderr",
     "output_type": "stream",
     "text": [
      "\r",
      "t:  29%|██████████████████████████▎                                                                | 297/1026 [00:36<01:31,  7.97it/s, now=None]"
     ]
    },
    {
     "name": "stderr",
     "output_type": "stream",
     "text": [
      "\r",
      "t:  29%|██████████████████████████▌                                                                | 299/1026 [00:37<01:23,  8.69it/s, now=None]"
     ]
    },
    {
     "name": "stderr",
     "output_type": "stream",
     "text": [
      "\r",
      "t:  29%|██████████████████████████▌                                                                | 300/1026 [00:37<01:21,  8.90it/s, now=None]"
     ]
    },
    {
     "name": "stderr",
     "output_type": "stream",
     "text": [
      "\r",
      "t:  29%|██████████████████████████▋                                                                | 301/1026 [00:37<01:20,  9.01it/s, now=None]"
     ]
    },
    {
     "name": "stderr",
     "output_type": "stream",
     "text": [
      "\r",
      "t:  29%|██████████████████████████▊                                                                | 302/1026 [00:37<01:35,  7.55it/s, now=None]"
     ]
    },
    {
     "name": "stderr",
     "output_type": "stream",
     "text": [
      "\r",
      "t:  30%|██████████████████████████▊                                                                | 303/1026 [00:37<01:31,  7.89it/s, now=None]"
     ]
    },
    {
     "name": "stderr",
     "output_type": "stream",
     "text": [
      "\r",
      "t:  30%|██████████████████████████▉                                                                | 304/1026 [00:37<01:27,  8.25it/s, now=None]"
     ]
    },
    {
     "name": "stderr",
     "output_type": "stream",
     "text": [
      "\r",
      "t:  30%|███████████████████████████                                                                | 305/1026 [00:37<01:25,  8.41it/s, now=None]"
     ]
    },
    {
     "name": "stderr",
     "output_type": "stream",
     "text": [
      "\r",
      "t:  30%|███████████████████████████▏                                                               | 306/1026 [00:37<01:24,  8.53it/s, now=None]"
     ]
    },
    {
     "name": "stderr",
     "output_type": "stream",
     "text": [
      "\r",
      "t:  30%|███████████████████████████▏                                                               | 307/1026 [00:38<01:20,  8.89it/s, now=None]"
     ]
    },
    {
     "name": "stderr",
     "output_type": "stream",
     "text": [
      "\r",
      "t:  30%|███████████████████████████▎                                                               | 308/1026 [00:38<01:37,  7.36it/s, now=None]"
     ]
    },
    {
     "name": "stderr",
     "output_type": "stream",
     "text": [
      "\r",
      "t:  30%|███████████████████████████▍                                                               | 309/1026 [00:38<01:32,  7.76it/s, now=None]"
     ]
    },
    {
     "name": "stderr",
     "output_type": "stream",
     "text": [
      "\r",
      "t:  30%|███████████████████████████▍                                                               | 310/1026 [00:38<01:27,  8.14it/s, now=None]"
     ]
    },
    {
     "name": "stderr",
     "output_type": "stream",
     "text": [
      "\r",
      "t:  30%|███████████████████████████▌                                                               | 311/1026 [00:38<01:23,  8.54it/s, now=None]"
     ]
    },
    {
     "name": "stderr",
     "output_type": "stream",
     "text": [
      "\r",
      "t:  30%|███████████████████████████▋                                                               | 312/1026 [00:38<01:24,  8.49it/s, now=None]"
     ]
    },
    {
     "name": "stderr",
     "output_type": "stream",
     "text": [
      "\r",
      "t:  31%|███████████████████████████▊                                                               | 313/1026 [00:38<01:21,  8.70it/s, now=None]"
     ]
    },
    {
     "name": "stderr",
     "output_type": "stream",
     "text": [
      "\r",
      "t:  31%|███████████████████████████▊                                                               | 314/1026 [00:38<01:37,  7.31it/s, now=None]"
     ]
    },
    {
     "name": "stderr",
     "output_type": "stream",
     "text": [
      "\r",
      "t:  31%|███████████████████████████▉                                                               | 315/1026 [00:39<01:31,  7.75it/s, now=None]"
     ]
    },
    {
     "name": "stderr",
     "output_type": "stream",
     "text": [
      "\r",
      "t:  31%|████████████████████████████                                                               | 317/1026 [00:39<01:24,  8.36it/s, now=None]"
     ]
    },
    {
     "name": "stderr",
     "output_type": "stream",
     "text": [
      "\r",
      "t:  31%|████████████████████████████▏                                                              | 318/1026 [00:39<01:24,  8.36it/s, now=None]"
     ]
    },
    {
     "name": "stderr",
     "output_type": "stream",
     "text": [
      "\r",
      "t:  31%|████████████████████████████▎                                                              | 319/1026 [00:39<01:22,  8.59it/s, now=None]"
     ]
    },
    {
     "name": "stderr",
     "output_type": "stream",
     "text": [
      "\r",
      "t:  31%|████████████████████████████▍                                                              | 320/1026 [00:39<01:34,  7.48it/s, now=None]"
     ]
    },
    {
     "name": "stderr",
     "output_type": "stream",
     "text": [
      "\r",
      "t:  31%|████████████████████████████▍                                                              | 321/1026 [00:39<01:30,  7.82it/s, now=None]"
     ]
    },
    {
     "name": "stderr",
     "output_type": "stream",
     "text": [
      "\r",
      "t:  31%|████████████████████████████▋                                                              | 323/1026 [00:40<01:22,  8.50it/s, now=None]"
     ]
    },
    {
     "name": "stderr",
     "output_type": "stream",
     "text": [
      "\r",
      "t:  32%|████████████████████████████▋                                                              | 324/1026 [00:40<01:23,  8.45it/s, now=None]"
     ]
    },
    {
     "name": "stderr",
     "output_type": "stream",
     "text": [
      "\r",
      "t:  32%|████████████████████████████▊                                                              | 325/1026 [00:40<01:21,  8.63it/s, now=None]"
     ]
    },
    {
     "name": "stderr",
     "output_type": "stream",
     "text": [
      "\r",
      "t:  32%|████████████████████████████▉                                                              | 326/1026 [00:40<01:34,  7.40it/s, now=None]"
     ]
    },
    {
     "name": "stderr",
     "output_type": "stream",
     "text": [
      "\r",
      "t:  32%|█████████████████████████████                                                              | 327/1026 [00:40<01:29,  7.78it/s, now=None]"
     ]
    },
    {
     "name": "stderr",
     "output_type": "stream",
     "text": [
      "\r",
      "t:  32%|█████████████████████████████▏                                                             | 329/1026 [00:40<01:21,  8.50it/s, now=None]"
     ]
    },
    {
     "name": "stderr",
     "output_type": "stream",
     "text": [
      "\r",
      "t:  32%|█████████████████████████████▎                                                             | 330/1026 [00:40<01:20,  8.61it/s, now=None]"
     ]
    },
    {
     "name": "stderr",
     "output_type": "stream",
     "text": [
      "\r",
      "t:  32%|█████████████████████████████▍                                                             | 332/1026 [00:41<01:28,  7.88it/s, now=None]"
     ]
    },
    {
     "name": "stderr",
     "output_type": "stream",
     "text": [
      "\r",
      "t:  32%|█████████████████████████████▌                                                             | 333/1026 [00:41<01:26,  7.97it/s, now=None]"
     ]
    },
    {
     "name": "stderr",
     "output_type": "stream",
     "text": [
      "\r",
      "t:  33%|█████████████████████████████▌                                                             | 334/1026 [00:41<01:23,  8.27it/s, now=None]"
     ]
    },
    {
     "name": "stderr",
     "output_type": "stream",
     "text": [
      "\r",
      "t:  33%|█████████████████████████████▋                                                             | 335/1026 [00:41<01:23,  8.29it/s, now=None]"
     ]
    },
    {
     "name": "stderr",
     "output_type": "stream",
     "text": [
      "\r",
      "t:  33%|█████████████████████████████▊                                                             | 336/1026 [00:41<01:23,  8.30it/s, now=None]"
     ]
    },
    {
     "name": "stderr",
     "output_type": "stream",
     "text": [
      "\r",
      "t:  33%|█████████████████████████████▉                                                             | 337/1026 [00:41<01:19,  8.70it/s, now=None]"
     ]
    },
    {
     "name": "stderr",
     "output_type": "stream",
     "text": [
      "\r",
      "t:  33%|█████████████████████████████▉                                                             | 338/1026 [00:41<01:33,  7.36it/s, now=None]"
     ]
    },
    {
     "name": "stderr",
     "output_type": "stream",
     "text": [
      "\r",
      "t:  33%|██████████████████████████████                                                             | 339/1026 [00:42<01:30,  7.63it/s, now=None]"
     ]
    },
    {
     "name": "stderr",
     "output_type": "stream",
     "text": [
      "\r",
      "t:  33%|██████████████████████████████▏                                                            | 340/1026 [00:42<01:25,  8.05it/s, now=None]"
     ]
    },
    {
     "name": "stderr",
     "output_type": "stream",
     "text": [
      "\r",
      "t:  33%|██████████████████████████████▏                                                            | 341/1026 [00:42<01:24,  8.15it/s, now=None]"
     ]
    },
    {
     "name": "stderr",
     "output_type": "stream",
     "text": [
      "\r",
      "t:  33%|██████████████████████████████▎                                                            | 342/1026 [00:42<01:23,  8.22it/s, now=None]"
     ]
    },
    {
     "name": "stderr",
     "output_type": "stream",
     "text": [
      "\r",
      "t:  34%|██████████████████████████████▌                                                            | 344/1026 [00:42<01:29,  7.60it/s, now=None]"
     ]
    },
    {
     "name": "stderr",
     "output_type": "stream",
     "text": [
      "\r",
      "t:  34%|██████████████████████████████▌                                                            | 345/1026 [00:42<01:27,  7.76it/s, now=None]"
     ]
    },
    {
     "name": "stderr",
     "output_type": "stream",
     "text": [
      "\r",
      "t:  34%|██████████████████████████████▋                                                            | 346/1026 [00:42<01:23,  8.10it/s, now=None]"
     ]
    },
    {
     "name": "stderr",
     "output_type": "stream",
     "text": [
      "\r",
      "t:  34%|██████████████████████████████▊                                                            | 347/1026 [00:43<01:21,  8.31it/s, now=None]"
     ]
    },
    {
     "name": "stderr",
     "output_type": "stream",
     "text": [
      "\r",
      "t:  34%|██████████████████████████████▊                                                            | 348/1026 [00:43<01:19,  8.49it/s, now=None]"
     ]
    },
    {
     "name": "stderr",
     "output_type": "stream",
     "text": [
      "\r",
      "t:  34%|██████████████████████████████▉                                                            | 349/1026 [00:43<01:17,  8.71it/s, now=None]"
     ]
    },
    {
     "name": "stderr",
     "output_type": "stream",
     "text": [
      "\r",
      "t:  34%|███████████████████████████████                                                            | 350/1026 [00:43<01:31,  7.35it/s, now=None]"
     ]
    },
    {
     "name": "stderr",
     "output_type": "stream",
     "text": [
      "\r",
      "t:  34%|███████████████████████████████▏                                                           | 351/1026 [00:43<01:28,  7.62it/s, now=None]"
     ]
    },
    {
     "name": "stderr",
     "output_type": "stream",
     "text": [
      "\r",
      "t:  34%|███████████████████████████████▏                                                           | 352/1026 [00:43<01:23,  8.05it/s, now=None]"
     ]
    },
    {
     "name": "stderr",
     "output_type": "stream",
     "text": [
      "\r",
      "t:  34%|███████████████████████████████▎                                                           | 353/1026 [00:43<01:20,  8.31it/s, now=None]"
     ]
    },
    {
     "name": "stderr",
     "output_type": "stream",
     "text": [
      "\r",
      "t:  35%|███████████████████████████████▍                                                           | 354/1026 [00:43<01:20,  8.32it/s, now=None]"
     ]
    },
    {
     "name": "stderr",
     "output_type": "stream",
     "text": [
      "\r",
      "t:  35%|███████████████████████████████▌                                                           | 356/1026 [00:44<01:29,  7.52it/s, now=None]"
     ]
    },
    {
     "name": "stderr",
     "output_type": "stream",
     "text": [
      "\r",
      "t:  35%|███████████████████████████████▋                                                           | 357/1026 [00:44<01:27,  7.69it/s, now=None]"
     ]
    },
    {
     "name": "stderr",
     "output_type": "stream",
     "text": [
      "\r",
      "t:  35%|███████████████████████████████▊                                                           | 358/1026 [00:44<01:22,  8.06it/s, now=None]"
     ]
    },
    {
     "name": "stderr",
     "output_type": "stream",
     "text": [
      "\r",
      "t:  35%|███████████████████████████████▊                                                           | 359/1026 [00:44<01:21,  8.16it/s, now=None]"
     ]
    },
    {
     "name": "stderr",
     "output_type": "stream",
     "text": [
      "\r",
      "t:  35%|███████████████████████████████▉                                                           | 360/1026 [00:44<01:21,  8.19it/s, now=None]"
     ]
    },
    {
     "name": "stderr",
     "output_type": "stream",
     "text": [
      "\r",
      "t:  35%|████████████████████████████████                                                           | 361/1026 [00:44<01:18,  8.43it/s, now=None]"
     ]
    },
    {
     "name": "stderr",
     "output_type": "stream",
     "text": [
      "\r",
      "t:  35%|████████████████████████████████                                                           | 362/1026 [00:44<01:33,  7.09it/s, now=None]"
     ]
    },
    {
     "name": "stderr",
     "output_type": "stream",
     "text": [
      "\r",
      "t:  35%|████████████████████████████████▏                                                          | 363/1026 [00:45<01:27,  7.55it/s, now=None]"
     ]
    },
    {
     "name": "stderr",
     "output_type": "stream",
     "text": [
      "\r",
      "t:  35%|████████████████████████████████▎                                                          | 364/1026 [00:45<01:22,  7.99it/s, now=None]"
     ]
    },
    {
     "name": "stderr",
     "output_type": "stream",
     "text": [
      "\r",
      "t:  36%|████████████████████████████████▎                                                          | 365/1026 [00:45<01:21,  8.15it/s, now=None]"
     ]
    },
    {
     "name": "stderr",
     "output_type": "stream",
     "text": [
      "\r",
      "t:  36%|████████████████████████████████▍                                                          | 366/1026 [00:45<01:20,  8.21it/s, now=None]"
     ]
    },
    {
     "name": "stderr",
     "output_type": "stream",
     "text": [
      "\r",
      "t:  36%|████████████████████████████████▌                                                          | 367/1026 [00:45<01:17,  8.54it/s, now=None]"
     ]
    },
    {
     "name": "stderr",
     "output_type": "stream",
     "text": [
      "\r",
      "t:  36%|████████████████████████████████▋                                                          | 368/1026 [00:45<01:32,  7.13it/s, now=None]"
     ]
    },
    {
     "name": "stderr",
     "output_type": "stream",
     "text": [
      "\r",
      "t:  36%|████████████████████████████████▋                                                          | 369/1026 [00:45<01:26,  7.58it/s, now=None]"
     ]
    },
    {
     "name": "stderr",
     "output_type": "stream",
     "text": [
      "\r",
      "t:  36%|████████████████████████████████▉                                                          | 371/1026 [00:46<01:18,  8.34it/s, now=None]"
     ]
    },
    {
     "name": "stderr",
     "output_type": "stream",
     "text": [
      "\r",
      "t:  36%|████████████████████████████████▉                                                          | 372/1026 [00:46<01:17,  8.46it/s, now=None]"
     ]
    },
    {
     "name": "stderr",
     "output_type": "stream",
     "text": [
      "\r",
      "t:  36%|█████████████████████████████████▏                                                         | 374/1026 [00:46<01:23,  7.80it/s, now=None]"
     ]
    },
    {
     "name": "stderr",
     "output_type": "stream",
     "text": [
      "\r",
      "t:  37%|█████████████████████████████████▎                                                         | 375/1026 [00:46<01:20,  8.04it/s, now=None]"
     ]
    },
    {
     "name": "stderr",
     "output_type": "stream",
     "text": [
      "\r",
      "t:  37%|█████████████████████████████████▎                                                         | 376/1026 [00:46<01:17,  8.33it/s, now=None]"
     ]
    },
    {
     "name": "stderr",
     "output_type": "stream",
     "text": [
      "\r",
      "t:  37%|█████████████████████████████████▍                                                         | 377/1026 [00:46<01:16,  8.50it/s, now=None]"
     ]
    },
    {
     "name": "stderr",
     "output_type": "stream",
     "text": [
      "\r",
      "t:  37%|█████████████████████████████████▌                                                         | 378/1026 [00:46<01:16,  8.46it/s, now=None]"
     ]
    },
    {
     "name": "stderr",
     "output_type": "stream",
     "text": [
      "\r",
      "t:  37%|█████████████████████████████████▌                                                         | 379/1026 [00:46<01:14,  8.66it/s, now=None]"
     ]
    },
    {
     "name": "stderr",
     "output_type": "stream",
     "text": [
      "\r",
      "t:  37%|█████████████████████████████████▋                                                         | 380/1026 [00:47<01:28,  7.29it/s, now=None]"
     ]
    },
    {
     "name": "stderr",
     "output_type": "stream",
     "text": [
      "\r",
      "t:  37%|█████████████████████████████████▊                                                         | 381/1026 [00:47<01:25,  7.56it/s, now=None]"
     ]
    },
    {
     "name": "stderr",
     "output_type": "stream",
     "text": [
      "\r",
      "t:  37%|█████████████████████████████████▉                                                         | 383/1026 [00:47<01:17,  8.26it/s, now=None]"
     ]
    },
    {
     "name": "stderr",
     "output_type": "stream",
     "text": [
      "\r",
      "t:  37%|██████████████████████████████████                                                         | 384/1026 [00:47<01:16,  8.40it/s, now=None]"
     ]
    },
    {
     "name": "stderr",
     "output_type": "stream",
     "text": [
      "\r",
      "t:  38%|██████████████████████████████████▏                                                        | 385/1026 [00:47<01:14,  8.62it/s, now=None]"
     ]
    },
    {
     "name": "stderr",
     "output_type": "stream",
     "text": [
      "\r",
      "t:  38%|██████████████████████████████████▏                                                        | 386/1026 [00:47<01:26,  7.41it/s, now=None]"
     ]
    },
    {
     "name": "stderr",
     "output_type": "stream",
     "text": [
      "\r",
      "t:  38%|██████████████████████████████████▎                                                        | 387/1026 [00:48<01:21,  7.80it/s, now=None]"
     ]
    },
    {
     "name": "stderr",
     "output_type": "stream",
     "text": [
      "\r",
      "t:  38%|██████████████████████████████████▌                                                        | 389/1026 [00:48<01:16,  8.34it/s, now=None]"
     ]
    },
    {
     "name": "stderr",
     "output_type": "stream",
     "text": [
      "\r",
      "t:  38%|██████████████████████████████████▌                                                        | 390/1026 [00:48<01:13,  8.61it/s, now=None]"
     ]
    },
    {
     "name": "stderr",
     "output_type": "stream",
     "text": [
      "\r",
      "t:  38%|██████████████████████████████████▋                                                        | 391/1026 [00:48<01:12,  8.78it/s, now=None]"
     ]
    },
    {
     "name": "stderr",
     "output_type": "stream",
     "text": [
      "\r",
      "t:  38%|██████████████████████████████████▊                                                        | 392/1026 [00:48<01:24,  7.48it/s, now=None]"
     ]
    },
    {
     "name": "stderr",
     "output_type": "stream",
     "text": [
      "\r",
      "t:  38%|██████████████████████████████████▊                                                        | 393/1026 [00:48<01:22,  7.68it/s, now=None]"
     ]
    },
    {
     "name": "stderr",
     "output_type": "stream",
     "text": [
      "\r",
      "t:  38%|██████████████████████████████████▉                                                        | 394/1026 [00:48<01:18,  8.03it/s, now=None]"
     ]
    },
    {
     "name": "stderr",
     "output_type": "stream",
     "text": [
      "\r",
      "t:  38%|███████████████████████████████████                                                        | 395/1026 [00:49<01:17,  8.12it/s, now=None]"
     ]
    },
    {
     "name": "stderr",
     "output_type": "stream",
     "text": [
      "\r",
      "t:  39%|███████████████████████████████████                                                        | 396/1026 [00:49<01:15,  8.36it/s, now=None]"
     ]
    },
    {
     "name": "stderr",
     "output_type": "stream",
     "text": [
      "\r",
      "t:  39%|███████████████████████████████████▏                                                       | 397/1026 [00:49<01:12,  8.62it/s, now=None]"
     ]
    },
    {
     "name": "stderr",
     "output_type": "stream",
     "text": [
      "\r",
      "t:  39%|███████████████████████████████████▎                                                       | 398/1026 [00:49<01:25,  7.31it/s, now=None]"
     ]
    },
    {
     "name": "stderr",
     "output_type": "stream",
     "text": [
      "\r",
      "t:  39%|███████████████████████████████████▍                                                       | 399/1026 [00:49<01:19,  7.88it/s, now=None]"
     ]
    },
    {
     "name": "stderr",
     "output_type": "stream",
     "text": [
      "\r",
      "t:  39%|███████████████████████████████████▌                                                       | 401/1026 [00:49<01:12,  8.57it/s, now=None]"
     ]
    },
    {
     "name": "stderr",
     "output_type": "stream",
     "text": [
      "\r",
      "t:  39%|███████████████████████████████████▋                                                       | 402/1026 [00:49<01:13,  8.54it/s, now=None]"
     ]
    },
    {
     "name": "stderr",
     "output_type": "stream",
     "text": [
      "\r",
      "t:  39%|███████████████████████████████████▊                                                       | 404/1026 [00:50<01:19,  7.78it/s, now=None]"
     ]
    },
    {
     "name": "stderr",
     "output_type": "stream",
     "text": [
      "\r",
      "t:  39%|███████████████████████████████████▉                                                       | 405/1026 [00:50<01:18,  7.87it/s, now=None]"
     ]
    },
    {
     "name": "stderr",
     "output_type": "stream",
     "text": [
      "\r",
      "t:  40%|████████████████████████████████████                                                       | 406/1026 [00:50<01:15,  8.16it/s, now=None]"
     ]
    },
    {
     "name": "stderr",
     "output_type": "stream",
     "text": [
      "\r",
      "t:  40%|████████████████████████████████████                                                       | 407/1026 [00:50<01:16,  8.14it/s, now=None]"
     ]
    },
    {
     "name": "stderr",
     "output_type": "stream",
     "text": [
      "\r",
      "t:  40%|████████████████████████████████████▏                                                      | 408/1026 [00:50<01:15,  8.18it/s, now=None]"
     ]
    },
    {
     "name": "stderr",
     "output_type": "stream",
     "text": [
      "\r",
      "t:  40%|████████████████████████████████████▎                                                      | 409/1026 [00:50<01:13,  8.45it/s, now=None]"
     ]
    },
    {
     "name": "stderr",
     "output_type": "stream",
     "text": [
      "\r",
      "t:  40%|████████████████████████████████████▎                                                      | 410/1026 [00:50<01:25,  7.24it/s, now=None]"
     ]
    },
    {
     "name": "stderr",
     "output_type": "stream",
     "text": [
      "\r",
      "t:  40%|████████████████████████████████████▍                                                      | 411/1026 [00:51<01:18,  7.82it/s, now=None]"
     ]
    },
    {
     "name": "stderr",
     "output_type": "stream",
     "text": [
      "\r",
      "t:  40%|████████████████████████████████████▌                                                      | 412/1026 [00:51<01:15,  8.18it/s, now=None]"
     ]
    },
    {
     "name": "stderr",
     "output_type": "stream",
     "text": [
      "\r",
      "t:  40%|████████████████████████████████████▋                                                      | 413/1026 [00:51<01:12,  8.43it/s, now=None]"
     ]
    },
    {
     "name": "stderr",
     "output_type": "stream",
     "text": [
      "\r",
      "t:  40%|████████████████████████████████████▋                                                      | 414/1026 [00:51<01:12,  8.42it/s, now=None]"
     ]
    },
    {
     "name": "stderr",
     "output_type": "stream",
     "text": [
      "\r",
      "t:  40%|████████████████████████████████████▊                                                      | 415/1026 [00:51<01:10,  8.68it/s, now=None]"
     ]
    },
    {
     "name": "stderr",
     "output_type": "stream",
     "text": [
      "\r",
      "t:  41%|████████████████████████████████████▉                                                      | 416/1026 [00:51<01:23,  7.30it/s, now=None]"
     ]
    },
    {
     "name": "stderr",
     "output_type": "stream",
     "text": [
      "\r",
      "t:  41%|████████████████████████████████████▉                                                      | 417/1026 [00:51<01:18,  7.75it/s, now=None]"
     ]
    },
    {
     "name": "stderr",
     "output_type": "stream",
     "text": [
      "\r",
      "t:  41%|█████████████████████████████████████                                                      | 418/1026 [00:51<01:14,  8.15it/s, now=None]"
     ]
    },
    {
     "name": "stderr",
     "output_type": "stream",
     "text": [
      "\r",
      "t:  41%|█████████████████████████████████████▏                                                     | 419/1026 [00:51<01:14,  8.20it/s, now=None]"
     ]
    },
    {
     "name": "stderr",
     "output_type": "stream",
     "text": [
      "\r",
      "t:  41%|█████████████████████████████████████▎                                                     | 420/1026 [00:52<01:13,  8.24it/s, now=None]"
     ]
    },
    {
     "name": "stderr",
     "output_type": "stream",
     "text": [
      "\r",
      "t:  41%|█████████████████████████████████████▍                                                     | 422/1026 [00:52<01:18,  7.72it/s, now=None]"
     ]
    },
    {
     "name": "stderr",
     "output_type": "stream",
     "text": [
      "\r",
      "t:  41%|█████████████████████████████████████▌                                                     | 423/1026 [00:52<01:15,  7.98it/s, now=None]"
     ]
    },
    {
     "name": "stderr",
     "output_type": "stream",
     "text": [
      "\r",
      "t:  41%|█████████████████████████████████████▌                                                     | 424/1026 [00:52<01:12,  8.31it/s, now=None]"
     ]
    },
    {
     "name": "stderr",
     "output_type": "stream",
     "text": [
      "\r",
      "t:  41%|█████████████████████████████████████▋                                                     | 425/1026 [00:52<01:12,  8.33it/s, now=None]"
     ]
    },
    {
     "name": "stderr",
     "output_type": "stream",
     "text": [
      "\r",
      "t:  42%|█████████████████████████████████████▊                                                     | 426/1026 [00:52<01:12,  8.33it/s, now=None]"
     ]
    },
    {
     "name": "stderr",
     "output_type": "stream",
     "text": [
      "\r",
      "t:  42%|█████████████████████████████████████▊                                                     | 427/1026 [00:52<01:09,  8.59it/s, now=None]"
     ]
    },
    {
     "name": "stderr",
     "output_type": "stream",
     "text": [
      "\r",
      "t:  42%|█████████████████████████████████████▉                                                     | 428/1026 [00:53<01:21,  7.30it/s, now=None]"
     ]
    },
    {
     "name": "stderr",
     "output_type": "stream",
     "text": [
      "\r",
      "t:  42%|██████████████████████████████████████                                                     | 429/1026 [00:53<01:18,  7.59it/s, now=None]"
     ]
    },
    {
     "name": "stderr",
     "output_type": "stream",
     "text": [
      "\r",
      "t:  42%|██████████████████████████████████████▏                                                    | 431/1026 [00:53<01:11,  8.38it/s, now=None]"
     ]
    },
    {
     "name": "stderr",
     "output_type": "stream",
     "text": [
      "\r",
      "t:  42%|██████████████████████████████████████▎                                                    | 432/1026 [00:53<01:11,  8.36it/s, now=None]"
     ]
    },
    {
     "name": "stderr",
     "output_type": "stream",
     "text": [
      "\r",
      "t:  42%|██████████████████████████████████████▍                                                    | 433/1026 [00:53<01:08,  8.62it/s, now=None]"
     ]
    },
    {
     "name": "stderr",
     "output_type": "stream",
     "text": [
      "\r",
      "t:  42%|██████████████████████████████████████▍                                                    | 434/1026 [00:53<01:20,  7.36it/s, now=None]"
     ]
    },
    {
     "name": "stderr",
     "output_type": "stream",
     "text": [
      "\r",
      "t:  42%|██████████████████████████████████████▌                                                    | 435/1026 [00:53<01:17,  7.61it/s, now=None]"
     ]
    },
    {
     "name": "stderr",
     "output_type": "stream",
     "text": [
      "\r",
      "t:  42%|██████████████████████████████████████▋                                                    | 436/1026 [00:54<01:13,  8.02it/s, now=None]"
     ]
    },
    {
     "name": "stderr",
     "output_type": "stream",
     "text": [
      "\r",
      "t:  43%|██████████████████████████████████████▊                                                    | 437/1026 [00:54<01:12,  8.12it/s, now=None]"
     ]
    },
    {
     "name": "stderr",
     "output_type": "stream",
     "text": [
      "\r",
      "t:  43%|██████████████████████████████████████▊                                                    | 438/1026 [00:54<01:08,  8.52it/s, now=None]"
     ]
    },
    {
     "name": "stderr",
     "output_type": "stream",
     "text": [
      "\r",
      "t:  43%|██████████████████████████████████████▉                                                    | 439/1026 [00:54<01:06,  8.76it/s, now=None]"
     ]
    },
    {
     "name": "stderr",
     "output_type": "stream",
     "text": [
      "\r",
      "t:  43%|███████████████████████████████████████                                                    | 440/1026 [00:54<01:18,  7.50it/s, now=None]"
     ]
    },
    {
     "name": "stderr",
     "output_type": "stream",
     "text": [
      "\r",
      "t:  43%|███████████████████████████████████████                                                    | 441/1026 [00:54<01:14,  7.88it/s, now=None]"
     ]
    },
    {
     "name": "stderr",
     "output_type": "stream",
     "text": [
      "\r",
      "t:  43%|███████████████████████████████████████▎                                                   | 443/1026 [00:54<01:09,  8.42it/s, now=None]"
     ]
    },
    {
     "name": "stderr",
     "output_type": "stream",
     "text": [
      "\r",
      "t:  43%|███████████████████████████████████████▍                                                   | 444/1026 [00:55<01:09,  8.40it/s, now=None]"
     ]
    },
    {
     "name": "stderr",
     "output_type": "stream",
     "text": [
      "\r",
      "t:  43%|███████████████████████████████████████▌                                                   | 446/1026 [00:55<01:14,  7.76it/s, now=None]"
     ]
    },
    {
     "name": "stderr",
     "output_type": "stream",
     "text": [
      "\r",
      "t:  44%|███████████████████████████████████████▋                                                   | 447/1026 [00:55<01:12,  8.02it/s, now=None]"
     ]
    },
    {
     "name": "stderr",
     "output_type": "stream",
     "text": [
      "\r",
      "t:  44%|███████████████████████████████████████▊                                                   | 449/1026 [00:55<01:08,  8.46it/s, now=None]"
     ]
    },
    {
     "name": "stderr",
     "output_type": "stream",
     "text": [
      "\r",
      "t:  44%|███████████████████████████████████████▉                                                   | 450/1026 [00:55<01:08,  8.43it/s, now=None]"
     ]
    },
    {
     "name": "stderr",
     "output_type": "stream",
     "text": [
      "\r",
      "t:  44%|████████████████████████████████████████                                                   | 451/1026 [00:55<01:06,  8.62it/s, now=None]"
     ]
    },
    {
     "name": "stderr",
     "output_type": "stream",
     "text": [
      "\r",
      "t:  44%|████████████████████████████████████████                                                   | 452/1026 [00:56<01:17,  7.40it/s, now=None]"
     ]
    },
    {
     "name": "stderr",
     "output_type": "stream",
     "text": [
      "\r",
      "t:  44%|████████████████████████████████████████▏                                                  | 453/1026 [00:56<01:14,  7.74it/s, now=None]"
     ]
    },
    {
     "name": "stderr",
     "output_type": "stream",
     "text": [
      "\r",
      "t:  44%|████████████████████████████████████████▎                                                  | 454/1026 [00:56<01:10,  8.11it/s, now=None]"
     ]
    },
    {
     "name": "stderr",
     "output_type": "stream",
     "text": [
      "\r",
      "t:  44%|████████████████████████████████████████▎                                                  | 455/1026 [00:56<01:10,  8.10it/s, now=None]"
     ]
    },
    {
     "name": "stderr",
     "output_type": "stream",
     "text": [
      "\r",
      "t:  44%|████████████████████████████████████████▍                                                  | 456/1026 [00:56<01:08,  8.28it/s, now=None]"
     ]
    },
    {
     "name": "stderr",
     "output_type": "stream",
     "text": [
      "\r",
      "t:  45%|████████████████████████████████████████▌                                                  | 457/1026 [00:56<01:08,  8.33it/s, now=None]"
     ]
    },
    {
     "name": "stderr",
     "output_type": "stream",
     "text": [
      "\r",
      "t:  45%|████████████████████████████████████████▌                                                  | 458/1026 [00:56<01:20,  7.08it/s, now=None]"
     ]
    },
    {
     "name": "stderr",
     "output_type": "stream",
     "text": [
      "\r",
      "t:  45%|████████████████████████████████████████▋                                                  | 459/1026 [00:56<01:15,  7.53it/s, now=None]"
     ]
    },
    {
     "name": "stderr",
     "output_type": "stream",
     "text": [
      "\r",
      "t:  45%|████████████████████████████████████████▊                                                  | 460/1026 [00:57<01:11,  7.93it/s, now=None]"
     ]
    },
    {
     "name": "stderr",
     "output_type": "stream",
     "text": [
      "\r",
      "t:  45%|████████████████████████████████████████▉                                                  | 461/1026 [00:57<01:10,  7.99it/s, now=None]"
     ]
    },
    {
     "name": "stderr",
     "output_type": "stream",
     "text": [
      "\r",
      "t:  45%|████████████████████████████████████████▉                                                  | 462/1026 [00:57<01:10,  8.05it/s, now=None]"
     ]
    },
    {
     "name": "stderr",
     "output_type": "stream",
     "text": [
      "\r",
      "t:  45%|█████████████████████████████████████████                                                  | 463/1026 [00:57<01:07,  8.35it/s, now=None]"
     ]
    },
    {
     "name": "stderr",
     "output_type": "stream",
     "text": [
      "\r",
      "t:  45%|█████████████████████████████████████████▏                                                 | 464/1026 [00:57<01:20,  6.94it/s, now=None]"
     ]
    },
    {
     "name": "stderr",
     "output_type": "stream",
     "text": [
      "\r",
      "t:  45%|█████████████████████████████████████████▏                                                 | 465/1026 [00:57<01:15,  7.39it/s, now=None]"
     ]
    },
    {
     "name": "stderr",
     "output_type": "stream",
     "text": [
      "\r",
      "t:  46%|█████████████████████████████████████████▍                                                 | 467/1026 [00:57<01:07,  8.30it/s, now=None]"
     ]
    },
    {
     "name": "stderr",
     "output_type": "stream",
     "text": [
      "\r",
      "t:  46%|█████████████████████████████████████████▌                                                 | 468/1026 [00:58<01:07,  8.28it/s, now=None]"
     ]
    },
    {
     "name": "stderr",
     "output_type": "stream",
     "text": [
      "\r",
      "t:  46%|█████████████████████████████████████████▌                                                 | 469/1026 [00:58<01:05,  8.48it/s, now=None]"
     ]
    },
    {
     "name": "stderr",
     "output_type": "stream",
     "text": [
      "\r",
      "t:  46%|█████████████████████████████████████████▋                                                 | 470/1026 [00:58<01:16,  7.25it/s, now=None]"
     ]
    },
    {
     "name": "stderr",
     "output_type": "stream",
     "text": [
      "\r",
      "t:  46%|█████████████████████████████████████████▊                                                 | 471/1026 [00:58<01:13,  7.50it/s, now=None]"
     ]
    },
    {
     "name": "stderr",
     "output_type": "stream",
     "text": [
      "\r",
      "t:  46%|█████████████████████████████████████████▊                                                 | 472/1026 [00:58<01:08,  8.07it/s, now=None]"
     ]
    },
    {
     "name": "stderr",
     "output_type": "stream",
     "text": [
      "\r",
      "t:  46%|█████████████████████████████████████████▉                                                 | 473/1026 [00:58<01:06,  8.30it/s, now=None]"
     ]
    },
    {
     "name": "stderr",
     "output_type": "stream",
     "text": [
      "\r",
      "t:  46%|██████████████████████████████████████████                                                 | 474/1026 [00:58<01:06,  8.27it/s, now=None]"
     ]
    },
    {
     "name": "stderr",
     "output_type": "stream",
     "text": [
      "\r",
      "t:  46%|██████████████████████████████████████████▏                                                | 475/1026 [00:58<01:04,  8.48it/s, now=None]"
     ]
    },
    {
     "name": "stderr",
     "output_type": "stream",
     "text": [
      "\r",
      "t:  46%|██████████████████████████████████████████▏                                                | 476/1026 [00:59<01:17,  7.14it/s, now=None]"
     ]
    },
    {
     "name": "stderr",
     "output_type": "stream",
     "text": [
      "\r",
      "t:  46%|██████████████████████████████████████████▎                                                | 477/1026 [00:59<01:13,  7.43it/s, now=None]"
     ]
    },
    {
     "name": "stderr",
     "output_type": "stream",
     "text": [
      "\r",
      "t:  47%|██████████████████████████████████████████▍                                                | 478/1026 [00:59<01:09,  7.87it/s, now=None]"
     ]
    },
    {
     "name": "stderr",
     "output_type": "stream",
     "text": [
      "\r",
      "t:  47%|██████████████████████████████████████████▍                                                | 479/1026 [00:59<01:07,  8.12it/s, now=None]"
     ]
    },
    {
     "name": "stderr",
     "output_type": "stream",
     "text": [
      "\r",
      "t:  47%|██████████████████████████████████████████▌                                                | 480/1026 [00:59<01:05,  8.31it/s, now=None]"
     ]
    },
    {
     "name": "stderr",
     "output_type": "stream",
     "text": [
      "\r",
      "t:  47%|██████████████████████████████████████████▋                                                | 481/1026 [00:59<01:03,  8.58it/s, now=None]"
     ]
    },
    {
     "name": "stderr",
     "output_type": "stream",
     "text": [
      "\r",
      "t:  47%|██████████████████████████████████████████▊                                                | 482/1026 [00:59<01:15,  7.21it/s, now=None]"
     ]
    },
    {
     "name": "stderr",
     "output_type": "stream",
     "text": [
      "\r",
      "t:  47%|██████████████████████████████████████████▊                                                | 483/1026 [01:00<01:12,  7.51it/s, now=None]"
     ]
    },
    {
     "name": "stderr",
     "output_type": "stream",
     "text": [
      "\r",
      "t:  47%|██████████████████████████████████████████▉                                                | 484/1026 [01:00<01:06,  8.10it/s, now=None]"
     ]
    },
    {
     "name": "stderr",
     "output_type": "stream",
     "text": [
      "\r",
      "t:  47%|███████████████████████████████████████████                                                | 485/1026 [01:00<01:06,  8.13it/s, now=None]"
     ]
    },
    {
     "name": "stderr",
     "output_type": "stream",
     "text": [
      "\r",
      "t:  47%|███████████████████████████████████████████                                                | 486/1026 [01:00<01:06,  8.17it/s, now=None]"
     ]
    },
    {
     "name": "stderr",
     "output_type": "stream",
     "text": [
      "\r",
      "t:  47%|███████████████████████████████████████████▏                                               | 487/1026 [01:00<01:03,  8.48it/s, now=None]"
     ]
    },
    {
     "name": "stderr",
     "output_type": "stream",
     "text": [
      "\r",
      "t:  48%|███████████████████████████████████████████▎                                               | 488/1026 [01:00<01:15,  7.15it/s, now=None]"
     ]
    },
    {
     "name": "stderr",
     "output_type": "stream",
     "text": [
      "\r",
      "t:  48%|███████████████████████████████████████████▎                                               | 489/1026 [01:00<01:10,  7.58it/s, now=None]"
     ]
    },
    {
     "name": "stderr",
     "output_type": "stream",
     "text": [
      "\r",
      "t:  48%|███████████████████████████████████████████▌                                               | 491/1026 [01:00<01:04,  8.32it/s, now=None]"
     ]
    },
    {
     "name": "stderr",
     "output_type": "stream",
     "text": [
      "\r",
      "t:  48%|███████████████████████████████████████████▋                                               | 492/1026 [01:01<01:02,  8.61it/s, now=None]"
     ]
    },
    {
     "name": "stderr",
     "output_type": "stream",
     "text": [
      "\r",
      "t:  48%|███████████████████████████████████████████▋                                               | 493/1026 [01:01<01:00,  8.77it/s, now=None]"
     ]
    },
    {
     "name": "stderr",
     "output_type": "stream",
     "text": [
      "\r",
      "t:  48%|███████████████████████████████████████████▊                                               | 494/1026 [01:01<01:11,  7.42it/s, now=None]"
     ]
    },
    {
     "name": "stderr",
     "output_type": "stream",
     "text": [
      "\r",
      "t:  48%|███████████████████████████████████████████▉                                               | 495/1026 [01:01<01:08,  7.78it/s, now=None]"
     ]
    },
    {
     "name": "stderr",
     "output_type": "stream",
     "text": [
      "\r",
      "t:  48%|███████████████████████████████████████████▉                                               | 496/1026 [01:01<01:05,  8.15it/s, now=None]"
     ]
    },
    {
     "name": "stderr",
     "output_type": "stream",
     "text": [
      "\r",
      "t:  48%|████████████████████████████████████████████                                               | 497/1026 [01:01<01:04,  8.18it/s, now=None]"
     ]
    },
    {
     "name": "stderr",
     "output_type": "stream",
     "text": [
      "\r",
      "t:  49%|████████████████████████████████████████████▏                                              | 498/1026 [01:01<01:05,  8.10it/s, now=None]"
     ]
    },
    {
     "name": "stderr",
     "output_type": "stream",
     "text": [
      "\r",
      "t:  49%|████████████████████████████████████████████▎                                              | 499/1026 [01:01<01:01,  8.57it/s, now=None]"
     ]
    },
    {
     "name": "stderr",
     "output_type": "stream",
     "text": [
      "\r",
      "t:  49%|████████████████████████████████████████████▎                                              | 500/1026 [01:02<01:14,  7.09it/s, now=None]"
     ]
    },
    {
     "name": "stderr",
     "output_type": "stream",
     "text": [
      "\r",
      "t:  49%|████████████████████████████████████████████▍                                              | 501/1026 [01:02<01:10,  7.42it/s, now=None]"
     ]
    },
    {
     "name": "stderr",
     "output_type": "stream",
     "text": [
      "\r",
      "t:  49%|████████████████████████████████████████████▌                                              | 502/1026 [01:02<01:05,  8.03it/s, now=None]"
     ]
    },
    {
     "name": "stderr",
     "output_type": "stream",
     "text": [
      "\r",
      "t:  49%|████████████████████████████████████████████▌                                              | 503/1026 [01:02<01:03,  8.28it/s, now=None]"
     ]
    },
    {
     "name": "stderr",
     "output_type": "stream",
     "text": [
      "\r",
      "t:  49%|████████████████████████████████████████████▋                                              | 504/1026 [01:02<01:01,  8.44it/s, now=None]"
     ]
    },
    {
     "name": "stderr",
     "output_type": "stream",
     "text": [
      "\r",
      "t:  49%|████████████████████████████████████████████▊                                              | 505/1026 [01:02<01:00,  8.59it/s, now=None]"
     ]
    },
    {
     "name": "stderr",
     "output_type": "stream",
     "text": [
      "\r",
      "t:  49%|████████████████████████████████████████████▉                                              | 506/1026 [01:02<01:11,  7.32it/s, now=None]"
     ]
    },
    {
     "name": "stderr",
     "output_type": "stream",
     "text": [
      "\r",
      "t:  49%|████████████████████████████████████████████▉                                              | 507/1026 [01:03<01:08,  7.60it/s, now=None]"
     ]
    },
    {
     "name": "stderr",
     "output_type": "stream",
     "text": [
      "\r",
      "t:  50%|█████████████████████████████████████████████▏                                             | 509/1026 [01:03<01:02,  8.24it/s, now=None]"
     ]
    },
    {
     "name": "stderr",
     "output_type": "stream",
     "text": [
      "\r",
      "t:  50%|█████████████████████████████████████████████▏                                             | 510/1026 [01:03<01:02,  8.26it/s, now=None]"
     ]
    },
    {
     "name": "stderr",
     "output_type": "stream",
     "text": [
      "\r",
      "t:  50%|█████████████████████████████████████████████▎                                             | 511/1026 [01:03<01:00,  8.52it/s, now=None]"
     ]
    },
    {
     "name": "stderr",
     "output_type": "stream",
     "text": [
      "\r",
      "t:  50%|█████████████████████████████████████████████▍                                             | 512/1026 [01:03<01:11,  7.17it/s, now=None]"
     ]
    },
    {
     "name": "stderr",
     "output_type": "stream",
     "text": [
      "\r",
      "t:  50%|█████████████████████████████████████████████▌                                             | 513/1026 [01:03<01:06,  7.72it/s, now=None]"
     ]
    },
    {
     "name": "stderr",
     "output_type": "stream",
     "text": [
      "\r",
      "t:  50%|█████████████████████████████████████████████▌                                             | 514/1026 [01:03<01:03,  8.12it/s, now=None]"
     ]
    },
    {
     "name": "stderr",
     "output_type": "stream",
     "text": [
      "\r",
      "t:  50%|█████████████████████████████████████████████▋                                             | 515/1026 [01:03<01:02,  8.18it/s, now=None]"
     ]
    },
    {
     "name": "stderr",
     "output_type": "stream",
     "text": [
      "\r",
      "t:  50%|█████████████████████████████████████████████▊                                             | 516/1026 [01:04<01:00,  8.37it/s, now=None]"
     ]
    },
    {
     "name": "stderr",
     "output_type": "stream",
     "text": [
      "\r",
      "t:  50%|█████████████████████████████████████████████▊                                             | 517/1026 [01:04<00:59,  8.60it/s, now=None]"
     ]
    },
    {
     "name": "stderr",
     "output_type": "stream",
     "text": [
      "\r",
      "t:  50%|█████████████████████████████████████████████▉                                             | 518/1026 [01:04<01:10,  7.23it/s, now=None]"
     ]
    },
    {
     "name": "stderr",
     "output_type": "stream",
     "text": [
      "\r",
      "t:  51%|██████████████████████████████████████████████                                             | 519/1026 [01:04<01:06,  7.68it/s, now=None]"
     ]
    },
    {
     "name": "stderr",
     "output_type": "stream",
     "text": [
      "\r",
      "t:  51%|██████████████████████████████████████████████                                             | 520/1026 [01:04<01:01,  8.25it/s, now=None]"
     ]
    },
    {
     "name": "stderr",
     "output_type": "stream",
     "text": [
      "\r",
      "t:  51%|██████████████████████████████████████████████▏                                            | 521/1026 [01:04<01:00,  8.40it/s, now=None]"
     ]
    },
    {
     "name": "stderr",
     "output_type": "stream",
     "text": [
      "\r",
      "t:  51%|██████████████████████████████████████████████▎                                            | 522/1026 [01:04<01:00,  8.37it/s, now=None]"
     ]
    },
    {
     "name": "stderr",
     "output_type": "stream",
     "text": [
      "\r",
      "t:  51%|██████████████████████████████████████████████▍                                            | 523/1026 [01:04<00:58,  8.61it/s, now=None]"
     ]
    },
    {
     "name": "stderr",
     "output_type": "stream",
     "text": [
      "\r",
      "t:  51%|██████████████████████████████████████████████▍                                            | 524/1026 [01:05<01:09,  7.19it/s, now=None]"
     ]
    },
    {
     "name": "stderr",
     "output_type": "stream",
     "text": [
      "\r",
      "t:  51%|██████████████████████████████████████████████▌                                            | 525/1026 [01:05<01:06,  7.50it/s, now=None]"
     ]
    },
    {
     "name": "stderr",
     "output_type": "stream",
     "text": [
      "\r",
      "t:  51%|██████████████████████████████████████████████▋                                            | 526/1026 [01:05<01:02,  7.96it/s, now=None]"
     ]
    },
    {
     "name": "stderr",
     "output_type": "stream",
     "text": [
      "\r",
      "t:  51%|██████████████████████████████████████████████▋                                            | 527/1026 [01:05<01:01,  8.07it/s, now=None]"
     ]
    },
    {
     "name": "stderr",
     "output_type": "stream",
     "text": [
      "\r",
      "t:  51%|██████████████████████████████████████████████▊                                            | 528/1026 [01:05<01:00,  8.30it/s, now=None]"
     ]
    },
    {
     "name": "stderr",
     "output_type": "stream",
     "text": [
      "\r",
      "t:  52%|██████████████████████████████████████████████▉                                            | 529/1026 [01:05<00:58,  8.53it/s, now=None]"
     ]
    },
    {
     "name": "stderr",
     "output_type": "stream",
     "text": [
      "\r",
      "t:  52%|███████████████████████████████████████████████                                            | 530/1026 [01:05<01:09,  7.18it/s, now=None]"
     ]
    },
    {
     "name": "stderr",
     "output_type": "stream",
     "text": [
      "\r",
      "t:  52%|███████████████████████████████████████████████                                            | 531/1026 [01:06<01:06,  7.48it/s, now=None]"
     ]
    },
    {
     "name": "stderr",
     "output_type": "stream",
     "text": [
      "\r",
      "t:  52%|███████████████████████████████████████████████▏                                           | 532/1026 [01:06<01:02,  7.93it/s, now=None]"
     ]
    },
    {
     "name": "stderr",
     "output_type": "stream",
     "text": [
      "\r",
      "t:  52%|███████████████████████████████████████████████▎                                           | 533/1026 [01:06<01:01,  8.06it/s, now=None]"
     ]
    },
    {
     "name": "stderr",
     "output_type": "stream",
     "text": [
      "\r",
      "t:  52%|███████████████████████████████████████████████▎                                           | 534/1026 [01:06<01:00,  8.16it/s, now=None]"
     ]
    },
    {
     "name": "stderr",
     "output_type": "stream",
     "text": [
      "\r",
      "t:  52%|███████████████████████████████████████████████▍                                           | 535/1026 [01:06<00:57,  8.47it/s, now=None]"
     ]
    },
    {
     "name": "stderr",
     "output_type": "stream",
     "text": [
      "\r",
      "t:  52%|███████████████████████████████████████████████▌                                           | 536/1026 [01:06<01:07,  7.29it/s, now=None]"
     ]
    },
    {
     "name": "stderr",
     "output_type": "stream",
     "text": [
      "\r",
      "t:  52%|███████████████████████████████████████████████▋                                           | 537/1026 [01:06<01:04,  7.56it/s, now=None]"
     ]
    },
    {
     "name": "stderr",
     "output_type": "stream",
     "text": [
      "\r",
      "t:  53%|███████████████████████████████████████████████▊                                           | 539/1026 [01:07<00:59,  8.21it/s, now=None]"
     ]
    },
    {
     "name": "stderr",
     "output_type": "stream",
     "text": [
      "\r",
      "t:  53%|███████████████████████████████████████████████▉                                           | 540/1026 [01:07<00:58,  8.24it/s, now=None]"
     ]
    },
    {
     "name": "stderr",
     "output_type": "stream",
     "text": [
      "\r",
      "t:  53%|████████████████████████████████████████████████                                           | 542/1026 [01:07<01:03,  7.64it/s, now=None]"
     ]
    },
    {
     "name": "stderr",
     "output_type": "stream",
     "text": [
      "\r",
      "t:  53%|████████████████████████████████████████████████▏                                          | 543/1026 [01:07<01:00,  8.02it/s, now=None]"
     ]
    },
    {
     "name": "stderr",
     "output_type": "stream",
     "text": [
      "\r",
      "t:  53%|████████████████████████████████████████████████▎                                          | 545/1026 [01:07<00:56,  8.44it/s, now=None]"
     ]
    },
    {
     "name": "stderr",
     "output_type": "stream",
     "text": [
      "\r",
      "t:  53%|████████████████████████████████████████████████▍                                          | 546/1026 [01:07<00:55,  8.68it/s, now=None]"
     ]
    },
    {
     "name": "stderr",
     "output_type": "stream",
     "text": [
      "\r",
      "t:  53%|████████████████████████████████████████████████▌                                          | 548/1026 [01:08<00:59,  7.99it/s, now=None]"
     ]
    },
    {
     "name": "stderr",
     "output_type": "stream",
     "text": [
      "\r",
      "t:  54%|████████████████████████████████████████████████▋                                          | 549/1026 [01:08<00:58,  8.14it/s, now=None]"
     ]
    },
    {
     "name": "stderr",
     "output_type": "stream",
     "text": [
      "\r",
      "t:  54%|████████████████████████████████████████████████▊                                          | 551/1026 [01:08<00:56,  8.47it/s, now=None]"
     ]
    },
    {
     "name": "stderr",
     "output_type": "stream",
     "text": [
      "\r",
      "t:  54%|████████████████████████████████████████████████▉                                          | 552/1026 [01:08<00:55,  8.52it/s, now=None]"
     ]
    },
    {
     "name": "stderr",
     "output_type": "stream",
     "text": [
      "\r",
      "t:  54%|█████████████████████████████████████████████████                                          | 553/1026 [01:08<00:54,  8.66it/s, now=None]"
     ]
    },
    {
     "name": "stderr",
     "output_type": "stream",
     "text": [
      "\r",
      "t:  54%|█████████████████████████████████████████████████▏                                         | 554/1026 [01:08<01:03,  7.40it/s, now=None]"
     ]
    },
    {
     "name": "stderr",
     "output_type": "stream",
     "text": [
      "\r",
      "t:  54%|█████████████████████████████████████████████████▏                                         | 555/1026 [01:08<01:00,  7.76it/s, now=None]"
     ]
    },
    {
     "name": "stderr",
     "output_type": "stream",
     "text": [
      "\r",
      "t:  54%|█████████████████████████████████████████████████▎                                         | 556/1026 [01:09<00:57,  8.13it/s, now=None]"
     ]
    },
    {
     "name": "stderr",
     "output_type": "stream",
     "text": [
      "\r",
      "t:  54%|█████████████████████████████████████████████████▍                                         | 557/1026 [01:09<00:56,  8.35it/s, now=None]"
     ]
    },
    {
     "name": "stderr",
     "output_type": "stream",
     "text": [
      "\r",
      "t:  54%|█████████████████████████████████████████████████▍                                         | 558/1026 [01:09<00:56,  8.34it/s, now=None]"
     ]
    },
    {
     "name": "stderr",
     "output_type": "stream",
     "text": [
      "\r",
      "t:  55%|█████████████████████████████████████████████████▋                                         | 560/1026 [01:09<01:00,  7.64it/s, now=None]"
     ]
    },
    {
     "name": "stderr",
     "output_type": "stream",
     "text": [
      "\r",
      "t:  55%|█████████████████████████████████████████████████▊                                         | 561/1026 [01:09<00:58,  7.90it/s, now=None]"
     ]
    },
    {
     "name": "stderr",
     "output_type": "stream",
     "text": [
      "\r",
      "t:  55%|█████████████████████████████████████████████████▊                                         | 562/1026 [01:09<00:55,  8.31it/s, now=None]"
     ]
    },
    {
     "name": "stderr",
     "output_type": "stream",
     "text": [
      "\r",
      "t:  55%|█████████████████████████████████████████████████▉                                         | 563/1026 [01:09<00:54,  8.46it/s, now=None]"
     ]
    },
    {
     "name": "stderr",
     "output_type": "stream",
     "text": [
      "\r",
      "t:  55%|██████████████████████████████████████████████████                                         | 564/1026 [01:10<00:54,  8.55it/s, now=None]"
     ]
    },
    {
     "name": "stderr",
     "output_type": "stream",
     "text": [
      "\r",
      "t:  55%|██████████████████████████████████████████████████                                         | 565/1026 [01:10<00:51,  8.92it/s, now=None]"
     ]
    },
    {
     "name": "stderr",
     "output_type": "stream",
     "text": [
      "\r",
      "t:  55%|██████████████████████████████████████████████████▏                                        | 566/1026 [01:10<01:01,  7.50it/s, now=None]"
     ]
    },
    {
     "name": "stderr",
     "output_type": "stream",
     "text": [
      "\r",
      "t:  55%|██████████████████████████████████████████████████▎                                        | 567/1026 [01:10<00:58,  7.86it/s, now=None]"
     ]
    },
    {
     "name": "stderr",
     "output_type": "stream",
     "text": [
      "\r",
      "t:  55%|██████████████████████████████████████████████████▍                                        | 569/1026 [01:10<00:54,  8.37it/s, now=None]"
     ]
    },
    {
     "name": "stderr",
     "output_type": "stream",
     "text": [
      "\r",
      "t:  56%|██████████████████████████████████████████████████▌                                        | 570/1026 [01:10<00:52,  8.63it/s, now=None]"
     ]
    },
    {
     "name": "stderr",
     "output_type": "stream",
     "text": [
      "\r",
      "t:  56%|██████████████████████████████████████████████████▋                                        | 571/1026 [01:10<00:51,  8.78it/s, now=None]"
     ]
    },
    {
     "name": "stderr",
     "output_type": "stream",
     "text": [
      "\r",
      "t:  56%|██████████████████████████████████████████████████▋                                        | 572/1026 [01:11<01:01,  7.39it/s, now=None]"
     ]
    },
    {
     "name": "stderr",
     "output_type": "stream",
     "text": [
      "\r",
      "t:  56%|██████████████████████████████████████████████████▊                                        | 573/1026 [01:11<00:59,  7.61it/s, now=None]"
     ]
    },
    {
     "name": "stderr",
     "output_type": "stream",
     "text": [
      "\r",
      "t:  56%|██████████████████████████████████████████████████▉                                        | 574/1026 [01:11<00:55,  8.14it/s, now=None]"
     ]
    },
    {
     "name": "stderr",
     "output_type": "stream",
     "text": [
      "\r",
      "t:  56%|██████████████████████████████████████████████████▉                                        | 575/1026 [01:11<00:54,  8.33it/s, now=None]"
     ]
    },
    {
     "name": "stderr",
     "output_type": "stream",
     "text": [
      "\r",
      "t:  56%|███████████████████████████████████████████████████                                        | 576/1026 [01:11<00:54,  8.26it/s, now=None]"
     ]
    },
    {
     "name": "stderr",
     "output_type": "stream",
     "text": [
      "\r",
      "t:  56%|███████████████████████████████████████████████████▏                                       | 577/1026 [01:11<00:51,  8.68it/s, now=None]"
     ]
    },
    {
     "name": "stderr",
     "output_type": "stream",
     "text": [
      "\r",
      "t:  56%|███████████████████████████████████████████████████▎                                       | 578/1026 [01:11<01:02,  7.13it/s, now=None]"
     ]
    },
    {
     "name": "stderr",
     "output_type": "stream",
     "text": [
      "\r",
      "t:  56%|███████████████████████████████████████████████████▎                                       | 579/1026 [01:11<00:57,  7.73it/s, now=None]"
     ]
    },
    {
     "name": "stderr",
     "output_type": "stream",
     "text": [
      "\r",
      "t:  57%|███████████████████████████████████████████████████▍                                       | 580/1026 [01:12<00:54,  8.11it/s, now=None]"
     ]
    },
    {
     "name": "stderr",
     "output_type": "stream",
     "text": [
      "\r",
      "t:  57%|███████████████████████████████████████████████████▌                                       | 581/1026 [01:12<00:54,  8.15it/s, now=None]"
     ]
    },
    {
     "name": "stderr",
     "output_type": "stream",
     "text": [
      "\r",
      "t:  57%|███████████████████████████████████████████████████▌                                       | 582/1026 [01:12<00:54,  8.17it/s, now=None]"
     ]
    },
    {
     "name": "stderr",
     "output_type": "stream",
     "text": [
      "\r",
      "t:  57%|███████████████████████████████████████████████████▊                                       | 584/1026 [01:12<00:58,  7.51it/s, now=None]"
     ]
    },
    {
     "name": "stderr",
     "output_type": "stream",
     "text": [
      "\r",
      "t:  57%|███████████████████████████████████████████████████▉                                       | 585/1026 [01:12<00:55,  7.94it/s, now=None]"
     ]
    },
    {
     "name": "stderr",
     "output_type": "stream",
     "text": [
      "\r",
      "t:  57%|███████████████████████████████████████████████████▉                                       | 586/1026 [01:12<00:52,  8.39it/s, now=None]"
     ]
    },
    {
     "name": "stderr",
     "output_type": "stream",
     "text": [
      "\r",
      "t:  57%|████████████████████████████████████████████████████                                       | 587/1026 [01:12<00:52,  8.35it/s, now=None]"
     ]
    },
    {
     "name": "stderr",
     "output_type": "stream",
     "text": [
      "\r",
      "t:  57%|████████████████████████████████████████████████████▏                                      | 588/1026 [01:13<00:51,  8.50it/s, now=None]"
     ]
    },
    {
     "name": "stderr",
     "output_type": "stream",
     "text": [
      "\r",
      "t:  57%|████████████████████████████████████████████████████▏                                      | 589/1026 [01:13<00:50,  8.71it/s, now=None]"
     ]
    },
    {
     "name": "stderr",
     "output_type": "stream",
     "text": [
      "\r",
      "t:  58%|████████████████████████████████████████████████████▎                                      | 590/1026 [01:13<00:58,  7.42it/s, now=None]"
     ]
    },
    {
     "name": "stderr",
     "output_type": "stream",
     "text": [
      "\r",
      "t:  58%|████████████████████████████████████████████████████▍                                      | 591/1026 [01:13<00:55,  7.81it/s, now=None]"
     ]
    },
    {
     "name": "stderr",
     "output_type": "stream",
     "text": [
      "\r",
      "t:  58%|████████████████████████████████████████████████████▌                                      | 592/1026 [01:13<00:53,  8.18it/s, now=None]"
     ]
    },
    {
     "name": "stderr",
     "output_type": "stream",
     "text": [
      "\r",
      "t:  58%|████████████████████████████████████████████████████▌                                      | 593/1026 [01:13<00:51,  8.40it/s, now=None]"
     ]
    },
    {
     "name": "stderr",
     "output_type": "stream",
     "text": [
      "\r",
      "t:  58%|████████████████████████████████████████████████████▋                                      | 594/1026 [01:13<00:51,  8.39it/s, now=None]"
     ]
    },
    {
     "name": "stderr",
     "output_type": "stream",
     "text": [
      "\r",
      "t:  58%|████████████████████████████████████████████████████▊                                      | 596/1026 [01:14<00:55,  7.77it/s, now=None]"
     ]
    },
    {
     "name": "stderr",
     "output_type": "stream",
     "text": [
      "\r",
      "t:  58%|████████████████████████████████████████████████████▉                                      | 597/1026 [01:14<00:53,  8.04it/s, now=None]"
     ]
    },
    {
     "name": "stderr",
     "output_type": "stream",
     "text": [
      "\r",
      "t:  58%|█████████████████████████████████████████████████████▏                                     | 599/1026 [01:14<00:50,  8.44it/s, now=None]"
     ]
    },
    {
     "name": "stderr",
     "output_type": "stream",
     "text": [
      "\r",
      "t:  58%|█████████████████████████████████████████████████████▏                                     | 600/1026 [01:14<00:49,  8.53it/s, now=None]"
     ]
    },
    {
     "name": "stderr",
     "output_type": "stream",
     "text": [
      "\r",
      "t:  59%|█████████████████████████████████████████████████████▎                                     | 601/1026 [01:14<00:49,  8.63it/s, now=None]"
     ]
    },
    {
     "name": "stderr",
     "output_type": "stream",
     "text": [
      "\r",
      "t:  59%|█████████████████████████████████████████████████████▍                                     | 602/1026 [01:14<00:58,  7.21it/s, now=None]"
     ]
    },
    {
     "name": "stderr",
     "output_type": "stream",
     "text": [
      "\r",
      "t:  59%|█████████████████████████████████████████████████████▍                                     | 603/1026 [01:14<00:56,  7.45it/s, now=None]"
     ]
    },
    {
     "name": "stderr",
     "output_type": "stream",
     "text": [
      "\r",
      "t:  59%|█████████████████████████████████████████████████████▋                                     | 605/1026 [01:15<00:51,  8.13it/s, now=None]"
     ]
    },
    {
     "name": "stderr",
     "output_type": "stream",
     "text": [
      "\r",
      "t:  59%|█████████████████████████████████████████████████████▋                                     | 606/1026 [01:15<00:49,  8.46it/s, now=None]"
     ]
    },
    {
     "name": "stderr",
     "output_type": "stream",
     "text": [
      "\r",
      "t:  59%|█████████████████████████████████████████████████████▉                                     | 608/1026 [01:15<00:53,  7.75it/s, now=None]"
     ]
    },
    {
     "name": "stderr",
     "output_type": "stream",
     "text": [
      "\r",
      "t:  59%|██████████████████████████████████████████████████████                                     | 609/1026 [01:15<00:52,  7.97it/s, now=None]"
     ]
    },
    {
     "name": "stderr",
     "output_type": "stream",
     "text": [
      "\r",
      "t:  60%|██████████████████████████████████████████████████████▏                                    | 611/1026 [01:15<00:49,  8.38it/s, now=None]"
     ]
    },
    {
     "name": "stderr",
     "output_type": "stream",
     "text": [
      "\r",
      "t:  60%|██████████████████████████████████████████████████████▎                                    | 612/1026 [01:15<00:49,  8.36it/s, now=None]"
     ]
    },
    {
     "name": "stderr",
     "output_type": "stream",
     "text": [
      "\r",
      "t:  60%|██████████████████████████████████████████████████████▎                                    | 613/1026 [01:16<00:48,  8.55it/s, now=None]"
     ]
    },
    {
     "name": "stderr",
     "output_type": "stream",
     "text": [
      "\r",
      "t:  60%|██████████████████████████████████████████████████████▍                                    | 614/1026 [01:16<00:56,  7.33it/s, now=None]"
     ]
    },
    {
     "name": "stderr",
     "output_type": "stream",
     "text": [
      "\r",
      "t:  60%|██████████████████████████████████████████████████████▌                                    | 615/1026 [01:16<00:54,  7.54it/s, now=None]"
     ]
    },
    {
     "name": "stderr",
     "output_type": "stream",
     "text": [
      "\r",
      "t:  60%|██████████████████████████████████████████████████████▋                                    | 616/1026 [01:16<00:52,  7.81it/s, now=None]"
     ]
    },
    {
     "name": "stderr",
     "output_type": "stream",
     "text": [
      "\r",
      "t:  60%|██████████████████████████████████████████████████████▋                                    | 617/1026 [01:16<00:51,  7.93it/s, now=None]"
     ]
    },
    {
     "name": "stderr",
     "output_type": "stream",
     "text": [
      "\r",
      "t:  60%|██████████████████████████████████████████████████████▊                                    | 618/1026 [01:16<00:49,  8.19it/s, now=None]"
     ]
    },
    {
     "name": "stderr",
     "output_type": "stream",
     "text": [
      "\r",
      "t:  60%|██████████████████████████████████████████████████████▉                                    | 619/1026 [01:16<00:47,  8.49it/s, now=None]"
     ]
    },
    {
     "name": "stderr",
     "output_type": "stream",
     "text": [
      "\r",
      "t:  60%|██████████████████████████████████████████████████████▉                                    | 620/1026 [01:17<00:57,  7.11it/s, now=None]"
     ]
    },
    {
     "name": "stderr",
     "output_type": "stream",
     "text": [
      "\r",
      "t:  61%|███████████████████████████████████████████████████████                                    | 621/1026 [01:17<00:53,  7.55it/s, now=None]"
     ]
    },
    {
     "name": "stderr",
     "output_type": "stream",
     "text": [
      "\r",
      "t:  61%|███████████████████████████████████████████████████████▏                                   | 622/1026 [01:17<00:49,  8.11it/s, now=None]"
     ]
    },
    {
     "name": "stderr",
     "output_type": "stream",
     "text": [
      "\r",
      "t:  61%|███████████████████████████████████████████████████████▎                                   | 623/1026 [01:17<00:49,  8.14it/s, now=None]"
     ]
    },
    {
     "name": "stderr",
     "output_type": "stream",
     "text": [
      "\r",
      "t:  61%|███████████████████████████████████████████████████████▎                                   | 624/1026 [01:17<00:48,  8.36it/s, now=None]"
     ]
    },
    {
     "name": "stderr",
     "output_type": "stream",
     "text": [
      "\r",
      "t:  61%|███████████████████████████████████████████████████████▍                                   | 625/1026 [01:17<00:46,  8.60it/s, now=None]"
     ]
    },
    {
     "name": "stderr",
     "output_type": "stream",
     "text": [
      "\r",
      "t:  61%|███████████████████████████████████████████████████████▌                                   | 626/1026 [01:17<00:55,  7.19it/s, now=None]"
     ]
    },
    {
     "name": "stderr",
     "output_type": "stream",
     "text": [
      "\r",
      "t:  61%|███████████████████████████████████████████████████████▌                                   | 627/1026 [01:17<00:52,  7.62it/s, now=None]"
     ]
    },
    {
     "name": "stderr",
     "output_type": "stream",
     "text": [
      "\r",
      "t:  61%|███████████████████████████████████████████████████████▊                                   | 629/1026 [01:18<00:48,  8.24it/s, now=None]"
     ]
    },
    {
     "name": "stderr",
     "output_type": "stream",
     "text": [
      "\r",
      "t:  61%|███████████████████████████████████████████████████████▉                                   | 630/1026 [01:18<00:48,  8.23it/s, now=None]"
     ]
    },
    {
     "name": "stderr",
     "output_type": "stream",
     "text": [
      "\r",
      "t:  62%|████████████████████████████████████████████████████████                                   | 632/1026 [01:18<00:51,  7.60it/s, now=None]"
     ]
    },
    {
     "name": "stderr",
     "output_type": "stream",
     "text": [
      "\r",
      "t:  62%|████████████████████████████████████████████████████████▏                                  | 633/1026 [01:18<00:50,  7.75it/s, now=None]"
     ]
    },
    {
     "name": "stderr",
     "output_type": "stream",
     "text": [
      "\r",
      "t:  62%|████████████████████████████████████████████████████████▏                                  | 634/1026 [01:18<00:48,  8.06it/s, now=None]"
     ]
    },
    {
     "name": "stderr",
     "output_type": "stream",
     "text": [
      "\r",
      "t:  62%|████████████████████████████████████████████████████████▎                                  | 635/1026 [01:18<00:48,  8.11it/s, now=None]"
     ]
    },
    {
     "name": "stderr",
     "output_type": "stream",
     "text": [
      "\r",
      "t:  62%|████████████████████████████████████████████████████████▍                                  | 636/1026 [01:19<00:46,  8.30it/s, now=None]"
     ]
    },
    {
     "name": "stderr",
     "output_type": "stream",
     "text": [
      "\r",
      "t:  62%|████████████████████████████████████████████████████████▍                                  | 637/1026 [01:19<00:45,  8.54it/s, now=None]"
     ]
    },
    {
     "name": "stderr",
     "output_type": "stream",
     "text": [
      "\r",
      "t:  62%|████████████████████████████████████████████████████████▌                                  | 638/1026 [01:19<00:54,  7.10it/s, now=None]"
     ]
    },
    {
     "name": "stderr",
     "output_type": "stream",
     "text": [
      "\r",
      "t:  62%|████████████████████████████████████████████████████████▋                                  | 639/1026 [01:19<00:51,  7.53it/s, now=None]"
     ]
    },
    {
     "name": "stderr",
     "output_type": "stream",
     "text": [
      "\r",
      "t:  62%|████████████████████████████████████████████████████████▊                                  | 641/1026 [01:19<00:47,  8.18it/s, now=None]"
     ]
    },
    {
     "name": "stderr",
     "output_type": "stream",
     "text": [
      "\r",
      "t:  63%|████████████████████████████████████████████████████████▉                                  | 642/1026 [01:19<00:46,  8.20it/s, now=None]"
     ]
    },
    {
     "name": "stderr",
     "output_type": "stream",
     "text": [
      "\r",
      "t:  63%|█████████████████████████████████████████████████████████                                  | 643/1026 [01:19<00:45,  8.43it/s, now=None]"
     ]
    },
    {
     "name": "stderr",
     "output_type": "stream",
     "text": [
      "\r",
      "t:  63%|█████████████████████████████████████████████████████████                                  | 644/1026 [01:20<00:53,  7.18it/s, now=None]"
     ]
    },
    {
     "name": "stderr",
     "output_type": "stream",
     "text": [
      "\r",
      "t:  63%|█████████████████████████████████████████████████████████▏                                 | 645/1026 [01:20<00:50,  7.56it/s, now=None]"
     ]
    },
    {
     "name": "stderr",
     "output_type": "stream",
     "text": [
      "\r",
      "t:  63%|█████████████████████████████████████████████████████████▎                                 | 646/1026 [01:20<00:46,  8.11it/s, now=None]"
     ]
    },
    {
     "name": "stderr",
     "output_type": "stream",
     "text": [
      "\r",
      "t:  63%|█████████████████████████████████████████████████████████▍                                 | 647/1026 [01:20<00:46,  8.17it/s, now=None]"
     ]
    },
    {
     "name": "stderr",
     "output_type": "stream",
     "text": [
      "\r",
      "t:  63%|█████████████████████████████████████████████████████████▍                                 | 648/1026 [01:20<00:45,  8.36it/s, now=None]"
     ]
    },
    {
     "name": "stderr",
     "output_type": "stream",
     "text": [
      "\r",
      "t:  63%|█████████████████████████████████████████████████████████▌                                 | 649/1026 [01:20<00:43,  8.64it/s, now=None]"
     ]
    },
    {
     "name": "stderr",
     "output_type": "stream",
     "text": [
      "\r",
      "t:  63%|█████████████████████████████████████████████████████████▋                                 | 650/1026 [01:20<00:51,  7.25it/s, now=None]"
     ]
    },
    {
     "name": "stderr",
     "output_type": "stream",
     "text": [
      "\r",
      "t:  63%|█████████████████████████████████████████████████████████▋                                 | 651/1026 [01:20<00:48,  7.70it/s, now=None]"
     ]
    },
    {
     "name": "stderr",
     "output_type": "stream",
     "text": [
      "\r",
      "t:  64%|█████████████████████████████████████████████████████████▊                                 | 652/1026 [01:21<00:46,  8.11it/s, now=None]"
     ]
    },
    {
     "name": "stderr",
     "output_type": "stream",
     "text": [
      "\r",
      "t:  64%|█████████████████████████████████████████████████████████▉                                 | 653/1026 [01:21<00:45,  8.15it/s, now=None]"
     ]
    },
    {
     "name": "stderr",
     "output_type": "stream",
     "text": [
      "\r",
      "t:  64%|██████████████████████████████████████████████████████████                                 | 654/1026 [01:21<00:44,  8.40it/s, now=None]"
     ]
    },
    {
     "name": "stderr",
     "output_type": "stream",
     "text": [
      "\r",
      "t:  64%|██████████████████████████████████████████████████████████▏                                | 656/1026 [01:21<00:48,  7.64it/s, now=None]"
     ]
    },
    {
     "name": "stderr",
     "output_type": "stream",
     "text": [
      "\r",
      "t:  64%|██████████████████████████████████████████████████████████▎                                | 657/1026 [01:21<00:47,  7.81it/s, now=None]"
     ]
    },
    {
     "name": "stderr",
     "output_type": "stream",
     "text": [
      "\r",
      "t:  64%|██████████████████████████████████████████████████████████▍                                | 659/1026 [01:21<00:42,  8.54it/s, now=None]"
     ]
    },
    {
     "name": "stderr",
     "output_type": "stream",
     "text": [
      "\r",
      "t:  64%|██████████████████████████████████████████████████████████▌                                | 660/1026 [01:22<00:43,  8.48it/s, now=None]"
     ]
    },
    {
     "name": "stderr",
     "output_type": "stream",
     "text": [
      "\r",
      "t:  64%|██████████████████████████████████████████████████████████▋                                | 661/1026 [01:22<00:42,  8.68it/s, now=None]"
     ]
    },
    {
     "name": "stderr",
     "output_type": "stream",
     "text": [
      "\r",
      "t:  65%|██████████████████████████████████████████████████████████▋                                | 662/1026 [01:22<00:49,  7.40it/s, now=None]"
     ]
    },
    {
     "name": "stderr",
     "output_type": "stream",
     "text": [
      "\r",
      "t:  65%|██████████████████████████████████████████████████████████▊                                | 663/1026 [01:22<00:46,  7.78it/s, now=None]"
     ]
    },
    {
     "name": "stderr",
     "output_type": "stream",
     "text": [
      "\r",
      "t:  65%|██████████████████████████████████████████████████████████▉                                | 665/1026 [01:22<00:42,  8.59it/s, now=None]"
     ]
    },
    {
     "name": "stderr",
     "output_type": "stream",
     "text": [
      "\r",
      "t:  65%|███████████████████████████████████████████████████████████                                | 666/1026 [01:22<00:42,  8.54it/s, now=None]"
     ]
    },
    {
     "name": "stderr",
     "output_type": "stream",
     "text": [
      "\r",
      "t:  65%|███████████████████████████████████████████████████████████▏                               | 668/1026 [01:23<00:45,  7.80it/s, now=None]"
     ]
    },
    {
     "name": "stderr",
     "output_type": "stream",
     "text": [
      "\r",
      "t:  65%|███████████████████████████████████████████████████████████▎                               | 669/1026 [01:23<00:43,  8.16it/s, now=None]"
     ]
    },
    {
     "name": "stderr",
     "output_type": "stream",
     "text": [
      "\r",
      "t:  65%|███████████████████████████████████████████████████████████▍                               | 670/1026 [01:23<00:41,  8.52it/s, now=None]"
     ]
    },
    {
     "name": "stderr",
     "output_type": "stream",
     "text": [
      "\r",
      "t:  65%|███████████████████████████████████████████████████████████▌                               | 671/1026 [01:23<00:41,  8.58it/s, now=None]"
     ]
    },
    {
     "name": "stderr",
     "output_type": "stream",
     "text": [
      "\r",
      "t:  65%|███████████████████████████████████████████████████████████▌                               | 672/1026 [01:23<00:41,  8.49it/s, now=None]"
     ]
    },
    {
     "name": "stderr",
     "output_type": "stream",
     "text": [
      "\r",
      "t:  66%|███████████████████████████████████████████████████████████▊                               | 674/1026 [01:23<00:45,  7.81it/s, now=None]"
     ]
    },
    {
     "name": "stderr",
     "output_type": "stream",
     "text": [
      "\r",
      "t:  66%|███████████████████████████████████████████████████████████▊                               | 675/1026 [01:23<00:43,  8.04it/s, now=None]"
     ]
    },
    {
     "name": "stderr",
     "output_type": "stream",
     "text": [
      "\r",
      "t:  66%|████████████████████████████████████████████████████████████                               | 677/1026 [01:24<00:40,  8.68it/s, now=None]"
     ]
    },
    {
     "name": "stderr",
     "output_type": "stream",
     "text": [
      "\r",
      "t:  66%|████████████████████████████████████████████████████████████▏                              | 678/1026 [01:24<00:40,  8.57it/s, now=None]"
     ]
    },
    {
     "name": "stderr",
     "output_type": "stream",
     "text": [
      "\r",
      "t:  66%|████████████████████████████████████████████████████████████▎                              | 680/1026 [01:24<00:44,  7.80it/s, now=None]"
     ]
    },
    {
     "name": "stderr",
     "output_type": "stream",
     "text": [
      "\r",
      "t:  66%|████████████████████████████████████████████████████████████▍                              | 681/1026 [01:24<00:42,  8.13it/s, now=None]"
     ]
    },
    {
     "name": "stderr",
     "output_type": "stream",
     "text": [
      "\r",
      "t:  66%|████████████████████████████████████████████████████████████▍                              | 682/1026 [01:24<00:41,  8.32it/s, now=None]"
     ]
    },
    {
     "name": "stderr",
     "output_type": "stream",
     "text": [
      "\r",
      "t:  67%|████████████████████████████████████████████████████████████▌                              | 683/1026 [01:24<00:41,  8.29it/s, now=None]"
     ]
    },
    {
     "name": "stderr",
     "output_type": "stream",
     "text": [
      "\r",
      "t:  67%|████████████████████████████████████████████████████████████▋                              | 684/1026 [01:24<00:39,  8.60it/s, now=None]"
     ]
    },
    {
     "name": "stderr",
     "output_type": "stream",
     "text": [
      "\r",
      "t:  67%|████████████████████████████████████████████████████████████▊                              | 685/1026 [01:25<00:38,  8.77it/s, now=None]"
     ]
    },
    {
     "name": "stderr",
     "output_type": "stream",
     "text": [
      "\r",
      "t:  67%|████████████████████████████████████████████████████████████▊                              | 686/1026 [01:25<00:46,  7.36it/s, now=None]"
     ]
    },
    {
     "name": "stderr",
     "output_type": "stream",
     "text": [
      "\r",
      "t:  67%|████████████████████████████████████████████████████████████▉                              | 687/1026 [01:25<00:43,  7.76it/s, now=None]"
     ]
    },
    {
     "name": "stderr",
     "output_type": "stream",
     "text": [
      "\r",
      "t:  67%|█████████████████████████████████████████████████████████████                              | 689/1026 [01:25<00:39,  8.48it/s, now=None]"
     ]
    },
    {
     "name": "stderr",
     "output_type": "stream",
     "text": [
      "\r",
      "t:  67%|█████████████████████████████████████████████████████████████▏                             | 690/1026 [01:25<00:39,  8.44it/s, now=None]"
     ]
    },
    {
     "name": "stderr",
     "output_type": "stream",
     "text": [
      "\r",
      "t:  67%|█████████████████████████████████████████████████████████████▎                             | 691/1026 [01:25<00:38,  8.63it/s, now=None]"
     ]
    },
    {
     "name": "stderr",
     "output_type": "stream",
     "text": [
      "\r",
      "t:  67%|█████████████████████████████████████████████████████████████▍                             | 692/1026 [01:25<00:45,  7.31it/s, now=None]"
     ]
    },
    {
     "name": "stderr",
     "output_type": "stream",
     "text": [
      "\r",
      "t:  68%|█████████████████████████████████████████████████████████████▍                             | 693/1026 [01:26<00:43,  7.68it/s, now=None]"
     ]
    },
    {
     "name": "stderr",
     "output_type": "stream",
     "text": [
      "\r",
      "t:  68%|█████████████████████████████████████████████████████████████▌                             | 694/1026 [01:26<00:41,  8.09it/s, now=None]"
     ]
    },
    {
     "name": "stderr",
     "output_type": "stream",
     "text": [
      "\r",
      "t:  68%|█████████████████████████████████████████████████████████████▋                             | 695/1026 [01:26<00:40,  8.14it/s, now=None]"
     ]
    },
    {
     "name": "stderr",
     "output_type": "stream",
     "text": [
      "\r",
      "t:  68%|█████████████████████████████████████████████████████████████▋                             | 696/1026 [01:26<00:40,  8.17it/s, now=None]"
     ]
    },
    {
     "name": "stderr",
     "output_type": "stream",
     "text": [
      "\r",
      "t:  68%|█████████████████████████████████████████████████████████████▊                             | 697/1026 [01:26<00:38,  8.46it/s, now=None]"
     ]
    },
    {
     "name": "stderr",
     "output_type": "stream",
     "text": [
      "\r",
      "t:  68%|█████████████████████████████████████████████████████████████▉                             | 698/1026 [01:26<00:45,  7.15it/s, now=None]"
     ]
    },
    {
     "name": "stderr",
     "output_type": "stream",
     "text": [
      "\r",
      "t:  68%|█████████████████████████████████████████████████████████████▉                             | 699/1026 [01:26<00:42,  7.61it/s, now=None]"
     ]
    },
    {
     "name": "stderr",
     "output_type": "stream",
     "text": [
      "\r",
      "t:  68%|██████████████████████████████████████████████████████████████▏                            | 701/1026 [01:27<00:38,  8.39it/s, now=None]"
     ]
    },
    {
     "name": "stderr",
     "output_type": "stream",
     "text": [
      "\r",
      "t:  68%|██████████████████████████████████████████████████████████████▎                            | 702/1026 [01:27<00:38,  8.39it/s, now=None]"
     ]
    },
    {
     "name": "stderr",
     "output_type": "stream",
     "text": [
      "\r",
      "t:  69%|██████████████████████████████████████████████████████████████▎                            | 703/1026 [01:27<00:37,  8.62it/s, now=None]"
     ]
    },
    {
     "name": "stderr",
     "output_type": "stream",
     "text": [
      "\r",
      "t:  69%|██████████████████████████████████████████████████████████████▍                            | 704/1026 [01:27<00:43,  7.44it/s, now=None]"
     ]
    },
    {
     "name": "stderr",
     "output_type": "stream",
     "text": [
      "\r",
      "t:  69%|██████████████████████████████████████████████████████████████▌                            | 705/1026 [01:27<00:41,  7.80it/s, now=None]"
     ]
    },
    {
     "name": "stderr",
     "output_type": "stream",
     "text": [
      "\r",
      "t:  69%|██████████████████████████████████████████████████████████████▋                            | 707/1026 [01:27<00:38,  8.35it/s, now=None]"
     ]
    },
    {
     "name": "stderr",
     "output_type": "stream",
     "text": [
      "\r",
      "t:  69%|██████████████████████████████████████████████████████████████▊                            | 708/1026 [01:27<00:38,  8.37it/s, now=None]"
     ]
    },
    {
     "name": "stderr",
     "output_type": "stream",
     "text": [
      "\r",
      "t:  69%|██████████████████████████████████████████████████████████████▉                            | 709/1026 [01:28<00:36,  8.72it/s, now=None]"
     ]
    },
    {
     "name": "stderr",
     "output_type": "stream",
     "text": [
      "\r",
      "t:  69%|██████████████████████████████████████████████████████████████▉                            | 710/1026 [01:28<00:42,  7.39it/s, now=None]"
     ]
    },
    {
     "name": "stderr",
     "output_type": "stream",
     "text": [
      "\r",
      "t:  69%|███████████████████████████████████████████████████████████████                            | 711/1026 [01:28<00:41,  7.61it/s, now=None]"
     ]
    },
    {
     "name": "stderr",
     "output_type": "stream",
     "text": [
      "\r",
      "t:  69%|███████████████████████████████████████████████████████████████▏                           | 712/1026 [01:28<00:38,  8.14it/s, now=None]"
     ]
    },
    {
     "name": "stderr",
     "output_type": "stream",
     "text": [
      "\r",
      "t:  69%|███████████████████████████████████████████████████████████████▏                           | 713/1026 [01:28<00:37,  8.34it/s, now=None]"
     ]
    },
    {
     "name": "stderr",
     "output_type": "stream",
     "text": [
      "\r",
      "t:  70%|███████████████████████████████████████████████████████████████▎                           | 714/1026 [01:28<00:37,  8.30it/s, now=None]"
     ]
    },
    {
     "name": "stderr",
     "output_type": "stream",
     "text": [
      "\r",
      "t:  70%|███████████████████████████████████████████████████████████████▍                           | 715/1026 [01:28<00:36,  8.52it/s, now=None]"
     ]
    },
    {
     "name": "stderr",
     "output_type": "stream",
     "text": [
      "\r",
      "t:  70%|███████████████████████████████████████████████████████████████▌                           | 716/1026 [01:28<00:42,  7.32it/s, now=None]"
     ]
    },
    {
     "name": "stderr",
     "output_type": "stream",
     "text": [
      "\r",
      "t:  70%|███████████████████████████████████████████████████████████████▌                           | 717/1026 [01:29<00:40,  7.59it/s, now=None]"
     ]
    },
    {
     "name": "stderr",
     "output_type": "stream",
     "text": [
      "\r",
      "t:  70%|███████████████████████████████████████████████████████████████▊                           | 719/1026 [01:29<00:36,  8.50it/s, now=None]"
     ]
    },
    {
     "name": "stderr",
     "output_type": "stream",
     "text": [
      "\r",
      "t:  70%|███████████████████████████████████████████████████████████████▊                           | 720/1026 [01:29<00:35,  8.59it/s, now=None]"
     ]
    },
    {
     "name": "stderr",
     "output_type": "stream",
     "text": [
      "\r",
      "t:  70%|███████████████████████████████████████████████████████████████▉                           | 721/1026 [01:29<00:34,  8.75it/s, now=None]"
     ]
    },
    {
     "name": "stderr",
     "output_type": "stream",
     "text": [
      "\r",
      "t:  70%|████████████████████████████████████████████████████████████████                           | 722/1026 [01:29<00:41,  7.37it/s, now=None]"
     ]
    },
    {
     "name": "stderr",
     "output_type": "stream",
     "text": [
      "\r",
      "t:  70%|████████████████████████████████████████████████████████████████▏                          | 723/1026 [01:29<00:39,  7.60it/s, now=None]"
     ]
    },
    {
     "name": "stderr",
     "output_type": "stream",
     "text": [
      "\r",
      "t:  71%|████████████████████████████████████████████████████████████████▏                          | 724/1026 [01:29<00:37,  8.00it/s, now=None]"
     ]
    },
    {
     "name": "stderr",
     "output_type": "stream",
     "text": [
      "\r",
      "t:  71%|████████████████████████████████████████████████████████████████▎                          | 725/1026 [01:30<00:37,  8.07it/s, now=None]"
     ]
    },
    {
     "name": "stderr",
     "output_type": "stream",
     "text": [
      "\r",
      "t:  71%|████████████████████████████████████████████████████████████████▍                          | 726/1026 [01:30<00:36,  8.13it/s, now=None]"
     ]
    },
    {
     "name": "stderr",
     "output_type": "stream",
     "text": [
      "\r",
      "t:  71%|████████████████████████████████████████████████████████████████▍                          | 727/1026 [01:30<00:35,  8.41it/s, now=None]"
     ]
    },
    {
     "name": "stderr",
     "output_type": "stream",
     "text": [
      "\r",
      "t:  71%|████████████████████████████████████████████████████████████████▌                          | 728/1026 [01:30<00:41,  7.10it/s, now=None]"
     ]
    },
    {
     "name": "stderr",
     "output_type": "stream",
     "text": [
      "\r",
      "t:  71%|████████████████████████████████████████████████████████████████▋                          | 729/1026 [01:30<00:39,  7.55it/s, now=None]"
     ]
    },
    {
     "name": "stderr",
     "output_type": "stream",
     "text": [
      "\r",
      "t:  71%|████████████████████████████████████████████████████████████████▋                          | 730/1026 [01:30<00:37,  7.99it/s, now=None]"
     ]
    },
    {
     "name": "stderr",
     "output_type": "stream",
     "text": [
      "\r",
      "t:  71%|████████████████████████████████████████████████████████████████▊                          | 731/1026 [01:30<00:36,  8.09it/s, now=None]"
     ]
    },
    {
     "name": "stderr",
     "output_type": "stream",
     "text": [
      "\r",
      "t:  71%|████████████████████████████████████████████████████████████████▉                          | 732/1026 [01:30<00:35,  8.32it/s, now=None]"
     ]
    },
    {
     "name": "stderr",
     "output_type": "stream",
     "text": [
      "\r",
      "t:  71%|█████████████████████████████████████████████████████████████████                          | 733/1026 [01:31<00:34,  8.58it/s, now=None]"
     ]
    },
    {
     "name": "stderr",
     "output_type": "stream",
     "text": [
      "\r",
      "t:  72%|█████████████████████████████████████████████████████████████████                          | 734/1026 [01:31<00:40,  7.20it/s, now=None]"
     ]
    },
    {
     "name": "stderr",
     "output_type": "stream",
     "text": [
      "\r",
      "t:  72%|█████████████████████████████████████████████████████████████████▏                         | 735/1026 [01:31<00:38,  7.62it/s, now=None]"
     ]
    },
    {
     "name": "stderr",
     "output_type": "stream",
     "text": [
      "\r",
      "t:  72%|█████████████████████████████████████████████████████████████████▎                         | 736/1026 [01:31<00:36,  8.01it/s, now=None]"
     ]
    },
    {
     "name": "stderr",
     "output_type": "stream",
     "text": [
      "\r",
      "t:  72%|█████████████████████████████████████████████████████████████████▎                         | 737/1026 [01:31<00:35,  8.25it/s, now=None]"
     ]
    },
    {
     "name": "stderr",
     "output_type": "stream",
     "text": [
      "\r",
      "t:  72%|█████████████████████████████████████████████████████████████████▍                         | 738/1026 [01:31<00:34,  8.25it/s, now=None]"
     ]
    },
    {
     "name": "stderr",
     "output_type": "stream",
     "text": [
      "\r",
      "t:  72%|█████████████████████████████████████████████████████████████████▌                         | 739/1026 [01:31<00:33,  8.54it/s, now=None]"
     ]
    },
    {
     "name": "stderr",
     "output_type": "stream",
     "text": [
      "\r",
      "t:  72%|█████████████████████████████████████████████████████████████████▋                         | 740/1026 [01:31<00:39,  7.15it/s, now=None]"
     ]
    },
    {
     "name": "stderr",
     "output_type": "stream",
     "text": [
      "\r",
      "t:  72%|█████████████████████████████████████████████████████████████████▋                         | 741/1026 [01:32<00:38,  7.48it/s, now=None]"
     ]
    },
    {
     "name": "stderr",
     "output_type": "stream",
     "text": [
      "\r",
      "t:  72%|█████████████████████████████████████████████████████████████████▊                         | 742/1026 [01:32<00:35,  7.91it/s, now=None]"
     ]
    },
    {
     "name": "stderr",
     "output_type": "stream",
     "text": [
      "\r",
      "t:  72%|█████████████████████████████████████████████████████████████████▉                         | 743/1026 [01:32<00:35,  8.02it/s, now=None]"
     ]
    },
    {
     "name": "stderr",
     "output_type": "stream",
     "text": [
      "\r",
      "t:  73%|█████████████████████████████████████████████████████████████████▉                         | 744/1026 [01:32<00:34,  8.10it/s, now=None]"
     ]
    },
    {
     "name": "stderr",
     "output_type": "stream",
     "text": [
      "\r",
      "t:  73%|██████████████████████████████████████████████████████████████████                         | 745/1026 [01:32<00:33,  8.41it/s, now=None]"
     ]
    },
    {
     "name": "stderr",
     "output_type": "stream",
     "text": [
      "\r",
      "t:  73%|██████████████████████████████████████████████████████████████████▏                        | 746/1026 [01:32<00:39,  7.10it/s, now=None]"
     ]
    },
    {
     "name": "stderr",
     "output_type": "stream",
     "text": [
      "\r",
      "t:  73%|██████████████████████████████████████████████████████████████████▎                        | 747/1026 [01:32<00:37,  7.50it/s, now=None]"
     ]
    },
    {
     "name": "stderr",
     "output_type": "stream",
     "text": [
      "\r",
      "t:  73%|██████████████████████████████████████████████████████████████████▍                        | 749/1026 [01:33<00:33,  8.33it/s, now=None]"
     ]
    },
    {
     "name": "stderr",
     "output_type": "stream",
     "text": [
      "\r",
      "t:  73%|██████████████████████████████████████████████████████████████████▌                        | 750/1026 [01:33<00:31,  8.63it/s, now=None]"
     ]
    },
    {
     "name": "stderr",
     "output_type": "stream",
     "text": [
      "\r",
      "t:  73%|██████████████████████████████████████████████████████████████████▌                        | 751/1026 [01:33<00:31,  8.80it/s, now=None]"
     ]
    },
    {
     "name": "stderr",
     "output_type": "stream",
     "text": [
      "\r",
      "t:  73%|██████████████████████████████████████████████████████████████████▋                        | 752/1026 [01:33<00:37,  7.40it/s, now=None]"
     ]
    },
    {
     "name": "stderr",
     "output_type": "stream",
     "text": [
      "\r",
      "t:  73%|██████████████████████████████████████████████████████████████████▊                        | 753/1026 [01:33<00:35,  7.64it/s, now=None]"
     ]
    },
    {
     "name": "stderr",
     "output_type": "stream",
     "text": [
      "\r",
      "t:  74%|██████████████████████████████████████████████████████████████████▉                        | 755/1026 [01:33<00:32,  8.34it/s, now=None]"
     ]
    },
    {
     "name": "stderr",
     "output_type": "stream",
     "text": [
      "\r",
      "t:  74%|███████████████████████████████████████████████████████████████████                        | 756/1026 [01:33<00:32,  8.32it/s, now=None]"
     ]
    },
    {
     "name": "stderr",
     "output_type": "stream",
     "text": [
      "\r",
      "t:  74%|███████████████████████████████████████████████████████████████████▏                       | 757/1026 [01:34<00:31,  8.64it/s, now=None]"
     ]
    },
    {
     "name": "stderr",
     "output_type": "stream",
     "text": [
      "\r",
      "t:  74%|███████████████████████████████████████████████████████████████████▏                       | 758/1026 [01:34<00:35,  7.46it/s, now=None]"
     ]
    },
    {
     "name": "stderr",
     "output_type": "stream",
     "text": [
      "\r",
      "t:  74%|███████████████████████████████████████████████████████████████████▎                       | 759/1026 [01:34<00:34,  7.68it/s, now=None]"
     ]
    },
    {
     "name": "stderr",
     "output_type": "stream",
     "text": [
      "\r",
      "t:  74%|███████████████████████████████████████████████████████████████████▍                       | 760/1026 [01:34<00:33,  8.04it/s, now=None]"
     ]
    },
    {
     "name": "stderr",
     "output_type": "stream",
     "text": [
      "\r",
      "t:  74%|███████████████████████████████████████████████████████████████████▍                       | 761/1026 [01:34<00:32,  8.04it/s, now=None]"
     ]
    },
    {
     "name": "stderr",
     "output_type": "stream",
     "text": [
      "\r",
      "t:  74%|███████████████████████████████████████████████████████████████████▌                       | 762/1026 [01:34<00:32,  8.12it/s, now=None]"
     ]
    },
    {
     "name": "stderr",
     "output_type": "stream",
     "text": [
      "\r",
      "t:  74%|███████████████████████████████████████████████████████████████████▊                       | 764/1026 [01:34<00:34,  7.61it/s, now=None]"
     ]
    },
    {
     "name": "stderr",
     "output_type": "stream",
     "text": [
      "\r",
      "t:  75%|███████████████████████████████████████████████████████████████████▊                       | 765/1026 [01:35<00:33,  7.76it/s, now=None]"
     ]
    },
    {
     "name": "stderr",
     "output_type": "stream",
     "text": [
      "\r",
      "t:  75%|███████████████████████████████████████████████████████████████████▉                       | 766/1026 [01:35<00:32,  8.11it/s, now=None]"
     ]
    },
    {
     "name": "stderr",
     "output_type": "stream",
     "text": [
      "\r",
      "t:  75%|████████████████████████████████████████████████████████████████████                       | 767/1026 [01:35<00:31,  8.31it/s, now=None]"
     ]
    },
    {
     "name": "stderr",
     "output_type": "stream",
     "text": [
      "\r",
      "t:  75%|████████████████████████████████████████████████████████████████████                       | 768/1026 [01:35<00:31,  8.31it/s, now=None]"
     ]
    },
    {
     "name": "stderr",
     "output_type": "stream",
     "text": [
      "\r",
      "t:  75%|████████████████████████████████████████████████████████████████████▎                      | 770/1026 [01:35<00:33,  7.60it/s, now=None]"
     ]
    },
    {
     "name": "stderr",
     "output_type": "stream",
     "text": [
      "\r",
      "t:  75%|████████████████████████████████████████████████████████████████████▍                      | 771/1026 [01:35<00:32,  7.89it/s, now=None]"
     ]
    },
    {
     "name": "stderr",
     "output_type": "stream",
     "text": [
      "\r",
      "t:  75%|████████████████████████████████████████████████████████████████████▍                      | 772/1026 [01:35<00:31,  8.19it/s, now=None]"
     ]
    },
    {
     "name": "stderr",
     "output_type": "stream",
     "text": [
      "\r",
      "t:  75%|████████████████████████████████████████████████████████████████████▌                      | 773/1026 [01:36<00:29,  8.54it/s, now=None]"
     ]
    },
    {
     "name": "stderr",
     "output_type": "stream",
     "text": [
      "\r",
      "t:  75%|████████████████████████████████████████████████████████████████████▋                      | 774/1026 [01:36<00:29,  8.64it/s, now=None]"
     ]
    },
    {
     "name": "stderr",
     "output_type": "stream",
     "text": [
      "\r",
      "t:  76%|████████████████████████████████████████████████████████████████████▋                      | 775/1026 [01:36<00:28,  8.83it/s, now=None]"
     ]
    },
    {
     "name": "stderr",
     "output_type": "stream",
     "text": [
      "\r",
      "t:  76%|████████████████████████████████████████████████████████████████████▊                      | 776/1026 [01:36<00:34,  7.34it/s, now=None]"
     ]
    },
    {
     "name": "stderr",
     "output_type": "stream",
     "text": [
      "\r",
      "t:  76%|████████████████████████████████████████████████████████████████████▉                      | 777/1026 [01:36<00:32,  7.72it/s, now=None]"
     ]
    },
    {
     "name": "stderr",
     "output_type": "stream",
     "text": [
      "\r",
      "t:  76%|█████████████████████████████████████████████████████████████████████                      | 779/1026 [01:36<00:29,  8.41it/s, now=None]"
     ]
    },
    {
     "name": "stderr",
     "output_type": "stream",
     "text": [
      "\r",
      "t:  76%|█████████████████████████████████████████████████████████████████████▏                     | 780/1026 [01:36<00:29,  8.38it/s, now=None]"
     ]
    },
    {
     "name": "stderr",
     "output_type": "stream",
     "text": [
      "\r",
      "t:  76%|█████████████████████████████████████████████████████████████████████▎                     | 781/1026 [01:37<00:28,  8.58it/s, now=None]"
     ]
    },
    {
     "name": "stderr",
     "output_type": "stream",
     "text": [
      "\r",
      "t:  76%|█████████████████████████████████████████████████████████████████████▎                     | 782/1026 [01:37<00:33,  7.29it/s, now=None]"
     ]
    },
    {
     "name": "stderr",
     "output_type": "stream",
     "text": [
      "\r",
      "t:  76%|█████████████████████████████████████████████████████████████████████▍                     | 783/1026 [01:37<00:32,  7.55it/s, now=None]"
     ]
    },
    {
     "name": "stderr",
     "output_type": "stream",
     "text": [
      "\r",
      "t:  76%|█████████████████████████████████████████████████████████████████████▌                     | 784/1026 [01:37<00:29,  8.09it/s, now=None]"
     ]
    },
    {
     "name": "stderr",
     "output_type": "stream",
     "text": [
      "\r",
      "t:  77%|█████████████████████████████████████████████████████████████████████▌                     | 785/1026 [01:37<00:29,  8.16it/s, now=None]"
     ]
    },
    {
     "name": "stderr",
     "output_type": "stream",
     "text": [
      "\r",
      "t:  77%|█████████████████████████████████████████████████████████████████████▋                     | 786/1026 [01:37<00:28,  8.37it/s, now=None]"
     ]
    },
    {
     "name": "stderr",
     "output_type": "stream",
     "text": [
      "\r",
      "t:  77%|█████████████████████████████████████████████████████████████████████▊                     | 787/1026 [01:37<00:27,  8.62it/s, now=None]"
     ]
    },
    {
     "name": "stderr",
     "output_type": "stream",
     "text": [
      "\r",
      "t:  77%|█████████████████████████████████████████████████████████████████████▉                     | 788/1026 [01:37<00:33,  7.18it/s, now=None]"
     ]
    },
    {
     "name": "stderr",
     "output_type": "stream",
     "text": [
      "\r",
      "t:  77%|█████████████████████████████████████████████████████████████████████▉                     | 789/1026 [01:38<00:30,  7.72it/s, now=None]"
     ]
    },
    {
     "name": "stderr",
     "output_type": "stream",
     "text": [
      "\r",
      "t:  77%|██████████████████████████████████████████████████████████████████████                     | 790/1026 [01:38<00:28,  8.26it/s, now=None]"
     ]
    },
    {
     "name": "stderr",
     "output_type": "stream",
     "text": [
      "\r",
      "t:  77%|██████████████████████████████████████████████████████████████████████▏                    | 791/1026 [01:38<00:27,  8.41it/s, now=None]"
     ]
    },
    {
     "name": "stderr",
     "output_type": "stream",
     "text": [
      "\r",
      "t:  77%|██████████████████████████████████████████████████████████████████████▏                    | 792/1026 [01:38<00:26,  8.69it/s, now=None]"
     ]
    },
    {
     "name": "stderr",
     "output_type": "stream",
     "text": [
      "\r",
      "t:  77%|██████████████████████████████████████████████████████████████████████▍                    | 794/1026 [01:38<00:29,  7.82it/s, now=None]"
     ]
    },
    {
     "name": "stderr",
     "output_type": "stream",
     "text": [
      "\r",
      "t:  77%|██████████████████████████████████████████████████████████████████████▌                    | 795/1026 [01:38<00:28,  8.05it/s, now=None]"
     ]
    },
    {
     "name": "stderr",
     "output_type": "stream",
     "text": [
      "\r",
      "t:  78%|██████████████████████████████████████████████████████████████████████▋                    | 797/1026 [01:39<00:26,  8.67it/s, now=None]"
     ]
    },
    {
     "name": "stderr",
     "output_type": "stream",
     "text": [
      "\r",
      "t:  78%|██████████████████████████████████████████████████████████████████████▊                    | 798/1026 [01:39<00:26,  8.47it/s, now=None]"
     ]
    },
    {
     "name": "stderr",
     "output_type": "stream",
     "text": [
      "\r",
      "t:  78%|██████████████████████████████████████████████████████████████████████▊                    | 799/1026 [01:39<00:25,  8.79it/s, now=None]"
     ]
    },
    {
     "name": "stderr",
     "output_type": "stream",
     "text": [
      "\r",
      "t:  78%|██████████████████████████████████████████████████████████████████████▉                    | 800/1026 [01:39<00:30,  7.45it/s, now=None]"
     ]
    },
    {
     "name": "stderr",
     "output_type": "stream",
     "text": [
      "\r",
      "t:  78%|███████████████████████████████████████████████████████████████████████                    | 801/1026 [01:39<00:28,  7.76it/s, now=None]"
     ]
    },
    {
     "name": "stderr",
     "output_type": "stream",
     "text": [
      "\r",
      "t:  78%|███████████████████████████████████████████████████████████████████████▏                   | 803/1026 [01:39<00:26,  8.51it/s, now=None]"
     ]
    },
    {
     "name": "stderr",
     "output_type": "stream",
     "text": [
      "\r",
      "t:  78%|███████████████████████████████████████████████████████████████████████▎                   | 804/1026 [01:39<00:25,  8.72it/s, now=None]"
     ]
    },
    {
     "name": "stderr",
     "output_type": "stream",
     "text": [
      "\r",
      "t:  78%|███████████████████████████████████████████████████████████████████████▍                   | 805/1026 [01:39<00:24,  8.97it/s, now=None]"
     ]
    },
    {
     "name": "stderr",
     "output_type": "stream",
     "text": [
      "\r",
      "t:  79%|███████████████████████████████████████████████████████████████████████▍                   | 806/1026 [01:40<00:29,  7.51it/s, now=None]"
     ]
    },
    {
     "name": "stderr",
     "output_type": "stream",
     "text": [
      "\r",
      "t:  79%|███████████████████████████████████████████████████████████████████████▌                   | 807/1026 [01:40<00:27,  7.84it/s, now=None]"
     ]
    },
    {
     "name": "stderr",
     "output_type": "stream",
     "text": [
      "\r",
      "t:  79%|███████████████████████████████████████████████████████████████████████▋                   | 808/1026 [01:40<00:26,  8.19it/s, now=None]"
     ]
    },
    {
     "name": "stderr",
     "output_type": "stream",
     "text": [
      "\r",
      "t:  79%|███████████████████████████████████████████████████████████████████████▊                   | 809/1026 [01:40<00:26,  8.22it/s, now=None]"
     ]
    },
    {
     "name": "stderr",
     "output_type": "stream",
     "text": [
      "\r",
      "t:  79%|███████████████████████████████████████████████████████████████████████▊                   | 810/1026 [01:40<00:26,  8.22it/s, now=None]"
     ]
    },
    {
     "name": "stderr",
     "output_type": "stream",
     "text": [
      "\r",
      "t:  79%|███████████████████████████████████████████████████████████████████████▉                   | 811/1026 [01:40<00:25,  8.49it/s, now=None]"
     ]
    },
    {
     "name": "stderr",
     "output_type": "stream",
     "text": [
      "\r",
      "t:  79%|████████████████████████████████████████████████████████████████████████                   | 812/1026 [01:40<00:29,  7.28it/s, now=None]"
     ]
    },
    {
     "name": "stderr",
     "output_type": "stream",
     "text": [
      "\r",
      "t:  79%|████████████████████████████████████████████████████████████████████████                   | 813/1026 [01:41<00:28,  7.52it/s, now=None]"
     ]
    },
    {
     "name": "stderr",
     "output_type": "stream",
     "text": [
      "\r",
      "t:  79%|████████████████████████████████████████████████████████████████████████▏                  | 814/1026 [01:41<00:26,  7.98it/s, now=None]"
     ]
    },
    {
     "name": "stderr",
     "output_type": "stream",
     "text": [
      "\r",
      "t:  79%|████████████████████████████████████████████████████████████████████████▎                  | 815/1026 [01:41<00:25,  8.25it/s, now=None]"
     ]
    },
    {
     "name": "stderr",
     "output_type": "stream",
     "text": [
      "\r",
      "t:  80%|████████████████████████████████████████████████████████████████████████▎                  | 816/1026 [01:41<00:25,  8.23it/s, now=None]"
     ]
    },
    {
     "name": "stderr",
     "output_type": "stream",
     "text": [
      "\r",
      "t:  80%|████████████████████████████████████████████████████████████████████████▍                  | 817/1026 [01:41<00:24,  8.53it/s, now=None]"
     ]
    },
    {
     "name": "stderr",
     "output_type": "stream",
     "text": [
      "\r",
      "t:  80%|████████████████████████████████████████████████████████████████████████▌                  | 818/1026 [01:41<00:28,  7.30it/s, now=None]"
     ]
    },
    {
     "name": "stderr",
     "output_type": "stream",
     "text": [
      "\r",
      "t:  80%|████████████████████████████████████████████████████████████████████████▋                  | 819/1026 [01:41<00:26,  7.73it/s, now=None]"
     ]
    },
    {
     "name": "stderr",
     "output_type": "stream",
     "text": [
      "\r",
      "t:  80%|████████████████████████████████████████████████████████████████████████▋                  | 820/1026 [01:41<00:24,  8.28it/s, now=None]"
     ]
    },
    {
     "name": "stderr",
     "output_type": "stream",
     "text": [
      "\r",
      "t:  80%|████████████████████████████████████████████████████████████████████████▊                  | 821/1026 [01:41<00:24,  8.45it/s, now=None]"
     ]
    },
    {
     "name": "stderr",
     "output_type": "stream",
     "text": [
      "\r",
      "t:  80%|████████████████████████████████████████████████████████████████████████▉                  | 822/1026 [01:42<00:24,  8.35it/s, now=None]"
     ]
    },
    {
     "name": "stderr",
     "output_type": "stream",
     "text": [
      "\r",
      "t:  80%|████████████████████████████████████████████████████████████████████████▉                  | 823/1026 [01:42<00:23,  8.48it/s, now=None]"
     ]
    },
    {
     "name": "stderr",
     "output_type": "stream",
     "text": [
      "\r",
      "t:  80%|█████████████████████████████████████████████████████████████████████████                  | 824/1026 [01:42<00:27,  7.26it/s, now=None]"
     ]
    },
    {
     "name": "stderr",
     "output_type": "stream",
     "text": [
      "\r",
      "t:  80%|█████████████████████████████████████████████████████████████████████████▏                 | 825/1026 [01:42<00:25,  7.83it/s, now=None]"
     ]
    },
    {
     "name": "stderr",
     "output_type": "stream",
     "text": [
      "\r",
      "t:  81%|█████████████████████████████████████████████████████████████████████████▎                 | 826/1026 [01:42<00:24,  8.22it/s, now=None]"
     ]
    },
    {
     "name": "stderr",
     "output_type": "stream",
     "text": [
      "\r",
      "t:  81%|█████████████████████████████████████████████████████████████████████████▎                 | 827/1026 [01:42<00:23,  8.37it/s, now=None]"
     ]
    },
    {
     "name": "stderr",
     "output_type": "stream",
     "text": [
      "\r",
      "t:  81%|█████████████████████████████████████████████████████████████████████████▍                 | 828/1026 [01:42<00:22,  8.67it/s, now=None]"
     ]
    },
    {
     "name": "stderr",
     "output_type": "stream",
     "text": [
      "\r",
      "t:  81%|█████████████████████████████████████████████████████████████████████████▌                 | 829/1026 [01:42<00:21,  8.99it/s, now=None]"
     ]
    },
    {
     "name": "stderr",
     "output_type": "stream",
     "text": [
      "\r",
      "t:  81%|█████████████████████████████████████████████████████████████████████████▌                 | 830/1026 [01:43<00:26,  7.51it/s, now=None]"
     ]
    },
    {
     "name": "stderr",
     "output_type": "stream",
     "text": [
      "\r",
      "t:  81%|█████████████████████████████████████████████████████████████████████████▋                 | 831/1026 [01:43<00:24,  8.03it/s, now=None]"
     ]
    },
    {
     "name": "stderr",
     "output_type": "stream",
     "text": [
      "\r",
      "t:  81%|█████████████████████████████████████████████████████████████████████████▉                 | 833/1026 [01:43<00:21,  8.89it/s, now=None]"
     ]
    },
    {
     "name": "stderr",
     "output_type": "stream",
     "text": [
      "\r",
      "t:  81%|█████████████████████████████████████████████████████████████████████████▉                 | 834/1026 [01:43<00:21,  9.01it/s, now=None]"
     ]
    },
    {
     "name": "stderr",
     "output_type": "stream",
     "text": [
      "\r",
      "t:  81%|██████████████████████████████████████████████████████████████████████████                 | 835/1026 [01:43<00:21,  8.89it/s, now=None]"
     ]
    },
    {
     "name": "stderr",
     "output_type": "stream",
     "text": [
      "\r",
      "t:  81%|██████████████████████████████████████████████████████████████████████████▏                | 836/1026 [01:43<00:25,  7.44it/s, now=None]"
     ]
    },
    {
     "name": "stderr",
     "output_type": "stream",
     "text": [
      "\r",
      "t:  82%|██████████████████████████████████████████████████████████████████████████▏                | 837/1026 [01:43<00:24,  7.81it/s, now=None]"
     ]
    },
    {
     "name": "stderr",
     "output_type": "stream",
     "text": [
      "\r",
      "t:  82%|██████████████████████████████████████████████████████████████████████████▎                | 838/1026 [01:44<00:23,  8.14it/s, now=None]"
     ]
    },
    {
     "name": "stderr",
     "output_type": "stream",
     "text": [
      "\r",
      "t:  82%|██████████████████████████████████████████████████████████████████████████▍                | 839/1026 [01:44<00:22,  8.16it/s, now=None]"
     ]
    },
    {
     "name": "stderr",
     "output_type": "stream",
     "text": [
      "\r",
      "t:  82%|██████████████████████████████████████████████████████████████████████████▌                | 840/1026 [01:44<00:22,  8.20it/s, now=None]"
     ]
    },
    {
     "name": "stderr",
     "output_type": "stream",
     "text": [
      "\r",
      "t:  82%|██████████████████████████████████████████████████████████████████████████▋                | 842/1026 [01:44<00:24,  7.65it/s, now=None]"
     ]
    },
    {
     "name": "stderr",
     "output_type": "stream",
     "text": [
      "\r",
      "t:  82%|██████████████████████████████████████████████████████████████████████████▊                | 843/1026 [01:44<00:23,  7.92it/s, now=None]"
     ]
    },
    {
     "name": "stderr",
     "output_type": "stream",
     "text": [
      "\r",
      "t:  82%|██████████████████████████████████████████████████████████████████████████▉                | 845/1026 [01:44<00:21,  8.60it/s, now=None]"
     ]
    },
    {
     "name": "stderr",
     "output_type": "stream",
     "text": [
      "\r",
      "t:  82%|███████████████████████████████████████████████████████████████████████████                | 846/1026 [01:45<00:20,  8.66it/s, now=None]"
     ]
    },
    {
     "name": "stderr",
     "output_type": "stream",
     "text": [
      "\r",
      "t:  83%|███████████████████████████████████████████████████████████████████████████                | 847/1026 [01:45<00:20,  8.92it/s, now=None]"
     ]
    },
    {
     "name": "stderr",
     "output_type": "stream",
     "text": [
      "\r",
      "t:  83%|███████████████████████████████████████████████████████████████████████████▏               | 848/1026 [01:45<00:23,  7.49it/s, now=None]"
     ]
    },
    {
     "name": "stderr",
     "output_type": "stream",
     "text": [
      "\r",
      "t:  83%|███████████████████████████████████████████████████████████████████████████▎               | 849/1026 [01:45<00:22,  7.93it/s, now=None]"
     ]
    },
    {
     "name": "stderr",
     "output_type": "stream",
     "text": [
      "\r",
      "t:  83%|███████████████████████████████████████████████████████████████████████████▍               | 850/1026 [01:45<00:21,  8.37it/s, now=None]"
     ]
    },
    {
     "name": "stderr",
     "output_type": "stream",
     "text": [
      "\r",
      "t:  83%|███████████████████████████████████████████████████████████████████████████▍               | 851/1026 [01:45<00:20,  8.51it/s, now=None]"
     ]
    },
    {
     "name": "stderr",
     "output_type": "stream",
     "text": [
      "\r",
      "t:  83%|███████████████████████████████████████████████████████████████████████████▌               | 852/1026 [01:45<00:19,  8.74it/s, now=None]"
     ]
    },
    {
     "name": "stderr",
     "output_type": "stream",
     "text": [
      "\r",
      "t:  83%|███████████████████████████████████████████████████████████████████████████▋               | 853/1026 [01:45<00:19,  9.02it/s, now=None]"
     ]
    },
    {
     "name": "stderr",
     "output_type": "stream",
     "text": [
      "\r",
      "t:  83%|███████████████████████████████████████████████████████████████████████████▋               | 854/1026 [01:46<00:23,  7.39it/s, now=None]"
     ]
    },
    {
     "name": "stderr",
     "output_type": "stream",
     "text": [
      "\r",
      "t:  83%|███████████████████████████████████████████████████████████████████████████▊               | 855/1026 [01:46<00:21,  7.89it/s, now=None]"
     ]
    },
    {
     "name": "stderr",
     "output_type": "stream",
     "text": [
      "\r",
      "t:  83%|███████████████████████████████████████████████████████████████████████████▉               | 856/1026 [01:46<00:21,  8.06it/s, now=None]"
     ]
    },
    {
     "name": "stderr",
     "output_type": "stream",
     "text": [
      "\r",
      "t:  84%|████████████████████████████████████████████████████████████████████████████               | 857/1026 [01:46<00:20,  8.30it/s, now=None]"
     ]
    },
    {
     "name": "stderr",
     "output_type": "stream",
     "text": [
      "\r",
      "t:  84%|████████████████████████████████████████████████████████████████████████████               | 858/1026 [01:46<00:20,  8.28it/s, now=None]"
     ]
    },
    {
     "name": "stderr",
     "output_type": "stream",
     "text": [
      "\r",
      "t:  84%|████████████████████████████████████████████████████████████████████████████▏              | 859/1026 [01:46<00:19,  8.69it/s, now=None]"
     ]
    },
    {
     "name": "stderr",
     "output_type": "stream",
     "text": [
      "\r",
      "t:  84%|████████████████████████████████████████████████████████████████████████████▎              | 860/1026 [01:46<00:23,  7.17it/s, now=None]"
     ]
    },
    {
     "name": "stderr",
     "output_type": "stream",
     "text": [
      "\r",
      "t:  84%|████████████████████████████████████████████████████████████████████████████▎              | 861/1026 [01:46<00:21,  7.60it/s, now=None]"
     ]
    },
    {
     "name": "stderr",
     "output_type": "stream",
     "text": [
      "\r",
      "t:  84%|████████████████████████████████████████████████████████████████████████████▍              | 862/1026 [01:47<00:20,  8.04it/s, now=None]"
     ]
    },
    {
     "name": "stderr",
     "output_type": "stream",
     "text": [
      "\r",
      "t:  84%|████████████████████████████████████████████████████████████████████████████▌              | 863/1026 [01:47<00:19,  8.30it/s, now=None]"
     ]
    },
    {
     "name": "stderr",
     "output_type": "stream",
     "text": [
      "\r",
      "t:  84%|████████████████████████████████████████████████████████████████████████████▋              | 864/1026 [01:47<00:19,  8.31it/s, now=None]"
     ]
    },
    {
     "name": "stderr",
     "output_type": "stream",
     "text": [
      "\r",
      "t:  84%|████████████████████████████████████████████████████████████████████████████▋              | 865/1026 [01:47<00:18,  8.56it/s, now=None]"
     ]
    },
    {
     "name": "stderr",
     "output_type": "stream",
     "text": [
      "\r",
      "t:  84%|████████████████████████████████████████████████████████████████████████████▊              | 866/1026 [01:47<00:22,  7.12it/s, now=None]"
     ]
    },
    {
     "name": "stderr",
     "output_type": "stream",
     "text": [
      "\r",
      "t:  85%|████████████████████████████████████████████████████████████████████████████▉              | 867/1026 [01:47<00:21,  7.44it/s, now=None]"
     ]
    },
    {
     "name": "stderr",
     "output_type": "stream",
     "text": [
      "\r",
      "t:  85%|████████████████████████████████████████████████████████████████████████████▉              | 868/1026 [01:47<00:20,  7.89it/s, now=None]"
     ]
    },
    {
     "name": "stderr",
     "output_type": "stream",
     "text": [
      "\r",
      "t:  85%|█████████████████████████████████████████████████████████████████████████████              | 869/1026 [01:47<00:19,  8.01it/s, now=None]"
     ]
    },
    {
     "name": "stderr",
     "output_type": "stream",
     "text": [
      "\r",
      "t:  85%|█████████████████████████████████████████████████████████████████████████████▏             | 870/1026 [01:48<00:19,  8.08it/s, now=None]"
     ]
    },
    {
     "name": "stderr",
     "output_type": "stream",
     "text": [
      "\r",
      "t:  85%|█████████████████████████████████████████████████████████████████████████████▎             | 871/1026 [01:48<00:18,  8.39it/s, now=None]"
     ]
    },
    {
     "name": "stderr",
     "output_type": "stream",
     "text": [
      "\r",
      "t:  85%|█████████████████████████████████████████████████████████████████████████████▎             | 872/1026 [01:48<00:21,  7.04it/s, now=None]"
     ]
    },
    {
     "name": "stderr",
     "output_type": "stream",
     "text": [
      "\r",
      "t:  85%|█████████████████████████████████████████████████████████████████████████████▍             | 873/1026 [01:48<00:20,  7.38it/s, now=None]"
     ]
    },
    {
     "name": "stderr",
     "output_type": "stream",
     "text": [
      "\r",
      "t:  85%|█████████████████████████████████████████████████████████████████████████████▌             | 875/1026 [01:48<00:18,  8.30it/s, now=None]"
     ]
    },
    {
     "name": "stderr",
     "output_type": "stream",
     "text": [
      "\r",
      "t:  85%|█████████████████████████████████████████████████████████████████████████████▋             | 876/1026 [01:48<00:17,  8.43it/s, now=None]"
     ]
    },
    {
     "name": "stderr",
     "output_type": "stream",
     "text": [
      "\r",
      "t:  85%|█████████████████████████████████████████████████████████████████████████████▊             | 877/1026 [01:48<00:17,  8.65it/s, now=None]"
     ]
    },
    {
     "name": "stderr",
     "output_type": "stream",
     "text": [
      "\r",
      "t:  86%|█████████████████████████████████████████████████████████████████████████████▊             | 878/1026 [01:49<00:20,  7.28it/s, now=None]"
     ]
    },
    {
     "name": "stderr",
     "output_type": "stream",
     "text": [
      "\r",
      "t:  86%|█████████████████████████████████████████████████████████████████████████████▉             | 879/1026 [01:49<00:19,  7.67it/s, now=None]"
     ]
    },
    {
     "name": "stderr",
     "output_type": "stream",
     "text": [
      "\r",
      "t:  86%|██████████████████████████████████████████████████████████████████████████████▏            | 881/1026 [01:49<00:17,  8.25it/s, now=None]"
     ]
    },
    {
     "name": "stderr",
     "output_type": "stream",
     "text": [
      "\r",
      "t:  86%|██████████████████████████████████████████████████████████████████████████████▏            | 882/1026 [01:49<00:17,  8.40it/s, now=None]"
     ]
    },
    {
     "name": "stderr",
     "output_type": "stream",
     "text": [
      "\r",
      "t:  86%|██████████████████████████████████████████████████████████████████████████████▎            | 883/1026 [01:49<00:16,  8.58it/s, now=None]"
     ]
    },
    {
     "name": "stderr",
     "output_type": "stream",
     "text": [
      "\r",
      "t:  86%|██████████████████████████████████████████████████████████████████████████████▍            | 884/1026 [01:49<00:19,  7.24it/s, now=None]"
     ]
    },
    {
     "name": "stderr",
     "output_type": "stream",
     "text": [
      "\r",
      "t:  86%|██████████████████████████████████████████████████████████████████████████████▍            | 885/1026 [01:49<00:18,  7.51it/s, now=None]"
     ]
    },
    {
     "name": "stderr",
     "output_type": "stream",
     "text": [
      "\r",
      "t:  86%|██████████████████████████████████████████████████████████████████████████████▌            | 886/1026 [01:50<00:17,  7.95it/s, now=None]"
     ]
    },
    {
     "name": "stderr",
     "output_type": "stream",
     "text": [
      "\r",
      "t:  86%|██████████████████████████████████████████████████████████████████████████████▋            | 887/1026 [01:50<00:17,  8.17it/s, now=None]"
     ]
    },
    {
     "name": "stderr",
     "output_type": "stream",
     "text": [
      "\r",
      "t:  87%|██████████████████████████████████████████████████████████████████████████████▊            | 888/1026 [01:50<00:16,  8.22it/s, now=None]"
     ]
    },
    {
     "name": "stderr",
     "output_type": "stream",
     "text": [
      "\r",
      "t:  87%|██████████████████████████████████████████████████████████████████████████████▉            | 890/1026 [01:50<00:17,  7.79it/s, now=None]"
     ]
    },
    {
     "name": "stderr",
     "output_type": "stream",
     "text": [
      "\r",
      "t:  87%|███████████████████████████████████████████████████████████████████████████████            | 891/1026 [01:50<00:16,  8.16it/s, now=None]"
     ]
    },
    {
     "name": "stderr",
     "output_type": "stream",
     "text": [
      "\r",
      "t:  87%|███████████████████████████████████████████████████████████████████████████████            | 892/1026 [01:50<00:15,  8.47it/s, now=None]"
     ]
    },
    {
     "name": "stderr",
     "output_type": "stream",
     "text": [
      "\r",
      "t:  87%|███████████████████████████████████████████████████████████████████████████████▏           | 893/1026 [01:50<00:15,  8.59it/s, now=None]"
     ]
    },
    {
     "name": "stderr",
     "output_type": "stream",
     "text": [
      "\r",
      "t:  87%|███████████████████████████████████████████████████████████████████████████████▎           | 894/1026 [01:50<00:15,  8.73it/s, now=None]"
     ]
    },
    {
     "name": "stderr",
     "output_type": "stream",
     "text": [
      "\r",
      "t:  87%|███████████████████████████████████████████████████████████████████████████████▍           | 895/1026 [01:51<00:14,  8.98it/s, now=None]"
     ]
    },
    {
     "name": "stderr",
     "output_type": "stream",
     "text": [
      "\r",
      "t:  87%|███████████████████████████████████████████████████████████████████████████████▍           | 896/1026 [01:51<00:16,  7.70it/s, now=None]"
     ]
    },
    {
     "name": "stderr",
     "output_type": "stream",
     "text": [
      "\r",
      "t:  87%|███████████████████████████████████████████████████████████████████████████████▌           | 897/1026 [01:51<00:16,  8.05it/s, now=None]"
     ]
    },
    {
     "name": "stderr",
     "output_type": "stream",
     "text": [
      "\r",
      "t:  88%|███████████████████████████████████████████████████████████████████████████████▋           | 899/1026 [01:51<00:14,  8.87it/s, now=None]"
     ]
    },
    {
     "name": "stderr",
     "output_type": "stream",
     "text": [
      "\r",
      "t:  88%|███████████████████████████████████████████████████████████████████████████████▊           | 900/1026 [01:51<00:13,  9.06it/s, now=None]"
     ]
    },
    {
     "name": "stderr",
     "output_type": "stream",
     "text": [
      "\r",
      "t:  88%|███████████████████████████████████████████████████████████████████████████████▉           | 901/1026 [01:51<00:13,  9.19it/s, now=None]"
     ]
    },
    {
     "name": "stderr",
     "output_type": "stream",
     "text": [
      "\r",
      "t:  88%|████████████████████████████████████████████████████████████████████████████████           | 902/1026 [01:51<00:15,  7.87it/s, now=None]"
     ]
    },
    {
     "name": "stderr",
     "output_type": "stream",
     "text": [
      "\r",
      "t:  88%|████████████████████████████████████████████████████████████████████████████████           | 903/1026 [01:52<00:15,  8.18it/s, now=None]"
     ]
    },
    {
     "name": "stderr",
     "output_type": "stream",
     "text": [
      "\r",
      "t:  88%|████████████████████████████████████████████████████████████████████████████████▏          | 904/1026 [01:52<00:14,  8.46it/s, now=None]"
     ]
    },
    {
     "name": "stderr",
     "output_type": "stream",
     "text": [
      "\r",
      "t:  88%|████████████████████████████████████████████████████████████████████████████████▎          | 905/1026 [01:52<00:14,  8.41it/s, now=None]"
     ]
    },
    {
     "name": "stderr",
     "output_type": "stream",
     "text": [
      "\r",
      "t:  88%|████████████████████████████████████████████████████████████████████████████████▎          | 906/1026 [01:52<00:14,  8.45it/s, now=None]"
     ]
    },
    {
     "name": "stderr",
     "output_type": "stream",
     "text": [
      "\r",
      "t:  88%|████████████████████████████████████████████████████████████████████████████████▍          | 907/1026 [01:52<00:13,  8.76it/s, now=None]"
     ]
    },
    {
     "name": "stderr",
     "output_type": "stream",
     "text": [
      "\r",
      "t:  88%|████████████████████████████████████████████████████████████████████████████████▌          | 908/1026 [01:52<00:15,  7.38it/s, now=None]"
     ]
    },
    {
     "name": "stderr",
     "output_type": "stream",
     "text": [
      "\r",
      "t:  89%|████████████████████████████████████████████████████████████████████████████████▌          | 909/1026 [01:52<00:14,  7.83it/s, now=None]"
     ]
    },
    {
     "name": "stderr",
     "output_type": "stream",
     "text": [
      "\r",
      "t:  89%|████████████████████████████████████████████████████████████████████████████████▊          | 911/1026 [01:52<00:13,  8.74it/s, now=None]"
     ]
    },
    {
     "name": "stderr",
     "output_type": "stream",
     "text": [
      "\r",
      "t:  89%|████████████████████████████████████████████████████████████████████████████████▉          | 912/1026 [01:53<00:12,  8.82it/s, now=None]"
     ]
    },
    {
     "name": "stderr",
     "output_type": "stream",
     "text": [
      "\r",
      "t:  89%|████████████████████████████████████████████████████████████████████████████████▉          | 913/1026 [01:53<00:12,  9.02it/s, now=None]"
     ]
    },
    {
     "name": "stderr",
     "output_type": "stream",
     "text": [
      "\r",
      "t:  89%|█████████████████████████████████████████████████████████████████████████████████          | 914/1026 [01:53<00:14,  7.64it/s, now=None]"
     ]
    },
    {
     "name": "stderr",
     "output_type": "stream",
     "text": [
      "\r",
      "t:  89%|█████████████████████████████████████████████████████████████████████████████████▏         | 915/1026 [01:53<00:13,  7.99it/s, now=None]"
     ]
    },
    {
     "name": "stderr",
     "output_type": "stream",
     "text": [
      "\r",
      "t:  89%|█████████████████████████████████████████████████████████████████████████████████▏         | 916/1026 [01:53<00:13,  8.38it/s, now=None]"
     ]
    },
    {
     "name": "stderr",
     "output_type": "stream",
     "text": [
      "\r",
      "t:  89%|█████████████████████████████████████████████████████████████████████████████████▎         | 917/1026 [01:53<00:12,  8.50it/s, now=None]"
     ]
    },
    {
     "name": "stderr",
     "output_type": "stream",
     "text": [
      "\r",
      "t:  89%|█████████████████████████████████████████████████████████████████████████████████▍         | 918/1026 [01:53<00:12,  8.60it/s, now=None]"
     ]
    },
    {
     "name": "stderr",
     "output_type": "stream",
     "text": [
      "\r",
      "t:  90%|█████████████████████████████████████████████████████████████████████████████████▌         | 920/1026 [01:54<00:13,  7.72it/s, now=None]"
     ]
    },
    {
     "name": "stderr",
     "output_type": "stream",
     "text": [
      "\r",
      "t:  90%|█████████████████████████████████████████████████████████████████████████████████▊         | 922/1026 [01:54<00:12,  8.65it/s, now=None]"
     ]
    },
    {
     "name": "stderr",
     "output_type": "stream",
     "text": [
      "\r",
      "t:  90%|█████████████████████████████████████████████████████████████████████████████████▊         | 923/1026 [01:54<00:11,  8.73it/s, now=None]"
     ]
    },
    {
     "name": "stderr",
     "output_type": "stream",
     "text": [
      "\r",
      "t:  90%|█████████████████████████████████████████████████████████████████████████████████▉         | 924/1026 [01:54<00:11,  8.80it/s, now=None]"
     ]
    },
    {
     "name": "stderr",
     "output_type": "stream",
     "text": [
      "\r",
      "t:  90%|██████████████████████████████████████████████████████████████████████████████████         | 925/1026 [01:54<00:11,  9.00it/s, now=None]"
     ]
    },
    {
     "name": "stderr",
     "output_type": "stream",
     "text": [
      "\r",
      "t:  90%|██████████████████████████████████████████████████████████████████████████████████▏        | 926/1026 [01:54<00:13,  7.65it/s, now=None]"
     ]
    },
    {
     "name": "stderr",
     "output_type": "stream",
     "text": [
      "\r",
      "t:  90%|██████████████████████████████████████████████████████████████████████████████████▏        | 927/1026 [01:54<00:12,  8.16it/s, now=None]"
     ]
    },
    {
     "name": "stderr",
     "output_type": "stream",
     "text": [
      "\r",
      "t:  90%|██████████████████████████████████████████████████████████████████████████████████▎        | 928/1026 [01:55<00:11,  8.53it/s, now=None]"
     ]
    },
    {
     "name": "stderr",
     "output_type": "stream",
     "text": [
      "\r",
      "t:  91%|██████████████████████████████████████████████████████████████████████████████████▍        | 929/1026 [01:55<00:11,  8.55it/s, now=None]"
     ]
    },
    {
     "name": "stderr",
     "output_type": "stream",
     "text": [
      "\r",
      "t:  91%|██████████████████████████████████████████████████████████████████████████████████▍        | 930/1026 [01:55<00:11,  8.49it/s, now=None]"
     ]
    },
    {
     "name": "stderr",
     "output_type": "stream",
     "text": [
      "\r",
      "t:  91%|██████████████████████████████████████████████████████████████████████████████████▌        | 931/1026 [01:55<00:10,  8.72it/s, now=None]"
     ]
    },
    {
     "name": "stderr",
     "output_type": "stream",
     "text": [
      "\r",
      "t:  91%|██████████████████████████████████████████████████████████████████████████████████▋        | 932/1026 [01:55<00:13,  7.23it/s, now=None]"
     ]
    },
    {
     "name": "stderr",
     "output_type": "stream",
     "text": [
      "\r",
      "t:  91%|██████████████████████████████████████████████████████████████████████████████████▊        | 933/1026 [01:55<00:12,  7.63it/s, now=None]"
     ]
    },
    {
     "name": "stderr",
     "output_type": "stream",
     "text": [
      "\r",
      "t:  91%|██████████████████████████████████████████████████████████████████████████████████▊        | 934/1026 [01:55<00:11,  7.98it/s, now=None]"
     ]
    },
    {
     "name": "stderr",
     "output_type": "stream",
     "text": [
      "\r",
      "t:  91%|██████████████████████████████████████████████████████████████████████████████████▉        | 935/1026 [01:55<00:11,  8.03it/s, now=None]"
     ]
    },
    {
     "name": "stderr",
     "output_type": "stream",
     "text": [
      "\r",
      "t:  91%|███████████████████████████████████████████████████████████████████████████████████        | 936/1026 [01:56<00:10,  8.24it/s, now=None]"
     ]
    },
    {
     "name": "stderr",
     "output_type": "stream",
     "text": [
      "\r",
      "t:  91%|███████████████████████████████████████████████████████████████████████████████████        | 937/1026 [01:56<00:10,  8.49it/s, now=None]"
     ]
    },
    {
     "name": "stderr",
     "output_type": "stream",
     "text": [
      "\r",
      "t:  91%|███████████████████████████████████████████████████████████████████████████████████▏       | 938/1026 [01:56<00:12,  7.09it/s, now=None]"
     ]
    },
    {
     "name": "stderr",
     "output_type": "stream",
     "text": [
      "\r",
      "t:  92%|███████████████████████████████████████████████████████████████████████████████████▎       | 939/1026 [01:56<00:11,  7.41it/s, now=None]"
     ]
    },
    {
     "name": "stderr",
     "output_type": "stream",
     "text": [
      "\r",
      "t:  92%|███████████████████████████████████████████████████████████████████████████████████▎       | 940/1026 [01:56<00:10,  7.87it/s, now=None]"
     ]
    },
    {
     "name": "stderr",
     "output_type": "stream",
     "text": [
      "\r",
      "t:  92%|███████████████████████████████████████████████████████████████████████████████████▍       | 941/1026 [01:56<00:10,  7.97it/s, now=None]"
     ]
    },
    {
     "name": "stderr",
     "output_type": "stream",
     "text": [
      "\r",
      "t:  92%|███████████████████████████████████████████████████████████████████████████████████▌       | 942/1026 [01:56<00:10,  8.03it/s, now=None]"
     ]
    },
    {
     "name": "stderr",
     "output_type": "stream",
     "text": [
      "\r",
      "t:  92%|███████████████████████████████████████████████████████████████████████████████████▋       | 944/1026 [01:57<00:11,  7.40it/s, now=None]"
     ]
    },
    {
     "name": "stderr",
     "output_type": "stream",
     "text": [
      "\r",
      "t:  92%|███████████████████████████████████████████████████████████████████████████████████▊       | 945/1026 [01:57<00:10,  7.56it/s, now=None]"
     ]
    },
    {
     "name": "stderr",
     "output_type": "stream",
     "text": [
      "\r",
      "t:  92%|███████████████████████████████████████████████████████████████████████████████████▉       | 946/1026 [01:57<00:10,  7.93it/s, now=None]"
     ]
    },
    {
     "name": "stderr",
     "output_type": "stream",
     "text": [
      "\r",
      "t:  92%|███████████████████████████████████████████████████████████████████████████████████▉       | 947/1026 [01:57<00:09,  8.15it/s, now=None]"
     ]
    },
    {
     "name": "stderr",
     "output_type": "stream",
     "text": [
      "\r",
      "t:  92%|████████████████████████████████████████████████████████████████████████████████████       | 948/1026 [01:57<00:09,  8.17it/s, now=None]"
     ]
    },
    {
     "name": "stderr",
     "output_type": "stream",
     "text": [
      "\r",
      "t:  92%|████████████████████████████████████████████████████████████████████████████████████▏      | 949/1026 [01:57<00:09,  8.44it/s, now=None]"
     ]
    },
    {
     "name": "stderr",
     "output_type": "stream",
     "text": [
      "\r",
      "t:  93%|████████████████████████████████████████████████████████████████████████████████████▎      | 950/1026 [01:57<00:10,  6.98it/s, now=None]"
     ]
    },
    {
     "name": "stderr",
     "output_type": "stream",
     "text": [
      "\r",
      "t:  93%|████████████████████████████████████████████████████████████████████████████████████▎      | 951/1026 [01:58<00:10,  7.31it/s, now=None]"
     ]
    },
    {
     "name": "stderr",
     "output_type": "stream",
     "text": [
      "\r",
      "t:  93%|████████████████████████████████████████████████████████████████████████████████████▌      | 953/1026 [01:58<00:09,  8.03it/s, now=None]"
     ]
    },
    {
     "name": "stderr",
     "output_type": "stream",
     "text": [
      "\r",
      "t:  93%|████████████████████████████████████████████████████████████████████████████████████▌      | 954/1026 [01:58<00:08,  8.23it/s, now=None]"
     ]
    },
    {
     "name": "stderr",
     "output_type": "stream",
     "text": [
      "\r",
      "t:  93%|████████████████████████████████████████████████████████████████████████████████████▊      | 956/1026 [01:58<00:09,  7.57it/s, now=None]"
     ]
    },
    {
     "name": "stderr",
     "output_type": "stream",
     "text": [
      "\r",
      "t:  93%|████████████████████████████████████████████████████████████████████████████████████▉      | 957/1026 [01:58<00:08,  7.71it/s, now=None]"
     ]
    },
    {
     "name": "stderr",
     "output_type": "stream",
     "text": [
      "\r",
      "t:  93%|████████████████████████████████████████████████████████████████████████████████████▉      | 958/1026 [01:58<00:08,  8.17it/s, now=None]"
     ]
    },
    {
     "name": "stderr",
     "output_type": "stream",
     "text": [
      "\r",
      "t:  93%|█████████████████████████████████████████████████████████████████████████████████████      | 959/1026 [01:58<00:08,  8.32it/s, now=None]"
     ]
    },
    {
     "name": "stderr",
     "output_type": "stream",
     "text": [
      "\r",
      "t:  94%|█████████████████████████████████████████████████████████████████████████████████████▏     | 960/1026 [01:59<00:07,  8.30it/s, now=None]"
     ]
    },
    {
     "name": "stderr",
     "output_type": "stream",
     "text": [
      "\r",
      "t:  94%|█████████████████████████████████████████████████████████████████████████████████████▏     | 961/1026 [01:59<00:07,  8.69it/s, now=None]"
     ]
    },
    {
     "name": "stderr",
     "output_type": "stream",
     "text": [
      "\r",
      "t:  94%|█████████████████████████████████████████████████████████████████████████████████████▎     | 962/1026 [01:59<00:08,  7.22it/s, now=None]"
     ]
    },
    {
     "name": "stderr",
     "output_type": "stream",
     "text": [
      "\r",
      "t:  94%|█████████████████████████████████████████████████████████████████████████████████████▍     | 963/1026 [01:59<00:08,  7.64it/s, now=None]"
     ]
    },
    {
     "name": "stderr",
     "output_type": "stream",
     "text": [
      "\r",
      "t:  94%|█████████████████████████████████████████████████████████████████████████████████████▌     | 964/1026 [01:59<00:07,  8.05it/s, now=None]"
     ]
    },
    {
     "name": "stderr",
     "output_type": "stream",
     "text": [
      "\r",
      "t:  94%|█████████████████████████████████████████████████████████████████████████████████████▌     | 965/1026 [01:59<00:07,  8.29it/s, now=None]"
     ]
    },
    {
     "name": "stderr",
     "output_type": "stream",
     "text": [
      "\r",
      "t:  94%|█████████████████████████████████████████████████████████████████████████████████████▋     | 966/1026 [01:59<00:07,  8.40it/s, now=None]"
     ]
    },
    {
     "name": "stderr",
     "output_type": "stream",
     "text": [
      "\r",
      "t:  94%|█████████████████████████████████████████████████████████████████████████████████████▊     | 967/1026 [01:59<00:06,  8.79it/s, now=None]"
     ]
    },
    {
     "name": "stderr",
     "output_type": "stream",
     "text": [
      "\r",
      "t:  94%|█████████████████████████████████████████████████████████████████████████████████████▊     | 968/1026 [02:00<00:08,  7.22it/s, now=None]"
     ]
    },
    {
     "name": "stderr",
     "output_type": "stream",
     "text": [
      "\r",
      "t:  94%|█████████████████████████████████████████████████████████████████████████████████████▉     | 969/1026 [02:00<00:07,  7.81it/s, now=None]"
     ]
    },
    {
     "name": "stderr",
     "output_type": "stream",
     "text": [
      "\r",
      "t:  95%|██████████████████████████████████████████████████████████████████████████████████████     | 971/1026 [02:00<00:06,  8.86it/s, now=None]"
     ]
    },
    {
     "name": "stderr",
     "output_type": "stream",
     "text": [
      "\r",
      "t:  95%|██████████████████████████████████████████████████████████████████████████████████████▏    | 972/1026 [02:00<00:06,  8.87it/s, now=None]"
     ]
    },
    {
     "name": "stderr",
     "output_type": "stream",
     "text": [
      "\r",
      "t:  95%|██████████████████████████████████████████████████████████████████████████████████████▎    | 973/1026 [02:00<00:05,  9.04it/s, now=None]"
     ]
    },
    {
     "name": "stderr",
     "output_type": "stream",
     "text": [
      "\r",
      "t:  95%|██████████████████████████████████████████████████████████████████████████████████████▍    | 974/1026 [02:00<00:06,  7.62it/s, now=None]"
     ]
    },
    {
     "name": "stderr",
     "output_type": "stream",
     "text": [
      "\r",
      "t:  95%|██████████████████████████████████████████████████████████████████████████████████████▍    | 975/1026 [02:00<00:06,  8.13it/s, now=None]"
     ]
    },
    {
     "name": "stderr",
     "output_type": "stream",
     "text": [
      "\r",
      "t:  95%|██████████████████████████████████████████████████████████████████████████████████████▌    | 976/1026 [02:01<00:05,  8.50it/s, now=None]"
     ]
    },
    {
     "name": "stderr",
     "output_type": "stream",
     "text": [
      "\r",
      "t:  95%|██████████████████████████████████████████████████████████████████████████████████████▋    | 978/1026 [02:01<00:05,  9.19it/s, now=None]"
     ]
    },
    {
     "name": "stderr",
     "output_type": "stream",
     "text": [
      "\r",
      "t:  96%|██████████████████████████████████████████████████████████████████████████████████████▉    | 980/1026 [02:01<00:05,  8.25it/s, now=None]"
     ]
    },
    {
     "name": "stderr",
     "output_type": "stream",
     "text": [
      "\r",
      "t:  96%|███████████████████████████████████████████████████████████████████████████████████████    | 982/1026 [02:01<00:04,  8.97it/s, now=None]"
     ]
    },
    {
     "name": "stderr",
     "output_type": "stream",
     "text": [
      "\r",
      "t:  96%|███████████████████████████████████████████████████████████████████████████████████████▏   | 983/1026 [02:01<00:04,  9.09it/s, now=None]"
     ]
    },
    {
     "name": "stderr",
     "output_type": "stream",
     "text": [
      "\r",
      "t:  96%|███████████████████████████████████████████████████████████████████████████████████████▎   | 984/1026 [02:01<00:04,  9.07it/s, now=None]"
     ]
    },
    {
     "name": "stderr",
     "output_type": "stream",
     "text": [
      "\r",
      "t:  96%|███████████████████████████████████████████████████████████████████████████████████████▍   | 986/1026 [02:02<00:04,  8.10it/s, now=None]"
     ]
    },
    {
     "name": "stderr",
     "output_type": "stream",
     "text": [
      "\r",
      "t:  96%|███████████████████████████████████████████████████████████████████████████████████████▌   | 987/1026 [02:02<00:04,  8.12it/s, now=None]"
     ]
    },
    {
     "name": "stderr",
     "output_type": "stream",
     "text": [
      "\r",
      "t:  96%|███████████████████████████████████████████████████████████████████████████████████████▋   | 988/1026 [02:02<00:04,  8.34it/s, now=None]"
     ]
    },
    {
     "name": "stderr",
     "output_type": "stream",
     "text": [
      "\r",
      "t:  96%|███████████████████████████████████████████████████████████████████████████████████████▋   | 989/1026 [02:02<00:04,  8.46it/s, now=None]"
     ]
    },
    {
     "name": "stderr",
     "output_type": "stream",
     "text": [
      "\r",
      "t:  96%|███████████████████████████████████████████████████████████████████████████████████████▊   | 990/1026 [02:02<00:04,  8.58it/s, now=None]"
     ]
    },
    {
     "name": "stderr",
     "output_type": "stream",
     "text": [
      "\r",
      "t:  97%|███████████████████████████████████████████████████████████████████████████████████████▉   | 991/1026 [02:02<00:03,  8.90it/s, now=None]"
     ]
    },
    {
     "name": "stderr",
     "output_type": "stream",
     "text": [
      "\r",
      "t:  97%|███████████████████████████████████████████████████████████████████████████████████████▉   | 992/1026 [02:02<00:04,  7.31it/s, now=None]"
     ]
    },
    {
     "name": "stderr",
     "output_type": "stream",
     "text": [
      "\r",
      "t:  97%|████████████████████████████████████████████████████████████████████████████████████████   | 993/1026 [02:03<00:04,  7.56it/s, now=None]"
     ]
    },
    {
     "name": "stderr",
     "output_type": "stream",
     "text": [
      "\r",
      "t:  97%|████████████████████████████████████████████████████████████████████████████████████████▏  | 994/1026 [02:03<00:04,  7.95it/s, now=None]"
     ]
    },
    {
     "name": "stderr",
     "output_type": "stream",
     "text": [
      "\r",
      "t:  97%|████████████████████████████████████████████████████████████████████████████████████████▎  | 995/1026 [02:03<00:03,  8.02it/s, now=None]"
     ]
    },
    {
     "name": "stderr",
     "output_type": "stream",
     "text": [
      "\r",
      "t:  97%|████████████████████████████████████████████████████████████████████████████████████████▎  | 996/1026 [02:03<00:03,  8.10it/s, now=None]"
     ]
    },
    {
     "name": "stderr",
     "output_type": "stream",
     "text": [
      "\r",
      "t:  97%|████████████████████████████████████████████████████████████████████████████████████████▍  | 997/1026 [02:03<00:03,  8.37it/s, now=None]"
     ]
    },
    {
     "name": "stderr",
     "output_type": "stream",
     "text": [
      "\r",
      "t:  97%|████████████████████████████████████████████████████████████████████████████████████████▌  | 998/1026 [02:03<00:03,  7.04it/s, now=None]"
     ]
    },
    {
     "name": "stderr",
     "output_type": "stream",
     "text": [
      "\r",
      "t:  97%|████████████████████████████████████████████████████████████████████████████████████████▌  | 999/1026 [02:03<00:03,  7.35it/s, now=None]"
     ]
    },
    {
     "name": "stderr",
     "output_type": "stream",
     "text": [
      "\r",
      "t:  97%|███████████████████████████████████████████████████████████████████████████████████████▋  | 1000/1026 [02:03<00:03,  7.82it/s, now=None]"
     ]
    },
    {
     "name": "stderr",
     "output_type": "stream",
     "text": [
      "\r",
      "t:  98%|███████████████████████████████████████████████████████████████████████████████████████▊  | 1001/1026 [02:04<00:03,  8.12it/s, now=None]"
     ]
    },
    {
     "name": "stderr",
     "output_type": "stream",
     "text": [
      "\r",
      "t:  98%|███████████████████████████████████████████████████████████████████████████████████████▉  | 1002/1026 [02:04<00:02,  8.13it/s, now=None]"
     ]
    },
    {
     "name": "stderr",
     "output_type": "stream",
     "text": [
      "\r",
      "t:  98%|███████████████████████████████████████████████████████████████████████████████████████▉  | 1003/1026 [02:04<00:02,  8.42it/s, now=None]"
     ]
    },
    {
     "name": "stderr",
     "output_type": "stream",
     "text": [
      "\r",
      "t:  98%|████████████████████████████████████████████████████████████████████████████████████████  | 1004/1026 [02:04<00:03,  7.03it/s, now=None]"
     ]
    },
    {
     "name": "stderr",
     "output_type": "stream",
     "text": [
      "\r",
      "t:  98%|████████████████████████████████████████████████████████████████████████████████████████▏ | 1005/1026 [02:04<00:02,  7.36it/s, now=None]"
     ]
    },
    {
     "name": "stderr",
     "output_type": "stream",
     "text": [
      "\r",
      "t:  98%|████████████████████████████████████████████████████████████████████████████████████████▏ | 1006/1026 [02:04<00:02,  7.84it/s, now=None]"
     ]
    },
    {
     "name": "stderr",
     "output_type": "stream",
     "text": [
      "\r",
      "t:  98%|████████████████████████████████████████████████████████████████████████████████████████▎ | 1007/1026 [02:04<00:02,  8.12it/s, now=None]"
     ]
    },
    {
     "name": "stderr",
     "output_type": "stream",
     "text": [
      "\r",
      "t:  98%|████████████████████████████████████████████████████████████████████████████████████████▍ | 1008/1026 [02:04<00:02,  8.17it/s, now=None]"
     ]
    },
    {
     "name": "stderr",
     "output_type": "stream",
     "text": [
      "\r",
      "t:  98%|████████████████████████████████████████████████████████████████████████████████████████▌ | 1009/1026 [02:05<00:02,  8.44it/s, now=None]"
     ]
    },
    {
     "name": "stderr",
     "output_type": "stream",
     "text": [
      "\r",
      "t:  98%|████████████████████████████████████████████████████████████████████████████████████████▌ | 1010/1026 [02:05<00:02,  7.05it/s, now=None]"
     ]
    },
    {
     "name": "stderr",
     "output_type": "stream",
     "text": [
      "\r",
      "t:  99%|████████████████████████████████████████████████████████████████████████████████████████▋ | 1011/1026 [02:05<00:01,  7.51it/s, now=None]"
     ]
    },
    {
     "name": "stderr",
     "output_type": "stream",
     "text": [
      "\r",
      "t:  99%|████████████████████████████████████████████████████████████████████████████████████████▊ | 1013/1026 [02:05<00:01,  8.18it/s, now=None]"
     ]
    },
    {
     "name": "stderr",
     "output_type": "stream",
     "text": [
      "\r",
      "t:  99%|████████████████████████████████████████████████████████████████████████████████████████▉ | 1014/1026 [02:05<00:01,  8.32it/s, now=None]"
     ]
    },
    {
     "name": "stderr",
     "output_type": "stream",
     "text": [
      "\r",
      "t:  99%|█████████████████████████████████████████████████████████████████████████████████████████ | 1015/1026 [02:05<00:01,  8.54it/s, now=None]"
     ]
    },
    {
     "name": "stderr",
     "output_type": "stream",
     "text": [
      "\r",
      "t:  99%|█████████████████████████████████████████████████████████████████████████████████████████ | 1016/1026 [02:06<00:01,  7.17it/s, now=None]"
     ]
    },
    {
     "name": "stderr",
     "output_type": "stream",
     "text": [
      "\r",
      "t:  99%|█████████████████████████████████████████████████████████████████████████████████████████▏| 1017/1026 [02:06<00:01,  7.40it/s, now=None]"
     ]
    },
    {
     "name": "stderr",
     "output_type": "stream",
     "text": [
      "\r",
      "t:  99%|█████████████████████████████████████████████████████████████████████████████████████████▎| 1018/1026 [02:06<00:01,  7.84it/s, now=None]"
     ]
    },
    {
     "name": "stderr",
     "output_type": "stream",
     "text": [
      "\r",
      "t:  99%|█████████████████████████████████████████████████████████████████████████████████████████▍| 1019/1026 [02:06<00:00,  7.94it/s, now=None]"
     ]
    },
    {
     "name": "stderr",
     "output_type": "stream",
     "text": [
      "\r",
      "t:  99%|█████████████████████████████████████████████████████████████████████████████████████████▍| 1020/1026 [02:06<00:00,  8.15it/s, now=None]"
     ]
    },
    {
     "name": "stderr",
     "output_type": "stream",
     "text": [
      "\r",
      "t: 100%|█████████████████████████████████████████████████████████████████████████████████████████▋| 1022/1026 [02:06<00:00,  7.49it/s, now=None]"
     ]
    },
    {
     "name": "stderr",
     "output_type": "stream",
     "text": [
      "\r",
      "t: 100%|█████████████████████████████████████████████████████████████████████████████████████████▋| 1023/1026 [02:06<00:00,  7.79it/s, now=None]"
     ]
    },
    {
     "name": "stderr",
     "output_type": "stream",
     "text": [
      "\r",
      "t: 100%|█████████████████████████████████████████████████████████████████████████████████████████▉| 1025/1026 [02:07<00:00,  8.29it/s, now=None]"
     ]
    },
    {
     "name": "stderr",
     "output_type": "stream",
     "text": [
      "\r",
      "t: 100%|██████████████████████████████████████████████████████████████████████████████████████████| 1026/1026 [02:07<00:00,  8.30it/s, now=None]"
     ]
    },
    {
     "name": "stderr",
     "output_type": "stream",
     "text": [
      "\r",
      "                                                                                                                                                "
     ]
    },
    {
     "name": "stderr",
     "output_type": "stream",
     "text": [
      "\r"
     ]
    },
    {
     "name": "stdout",
     "output_type": "stream",
     "text": [
      "Moviepy - Done !\n",
      "Moviepy - video ready outputs/Americas/SVM/probability_animation.mp4\n"
     ]
    }
   ],
   "source": [
    "times = range(171)\n",
    "gplot_kw = dict(\n",
    "    rotation_model=rotation_filenames,\n",
    "    topology_features=feature_filenames,\n",
    "    coastlines=coastlines_filename,\n",
    ")\n",
    "\n",
    "for algorithm in (\"PU\", \"SVM\"):\n",
    "    output_filename = os.path.join(\n",
    "        output_dir,\n",
    "        algorithm,\n",
    "        \"probability_animation.mp4\",\n",
    "    )\n",
    "    probs_dir = os.path.join(output_dir, algorithm, \"probability_grids\")\n",
    "\n",
    "    # Create all plots\n",
    "    with tempfile.TemporaryDirectory() as tmpdir, \\\n",
    "            Parallel(n_jobs=n_jobs, verbose=int(verbose)) as parallel:\n",
    "        output_filenames = [\n",
    "            os.path.join(tmpdir, f\"image_{t:0.0f}Ma.png\")\n",
    "            for t in times\n",
    "        ]\n",
    "        parallel(\n",
    "            delayed(plot)(\n",
    "                gplot=gplot_kw,\n",
    "                probabilities=os.path.join(\n",
    "                    probs_dir,\n",
    "                    f\"probability_grid_{t:0.0f}Ma.nc\",\n",
    "                ),\n",
    "                projection=projection,\n",
    "                time=t,\n",
    "                positives=positives[\n",
    "                    (positives[\"age (Ma)\"] - float(t)).abs()\n",
    "                    <= 2.5\n",
    "                ],\n",
    "                output_filename=o,\n",
    "                central_meridian=-100,\n",
    "            )\n",
    "            for t, o in zip(times, output_filenames)\n",
    "        )\n",
    "\n",
    "        with ImageSequenceClip(output_filenames[::-1], fps=5) as clip:\n",
    "            clip.write_videofile(\n",
    "                output_filename,\n",
    "                fps=30,\n",
    "                codec=\"mpeg4\",\n",
    "                bitrate=\"5000k\",\n",
    "                audio=False,\n",
    "                threads=n_jobs,\n",
    "                logger=\"bar\" if verbose else None,\n",
    "                ffmpeg_params=[\n",
    "                    \"-vf\",\n",
    "                    \"pad=ceil(iw/2)*2:ceil(ih/2)*2\",\n",
    "                ],\n",
    "            )\n"
   ]
  },
  {
   "cell_type": "code",
   "execution_count": null,
   "id": "7b0932cf",
   "metadata": {
    "papermill": {
     "duration": 0.084034,
     "end_time": "2023-12-19T23:23:23.134664",
     "exception": false,
     "start_time": "2023-12-19T23:23:23.050630",
     "status": "completed"
    },
    "tags": []
   },
   "outputs": [],
   "source": []
  }
 ],
 "metadata": {
  "kernelspec": {
   "display_name": "datamining",
   "language": "python",
   "name": "python3"
  },
  "language_info": {
   "codemirror_mode": {
    "name": "ipython",
    "version": 3
   },
   "file_extension": ".py",
   "mimetype": "text/x-python",
   "name": "python",
   "nbconvert_exporter": "python",
   "pygments_lexer": "ipython3",
   "version": "3.11.6"
  },
  "papermill": {
   "default_parameters": {},
   "duration": 688.834601,
   "end_time": "2023-12-19T23:23:26.140034",
   "environment_variables": {},
   "exception": null,
   "input_path": "03-create_probability_animations.ipynb",
   "output_path": "03-create_probability_animations_output.ipynb",
   "parameters": {},
   "start_time": "2023-12-19T23:11:57.305433",
   "version": "2.4.0"
  }
 },
 "nbformat": 4,
 "nbformat_minor": 5
}