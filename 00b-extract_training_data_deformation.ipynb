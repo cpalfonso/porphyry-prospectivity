{
 "cells": [
  {
   "cell_type": "markdown",
   "id": "9e474db9",
   "metadata": {
    "papermill": {
     "duration": 0.006373,
     "end_time": "2025-07-08T01:27:39.069915",
     "exception": false,
     "start_time": "2025-07-08T01:27:39.063542",
     "status": "completed"
    },
    "tags": []
   },
   "source": [
    "# Extract training data\n",
    "\n",
    "This notebook will extract plate kinematic data from a plate model and other data from the `source_data` directory, writing the resulting dataset to a CSV file which can then be used to train the models in the following notebooks (`01*.ipynb`)."
   ]
  },
  {
   "cell_type": "markdown",
   "id": "30cbeab9",
   "metadata": {
    "papermill": {
     "duration": 0.004598,
     "end_time": "2025-07-08T01:27:39.079685",
     "exception": false,
     "start_time": "2025-07-08T01:27:39.075087",
     "status": "completed"
    },
    "tags": []
   },
   "source": [
    "## Notebook options\n",
    "\n",
    "These cells set some of the important variables and definitions used throughout the notebook."
   ]
  },
  {
   "cell_type": "code",
   "execution_count": 1,
   "id": "c2d98f0b",
   "metadata": {
    "execution": {
     "iopub.execute_input": "2025-07-08T01:27:39.089856Z",
     "iopub.status.busy": "2025-07-08T01:27:39.089578Z",
     "iopub.status.idle": "2025-07-08T01:27:39.094174Z",
     "shell.execute_reply": "2025-07-08T01:27:39.093511Z"
    },
    "papermill": {
     "duration": 0.011492,
     "end_time": "2025-07-08T01:27:39.095811",
     "exception": false,
     "start_time": "2025-07-08T01:27:39.084319",
     "status": "completed"
    },
    "tags": []
   },
   "outputs": [],
   "source": [
    "config_file = \"notebook_parameters_deformation.yml\""
   ]
  },
  {
   "cell_type": "code",
   "execution_count": 2,
   "id": "52a81cf2",
   "metadata": {
    "execution": {
     "iopub.execute_input": "2025-07-08T01:27:39.105852Z",
     "iopub.status.busy": "2025-07-08T01:27:39.105602Z",
     "iopub.status.idle": "2025-07-08T01:27:39.156768Z",
     "shell.execute_reply": "2025-07-08T01:27:39.155934Z"
    },
    "papermill": {
     "duration": 0.057903,
     "end_time": "2025-07-08T01:27:39.158232",
     "exception": false,
     "start_time": "2025-07-08T01:27:39.100329",
     "status": "completed"
    },
    "tags": []
   },
   "outputs": [],
   "source": [
    "from lib.load_params import get_params\n",
    "\n",
    "params = get_params(config_file, notebook=\"00b\")\n",
    "\n",
    "# Directory for output\n",
    "data_dir = params[\"extracted_data_dir\"]\n",
    "output_dir = data_dir\n",
    "\n",
    "# Number of processes to use\n",
    "n_jobs = params[\"n_jobs\"]\n",
    "\n",
    "# Overwrite any existing output files\n",
    "overwrite = params[\"overwrite_output\"]\n",
    "\n",
    "# Control verbosity level of logging output\n",
    "verbose = params[\"verbose\"]\n",
    "\n",
    "# Timespan for analysis\n",
    "min_time = params[\"timespan\"][\"min\"]\n",
    "max_time = params[\"timespan\"][\"max\"]\n",
    "times = range(min_time, max_time + 1)\n",
    "\n",
    "# Number of unlabelled points to generate\n",
    "num_unlabelled = params[\"num_unlabelled\"]  # per timestep\n",
    "\n",
    "# Random seed for reproducibility\n",
    "random_seed = params[\"random_seed\"]\n",
    "\n",
    "# CSV file with known deposits; columns:\n",
    "# lon, lat, age (Ma)\n",
    "deposits_filename = params[\"deposits_filename\"]\n",
    "\n",
    "# If desired, categorise deposits according to location\n",
    "# Should be a shapefile or GeoJSON containing polygons\n",
    "# with a 'region' attribute\n",
    "regions_filename = params[\"regions_filename\"]"
   ]
  },
  {
   "cell_type": "markdown",
   "id": "ab57c3d5",
   "metadata": {
    "papermill": {
     "duration": 0.006156,
     "end_time": "2025-07-08T01:27:39.170527",
     "exception": false,
     "start_time": "2025-07-08T01:27:39.164371",
     "status": "completed"
    },
    "tags": []
   },
   "source": [
    "### Select plate model\n",
    "\n",
    "To use the plate model from the published paper (Alfonso et al., 2024), set `use_provided_plate_model` to `True`. Otherwise, leave `use_provided_plate_model` as `False` and set `plate_model_name` to a valid model name for the [`plate-model-manager`](https://github.com/michaelchin/plate-model-manager/blob/4f66423b53950bf42f5dac1228e61fd1e19fdf6e/models.json) package, or set `plate_model_name` to `None` and place GPlates files in a directory named `plate_model`.\n",
    "\n",
    "| `use_provided_plate_model` | `plate_model_name` | result |\n",
    "| - | - | - |\n",
    "| `True` | Any | Use Alfonso et al., 2024 model |\n",
    "| `False` | Model name string (e.g. `\"muller2022\"`) | Use specified plate model |\n",
    "| `False` | `None` | Use files in `plate_model` directory |"
   ]
  },
  {
   "cell_type": "code",
   "execution_count": 3,
   "id": "7b7b1534",
   "metadata": {
    "execution": {
     "iopub.execute_input": "2025-07-08T01:27:39.184489Z",
     "iopub.status.busy": "2025-07-08T01:27:39.184184Z",
     "iopub.status.idle": "2025-07-08T01:27:39.187545Z",
     "shell.execute_reply": "2025-07-08T01:27:39.186966Z"
    },
    "papermill": {
     "duration": 0.012167,
     "end_time": "2025-07-08T01:27:39.189123",
     "exception": false,
     "start_time": "2025-07-08T01:27:39.176956",
     "status": "completed"
    },
    "tags": []
   },
   "outputs": [],
   "source": [
    "plate_model_name = params[\"plate_model\"][\"plate_model_name\"]\n",
    "use_provided_plate_model = params[\"plate_model\"][\"use_provided_plate_model\"]"
   ]
  },
  {
   "cell_type": "markdown",
   "id": "0aa8fc32",
   "metadata": {
    "papermill": {
     "duration": 0.004466,
     "end_time": "2025-07-08T01:27:39.198324",
     "exception": false,
     "start_time": "2025-07-08T01:27:39.193858",
     "status": "completed"
    },
    "tags": []
   },
   "source": [
    "## Notebook setup\n",
    "\n",
    "Imports, definitions, etc."
   ]
  },
  {
   "cell_type": "markdown",
   "id": "fce1302b",
   "metadata": {
    "papermill": {
     "duration": 0.004593,
     "end_time": "2025-07-08T01:27:39.207738",
     "exception": false,
     "start_time": "2025-07-08T01:27:39.203145",
     "status": "completed"
    },
    "tags": []
   },
   "source": [
    "### Imports"
   ]
  },
  {
   "cell_type": "code",
   "execution_count": 4,
   "id": "a92a09be",
   "metadata": {
    "execution": {
     "iopub.execute_input": "2025-07-08T01:27:39.217546Z",
     "iopub.status.busy": "2025-07-08T01:27:39.217298Z",
     "iopub.status.idle": "2025-07-08T01:27:43.488847Z",
     "shell.execute_reply": "2025-07-08T01:27:43.488239Z"
    },
    "papermill": {
     "duration": 4.278155,
     "end_time": "2025-07-08T01:27:43.490203",
     "exception": false,
     "start_time": "2025-07-08T01:27:39.212048",
     "status": "completed"
    },
    "tags": []
   },
   "outputs": [
    {
     "name": "stdout",
     "output_type": "stream",
     "text": [
      "env: PYTHONWARNINGS=ignore::UserWarning\n"
     ]
    }
   ],
   "source": [
    "import os\n",
    "import warnings\n",
    "from pathlib import Path\n",
    "\n",
    "import geopandas as gpd\n",
    "import numpy as np\n",
    "import pandas as pd\n",
    "import pygplates\n",
    "with warnings.catch_warnings():\n",
    "    warnings.simplefilter(\"ignore\", UserWarning)\n",
    "    from gplately.tools import plate_isotherm_depth\n",
    "\n",
    "from lib.assign_regions import assign_regions\n",
    "from lib.calculate_convergence import run_calculate_convergence\n",
    "from lib.check_files import (\n",
    "    check_source_data,\n",
    "    check_plate_model,\n",
    ")\n",
    "from lib.combine_point_data import combine_point_data\n",
    "from lib.coregister_combined_point_data import run_coregister_combined_point_data\n",
    "from lib.coregister_crustal_thickness import run_coregister_crustal_thickness\n",
    "from lib.coregister_ocean_rasters import (\n",
    "    extract_subducted_thickness,\n",
    "    run_coregister_ocean_rasters,\n",
    ")\n",
    "from lib.create_study_area_polygons import run_create_study_area_polygons\n",
    "from lib.deformation import extract_strain_and_rate, extract_strain_history\n",
    "from lib.erodep import calculate_erodep\n",
    "from lib.generate_unlabelled_points import generate_unlabelled_points\n",
    "from lib.misc import calculate_slab_flux, calculate_carbon\n",
    "from lib.plate_models import get_plate_reconstruction\n",
    "from lib.slab_dip import calculate_slab_dip\n",
    "from lib.subduction_history import extract_subduction_history\n",
    "from lib.water import calculate_water_thickness\n",
    "\n",
    "# Suppress occasional joblib warnings\n",
    "%env PYTHONWARNINGS=ignore::UserWarning\n",
    "warnings.simplefilter(\"ignore\", UserWarning)\n",
    "warnings.simplefilter(\"ignore\", pd.errors.PerformanceWarning)"
   ]
  },
  {
   "attachments": {},
   "cell_type": "markdown",
   "id": "880580d1",
   "metadata": {
    "papermill": {
     "duration": 0.004246,
     "end_time": "2025-07-08T01:27:43.499259",
     "exception": false,
     "start_time": "2025-07-08T01:27:43.495013",
     "status": "completed"
    },
    "tags": []
   },
   "source": [
    "### Input and output files"
   ]
  },
  {
   "cell_type": "markdown",
   "id": "08e17a79",
   "metadata": {
    "papermill": {
     "duration": 0.004153,
     "end_time": "2025-07-08T01:27:43.507557",
     "exception": false,
     "start_time": "2025-07-08T01:27:43.503404",
     "status": "completed"
    },
    "tags": []
   },
   "source": [
    "If necessary, the plate model will be downloaded:"
   ]
  },
  {
   "cell_type": "code",
   "execution_count": 5,
   "id": "60656f7c",
   "metadata": {
    "execution": {
     "iopub.execute_input": "2025-07-08T01:27:43.517992Z",
     "iopub.status.busy": "2025-07-08T01:27:43.517676Z",
     "iopub.status.idle": "2025-07-08T01:27:52.588590Z",
     "shell.execute_reply": "2025-07-08T01:27:52.587952Z"
    },
    "papermill": {
     "duration": 9.078203,
     "end_time": "2025-07-08T01:27:52.590079",
     "exception": false,
     "start_time": "2025-07-08T01:27:43.511876",
     "status": "completed"
    },
    "tags": []
   },
   "outputs": [],
   "source": [
    "plate_model_dir = \"plate_model\"\n",
    "if use_provided_plate_model:\n",
    "    check_plate_model(plate_model_dir, verbose=True)\n",
    "    plate_model_name = None\n",
    "plate_model = get_plate_reconstruction(\n",
    "    model_name=plate_model_name,\n",
    "    model_dir=plate_model_dir,\n",
    ")\n",
    "\n",
    "Path(data_dir).mkdir(parents=True, exist_ok=True)"
   ]
  },
  {
   "cell_type": "markdown",
   "id": "489edaa8",
   "metadata": {
    "papermill": {
     "duration": 0.005703,
     "end_time": "2025-07-08T01:27:52.654432",
     "exception": false,
     "start_time": "2025-07-08T01:27:52.648729",
     "status": "completed"
    },
    "tags": []
   },
   "source": [
    "The following input directories are all relative to `data_dir`:"
   ]
  },
  {
   "cell_type": "code",
   "execution_count": null,
   "id": "c7d7de4c",
   "metadata": {
    "execution": {
     "iopub.execute_input": "2025-07-08T01:27:52.667270Z",
     "iopub.status.busy": "2025-07-08T01:27:52.666995Z",
     "iopub.status.idle": "2025-07-08T01:27:52.670909Z",
     "shell.execute_reply": "2025-07-08T01:27:52.670345Z"
    },
    "papermill": {
     "duration": 0.011881,
     "end_time": "2025-07-08T01:27:52.672415",
     "exception": false,
     "start_time": "2025-07-08T01:27:52.660534",
     "status": "completed"
    },
    "tags": []
   },
   "outputs": [],
   "source": [
    "# Seafloor age grid directory\n",
    "# Filename format 'seafloor_age_{time}Ma.nc'\n",
    "agegrid_dir = \"SeafloorAge\"\n",
    "\n",
    "# Seafloor spreading rate directory\n",
    "# Filename format 'spreading_rate_{time}Ma.nc'\n",
    "spreadrate_dir = \"SpreadingRate\"\n",
    "\n",
    "# Seafloor sediment thickness directory\n",
    "# Filename format 'sediment_thickness_{time}Ma.nc'\n",
    "sedthick_dir = \"SedimentThickness\"\n",
    "\n",
    "# Seafloor carbonate sediment thickness directory\n",
    "# Filename format 'carbonate_thickness_{time}Ma.nc'\n",
    "carbonate_dir = \"CarbonateThickness\"\n",
    "\n",
    "# Oceanic crustal CO2 density directory\n",
    "# Filename format 'crustal_co2_{time}Ma.nc'\n",
    "co2_dir = \"CrustalCO2\"\n",
    "\n",
    "# Overriding plate thickness directory\n",
    "# Filename format 'crustal_thickness_{time}Ma.nc'\n",
    "crustal_thickness_dir = \"CrustalThickness\"\n",
    "\n",
    "# Erosion/deposition rate directory\n",
    "# Filename format 'erosion_deposition_{time}Ma.nc'\n",
    "erodep_dir = \"ErosionDeposition\""
   ]
  },
  {
   "cell_type": "code",
   "execution_count": null,
   "id": "32544941",
   "metadata": {
    "execution": {
     "iopub.execute_input": "2025-07-08T01:27:52.685261Z",
     "iopub.status.busy": "2025-07-08T01:27:52.684967Z",
     "iopub.status.idle": "2025-07-08T01:27:52.689665Z",
     "shell.execute_reply": "2025-07-08T01:27:52.689082Z"
    },
    "papermill": {
     "duration": 0.012678,
     "end_time": "2025-07-08T01:27:52.691062",
     "exception": false,
     "start_time": "2025-07-08T01:27:52.678384",
     "status": "completed"
    },
    "tags": []
   },
   "outputs": [],
   "source": [
    "# Handle relative file/directory paths\n",
    "if not os.path.isfile(deposits_filename):\n",
    "    deposits_filename = os.path.join(data_dir, deposits_filename)\n",
    "agegrid_dir = os.path.join(data_dir, agegrid_dir)\n",
    "spreadrate_dir = os.path.join(data_dir, spreadrate_dir)\n",
    "sedthick_dir = os.path.join(data_dir, sedthick_dir)\n",
    "carbonate_dir = os.path.join(data_dir, carbonate_dir)\n",
    "co2_dir = os.path.join(data_dir, co2_dir)\n",
    "crustal_thickness_dir = os.path.join(data_dir, crustal_thickness_dir)\n",
    "erodep_dir = os.path.join(data_dir, erodep_dir)\n",
    "\n",
    "subduction_data_filename = os.path.join(output_dir, \"subducting_plate_data.csv\")\n",
    "study_area_dir = os.path.join(output_dir, \"study_area_polygons\")\n",
    "output_filename = os.path.join(output_dir, \"training_data_global_deformation.csv\")"
   ]
  },
  {
   "attachments": {},
   "cell_type": "markdown",
   "id": "ad4521b6",
   "metadata": {
    "papermill": {
     "duration": 0.005847,
     "end_time": "2025-07-08T01:27:52.702972",
     "exception": false,
     "start_time": "2025-07-08T01:27:52.697125",
     "status": "completed"
    },
    "tags": []
   },
   "source": [
    "### Subducting plate data\n",
    "\n",
    "This cell will extract the subduction kinematics data from the plate model, along with datasets relating to the subducting oceanic plate: seafloor age, sediment and carbonate thickness, etc.\n",
    "However, if this data has already been extracted by another notebook and `overwrite` has not been set to `True`, then the data will be read from that file instead."
   ]
  },
  {
   "cell_type": "code",
   "execution_count": null,
   "id": "61eb7d37",
   "metadata": {
    "execution": {
     "iopub.execute_input": "2025-07-08T01:27:52.715872Z",
     "iopub.status.busy": "2025-07-08T01:27:52.715522Z",
     "iopub.status.idle": "2025-07-08T01:28:18.536576Z",
     "shell.execute_reply": "2025-07-08T01:28:18.535862Z"
    },
    "papermill": {
     "duration": 25.8307,
     "end_time": "2025-07-08T01:28:18.538801",
     "exception": false,
     "start_time": "2025-07-08T01:27:52.708101",
     "status": "completed"
    },
    "tags": []
   },
   "outputs": [],
   "source": [
    "if (\n",
    "    subduction_data_filename is not None and os.path.isfile(subduction_data_filename)\n",
    ") and (not overwrite):\n",
    "    subduction_data = pd.read_csv(subduction_data_filename)\n",
    "else:\n",
    "    subduction_data = run_calculate_convergence(\n",
    "        nprocs=n_jobs,\n",
    "        min_time=min(times),\n",
    "        max_time=max(times),\n",
    "        plate_reconstruction=plate_model,\n",
    "        verbose=verbose,\n",
    "    )\n",
    "\n",
    "    subduction_data = run_coregister_ocean_rasters(\n",
    "        nprocs=n_jobs,\n",
    "        times=times,\n",
    "        input_data=subduction_data,\n",
    "        agegrid_dir=agegrid_dir,\n",
    "        spreadrate_dir=spreadrate_dir,\n",
    "        plate_reconstruction=plate_model,\n",
    "        sedthick_dir=sedthick_dir,\n",
    "        carbonate_dir=carbonate_dir,\n",
    "        co2_dir=co2_dir,\n",
    "        verbose=verbose,\n",
    "    )\n",
    "    subduction_data[\"plate_thickness (m)\"] = plate_isotherm_depth(\n",
    "        subduction_data[\"seafloor_age (Ma)\"],\n",
    "        maxiter=100,\n",
    "    )\n",
    "    subduction_data = calculate_water_thickness(data=subduction_data)\n",
    "    subduction_data = calculate_carbon(subduction_data)\n",
    "    subduction_data = calculate_slab_flux(subduction_data)\n",
    "    subduction_data = calculate_slab_dip(subduction_data)\n",
    "    subduction_data = extract_subducted_thickness(\n",
    "        subduction_data,\n",
    "        plate_reconstruction=plate_model,\n",
    "    )\n",
    "    subduction_data[\"sediment_flux (m^2/yr)\"] = (\n",
    "        subduction_data[\"sediment_thickness (m)\"]\n",
    "        * subduction_data[\"convergence_rate_orthogonal (cm/yr)\"] * 1.0e-2\n",
    "    ).clip(0.0, np.inf)\n",
    "    subduction_data[\"carbon_flux (t/m/yr)\"] = (\n",
    "        subduction_data[\"total_carbon_density (t/m^2)\"]\n",
    "        * subduction_data[\"convergence_rate_orthogonal (cm/yr)\"] * 1.0e-2\n",
    "    ).clip(0.0, np.inf)\n",
    "    subduction_data[\"water_flux (m^2/yr)\"] = (\n",
    "        subduction_data[\"total_water_thickness (m)\"]\n",
    "        * subduction_data[\"convergence_rate_orthogonal (cm/yr)\"] * 1.0e-2\n",
    "    ).clip(0.0, np.inf)\n",
    "\n",
    "    if subduction_data_filename is not None:\n",
    "        subduction_data.to_csv(subduction_data_filename, index=False)"
   ]
  },
  {
   "attachments": {},
   "cell_type": "markdown",
   "id": "c13f1fcf",
   "metadata": {
    "papermill": {
     "duration": 0.020053,
     "end_time": "2025-07-08T01:28:18.571008",
     "exception": false,
     "start_time": "2025-07-08T01:28:18.550955",
     "status": "completed"
    },
    "tags": []
   },
   "source": [
    "### Create study area polygons along subduction zones\n",
    "\n",
    "Here we define our study area as all points on the overriding plate within a certain distance of the subduction zone (by default, $6 \\degree, \\approx 660\\mathrm{km}$)"
   ]
  },
  {
   "cell_type": "code",
   "execution_count": 11,
   "id": "c9007fbf",
   "metadata": {
    "execution": {
     "iopub.execute_input": "2025-07-08T01:28:18.601570Z",
     "iopub.status.busy": "2025-07-08T01:28:18.601317Z",
     "iopub.status.idle": "2025-07-08T01:28:18.605178Z",
     "shell.execute_reply": "2025-07-08T01:28:18.604593Z"
    },
    "papermill": {
     "duration": 0.010911,
     "end_time": "2025-07-08T01:28:18.606566",
     "exception": false,
     "start_time": "2025-07-08T01:28:18.595655",
     "status": "completed"
    },
    "tags": []
   },
   "outputs": [],
   "source": [
    "from lib.create_study_area_polygons import DEFAULT_SZ_BUFFER_DISTANCE\n",
    "\n",
    "buffer_distance = DEFAULT_SZ_BUFFER_DISTANCE  # 6.0\n",
    "\n",
    "if overwrite or not os.path.isdir(study_area_dir):\n",
    "    run_create_study_area_polygons(\n",
    "        nprocs=n_jobs,\n",
    "        times=times,\n",
    "        plate_reconstruction=plate_model,\n",
    "        output_dir=study_area_dir,\n",
    "        buffer_distance=buffer_distance,\n",
    "        verbose=verbose,\n",
    "        return_output=False,\n",
    "    )"
   ]
  },
  {
   "attachments": {},
   "cell_type": "markdown",
   "id": "fd820aa6",
   "metadata": {
    "papermill": {
     "duration": 0.004591,
     "end_time": "2025-07-08T01:28:18.615821",
     "exception": false,
     "start_time": "2025-07-08T01:28:18.611230",
     "status": "completed"
    },
    "tags": []
   },
   "source": [
    "### Generate random unlabelled data points\n",
    "\n",
    "The unlabelled set is created by generating uniformly-distributed random points within the polygons created in the previous cell. To change the number of points generated at each timestep, modify the `num_unlabelled` parameter defined earlier."
   ]
  },
  {
   "cell_type": "code",
   "execution_count": 12,
   "id": "469bcdb3",
   "metadata": {
    "execution": {
     "iopub.execute_input": "2025-07-08T01:28:18.626443Z",
     "iopub.status.busy": "2025-07-08T01:28:18.626176Z",
     "iopub.status.idle": "2025-07-08T01:35:00.742529Z",
     "shell.execute_reply": "2025-07-08T01:35:00.739927Z"
    },
    "papermill": {
     "duration": 402.128068,
     "end_time": "2025-07-08T01:35:00.748273",
     "exception": false,
     "start_time": "2025-07-08T01:28:18.620205",
     "status": "completed"
    },
    "tags": []
   },
   "outputs": [],
   "source": [
    "unlabelled = generate_unlabelled_points(\n",
    "    times=times,\n",
    "    input_dir=study_area_dir,\n",
    "    num=num_unlabelled,\n",
    "    threads=n_jobs,\n",
    "    seed=random_seed,\n",
    "    plate_reconstruction=plate_model,\n",
    "    verbose=verbose,\n",
    ")"
   ]
  },
  {
   "attachments": {},
   "cell_type": "markdown",
   "id": "f8775853",
   "metadata": {
    "papermill": {
     "duration": 0.007164,
     "end_time": "2025-07-08T01:35:00.770402",
     "exception": false,
     "start_time": "2025-07-08T01:35:00.763238",
     "status": "completed"
    },
    "tags": []
   },
   "source": [
    "### Combine labelled deposit/non-deposit data with random unlabelled data\n",
    "\n",
    "The function below wrangles the points generated in the previous cell into the same format as the deposit location data."
   ]
  },
  {
   "cell_type": "code",
   "execution_count": 13,
   "id": "f002d601",
   "metadata": {
    "execution": {
     "iopub.execute_input": "2025-07-08T01:35:00.789256Z",
     "iopub.status.busy": "2025-07-08T01:35:00.788768Z",
     "iopub.status.idle": "2025-07-08T01:37:10.041372Z",
     "shell.execute_reply": "2025-07-08T01:37:10.039508Z"
    },
    "papermill": {
     "duration": 129.268666,
     "end_time": "2025-07-08T01:37:10.045941",
     "exception": false,
     "start_time": "2025-07-08T01:35:00.777275",
     "status": "completed"
    },
    "tags": []
   },
   "outputs": [],
   "source": [
    "combined_points = combine_point_data(\n",
    "    deposit_data=deposits_filename,\n",
    "    unlabelled_data=unlabelled,\n",
    "    plate_reconstruction=plate_model,\n",
    "    study_area_dir=study_area_dir,\n",
    "    min_time=min(times),\n",
    "    max_time=max(times),\n",
    "    n_jobs=n_jobs,\n",
    "    verbose=verbose,\n",
    ")\n",
    "del unlabelled\n",
    "combined_points = combined_points.dropna(subset=[\"present_lon\", \"present_lat\"])"
   ]
  },
  {
   "attachments": {},
   "cell_type": "markdown",
   "id": "5da1c1a7",
   "metadata": {
    "papermill": {
     "duration": 0.006926,
     "end_time": "2025-07-08T01:37:10.066476",
     "exception": false,
     "start_time": "2025-07-08T01:37:10.059550",
     "status": "completed"
    },
    "tags": []
   },
   "source": [
    "### Assign subduction data to point deposit/non-deposit/unlabelled data\n",
    "\n",
    "Here we assign the appropriate values for the subduction-related parameters (kinematics, seafloor age, etc.) to the deposit sites and random locations."
   ]
  },
  {
   "cell_type": "code",
   "execution_count": null,
   "id": "6f932fe0",
   "metadata": {
    "execution": {
     "iopub.execute_input": "2025-07-08T01:37:10.082731Z",
     "iopub.status.busy": "2025-07-08T01:37:10.082453Z",
     "iopub.status.idle": "2025-07-08T01:37:18.146976Z",
     "shell.execute_reply": "2025-07-08T01:37:18.146381Z"
    },
    "papermill": {
     "duration": 8.075349,
     "end_time": "2025-07-08T01:37:18.148537",
     "exception": false,
     "start_time": "2025-07-08T01:37:10.073188",
     "status": "completed"
    },
    "tags": []
   },
   "outputs": [],
   "source": [
    "coregistered_data = run_coregister_combined_point_data(\n",
    "    point_data=combined_points,\n",
    "    subduction_data=subduction_data,\n",
    "    n_jobs=n_jobs,\n",
    "    verbose=verbose,\n",
    ")\n",
    "del combined_points, subduction_data"
   ]
  },
  {
   "attachments": {},
   "cell_type": "markdown",
   "id": "049e3a37",
   "metadata": {
    "papermill": {
     "duration": 0.004658,
     "end_time": "2025-07-08T01:37:18.158406",
     "exception": false,
     "start_time": "2025-07-08T01:37:18.153748",
     "status": "completed"
    },
    "tags": []
   },
   "source": [
    "### Assign crustal thickness data to point data\n",
    "\n",
    "This cell extracts the overriding plate thickness at each point."
   ]
  },
  {
   "cell_type": "code",
   "execution_count": 15,
   "id": "63ca008c",
   "metadata": {
    "execution": {
     "iopub.execute_input": "2025-07-08T01:37:18.172088Z",
     "iopub.status.busy": "2025-07-08T01:37:18.171505Z",
     "iopub.status.idle": "2025-07-08T01:37:25.359797Z",
     "shell.execute_reply": "2025-07-08T01:37:25.359013Z"
    },
    "papermill": {
     "duration": 7.197812,
     "end_time": "2025-07-08T01:37:25.361414",
     "exception": false,
     "start_time": "2025-07-08T01:37:18.163602",
     "status": "completed"
    },
    "tags": []
   },
   "outputs": [],
   "source": [
    "coregistered_data = run_coregister_crustal_thickness(\n",
    "    point_data=coregistered_data,\n",
    "    input_dir=crustal_thickness_dir,\n",
    "    n_jobs=n_jobs,\n",
    "    verbose=verbose,\n",
    ")"
   ]
  },
  {
   "cell_type": "markdown",
   "id": "930468be",
   "metadata": {
    "papermill": {
     "duration": 0.006602,
     "end_time": "2025-07-08T01:37:25.373592",
     "exception": false,
     "start_time": "2025-07-08T01:37:25.366990",
     "status": "completed"
    },
    "tags": []
   },
   "source": [
    "### Calculate cumulative erosion\n",
    "\n",
    "Here we calculate the cumulative erosion experienced by each deposit/random point since its time of formation."
   ]
  },
  {
   "cell_type": "code",
   "execution_count": 16,
   "id": "15fe4a5c",
   "metadata": {
    "execution": {
     "iopub.execute_input": "2025-07-08T01:37:25.388554Z",
     "iopub.status.busy": "2025-07-08T01:37:25.388290Z",
     "iopub.status.idle": "2025-07-08T01:38:25.682674Z",
     "shell.execute_reply": "2025-07-08T01:38:25.681998Z"
    },
    "papermill": {
     "duration": 60.304332,
     "end_time": "2025-07-08T01:38:25.684390",
     "exception": false,
     "start_time": "2025-07-08T01:37:25.380058",
     "status": "completed"
    },
    "tags": []
   },
   "outputs": [],
   "source": [
    "coregistered_data = calculate_erodep(\n",
    "    coregistered_data,\n",
    "    input_dir=erodep_dir,\n",
    "    n_jobs=n_jobs,\n",
    "    column_name=\"erosion (m)\",\n",
    "    verbose=verbose,\n",
    ")"
   ]
  },
  {
   "cell_type": "markdown",
   "id": "a4d0d00f",
   "metadata": {
    "papermill": {
     "duration": 0.007302,
     "end_time": "2025-07-08T01:38:25.704455",
     "exception": false,
     "start_time": "2025-07-08T01:38:25.697153",
     "status": "completed"
    },
    "tags": []
   },
   "source": [
    "### Assign data to regions\n",
    "\n",
    "To divide the data into individual regions for the later analysis, we use the `regions_filename` defined earlier, if desired."
   ]
  },
  {
   "cell_type": "code",
   "execution_count": 17,
   "id": "98a93d0e",
   "metadata": {
    "execution": {
     "iopub.execute_input": "2025-07-08T01:38:25.719479Z",
     "iopub.status.busy": "2025-07-08T01:38:25.719006Z",
     "iopub.status.idle": "2025-07-08T01:38:25.805796Z",
     "shell.execute_reply": "2025-07-08T01:38:25.805197Z"
    },
    "papermill": {
     "duration": 0.096271,
     "end_time": "2025-07-08T01:38:25.807315",
     "exception": false,
     "start_time": "2025-07-08T01:38:25.711044",
     "status": "completed"
    },
    "tags": []
   },
   "outputs": [],
   "source": [
    "if regions_filename is not None and os.path.isfile(regions_filename):\n",
    "    points = gpd.GeoSeries.from_xy(\n",
    "        coregistered_data[\"present_lon\"],\n",
    "        coregistered_data[\"present_lat\"],\n",
    "        index=coregistered_data.index,\n",
    "    )\n",
    "    coregistered_data[\"region\"] = assign_regions(\n",
    "        points,\n",
    "        regions=regions_filename,\n",
    "    )\n",
    "    del points"
   ]
  },
  {
   "cell_type": "markdown",
   "id": "0def3555",
   "metadata": {
    "papermill": {
     "duration": 0.005785,
     "end_time": "2025-07-08T01:38:25.819294",
     "exception": false,
     "start_time": "2025-07-08T01:38:25.813509",
     "status": "completed"
    },
    "tags": []
   },
   "source": [
    "### Add strain rate and cumulative strain"
   ]
  },
  {
   "cell_type": "code",
   "execution_count": 18,
   "id": "d52ba7ee",
   "metadata": {
    "execution": {
     "iopub.execute_input": "2025-07-08T01:38:25.831484Z",
     "iopub.status.busy": "2025-07-08T01:38:25.831088Z",
     "iopub.status.idle": "2025-07-08T01:43:29.873991Z",
     "shell.execute_reply": "2025-07-08T01:43:29.872048Z"
    },
    "papermill": {
     "duration": 304.060036,
     "end_time": "2025-07-08T01:43:29.884887",
     "exception": false,
     "start_time": "2025-07-08T01:38:25.824851",
     "status": "completed"
    },
    "tags": []
   },
   "outputs": [],
   "source": [
    "topological_model = pygplates.TopologicalModel(\n",
    "    topological_features=plate_model.topology_features,\n",
    "    rotation_model=plate_model.rotation_model,\n",
    ")\n",
    "coregistered_data = extract_strain_and_rate(\n",
    "    coregistered_data,\n",
    "    topological_model=topological_model,\n",
    "    max_time=170,\n",
    ")\n",
    "coregistered_data = extract_strain_history(\n",
    "    coregistered_data,\n",
    "    topological_model=topological_model,\n",
    "    time_window=10,\n",
    ")"
   ]
  },
  {
   "cell_type": "markdown",
   "id": "15be29d4",
   "metadata": {
    "papermill": {
     "duration": 0.006683,
     "end_time": "2025-07-08T01:43:29.905254",
     "exception": false,
     "start_time": "2025-07-08T01:43:29.898571",
     "status": "completed"
    },
    "tags": []
   },
   "source": [
    "### Save to file\n",
    "\n",
    "Finally, we write the dataset to a CSV file."
   ]
  },
  {
   "cell_type": "code",
   "execution_count": 19,
   "id": "a3de5c45",
   "metadata": {
    "execution": {
     "iopub.execute_input": "2025-07-08T01:43:29.921850Z",
     "iopub.status.busy": "2025-07-08T01:43:29.921522Z",
     "iopub.status.idle": "2025-07-08T01:43:31.514606Z",
     "shell.execute_reply": "2025-07-08T01:43:31.514011Z"
    },
    "papermill": {
     "duration": 1.660288,
     "end_time": "2025-07-08T01:43:31.571905",
     "exception": false,
     "start_time": "2025-07-08T01:43:29.911617",
     "status": "completed"
    },
    "tags": []
   },
   "outputs": [
    {
     "data": {
      "text/plain": [
       "region          label     \n",
       "East Asia       negative         7\n",
       "                positive         2\n",
       "                unlabelled    2773\n",
       "North America   negative        45\n",
       "                positive       192\n",
       "                unlabelled    2663\n",
       "Other           negative       203\n",
       "                positive         1\n",
       "                unlabelled    1394\n",
       "South America   negative      1096\n",
       "                positive       188\n",
       "                unlabelled    2653\n",
       "Southeast Asia  negative         4\n",
       "                positive        53\n",
       "                unlabelled    3347\n",
       "Tethys          negative        20\n",
       "                positive        56\n",
       "                unlabelled    2254\n",
       "dtype: int64"
      ]
     },
     "execution_count": 19,
     "metadata": {},
     "output_type": "execute_result"
    }
   ],
   "source": [
    "coregistered_data.to_csv(output_filename, index=False)\n",
    "\n",
    "coregistered_data.groupby([\"region\", \"label\"]).size()"
   ]
  },
  {
   "cell_type": "code",
   "execution_count": null,
   "id": "a78df4c5",
   "metadata": {
    "papermill": {
     "duration": 0.006582,
     "end_time": "2025-07-08T01:43:31.585381",
     "exception": false,
     "start_time": "2025-07-08T01:43:31.578799",
     "status": "completed"
    },
    "tags": []
   },
   "outputs": [],
   "source": []
  }
 ],
 "metadata": {
  "kernelspec": {
   "display_name": "prospectivity-test",
   "language": "python",
   "name": "python3"
  },
  "language_info": {
   "codemirror_mode": {
    "name": "ipython",
    "version": 3
   },
   "file_extension": ".py",
   "mimetype": "text/x-python",
   "name": "python",
   "nbconvert_exporter": "python",
   "pygments_lexer": "ipython3",
   "version": "3.13.5"
  },
  "papermill": {
   "default_parameters": {},
   "duration": 957.150082,
   "end_time": "2025-07-08T01:43:34.637508",
   "environment_variables": {},
   "exception": null,
   "input_path": "00b-extract_training_data_deformation.ipynb",
   "output_path": "00b-extract_training_data_deformation_output.ipynb",
   "parameters": {},
   "start_time": "2025-07-08T01:27:37.487426",
   "version": "2.4.0"
  }
 },
 "nbformat": 4,
 "nbformat_minor": 5
}
